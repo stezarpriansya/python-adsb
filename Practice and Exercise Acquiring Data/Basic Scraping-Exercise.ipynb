{
 "cells": [
  {
   "cell_type": "code",
   "execution_count": 1,
   "metadata": {},
   "outputs": [],
   "source": [
    "import requests\n",
    "from bs4 import BeautifulSoup"
   ]
  },
  {
   "cell_type": "markdown",
   "metadata": {},
   "source": [
    "Anda diminta untuk mencari seluruh profile dari perusahaan kompetitor anda. Pekerjaan anda dimulai dengan AHM.\n",
    "Anda diminta untuk mendapatkan informasi sebagai berikut:\n",
    "\n",
    "1. Corporate Profile\n",
    "2. Referensi Standard\n",
    "3. Visi & Misi\n",
    "\n",
    "HINT: Please check the documentation as well as the data format that provided by BeautifulSoup"
   ]
  },
  {
   "cell_type": "code",
   "execution_count": 2,
   "metadata": {},
   "outputs": [],
   "source": [
    "url = 'http://www.astra-honda.com/corporate'\n",
    "\n",
    "# Make the request and create the response object: response\n",
    "response = requests.get(url)\n",
    "\n",
    "# Extract HTML texts contained in Response object: html\n",
    "html = response.text\n",
    "\n",
    "# Create a BeautifulSoup object from the HTML: soup\n",
    "soup = BeautifulSoup(html, \"html5lib\")"
   ]
  },
  {
   "cell_type": "markdown",
   "metadata": {},
   "source": [
    "# Corporate Profile"
   ]
  },
  {
   "cell_type": "code",
   "execution_count": 18,
   "metadata": {},
   "outputs": [
    {
     "name": "stdout",
     "output_type": "stream",
     "text": [
      "\n",
      "                            PT Astra Honda Motor (AHM) merupakan sinergi keunggulan teknologi dan jaringan pemasaran di Indonesia, sebuah pengembangan kerja sama anatara Honda Motor Company Limited, Jepang, dan PT Astra International Tbk, Indonesia. Keunggulan teknologi Honda Motor diakui di seluruh dunia dan telah dibuktikan dalam berbagai kesempatan, baik di jalan raya maupun di lintasan balap. Honda pun mengembangkan teknologi yang mampu menjawab kebutuhan pelanggan yaitu mesin “bandel” dan irit bahan bakar, sehingga menjadikannya sebagai pelopor kendaraan roda dua yang ekonomis.\n",
      "                            Tidak heran, jika harga jual kembali sepeda motor Honda tetap tinggi. AHM memiliki pengetahuan yang komprehensif tentang kebutuhan para pemakai sepeda motor di Indonesia, berkat jaringan pemasaran dan pengalamannya yang luas. AHM juga mampu memfasilitasi pembelian dan memberikan pelayanan purna jual sedemikian rupa sehingga brand Honda semakin unggul.\n",
      "                        \n",
      "\n",
      " \n"
     ]
    }
   ],
   "source": [
    "# Find the text for corporate profile\n",
    "soupCorporate = soup.findAll('div', class_=\"bottom\")\n",
    "for prof in soupCorporate:\n",
    "    print(prof.text+'\\n\\n ')"
   ]
  },
  {
   "cell_type": "code",
   "execution_count": 19,
   "metadata": {},
   "outputs": [
    {
     "name": "stdout",
     "output_type": "stream",
     "text": [
      "\n",
      "                        \n",
      "                            Pertumbuhan konsumen sepeda motor meningkat luar biasa. Di tengah-tengah persaingan yang begitu tajam akibat banyaknya merek pendatang baru, sepeda motor Honda yang sudah lama berada di Indonesia, dengan segala keunggulannya, tetap mendominasi pasar dan sekaligus memenuhi kebutuhan angkutan yang tangguh, irit dan ekonomis. Menjawab tantangan tersebut, organisasi yang berada di balik kesuksesan sepeda motor Honda di Indonesia terus memperkuat diri.\n",
      "                        \n",
      "                        \n",
      "                            PT Astra Honda Motor (AHM) merupakan sinergi keunggulan teknologi dan jaringan pemasaran di Indonesia, sebuah pengembangan kerja sama anatara Honda Motor Company Limited, Jepang, dan PT Astra International Tbk, Indonesia. Keunggulan teknologi Honda Motor diakui di seluruh dunia dan telah dibuktikan dalam berbagai kesempatan, baik di jalan raya maupun di lintasan balap. Honda pun mengembangkan teknologi yang mampu menjawab kebutuhan pelanggan yaitu mesin “bandel” dan irit bahan bakar, sehingga menjadikannya sebagai pelopor kendaraan roda dua yang ekonomis.\n",
      "                            Tidak heran, jika harga jual kembali sepeda motor Honda tetap tinggi. AHM memiliki pengetahuan yang komprehensif tentang kebutuhan para pemakai sepeda motor di Indonesia, berkat jaringan pemasaran dan pengalamannya yang luas. AHM juga mampu memfasilitasi pembelian dan memberikan pelayanan purna jual sedemikian rupa sehingga brand Honda semakin unggul.\n",
      "                        \n",
      "                    \n",
      "\n",
      " \n"
     ]
    }
   ],
   "source": [
    "# Find the text for corporate profile\n",
    "# Hint: you can use class attributes\n",
    "soupCorporate1 = soup.findAll('div',attrs={\"class\" : \"caption\"})\n",
    "for prof in soupCorporate1:\n",
    "    print(prof.text+'\\n\\n ')"
   ]
  },
  {
   "cell_type": "code",
   "execution_count": 22,
   "metadata": {},
   "outputs": [],
   "source": [
    "# Find the text for content\n",
    "textCorporate = soupCorporate1"
   ]
  },
  {
   "cell_type": "code",
   "execution_count": 23,
   "metadata": {},
   "outputs": [
    {
     "name": "stdout",
     "output_type": "stream",
     "text": [
      "\n",
      "                        \n",
      "                            Pertumbuhan konsumen sepeda motor meningkat luar biasa. Di tengah-tengah persaingan yang begitu tajam akibat banyaknya merek pendatang baru, sepeda motor Honda yang sudah lama berada di Indonesia, dengan segala keunggulannya, tetap mendominasi pasar dan sekaligus memenuhi kebutuhan angkutan yang tangguh, irit dan ekonomis. Menjawab tantangan tersebut, organisasi yang berada di balik kesuksesan sepeda motor Honda di Indonesia terus memperkuat diri.\n",
      "                        \n",
      "                        \n",
      "                            PT Astra Honda Motor (AHM) merupakan sinergi keunggulan teknologi dan jaringan pemasaran di Indonesia, sebuah pengembangan kerja sama anatara Honda Motor Company Limited, Jepang, dan PT Astra International Tbk, Indonesia. Keunggulan teknologi Honda Motor diakui di seluruh dunia dan telah dibuktikan dalam berbagai kesempatan, baik di jalan raya maupun di lintasan balap. Honda pun mengembangkan teknologi yang mampu menjawab kebutuhan pelanggan yaitu mesin “bandel” dan irit bahan bakar, sehingga menjadikannya sebagai pelopor kendaraan roda dua yang ekonomis.\n",
      "                            Tidak heran, jika harga jual kembali sepeda motor Honda tetap tinggi. AHM memiliki pengetahuan yang komprehensif tentang kebutuhan para pemakai sepeda motor di Indonesia, berkat jaringan pemasaran dan pengalamannya yang luas. AHM juga mampu memfasilitasi pembelian dan memberikan pelayanan purna jual sedemikian rupa sehingga brand Honda semakin unggul.\n",
      "                        \n",
      "                    \n",
      "\n",
      " \n"
     ]
    }
   ],
   "source": [
    "for text in textCorporate:\n",
    "    print(text.text+'\\n\\n ')"
   ]
  },
  {
   "cell_type": "markdown",
   "metadata": {},
   "source": [
    "# Referensi Standard"
   ]
  },
  {
   "cell_type": "code",
   "execution_count": 48,
   "metadata": {},
   "outputs": [
    {
     "data": {
      "text/plain": [
       "<td>Referensi Standar</td>"
      ]
     },
     "execution_count": 48,
     "metadata": {},
     "output_type": "execute_result"
    }
   ],
   "source": [
    "# Find the text for standard\n",
    "# Hint: you can use table element & Content as string\n",
    "soupStandard = soup.find('td', string='Referensi Standar')"
   ]
  },
  {
   "cell_type": "code",
   "execution_count": 53,
   "metadata": {},
   "outputs": [
    {
     "data": {
      "text/plain": [
       "<tr>\n",
       "                                    <td>Referensi Standar</td>\n",
       "                                    <td> :</td>\n",
       "                                    <td>JIS (Japan Industrial Standard)<br/>\n",
       "                                    SII (Standar Industri Indonesia)<br/>\n",
       "                                    SNI (Standar Nasional Indonesia)<br/>\n",
       "                                    HES (Honda Engineering Standard)<br/>\n",
       "                                    ISO 9001<br/>\n",
       "                                    ISO 14001<br/>\n",
       "                                    ISO 17025<br/>\n",
       "                                    OHSAS 18001</td>\n",
       "                                </tr>"
      ]
     },
     "execution_count": 53,
     "metadata": {},
     "output_type": "execute_result"
    }
   ],
   "source": [
    "# Find the parent element\n",
    "# Read docs on how to do it\n",
    "\n",
    "tableStandar = soupStandard.parent"
   ]
  },
  {
   "cell_type": "code",
   "execution_count": 61,
   "metadata": {},
   "outputs": [],
   "source": [
    "# Find all the table element as well\n",
    "# Hint: look at the data structure\n",
    "\n",
    "standarTd = tableStandar.find_all('td')"
   ]
  },
  {
   "cell_type": "code",
   "execution_count": 63,
   "metadata": {},
   "outputs": [
    {
     "data": {
      "text/plain": [
       "<td>JIS (Japan Industrial Standard)<br/>\n",
       "                                    SII (Standar Industri Indonesia)<br/>\n",
       "                                    SNI (Standar Nasional Indonesia)<br/>\n",
       "                                    HES (Honda Engineering Standard)<br/>\n",
       "                                    ISO 9001<br/>\n",
       "                                    ISO 14001<br/>\n",
       "                                    ISO 17025<br/>\n",
       "                                    OHSAS 18001</td>"
      ]
     },
     "execution_count": 63,
     "metadata": {},
     "output_type": "execute_result"
    }
   ],
   "source": [
    "# Get the standar content\n",
    "# Look at the data structure\n",
    "standars = standarTd[2]"
   ]
  },
  {
   "cell_type": "code",
   "execution_count": 64,
   "metadata": {},
   "outputs": [],
   "source": [
    "# Optional: Erase br\n",
    "for e in standars.findAll('br'):\n",
    "    e.extract()"
   ]
  },
  {
   "cell_type": "code",
   "execution_count": 66,
   "metadata": {},
   "outputs": [
    {
     "name": "stdout",
     "output_type": "stream",
     "text": [
      "JIS (Japan Industrial Standard)\n",
      "                                    SII (Standar Industri Indonesia)\n",
      "                                    SNI (Standar Nasional Indonesia)\n",
      "                                    HES (Honda Engineering Standard)\n",
      "                                    ISO 9001\n",
      "                                    ISO 14001\n",
      "                                    ISO 17025\n",
      "                                    OHSAS 18001\n"
     ]
    }
   ],
   "source": [
    "print(standars.text)"
   ]
  },
  {
   "cell_type": "markdown",
   "metadata": {},
   "source": [
    "# Visi & Misi"
   ]
  },
  {
   "cell_type": "code",
   "execution_count": 83,
   "metadata": {},
   "outputs": [
    {
     "name": "stdout",
     "output_type": "stream",
     "text": [
      "Visi : AHM ingin menjadi pemimpin pasar sepeda motor di Indonesia dan menjadi pemain kelas dunia, dengan mewujudkan impian konsumen, menciptakan kegembiraan bagi konsumen dan berkontribusi kepada masyarakat Indonesia.\n",
      "Misi : Menciptakan solusi mobilitas bagi masyarakat dengan produk dan pelayanan terbaik.\n"
     ]
    }
   ],
   "source": [
    "# Find the text for corporate vision\n",
    "# Inspect page elemet, use parent as well just like previous example if you want\n",
    "soupV = soup.find_all('h4')\n",
    "print(\"Visi : \"+ soupV[1].text)\n",
    "print(\"Misi : \"+ soupV[2].text)\n",
    "# soupV = soupV"
   ]
  }
 ],
 "metadata": {
  "kernelspec": {
   "display_name": "Python 3",
   "language": "python",
   "name": "python3"
  },
  "language_info": {
   "codemirror_mode": {
    "name": "ipython",
    "version": 3
   },
   "file_extension": ".py",
   "mimetype": "text/x-python",
   "name": "python",
   "nbconvert_exporter": "python",
   "pygments_lexer": "ipython3",
   "version": "3.6.4"
  }
 },
 "nbformat": 4,
 "nbformat_minor": 2
}
