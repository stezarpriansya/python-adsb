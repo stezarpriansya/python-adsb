{
 "cells": [
  {
   "cell_type": "code",
   "execution_count": 2,
   "metadata": {},
   "outputs": [],
   "source": [
    "import tweepy\n",
    "import pandas as pd\n",
    "import pprint\n",
    "import json"
   ]
  },
  {
   "cell_type": "code",
   "execution_count": 3,
   "metadata": {},
   "outputs": [],
   "source": [
    "TWITTER_CONSUMER_KEY = \"pnh52i23z3d7oQQ5iyoAUUt9R\"\n",
    "\n",
    "TWITTER_CONSUMER_SECRET = \"IcO0gEMGpMDApG5aUPWzToSE1wsTVC6u1lSVgSHyPcL4yAriv3\"\n",
    "\n",
    "TWITTER_ACCESS_TOKEN = \"204791971-7u94lL9fR2TxhytMM8x38HuflvwTp4wN6KLBIA6x\"\n",
    "\n",
    "TWITTER_ACCESS_TOKEN_SECRET = \"PKSGiyOmY6fgat0saeGDEAgevdvPQHAtai0cfOSbCynW3\""
   ]
  },
  {
   "cell_type": "code",
   "execution_count": 4,
   "metadata": {},
   "outputs": [],
   "source": [
    "auth = tweepy.OAuthHandler(TWITTER_CONSUMER_KEY, TWITTER_CONSUMER_SECRET)\n",
    "auth.set_access_token(TWITTER_ACCESS_TOKEN, TWITTER_ACCESS_TOKEN_SECRET)\n",
    "\n",
    "api = tweepy.API(auth)"
   ]
  },
  {
   "cell_type": "markdown",
   "metadata": {},
   "source": [
    "Tasks:\n",
    "\n",
    "1. Get the three latest tweets from the five latest followers of account 'astra_career' on twitter\n",
    "2. Check latest tweets from 'Astra_career'. Get the latest tweet that was retweeted by users. Find the two latest users that were followed by three users that retweeted it.\n",
    "3. Search for the latest hashtag that is used by 'Astra_career'. Search ten latest tweets that use that Hashtag and get the location of the users.\n",
    "\n",
    "HINT: YOU CAN INSPECT THE STRUCTURE OF TWEEPY OBJECT BY CALLING ._json ON EACH OBJECT!"
   ]
  },
  {
   "cell_type": "markdown",
   "metadata": {},
   "source": [
    "# Task 1"
   ]
  },
  {
   "cell_type": "code",
   "execution_count": 5,
   "metadata": {},
   "outputs": [],
   "source": [
    "account = 'Astra_career'"
   ]
  },
  {
   "cell_type": "code",
   "execution_count": 6,
   "metadata": {},
   "outputs": [],
   "source": [
    "### Fill the code ###\n",
    "# Get the followers of account\n",
    "\n",
    "followers = api.followers(account)"
   ]
  },
  {
   "cell_type": "code",
   "execution_count": 7,
   "metadata": {},
   "outputs": [],
   "source": [
    "### Fill the code ###\n",
    "\n",
    "fiveFollowers = []\n",
    "\n",
    "# Iterate to get follower\n",
    "for i in range(0,5):\n",
    "    fiveFollowers.append(followers[i])\n",
    "    "
   ]
  },
  {
   "cell_type": "code",
   "execution_count": 8,
   "metadata": {},
   "outputs": [
    {
     "name": "stdout",
     "output_type": "stream",
     "text": [
      "[User(_api=<tweepy.api.API object at 0x00000196D9BA2C50>, _json={'id': 996926791032815621, 'id_str': '996926791032815621', 'name': 'Beny Sormin', 'screen_name': 'BenSor80', 'location': 'Riau, Indonesia', 'description': 'Benahi diri sendiri dan jadi pribadi yang dewasa !!', 'url': None, 'entities': {'description': {'urls': []}}, 'protected': True, 'followers_count': 4, 'friends_count': 86, 'listed_count': 0, 'created_at': 'Thu May 17 01:34:03 +0000 2018', 'favourites_count': 4, 'utc_offset': None, 'time_zone': None, 'geo_enabled': False, 'verified': False, 'statuses_count': 11, 'lang': 'id', 'contributors_enabled': False, 'is_translator': False, 'is_translation_enabled': False, 'profile_background_color': 'F5F8FA', 'profile_background_image_url': None, 'profile_background_image_url_https': None, 'profile_background_tile': False, 'profile_image_url': 'http://pbs.twimg.com/profile_images/996929819655815168/1dMKYmbq_normal.jpg', 'profile_image_url_https': 'https://pbs.twimg.com/profile_images/996929819655815168/1dMKYmbq_normal.jpg', 'profile_banner_url': 'https://pbs.twimg.com/profile_banners/996926791032815621/1526571595', 'profile_link_color': '1DA1F2', 'profile_sidebar_border_color': 'C0DEED', 'profile_sidebar_fill_color': 'DDEEF6', 'profile_text_color': '333333', 'profile_use_background_image': True, 'has_extended_profile': True, 'default_profile': True, 'default_profile_image': False, 'following': False, 'live_following': False, 'follow_request_sent': False, 'notifications': False, 'muting': False, 'blocking': False, 'blocked_by': False, 'translator_type': 'none'}, id=996926791032815621, id_str='996926791032815621', name='Beny Sormin', screen_name='BenSor80', location='Riau, Indonesia', description='Benahi diri sendiri dan jadi pribadi yang dewasa !!', url=None, entities={'description': {'urls': []}}, protected=True, followers_count=4, friends_count=86, listed_count=0, created_at=datetime.datetime(2018, 5, 17, 1, 34, 3), favourites_count=4, utc_offset=None, time_zone=None, geo_enabled=False, verified=False, statuses_count=11, lang='id', contributors_enabled=False, is_translator=False, is_translation_enabled=False, profile_background_color='F5F8FA', profile_background_image_url=None, profile_background_image_url_https=None, profile_background_tile=False, profile_image_url='http://pbs.twimg.com/profile_images/996929819655815168/1dMKYmbq_normal.jpg', profile_image_url_https='https://pbs.twimg.com/profile_images/996929819655815168/1dMKYmbq_normal.jpg', profile_banner_url='https://pbs.twimg.com/profile_banners/996926791032815621/1526571595', profile_link_color='1DA1F2', profile_sidebar_border_color='C0DEED', profile_sidebar_fill_color='DDEEF6', profile_text_color='333333', profile_use_background_image=True, has_extended_profile=True, default_profile=True, default_profile_image=False, following=False, live_following=False, follow_request_sent=False, notifications=False, muting=False, blocking=False, blocked_by=False, translator_type='none'), User(_api=<tweepy.api.API object at 0x00000196D9BA2C50>, _json={'id': 269697281, 'id_str': '269697281', 'name': 'R H F', 'screen_name': 'RH_Fauzi', 'location': '', 'description': 'Ingin nya keliling indonesia lalu bercerita betapa indah nya potongan surga yang di turunkan ke bumi ini | pejalan pemula | pendaki baru mau | awesome!!', 'url': None, 'entities': {'description': {'urls': []}}, 'protected': False, 'followers_count': 744, 'friends_count': 774, 'listed_count': 1, 'created_at': 'Mon Mar 21 08:51:28 +0000 2011', 'favourites_count': 359, 'utc_offset': None, 'time_zone': None, 'geo_enabled': True, 'verified': False, 'statuses_count': 27316, 'lang': 'en', 'status': {'created_at': 'Thu May 17 08:20:06 +0000 2018', 'id': 997028976085225472, 'id_str': '997028976085225472', 'text': 'RT @BeasiswaIndo: Jangan lupa untuk melakukan RSVP online sebelum datang ke International Education Expo 2018 ya @icaneducation https://t.c…', 'truncated': False, 'entities': {'hashtags': [], 'symbols': [], 'user_mentions': [{'screen_name': 'BeasiswaIndo', 'name': 'Beasiswa Indonesia', 'id': 162278838, 'id_str': '162278838', 'indices': [3, 16]}, {'screen_name': 'icaneducation', 'name': 'ICAN Education', 'id': 286277914, 'id_str': '286277914', 'indices': [113, 127]}], 'urls': []}, 'source': '<a href=\"https://beasiswaindo.com\" rel=\"nofollow\">Beasiswa Indonesia</a>', 'in_reply_to_status_id': None, 'in_reply_to_status_id_str': None, 'in_reply_to_user_id': None, 'in_reply_to_user_id_str': None, 'in_reply_to_screen_name': None, 'geo': None, 'coordinates': None, 'place': None, 'contributors': None, 'retweeted_status': {'created_at': 'Thu May 17 08:02:02 +0000 2018', 'id': 997024427819778048, 'id_str': '997024427819778048', 'text': 'Jangan lupa untuk melakukan RSVP online sebelum datang ke International Education Expo 2018 ya @icaneducation… https://t.co/vbOTOPJnKt', 'truncated': True, 'entities': {'hashtags': [], 'symbols': [], 'user_mentions': [{'screen_name': 'icaneducation', 'name': 'ICAN Education', 'id': 286277914, 'id_str': '286277914', 'indices': [95, 109]}], 'urls': [{'url': 'https://t.co/vbOTOPJnKt', 'expanded_url': 'https://twitter.com/i/web/status/997024427819778048', 'display_url': 'twitter.com/i/web/status/9…', 'indices': [111, 134]}]}, 'source': '<a href=\"https://beasiswaindo.com\" rel=\"nofollow\">Beasiswa Indonesia</a>', 'in_reply_to_status_id': None, 'in_reply_to_status_id_str': None, 'in_reply_to_user_id': None, 'in_reply_to_user_id_str': None, 'in_reply_to_screen_name': None, 'geo': None, 'coordinates': None, 'place': None, 'contributors': None, 'is_quote_status': False, 'retweet_count': 200, 'favorite_count': 27, 'favorited': False, 'retweeted': False, 'possibly_sensitive': False, 'lang': 'in'}, 'is_quote_status': False, 'retweet_count': 200, 'favorite_count': 0, 'favorited': False, 'retweeted': False, 'lang': 'in'}, 'contributors_enabled': False, 'is_translator': False, 'is_translation_enabled': False, 'profile_background_color': 'C0DEED', 'profile_background_image_url': 'http://abs.twimg.com/images/themes/theme1/bg.png', 'profile_background_image_url_https': 'https://abs.twimg.com/images/themes/theme1/bg.png', 'profile_background_tile': True, 'profile_image_url': 'http://pbs.twimg.com/profile_images/944577812521918472/69BZvwvS_normal.jpg', 'profile_image_url_https': 'https://pbs.twimg.com/profile_images/944577812521918472/69BZvwvS_normal.jpg', 'profile_banner_url': 'https://pbs.twimg.com/profile_banners/269697281/1400731991', 'profile_link_color': '0084B4', 'profile_sidebar_border_color': 'FFFFFF', 'profile_sidebar_fill_color': 'DDEEF6', 'profile_text_color': '333333', 'profile_use_background_image': True, 'has_extended_profile': False, 'default_profile': False, 'default_profile_image': False, 'following': False, 'live_following': False, 'follow_request_sent': False, 'notifications': False, 'muting': False, 'blocking': False, 'blocked_by': False, 'translator_type': 'none'}, id=269697281, id_str='269697281', name='R H F', screen_name='RH_Fauzi', location='', description='Ingin nya keliling indonesia lalu bercerita betapa indah nya potongan surga yang di turunkan ke bumi ini | pejalan pemula | pendaki baru mau | awesome!!', url=None, entities={'description': {'urls': []}}, protected=False, followers_count=744, friends_count=774, listed_count=1, created_at=datetime.datetime(2011, 3, 21, 8, 51, 28), favourites_count=359, utc_offset=None, time_zone=None, geo_enabled=True, verified=False, statuses_count=27316, lang='en', status=Status(_api=<tweepy.api.API object at 0x00000196D9BA2C50>, _json={'created_at': 'Thu May 17 08:20:06 +0000 2018', 'id': 997028976085225472, 'id_str': '997028976085225472', 'text': 'RT @BeasiswaIndo: Jangan lupa untuk melakukan RSVP online sebelum datang ke International Education Expo 2018 ya @icaneducation https://t.c…', 'truncated': False, 'entities': {'hashtags': [], 'symbols': [], 'user_mentions': [{'screen_name': 'BeasiswaIndo', 'name': 'Beasiswa Indonesia', 'id': 162278838, 'id_str': '162278838', 'indices': [3, 16]}, {'screen_name': 'icaneducation', 'name': 'ICAN Education', 'id': 286277914, 'id_str': '286277914', 'indices': [113, 127]}], 'urls': []}, 'source': '<a href=\"https://beasiswaindo.com\" rel=\"nofollow\">Beasiswa Indonesia</a>', 'in_reply_to_status_id': None, 'in_reply_to_status_id_str': None, 'in_reply_to_user_id': None, 'in_reply_to_user_id_str': None, 'in_reply_to_screen_name': None, 'geo': None, 'coordinates': None, 'place': None, 'contributors': None, 'retweeted_status': {'created_at': 'Thu May 17 08:02:02 +0000 2018', 'id': 997024427819778048, 'id_str': '997024427819778048', 'text': 'Jangan lupa untuk melakukan RSVP online sebelum datang ke International Education Expo 2018 ya @icaneducation… https://t.co/vbOTOPJnKt', 'truncated': True, 'entities': {'hashtags': [], 'symbols': [], 'user_mentions': [{'screen_name': 'icaneducation', 'name': 'ICAN Education', 'id': 286277914, 'id_str': '286277914', 'indices': [95, 109]}], 'urls': [{'url': 'https://t.co/vbOTOPJnKt', 'expanded_url': 'https://twitter.com/i/web/status/997024427819778048', 'display_url': 'twitter.com/i/web/status/9…', 'indices': [111, 134]}]}, 'source': '<a href=\"https://beasiswaindo.com\" rel=\"nofollow\">Beasiswa Indonesia</a>', 'in_reply_to_status_id': None, 'in_reply_to_status_id_str': None, 'in_reply_to_user_id': None, 'in_reply_to_user_id_str': None, 'in_reply_to_screen_name': None, 'geo': None, 'coordinates': None, 'place': None, 'contributors': None, 'is_quote_status': False, 'retweet_count': 200, 'favorite_count': 27, 'favorited': False, 'retweeted': False, 'possibly_sensitive': False, 'lang': 'in'}, 'is_quote_status': False, 'retweet_count': 200, 'favorite_count': 0, 'favorited': False, 'retweeted': False, 'lang': 'in'}, created_at=datetime.datetime(2018, 5, 17, 8, 20, 6), id=997028976085225472, id_str='997028976085225472', text='RT @BeasiswaIndo: Jangan lupa untuk melakukan RSVP online sebelum datang ke International Education Expo 2018 ya @icaneducation https://t.c…', truncated=False, entities={'hashtags': [], 'symbols': [], 'user_mentions': [{'screen_name': 'BeasiswaIndo', 'name': 'Beasiswa Indonesia', 'id': 162278838, 'id_str': '162278838', 'indices': [3, 16]}, {'screen_name': 'icaneducation', 'name': 'ICAN Education', 'id': 286277914, 'id_str': '286277914', 'indices': [113, 127]}], 'urls': []}, source='Beasiswa Indonesia', source_url='https://beasiswaindo.com', in_reply_to_status_id=None, in_reply_to_status_id_str=None, in_reply_to_user_id=None, in_reply_to_user_id_str=None, in_reply_to_screen_name=None, geo=None, coordinates=None, place=None, contributors=None, retweeted_status=Status(_api=<tweepy.api.API object at 0x00000196D9BA2C50>, _json={'created_at': 'Thu May 17 08:02:02 +0000 2018', 'id': 997024427819778048, 'id_str': '997024427819778048', 'text': 'Jangan lupa untuk melakukan RSVP online sebelum datang ke International Education Expo 2018 ya @icaneducation… https://t.co/vbOTOPJnKt', 'truncated': True, 'entities': {'hashtags': [], 'symbols': [], 'user_mentions': [{'screen_name': 'icaneducation', 'name': 'ICAN Education', 'id': 286277914, 'id_str': '286277914', 'indices': [95, 109]}], 'urls': [{'url': 'https://t.co/vbOTOPJnKt', 'expanded_url': 'https://twitter.com/i/web/status/997024427819778048', 'display_url': 'twitter.com/i/web/status/9…', 'indices': [111, 134]}]}, 'source': '<a href=\"https://beasiswaindo.com\" rel=\"nofollow\">Beasiswa Indonesia</a>', 'in_reply_to_status_id': None, 'in_reply_to_status_id_str': None, 'in_reply_to_user_id': None, 'in_reply_to_user_id_str': None, 'in_reply_to_screen_name': None, 'geo': None, 'coordinates': None, 'place': None, 'contributors': None, 'is_quote_status': False, 'retweet_count': 200, 'favorite_count': 27, 'favorited': False, 'retweeted': False, 'possibly_sensitive': False, 'lang': 'in'}, created_at=datetime.datetime(2018, 5, 17, 8, 2, 2), id=997024427819778048, id_str='997024427819778048', text='Jangan lupa untuk melakukan RSVP online sebelum datang ke International Education Expo 2018 ya @icaneducation… https://t.co/vbOTOPJnKt', truncated=True, entities={'hashtags': [], 'symbols': [], 'user_mentions': [{'screen_name': 'icaneducation', 'name': 'ICAN Education', 'id': 286277914, 'id_str': '286277914', 'indices': [95, 109]}], 'urls': [{'url': 'https://t.co/vbOTOPJnKt', 'expanded_url': 'https://twitter.com/i/web/status/997024427819778048', 'display_url': 'twitter.com/i/web/status/9…', 'indices': [111, 134]}]}, source='Beasiswa Indonesia', source_url='https://beasiswaindo.com', in_reply_to_status_id=None, in_reply_to_status_id_str=None, in_reply_to_user_id=None, in_reply_to_user_id_str=None, in_reply_to_screen_name=None, geo=None, coordinates=None, place=None, contributors=None, is_quote_status=False, retweet_count=200, favorite_count=27, favorited=False, retweeted=False, possibly_sensitive=False, lang='in'), is_quote_status=False, retweet_count=200, favorite_count=0, favorited=False, retweeted=False, lang='in'), contributors_enabled=False, is_translator=False, is_translation_enabled=False, profile_background_color='C0DEED', profile_background_image_url='http://abs.twimg.com/images/themes/theme1/bg.png', profile_background_image_url_https='https://abs.twimg.com/images/themes/theme1/bg.png', profile_background_tile=True, profile_image_url='http://pbs.twimg.com/profile_images/944577812521918472/69BZvwvS_normal.jpg', profile_image_url_https='https://pbs.twimg.com/profile_images/944577812521918472/69BZvwvS_normal.jpg', profile_banner_url='https://pbs.twimg.com/profile_banners/269697281/1400731991', profile_link_color='0084B4', profile_sidebar_border_color='FFFFFF', profile_sidebar_fill_color='DDEEF6', profile_text_color='333333', profile_use_background_image=True, has_extended_profile=False, default_profile=False, default_profile_image=False, following=False, live_following=False, follow_request_sent=False, notifications=False, muting=False, blocking=False, blocked_by=False, translator_type='none'), User(_api=<tweepy.api.API object at 0x00000196D9BA2C50>, _json={'id': 2311957730, 'id_str': '2311957730', 'name': 'fatah_Go', 'screen_name': 'achmadfatahss', 'location': '', 'description': '', 'url': None, 'entities': {'description': {'urls': []}}, 'protected': False, 'followers_count': 52, 'friends_count': 507, 'listed_count': 0, 'created_at': 'Sun Jan 26 14:40:06 +0000 2014', 'favourites_count': 3, 'utc_offset': None, 'time_zone': None, 'geo_enabled': True, 'verified': False, 'statuses_count': 160, 'lang': 'en', 'status': {'created_at': 'Sun May 13 13:15:52 +0000 2018', 'id': 995653857052057600, 'id_str': '995653857052057600', 'text': '#PrayForSurabaya https://t.co/nkeSDcXCf2', 'truncated': False, 'entities': {'hashtags': [{'text': 'PrayForSurabaya', 'indices': [0, 16]}], 'symbols': [], 'user_mentions': [], 'urls': [], 'media': [{'id': 995653845597368322, 'id_str': '995653845597368322', 'indices': [17, 40], 'media_url': 'http://pbs.twimg.com/media/DdFF5boVMAIndXt.jpg', 'media_url_https': 'https://pbs.twimg.com/media/DdFF5boVMAIndXt.jpg', 'url': 'https://t.co/nkeSDcXCf2', 'display_url': 'pic.twitter.com/nkeSDcXCf2', 'expanded_url': 'https://twitter.com/achmadfatahss/status/995653857052057600/photo/1', 'type': 'photo', 'sizes': {'thumb': {'w': 150, 'h': 150, 'resize': 'crop'}, 'small': {'w': 680, 'h': 661, 'resize': 'fit'}, 'large': {'w': 700, 'h': 680, 'resize': 'fit'}, 'medium': {'w': 700, 'h': 680, 'resize': 'fit'}}}]}, 'extended_entities': {'media': [{'id': 995653845597368322, 'id_str': '995653845597368322', 'indices': [17, 40], 'media_url': 'http://pbs.twimg.com/media/DdFF5boVMAIndXt.jpg', 'media_url_https': 'https://pbs.twimg.com/media/DdFF5boVMAIndXt.jpg', 'url': 'https://t.co/nkeSDcXCf2', 'display_url': 'pic.twitter.com/nkeSDcXCf2', 'expanded_url': 'https://twitter.com/achmadfatahss/status/995653857052057600/photo/1', 'type': 'photo', 'sizes': {'thumb': {'w': 150, 'h': 150, 'resize': 'crop'}, 'small': {'w': 680, 'h': 661, 'resize': 'fit'}, 'large': {'w': 700, 'h': 680, 'resize': 'fit'}, 'medium': {'w': 700, 'h': 680, 'resize': 'fit'}}}]}, 'source': '<a href=\"http://twitter.com/download/android\" rel=\"nofollow\">Twitter for Android</a>', 'in_reply_to_status_id': None, 'in_reply_to_status_id_str': None, 'in_reply_to_user_id': None, 'in_reply_to_user_id_str': None, 'in_reply_to_screen_name': None, 'geo': None, 'coordinates': None, 'place': None, 'contributors': None, 'is_quote_status': False, 'retweet_count': 0, 'favorite_count': 0, 'favorited': False, 'retweeted': False, 'possibly_sensitive': False, 'lang': 'und'}, 'contributors_enabled': False, 'is_translator': False, 'is_translation_enabled': False, 'profile_background_color': 'C0DEED', 'profile_background_image_url': 'http://abs.twimg.com/images/themes/theme1/bg.png', 'profile_background_image_url_https': 'https://abs.twimg.com/images/themes/theme1/bg.png', 'profile_background_tile': False, 'profile_image_url': 'http://pbs.twimg.com/profile_images/805682073801400320/PfoFIHgI_normal.jpg', 'profile_image_url_https': 'https://pbs.twimg.com/profile_images/805682073801400320/PfoFIHgI_normal.jpg', 'profile_banner_url': 'https://pbs.twimg.com/profile_banners/2311957730/1444665207', 'profile_link_color': '1DA1F2', 'profile_sidebar_border_color': 'C0DEED', 'profile_sidebar_fill_color': 'DDEEF6', 'profile_text_color': '333333', 'profile_use_background_image': True, 'has_extended_profile': False, 'default_profile': True, 'default_profile_image': False, 'following': False, 'live_following': False, 'follow_request_sent': False, 'notifications': False, 'muting': False, 'blocking': False, 'blocked_by': False, 'translator_type': 'none'}, id=2311957730, id_str='2311957730', name='fatah_Go', screen_name='achmadfatahss', location='', description='', url=None, entities={'description': {'urls': []}}, protected=False, followers_count=52, friends_count=507, listed_count=0, created_at=datetime.datetime(2014, 1, 26, 14, 40, 6), favourites_count=3, utc_offset=None, time_zone=None, geo_enabled=True, verified=False, statuses_count=160, lang='en', status=Status(_api=<tweepy.api.API object at 0x00000196D9BA2C50>, _json={'created_at': 'Sun May 13 13:15:52 +0000 2018', 'id': 995653857052057600, 'id_str': '995653857052057600', 'text': '#PrayForSurabaya https://t.co/nkeSDcXCf2', 'truncated': False, 'entities': {'hashtags': [{'text': 'PrayForSurabaya', 'indices': [0, 16]}], 'symbols': [], 'user_mentions': [], 'urls': [], 'media': [{'id': 995653845597368322, 'id_str': '995653845597368322', 'indices': [17, 40], 'media_url': 'http://pbs.twimg.com/media/DdFF5boVMAIndXt.jpg', 'media_url_https': 'https://pbs.twimg.com/media/DdFF5boVMAIndXt.jpg', 'url': 'https://t.co/nkeSDcXCf2', 'display_url': 'pic.twitter.com/nkeSDcXCf2', 'expanded_url': 'https://twitter.com/achmadfatahss/status/995653857052057600/photo/1', 'type': 'photo', 'sizes': {'thumb': {'w': 150, 'h': 150, 'resize': 'crop'}, 'small': {'w': 680, 'h': 661, 'resize': 'fit'}, 'large': {'w': 700, 'h': 680, 'resize': 'fit'}, 'medium': {'w': 700, 'h': 680, 'resize': 'fit'}}}]}, 'extended_entities': {'media': [{'id': 995653845597368322, 'id_str': '995653845597368322', 'indices': [17, 40], 'media_url': 'http://pbs.twimg.com/media/DdFF5boVMAIndXt.jpg', 'media_url_https': 'https://pbs.twimg.com/media/DdFF5boVMAIndXt.jpg', 'url': 'https://t.co/nkeSDcXCf2', 'display_url': 'pic.twitter.com/nkeSDcXCf2', 'expanded_url': 'https://twitter.com/achmadfatahss/status/995653857052057600/photo/1', 'type': 'photo', 'sizes': {'thumb': {'w': 150, 'h': 150, 'resize': 'crop'}, 'small': {'w': 680, 'h': 661, 'resize': 'fit'}, 'large': {'w': 700, 'h': 680, 'resize': 'fit'}, 'medium': {'w': 700, 'h': 680, 'resize': 'fit'}}}]}, 'source': '<a href=\"http://twitter.com/download/android\" rel=\"nofollow\">Twitter for Android</a>', 'in_reply_to_status_id': None, 'in_reply_to_status_id_str': None, 'in_reply_to_user_id': None, 'in_reply_to_user_id_str': None, 'in_reply_to_screen_name': None, 'geo': None, 'coordinates': None, 'place': None, 'contributors': None, 'is_quote_status': False, 'retweet_count': 0, 'favorite_count': 0, 'favorited': False, 'retweeted': False, 'possibly_sensitive': False, 'lang': 'und'}, created_at=datetime.datetime(2018, 5, 13, 13, 15, 52), id=995653857052057600, id_str='995653857052057600', text='#PrayForSurabaya https://t.co/nkeSDcXCf2', truncated=False, entities={'hashtags': [{'text': 'PrayForSurabaya', 'indices': [0, 16]}], 'symbols': [], 'user_mentions': [], 'urls': [], 'media': [{'id': 995653845597368322, 'id_str': '995653845597368322', 'indices': [17, 40], 'media_url': 'http://pbs.twimg.com/media/DdFF5boVMAIndXt.jpg', 'media_url_https': 'https://pbs.twimg.com/media/DdFF5boVMAIndXt.jpg', 'url': 'https://t.co/nkeSDcXCf2', 'display_url': 'pic.twitter.com/nkeSDcXCf2', 'expanded_url': 'https://twitter.com/achmadfatahss/status/995653857052057600/photo/1', 'type': 'photo', 'sizes': {'thumb': {'w': 150, 'h': 150, 'resize': 'crop'}, 'small': {'w': 680, 'h': 661, 'resize': 'fit'}, 'large': {'w': 700, 'h': 680, 'resize': 'fit'}, 'medium': {'w': 700, 'h': 680, 'resize': 'fit'}}}]}, extended_entities={'media': [{'id': 995653845597368322, 'id_str': '995653845597368322', 'indices': [17, 40], 'media_url': 'http://pbs.twimg.com/media/DdFF5boVMAIndXt.jpg', 'media_url_https': 'https://pbs.twimg.com/media/DdFF5boVMAIndXt.jpg', 'url': 'https://t.co/nkeSDcXCf2', 'display_url': 'pic.twitter.com/nkeSDcXCf2', 'expanded_url': 'https://twitter.com/achmadfatahss/status/995653857052057600/photo/1', 'type': 'photo', 'sizes': {'thumb': {'w': 150, 'h': 150, 'resize': 'crop'}, 'small': {'w': 680, 'h': 661, 'resize': 'fit'}, 'large': {'w': 700, 'h': 680, 'resize': 'fit'}, 'medium': {'w': 700, 'h': 680, 'resize': 'fit'}}}]}, source='Twitter for Android', source_url='http://twitter.com/download/android', in_reply_to_status_id=None, in_reply_to_status_id_str=None, in_reply_to_user_id=None, in_reply_to_user_id_str=None, in_reply_to_screen_name=None, geo=None, coordinates=None, place=None, contributors=None, is_quote_status=False, retweet_count=0, favorite_count=0, favorited=False, retweeted=False, possibly_sensitive=False, lang='und'), contributors_enabled=False, is_translator=False, is_translation_enabled=False, profile_background_color='C0DEED', profile_background_image_url='http://abs.twimg.com/images/themes/theme1/bg.png', profile_background_image_url_https='https://abs.twimg.com/images/themes/theme1/bg.png', profile_background_tile=False, profile_image_url='http://pbs.twimg.com/profile_images/805682073801400320/PfoFIHgI_normal.jpg', profile_image_url_https='https://pbs.twimg.com/profile_images/805682073801400320/PfoFIHgI_normal.jpg', profile_banner_url='https://pbs.twimg.com/profile_banners/2311957730/1444665207', profile_link_color='1DA1F2', profile_sidebar_border_color='C0DEED', profile_sidebar_fill_color='DDEEF6', profile_text_color='333333', profile_use_background_image=True, has_extended_profile=False, default_profile=True, default_profile_image=False, following=False, live_following=False, follow_request_sent=False, notifications=False, muting=False, blocking=False, blocked_by=False, translator_type='none'), User(_api=<tweepy.api.API object at 0x00000196D9BA2C50>, _json={'id': 65850115, 'id_str': '65850115', 'name': 'Anisa Rahayu N.R.', 'screen_name': 'anisarnr', 'location': 'Yogyakarta', 'description': 'sesungguhnya aku orangnya lebih aneh dari dugaanmu 😳', 'url': None, 'entities': {'description': {'urls': []}}, 'protected': False, 'followers_count': 574, 'friends_count': 419, 'listed_count': 1, 'created_at': 'Sat Aug 15 07:09:46 +0000 2009', 'favourites_count': 234, 'utc_offset': None, 'time_zone': None, 'geo_enabled': True, 'verified': False, 'statuses_count': 24806, 'lang': 'en', 'status': {'created_at': 'Sun May 20 12:33:22 +0000 2018', 'id': 998179876682190848, 'id_str': '998179876682190848', 'text': 'RT @BondanTM: Kadang suka mikir gak melakukan apa-apa dalam hidup atau ngerasa hidup gitu-gitu aja.\\n\\nPadahal lebih serem kalau sebenarnya u…', 'truncated': False, 'entities': {'hashtags': [], 'symbols': [], 'user_mentions': [{'screen_name': 'BondanTM', 'name': 'BONDAN oppa.', 'id': 80577438, 'id_str': '80577438', 'indices': [3, 12]}], 'urls': []}, 'source': '<a href=\"http://twitter.com/download/android\" rel=\"nofollow\">Twitter for Android</a>', 'in_reply_to_status_id': None, 'in_reply_to_status_id_str': None, 'in_reply_to_user_id': None, 'in_reply_to_user_id_str': None, 'in_reply_to_screen_name': None, 'geo': None, 'coordinates': None, 'place': None, 'contributors': None, 'retweeted_status': {'created_at': 'Sun May 20 05:59:13 +0000 2018', 'id': 998080686710910977, 'id_str': '998080686710910977', 'text': 'Kadang suka mikir gak melakukan apa-apa dalam hidup atau ngerasa hidup gitu-gitu aja.\\n\\nPadahal lebih serem kalau se… https://t.co/REJSJZiIaf', 'truncated': True, 'entities': {'hashtags': [], 'symbols': [], 'user_mentions': [], 'urls': [{'url': 'https://t.co/REJSJZiIaf', 'expanded_url': 'https://twitter.com/i/web/status/998080686710910977', 'display_url': 'twitter.com/i/web/status/9…', 'indices': [117, 140]}]}, 'source': '<a href=\"http://twitter.com/download/android\" rel=\"nofollow\">Twitter for Android</a>', 'in_reply_to_status_id': None, 'in_reply_to_status_id_str': None, 'in_reply_to_user_id': None, 'in_reply_to_user_id_str': None, 'in_reply_to_screen_name': None, 'geo': None, 'coordinates': None, 'place': None, 'contributors': None, 'is_quote_status': False, 'retweet_count': 1, 'favorite_count': 0, 'favorited': False, 'retweeted': False, 'lang': 'in'}, 'is_quote_status': False, 'retweet_count': 1, 'favorite_count': 0, 'favorited': False, 'retweeted': False, 'lang': 'in'}, 'contributors_enabled': False, 'is_translator': False, 'is_translation_enabled': False, 'profile_background_color': '000000', 'profile_background_image_url': 'http://abs.twimg.com/images/themes/theme1/bg.png', 'profile_background_image_url_https': 'https://abs.twimg.com/images/themes/theme1/bg.png', 'profile_background_tile': True, 'profile_image_url': 'http://pbs.twimg.com/profile_images/876688077409853440/DDF3-Pv6_normal.jpg', 'profile_image_url_https': 'https://pbs.twimg.com/profile_images/876688077409853440/DDF3-Pv6_normal.jpg', 'profile_banner_url': 'https://pbs.twimg.com/profile_banners/65850115/1507625024', 'profile_link_color': 'FA3566', 'profile_sidebar_border_color': 'FFFFFF', 'profile_sidebar_fill_color': 'E3F2FA', 'profile_text_color': '188AC7', 'profile_use_background_image': True, 'has_extended_profile': False, 'default_profile': False, 'default_profile_image': False, 'following': False, 'live_following': False, 'follow_request_sent': False, 'notifications': False, 'muting': False, 'blocking': False, 'blocked_by': False, 'translator_type': 'none'}, id=65850115, id_str='65850115', name='Anisa Rahayu N.R.', screen_name='anisarnr', location='Yogyakarta', description='sesungguhnya aku orangnya lebih aneh dari dugaanmu 😳', url=None, entities={'description': {'urls': []}}, protected=False, followers_count=574, friends_count=419, listed_count=1, created_at=datetime.datetime(2009, 8, 15, 7, 9, 46), favourites_count=234, utc_offset=None, time_zone=None, geo_enabled=True, verified=False, statuses_count=24806, lang='en', status=Status(_api=<tweepy.api.API object at 0x00000196D9BA2C50>, _json={'created_at': 'Sun May 20 12:33:22 +0000 2018', 'id': 998179876682190848, 'id_str': '998179876682190848', 'text': 'RT @BondanTM: Kadang suka mikir gak melakukan apa-apa dalam hidup atau ngerasa hidup gitu-gitu aja.\\n\\nPadahal lebih serem kalau sebenarnya u…', 'truncated': False, 'entities': {'hashtags': [], 'symbols': [], 'user_mentions': [{'screen_name': 'BondanTM', 'name': 'BONDAN oppa.', 'id': 80577438, 'id_str': '80577438', 'indices': [3, 12]}], 'urls': []}, 'source': '<a href=\"http://twitter.com/download/android\" rel=\"nofollow\">Twitter for Android</a>', 'in_reply_to_status_id': None, 'in_reply_to_status_id_str': None, 'in_reply_to_user_id': None, 'in_reply_to_user_id_str': None, 'in_reply_to_screen_name': None, 'geo': None, 'coordinates': None, 'place': None, 'contributors': None, 'retweeted_status': {'created_at': 'Sun May 20 05:59:13 +0000 2018', 'id': 998080686710910977, 'id_str': '998080686710910977', 'text': 'Kadang suka mikir gak melakukan apa-apa dalam hidup atau ngerasa hidup gitu-gitu aja.\\n\\nPadahal lebih serem kalau se… https://t.co/REJSJZiIaf', 'truncated': True, 'entities': {'hashtags': [], 'symbols': [], 'user_mentions': [], 'urls': [{'url': 'https://t.co/REJSJZiIaf', 'expanded_url': 'https://twitter.com/i/web/status/998080686710910977', 'display_url': 'twitter.com/i/web/status/9…', 'indices': [117, 140]}]}, 'source': '<a href=\"http://twitter.com/download/android\" rel=\"nofollow\">Twitter for Android</a>', 'in_reply_to_status_id': None, 'in_reply_to_status_id_str': None, 'in_reply_to_user_id': None, 'in_reply_to_user_id_str': None, 'in_reply_to_screen_name': None, 'geo': None, 'coordinates': None, 'place': None, 'contributors': None, 'is_quote_status': False, 'retweet_count': 1, 'favorite_count': 0, 'favorited': False, 'retweeted': False, 'lang': 'in'}, 'is_quote_status': False, 'retweet_count': 1, 'favorite_count': 0, 'favorited': False, 'retweeted': False, 'lang': 'in'}, created_at=datetime.datetime(2018, 5, 20, 12, 33, 22), id=998179876682190848, id_str='998179876682190848', text='RT @BondanTM: Kadang suka mikir gak melakukan apa-apa dalam hidup atau ngerasa hidup gitu-gitu aja.\\n\\nPadahal lebih serem kalau sebenarnya u…', truncated=False, entities={'hashtags': [], 'symbols': [], 'user_mentions': [{'screen_name': 'BondanTM', 'name': 'BONDAN oppa.', 'id': 80577438, 'id_str': '80577438', 'indices': [3, 12]}], 'urls': []}, source='Twitter for Android', source_url='http://twitter.com/download/android', in_reply_to_status_id=None, in_reply_to_status_id_str=None, in_reply_to_user_id=None, in_reply_to_user_id_str=None, in_reply_to_screen_name=None, geo=None, coordinates=None, place=None, contributors=None, retweeted_status=Status(_api=<tweepy.api.API object at 0x00000196D9BA2C50>, _json={'created_at': 'Sun May 20 05:59:13 +0000 2018', 'id': 998080686710910977, 'id_str': '998080686710910977', 'text': 'Kadang suka mikir gak melakukan apa-apa dalam hidup atau ngerasa hidup gitu-gitu aja.\\n\\nPadahal lebih serem kalau se… https://t.co/REJSJZiIaf', 'truncated': True, 'entities': {'hashtags': [], 'symbols': [], 'user_mentions': [], 'urls': [{'url': 'https://t.co/REJSJZiIaf', 'expanded_url': 'https://twitter.com/i/web/status/998080686710910977', 'display_url': 'twitter.com/i/web/status/9…', 'indices': [117, 140]}]}, 'source': '<a href=\"http://twitter.com/download/android\" rel=\"nofollow\">Twitter for Android</a>', 'in_reply_to_status_id': None, 'in_reply_to_status_id_str': None, 'in_reply_to_user_id': None, 'in_reply_to_user_id_str': None, 'in_reply_to_screen_name': None, 'geo': None, 'coordinates': None, 'place': None, 'contributors': None, 'is_quote_status': False, 'retweet_count': 1, 'favorite_count': 0, 'favorited': False, 'retweeted': False, 'lang': 'in'}, created_at=datetime.datetime(2018, 5, 20, 5, 59, 13), id=998080686710910977, id_str='998080686710910977', text='Kadang suka mikir gak melakukan apa-apa dalam hidup atau ngerasa hidup gitu-gitu aja.\\n\\nPadahal lebih serem kalau se… https://t.co/REJSJZiIaf', truncated=True, entities={'hashtags': [], 'symbols': [], 'user_mentions': [], 'urls': [{'url': 'https://t.co/REJSJZiIaf', 'expanded_url': 'https://twitter.com/i/web/status/998080686710910977', 'display_url': 'twitter.com/i/web/status/9…', 'indices': [117, 140]}]}, source='Twitter for Android', source_url='http://twitter.com/download/android', in_reply_to_status_id=None, in_reply_to_status_id_str=None, in_reply_to_user_id=None, in_reply_to_user_id_str=None, in_reply_to_screen_name=None, geo=None, coordinates=None, place=None, contributors=None, is_quote_status=False, retweet_count=1, favorite_count=0, favorited=False, retweeted=False, lang='in'), is_quote_status=False, retweet_count=1, favorite_count=0, favorited=False, retweeted=False, lang='in'), contributors_enabled=False, is_translator=False, is_translation_enabled=False, profile_background_color='000000', profile_background_image_url='http://abs.twimg.com/images/themes/theme1/bg.png', profile_background_image_url_https='https://abs.twimg.com/images/themes/theme1/bg.png', profile_background_tile=True, profile_image_url='http://pbs.twimg.com/profile_images/876688077409853440/DDF3-Pv6_normal.jpg', profile_image_url_https='https://pbs.twimg.com/profile_images/876688077409853440/DDF3-Pv6_normal.jpg', profile_banner_url='https://pbs.twimg.com/profile_banners/65850115/1507625024', profile_link_color='FA3566', profile_sidebar_border_color='FFFFFF', profile_sidebar_fill_color='E3F2FA', profile_text_color='188AC7', profile_use_background_image=True, has_extended_profile=False, default_profile=False, default_profile_image=False, following=False, live_following=False, follow_request_sent=False, notifications=False, muting=False, blocking=False, blocked_by=False, translator_type='none'), User(_api=<tweepy.api.API object at 0x00000196D9BA2C50>, _json={'id': 81288537, 'id_str': '81288537', 'name': 'INDRA', 'screen_name': 'indraadithya', 'location': 'INA', 'description': 'Line&Ig : indraadithya | POLBAN 2014', 'url': 'http://t.co/mU9EYbRTsn', 'entities': {'url': {'urls': [{'url': 'http://t.co/mU9EYbRTsn', 'expanded_url': 'http://www.facebook.com/profile.php?id=100001399183941', 'display_url': 'facebook.com/profile.php?id…', 'indices': [0, 22]}]}, 'description': {'urls': []}}, 'protected': False, 'followers_count': 342, 'friends_count': 940, 'listed_count': 1, 'created_at': 'Sat Oct 10 05:28:04 +0000 2009', 'favourites_count': 74, 'utc_offset': None, 'time_zone': None, 'geo_enabled': True, 'verified': False, 'statuses_count': 8304, 'lang': 'en', 'status': {'created_at': 'Sat May 12 19:21:43 +0000 2018', 'id': 995383539448229888, 'id_str': '995383539448229888', 'text': 'Nongkrong sama Radith dan orang seru lain di sekitarmu dengan masuk ke Badoo! https://t.co/LmQhDGBAHe', 'truncated': False, 'entities': {'hashtags': [], 'symbols': [], 'user_mentions': [], 'urls': [{'url': 'https://t.co/LmQhDGBAHe', 'expanded_url': 'http://badoo.com/twitter/sl-share.phtml?rt=51f127&photo_id=1347995312&url=https%3A%2F%2Fbdo.to%2Fu%2FIvXXqJOJKQ_BlHQSs_BdODJ2&text=Lihat+Radith+di+Badoo%21', 'display_url': 'badoo.com/twitter/sl-sha…', 'indices': [78, 101]}]}, 'source': '<a href=\"http://badoo.com\" rel=\"nofollow\">Badoo inc.</a>', 'in_reply_to_status_id': None, 'in_reply_to_status_id_str': None, 'in_reply_to_user_id': None, 'in_reply_to_user_id_str': None, 'in_reply_to_screen_name': None, 'geo': None, 'coordinates': None, 'place': None, 'contributors': None, 'is_quote_status': False, 'retweet_count': 0, 'favorite_count': 0, 'favorited': False, 'retweeted': False, 'possibly_sensitive': False, 'lang': 'in'}, 'contributors_enabled': False, 'is_translator': False, 'is_translation_enabled': False, 'profile_background_color': '000000', 'profile_background_image_url': 'http://abs.twimg.com/images/themes/theme19/bg.gif', 'profile_background_image_url_https': 'https://abs.twimg.com/images/themes/theme19/bg.gif', 'profile_background_tile': True, 'profile_image_url': 'http://pbs.twimg.com/profile_images/378800000825399347/7541096cfc54fae010c6aac19dd539ea_normal.jpeg', 'profile_image_url_https': 'https://pbs.twimg.com/profile_images/378800000825399347/7541096cfc54fae010c6aac19dd539ea_normal.jpeg', 'profile_banner_url': 'https://pbs.twimg.com/profile_banners/81288537/1382339093', 'profile_link_color': '0099CC', 'profile_sidebar_border_color': 'FFFFFF', 'profile_sidebar_fill_color': 'F6FFD1', 'profile_text_color': '333333', 'profile_use_background_image': True, 'has_extended_profile': True, 'default_profile': False, 'default_profile_image': False, 'following': False, 'live_following': False, 'follow_request_sent': False, 'notifications': False, 'muting': False, 'blocking': False, 'blocked_by': False, 'translator_type': 'none'}, id=81288537, id_str='81288537', name='INDRA', screen_name='indraadithya', location='INA', description='Line&Ig : indraadithya | POLBAN 2014', url='http://t.co/mU9EYbRTsn', entities={'url': {'urls': [{'url': 'http://t.co/mU9EYbRTsn', 'expanded_url': 'http://www.facebook.com/profile.php?id=100001399183941', 'display_url': 'facebook.com/profile.php?id…', 'indices': [0, 22]}]}, 'description': {'urls': []}}, protected=False, followers_count=342, friends_count=940, listed_count=1, created_at=datetime.datetime(2009, 10, 10, 5, 28, 4), favourites_count=74, utc_offset=None, time_zone=None, geo_enabled=True, verified=False, statuses_count=8304, lang='en', status=Status(_api=<tweepy.api.API object at 0x00000196D9BA2C50>, _json={'created_at': 'Sat May 12 19:21:43 +0000 2018', 'id': 995383539448229888, 'id_str': '995383539448229888', 'text': 'Nongkrong sama Radith dan orang seru lain di sekitarmu dengan masuk ke Badoo! https://t.co/LmQhDGBAHe', 'truncated': False, 'entities': {'hashtags': [], 'symbols': [], 'user_mentions': [], 'urls': [{'url': 'https://t.co/LmQhDGBAHe', 'expanded_url': 'http://badoo.com/twitter/sl-share.phtml?rt=51f127&photo_id=1347995312&url=https%3A%2F%2Fbdo.to%2Fu%2FIvXXqJOJKQ_BlHQSs_BdODJ2&text=Lihat+Radith+di+Badoo%21', 'display_url': 'badoo.com/twitter/sl-sha…', 'indices': [78, 101]}]}, 'source': '<a href=\"http://badoo.com\" rel=\"nofollow\">Badoo inc.</a>', 'in_reply_to_status_id': None, 'in_reply_to_status_id_str': None, 'in_reply_to_user_id': None, 'in_reply_to_user_id_str': None, 'in_reply_to_screen_name': None, 'geo': None, 'coordinates': None, 'place': None, 'contributors': None, 'is_quote_status': False, 'retweet_count': 0, 'favorite_count': 0, 'favorited': False, 'retweeted': False, 'possibly_sensitive': False, 'lang': 'in'}, created_at=datetime.datetime(2018, 5, 12, 19, 21, 43), id=995383539448229888, id_str='995383539448229888', text='Nongkrong sama Radith dan orang seru lain di sekitarmu dengan masuk ke Badoo! https://t.co/LmQhDGBAHe', truncated=False, entities={'hashtags': [], 'symbols': [], 'user_mentions': [], 'urls': [{'url': 'https://t.co/LmQhDGBAHe', 'expanded_url': 'http://badoo.com/twitter/sl-share.phtml?rt=51f127&photo_id=1347995312&url=https%3A%2F%2Fbdo.to%2Fu%2FIvXXqJOJKQ_BlHQSs_BdODJ2&text=Lihat+Radith+di+Badoo%21', 'display_url': 'badoo.com/twitter/sl-sha…', 'indices': [78, 101]}]}, source='Badoo inc.', source_url='http://badoo.com', in_reply_to_status_id=None, in_reply_to_status_id_str=None, in_reply_to_user_id=None, in_reply_to_user_id_str=None, in_reply_to_screen_name=None, geo=None, coordinates=None, place=None, contributors=None, is_quote_status=False, retweet_count=0, favorite_count=0, favorited=False, retweeted=False, possibly_sensitive=False, lang='in'), contributors_enabled=False, is_translator=False, is_translation_enabled=False, profile_background_color='000000', profile_background_image_url='http://abs.twimg.com/images/themes/theme19/bg.gif', profile_background_image_url_https='https://abs.twimg.com/images/themes/theme19/bg.gif', profile_background_tile=True, profile_image_url='http://pbs.twimg.com/profile_images/378800000825399347/7541096cfc54fae010c6aac19dd539ea_normal.jpeg', profile_image_url_https='https://pbs.twimg.com/profile_images/378800000825399347/7541096cfc54fae010c6aac19dd539ea_normal.jpeg', profile_banner_url='https://pbs.twimg.com/profile_banners/81288537/1382339093', profile_link_color='0099CC', profile_sidebar_border_color='FFFFFF', profile_sidebar_fill_color='F6FFD1', profile_text_color='333333', profile_use_background_image=True, has_extended_profile=True, default_profile=False, default_profile_image=False, following=False, live_following=False, follow_request_sent=False, notifications=False, muting=False, blocking=False, blocked_by=False, translator_type='none')]\n"
     ]
    }
   ],
   "source": [
    "print(fiveFollowers)"
   ]
  },
  {
   "cell_type": "code",
   "execution_count": 9,
   "metadata": {
    "scrolled": true
   },
   "outputs": [
    {
     "name": "stdout",
     "output_type": "stream",
     "text": [
      "Error detected\n",
      "@RH_Fauzi :RT @BeasiswaIndo: Jangan lupa untuk melakukan RSVP online sebelum datang ke International Education Expo 2018 ya @icaneducation https://t.c…\n",
      "@RH_Fauzi :RT @BeasiswaIndo: https://t.co/fMOIVL6MPF Beasiswa FULL khusus utk WANITA di Swansea University, INGGRIS\n",
      "@RH_Fauzi :Saya mengajakmu bergabung ke Bukalapak dan memberikanmu Credits Rp10.000. Gunakan kode RIFAN_HAMZAHUJF8. Cek: https://t.co/sEBOpniM3Q\n",
      "@RH_Fauzi :RT @BeasiswaIndo: https://t.co/nEfPfBx3Vs Beasiswa FULL + Biaya Hidup di CERGE-EI, REPUBLIK CEKO\n",
      "@RH_Fauzi :RT @BeasiswaIndo: https://t.co/WpdbKrMc2o Beasiswa FULL + Biaya Hidup di Bond University AUSTRALIA https://t.co/iMuq8ot90Z\n",
      "@RH_Fauzi :@Awaaaan_ nawar seminim mungkin biar dapet untung buat dia nya lebih gede hihi\n",
      "@RH_Fauzi :RT @BeasiswaIndo: https://t.co/l8x7OBYEIB Universal Citywalk Hollywood Music Business Entrepreneur Scholarship, Musicians Institute, USA ht…\n",
      "@RH_Fauzi :RT @TVACM: قاتوزو يحاول انه يمسك اعصابه ضد الحكم ...................... https://t.co/8pE02Mcp7R\n",
      "@RH_Fauzi :RT @BeasiswaIndo: Registered for #GGitC 2018 yet? Win the prize of a lifetime! Click here now: https://t.co/gWcq2FfLl0 #LifeIsOn #WhatsYour…\n",
      "@RH_Fauzi :RT @zenrs: Joko Driyono, orang lama di PSSI itu, adalah pemilik saham terbesar Persija Jakarta. https://t.co/SRBoU0lsCE perbaikan tautan ya…\n",
      "@RH_Fauzi :RT @BeasiswaIndo: Sweden is calling! You could be earning your MSc in Smart Electrical Networks &amp; Systems in Stockholm. Read more here: htt…\n",
      "@RH_Fauzi :😍 https://t.co/KuSQDmQ770\n",
      "@RH_Fauzi :RT @BeasiswaIndo: Join the International Summer Academy at the triple crown accredited institution of IESEG School of Management, Paris htt…\n",
      "@RH_Fauzi :RT @BeasiswaIndo: https://t.co/6bZGPwEriE Beasiswa FULL + Biaya Hidup, Tiket PP &amp; Kursus Bahasa di KOREA SELATAN https://t.co/oCKidqCqfq\n",
      "@RH_Fauzi :Semoga dilancarakan semua nyaaa 😇\n",
      "@RH_Fauzi :RT @BeasiswaIndo: RT @DoctorScholars: https://t.co/bT8vZ3aQxD Lulusan S1 yg mau langsung S3, silakan daftar sini! GRATIS! :) #Feb06\n",
      "@RH_Fauzi :RT @BeasiswaIndo: RT @USA_Scholarship: https://t.co/BNZKEiB3Zu Beasiswa Fulbright S3 + Biaya Hidup di AMERIKA SERIKAT #Feb01\n",
      "@RH_Fauzi :nice kieu calabria\n",
      "@RH_Fauzi :😍😘 https://t.co/WVNw9CC46P\n",
      "@RH_Fauzi :RT @BeasiswaIndo: RT @NetherlandsEdu: https://t.co/0HV5loFkES Beasiswa Geosciences di Utrecht University BELANDA #Jan25\n",
      "@achmadfatahss :#PrayForSurabaya https://t.co/nkeSDcXCf2\n",
      "@achmadfatahss :Geng aq lagi golek Iki tolong di kabari klo ada di PS.kramatjati https://t.co/bwRjedPr8u\n",
      "@achmadfatahss :@anifahambali tidak perlu dijelaskan akan tiba saatnya haru itu akan datang padamu (:\n",
      "@achmadfatahss :#UMJ\n",
      "#FT UMJ\n",
      "#ICE-BSD https://t.co/FQLfuNpfEu\n",
      "@achmadfatahss :@IndosatCare sore kak admin, tolong di bantu cek no saya 085727163359 pulsa saya sering hilang tanpa jejak (: tolong y kak admin\n",
      "@achmadfatahss :@indosatcare Bagaimana mendaftar paket yellow satu hari selain menggunakan *123*111#? Karena pd menu tersebut error' terus, mhn dibantu kak\n",
      "@achmadfatahss :RT @MataNajwa: Mengapa fenomena pengadilan jalanan semakin sering terjadi? Mengapa hukum di negeri ini seolah tak berdaya untuk mencegah ak…\n",
      "@achmadfatahss :Selamat pagi semua (: mengawali perjalanan baru kisah baru cerita baru ilmu baru terus melangkah untuk yg lebih baik https://t.co/ZdzaqpKUt0\n",
      "@achmadfatahss :Malam ini saya mendapat botol minum dari teman kuliah saya tapi kok pink y (: Life ia beautiful haha.. #FTUMJ \n",
      "#ME https://t.co/8jGtMEFFkn\n",
      "@achmadfatahss :@IndosatCare terimakasih kak yusi atas bantuannya, sehat selalu\n",
      "@achmadfatahss :@IndosatCare kak admin mhn di cek lg pulsa sy hilang tak berbekas lg kak, mhn tlg dicek lg y kak krn no sejarah u/ sy kalau gnt sy msh cinta\n",
      "@achmadfatahss :https://t.co/PsTR3yvLW4\n",
      "Drama tanah Abang\n",
      "@achmadfatahss :Ayoo seng arep bareng Otw jeng jeng.... https://t.co/dVEgSkh6qM\n",
      "@achmadfatahss :@IndosatCare kak admin bisa tolong dibantu pulsa saya suka kepotong, dan menu lupa sandi pada myM3 tdk bisa apakah ada solusinya?\n",
      "@achmadfatahss :@IndosatCare pagi kak tolong dibantu saya tidak bisa login di mym3 Krn lupa akun dan password, menu lupa Santi/password yg ada tdk berhasil.\n",
      "@achmadfatahss :The show must Goat\n",
      "#KC#Cikini\n",
      "@achmadfatahss :https://t.co/7vXo1YYXby\n",
      "Bagaimana menurut netizen zaman now?\n",
      "@achmadfatahss :Mibur Tanpo sayap.... https://t.co/1XOZxU8GbX\n",
      "@achmadfatahss :Saya sudah daftar RKMENTEE2018\n",
      "\n",
      "#MAJUbersama#RKmentee2018#intagramhttps://www.instagram.com/rkmentee2018/\n",
      "@achmadfatahss :RT @kementan: Cinta Merah Putih, Iklas Mengabdi Untuk Bangsa dan Masyarakat @PerekonomianRI #PetaniSejahtera https://t.co/ezL6DykqkV\n",
      "@anisarnr :RT @BondanTM: Kadang suka mikir gak melakukan apa-apa dalam hidup atau ngerasa hidup gitu-gitu aja.\n",
      "\n",
      "Padahal lebih serem kalau sebenarnya u…\n",
      "@anisarnr :RT @abdkarimariez: 1981\n",
      "- Royal Wedding in England\n",
      "- Liverpool in Champions League Final against Real Madrid\n",
      "- Mahathir Mohamad becomes PM…\n",
      "@anisarnr :@alifaamarilisya Humor royal wedding menjadi pelipur laraku ternyata :\"\n",
      "@anisarnr :@alifaamarilisya Ini nih yang kutunggu-tunggu\n",
      "@anisarnr :Apakah twitter bisa jadi pelipur lara gaes?\n",
      "@anisarnr :@artjog Wah, siap. Makasih min 😆\n",
      "@anisarnr :@artjog min, saya kmrn daftar cerita anak sama teman saya kan. Ternyata teman saya berhalangan hadir nih. Tiketnya… https://t.co/9fQbCG6hRe\n",
      "@anisarnr :RT @howtodressvvell: me minum kopi sachet: bacod lu semua gua yg minum kopi lu yg ribed tai\n",
      "\n",
      "me minum kopi gilingan rp 100ribu: Jakarta, so…\n",
      "@anisarnr :RT @seterahdeh: bingungnya orang kaya\n",
      "\"aduh liburan kali ini mau ke europe, atau yang deket2 aja ya di asia\"\n",
      "\n",
      "bingungnya aku\n",
      "\"aduh liburan…\n",
      "@anisarnr :RT @msofyan: Sewaktu masih ngarit di Tasikmalaya versus sesudah menjadi idola https://t.co/N0C161MfXA\n",
      "@anisarnr :RT @hati2dimedsos: Kasian syekali is three ini ☹ https://t.co/IR4Sa4vUqU\n",
      "@anisarnr :MENANGIS https://t.co/VLXKKiqZPf\n",
      "@anisarnr :RT @infoBMKG: #Gempa Mag:5.0, 18-Feb-18 01:56:25 WIB, Lok:8.96 LS,110.93 BT (88 km BaratDaya PACITAN-JATIM), Kedlmn:10 Km, tdk berpotensi t…\n",
      "@anisarnr :Aku terharu, sedih, senang, mbuh lah. Tapi alhamdulillah, kehidupan kuliahku dikasih nano nano banget ya. Nugas sam… https://t.co/2UHS4d5nqZ\n",
      "@anisarnr :Ngeliat di satu semester ada yang IP-nya cuma 3,1. Ada satu semester yang IP-nya 3,8 soalnya ambil kelas paket A se… https://t.co/ErrbusuIlD\n",
      "@anisarnr :Ngeliat palawa, bukain hasil studi dari semester satu sampe terakhir. Terharu juga ya, perjuanganku ya Allah :\"\n",
      "@anisarnr :@nurulintansa Kamu gimana kabar setelah lulus rul? Wkwk\n",
      "@anisarnr :@faradefani @ranwiks Oya ayo, bali jogja sik ndesss\n",
      "@anisarnr :Siapa tuh lelaki tampan di ujung kiri? 😍 https://t.co/4JrqlHmjvR\n",
      "@anisarnr :RT @prkjiunnn: fans korea : \n",
      "\"aigoo~\"\n",
      "\"Aaa neomu kyeopta\"\n",
      "\n",
      "fans indo\n",
      "\"ALLAHUAKBAR GANTENG BGT\"\n",
      "\"JIDAT JIUN NUNBUSYEO SHINING²\"\n",
      "\"ANJIRRRRRR\"…\n",
      "@indraadithya :Nongkrong sama Radith dan orang seru lain di sekitarmu dengan masuk ke Badoo! https://t.co/LmQhDGBAHe\n",
      "@indraadithya :RT @ArianaGrande: https://t.co/c03xrX3iIv\n",
      "@indraadithya :@myXLCare Saya menggunakan xl pass yang seminggu, skrg saya sdg di malay&amp;menuju singapur, apakah settingan operatornya bisa berubah otomatis\n",
      "@indraadithya :At @my_airports — https://t.co/gdwJo1nCPi\n",
      "@indraadithya :Wish me luck 🙏 (at @bdo_ap2) — https://t.co/vfqPyb77vx\n",
      "@indraadithya :@myXL min saya udh aktivasi xl pass nanti milih operator di negara tujuan masuk ke pengaturan apa yah untuk iphone?\n",
      "@indraadithya :Alhamdulillah, terima kasih dataprint :)  https://t.co/AnrkdWL7b0\n",
      "@indraadithya :Alhamdulillah, terima kasih dataprint :) https://t.co/AnrkdWL7b0\n",
      "@indraadithya :😩💤 (at Unit Layanan Paspor Wil 1 Kantor Imigrasi Kelas I Bandung) — https://t.co/hqwjr81KZx\n",
      "@indraadithya :Refreshing sebelum UTS yah, padahal cuman 2 matkul UTS nya 😁😌 (w/ Zulfa, Renisa, &amp; 6 others at @studioktv) [pic] — https://t.co/HE4tW1m3Kt\n",
      "@indraadithya :Pulang ke bandung di sambut mereka 😌😘😍 (with Riski, Zulfa, and 2 others at Eat Boss Café) [pic] — https://t.co/5qtLqbVhp5\n",
      "@indraadithya :Welcoming party had to wait (at @plm_ap2) — https://t.co/nG5fxdXjUf\n",
      "@indraadithya :🍟🍔 (at @mcdonalds_id) — https://t.co/bY47oLnRnt\n",
      "@indraadithya :500 beasiswa dari DataPrint. Info dapat di lihat di https://t.co/x8jzq5FfbV dan https://t.co/Dl562mZflv\n",
      "@indraadithya :Awalnya ikutan seminar bisnis akhirnya harus sukses dg PH gue &amp; jd pembicara seminar  jg #MeetUpBAM @CNNIDmagazine https://t.co/OLTbPD8P3W\n",
      "@indraadithya :Bitch lagi jalan jalan💃🏻 (with Ditha, Agnes, and 2 others at Beachwalk) — https://t.co/JsyI54vEZZ\n",
      "@indraadithya :With Agnes, Sita, and 4 others at @baliairport — https://t.co/LHSxLHF6bk\n",
      "@indraadithya :🍟🍔 (at @mcdonalds_id) — https://t.co/1ubAJldPqV\n",
      "@indraadithya :With Agnes, Refan, and 4 others at BABAKARAN X TAICHAN \"GORENG\" — https://t.co/rVOc0NDNoM\n",
      "@indraadithya :With Ditha, Agnes, and Alifa at One Eighty Coffee Music — https://t.co/fUnh0yNNO4\n"
     ]
    }
   ],
   "source": [
    "### Fill the code ###\n",
    "# get tweets from Astra Followers\n",
    "for f in fiveFollowers:\n",
    "    try:\n",
    "        userTL = api.user_timeline(f.screen_name)\n",
    "        for tweet in userTL:\n",
    "            print('@'+f.screen_name+' :'+tweet.text)\n",
    "    except:\n",
    "        print('Error detected')"
   ]
  },
  {
   "cell_type": "markdown",
   "metadata": {},
   "source": [
    "# Task 2"
   ]
  },
  {
   "cell_type": "code",
   "execution_count": 10,
   "metadata": {},
   "outputs": [],
   "source": [
    "### Fill the code ###\n",
    "# Get latest tweet\n",
    "\n",
    "astraTweet = api.user_timeline(account)"
   ]
  },
  {
   "cell_type": "code",
   "execution_count": 11,
   "metadata": {},
   "outputs": [],
   "source": [
    "### Fill the code ###\n",
    "\n",
    "tweetId = None\n",
    "for t in astraTweet:\n",
    "    # Check if have retwet\n",
    "    if t.retweet_count > 0: # Fill the conditional\n",
    "        # assign to tweetId\n",
    "        tweetId = t.id\n",
    "        break # only use the first tweet that has retweet\n",
    "    else:\n",
    "        continue"
   ]
  },
  {
   "cell_type": "code",
   "execution_count": 12,
   "metadata": {},
   "outputs": [
    {
     "name": "stdout",
     "output_type": "stream",
     "text": [
      "996028529362923520\n"
     ]
    }
   ],
   "source": [
    "print(tweetId)\n",
    "# api.get_status(915885913221165056)"
   ]
  },
  {
   "cell_type": "code",
   "execution_count": 13,
   "metadata": {},
   "outputs": [],
   "source": [
    "### Fill the code ###\n",
    "\n",
    "# Get the retweet of original tweet\n",
    "retweets = api.retweeters(tweetId)"
   ]
  },
  {
   "cell_type": "code",
   "execution_count": 14,
   "metadata": {},
   "outputs": [],
   "source": [
    "### Fill the code ###\n",
    "threeUsers = []\n",
    "\n",
    "# get the user from the retweet\n",
    "for i in retweets:\n",
    "    threeUsers.append(api.get_user(i))"
   ]
  },
  {
   "cell_type": "code",
   "execution_count": 15,
   "metadata": {},
   "outputs": [
    {
     "name": "stdout",
     "output_type": "stream",
     "text": [
      "[User(_api=<tweepy.api.API object at 0x00000196D9BA2C50>, _json={'id': 3521646493, 'id_str': '3521646493', 'name': 'Ari Kosasih', 'screen_name': 'ariarkos', 'location': '', 'profile_location': None, 'description': 'SMANDA14 | Teknik Industri', 'url': None, 'entities': {'description': {'urls': []}}, 'protected': False, 'followers_count': 21, 'friends_count': 274, 'listed_count': 0, 'created_at': 'Fri Sep 11 01:46:00 +0000 2015', 'favourites_count': 50, 'utc_offset': None, 'time_zone': None, 'geo_enabled': False, 'verified': False, 'statuses_count': 75, 'lang': 'id', 'status': {'created_at': 'Thu May 24 04:14:53 +0000 2018', 'id': 999503981276680192, 'id_str': '999503981276680192', 'text': '@G_fron @asmurcom @Strategi_Bisnis Mending jangan kerja sekalian, biar nyesel juga kenapa kuliahnya cuman maen2 aja… https://t.co/mvffJmyl3j', 'truncated': True, 'entities': {'hashtags': [], 'symbols': [], 'user_mentions': [{'screen_name': 'G_fron', 'name': \"Cowo'nya Maudya\", 'id': 94020415, 'id_str': '94020415', 'indices': [0, 7]}, {'screen_name': 'asmurcom', 'name': 'asuransimurni.com', 'id': 954188384989200384, 'id_str': '954188384989200384', 'indices': [8, 17]}, {'screen_name': 'Strategi_Bisnis', 'name': 'strategi + bisnis', 'id': 190535830, 'id_str': '190535830', 'indices': [18, 34]}], 'urls': [{'url': 'https://t.co/mvffJmyl3j', 'expanded_url': 'https://twitter.com/i/web/status/999503981276680192', 'display_url': 'twitter.com/i/web/status/9…', 'indices': [117, 140]}]}, 'source': '<a href=\"http://twitter.com/download/android\" rel=\"nofollow\">Twitter for Android</a>', 'in_reply_to_status_id': 999250952069595136, 'in_reply_to_status_id_str': '999250952069595136', 'in_reply_to_user_id': 94020415, 'in_reply_to_user_id_str': '94020415', 'in_reply_to_screen_name': 'G_fron', 'geo': None, 'coordinates': None, 'place': None, 'contributors': None, 'is_quote_status': False, 'retweet_count': 0, 'favorite_count': 0, 'favorited': False, 'retweeted': False, 'lang': 'in'}, 'contributors_enabled': False, 'is_translator': False, 'is_translation_enabled': False, 'profile_background_color': 'C0DEED', 'profile_background_image_url': 'http://abs.twimg.com/images/themes/theme1/bg.png', 'profile_background_image_url_https': 'https://abs.twimg.com/images/themes/theme1/bg.png', 'profile_background_tile': False, 'profile_image_url': 'http://pbs.twimg.com/profile_images/642153469940371456/0Osp_8fY_normal.jpg', 'profile_image_url_https': 'https://pbs.twimg.com/profile_images/642153469940371456/0Osp_8fY_normal.jpg', 'profile_banner_url': 'https://pbs.twimg.com/profile_banners/3521646493/1442243767', 'profile_link_color': '1DA1F2', 'profile_sidebar_border_color': 'C0DEED', 'profile_sidebar_fill_color': 'DDEEF6', 'profile_text_color': '333333', 'profile_use_background_image': True, 'has_extended_profile': False, 'default_profile': True, 'default_profile_image': False, 'following': False, 'follow_request_sent': False, 'notifications': False, 'translator_type': 'none'}, id=3521646493, id_str='3521646493', name='Ari Kosasih', screen_name='ariarkos', location='', profile_location=None, description='SMANDA14 | Teknik Industri', url=None, entities={'description': {'urls': []}}, protected=False, followers_count=21, friends_count=274, listed_count=0, created_at=datetime.datetime(2015, 9, 11, 1, 46), favourites_count=50, utc_offset=None, time_zone=None, geo_enabled=False, verified=False, statuses_count=75, lang='id', status=Status(_api=<tweepy.api.API object at 0x00000196D9BA2C50>, _json={'created_at': 'Thu May 24 04:14:53 +0000 2018', 'id': 999503981276680192, 'id_str': '999503981276680192', 'text': '@G_fron @asmurcom @Strategi_Bisnis Mending jangan kerja sekalian, biar nyesel juga kenapa kuliahnya cuman maen2 aja… https://t.co/mvffJmyl3j', 'truncated': True, 'entities': {'hashtags': [], 'symbols': [], 'user_mentions': [{'screen_name': 'G_fron', 'name': \"Cowo'nya Maudya\", 'id': 94020415, 'id_str': '94020415', 'indices': [0, 7]}, {'screen_name': 'asmurcom', 'name': 'asuransimurni.com', 'id': 954188384989200384, 'id_str': '954188384989200384', 'indices': [8, 17]}, {'screen_name': 'Strategi_Bisnis', 'name': 'strategi + bisnis', 'id': 190535830, 'id_str': '190535830', 'indices': [18, 34]}], 'urls': [{'url': 'https://t.co/mvffJmyl3j', 'expanded_url': 'https://twitter.com/i/web/status/999503981276680192', 'display_url': 'twitter.com/i/web/status/9…', 'indices': [117, 140]}]}, 'source': '<a href=\"http://twitter.com/download/android\" rel=\"nofollow\">Twitter for Android</a>', 'in_reply_to_status_id': 999250952069595136, 'in_reply_to_status_id_str': '999250952069595136', 'in_reply_to_user_id': 94020415, 'in_reply_to_user_id_str': '94020415', 'in_reply_to_screen_name': 'G_fron', 'geo': None, 'coordinates': None, 'place': None, 'contributors': None, 'is_quote_status': False, 'retweet_count': 0, 'favorite_count': 0, 'favorited': False, 'retweeted': False, 'lang': 'in'}, created_at=datetime.datetime(2018, 5, 24, 4, 14, 53), id=999503981276680192, id_str='999503981276680192', text='@G_fron @asmurcom @Strategi_Bisnis Mending jangan kerja sekalian, biar nyesel juga kenapa kuliahnya cuman maen2 aja… https://t.co/mvffJmyl3j', truncated=True, entities={'hashtags': [], 'symbols': [], 'user_mentions': [{'screen_name': 'G_fron', 'name': \"Cowo'nya Maudya\", 'id': 94020415, 'id_str': '94020415', 'indices': [0, 7]}, {'screen_name': 'asmurcom', 'name': 'asuransimurni.com', 'id': 954188384989200384, 'id_str': '954188384989200384', 'indices': [8, 17]}, {'screen_name': 'Strategi_Bisnis', 'name': 'strategi + bisnis', 'id': 190535830, 'id_str': '190535830', 'indices': [18, 34]}], 'urls': [{'url': 'https://t.co/mvffJmyl3j', 'expanded_url': 'https://twitter.com/i/web/status/999503981276680192', 'display_url': 'twitter.com/i/web/status/9…', 'indices': [117, 140]}]}, source='Twitter for Android', source_url='http://twitter.com/download/android', in_reply_to_status_id=999250952069595136, in_reply_to_status_id_str='999250952069595136', in_reply_to_user_id=94020415, in_reply_to_user_id_str='94020415', in_reply_to_screen_name='G_fron', geo=None, coordinates=None, place=None, contributors=None, is_quote_status=False, retweet_count=0, favorite_count=0, favorited=False, retweeted=False, lang='in'), contributors_enabled=False, is_translator=False, is_translation_enabled=False, profile_background_color='C0DEED', profile_background_image_url='http://abs.twimg.com/images/themes/theme1/bg.png', profile_background_image_url_https='https://abs.twimg.com/images/themes/theme1/bg.png', profile_background_tile=False, profile_image_url='http://pbs.twimg.com/profile_images/642153469940371456/0Osp_8fY_normal.jpg', profile_image_url_https='https://pbs.twimg.com/profile_images/642153469940371456/0Osp_8fY_normal.jpg', profile_banner_url='https://pbs.twimg.com/profile_banners/3521646493/1442243767', profile_link_color='1DA1F2', profile_sidebar_border_color='C0DEED', profile_sidebar_fill_color='DDEEF6', profile_text_color='333333', profile_use_background_image=True, has_extended_profile=False, default_profile=True, default_profile_image=False, following=False, follow_request_sent=False, notifications=False, translator_type='none'), User(_api=<tweepy.api.API object at 0x00000196D9BA2C50>, _json={'id': 500706584, 'id_str': '500706584', 'name': 'Rania', 'screen_name': 'ranyraniaa', 'location': 'Indonesia', 'profile_location': None, 'description': 'Wonderland\\n.\\nhttps://t.co/ERoKrUup5m…', 'url': 'https://t.co/UA1FyQlSNd', 'entities': {'url': {'urls': [{'url': 'https://t.co/UA1FyQlSNd', 'expanded_url': 'http://raniafg.wordpress.com/', 'display_url': 'raniafg.wordpress.com', 'indices': [0, 23]}]}, 'description': {'urls': [{'url': 'https://t.co/ERoKrUup5m', 'expanded_url': 'http://linisehat.com/diabetes-keham', 'display_url': 'linisehat.com/diabetes-keham', 'indices': [13, 36]}]}}, 'protected': False, 'followers_count': 120, 'friends_count': 155, 'listed_count': 0, 'created_at': 'Thu Feb 23 11:41:18 +0000 2012', 'favourites_count': 549, 'utc_offset': None, 'time_zone': None, 'geo_enabled': True, 'verified': False, 'statuses_count': 2678, 'lang': 'en', 'status': {'created_at': 'Fri May 25 09:07:55 +0000 2018', 'id': 999940111566422016, 'id_str': '999940111566422016', 'text': '@mahardhikabdp Brahma aku share yaa', 'truncated': False, 'entities': {'hashtags': [], 'symbols': [], 'user_mentions': [{'screen_name': 'mahardhikabdp', 'name': 'brahmadhita', 'id': 230152305, 'id_str': '230152305', 'indices': [0, 14]}], 'urls': []}, 'source': '<a href=\"http://twitter.com/download/android\" rel=\"nofollow\">Twitter for Android</a>', 'in_reply_to_status_id': 999890946861842433, 'in_reply_to_status_id_str': '999890946861842433', 'in_reply_to_user_id': 230152305, 'in_reply_to_user_id_str': '230152305', 'in_reply_to_screen_name': 'mahardhikabdp', 'geo': None, 'coordinates': None, 'place': None, 'contributors': None, 'is_quote_status': False, 'retweet_count': 0, 'favorite_count': 0, 'favorited': False, 'retweeted': False, 'lang': 'in'}, 'contributors_enabled': False, 'is_translator': False, 'is_translation_enabled': False, 'profile_background_color': 'DBE9ED', 'profile_background_image_url': 'http://abs.twimg.com/images/themes/theme17/bg.gif', 'profile_background_image_url_https': 'https://abs.twimg.com/images/themes/theme17/bg.gif', 'profile_background_tile': False, 'profile_image_url': 'http://pbs.twimg.com/profile_images/942764264711897088/TiGdSvLg_normal.jpg', 'profile_image_url_https': 'https://pbs.twimg.com/profile_images/942764264711897088/TiGdSvLg_normal.jpg', 'profile_banner_url': 'https://pbs.twimg.com/profile_banners/500706584/1511559504', 'profile_link_color': 'CC3366', 'profile_sidebar_border_color': 'DBE9ED', 'profile_sidebar_fill_color': 'E6F6F9', 'profile_text_color': '333333', 'profile_use_background_image': True, 'has_extended_profile': False, 'default_profile': False, 'default_profile_image': False, 'following': False, 'follow_request_sent': False, 'notifications': False, 'translator_type': 'none'}, id=500706584, id_str='500706584', name='Rania', screen_name='ranyraniaa', location='Indonesia', profile_location=None, description='Wonderland\\n.\\nhttps://t.co/ERoKrUup5m…', url='https://t.co/UA1FyQlSNd', entities={'url': {'urls': [{'url': 'https://t.co/UA1FyQlSNd', 'expanded_url': 'http://raniafg.wordpress.com/', 'display_url': 'raniafg.wordpress.com', 'indices': [0, 23]}]}, 'description': {'urls': [{'url': 'https://t.co/ERoKrUup5m', 'expanded_url': 'http://linisehat.com/diabetes-keham', 'display_url': 'linisehat.com/diabetes-keham', 'indices': [13, 36]}]}}, protected=False, followers_count=120, friends_count=155, listed_count=0, created_at=datetime.datetime(2012, 2, 23, 11, 41, 18), favourites_count=549, utc_offset=None, time_zone=None, geo_enabled=True, verified=False, statuses_count=2678, lang='en', status=Status(_api=<tweepy.api.API object at 0x00000196D9BA2C50>, _json={'created_at': 'Fri May 25 09:07:55 +0000 2018', 'id': 999940111566422016, 'id_str': '999940111566422016', 'text': '@mahardhikabdp Brahma aku share yaa', 'truncated': False, 'entities': {'hashtags': [], 'symbols': [], 'user_mentions': [{'screen_name': 'mahardhikabdp', 'name': 'brahmadhita', 'id': 230152305, 'id_str': '230152305', 'indices': [0, 14]}], 'urls': []}, 'source': '<a href=\"http://twitter.com/download/android\" rel=\"nofollow\">Twitter for Android</a>', 'in_reply_to_status_id': 999890946861842433, 'in_reply_to_status_id_str': '999890946861842433', 'in_reply_to_user_id': 230152305, 'in_reply_to_user_id_str': '230152305', 'in_reply_to_screen_name': 'mahardhikabdp', 'geo': None, 'coordinates': None, 'place': None, 'contributors': None, 'is_quote_status': False, 'retweet_count': 0, 'favorite_count': 0, 'favorited': False, 'retweeted': False, 'lang': 'in'}, created_at=datetime.datetime(2018, 5, 25, 9, 7, 55), id=999940111566422016, id_str='999940111566422016', text='@mahardhikabdp Brahma aku share yaa', truncated=False, entities={'hashtags': [], 'symbols': [], 'user_mentions': [{'screen_name': 'mahardhikabdp', 'name': 'brahmadhita', 'id': 230152305, 'id_str': '230152305', 'indices': [0, 14]}], 'urls': []}, source='Twitter for Android', source_url='http://twitter.com/download/android', in_reply_to_status_id=999890946861842433, in_reply_to_status_id_str='999890946861842433', in_reply_to_user_id=230152305, in_reply_to_user_id_str='230152305', in_reply_to_screen_name='mahardhikabdp', geo=None, coordinates=None, place=None, contributors=None, is_quote_status=False, retweet_count=0, favorite_count=0, favorited=False, retweeted=False, lang='in'), contributors_enabled=False, is_translator=False, is_translation_enabled=False, profile_background_color='DBE9ED', profile_background_image_url='http://abs.twimg.com/images/themes/theme17/bg.gif', profile_background_image_url_https='https://abs.twimg.com/images/themes/theme17/bg.gif', profile_background_tile=False, profile_image_url='http://pbs.twimg.com/profile_images/942764264711897088/TiGdSvLg_normal.jpg', profile_image_url_https='https://pbs.twimg.com/profile_images/942764264711897088/TiGdSvLg_normal.jpg', profile_banner_url='https://pbs.twimg.com/profile_banners/500706584/1511559504', profile_link_color='CC3366', profile_sidebar_border_color='DBE9ED', profile_sidebar_fill_color='E6F6F9', profile_text_color='333333', profile_use_background_image=True, has_extended_profile=False, default_profile=False, default_profile_image=False, following=False, follow_request_sent=False, notifications=False, translator_type='none'), User(_api=<tweepy.api.API object at 0x00000196D9BA2C50>, _json={'id': 101493934, 'id_str': '101493934', 'name': 'Fachrul Bahtiar', 'screen_name': 'FachrulBahtiar', 'location': 'SOC - JOG', 'profile_location': None, 'description': 'Penunggang  Badai |\\n@Kasmaji14 | @IEGMU2014 | Astra1st batch 6 | Panasonic Scholars 2017 | Your future industrial engineer 8/8', 'url': 'https://t.co/coWzWYTVWT', 'entities': {'url': {'urls': [{'url': 'https://t.co/coWzWYTVWT', 'expanded_url': 'http://bahtiarfachrul.wordpress.com', 'display_url': 'bahtiarfachrul.wordpress.com', 'indices': [0, 23]}]}, 'description': {'urls': []}}, 'protected': False, 'followers_count': 436, 'friends_count': 203, 'listed_count': 1, 'created_at': 'Sun Jan 03 14:57:32 +0000 2010', 'favourites_count': 90, 'utc_offset': None, 'time_zone': None, 'geo_enabled': True, 'verified': False, 'statuses_count': 2026, 'lang': 'en', 'status': {'created_at': 'Fri May 25 16:16:26 +0000 2018', 'id': 1000047953300471809, 'id_str': '1000047953300471809', 'text': 'Masih jadi misteri apakah MH370  ini murder-suicide mission sang pilot atau ada konspirasi terkait cargo yang dibawa https://t.co/15TPT62bPF', 'truncated': False, 'entities': {'hashtags': [], 'symbols': [], 'user_mentions': [], 'urls': [{'url': 'https://t.co/15TPT62bPF', 'expanded_url': 'https://www.dailystar.co.uk/news/world-news/705157/MH370-missing-malaysian-airline-search-indian-ocean-missing-cargo', 'display_url': 'dailystar.co.uk/news/world-new…', 'indices': [117, 140]}]}, 'source': '<a href=\"http://twitter.com/download/android\" rel=\"nofollow\">Twitter for Android</a>', 'in_reply_to_status_id': None, 'in_reply_to_status_id_str': None, 'in_reply_to_user_id': None, 'in_reply_to_user_id_str': None, 'in_reply_to_screen_name': None, 'geo': None, 'coordinates': None, 'place': None, 'contributors': None, 'is_quote_status': False, 'retweet_count': 0, 'favorite_count': 0, 'favorited': False, 'retweeted': False, 'possibly_sensitive': False, 'lang': 'in'}, 'contributors_enabled': False, 'is_translator': False, 'is_translation_enabled': False, 'profile_background_color': 'C712EB', 'profile_background_image_url': 'http://pbs.twimg.com/profile_background_images/192523917/digital-fantasy-abstact04.jpg', 'profile_background_image_url_https': 'https://pbs.twimg.com/profile_background_images/192523917/digital-fantasy-abstact04.jpg', 'profile_background_tile': True, 'profile_image_url': 'http://pbs.twimg.com/profile_images/577119026532384768/ipxhSVqH_normal.png', 'profile_image_url_https': 'https://pbs.twimg.com/profile_images/577119026532384768/ipxhSVqH_normal.png', 'profile_banner_url': 'https://pbs.twimg.com/profile_banners/101493934/1401341638', 'profile_link_color': 'F50E0E', 'profile_sidebar_border_color': '23DBC6', 'profile_sidebar_fill_color': '01040F', 'profile_text_color': 'ED1D1D', 'profile_use_background_image': True, 'has_extended_profile': False, 'default_profile': False, 'default_profile_image': False, 'following': False, 'follow_request_sent': False, 'notifications': False, 'translator_type': 'none'}, id=101493934, id_str='101493934', name='Fachrul Bahtiar', screen_name='FachrulBahtiar', location='SOC - JOG', profile_location=None, description='Penunggang  Badai |\\n@Kasmaji14 | @IEGMU2014 | Astra1st batch 6 | Panasonic Scholars 2017 | Your future industrial engineer 8/8', url='https://t.co/coWzWYTVWT', entities={'url': {'urls': [{'url': 'https://t.co/coWzWYTVWT', 'expanded_url': 'http://bahtiarfachrul.wordpress.com', 'display_url': 'bahtiarfachrul.wordpress.com', 'indices': [0, 23]}]}, 'description': {'urls': []}}, protected=False, followers_count=436, friends_count=203, listed_count=1, created_at=datetime.datetime(2010, 1, 3, 14, 57, 32), favourites_count=90, utc_offset=None, time_zone=None, geo_enabled=True, verified=False, statuses_count=2026, lang='en', status=Status(_api=<tweepy.api.API object at 0x00000196D9BA2C50>, _json={'created_at': 'Fri May 25 16:16:26 +0000 2018', 'id': 1000047953300471809, 'id_str': '1000047953300471809', 'text': 'Masih jadi misteri apakah MH370  ini murder-suicide mission sang pilot atau ada konspirasi terkait cargo yang dibawa https://t.co/15TPT62bPF', 'truncated': False, 'entities': {'hashtags': [], 'symbols': [], 'user_mentions': [], 'urls': [{'url': 'https://t.co/15TPT62bPF', 'expanded_url': 'https://www.dailystar.co.uk/news/world-news/705157/MH370-missing-malaysian-airline-search-indian-ocean-missing-cargo', 'display_url': 'dailystar.co.uk/news/world-new…', 'indices': [117, 140]}]}, 'source': '<a href=\"http://twitter.com/download/android\" rel=\"nofollow\">Twitter for Android</a>', 'in_reply_to_status_id': None, 'in_reply_to_status_id_str': None, 'in_reply_to_user_id': None, 'in_reply_to_user_id_str': None, 'in_reply_to_screen_name': None, 'geo': None, 'coordinates': None, 'place': None, 'contributors': None, 'is_quote_status': False, 'retweet_count': 0, 'favorite_count': 0, 'favorited': False, 'retweeted': False, 'possibly_sensitive': False, 'lang': 'in'}, created_at=datetime.datetime(2018, 5, 25, 16, 16, 26), id=1000047953300471809, id_str='1000047953300471809', text='Masih jadi misteri apakah MH370  ini murder-suicide mission sang pilot atau ada konspirasi terkait cargo yang dibawa https://t.co/15TPT62bPF', truncated=False, entities={'hashtags': [], 'symbols': [], 'user_mentions': [], 'urls': [{'url': 'https://t.co/15TPT62bPF', 'expanded_url': 'https://www.dailystar.co.uk/news/world-news/705157/MH370-missing-malaysian-airline-search-indian-ocean-missing-cargo', 'display_url': 'dailystar.co.uk/news/world-new…', 'indices': [117, 140]}]}, source='Twitter for Android', source_url='http://twitter.com/download/android', in_reply_to_status_id=None, in_reply_to_status_id_str=None, in_reply_to_user_id=None, in_reply_to_user_id_str=None, in_reply_to_screen_name=None, geo=None, coordinates=None, place=None, contributors=None, is_quote_status=False, retweet_count=0, favorite_count=0, favorited=False, retweeted=False, possibly_sensitive=False, lang='in'), contributors_enabled=False, is_translator=False, is_translation_enabled=False, profile_background_color='C712EB', profile_background_image_url='http://pbs.twimg.com/profile_background_images/192523917/digital-fantasy-abstact04.jpg', profile_background_image_url_https='https://pbs.twimg.com/profile_background_images/192523917/digital-fantasy-abstact04.jpg', profile_background_tile=True, profile_image_url='http://pbs.twimg.com/profile_images/577119026532384768/ipxhSVqH_normal.png', profile_image_url_https='https://pbs.twimg.com/profile_images/577119026532384768/ipxhSVqH_normal.png', profile_banner_url='https://pbs.twimg.com/profile_banners/101493934/1401341638', profile_link_color='F50E0E', profile_sidebar_border_color='23DBC6', profile_sidebar_fill_color='01040F', profile_text_color='ED1D1D', profile_use_background_image=True, has_extended_profile=False, default_profile=False, default_profile_image=False, following=False, follow_request_sent=False, notifications=False, translator_type='none'), User(_api=<tweepy.api.API object at 0x00000196D9BA2C50>, _json={'id': 40638821, 'id_str': '40638821', 'name': 'Yohana Friscylia', 'screen_name': 'yohanafriscylia', 'location': 'ÜT: -6.224133,106.9570676', 'profile_location': None, 'description': 'Psalm 23:1', 'url': None, 'entities': {'description': {'urls': []}}, 'protected': False, 'followers_count': 366, 'friends_count': 433, 'listed_count': 3, 'created_at': 'Sun May 17 10:18:40 +0000 2009', 'favourites_count': 445, 'utc_offset': None, 'time_zone': None, 'geo_enabled': True, 'verified': False, 'statuses_count': 14228, 'lang': 'en', 'status': {'created_at': 'Fri May 25 16:33:57 +0000 2018', 'id': 1000052360687702016, 'id_str': '1000052360687702016', 'text': 'RT @ricklgodwin: What is grace? Grace is love that seeks you out when you have nothing to give in return. Grace is love coming at you that…', 'truncated': False, 'entities': {'hashtags': [], 'symbols': [], 'user_mentions': [{'screen_name': 'ricklgodwin', 'name': 'Rick Godwin', 'id': 189240492, 'id_str': '189240492', 'indices': [3, 15]}], 'urls': []}, 'source': '<a href=\"http://twitter.com/download/iphone\" rel=\"nofollow\">Twitter for iPhone</a>', 'in_reply_to_status_id': None, 'in_reply_to_status_id_str': None, 'in_reply_to_user_id': None, 'in_reply_to_user_id_str': None, 'in_reply_to_screen_name': None, 'geo': None, 'coordinates': None, 'place': None, 'contributors': None, 'retweeted_status': {'created_at': 'Fri May 25 14:31:41 +0000 2018', 'id': 1000021591332409344, 'id_str': '1000021591332409344', 'text': 'What is grace? Grace is love that seeks you out when you have nothing to give in return. Grace is love coming at yo… https://t.co/2Mg6kFO60S', 'truncated': True, 'entities': {'hashtags': [], 'symbols': [], 'user_mentions': [], 'urls': [{'url': 'https://t.co/2Mg6kFO60S', 'expanded_url': 'https://twitter.com/i/web/status/1000021591332409344', 'display_url': 'twitter.com/i/web/status/1…', 'indices': [117, 140]}]}, 'source': '<a href=\"http://twitter.com/#!/download/ipad\" rel=\"nofollow\">Twitter for iPad</a>', 'in_reply_to_status_id': None, 'in_reply_to_status_id_str': None, 'in_reply_to_user_id': None, 'in_reply_to_user_id_str': None, 'in_reply_to_screen_name': None, 'geo': None, 'coordinates': None, 'place': {'id': 'e0060cda70f5f341', 'url': 'https://api.twitter.com/1.1/geo/id/e0060cda70f5f341.json', 'place_type': 'admin', 'name': 'Texas', 'full_name': 'Texas, USA', 'country_code': 'US', 'country': 'United States', 'contained_within': [], 'bounding_box': {'type': 'Polygon', 'coordinates': [[[-106.645646, 25.837092], [-93.508131, 25.837092], [-93.508131, 36.500695], [-106.645646, 36.500695]]]}, 'attributes': {}}, 'contributors': None, 'is_quote_status': False, 'retweet_count': 15, 'favorite_count': 38, 'favorited': False, 'retweeted': False, 'lang': 'en'}, 'is_quote_status': False, 'retweet_count': 15, 'favorite_count': 0, 'favorited': False, 'retweeted': False, 'lang': 'en'}, 'contributors_enabled': False, 'is_translator': False, 'is_translation_enabled': False, 'profile_background_color': '131516', 'profile_background_image_url': 'http://abs.twimg.com/images/themes/theme11/bg.gif', 'profile_background_image_url_https': 'https://abs.twimg.com/images/themes/theme11/bg.gif', 'profile_background_tile': True, 'profile_image_url': 'http://pbs.twimg.com/profile_images/916510621515911168/0HN1pJ5-_normal.jpg', 'profile_image_url_https': 'https://pbs.twimg.com/profile_images/916510621515911168/0HN1pJ5-_normal.jpg', 'profile_banner_url': 'https://pbs.twimg.com/profile_banners/40638821/1350727566', 'profile_link_color': '009999', 'profile_sidebar_border_color': 'CC3366', 'profile_sidebar_fill_color': 'E5507E', 'profile_text_color': '362720', 'profile_use_background_image': True, 'has_extended_profile': False, 'default_profile': False, 'default_profile_image': False, 'following': False, 'follow_request_sent': False, 'notifications': False, 'translator_type': 'none'}, id=40638821, id_str='40638821', name='Yohana Friscylia', screen_name='yohanafriscylia', location='ÜT: -6.224133,106.9570676', profile_location=None, description='Psalm 23:1', url=None, entities={'description': {'urls': []}}, protected=False, followers_count=366, friends_count=433, listed_count=3, created_at=datetime.datetime(2009, 5, 17, 10, 18, 40), favourites_count=445, utc_offset=None, time_zone=None, geo_enabled=True, verified=False, statuses_count=14228, lang='en', status=Status(_api=<tweepy.api.API object at 0x00000196D9BA2C50>, _json={'created_at': 'Fri May 25 16:33:57 +0000 2018', 'id': 1000052360687702016, 'id_str': '1000052360687702016', 'text': 'RT @ricklgodwin: What is grace? Grace is love that seeks you out when you have nothing to give in return. Grace is love coming at you that…', 'truncated': False, 'entities': {'hashtags': [], 'symbols': [], 'user_mentions': [{'screen_name': 'ricklgodwin', 'name': 'Rick Godwin', 'id': 189240492, 'id_str': '189240492', 'indices': [3, 15]}], 'urls': []}, 'source': '<a href=\"http://twitter.com/download/iphone\" rel=\"nofollow\">Twitter for iPhone</a>', 'in_reply_to_status_id': None, 'in_reply_to_status_id_str': None, 'in_reply_to_user_id': None, 'in_reply_to_user_id_str': None, 'in_reply_to_screen_name': None, 'geo': None, 'coordinates': None, 'place': None, 'contributors': None, 'retweeted_status': {'created_at': 'Fri May 25 14:31:41 +0000 2018', 'id': 1000021591332409344, 'id_str': '1000021591332409344', 'text': 'What is grace? Grace is love that seeks you out when you have nothing to give in return. Grace is love coming at yo… https://t.co/2Mg6kFO60S', 'truncated': True, 'entities': {'hashtags': [], 'symbols': [], 'user_mentions': [], 'urls': [{'url': 'https://t.co/2Mg6kFO60S', 'expanded_url': 'https://twitter.com/i/web/status/1000021591332409344', 'display_url': 'twitter.com/i/web/status/1…', 'indices': [117, 140]}]}, 'source': '<a href=\"http://twitter.com/#!/download/ipad\" rel=\"nofollow\">Twitter for iPad</a>', 'in_reply_to_status_id': None, 'in_reply_to_status_id_str': None, 'in_reply_to_user_id': None, 'in_reply_to_user_id_str': None, 'in_reply_to_screen_name': None, 'geo': None, 'coordinates': None, 'place': {'id': 'e0060cda70f5f341', 'url': 'https://api.twitter.com/1.1/geo/id/e0060cda70f5f341.json', 'place_type': 'admin', 'name': 'Texas', 'full_name': 'Texas, USA', 'country_code': 'US', 'country': 'United States', 'contained_within': [], 'bounding_box': {'type': 'Polygon', 'coordinates': [[[-106.645646, 25.837092], [-93.508131, 25.837092], [-93.508131, 36.500695], [-106.645646, 36.500695]]]}, 'attributes': {}}, 'contributors': None, 'is_quote_status': False, 'retweet_count': 15, 'favorite_count': 38, 'favorited': False, 'retweeted': False, 'lang': 'en'}, 'is_quote_status': False, 'retweet_count': 15, 'favorite_count': 0, 'favorited': False, 'retweeted': False, 'lang': 'en'}, created_at=datetime.datetime(2018, 5, 25, 16, 33, 57), id=1000052360687702016, id_str='1000052360687702016', text='RT @ricklgodwin: What is grace? Grace is love that seeks you out when you have nothing to give in return. Grace is love coming at you that…', truncated=False, entities={'hashtags': [], 'symbols': [], 'user_mentions': [{'screen_name': 'ricklgodwin', 'name': 'Rick Godwin', 'id': 189240492, 'id_str': '189240492', 'indices': [3, 15]}], 'urls': []}, source='Twitter for iPhone', source_url='http://twitter.com/download/iphone', in_reply_to_status_id=None, in_reply_to_status_id_str=None, in_reply_to_user_id=None, in_reply_to_user_id_str=None, in_reply_to_screen_name=None, geo=None, coordinates=None, place=None, contributors=None, retweeted_status=Status(_api=<tweepy.api.API object at 0x00000196D9BA2C50>, _json={'created_at': 'Fri May 25 14:31:41 +0000 2018', 'id': 1000021591332409344, 'id_str': '1000021591332409344', 'text': 'What is grace? Grace is love that seeks you out when you have nothing to give in return. Grace is love coming at yo… https://t.co/2Mg6kFO60S', 'truncated': True, 'entities': {'hashtags': [], 'symbols': [], 'user_mentions': [], 'urls': [{'url': 'https://t.co/2Mg6kFO60S', 'expanded_url': 'https://twitter.com/i/web/status/1000021591332409344', 'display_url': 'twitter.com/i/web/status/1…', 'indices': [117, 140]}]}, 'source': '<a href=\"http://twitter.com/#!/download/ipad\" rel=\"nofollow\">Twitter for iPad</a>', 'in_reply_to_status_id': None, 'in_reply_to_status_id_str': None, 'in_reply_to_user_id': None, 'in_reply_to_user_id_str': None, 'in_reply_to_screen_name': None, 'geo': None, 'coordinates': None, 'place': {'id': 'e0060cda70f5f341', 'url': 'https://api.twitter.com/1.1/geo/id/e0060cda70f5f341.json', 'place_type': 'admin', 'name': 'Texas', 'full_name': 'Texas, USA', 'country_code': 'US', 'country': 'United States', 'contained_within': [], 'bounding_box': {'type': 'Polygon', 'coordinates': [[[-106.645646, 25.837092], [-93.508131, 25.837092], [-93.508131, 36.500695], [-106.645646, 36.500695]]]}, 'attributes': {}}, 'contributors': None, 'is_quote_status': False, 'retweet_count': 15, 'favorite_count': 38, 'favorited': False, 'retweeted': False, 'lang': 'en'}, created_at=datetime.datetime(2018, 5, 25, 14, 31, 41), id=1000021591332409344, id_str='1000021591332409344', text='What is grace? Grace is love that seeks you out when you have nothing to give in return. Grace is love coming at yo… https://t.co/2Mg6kFO60S', truncated=True, entities={'hashtags': [], 'symbols': [], 'user_mentions': [], 'urls': [{'url': 'https://t.co/2Mg6kFO60S', 'expanded_url': 'https://twitter.com/i/web/status/1000021591332409344', 'display_url': 'twitter.com/i/web/status/1…', 'indices': [117, 140]}]}, source='Twitter for iPad', source_url='http://twitter.com/#!/download/ipad', in_reply_to_status_id=None, in_reply_to_status_id_str=None, in_reply_to_user_id=None, in_reply_to_user_id_str=None, in_reply_to_screen_name=None, geo=None, coordinates=None, place=Place(_api=<tweepy.api.API object at 0x00000196D9BA2C50>, id='e0060cda70f5f341', url='https://api.twitter.com/1.1/geo/id/e0060cda70f5f341.json', place_type='admin', name='Texas', full_name='Texas, USA', country_code='US', country='United States', contained_within=[], bounding_box=BoundingBox(_api=<tweepy.api.API object at 0x00000196D9BA2C50>, type='Polygon', coordinates=[[[-106.645646, 25.837092], [-93.508131, 25.837092], [-93.508131, 36.500695], [-106.645646, 36.500695]]]), attributes={}), contributors=None, is_quote_status=False, retweet_count=15, favorite_count=38, favorited=False, retweeted=False, lang='en'), is_quote_status=False, retweet_count=15, favorite_count=0, favorited=False, retweeted=False, lang='en'), contributors_enabled=False, is_translator=False, is_translation_enabled=False, profile_background_color='131516', profile_background_image_url='http://abs.twimg.com/images/themes/theme11/bg.gif', profile_background_image_url_https='https://abs.twimg.com/images/themes/theme11/bg.gif', profile_background_tile=True, profile_image_url='http://pbs.twimg.com/profile_images/916510621515911168/0HN1pJ5-_normal.jpg', profile_image_url_https='https://pbs.twimg.com/profile_images/916510621515911168/0HN1pJ5-_normal.jpg', profile_banner_url='https://pbs.twimg.com/profile_banners/40638821/1350727566', profile_link_color='009999', profile_sidebar_border_color='CC3366', profile_sidebar_fill_color='E5507E', profile_text_color='362720', profile_use_background_image=True, has_extended_profile=False, default_profile=False, default_profile_image=False, following=False, follow_request_sent=False, notifications=False, translator_type='none')]\n"
     ]
    }
   ],
   "source": [
    "print(threeUsers)"
   ]
  },
  {
   "cell_type": "code",
   "execution_count": 16,
   "metadata": {},
   "outputs": [
    {
     "name": "stdout",
     "output_type": "stream",
     "text": [
      "User @ariarkos:\n",
      "punya teman,\n",
      "@inspiraspeakers\n",
      "@businessinsider\n",
      "-----------------\n",
      "User @ranyraniaa:\n",
      "punya teman,\n",
      "@kpp_pa\n",
      "@smartfrenworld\n",
      "-----------------\n",
      "User @FachrulBahtiar:\n",
      "punya teman,\n",
      "@CraigNorwood\n",
      "@MerryRiana\n",
      "-----------------\n",
      "User @yohanafriscylia:\n",
      "punya teman,\n",
      "@InfoTwitwor\n",
      "@BBCIndonesia\n",
      "-----------------\n"
     ]
    }
   ],
   "source": [
    "### Fill the code ###\n",
    "\n",
    "# Get two user that were followed by each of these three users\n",
    "for u in threeUsers:\n",
    "    # get list of friends\n",
    "    print('User @'+u.screen_name +':')\n",
    "    friends = u.friends()\n",
    "    print('punya teman,')\n",
    "    # get only two friend\n",
    "    for i in range(0,2):\n",
    "        print('@'+friends[i].screen_name)\n",
    "    print('-----------------')\n",
    "        "
   ]
  },
  {
   "cell_type": "markdown",
   "metadata": {},
   "source": [
    "# Task 3"
   ]
  },
  {
   "cell_type": "code",
   "execution_count": 18,
   "metadata": {},
   "outputs": [],
   "source": [
    "### Fill the code ###\n",
    "# Get tweet from account\n",
    "\n",
    "astraTweet2 = api.user_timeline('Astra_Career')"
   ]
  },
  {
   "cell_type": "code",
   "execution_count": 34,
   "metadata": {},
   "outputs": [],
   "source": [
    "### Fill the code ###\n",
    "\n",
    "hashtag = None\n",
    "\n",
    "\n",
    "for t in astraTweet2:\n",
    "    # Check tweet that has hashtag\n",
    "    list_hashtag = t.entities.get('hashtags') #ambil semua hashtag di twitter\n",
    "    # if it has hashtag, get the hashtag and break the loops\n",
    "    # else continue loop\n",
    "    if len(list_hashtag) > 0 : #cek apakah ada hashtag\n",
    "        hashtag = list_hashtag[0]['text']\n",
    "        break\n",
    "    else :\n",
    "        continue"
   ]
  },
  {
   "cell_type": "code",
   "execution_count": 35,
   "metadata": {
    "scrolled": true
   },
   "outputs": [
    {
     "name": "stdout",
     "output_type": "stream",
     "text": [
      "AstraVirtue\n"
     ]
    }
   ],
   "source": [
    "print(hashtag)"
   ]
  },
  {
   "cell_type": "code",
   "execution_count": 46,
   "metadata": {},
   "outputs": [],
   "source": [
    "### Fill the code ###\n",
    "# Search ten latest tweets that also has that hashtag\n",
    "# get all of the locations\n",
    "locations = []\n",
    "\n",
    "query = \"#\"+hashtag\n",
    "hashtagTweets = tweepy.Cursor(api.search, q=query, include_entities=True).items(10) #search hashtag 10 terakhir\n",
    "for tweet in hashtagTweets:\n",
    "    if tweet.author.location == '' :\n",
    "        loc = 'Tidak tersedia'\n",
    "    else :\n",
    "        loc = tweet.author.location #ambil lokasi dari tweet author\n",
    "    locations.append(loc)"
   ]
  },
  {
   "cell_type": "code",
   "execution_count": 47,
   "metadata": {},
   "outputs": [
    {
     "name": "stdout",
     "output_type": "stream",
     "text": [
      "['Tidak tersedia', 'Tidak tersedia']\n"
     ]
    }
   ],
   "source": [
    "print(locations)"
   ]
  }
 ],
 "metadata": {
  "kernelspec": {
   "display_name": "Python 3",
   "language": "python",
   "name": "python3"
  },
  "language_info": {
   "codemirror_mode": {
    "name": "ipython",
    "version": 3
   },
   "file_extension": ".py",
   "mimetype": "text/x-python",
   "name": "python",
   "nbconvert_exporter": "python",
   "pygments_lexer": "ipython3",
   "version": "3.6.4"
  }
 },
 "nbformat": 4,
 "nbformat_minor": 2
}
