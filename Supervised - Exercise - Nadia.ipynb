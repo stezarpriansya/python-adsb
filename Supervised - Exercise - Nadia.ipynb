{
 "cells": [
  {
   "cell_type": "code",
   "execution_count": 1,
   "metadata": {},
   "outputs": [
    {
     "name": "stderr",
     "output_type": "stream",
     "text": [
      "C:\\Users\\stezar059244\\AppData\\Local\\Continuum\\anaconda3\\lib\\site-packages\\statsmodels\\compat\\pandas.py:56: FutureWarning: The pandas.core.datetools module is deprecated and will be removed in a future version. Please use the pandas.tseries module instead.\n",
      "  from pandas.core import datetools\n"
     ]
    }
   ],
   "source": [
    "import pandas as pd\n",
    "import numpy as np\n",
    "import matplotlib.pyplot as plt\n",
    "import statsmodels.formula.api as smf\n",
    "import statsmodels.api as sm\n",
    "import seaborn as sns\n",
    "from collections import OrderedDict\n",
    "from sklearn.metrics import confusion_matrix, classification_report\n",
    "from sklearn.linear_model import LogisticRegression\n",
    "from sklearn.tree import DecisionTreeClassifier, export_graphviz\n",
    "from sklearn.model_selection import train_test_split, cross_val_score, KFold, GridSearchCV"
   ]
  },
  {
   "cell_type": "code",
   "execution_count": 2,
   "metadata": {},
   "outputs": [],
   "source": [
    "train = pd.read_csv(\"training_german.csv\")\n",
    "test = pd.read_csv(\"testing_german.csv\")"
   ]
  },
  {
   "cell_type": "code",
   "execution_count": 3,
   "metadata": {},
   "outputs": [
    {
     "data": {
      "text/html": [
       "<div>\n",
       "<style scoped>\n",
       "    .dataframe tbody tr th:only-of-type {\n",
       "        vertical-align: middle;\n",
       "    }\n",
       "\n",
       "    .dataframe tbody tr th {\n",
       "        vertical-align: top;\n",
       "    }\n",
       "\n",
       "    .dataframe thead th {\n",
       "        text-align: right;\n",
       "    }\n",
       "</style>\n",
       "<table border=\"1\" class=\"dataframe\">\n",
       "  <thead>\n",
       "    <tr style=\"text-align: right;\">\n",
       "      <th></th>\n",
       "      <th>ID</th>\n",
       "      <th>LIMIT_BAL</th>\n",
       "      <th>MARRIAGE</th>\n",
       "      <th>EDUCATION</th>\n",
       "      <th>SEX</th>\n",
       "      <th>AGE</th>\n",
       "      <th>BILL_AMT1</th>\n",
       "      <th>BILL_AMT2</th>\n",
       "      <th>BILL_AMT3</th>\n",
       "      <th>TARGET</th>\n",
       "    </tr>\n",
       "  </thead>\n",
       "  <tbody>\n",
       "    <tr>\n",
       "      <th>0</th>\n",
       "      <td>1</td>\n",
       "      <td>30000.0</td>\n",
       "      <td>1</td>\n",
       "      <td>1</td>\n",
       "      <td>2</td>\n",
       "      <td>40</td>\n",
       "      <td>24607.0</td>\n",
       "      <td>24430.0</td>\n",
       "      <td>23881.0</td>\n",
       "      <td>0</td>\n",
       "    </tr>\n",
       "    <tr>\n",
       "      <th>1</th>\n",
       "      <td>2</td>\n",
       "      <td>20000.0</td>\n",
       "      <td>1</td>\n",
       "      <td>1</td>\n",
       "      <td>2</td>\n",
       "      <td>41</td>\n",
       "      <td>17040.0</td>\n",
       "      <td>16474.0</td>\n",
       "      <td>17203.0</td>\n",
       "      <td>0</td>\n",
       "    </tr>\n",
       "    <tr>\n",
       "      <th>2</th>\n",
       "      <td>3</td>\n",
       "      <td>20000.0</td>\n",
       "      <td>1</td>\n",
       "      <td>1</td>\n",
       "      <td>2</td>\n",
       "      <td>36</td>\n",
       "      <td>17332.0</td>\n",
       "      <td>18600.0</td>\n",
       "      <td>17947.0</td>\n",
       "      <td>0</td>\n",
       "    </tr>\n",
       "    <tr>\n",
       "      <th>3</th>\n",
       "      <td>4</td>\n",
       "      <td>20000.0</td>\n",
       "      <td>1</td>\n",
       "      <td>1</td>\n",
       "      <td>2</td>\n",
       "      <td>35</td>\n",
       "      <td>2003.0</td>\n",
       "      <td>2948.0</td>\n",
       "      <td>3372.0</td>\n",
       "      <td>0</td>\n",
       "    </tr>\n",
       "    <tr>\n",
       "      <th>4</th>\n",
       "      <td>5</td>\n",
       "      <td>170000.0</td>\n",
       "      <td>1</td>\n",
       "      <td>1</td>\n",
       "      <td>2</td>\n",
       "      <td>38</td>\n",
       "      <td>171465.0</td>\n",
       "      <td>145196.0</td>\n",
       "      <td>110163.0</td>\n",
       "      <td>0</td>\n",
       "    </tr>\n",
       "  </tbody>\n",
       "</table>\n",
       "</div>"
      ],
      "text/plain": [
       "   ID  LIMIT_BAL  MARRIAGE  EDUCATION  SEX  AGE  BILL_AMT1  BILL_AMT2  \\\n",
       "0   1    30000.0         1          1    2   40    24607.0    24430.0   \n",
       "1   2    20000.0         1          1    2   41    17040.0    16474.0   \n",
       "2   3    20000.0         1          1    2   36    17332.0    18600.0   \n",
       "3   4    20000.0         1          1    2   35     2003.0     2948.0   \n",
       "4   5   170000.0         1          1    2   38   171465.0   145196.0   \n",
       "\n",
       "   BILL_AMT3  TARGET  \n",
       "0    23881.0       0  \n",
       "1    17203.0       0  \n",
       "2    17947.0       0  \n",
       "3     3372.0       0  \n",
       "4   110163.0       0  "
      ]
     },
     "execution_count": 3,
     "metadata": {},
     "output_type": "execute_result"
    }
   ],
   "source": [
    "train.head()"
   ]
  },
  {
   "cell_type": "code",
   "execution_count": 4,
   "metadata": {},
   "outputs": [
    {
     "data": {
      "text/html": [
       "<div>\n",
       "<style scoped>\n",
       "    .dataframe tbody tr th:only-of-type {\n",
       "        vertical-align: middle;\n",
       "    }\n",
       "\n",
       "    .dataframe tbody tr th {\n",
       "        vertical-align: top;\n",
       "    }\n",
       "\n",
       "    .dataframe thead th {\n",
       "        text-align: right;\n",
       "    }\n",
       "</style>\n",
       "<table border=\"1\" class=\"dataframe\">\n",
       "  <thead>\n",
       "    <tr style=\"text-align: right;\">\n",
       "      <th></th>\n",
       "      <th>ID</th>\n",
       "      <th>LIMIT_BAL</th>\n",
       "      <th>MARRIAGE</th>\n",
       "      <th>EDUCATION</th>\n",
       "      <th>SEX</th>\n",
       "      <th>AGE</th>\n",
       "      <th>BILL_AMT1</th>\n",
       "      <th>BILL_AMT2</th>\n",
       "      <th>BILL_AMT3</th>\n",
       "    </tr>\n",
       "  </thead>\n",
       "  <tbody>\n",
       "    <tr>\n",
       "      <th>0</th>\n",
       "      <td>1</td>\n",
       "      <td>30000.0</td>\n",
       "      <td>1</td>\n",
       "      <td>1</td>\n",
       "      <td>2</td>\n",
       "      <td>40</td>\n",
       "      <td>24430.0</td>\n",
       "      <td>23881.0</td>\n",
       "      <td>24234.0</td>\n",
       "    </tr>\n",
       "    <tr>\n",
       "      <th>1</th>\n",
       "      <td>2</td>\n",
       "      <td>20000.0</td>\n",
       "      <td>1</td>\n",
       "      <td>1</td>\n",
       "      <td>2</td>\n",
       "      <td>41</td>\n",
       "      <td>16474.0</td>\n",
       "      <td>17203.0</td>\n",
       "      <td>18411.0</td>\n",
       "    </tr>\n",
       "    <tr>\n",
       "      <th>2</th>\n",
       "      <td>3</td>\n",
       "      <td>20000.0</td>\n",
       "      <td>1</td>\n",
       "      <td>1</td>\n",
       "      <td>2</td>\n",
       "      <td>36</td>\n",
       "      <td>18600.0</td>\n",
       "      <td>17947.0</td>\n",
       "      <td>18758.0</td>\n",
       "    </tr>\n",
       "    <tr>\n",
       "      <th>3</th>\n",
       "      <td>4</td>\n",
       "      <td>20000.0</td>\n",
       "      <td>1</td>\n",
       "      <td>1</td>\n",
       "      <td>2</td>\n",
       "      <td>35</td>\n",
       "      <td>2948.0</td>\n",
       "      <td>3372.0</td>\n",
       "      <td>0.0</td>\n",
       "    </tr>\n",
       "    <tr>\n",
       "      <th>4</th>\n",
       "      <td>5</td>\n",
       "      <td>170000.0</td>\n",
       "      <td>1</td>\n",
       "      <td>1</td>\n",
       "      <td>2</td>\n",
       "      <td>38</td>\n",
       "      <td>145196.0</td>\n",
       "      <td>110163.0</td>\n",
       "      <td>112157.0</td>\n",
       "    </tr>\n",
       "  </tbody>\n",
       "</table>\n",
       "</div>"
      ],
      "text/plain": [
       "   ID  LIMIT_BAL  MARRIAGE  EDUCATION  SEX  AGE  BILL_AMT1  BILL_AMT2  \\\n",
       "0   1    30000.0         1          1    2   40    24430.0    23881.0   \n",
       "1   2    20000.0         1          1    2   41    16474.0    17203.0   \n",
       "2   3    20000.0         1          1    2   36    18600.0    17947.0   \n",
       "3   4    20000.0         1          1    2   35     2948.0     3372.0   \n",
       "4   5   170000.0         1          1    2   38   145196.0   110163.0   \n",
       "\n",
       "   BILL_AMT3  \n",
       "0    24234.0  \n",
       "1    18411.0  \n",
       "2    18758.0  \n",
       "3        0.0  \n",
       "4   112157.0  "
      ]
     },
     "execution_count": 4,
     "metadata": {},
     "output_type": "execute_result"
    }
   ],
   "source": [
    "test.head()"
   ]
  },
  {
   "cell_type": "code",
   "execution_count": 5,
   "metadata": {},
   "outputs": [
    {
     "name": "stdout",
     "output_type": "stream",
     "text": [
      "(16625, 10)\n",
      "(16625, 9)\n"
     ]
    }
   ],
   "source": [
    "print(train.shape)\n",
    "print(test.shape)"
   ]
  },
  {
   "cell_type": "code",
   "execution_count": 7,
   "metadata": {},
   "outputs": [
    {
     "name": "stdout",
     "output_type": "stream",
     "text": [
      "<class 'pandas.core.frame.DataFrame'>\n",
      "RangeIndex: 16625 entries, 0 to 16624\n",
      "Data columns (total 10 columns):\n",
      "ID           16625 non-null int64\n",
      "LIMIT_BAL    16625 non-null float64\n",
      "MARRIAGE     16625 non-null int64\n",
      "EDUCATION    16625 non-null int64\n",
      "SEX          16625 non-null int64\n",
      "AGE          16625 non-null int64\n",
      "BILL_AMT1    16625 non-null float64\n",
      "BILL_AMT2    16625 non-null float64\n",
      "BILL_AMT3    16625 non-null float64\n",
      "TARGET       16625 non-null int64\n",
      "dtypes: float64(4), int64(6)\n",
      "memory usage: 1.3 MB\n"
     ]
    }
   ],
   "source": [
    "train.info()"
   ]
  },
  {
   "cell_type": "code",
   "execution_count": 6,
   "metadata": {},
   "outputs": [],
   "source": [
    "train[\"MARRIAGE\"].replace(1, 'Belum Menikah', inplace=True)\n",
    "train[\"MARRIAGE\"].replace(2, 'Menikah', inplace=True)\n",
    "train[\"MARRIAGE\"].replace(3, 'Lainnya', inplace=True)\n",
    "train[\"EDUCATION\"].replace(1, 'S2/S3', inplace=True)\n",
    "train[\"EDUCATION\"].replace(2, 'Dipl/S1', inplace=True)\n",
    "train[\"EDUCATION\"].replace(3, 'SMA', inplace=True)\n",
    "train[\"EDUCATION\"].replace(4, 'Lainnya', inplace=True)\n",
    "train[\"SEX\"].replace(1, 'Pria', inplace=True)\n",
    "train[\"SEX\"].replace(2, 'Wanita', inplace=True)"
   ]
  },
  {
   "cell_type": "code",
   "execution_count": 9,
   "metadata": {},
   "outputs": [
    {
     "data": {
      "text/html": [
       "<div>\n",
       "<style scoped>\n",
       "    .dataframe tbody tr th:only-of-type {\n",
       "        vertical-align: middle;\n",
       "    }\n",
       "\n",
       "    .dataframe tbody tr th {\n",
       "        vertical-align: top;\n",
       "    }\n",
       "\n",
       "    .dataframe thead th {\n",
       "        text-align: right;\n",
       "    }\n",
       "</style>\n",
       "<table border=\"1\" class=\"dataframe\">\n",
       "  <thead>\n",
       "    <tr style=\"text-align: right;\">\n",
       "      <th></th>\n",
       "      <th>ID</th>\n",
       "      <th>LIMIT_BAL</th>\n",
       "      <th>MARRIAGE</th>\n",
       "      <th>EDUCATION</th>\n",
       "      <th>SEX</th>\n",
       "      <th>AGE</th>\n",
       "      <th>BILL_AMT1</th>\n",
       "      <th>BILL_AMT2</th>\n",
       "      <th>BILL_AMT3</th>\n",
       "      <th>TARGET</th>\n",
       "    </tr>\n",
       "  </thead>\n",
       "  <tbody>\n",
       "    <tr>\n",
       "      <th>0</th>\n",
       "      <td>1</td>\n",
       "      <td>30000.0</td>\n",
       "      <td>Belum Menikah</td>\n",
       "      <td>S2/S3</td>\n",
       "      <td>Wanita</td>\n",
       "      <td>40</td>\n",
       "      <td>24607.0</td>\n",
       "      <td>24430.0</td>\n",
       "      <td>23881.0</td>\n",
       "      <td>0</td>\n",
       "    </tr>\n",
       "    <tr>\n",
       "      <th>1</th>\n",
       "      <td>2</td>\n",
       "      <td>20000.0</td>\n",
       "      <td>Belum Menikah</td>\n",
       "      <td>S2/S3</td>\n",
       "      <td>Wanita</td>\n",
       "      <td>41</td>\n",
       "      <td>17040.0</td>\n",
       "      <td>16474.0</td>\n",
       "      <td>17203.0</td>\n",
       "      <td>0</td>\n",
       "    </tr>\n",
       "    <tr>\n",
       "      <th>2</th>\n",
       "      <td>3</td>\n",
       "      <td>20000.0</td>\n",
       "      <td>Belum Menikah</td>\n",
       "      <td>S2/S3</td>\n",
       "      <td>Wanita</td>\n",
       "      <td>36</td>\n",
       "      <td>17332.0</td>\n",
       "      <td>18600.0</td>\n",
       "      <td>17947.0</td>\n",
       "      <td>0</td>\n",
       "    </tr>\n",
       "    <tr>\n",
       "      <th>3</th>\n",
       "      <td>4</td>\n",
       "      <td>20000.0</td>\n",
       "      <td>Belum Menikah</td>\n",
       "      <td>S2/S3</td>\n",
       "      <td>Wanita</td>\n",
       "      <td>35</td>\n",
       "      <td>2003.0</td>\n",
       "      <td>2948.0</td>\n",
       "      <td>3372.0</td>\n",
       "      <td>0</td>\n",
       "    </tr>\n",
       "    <tr>\n",
       "      <th>4</th>\n",
       "      <td>5</td>\n",
       "      <td>170000.0</td>\n",
       "      <td>Belum Menikah</td>\n",
       "      <td>S2/S3</td>\n",
       "      <td>Wanita</td>\n",
       "      <td>38</td>\n",
       "      <td>171465.0</td>\n",
       "      <td>145196.0</td>\n",
       "      <td>110163.0</td>\n",
       "      <td>0</td>\n",
       "    </tr>\n",
       "  </tbody>\n",
       "</table>\n",
       "</div>"
      ],
      "text/plain": [
       "   ID  LIMIT_BAL       MARRIAGE EDUCATION     SEX  AGE  BILL_AMT1  BILL_AMT2  \\\n",
       "0   1    30000.0  Belum Menikah     S2/S3  Wanita   40    24607.0    24430.0   \n",
       "1   2    20000.0  Belum Menikah     S2/S3  Wanita   41    17040.0    16474.0   \n",
       "2   3    20000.0  Belum Menikah     S2/S3  Wanita   36    17332.0    18600.0   \n",
       "3   4    20000.0  Belum Menikah     S2/S3  Wanita   35     2003.0     2948.0   \n",
       "4   5   170000.0  Belum Menikah     S2/S3  Wanita   38   171465.0   145196.0   \n",
       "\n",
       "   BILL_AMT3  TARGET  \n",
       "0    23881.0       0  \n",
       "1    17203.0       0  \n",
       "2    17947.0       0  \n",
       "3     3372.0       0  \n",
       "4   110163.0       0  "
      ]
     },
     "execution_count": 9,
     "metadata": {},
     "output_type": "execute_result"
    }
   ],
   "source": [
    "train.head()"
   ]
  },
  {
   "cell_type": "code",
   "execution_count": 10,
   "metadata": {},
   "outputs": [
    {
     "data": {
      "image/png": "[encoded data removed]",
      "text/plain": [
       "<matplotlib.figure.Figure at 0x2b279429240>"
      ]
     },
     "metadata": {},
     "output_type": "display_data"
    }
   ],
   "source": [
    "corr = train.corr()\n",
    "df = pd.DataFrame(train.corr())\n",
    "plt.figure(figsize=(8,8))\n",
    "sns.heatmap(df, cmap='magma', linewidths=0.5, annot=True)\n",
    "plt.show()"
   ]
  },
  {
   "cell_type": "code",
   "execution_count": 9,
   "metadata": {},
   "outputs": [
    {
     "data": {
      "text/html": [
       "<div>\n",
       "<style scoped>\n",
       "    .dataframe tbody tr th:only-of-type {\n",
       "        vertical-align: middle;\n",
       "    }\n",
       "\n",
       "    .dataframe tbody tr th {\n",
       "        vertical-align: top;\n",
       "    }\n",
       "\n",
       "    .dataframe thead th {\n",
       "        text-align: right;\n",
       "    }\n",
       "</style>\n",
       "<table border=\"1\" class=\"dataframe\">\n",
       "  <thead>\n",
       "    <tr style=\"text-align: right;\">\n",
       "      <th></th>\n",
       "      <th>ID</th>\n",
       "      <th>LIMIT_BAL</th>\n",
       "      <th>AGE</th>\n",
       "      <th>BILL_AMT1</th>\n",
       "      <th>BILL_AMT2</th>\n",
       "      <th>BILL_AMT3</th>\n",
       "      <th>TARGET</th>\n",
       "      <th>MARRIAGE_Lainnya</th>\n",
       "      <th>MARRIAGE_Menikah</th>\n",
       "      <th>EDUCATION_Lainnya</th>\n",
       "      <th>EDUCATION_S2/S3</th>\n",
       "      <th>EDUCATION_SMA</th>\n",
       "      <th>SEX_Wanita</th>\n",
       "    </tr>\n",
       "  </thead>\n",
       "  <tbody>\n",
       "    <tr>\n",
       "      <th>0</th>\n",
       "      <td>1</td>\n",
       "      <td>30000.0</td>\n",
       "      <td>40</td>\n",
       "      <td>24607.0</td>\n",
       "      <td>24430.0</td>\n",
       "      <td>23881.0</td>\n",
       "      <td>0</td>\n",
       "      <td>0</td>\n",
       "      <td>0</td>\n",
       "      <td>0</td>\n",
       "      <td>1</td>\n",
       "      <td>0</td>\n",
       "      <td>1</td>\n",
       "    </tr>\n",
       "    <tr>\n",
       "      <th>1</th>\n",
       "      <td>2</td>\n",
       "      <td>20000.0</td>\n",
       "      <td>41</td>\n",
       "      <td>17040.0</td>\n",
       "      <td>16474.0</td>\n",
       "      <td>17203.0</td>\n",
       "      <td>0</td>\n",
       "      <td>0</td>\n",
       "      <td>0</td>\n",
       "      <td>0</td>\n",
       "      <td>1</td>\n",
       "      <td>0</td>\n",
       "      <td>1</td>\n",
       "    </tr>\n",
       "    <tr>\n",
       "      <th>2</th>\n",
       "      <td>3</td>\n",
       "      <td>20000.0</td>\n",
       "      <td>36</td>\n",
       "      <td>17332.0</td>\n",
       "      <td>18600.0</td>\n",
       "      <td>17947.0</td>\n",
       "      <td>0</td>\n",
       "      <td>0</td>\n",
       "      <td>0</td>\n",
       "      <td>0</td>\n",
       "      <td>1</td>\n",
       "      <td>0</td>\n",
       "      <td>1</td>\n",
       "    </tr>\n",
       "    <tr>\n",
       "      <th>3</th>\n",
       "      <td>4</td>\n",
       "      <td>20000.0</td>\n",
       "      <td>35</td>\n",
       "      <td>2003.0</td>\n",
       "      <td>2948.0</td>\n",
       "      <td>3372.0</td>\n",
       "      <td>0</td>\n",
       "      <td>0</td>\n",
       "      <td>0</td>\n",
       "      <td>0</td>\n",
       "      <td>1</td>\n",
       "      <td>0</td>\n",
       "      <td>1</td>\n",
       "    </tr>\n",
       "    <tr>\n",
       "      <th>4</th>\n",
       "      <td>5</td>\n",
       "      <td>170000.0</td>\n",
       "      <td>38</td>\n",
       "      <td>171465.0</td>\n",
       "      <td>145196.0</td>\n",
       "      <td>110163.0</td>\n",
       "      <td>0</td>\n",
       "      <td>0</td>\n",
       "      <td>0</td>\n",
       "      <td>0</td>\n",
       "      <td>1</td>\n",
       "      <td>0</td>\n",
       "      <td>1</td>\n",
       "    </tr>\n",
       "  </tbody>\n",
       "</table>\n",
       "</div>"
      ],
      "text/plain": [
       "   ID  LIMIT_BAL  AGE  BILL_AMT1  BILL_AMT2  BILL_AMT3  TARGET  \\\n",
       "0   1    30000.0   40    24607.0    24430.0    23881.0       0   \n",
       "1   2    20000.0   41    17040.0    16474.0    17203.0       0   \n",
       "2   3    20000.0   36    17332.0    18600.0    17947.0       0   \n",
       "3   4    20000.0   35     2003.0     2948.0     3372.0       0   \n",
       "4   5   170000.0   38   171465.0   145196.0   110163.0       0   \n",
       "\n",
       "   MARRIAGE_Lainnya  MARRIAGE_Menikah  EDUCATION_Lainnya  EDUCATION_S2/S3  \\\n",
       "0                 0                 0                  0                1   \n",
       "1                 0                 0                  0                1   \n",
       "2                 0                 0                  0                1   \n",
       "3                 0                 0                  0                1   \n",
       "4                 0                 0                  0                1   \n",
       "\n",
       "   EDUCATION_SMA  SEX_Wanita  \n",
       "0              0           1  \n",
       "1              0           1  \n",
       "2              0           1  \n",
       "3              0           1  \n",
       "4              0           1  "
      ]
     },
     "execution_count": 9,
     "metadata": {},
     "output_type": "execute_result"
    }
   ],
   "source": [
    "train1 = pd.get_dummies(train, columns=[\"MARRIAGE\",\"EDUCATION\", \"SEX\"], drop_first=True)\n",
    "train1.head()"
   ]
  },
  {
   "cell_type": "code",
   "execution_count": 12,
   "metadata": {},
   "outputs": [
    {
     "data": {
      "image/png": "[encoded data removed]",
      "text/plain": [
       "<matplotlib.figure.Figure at 0x2b2798dc400>"
      ]
     },
     "metadata": {},
     "output_type": "display_data"
    }
   ],
   "source": [
    "sns.boxplot(x='SEX',y='LIMIT_BAL',data=train) #mirip strip plot tapi data nyebar\n",
    "plt.show()"
   ]
  },
  {
   "cell_type": "code",
   "execution_count": 13,
   "metadata": {},
   "outputs": [
    {
     "data": {
      "image/png": "[encoded data removed]",
      "text/plain": [
       "<matplotlib.figure.Figure at 0x2b279883fd0>"
      ]
     },
     "metadata": {},
     "output_type": "display_data"
    }
   ],
   "source": [
    "sns.boxplot(x='TARGET',y='LIMIT_BAL',data=train) #mirip strip plot tapi data nyebar\n",
    "plt.show()"
   ]
  },
  {
   "cell_type": "code",
   "execution_count": 58,
   "metadata": {},
   "outputs": [
    {
     "data": {
      "text/html": [
       "<div>\n",
       "<style scoped>\n",
       "    .dataframe tbody tr th:only-of-type {\n",
       "        vertical-align: middle;\n",
       "    }\n",
       "\n",
       "    .dataframe tbody tr th {\n",
       "        vertical-align: top;\n",
       "    }\n",
       "\n",
       "    .dataframe thead th {\n",
       "        text-align: right;\n",
       "    }\n",
       "</style>\n",
       "<table border=\"1\" class=\"dataframe\">\n",
       "  <thead>\n",
       "    <tr style=\"text-align: right;\">\n",
       "      <th></th>\n",
       "      <th>ID</th>\n",
       "      <th>LIMIT_BAL</th>\n",
       "      <th>AGE</th>\n",
       "      <th>BILL_AMT1</th>\n",
       "      <th>BILL_AMT2</th>\n",
       "      <th>BILL_AMT3</th>\n",
       "      <th>TARGET</th>\n",
       "      <th>MARRIAGE_Lainnya</th>\n",
       "      <th>MARRIAGE_Menikah</th>\n",
       "      <th>EDUCATION_Lainnya</th>\n",
       "      <th>EDUCATION_S2/S3</th>\n",
       "      <th>EDUCATION_SMA</th>\n",
       "      <th>SEX_Wanita</th>\n",
       "    </tr>\n",
       "  </thead>\n",
       "  <tbody>\n",
       "    <tr>\n",
       "      <th>count</th>\n",
       "      <td>16625.000000</td>\n",
       "      <td>16625.000000</td>\n",
       "      <td>16625.000000</td>\n",
       "      <td>16625.000000</td>\n",
       "      <td>16625.000000</td>\n",
       "      <td>16625.000000</td>\n",
       "      <td>16625.000000</td>\n",
       "      <td>16625.000000</td>\n",
       "      <td>16625.000000</td>\n",
       "      <td>16625.000000</td>\n",
       "      <td>16625.000000</td>\n",
       "      <td>16625.000000</td>\n",
       "      <td>16625.000000</td>\n",
       "    </tr>\n",
       "    <tr>\n",
       "      <th>mean</th>\n",
       "      <td>8313.000000</td>\n",
       "      <td>157608.781955</td>\n",
       "      <td>43.373955</td>\n",
       "      <td>50720.634827</td>\n",
       "      <td>48815.920662</td>\n",
       "      <td>46471.030556</td>\n",
       "      <td>0.399158</td>\n",
       "      <td>0.012331</td>\n",
       "      <td>0.452271</td>\n",
       "      <td>0.018767</td>\n",
       "      <td>0.242346</td>\n",
       "      <td>0.322346</td>\n",
       "      <td>0.588752</td>\n",
       "    </tr>\n",
       "    <tr>\n",
       "      <th>std</th>\n",
       "      <td>4799.368448</td>\n",
       "      <td>124931.062684</td>\n",
       "      <td>8.777974</td>\n",
       "      <td>73365.449060</td>\n",
       "      <td>70753.129768</td>\n",
       "      <td>68182.984755</td>\n",
       "      <td>0.489740</td>\n",
       "      <td>0.110361</td>\n",
       "      <td>0.497732</td>\n",
       "      <td>0.135705</td>\n",
       "      <td>0.428515</td>\n",
       "      <td>0.467389</td>\n",
       "      <td>0.492075</td>\n",
       "    </tr>\n",
       "    <tr>\n",
       "      <th>min</th>\n",
       "      <td>1.000000</td>\n",
       "      <td>0.000000</td>\n",
       "      <td>20.000000</td>\n",
       "      <td>-165580.000000</td>\n",
       "      <td>-69777.000000</td>\n",
       "      <td>-61506.000000</td>\n",
       "      <td>0.000000</td>\n",
       "      <td>0.000000</td>\n",
       "      <td>0.000000</td>\n",
       "      <td>0.000000</td>\n",
       "      <td>0.000000</td>\n",
       "      <td>0.000000</td>\n",
       "      <td>0.000000</td>\n",
       "    </tr>\n",
       "    <tr>\n",
       "      <th>25%</th>\n",
       "      <td>4157.000000</td>\n",
       "      <td>50000.000000</td>\n",
       "      <td>37.000000</td>\n",
       "      <td>3491.000000</td>\n",
       "      <td>2997.000000</td>\n",
       "      <td>2550.000000</td>\n",
       "      <td>0.000000</td>\n",
       "      <td>0.000000</td>\n",
       "      <td>0.000000</td>\n",
       "      <td>0.000000</td>\n",
       "      <td>0.000000</td>\n",
       "      <td>0.000000</td>\n",
       "      <td>0.000000</td>\n",
       "    </tr>\n",
       "    <tr>\n",
       "      <th>50%</th>\n",
       "      <td>8313.000000</td>\n",
       "      <td>120000.000000</td>\n",
       "      <td>42.000000</td>\n",
       "      <td>21943.000000</td>\n",
       "      <td>20987.000000</td>\n",
       "      <td>19954.000000</td>\n",
       "      <td>0.000000</td>\n",
       "      <td>0.000000</td>\n",
       "      <td>0.000000</td>\n",
       "      <td>0.000000</td>\n",
       "      <td>0.000000</td>\n",
       "      <td>0.000000</td>\n",
       "      <td>1.000000</td>\n",
       "    </tr>\n",
       "    <tr>\n",
       "      <th>75%</th>\n",
       "      <td>12469.000000</td>\n",
       "      <td>230000.000000</td>\n",
       "      <td>49.000000</td>\n",
       "      <td>65903.000000</td>\n",
       "      <td>62725.000000</td>\n",
       "      <td>59111.000000</td>\n",
       "      <td>1.000000</td>\n",
       "      <td>0.000000</td>\n",
       "      <td>1.000000</td>\n",
       "      <td>0.000000</td>\n",
       "      <td>0.000000</td>\n",
       "      <td>1.000000</td>\n",
       "      <td>1.000000</td>\n",
       "    </tr>\n",
       "    <tr>\n",
       "      <th>max</th>\n",
       "      <td>16625.000000</td>\n",
       "      <td>800000.000000</td>\n",
       "      <td>72.000000</td>\n",
       "      <td>746814.000000</td>\n",
       "      <td>646770.000000</td>\n",
       "      <td>693131.000000</td>\n",
       "      <td>1.000000</td>\n",
       "      <td>1.000000</td>\n",
       "      <td>1.000000</td>\n",
       "      <td>1.000000</td>\n",
       "      <td>1.000000</td>\n",
       "      <td>1.000000</td>\n",
       "      <td>1.000000</td>\n",
       "    </tr>\n",
       "  </tbody>\n",
       "</table>\n",
       "</div>"
      ],
      "text/plain": [
       "                 ID      LIMIT_BAL           AGE      BILL_AMT1  \\\n",
       "count  16625.000000   16625.000000  16625.000000   16625.000000   \n",
       "mean    8313.000000  157608.781955     43.373955   50720.634827   \n",
       "std     4799.368448  124931.062684      8.777974   73365.449060   \n",
       "min        1.000000       0.000000     20.000000 -165580.000000   \n",
       "25%     4157.000000   50000.000000     37.000000    3491.000000   \n",
       "50%     8313.000000  120000.000000     42.000000   21943.000000   \n",
       "75%    12469.000000  230000.000000     49.000000   65903.000000   \n",
       "max    16625.000000  800000.000000     72.000000  746814.000000   \n",
       "\n",
       "           BILL_AMT2      BILL_AMT3        TARGET  MARRIAGE_Lainnya  \\\n",
       "count   16625.000000   16625.000000  16625.000000      16625.000000   \n",
       "mean    48815.920662   46471.030556      0.399158          0.012331   \n",
       "std     70753.129768   68182.984755      0.489740          0.110361   \n",
       "min    -69777.000000  -61506.000000      0.000000          0.000000   \n",
       "25%      2997.000000    2550.000000      0.000000          0.000000   \n",
       "50%     20987.000000   19954.000000      0.000000          0.000000   \n",
       "75%     62725.000000   59111.000000      1.000000          0.000000   \n",
       "max    646770.000000  693131.000000      1.000000          1.000000   \n",
       "\n",
       "       MARRIAGE_Menikah  EDUCATION_Lainnya  EDUCATION_S2/S3  EDUCATION_SMA  \\\n",
       "count      16625.000000       16625.000000     16625.000000   16625.000000   \n",
       "mean           0.452271           0.018767         0.242346       0.322346   \n",
       "std            0.497732           0.135705         0.428515       0.467389   \n",
       "min            0.000000           0.000000         0.000000       0.000000   \n",
       "25%            0.000000           0.000000         0.000000       0.000000   \n",
       "50%            0.000000           0.000000         0.000000       0.000000   \n",
       "75%            1.000000           0.000000         0.000000       1.000000   \n",
       "max            1.000000           1.000000         1.000000       1.000000   \n",
       "\n",
       "         SEX_Wanita  \n",
       "count  16625.000000  \n",
       "mean       0.588752  \n",
       "std        0.492075  \n",
       "min        0.000000  \n",
       "25%        0.000000  \n",
       "50%        1.000000  \n",
       "75%        1.000000  \n",
       "max        1.000000  "
      ]
     },
     "execution_count": 58,
     "metadata": {},
     "output_type": "execute_result"
    }
   ],
   "source": [
    "train1.describe()"
   ]
  },
  {
   "cell_type": "code",
   "execution_count": 15,
   "metadata": {},
   "outputs": [
    {
     "data": {
      "text/plain": [
       "count     16625.000000\n",
       "mean     157608.781955\n",
       "std      124931.062684\n",
       "min           0.000000\n",
       "25%       50000.000000\n",
       "50%      120000.000000\n",
       "75%      230000.000000\n",
       "max      800000.000000\n",
       "Name: LIMIT_BAL, dtype: float64"
      ]
     },
     "execution_count": 15,
     "metadata": {},
     "output_type": "execute_result"
    }
   ],
   "source": [
    "train.describe()['LIMIT_BAL']"
   ]
  },
  {
   "cell_type": "code",
   "execution_count": 16,
   "metadata": {},
   "outputs": [
    {
     "data": {
      "image/png": "[encoded data removed]",
      "text/plain": [
       "<matplotlib.figure.Figure at 0x2b279949908>"
      ]
     },
     "metadata": {},
     "output_type": "display_data"
    },
    {
     "data": {
      "image/png": "[encoded data removed]",
      "text/plain": [
       "<matplotlib.figure.Figure at 0x2b279941ef0>"
      ]
     },
     "metadata": {},
     "output_type": "display_data"
    },
    {
     "data": {
      "image/png": "[encoded data removed]",
      "text/plain": [
       "<matplotlib.figure.Figure at 0x2b2799411d0>"
      ]
     },
     "metadata": {},
     "output_type": "display_data"
    },
    {
     "data": {
      "image/png": "[encoded data removed]",
      "text/plain": [
       "<matplotlib.figure.Figure at 0x2b279a0d588>"
      ]
     },
     "metadata": {},
     "output_type": "display_data"
    }
   ],
   "source": [
    "plt.figure()\n",
    "sns.countplot(x='TARGET', data=train)\n",
    "plt.show()\n",
    "\n",
    "plt.figure()\n",
    "sns.countplot(x='SEX', data=train, hue='TARGET')\n",
    "plt.show()\n",
    "\n",
    "plt.figure()\n",
    "sns.countplot(x='EDUCATION', data=train, hue='TARGET')\n",
    "plt.show()\n",
    "\n",
    "plt.figure()\n",
    "sns.countplot(x='MARRIAGE', data=train, hue='TARGET')\n",
    "plt.show()"
   ]
  },
  {
   "cell_type": "code",
   "execution_count": 17,
   "metadata": {},
   "outputs": [
    {
     "data": {
      "text/html": [
       "<style  type=\"text/css\" >\n",
       "    #T_ba5be4be_6a17_11e8_9f5f_44032ce220a6row0_col0 {\n",
       "            background-color:  #99cc66;\n",
       "        }    #T_ba5be4be_6a17_11e8_9f5f_44032ce220a6row0_col1 {\n",
       "            background-color:  #95ca66;\n",
       "        }    #T_ba5be4be_6a17_11e8_9f5f_44032ce220a6row0_col2 {\n",
       "            background-color:  #98cc66;\n",
       "        }    #T_ba5be4be_6a17_11e8_9f5f_44032ce220a6row1_col0 {\n",
       "            background-color:  #ffff66;\n",
       "        }    #T_ba5be4be_6a17_11e8_9f5f_44032ce220a6row1_col1 {\n",
       "            background-color:  #ffff66;\n",
       "        }    #T_ba5be4be_6a17_11e8_9f5f_44032ce220a6row1_col2 {\n",
       "            background-color:  #ffff66;\n",
       "        }    #T_ba5be4be_6a17_11e8_9f5f_44032ce220a6row2_col0 {\n",
       "            background-color:  #bbdd66;\n",
       "        }    #T_ba5be4be_6a17_11e8_9f5f_44032ce220a6row2_col1 {\n",
       "            background-color:  #d4ea66;\n",
       "        }    #T_ba5be4be_6a17_11e8_9f5f_44032ce220a6row2_col2 {\n",
       "            background-color:  #c5e266;\n",
       "        }    #T_ba5be4be_6a17_11e8_9f5f_44032ce220a6row3_col0 {\n",
       "            background-color:  #b8dc66;\n",
       "        }    #T_ba5be4be_6a17_11e8_9f5f_44032ce220a6row3_col1 {\n",
       "            background-color:  #a5d266;\n",
       "        }    #T_ba5be4be_6a17_11e8_9f5f_44032ce220a6row3_col2 {\n",
       "            background-color:  #b0d866;\n",
       "        }    #T_ba5be4be_6a17_11e8_9f5f_44032ce220a6row4_col0 {\n",
       "            background-color:  #008066;\n",
       "        }    #T_ba5be4be_6a17_11e8_9f5f_44032ce220a6row4_col1 {\n",
       "            background-color:  #008066;\n",
       "        }    #T_ba5be4be_6a17_11e8_9f5f_44032ce220a6row4_col2 {\n",
       "            background-color:  #008066;\n",
       "        }</style>  \n",
       "<table id=\"T_ba5be4be_6a17_11e8_9f5f_44032ce220a6\" > \n",
       "<thead>    <tr> \n",
       "        <th class=\"index_name level0\" >TARGET</th> \n",
       "        <th class=\"col_heading level0 col0\" >0</th> \n",
       "        <th class=\"col_heading level0 col1\" >1</th> \n",
       "        <th class=\"col_heading level0 col2\" >All</th> \n",
       "    </tr>    <tr> \n",
       "        <th class=\"index_name level0\" >EDUCATION</th> \n",
       "        <th class=\"blank\" ></th> \n",
       "        <th class=\"blank\" ></th> \n",
       "        <th class=\"blank\" ></th> \n",
       "    </tr></thead> \n",
       "<tbody>    <tr> \n",
       "        <th id=\"T_ba5be4be_6a17_11e8_9f5f_44032ce220a6level0_row0\" class=\"row_heading level0 row0\" >Dipl/S1</th> \n",
       "        <td id=\"T_ba5be4be_6a17_11e8_9f5f_44032ce220a6row0_col0\" class=\"data row0 col0\" >4095</td> \n",
       "        <td id=\"T_ba5be4be_6a17_11e8_9f5f_44032ce220a6row0_col1\" class=\"data row0 col1\" >2830</td> \n",
       "        <td id=\"T_ba5be4be_6a17_11e8_9f5f_44032ce220a6row0_col2\" class=\"data row0 col2\" >6925</td> \n",
       "    </tr>    <tr> \n",
       "        <th id=\"T_ba5be4be_6a17_11e8_9f5f_44032ce220a6level0_row1\" class=\"row_heading level0 row1\" >Lainnya</th> \n",
       "        <td id=\"T_ba5be4be_6a17_11e8_9f5f_44032ce220a6row1_col0\" class=\"data row1 col0\" >179</td> \n",
       "        <td id=\"T_ba5be4be_6a17_11e8_9f5f_44032ce220a6row1_col1\" class=\"data row1 col1\" >133</td> \n",
       "        <td id=\"T_ba5be4be_6a17_11e8_9f5f_44032ce220a6row1_col2\" class=\"data row1 col2\" >312</td> \n",
       "    </tr>    <tr> \n",
       "        <th id=\"T_ba5be4be_6a17_11e8_9f5f_44032ce220a6level0_row2\" class=\"row_heading level0 row2\" >S2/S3</th> \n",
       "        <td id=\"T_ba5be4be_6a17_11e8_9f5f_44032ce220a6row2_col0\" class=\"data row2 col0\" >2792</td> \n",
       "        <td id=\"T_ba5be4be_6a17_11e8_9f5f_44032ce220a6row2_col1\" class=\"data row2 col1\" >1237</td> \n",
       "        <td id=\"T_ba5be4be_6a17_11e8_9f5f_44032ce220a6row2_col2\" class=\"data row2 col2\" >4029</td> \n",
       "    </tr>    <tr> \n",
       "        <th id=\"T_ba5be4be_6a17_11e8_9f5f_44032ce220a6level0_row3\" class=\"row_heading level0 row3\" >SMA</th> \n",
       "        <td id=\"T_ba5be4be_6a17_11e8_9f5f_44032ce220a6row3_col0\" class=\"data row3 col0\" >2923</td> \n",
       "        <td id=\"T_ba5be4be_6a17_11e8_9f5f_44032ce220a6row3_col1\" class=\"data row3 col1\" >2436</td> \n",
       "        <td id=\"T_ba5be4be_6a17_11e8_9f5f_44032ce220a6row3_col2\" class=\"data row3 col2\" >5359</td> \n",
       "    </tr>    <tr> \n",
       "        <th id=\"T_ba5be4be_6a17_11e8_9f5f_44032ce220a6level0_row4\" class=\"row_heading level0 row4\" >All</th> \n",
       "        <td id=\"T_ba5be4be_6a17_11e8_9f5f_44032ce220a6row4_col0\" class=\"data row4 col0\" >9989</td> \n",
       "        <td id=\"T_ba5be4be_6a17_11e8_9f5f_44032ce220a6row4_col1\" class=\"data row4 col1\" >6636</td> \n",
       "        <td id=\"T_ba5be4be_6a17_11e8_9f5f_44032ce220a6row4_col2\" class=\"data row4 col2\" >16625</td> \n",
       "    </tr></tbody> \n",
       "</table> "
      ],
      "text/plain": [
       "<pandas.io.formats.style.Styler at 0x2b279b4be10>"
      ]
     },
     "execution_count": 17,
     "metadata": {},
     "output_type": "execute_result"
    }
   ],
   "source": [
    "pd.crosstab(train['EDUCATION'],train['TARGET'],margins=True).style.background_gradient(cmap='summer_r')"
   ]
  },
  {
   "cell_type": "code",
   "execution_count": 18,
   "metadata": {},
   "outputs": [
    {
     "data": {
      "text/plain": [
       "<matplotlib.axes._subplots.AxesSubplot at 0x2b27ab6a208>"
      ]
     },
     "execution_count": 18,
     "metadata": {},
     "output_type": "execute_result"
    },
    {
     "data": {
      "image/png": "[encoded data removed]",
      "text/plain": [
       "<matplotlib.figure.Figure at 0x2b27ab559e8>"
      ]
     },
     "metadata": {},
     "output_type": "display_data"
    }
   ],
   "source": [
    "train[\"AGE\"].plot.density()"
   ]
  },
  {
   "cell_type": "markdown",
   "metadata": {},
   "source": [
    "### TRAIN TEST SPLIT"
   ]
  },
  {
   "cell_type": "code",
   "execution_count": 59,
   "metadata": {},
   "outputs": [],
   "source": [
    "X = train1.drop(['ID', 'TARGET'], 1)\n",
    "Y = train1['TARGET']\n",
    "train1_x, test1_x, train_y, test_y = train_test_split(X, Y, test_size=0.2, random_state=123)"
   ]
  },
  {
   "cell_type": "markdown",
   "metadata": {},
   "source": [
    "### Logistic Regression Modeling"
   ]
  },
  {
   "cell_type": "code",
   "execution_count": 61,
   "metadata": {},
   "outputs": [],
   "source": [
    "logreg = LogisticRegression(random_state = 123)\n",
    "logreg.fit(train1_x, train1_y)\n",
    "logregpred = logreg.predict(test1_x)"
   ]
  },
  {
   "cell_type": "code",
   "execution_count": 20,
   "metadata": {},
   "outputs": [],
   "source": [
    "logreg = LogisticRegression(random_state = 123)\n",
    "logreg.fit(train_x, train_y)\n",
    "logregpred = logreg.predict(train_X)"
   ]
  },
  {
   "cell_type": "markdown",
   "metadata": {},
   "source": [
    "### Summary"
   ]
  },
  {
   "cell_type": "code",
   "execution_count": 21,
   "metadata": {},
   "outputs": [
    {
     "name": "stdout",
     "output_type": "stream",
     "text": [
      "Intercept : \n",
      " [3.17165427e-05]\n"
     ]
    },
    {
     "data": {
      "text/html": [
       "<div>\n",
       "<style scoped>\n",
       "    .dataframe tbody tr th:only-of-type {\n",
       "        vertical-align: middle;\n",
       "    }\n",
       "\n",
       "    .dataframe tbody tr th {\n",
       "        vertical-align: top;\n",
       "    }\n",
       "\n",
       "    .dataframe thead th {\n",
       "        text-align: right;\n",
       "    }\n",
       "</style>\n",
       "<table border=\"1\" class=\"dataframe\">\n",
       "  <thead>\n",
       "    <tr style=\"text-align: right;\">\n",
       "      <th></th>\n",
       "      <th>0</th>\n",
       "      <th>0</th>\n",
       "    </tr>\n",
       "  </thead>\n",
       "  <tbody>\n",
       "    <tr>\n",
       "      <th>0</th>\n",
       "      <td>LIMIT_BAL</td>\n",
       "      <td>-4.667422e-06</td>\n",
       "    </tr>\n",
       "    <tr>\n",
       "      <th>1</th>\n",
       "      <td>AGE</td>\n",
       "      <td>9.330389e-03</td>\n",
       "    </tr>\n",
       "    <tr>\n",
       "      <th>2</th>\n",
       "      <td>BILL_AMT1</td>\n",
       "      <td>-2.487720e-06</td>\n",
       "    </tr>\n",
       "    <tr>\n",
       "      <th>3</th>\n",
       "      <td>BILL_AMT2</td>\n",
       "      <td>8.406823e-07</td>\n",
       "    </tr>\n",
       "    <tr>\n",
       "      <th>4</th>\n",
       "      <td>BILL_AMT3</td>\n",
       "      <td>1.434884e-06</td>\n",
       "    </tr>\n",
       "    <tr>\n",
       "      <th>5</th>\n",
       "      <td>MARRIAGE_Lainnya</td>\n",
       "      <td>3.686544e-09</td>\n",
       "    </tr>\n",
       "    <tr>\n",
       "      <th>6</th>\n",
       "      <td>MARRIAGE_Menikah</td>\n",
       "      <td>-1.579152e-04</td>\n",
       "    </tr>\n",
       "    <tr>\n",
       "      <th>7</th>\n",
       "      <td>EDUCATION_Lainnya</td>\n",
       "      <td>5.497987e-06</td>\n",
       "    </tr>\n",
       "    <tr>\n",
       "      <th>8</th>\n",
       "      <td>EDUCATION_S2/S3</td>\n",
       "      <td>-1.538020e-04</td>\n",
       "    </tr>\n",
       "    <tr>\n",
       "      <th>9</th>\n",
       "      <td>EDUCATION_SMA</td>\n",
       "      <td>1.581145e-04</td>\n",
       "    </tr>\n",
       "    <tr>\n",
       "      <th>10</th>\n",
       "      <td>SEX_Wanita</td>\n",
       "      <td>-2.797609e-04</td>\n",
       "    </tr>\n",
       "  </tbody>\n",
       "</table>\n",
       "</div>"
      ],
      "text/plain": [
       "                    0             0\n",
       "0           LIMIT_BAL -4.667422e-06\n",
       "1                 AGE  9.330389e-03\n",
       "2           BILL_AMT1 -2.487720e-06\n",
       "3           BILL_AMT2  8.406823e-07\n",
       "4           BILL_AMT3  1.434884e-06\n",
       "5    MARRIAGE_Lainnya  3.686544e-09\n",
       "6    MARRIAGE_Menikah -1.579152e-04\n",
       "7   EDUCATION_Lainnya  5.497987e-06\n",
       "8     EDUCATION_S2/S3 -1.538020e-04\n",
       "9       EDUCATION_SMA  1.581145e-04\n",
       "10         SEX_Wanita -2.797609e-04"
      ]
     },
     "execution_count": 21,
     "metadata": {},
     "output_type": "execute_result"
    }
   ],
   "source": [
    "print('Intercept : \\n', logreg.intercept_)\n",
    "coef = pd.concat([pd.DataFrame(X.columns), pd.DataFrame(np.transpose(logreg.coef_))], axis=1)\n",
    "coef"
   ]
  },
  {
   "cell_type": "markdown",
   "metadata": {},
   "source": [
    "###### ODD RATIO adalah perbandingan natara odd ratio pada x=1 dengan odd pada x, sehingga, peluang perbandingan antara dia yang telat bayar maupun tidak telah jika"
   ]
  },
  {
   "cell_type": "code",
   "execution_count": 31,
   "metadata": {},
   "outputs": [
    {
     "name": "stdout",
     "output_type": "stream",
     "text": [
      "Accuracy of logistic regression classifier on test set: 0.63\n"
     ]
    }
   ],
   "source": [
    "pred_y = logreg.predict(test_X)\n",
    "print('Accuracy of logistic regression classifier on test set: {:.2f}'.format(logreg.score(test_X, test_y)))"
   ]
  },
  {
   "cell_type": "code",
   "execution_count": 33,
   "metadata": {},
   "outputs": [
    {
     "name": "stdout",
     "output_type": "stream",
     "text": [
      "Confusion Matrix: \n",
      " [[5588 2349]\n",
      " [2626 2737]]\n",
      "Accurancy:  0.6259398496240601\n",
      "Sensitivity:  0.5103486854372553\n",
      "Specificity:  0.7040443492503464\n"
     ]
    }
   ],
   "source": [
    "cm = confusion_matrix(train_y, logregpred)\n",
    "\n",
    "total = sum(sum(cm))\n",
    "accurancy = (cm[0,0] +cm[1,1]) / total\n",
    "sensitivity = cm[1,1] / (cm[1,0] + cm[1,1])\n",
    "specificity = cm[0,0] / (cm[0,0] + cm[0,1])\n",
    "\n",
    "print('Confusion Matrix: \\n', cm)\n",
    "print('Accurancy: ', accurancy)\n",
    "print('Sensitivity: ', sensitivity)\n",
    "print('Specificity: ', specificity)"
   ]
  },
  {
   "cell_type": "markdown",
   "metadata": {},
   "source": [
    "# DESICION TREE"
   ]
  },
  {
   "cell_type": "code",
   "execution_count": 64,
   "metadata": {},
   "outputs": [],
   "source": [
    "decisiontree = DecisionTreeClassifier(random_state = 123)\n",
    "decisiontree.fit(train1_x, train1_y)\n",
    "dtpred = decisiontree.predict(train1_x)"
   ]
  },
  {
   "cell_type": "markdown",
   "metadata": {},
   "source": [
    "### Confusion Matrix"
   ]
  },
  {
   "cell_type": "code",
   "execution_count": 65,
   "metadata": {},
   "outputs": [
    {
     "name": "stdout",
     "output_type": "stream",
     "text": [
      "Confusion Matrix: \n",
      " [[7936    1]\n",
      " [   8 5355]]\n",
      "Accurancy:  0.9993233082706767\n",
      "Sensitivity:  0.9985082975946299\n",
      "Specificity:  0.9998740078115157\n"
     ]
    }
   ],
   "source": [
    "cm1 = confusion_matrix(train1_y, dtpred)\n",
    "\n",
    "total1 = sum(sum(cm1))\n",
    "accurancy1 = (cm1[0,0] +cm1[1,1]) / total1\n",
    "sensitivity1 = cm1[1,1] / (cm1[1,0] + cm1[1,1])\n",
    "specificity1 = cm1[0,0] / (cm1[0,0] + cm1[0,1])\n",
    "\n",
    "print('Confusion Matrix: \\n', cm1)\n",
    "print('Accurancy: ', accurancy1)\n",
    "print('Sensitivity: ', sensitivity1)\n",
    "print('Specificity: ', specificity1)"
   ]
  },
  {
   "cell_type": "markdown",
   "metadata": {},
   "source": [
    "### Decision Tree Plot"
   ]
  },
  {
   "cell_type": "code",
   "execution_count": 66,
   "metadata": {},
   "outputs": [],
   "source": [
    "features = train1_x.columns\n",
    "dt = DecisionTreeClassifier(min_samples_split=4000, min_samples_leaf=70, random_state=123, max_depth=8)\n",
    "dt.fit(train1_x, train1_y)\n",
    "export_graphviz(dt, out_file='D:/dt.dot', feature_names = features, class_names = [\"0\",\"1\"])"
   ]
  },
  {
   "cell_type": "code",
   "execution_count": 67,
   "metadata": {},
   "outputs": [],
   "source": [
    "features = train1_x.columns\n",
    "export_graphviz(dt,\n",
    "               out_file = 'D:/dt.dot',\n",
    "                feature_names = features,\n",
    "                class_names = [\"0\", \"1\"])\n",
    "## copy this note to www.webgraphviz.com"
   ]
  },
  {
   "cell_type": "code",
   "execution_count": 68,
   "metadata": {},
   "outputs": [
    {
     "data": {
      "text/html": [
       "<div>\n",
       "<style scoped>\n",
       "    .dataframe tbody tr th:only-of-type {\n",
       "        vertical-align: middle;\n",
       "    }\n",
       "\n",
       "    .dataframe tbody tr th {\n",
       "        vertical-align: top;\n",
       "    }\n",
       "\n",
       "    .dataframe thead th {\n",
       "        text-align: right;\n",
       "    }\n",
       "</style>\n",
       "<table border=\"1\" class=\"dataframe\">\n",
       "  <thead>\n",
       "    <tr style=\"text-align: right;\">\n",
       "      <th></th>\n",
       "      <th>ID</th>\n",
       "      <th>LIMIT_BAL</th>\n",
       "      <th>AGE</th>\n",
       "      <th>BILL_AMT1</th>\n",
       "      <th>BILL_AMT2</th>\n",
       "      <th>BILL_AMT3</th>\n",
       "      <th>TARGET</th>\n",
       "      <th>MARRIAGE_Lainnya</th>\n",
       "      <th>MARRIAGE_Menikah</th>\n",
       "      <th>EDUCATION_Lainnya</th>\n",
       "      <th>EDUCATION_S2/S3</th>\n",
       "      <th>EDUCATION_SMA</th>\n",
       "      <th>SEX_Wanita</th>\n",
       "    </tr>\n",
       "  </thead>\n",
       "  <tbody>\n",
       "    <tr>\n",
       "      <th>0</th>\n",
       "      <td>1</td>\n",
       "      <td>30000.0</td>\n",
       "      <td>40</td>\n",
       "      <td>24607.0</td>\n",
       "      <td>24430.0</td>\n",
       "      <td>23881.0</td>\n",
       "      <td>0</td>\n",
       "      <td>0</td>\n",
       "      <td>0</td>\n",
       "      <td>0</td>\n",
       "      <td>1</td>\n",
       "      <td>0</td>\n",
       "      <td>1</td>\n",
       "    </tr>\n",
       "    <tr>\n",
       "      <th>1</th>\n",
       "      <td>2</td>\n",
       "      <td>20000.0</td>\n",
       "      <td>41</td>\n",
       "      <td>17040.0</td>\n",
       "      <td>16474.0</td>\n",
       "      <td>17203.0</td>\n",
       "      <td>0</td>\n",
       "      <td>0</td>\n",
       "      <td>0</td>\n",
       "      <td>0</td>\n",
       "      <td>1</td>\n",
       "      <td>0</td>\n",
       "      <td>1</td>\n",
       "    </tr>\n",
       "    <tr>\n",
       "      <th>2</th>\n",
       "      <td>3</td>\n",
       "      <td>20000.0</td>\n",
       "      <td>36</td>\n",
       "      <td>17332.0</td>\n",
       "      <td>18600.0</td>\n",
       "      <td>17947.0</td>\n",
       "      <td>0</td>\n",
       "      <td>0</td>\n",
       "      <td>0</td>\n",
       "      <td>0</td>\n",
       "      <td>1</td>\n",
       "      <td>0</td>\n",
       "      <td>1</td>\n",
       "    </tr>\n",
       "    <tr>\n",
       "      <th>3</th>\n",
       "      <td>4</td>\n",
       "      <td>20000.0</td>\n",
       "      <td>35</td>\n",
       "      <td>2003.0</td>\n",
       "      <td>2948.0</td>\n",
       "      <td>3372.0</td>\n",
       "      <td>0</td>\n",
       "      <td>0</td>\n",
       "      <td>0</td>\n",
       "      <td>0</td>\n",
       "      <td>1</td>\n",
       "      <td>0</td>\n",
       "      <td>1</td>\n",
       "    </tr>\n",
       "    <tr>\n",
       "      <th>4</th>\n",
       "      <td>5</td>\n",
       "      <td>170000.0</td>\n",
       "      <td>38</td>\n",
       "      <td>171465.0</td>\n",
       "      <td>145196.0</td>\n",
       "      <td>110163.0</td>\n",
       "      <td>0</td>\n",
       "      <td>0</td>\n",
       "      <td>0</td>\n",
       "      <td>0</td>\n",
       "      <td>1</td>\n",
       "      <td>0</td>\n",
       "      <td>1</td>\n",
       "    </tr>\n",
       "  </tbody>\n",
       "</table>\n",
       "</div>"
      ],
      "text/plain": [
       "   ID  LIMIT_BAL  AGE  BILL_AMT1  BILL_AMT2  BILL_AMT3  TARGET  \\\n",
       "0   1    30000.0   40    24607.0    24430.0    23881.0       0   \n",
       "1   2    20000.0   41    17040.0    16474.0    17203.0       0   \n",
       "2   3    20000.0   36    17332.0    18600.0    17947.0       0   \n",
       "3   4    20000.0   35     2003.0     2948.0     3372.0       0   \n",
       "4   5   170000.0   38   171465.0   145196.0   110163.0       0   \n",
       "\n",
       "   MARRIAGE_Lainnya  MARRIAGE_Menikah  EDUCATION_Lainnya  EDUCATION_S2/S3  \\\n",
       "0                 0                 0                  0                1   \n",
       "1                 0                 0                  0                1   \n",
       "2                 0                 0                  0                1   \n",
       "3                 0                 0                  0                1   \n",
       "4                 0                 0                  0                1   \n",
       "\n",
       "   EDUCATION_SMA  SEX_Wanita  \n",
       "0              0           1  \n",
       "1              0           1  \n",
       "2              0           1  \n",
       "3              0           1  \n",
       "4              0           1  "
      ]
     },
     "execution_count": 68,
     "metadata": {},
     "output_type": "execute_result"
    }
   ],
   "source": [
    "train1.head()"
   ]
  },
  {
   "cell_type": "markdown",
   "metadata": {},
   "source": [
    "## FEATURE ENGINEERING LATIHAN"
   ]
  },
  {
   "cell_type": "code",
   "execution_count": 10,
   "metadata": {},
   "outputs": [],
   "source": [
    "from sklearn.metrics import confusion_matrix, classification_report\n",
    "from sklearn.linear_model import LogisticRegression\n",
    "from sklearn.tree import DecisionTreeClassifier, export_graphviz\n",
    "from sklearn.model_selection import train_test_split, cross_val_score, KFold, GridSearchCV"
   ]
  },
  {
   "cell_type": "code",
   "execution_count": 11,
   "metadata": {},
   "outputs": [],
   "source": [
    "x=train1.drop(['ID', 'TARGET', 'BILL_AMT1', 'BILL_AMT2'], 1)\n",
    "y=train1['TARGET']\n",
    "train1_x, test1_x, train1_y, test1_y = train_test_split(x, y, test_size=0.2, random_state = 123)"
   ]
  },
  {
   "cell_type": "code",
   "execution_count": 16,
   "metadata": {},
   "outputs": [],
   "source": [
    "decisiontree = DecisionTreeClassifier(min_samples_split = 20, min_samples_leaf=20, random_state = 123)\n",
    "decisiontree.fit(train1_x, train1_y)\n",
    "dtpred = decisiontree.predict(test1_x)"
   ]
  },
  {
   "cell_type": "code",
   "execution_count": 13,
   "metadata": {},
   "outputs": [
    {
     "data": {
      "text/html": [
       "<div>\n",
       "<style scoped>\n",
       "    .dataframe tbody tr th:only-of-type {\n",
       "        vertical-align: middle;\n",
       "    }\n",
       "\n",
       "    .dataframe tbody tr th {\n",
       "        vertical-align: top;\n",
       "    }\n",
       "\n",
       "    .dataframe thead th {\n",
       "        text-align: right;\n",
       "    }\n",
       "</style>\n",
       "<table border=\"1\" class=\"dataframe\">\n",
       "  <thead>\n",
       "    <tr style=\"text-align: right;\">\n",
       "      <th></th>\n",
       "      <th>LIMIT_BAL</th>\n",
       "      <th>AGE</th>\n",
       "      <th>BILL_AMT3</th>\n",
       "      <th>MARRIAGE_Lainnya</th>\n",
       "      <th>MARRIAGE_Menikah</th>\n",
       "      <th>EDUCATION_Lainnya</th>\n",
       "      <th>EDUCATION_S2/S3</th>\n",
       "      <th>EDUCATION_SMA</th>\n",
       "      <th>SEX_Wanita</th>\n",
       "    </tr>\n",
       "  </thead>\n",
       "  <tbody>\n",
       "    <tr>\n",
       "      <th>9927</th>\n",
       "      <td>80000.0</td>\n",
       "      <td>57</td>\n",
       "      <td>49662.0</td>\n",
       "      <td>0</td>\n",
       "      <td>1</td>\n",
       "      <td>0</td>\n",
       "      <td>1</td>\n",
       "      <td>0</td>\n",
       "      <td>1</td>\n",
       "    </tr>\n",
       "    <tr>\n",
       "      <th>5964</th>\n",
       "      <td>380000.0</td>\n",
       "      <td>40</td>\n",
       "      <td>100599.0</td>\n",
       "      <td>0</td>\n",
       "      <td>0</td>\n",
       "      <td>0</td>\n",
       "      <td>0</td>\n",
       "      <td>1</td>\n",
       "      <td>0</td>\n",
       "    </tr>\n",
       "    <tr>\n",
       "      <th>3874</th>\n",
       "      <td>50000.0</td>\n",
       "      <td>39</td>\n",
       "      <td>19596.0</td>\n",
       "      <td>0</td>\n",
       "      <td>1</td>\n",
       "      <td>0</td>\n",
       "      <td>1</td>\n",
       "      <td>0</td>\n",
       "      <td>0</td>\n",
       "    </tr>\n",
       "    <tr>\n",
       "      <th>9173</th>\n",
       "      <td>290000.0</td>\n",
       "      <td>47</td>\n",
       "      <td>86768.0</td>\n",
       "      <td>0</td>\n",
       "      <td>1</td>\n",
       "      <td>0</td>\n",
       "      <td>0</td>\n",
       "      <td>1</td>\n",
       "      <td>0</td>\n",
       "    </tr>\n",
       "    <tr>\n",
       "      <th>388</th>\n",
       "      <td>130000.0</td>\n",
       "      <td>36</td>\n",
       "      <td>0.0</td>\n",
       "      <td>0</td>\n",
       "      <td>0</td>\n",
       "      <td>0</td>\n",
       "      <td>1</td>\n",
       "      <td>0</td>\n",
       "      <td>1</td>\n",
       "    </tr>\n",
       "  </tbody>\n",
       "</table>\n",
       "</div>"
      ],
      "text/plain": [
       "      LIMIT_BAL  AGE  BILL_AMT3  MARRIAGE_Lainnya  MARRIAGE_Menikah  \\\n",
       "9927    80000.0   57    49662.0                 0                 1   \n",
       "5964   380000.0   40   100599.0                 0                 0   \n",
       "3874    50000.0   39    19596.0                 0                 1   \n",
       "9173   290000.0   47    86768.0                 0                 1   \n",
       "388    130000.0   36        0.0                 0                 0   \n",
       "\n",
       "      EDUCATION_Lainnya  EDUCATION_S2/S3  EDUCATION_SMA  SEX_Wanita  \n",
       "9927                  0                1              0           1  \n",
       "5964                  0                0              1           0  \n",
       "3874                  0                1              0           0  \n",
       "9173                  0                0              1           0  \n",
       "388                   0                1              0           1  "
      ]
     },
     "execution_count": 13,
     "metadata": {},
     "output_type": "execute_result"
    }
   ],
   "source": [
    "train1_x.head()"
   ]
  },
  {
   "cell_type": "code",
   "execution_count": 17,
   "metadata": {},
   "outputs": [
    {
     "name": "stdout",
     "output_type": "stream",
     "text": [
      "Confusion Matrix: \n",
      " [[1777  275]\n",
      " [ 258 1015]]\n",
      "Accurancy:  0.8396992481203007\n",
      "Precision:  0.7868217054263565\n",
      "Sensitivity:  0.7973291437549097\n",
      "Specificity:  0.8659844054580896\n"
     ]
    }
   ],
   "source": [
    "cm4 = confusion_matrix(test1_y, dtpred)\n",
    "\n",
    "total4 = sum(sum(cm4))\n",
    "accurancy4 = (cm4[0,0] +cm4[1,1]) / total4\n",
    "precision4 = cm4[1,1]/(cm4[0,1]+cm4[1,1])\n",
    "sensitivity4 = cm4[1,1] / (cm4[1,0] + cm4[1,1])\n",
    "specificity4 = cm4[0,0] / (cm4[0,0] + cm4[0,1])\n",
    "\n",
    "print('Confusion Matrix: \\n', cm4)\n",
    "print('Accurancy: ', accurancy4)\n",
    "print('Precision: ', precision4)\n",
    "print('Sensitivity: ', sensitivity4)\n",
    "print('Specificity: ', specificity4)"
   ]
  },
  {
   "cell_type": "code",
   "execution_count": null,
   "metadata": {},
   "outputs": [],
   "source": []
  },
  {
   "cell_type": "code",
   "execution_count": null,
   "metadata": {},
   "outputs": [],
   "source": []
  }
 ],
 "metadata": {
  "kernelspec": {
   "display_name": "Python 3",
   "language": "python",
   "name": "python3"
  },
  "language_info": {
   "codemirror_mode": {
    "name": "ipython",
    "version": 3
   },
   "file_extension": ".py",
   "mimetype": "text/x-python",
   "name": "python",
   "nbconvert_exporter": "python",
   "pygments_lexer": "ipython3",
   "version": "3.6.4"
  }
 },
 "nbformat": 4,
 "nbformat_minor": 2
}
