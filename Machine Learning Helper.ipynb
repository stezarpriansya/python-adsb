{
 "cells": [
  {
   "cell_type": "markdown",
   "metadata": {},
   "source": [
    "# Visualization 2D Classifier"
   ]
  },
  {
   "cell_type": "code",
   "execution_count": 1,
   "metadata": {},
   "outputs": [],
   "source": [
    "from sklearn.datasets.samples_generator import make_blobs\n",
    "from matplotlib import pyplot\n",
    "import pandas as pd\n",
    "import numpy as np\n",
    "from sklearn import preprocessing\n",
    "import random"
   ]
  },
  {
   "cell_type": "code",
   "execution_count": null,
   "metadata": {},
   "outputs": [],
   "source": [
    "# generate 2d classification dataset\n",
    "X, y = make_blobs(n_samples=40, centers=2, n_features=2)\n",
    "\n",
    "# scatter plot, dots colored by class value\n",
    "# Assign weight from X indices 0\n",
    "# Assign smell from X indices 1\n",
    "# Assign label from y\n",
    "df = pd.DataFrame(dict(weight=X[:,0], smell=X[:,1], label=y))\n",
    "\n",
    "colors = {0:'red', 1:'blue'}\n",
    "fig, ax = pyplot.subplots()\n",
    "grouped = df.groupby('label')\n",
    "\n",
    "for key, group in grouped:\n",
    "    group.plot(ax=ax, kind='scatter', x='weight', y='smell', label=key, color=colors[key])\n",
    "pyplot.show()"
   ]
  },
  {
   "cell_type": "markdown",
   "metadata": {},
   "source": [
    "# Perceptron"
   ]
  },
  {
   "cell_type": "code",
   "execution_count": null,
   "metadata": {},
   "outputs": [],
   "source": [
    "X = np.array([\n",
    "    [-2,4, -1],\n",
    "    [4, 1, -1],\n",
    "    [1, 6, -1],\n",
    "    [2, 4, -1],\n",
    "    [6, 2, -1],\n",
    "\n",
    "])\n",
    "\n",
    "y = np.array([-1,-1,1,1,1])"
   ]
  },
  {
   "cell_type": "code",
   "execution_count": null,
   "metadata": {},
   "outputs": [],
   "source": [
    "def print_graph(w):\n",
    "    pyplot.scatter(X[:2,0],X[:2,1], s=120, marker='_', linewidths=2, color='red')\n",
    "    pyplot.scatter(X[2:,0],X[2:,1], s=120, marker='_', linewidths=2, color='blue')\n",
    "\n",
    "    # Print the hyperplane calculated by perceptron_sgd()\n",
    "    x2=[w[0],w[1],-w[1],w[0]]\n",
    "    x3=[w[0],w[1],w[1],-w[0]]\n",
    "\n",
    "    x2x3 =np.array([x2,x3])\n",
    "    X1,Y1,U,V = zip(*x2x3)\n",
    "    ax = pyplot.gca()\n",
    "\n",
    "    ax.quiver(X1,Y1,U,V,scale=1, color='green')"
   ]
  },
  {
   "cell_type": "code",
   "execution_count": null,
   "metadata": {},
   "outputs": [],
   "source": [
    "def perceptron_sgd_plot(X, Y):\n",
    "    '''\n",
    "    train perceptron and plot the total loss in each epoch.\n",
    "    \n",
    "    :param X: data samples\n",
    "    :param Y: data labels\n",
    "    :return: weight vector as a numpy array\n",
    "    '''\n",
    "    wArray = []\n",
    "    w = np.zeros(len(X[0]))\n",
    "    eta = 1\n",
    "    n = 30\n",
    "    errors = []\n",
    "\n",
    "    for t in range(n):\n",
    "        total_error = 0\n",
    "        for i, x in enumerate(X):\n",
    "            if (np.dot(X[i], w)*Y[i]) <= 0:\n",
    "                total_error += (np.dot(X[i], w)*Y[i])\n",
    "                w = w + eta*X[i]*Y[i]\n",
    "                wArray.append(w)\n",
    "                print('weight: {0}'.format(w))\n",
    "        errors.append(total_error*-1)\n",
    "    \n",
    "    \n",
    "#     pyplot.plot(errors)\n",
    "#     pyplot.xlabel('Epoch')\n",
    "#     pyplot.ylabel('Total Loss')\n",
    "    \n",
    "    return wArray"
   ]
  },
  {
   "cell_type": "code",
   "execution_count": null,
   "metadata": {
    "scrolled": true
   },
   "outputs": [],
   "source": [
    "wArray = perceptron_sgd_plot(X,y)"
   ]
  },
  {
   "cell_type": "code",
   "execution_count": null,
   "metadata": {},
   "outputs": [],
   "source": [
    "colors = ['b', 'c']\n",
    "colors = ['b', 'c']\n",
    "\n",
    "pyplot.scatter(X[:2,0],X[:2,1], s=120, marker='_', linewidths=2, color='red')\n",
    "pyplot.scatter(X[2:,0],X[2:,1], s=120, marker='_', linewidths=2, color='blue')\n"
   ]
  },
  {
   "cell_type": "code",
   "execution_count": null,
   "metadata": {},
   "outputs": [],
   "source": [
    "print_graph(wArray[0])"
   ]
  },
  {
   "cell_type": "code",
   "execution_count": null,
   "metadata": {},
   "outputs": [],
   "source": []
  },
  {
   "cell_type": "code",
   "execution_count": null,
   "metadata": {},
   "outputs": [],
   "source": []
  },
  {
   "cell_type": "code",
   "execution_count": null,
   "metadata": {},
   "outputs": [],
   "source": []
  },
  {
   "cell_type": "code",
   "execution_count": null,
   "metadata": {},
   "outputs": [],
   "source": []
  },
  {
   "cell_type": "code",
   "execution_count": null,
   "metadata": {},
   "outputs": [],
   "source": []
  },
  {
   "cell_type": "markdown",
   "metadata": {},
   "source": [
    "# Visualization Unsupervised"
   ]
  },
  {
   "cell_type": "code",
   "execution_count": 2,
   "metadata": {
    "scrolled": true
   },
   "outputs": [
    {
     "data": {
      "image/png": "[encoded data removed]",
      "text/plain": [
       "<Figure size 432x288 with 1 Axes>"
      ]
     },
     "metadata": {},
     "output_type": "display_data"
    }
   ],
   "source": [
    "# generate 2d classification dataset\n",
    "X, y= make_blobs(n_samples=40, centers=2, n_features=2)\n",
    "\n",
    "# scatter plot, dots colored by class value\n",
    "# Assign weight from X indices 0\n",
    "# Assign smell from X indices 1\n",
    "df = pd.DataFrame(dict(weight=X[:,0], smell=X[:,1]))\n",
    "\n",
    "colors = {0:'green'}\n",
    "fig, ax = pyplot.subplots()\n",
    "\n",
    "df.plot(ax=ax, kind='scatter', x='weight', y='smell', color='green')\n",
    "\n",
    "pyplot.show()"
   ]
  },
  {
   "cell_type": "code",
   "execution_count": 3,
   "metadata": {},
   "outputs": [],
   "source": [
    "max_clusters = 2"
   ]
  },
  {
   "cell_type": "code",
   "execution_count": 4,
   "metadata": {},
   "outputs": [],
   "source": [
    "centroid_list = []\n",
    "cols = ['weight','smell']\n",
    "for i in range(max_clusters):\n",
    " \n",
    "    OneDict = {}\n",
    "    randomIndex = random.randrange(0, df.shape[0])\n",
    "    for col in cols:\n",
    "        OneDict[col] = df.iloc[randomIndex][col]\n",
    "        centroid_list.append(OneDict)"
   ]
  },
  {
   "cell_type": "code",
   "execution_count": 5,
   "metadata": {},
   "outputs": [
    {
     "ename": "IndexError",
     "evalue": "list assignment index out of range",
     "output_type": "error",
     "traceback": [
      "\u001b[1;31m---------------------------------------------------------------------------\u001b[0m",
      "\u001b[1;31mIndexError\u001b[0m                                Traceback (most recent call last)",
      "\u001b[1;32m<ipython-input-5-d8462251f950>\u001b[0m in \u001b[0;36m<module>\u001b[1;34m()\u001b[0m\n\u001b[0;32m     13\u001b[0m             \u001b[1;32mif\u001b[0m \u001b[0mdist\u001b[0m \u001b[1;33m<\u001b[0m \u001b[0mmini\u001b[0m\u001b[1;33m:\u001b[0m\u001b[1;33m\u001b[0m\u001b[0m\n\u001b[0;32m     14\u001b[0m                 \u001b[0mmini\u001b[0m \u001b[1;33m=\u001b[0m \u001b[0mdist\u001b[0m\u001b[1;33m\u001b[0m\u001b[0m\n\u001b[1;32m---> 15\u001b[1;33m                 \u001b[0mcluster_train\u001b[0m\u001b[1;33m[\u001b[0m\u001b[0mi\u001b[0m\u001b[1;33m]\u001b[0m \u001b[1;33m=\u001b[0m \u001b[0mcluster_index\u001b[0m\u001b[1;33m\u001b[0m\u001b[0m\n\u001b[0m\u001b[0;32m     16\u001b[0m                 \u001b[0mcluster_index\u001b[0m \u001b[1;33m+=\u001b[0m \u001b[1;36m1\u001b[0m\u001b[1;33m\u001b[0m\u001b[0m\n\u001b[0;32m     17\u001b[0m \u001b[1;33m\u001b[0m\u001b[0m\n",
      "\u001b[1;31mIndexError\u001b[0m: list assignment index out of range"
     ]
    }
   ],
   "source": [
    "max_iter =  7\n",
    "iters =  0\n",
    "cluster_train = []\n",
    "\n",
    "while iters < max_iter:\n",
    "    for i in range(df.shape[0]): \n",
    "        # step 1 begins:\n",
    "        cluster_index =  0\n",
    "        mini = 9999\n",
    "        for centroid in centroid_list:\n",
    "            dist = np.linalg.norm( centroid.values() -             \n",
    "                                        df[cols].iloc[i])\n",
    "            if dist < mini:\n",
    "                mini = dist \n",
    "                cluster_train[i] = cluster_index\n",
    "                cluster_index += 1\n",
    "   "
   ]
  },
  {
   "cell_type": "code",
   "execution_count": null,
   "metadata": {},
   "outputs": [],
   "source": []
  }
 ],
 "metadata": {
  "kernelspec": {
   "display_name": "Python 2",
   "language": "python",
   "name": "python2"
  },
  "language_info": {
   "codemirror_mode": {
    "name": "ipython",
    "version": 2
   },
   "file_extension": ".py",
   "mimetype": "text/x-python",
   "name": "python",
   "nbconvert_exporter": "python",
   "pygments_lexer": "ipython2",
   "version": "2.7.15"
  }
 },
 "nbformat": 4,
 "nbformat_minor": 2
}
