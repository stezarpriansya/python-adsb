{
 "cells": [
  {
   "cell_type": "markdown",
   "metadata": {},
   "source": [
    "### System Check"
   ]
  },
  {
   "cell_type": "code",
   "execution_count": 2,
   "metadata": {},
   "outputs": [
    {
     "name": "stdout",
     "output_type": "stream",
     "text": [
      "3.6.4\n"
     ]
    }
   ],
   "source": [
    "#System Check\n",
    "import platform\n",
    "print(platform.python_version())"
   ]
  },
  {
   "cell_type": "code",
   "execution_count": 3,
   "metadata": {},
   "outputs": [
    {
     "name": "stdout",
     "output_type": "stream",
     "text": [
      "Hello world\n"
     ]
    }
   ],
   "source": [
    "print(\"Hello world\")"
   ]
  },
  {
   "cell_type": "code",
   "execution_count": 4,
   "metadata": {},
   "outputs": [
    {
     "name": "stdout",
     "output_type": "stream",
     "text": [
      "7\n"
     ]
    }
   ],
   "source": [
    "#Algebra\n",
    "x = 3 + 4\n",
    "print(x)"
   ]
  },
  {
   "cell_type": "markdown",
   "metadata": {},
   "source": [
    "### Library Loading"
   ]
  },
  {
   "cell_type": "code",
   "execution_count": 5,
   "metadata": {},
   "outputs": [],
   "source": [
    "#Library loading\n",
    "import pandas as pd\n",
    "import numpy as np\n",
    "import matplotlib.pyplot as plt\n",
    "import seaborn as sns"
   ]
  },
  {
   "cell_type": "markdown",
   "metadata": {},
   "source": [
    "### Loading dataset"
   ]
  },
  {
   "cell_type": "code",
   "execution_count": 9,
   "metadata": {},
   "outputs": [],
   "source": [
    "#Loading Dataset\n",
    "df1 = pd.read_csv(\"Set1_Student.csv\")\n",
    "df2 = pd.read_excel(\"Set2_Score.xlsx\")\n",
    "df3 = pd.read_csv(\"Set3_Dept.txt\", sep=\";\")"
   ]
  },
  {
   "cell_type": "code",
   "execution_count": 10,
   "metadata": {},
   "outputs": [
    {
     "data": {
      "text/html": [
       "<div>\n",
       "<style scoped>\n",
       "    .dataframe tbody tr th:only-of-type {\n",
       "        vertical-align: middle;\n",
       "    }\n",
       "\n",
       "    .dataframe tbody tr th {\n",
       "        vertical-align: top;\n",
       "    }\n",
       "\n",
       "    .dataframe thead th {\n",
       "        text-align: right;\n",
       "    }\n",
       "</style>\n",
       "<table border=\"1\" class=\"dataframe\">\n",
       "  <thead>\n",
       "    <tr style=\"text-align: right;\">\n",
       "      <th></th>\n",
       "      <th>X1</th>\n",
       "      <th>X2</th>\n",
       "      <th>X3</th>\n",
       "      <th>X4</th>\n",
       "      <th>X5</th>\n",
       "      <th>X6</th>\n",
       "    </tr>\n",
       "  </thead>\n",
       "  <tbody>\n",
       "    <tr>\n",
       "      <th>0</th>\n",
       "      <td>10002341</td>\n",
       "      <td>Catherine</td>\n",
       "      <td>Hundley</td>\n",
       "      <td>F</td>\n",
       "      <td>19.0</td>\n",
       "      <td>110</td>\n",
       "    </tr>\n",
       "    <tr>\n",
       "      <th>1</th>\n",
       "      <td>10006675</td>\n",
       "      <td>Susan</td>\n",
       "      <td>Corrigan</td>\n",
       "      <td>F</td>\n",
       "      <td>22.0</td>\n",
       "      <td>110</td>\n",
       "    </tr>\n",
       "    <tr>\n",
       "      <th>2</th>\n",
       "      <td>10004456</td>\n",
       "      <td>Gertrude</td>\n",
       "      <td>Harris</td>\n",
       "      <td>M</td>\n",
       "      <td>21.0</td>\n",
       "      <td>110</td>\n",
       "    </tr>\n",
       "    <tr>\n",
       "      <th>3</th>\n",
       "      <td>10003457</td>\n",
       "      <td>Charles</td>\n",
       "      <td>Swarey</td>\n",
       "      <td>M</td>\n",
       "      <td>NaN</td>\n",
       "      <td>122</td>\n",
       "    </tr>\n",
       "    <tr>\n",
       "      <th>4</th>\n",
       "      <td>10003345</td>\n",
       "      <td>Christopher</td>\n",
       "      <td>Bowers</td>\n",
       "      <td>M</td>\n",
       "      <td>22.0</td>\n",
       "      <td>122</td>\n",
       "    </tr>\n",
       "  </tbody>\n",
       "</table>\n",
       "</div>"
      ],
      "text/plain": [
       "         X1           X2        X3 X4    X5   X6\n",
       "0  10002341    Catherine   Hundley  F  19.0  110\n",
       "1  10006675        Susan  Corrigan  F  22.0  110\n",
       "2  10004456     Gertrude    Harris  M  21.0  110\n",
       "3  10003457      Charles    Swarey  M   NaN  122\n",
       "4  10003345  Christopher    Bowers  M  22.0  122"
      ]
     },
     "execution_count": 10,
     "metadata": {},
     "output_type": "execute_result"
    }
   ],
   "source": [
    "df1.head()\n",
    "# df2.head()\n",
    "# df3.head()\n"
   ]
  },
  {
   "cell_type": "markdown",
   "metadata": {},
   "source": [
    "### Change Column's Name"
   ]
  },
  {
   "cell_type": "code",
   "execution_count": 11,
   "metadata": {},
   "outputs": [],
   "source": [
    "#Change Column's Name in df1\n",
    "df1 = df1.rename(columns={'X1': 'Student_ID', 'X2': 'First name','X3':'Last Name','X4':'Gender','X5':'Age','X6':'Dept_ID'})"
   ]
  },
  {
   "cell_type": "markdown",
   "metadata": {},
   "source": [
    "### Quick Look"
   ]
  },
  {
   "cell_type": "code",
   "execution_count": 12,
   "metadata": {},
   "outputs": [
    {
     "name": "stdout",
     "output_type": "stream",
     "text": [
      "    Student_ID   First name Last Name Gender   Age  Dept_ID\n",
      "0     10002341    Catherine   Hundley      F  19.0      110\n",
      "1     10006675        Susan  Corrigan      F  22.0      110\n",
      "2     10004456     Gertrude    Harris      M  21.0      110\n",
      "3     10003457      Charles    Swarey      M   NaN      122\n",
      "4     10003345  Christopher    Bowers      M  22.0      122\n",
      "5     10003345  Christopher    Bowers      M  22.0      122\n",
      "6     10009945          NaN    Butler      F   NaN      111\n",
      "7     10007793          Tom    Topper      M  24.0      111\n",
      "8     10001121         Paul    Haring      M  22.0      121\n",
      "9     10007761      Gustavo      Jobe      M  19.0      121\n",
      "10    10009812      Enrique     Baker      M  20.0      112\n",
      "    Student_ID             Course  Weight Mark\n",
      "0     10002341         Calculus 1       2    A\n",
      "1     10002341   Basic Statistics       2   AB\n",
      "2     10002341         Case Study       3    B\n",
      "3     10006675         Calculus 1       2    A\n",
      "4     10006675   Basic Statistics       2    B\n",
      "5     10004456         Calculus 1       2   AB\n",
      "6     10004456   Basic Statistics       2    B\n",
      "7     10004456         Case Study       3    B\n",
      "8     10003457      Basic Physics       2   AB\n",
      "9     10003457      Programming 1       2    B\n",
      "10    10003457  Industrial Design       3    B\n",
      "11    10003345      Basic Physics       2    B\n",
      "12    10003345      Programming 1       2   AB\n",
      "   Dept_ID             Dept\n",
      "0      110             Math\n",
      "1      111        Economics\n",
      "2      112              Law\n",
      "3      120  Natural Science\n",
      "4      121       Statistics\n",
      "5      122      Engineering\n"
     ]
    }
   ],
   "source": [
    "print(df1)\n",
    "print(df2)\n",
    "print(df3)"
   ]
  },
  {
   "cell_type": "code",
   "execution_count": 13,
   "metadata": {},
   "outputs": [
    {
     "data": {
      "text/plain": [
       "(6, 2)"
      ]
     },
     "execution_count": 13,
     "metadata": {},
     "output_type": "execute_result"
    }
   ],
   "source": [
    "df3.shape"
   ]
  },
  {
   "cell_type": "code",
   "execution_count": 14,
   "metadata": {},
   "outputs": [
    {
     "data": {
      "text/plain": [
       "Student_ID      int64\n",
       "First name     object\n",
       "Last Name      object\n",
       "Gender         object\n",
       "Age           float64\n",
       "Dept_ID         int64\n",
       "dtype: object"
      ]
     },
     "execution_count": 14,
     "metadata": {},
     "output_type": "execute_result"
    }
   ],
   "source": [
    "df1.dtypes"
   ]
  },
  {
   "cell_type": "code",
   "execution_count": 15,
   "metadata": {},
   "outputs": [
    {
     "name": "stdout",
     "output_type": "stream",
     "text": [
      "<class 'pandas.core.frame.DataFrame'>\n",
      "RangeIndex: 13 entries, 0 to 12\n",
      "Data columns (total 4 columns):\n",
      "Student_ID    13 non-null int64\n",
      "Course        13 non-null object\n",
      "Weight        13 non-null int64\n",
      "Mark          13 non-null object\n",
      "dtypes: int64(2), object(2)\n",
      "memory usage: 496.0+ bytes\n"
     ]
    }
   ],
   "source": [
    "df2.info() \n",
    "#df1 ada missing value\n",
    "#df2 gak ada missing value\n",
    "#df3 gak ada missing value"
   ]
  },
  {
   "cell_type": "code",
   "execution_count": 16,
   "metadata": {},
   "outputs": [
    {
     "name": "stdout",
     "output_type": "stream",
     "text": [
      "Student_ID    10\n",
      "First name     9\n",
      "Last Name     10\n",
      "Gender         2\n",
      "Age            5\n",
      "Dept_ID        5\n",
      "dtype: int64\n",
      "\n",
      "\n",
      "Student_ID    5\n",
      "Course        6\n",
      "Weight        2\n",
      "Mark          3\n",
      "dtype: int64\n",
      "\n",
      "\n",
      "Dept_ID    6\n",
      "Dept       6\n",
      "dtype: int64\n"
     ]
    }
   ],
   "source": [
    "#number of unique value\n",
    "print(df1.nunique())\n",
    "print(\"\\n\")\n",
    "print(df2.nunique())\n",
    "print(\"\\n\")\n",
    "print(df3.nunique())\n",
    "\n"
   ]
  },
  {
   "cell_type": "code",
   "execution_count": 17,
   "metadata": {},
   "outputs": [
    {
     "data": {
      "text/plain": [
       "array(['Calculus 1', 'Basic Statistics', 'Case Study', 'Basic Physics',\n",
       "       'Programming 1', 'Industrial Design'], dtype=object)"
      ]
     },
     "execution_count": 17,
     "metadata": {},
     "output_type": "execute_result"
    }
   ],
   "source": [
    "df2['Course'].unique()\n",
    "# df2.columns.unique()"
   ]
  },
  {
   "cell_type": "code",
   "execution_count": 18,
   "metadata": {},
   "outputs": [
    {
     "data": {
      "text/html": [
       "<div>\n",
       "<style scoped>\n",
       "    .dataframe tbody tr th:only-of-type {\n",
       "        vertical-align: middle;\n",
       "    }\n",
       "\n",
       "    .dataframe tbody tr th {\n",
       "        vertical-align: top;\n",
       "    }\n",
       "\n",
       "    .dataframe thead th {\n",
       "        text-align: right;\n",
       "    }\n",
       "</style>\n",
       "<table border=\"1\" class=\"dataframe\">\n",
       "  <thead>\n",
       "    <tr style=\"text-align: right;\">\n",
       "      <th></th>\n",
       "      <th>Student_ID</th>\n",
       "      <th>Weight</th>\n",
       "    </tr>\n",
       "  </thead>\n",
       "  <tbody>\n",
       "    <tr>\n",
       "      <th>count</th>\n",
       "      <td>1.300000e+01</td>\n",
       "      <td>13.000000</td>\n",
       "    </tr>\n",
       "    <tr>\n",
       "      <th>mean</th>\n",
       "      <td>1.000391e+07</td>\n",
       "      <td>2.230769</td>\n",
       "    </tr>\n",
       "    <tr>\n",
       "      <th>std</th>\n",
       "      <td>1.438289e+03</td>\n",
       "      <td>0.438529</td>\n",
       "    </tr>\n",
       "    <tr>\n",
       "      <th>min</th>\n",
       "      <td>1.000234e+07</td>\n",
       "      <td>2.000000</td>\n",
       "    </tr>\n",
       "    <tr>\n",
       "      <th>25%</th>\n",
       "      <td>1.000334e+07</td>\n",
       "      <td>2.000000</td>\n",
       "    </tr>\n",
       "    <tr>\n",
       "      <th>50%</th>\n",
       "      <td>1.000346e+07</td>\n",
       "      <td>2.000000</td>\n",
       "    </tr>\n",
       "    <tr>\n",
       "      <th>75%</th>\n",
       "      <td>1.000446e+07</td>\n",
       "      <td>2.000000</td>\n",
       "    </tr>\n",
       "    <tr>\n",
       "      <th>max</th>\n",
       "      <td>1.000668e+07</td>\n",
       "      <td>3.000000</td>\n",
       "    </tr>\n",
       "  </tbody>\n",
       "</table>\n",
       "</div>"
      ],
      "text/plain": [
       "         Student_ID     Weight\n",
       "count  1.300000e+01  13.000000\n",
       "mean   1.000391e+07   2.230769\n",
       "std    1.438289e+03   0.438529\n",
       "min    1.000234e+07   2.000000\n",
       "25%    1.000334e+07   2.000000\n",
       "50%    1.000346e+07   2.000000\n",
       "75%    1.000446e+07   2.000000\n",
       "max    1.000668e+07   3.000000"
      ]
     },
     "execution_count": 18,
     "metadata": {},
     "output_type": "execute_result"
    }
   ],
   "source": [
    "df2.describe()"
   ]
  },
  {
   "cell_type": "markdown",
   "metadata": {},
   "source": [
    "### Missing value"
   ]
  },
  {
   "cell_type": "code",
   "execution_count": 19,
   "metadata": {},
   "outputs": [
    {
     "data": {
      "text/plain": [
       "Student_ID    0\n",
       "First name    1\n",
       "Last Name     0\n",
       "Gender        0\n",
       "Age           2\n",
       "Dept_ID       0\n",
       "dtype: int64"
      ]
     },
     "execution_count": 19,
     "metadata": {},
     "output_type": "execute_result"
    }
   ],
   "source": [
    "df1.isnull().sum()"
   ]
  },
  {
   "cell_type": "code",
   "execution_count": 20,
   "metadata": {},
   "outputs": [
    {
     "data": {
      "text/plain": [
       "1"
      ]
     },
     "execution_count": 20,
     "metadata": {},
     "output_type": "execute_result"
    }
   ],
   "source": [
    "df1.duplicated().sum()\n",
    "# df2.duplicated().sum()\n",
    "# df3.duplicated().sum()"
   ]
  },
  {
   "cell_type": "markdown",
   "metadata": {},
   "source": [
    "### Change Column's Name"
   ]
  },
  {
   "cell_type": "code",
   "execution_count": 21,
   "metadata": {},
   "outputs": [],
   "source": [
    "# #Change Column's Name in df1\n",
    "# df1 = df1.rename(columns={'X1': 'Student_ID', 'X2': 'First name','X3':'Last Name','X4':'Gender','X5':'Age','X6':'Dept_ID'})"
   ]
  },
  {
   "cell_type": "markdown",
   "metadata": {},
   "source": [
    "### Handling Missing and Duplicated Data"
   ]
  },
  {
   "cell_type": "code",
   "execution_count": 22,
   "metadata": {},
   "outputs": [],
   "source": [
    "#Drop Duplicates\n",
    "df1 = df1.drop_duplicates()"
   ]
  },
  {
   "cell_type": "code",
   "execution_count": 23,
   "metadata": {},
   "outputs": [],
   "source": [
    "#Drop First Name yang missing value\n",
    "df1 = df1.dropna(subset=['First name'])"
   ]
  },
  {
   "cell_type": "code",
   "execution_count": 24,
   "metadata": {},
   "outputs": [],
   "source": [
    "#Replace Age misisng value dengan mean()\n",
    "df1['Age'] = df1['Age'].fillna(df1['Age'].mean())"
   ]
  },
  {
   "cell_type": "code",
   "execution_count": null,
   "metadata": {},
   "outputs": [],
   "source": []
  },
  {
   "cell_type": "markdown",
   "metadata": {},
   "source": [
    "### Data Type Adjustment"
   ]
  },
  {
   "cell_type": "code",
   "execution_count": 25,
   "metadata": {},
   "outputs": [],
   "source": [
    "#Change dtypes in df1\n",
    "df1['Student_ID'] = df1['Student_ID'].astype(str)\n",
    "df1['Gender'] = df1['Gender'].astype('category')\n",
    "df1['Dept_ID'] = df1['Dept_ID'].astype(str)"
   ]
  },
  {
   "cell_type": "code",
   "execution_count": 26,
   "metadata": {},
   "outputs": [],
   "source": [
    "#Change dtypes in df2\n",
    "df2['Student_ID'] = df2['Student_ID'].astype(str)\n",
    "df2['Course'] = df2['Course'].astype('category')\n",
    "df2['Mark'] = df2['Mark'].astype('category')\n"
   ]
  },
  {
   "cell_type": "code",
   "execution_count": 27,
   "metadata": {},
   "outputs": [],
   "source": [
    "#Cahnge dtypes in df3\n",
    "df3['Dept_ID'] = df3['Dept_ID'].astype('str')\n",
    "df3['Dept'] = df3['Dept'].astype('str')"
   ]
  },
  {
   "cell_type": "code",
   "execution_count": 28,
   "metadata": {},
   "outputs": [
    {
     "data": {
      "text/html": [
       "<div>\n",
       "<style scoped>\n",
       "    .dataframe tbody tr th:only-of-type {\n",
       "        vertical-align: middle;\n",
       "    }\n",
       "\n",
       "    .dataframe tbody tr th {\n",
       "        vertical-align: top;\n",
       "    }\n",
       "\n",
       "    .dataframe thead th {\n",
       "        text-align: right;\n",
       "    }\n",
       "</style>\n",
       "<table border=\"1\" class=\"dataframe\">\n",
       "  <thead>\n",
       "    <tr style=\"text-align: right;\">\n",
       "      <th></th>\n",
       "      <th>Student_ID</th>\n",
       "      <th>First name</th>\n",
       "      <th>Last Name</th>\n",
       "      <th>Gender</th>\n",
       "      <th>Age</th>\n",
       "      <th>Dept_ID</th>\n",
       "    </tr>\n",
       "  </thead>\n",
       "  <tbody>\n",
       "    <tr>\n",
       "      <th>0</th>\n",
       "      <td>10002341</td>\n",
       "      <td>Catherine</td>\n",
       "      <td>Hundley</td>\n",
       "      <td>F</td>\n",
       "      <td>19.000</td>\n",
       "      <td>110</td>\n",
       "    </tr>\n",
       "    <tr>\n",
       "      <th>1</th>\n",
       "      <td>10006675</td>\n",
       "      <td>Susan</td>\n",
       "      <td>Corrigan</td>\n",
       "      <td>F</td>\n",
       "      <td>22.000</td>\n",
       "      <td>110</td>\n",
       "    </tr>\n",
       "    <tr>\n",
       "      <th>2</th>\n",
       "      <td>10004456</td>\n",
       "      <td>Gertrude</td>\n",
       "      <td>Harris</td>\n",
       "      <td>M</td>\n",
       "      <td>21.000</td>\n",
       "      <td>110</td>\n",
       "    </tr>\n",
       "    <tr>\n",
       "      <th>3</th>\n",
       "      <td>10003457</td>\n",
       "      <td>Charles</td>\n",
       "      <td>Swarey</td>\n",
       "      <td>M</td>\n",
       "      <td>21.125</td>\n",
       "      <td>122</td>\n",
       "    </tr>\n",
       "    <tr>\n",
       "      <th>4</th>\n",
       "      <td>10003345</td>\n",
       "      <td>Christopher</td>\n",
       "      <td>Bowers</td>\n",
       "      <td>M</td>\n",
       "      <td>22.000</td>\n",
       "      <td>122</td>\n",
       "    </tr>\n",
       "    <tr>\n",
       "      <th>7</th>\n",
       "      <td>10007793</td>\n",
       "      <td>Tom</td>\n",
       "      <td>Topper</td>\n",
       "      <td>M</td>\n",
       "      <td>24.000</td>\n",
       "      <td>111</td>\n",
       "    </tr>\n",
       "    <tr>\n",
       "      <th>8</th>\n",
       "      <td>10001121</td>\n",
       "      <td>Paul</td>\n",
       "      <td>Haring</td>\n",
       "      <td>M</td>\n",
       "      <td>22.000</td>\n",
       "      <td>121</td>\n",
       "    </tr>\n",
       "    <tr>\n",
       "      <th>9</th>\n",
       "      <td>10007761</td>\n",
       "      <td>Gustavo</td>\n",
       "      <td>Jobe</td>\n",
       "      <td>M</td>\n",
       "      <td>19.000</td>\n",
       "      <td>121</td>\n",
       "    </tr>\n",
       "    <tr>\n",
       "      <th>10</th>\n",
       "      <td>10009812</td>\n",
       "      <td>Enrique</td>\n",
       "      <td>Baker</td>\n",
       "      <td>M</td>\n",
       "      <td>20.000</td>\n",
       "      <td>112</td>\n",
       "    </tr>\n",
       "  </tbody>\n",
       "</table>\n",
       "</div>"
      ],
      "text/plain": [
       "   Student_ID   First name Last Name Gender     Age Dept_ID\n",
       "0    10002341    Catherine   Hundley      F  19.000     110\n",
       "1    10006675        Susan  Corrigan      F  22.000     110\n",
       "2    10004456     Gertrude    Harris      M  21.000     110\n",
       "3    10003457      Charles    Swarey      M  21.125     122\n",
       "4    10003345  Christopher    Bowers      M  22.000     122\n",
       "7    10007793          Tom    Topper      M  24.000     111\n",
       "8    10001121         Paul    Haring      M  22.000     121\n",
       "9    10007761      Gustavo      Jobe      M  19.000     121\n",
       "10   10009812      Enrique     Baker      M  20.000     112"
      ]
     },
     "execution_count": 28,
     "metadata": {},
     "output_type": "execute_result"
    }
   ],
   "source": [
    "df1"
   ]
  },
  {
   "cell_type": "markdown",
   "metadata": {},
   "source": [
    "### Selection"
   ]
  },
  {
   "cell_type": "code",
   "execution_count": 29,
   "metadata": {},
   "outputs": [
    {
     "ename": "TypeError",
     "evalue": "only list-like objects are allowed to be passed to isin(), you passed a [str]",
     "output_type": "error",
     "traceback": [
      "\u001b[1;31m---------------------------------------------------------------------------\u001b[0m",
      "\u001b[1;31mTypeError\u001b[0m                                 Traceback (most recent call last)",
      "\u001b[1;32m<ipython-input-29-9e9bc7f2e3b5>\u001b[0m in \u001b[0;36m<module>\u001b[1;34m()\u001b[0m\n\u001b[0;32m      1\u001b[0m \u001b[1;31m# ROW SELECTION #\u001b[0m\u001b[1;33m\u001b[0m\u001b[1;33m\u001b[0m\u001b[0m\n\u001b[1;32m----> 2\u001b[1;33m \u001b[0mdf1\u001b[0m\u001b[1;33m.\u001b[0m\u001b[0mloc\u001b[0m\u001b[1;33m[\u001b[0m\u001b[0mdf1\u001b[0m\u001b[1;33m[\u001b[0m\u001b[1;34m'Gender'\u001b[0m\u001b[1;33m]\u001b[0m\u001b[1;33m.\u001b[0m\u001b[0misin\u001b[0m\u001b[1;33m(\u001b[0m\u001b[1;34m'F'\u001b[0m\u001b[1;33m)\u001b[0m\u001b[1;33m]\u001b[0m\u001b[1;33m\u001b[0m\u001b[0m\n\u001b[0m",
      "\u001b[1;32m~\\AppData\\Local\\Continuum\\anaconda3\\lib\\site-packages\\pandas\\core\\series.py\u001b[0m in \u001b[0;36misin\u001b[1;34m(self, values)\u001b[0m\n\u001b[0;32m   2801\u001b[0m \u001b[1;33m\u001b[0m\u001b[0m\n\u001b[0;32m   2802\u001b[0m         \"\"\"\n\u001b[1;32m-> 2803\u001b[1;33m         \u001b[0mresult\u001b[0m \u001b[1;33m=\u001b[0m \u001b[0malgorithms\u001b[0m\u001b[1;33m.\u001b[0m\u001b[0misin\u001b[0m\u001b[1;33m(\u001b[0m\u001b[0m_values_from_object\u001b[0m\u001b[1;33m(\u001b[0m\u001b[0mself\u001b[0m\u001b[1;33m)\u001b[0m\u001b[1;33m,\u001b[0m \u001b[0mvalues\u001b[0m\u001b[1;33m)\u001b[0m\u001b[1;33m\u001b[0m\u001b[0m\n\u001b[0m\u001b[0;32m   2804\u001b[0m         \u001b[1;32mreturn\u001b[0m \u001b[0mself\u001b[0m\u001b[1;33m.\u001b[0m\u001b[0m_constructor\u001b[0m\u001b[1;33m(\u001b[0m\u001b[0mresult\u001b[0m\u001b[1;33m,\u001b[0m \u001b[0mindex\u001b[0m\u001b[1;33m=\u001b[0m\u001b[0mself\u001b[0m\u001b[1;33m.\u001b[0m\u001b[0mindex\u001b[0m\u001b[1;33m)\u001b[0m\u001b[1;33m.\u001b[0m\u001b[0m__finalize__\u001b[0m\u001b[1;33m(\u001b[0m\u001b[0mself\u001b[0m\u001b[1;33m)\u001b[0m\u001b[1;33m\u001b[0m\u001b[0m\n\u001b[0;32m   2805\u001b[0m \u001b[1;33m\u001b[0m\u001b[0m\n",
      "\u001b[1;32m~\\AppData\\Local\\Continuum\\anaconda3\\lib\\site-packages\\pandas\\core\\algorithms.py\u001b[0m in \u001b[0;36misin\u001b[1;34m(comps, values)\u001b[0m\n\u001b[0;32m    399\u001b[0m         raise TypeError(\"only list-like objects are allowed to be passed\"\n\u001b[0;32m    400\u001b[0m                         \u001b[1;34m\" to isin(), you passed a [{values_type}]\"\u001b[0m\u001b[1;33m\u001b[0m\u001b[0m\n\u001b[1;32m--> 401\u001b[1;33m                         .format(values_type=type(values).__name__))\n\u001b[0m\u001b[0;32m    402\u001b[0m \u001b[1;33m\u001b[0m\u001b[0m\n\u001b[0;32m    403\u001b[0m     \u001b[1;32mif\u001b[0m \u001b[1;32mnot\u001b[0m \u001b[0misinstance\u001b[0m\u001b[1;33m(\u001b[0m\u001b[0mvalues\u001b[0m\u001b[1;33m,\u001b[0m \u001b[1;33m(\u001b[0m\u001b[0mABCIndex\u001b[0m\u001b[1;33m,\u001b[0m \u001b[0mABCSeries\u001b[0m\u001b[1;33m,\u001b[0m \u001b[0mnp\u001b[0m\u001b[1;33m.\u001b[0m\u001b[0mndarray\u001b[0m\u001b[1;33m)\u001b[0m\u001b[1;33m)\u001b[0m\u001b[1;33m:\u001b[0m\u001b[1;33m\u001b[0m\u001b[0m\n",
      "\u001b[1;31mTypeError\u001b[0m: only list-like objects are allowed to be passed to isin(), you passed a [str]"
     ]
    }
   ],
   "source": [
    "# ROW SELECTION #\n",
    "df1.loc[df1['Gender'].isin('F')]"
   ]
  },
  {
   "cell_type": "code",
   "execution_count": 30,
   "metadata": {},
   "outputs": [
    {
     "data": {
      "text/html": [
       "<div>\n",
       "<style scoped>\n",
       "    .dataframe tbody tr th:only-of-type {\n",
       "        vertical-align: middle;\n",
       "    }\n",
       "\n",
       "    .dataframe tbody tr th {\n",
       "        vertical-align: top;\n",
       "    }\n",
       "\n",
       "    .dataframe thead th {\n",
       "        text-align: right;\n",
       "    }\n",
       "</style>\n",
       "<table border=\"1\" class=\"dataframe\">\n",
       "  <thead>\n",
       "    <tr style=\"text-align: right;\">\n",
       "      <th></th>\n",
       "      <th>Student_ID</th>\n",
       "      <th>First name</th>\n",
       "      <th>Last Name</th>\n",
       "      <th>Gender</th>\n",
       "      <th>Age</th>\n",
       "      <th>Dept_ID</th>\n",
       "    </tr>\n",
       "  </thead>\n",
       "  <tbody>\n",
       "    <tr>\n",
       "      <th>0</th>\n",
       "      <td>10002341</td>\n",
       "      <td>Catherine</td>\n",
       "      <td>Hundley</td>\n",
       "      <td>F</td>\n",
       "      <td>19.0</td>\n",
       "      <td>110</td>\n",
       "    </tr>\n",
       "    <tr>\n",
       "      <th>1</th>\n",
       "      <td>10006675</td>\n",
       "      <td>Susan</td>\n",
       "      <td>Corrigan</td>\n",
       "      <td>F</td>\n",
       "      <td>22.0</td>\n",
       "      <td>110</td>\n",
       "    </tr>\n",
       "  </tbody>\n",
       "</table>\n",
       "</div>"
      ],
      "text/plain": [
       "  Student_ID First name Last Name Gender   Age Dept_ID\n",
       "0   10002341  Catherine   Hundley      F  19.0     110\n",
       "1   10006675      Susan  Corrigan      F  22.0     110"
      ]
     },
     "execution_count": 30,
     "metadata": {},
     "output_type": "execute_result"
    }
   ],
   "source": [
    "df1[df1['Gender'] == \"F\"]"
   ]
  },
  {
   "cell_type": "code",
   "execution_count": 31,
   "metadata": {},
   "outputs": [
    {
     "ename": "NameError",
     "evalue": "name 'sele' is not defined",
     "output_type": "error",
     "traceback": [
      "\u001b[1;31m---------------------------------------------------------------------------\u001b[0m",
      "\u001b[1;31mNameError\u001b[0m                                 Traceback (most recent call last)",
      "\u001b[1;32m<ipython-input-31-c6ad152580d0>\u001b[0m in \u001b[0;36m<module>\u001b[1;34m()\u001b[0m\n\u001b[1;32m----> 1\u001b[1;33m \u001b[0msele\u001b[0m\u001b[1;33m\u001b[0m\u001b[0m\n\u001b[0m",
      "\u001b[1;31mNameError\u001b[0m: name 'sele' is not defined"
     ]
    }
   ],
   "source": [
    "sele"
   ]
  },
  {
   "cell_type": "code",
   "execution_count": 32,
   "metadata": {},
   "outputs": [
    {
     "data": {
      "text/html": [
       "<div>\n",
       "<style scoped>\n",
       "    .dataframe tbody tr th:only-of-type {\n",
       "        vertical-align: middle;\n",
       "    }\n",
       "\n",
       "    .dataframe tbody tr th {\n",
       "        vertical-align: top;\n",
       "    }\n",
       "\n",
       "    .dataframe thead th {\n",
       "        text-align: right;\n",
       "    }\n",
       "</style>\n",
       "<table border=\"1\" class=\"dataframe\">\n",
       "  <thead>\n",
       "    <tr style=\"text-align: right;\">\n",
       "      <th></th>\n",
       "      <th>Student_ID</th>\n",
       "      <th>First name</th>\n",
       "      <th>Last Name</th>\n",
       "      <th>Gender</th>\n",
       "      <th>Age</th>\n",
       "    </tr>\n",
       "  </thead>\n",
       "  <tbody>\n",
       "    <tr>\n",
       "      <th>0</th>\n",
       "      <td>10002341</td>\n",
       "      <td>Catherine</td>\n",
       "      <td>Hundley</td>\n",
       "      <td>F</td>\n",
       "      <td>19.000</td>\n",
       "    </tr>\n",
       "    <tr>\n",
       "      <th>1</th>\n",
       "      <td>10006675</td>\n",
       "      <td>Susan</td>\n",
       "      <td>Corrigan</td>\n",
       "      <td>F</td>\n",
       "      <td>22.000</td>\n",
       "    </tr>\n",
       "    <tr>\n",
       "      <th>2</th>\n",
       "      <td>10004456</td>\n",
       "      <td>Gertrude</td>\n",
       "      <td>Harris</td>\n",
       "      <td>M</td>\n",
       "      <td>21.000</td>\n",
       "    </tr>\n",
       "    <tr>\n",
       "      <th>3</th>\n",
       "      <td>10003457</td>\n",
       "      <td>Charles</td>\n",
       "      <td>Swarey</td>\n",
       "      <td>M</td>\n",
       "      <td>21.125</td>\n",
       "    </tr>\n",
       "    <tr>\n",
       "      <th>4</th>\n",
       "      <td>10003345</td>\n",
       "      <td>Christopher</td>\n",
       "      <td>Bowers</td>\n",
       "      <td>M</td>\n",
       "      <td>22.000</td>\n",
       "    </tr>\n",
       "    <tr>\n",
       "      <th>7</th>\n",
       "      <td>10007793</td>\n",
       "      <td>Tom</td>\n",
       "      <td>Topper</td>\n",
       "      <td>M</td>\n",
       "      <td>24.000</td>\n",
       "    </tr>\n",
       "    <tr>\n",
       "      <th>8</th>\n",
       "      <td>10001121</td>\n",
       "      <td>Paul</td>\n",
       "      <td>Haring</td>\n",
       "      <td>M</td>\n",
       "      <td>22.000</td>\n",
       "    </tr>\n",
       "    <tr>\n",
       "      <th>9</th>\n",
       "      <td>10007761</td>\n",
       "      <td>Gustavo</td>\n",
       "      <td>Jobe</td>\n",
       "      <td>M</td>\n",
       "      <td>19.000</td>\n",
       "    </tr>\n",
       "    <tr>\n",
       "      <th>10</th>\n",
       "      <td>10009812</td>\n",
       "      <td>Enrique</td>\n",
       "      <td>Baker</td>\n",
       "      <td>M</td>\n",
       "      <td>20.000</td>\n",
       "    </tr>\n",
       "  </tbody>\n",
       "</table>\n",
       "</div>"
      ],
      "text/plain": [
       "   Student_ID   First name Last Name Gender     Age\n",
       "0    10002341    Catherine   Hundley      F  19.000\n",
       "1    10006675        Susan  Corrigan      F  22.000\n",
       "2    10004456     Gertrude    Harris      M  21.000\n",
       "3    10003457      Charles    Swarey      M  21.125\n",
       "4    10003345  Christopher    Bowers      M  22.000\n",
       "7    10007793          Tom    Topper      M  24.000\n",
       "8    10001121         Paul    Haring      M  22.000\n",
       "9    10007761      Gustavo      Jobe      M  19.000\n",
       "10   10009812      Enrique     Baker      M  20.000"
      ]
     },
     "execution_count": 32,
     "metadata": {},
     "output_type": "execute_result"
    }
   ],
   "source": [
    "df1[['Student_ID','First name','Last Name','Gender','Age']]"
   ]
  },
  {
   "cell_type": "markdown",
   "metadata": {},
   "source": [
    "### Subset"
   ]
  },
  {
   "cell_type": "code",
   "execution_count": 33,
   "metadata": {},
   "outputs": [],
   "source": [
    "demography = df1[['First name','Last Name','Gender','Age']]"
   ]
  },
  {
   "cell_type": "code",
   "execution_count": 34,
   "metadata": {},
   "outputs": [
    {
     "data": {
      "text/html": [
       "<div>\n",
       "<style scoped>\n",
       "    .dataframe tbody tr th:only-of-type {\n",
       "        vertical-align: middle;\n",
       "    }\n",
       "\n",
       "    .dataframe tbody tr th {\n",
       "        vertical-align: top;\n",
       "    }\n",
       "\n",
       "    .dataframe thead th {\n",
       "        text-align: right;\n",
       "    }\n",
       "</style>\n",
       "<table border=\"1\" class=\"dataframe\">\n",
       "  <thead>\n",
       "    <tr style=\"text-align: right;\">\n",
       "      <th></th>\n",
       "      <th>First name</th>\n",
       "      <th>Last Name</th>\n",
       "      <th>Gender</th>\n",
       "      <th>Age</th>\n",
       "    </tr>\n",
       "  </thead>\n",
       "  <tbody>\n",
       "    <tr>\n",
       "      <th>0</th>\n",
       "      <td>Catherine</td>\n",
       "      <td>Hundley</td>\n",
       "      <td>F</td>\n",
       "      <td>19.000</td>\n",
       "    </tr>\n",
       "    <tr>\n",
       "      <th>1</th>\n",
       "      <td>Susan</td>\n",
       "      <td>Corrigan</td>\n",
       "      <td>F</td>\n",
       "      <td>22.000</td>\n",
       "    </tr>\n",
       "    <tr>\n",
       "      <th>2</th>\n",
       "      <td>Gertrude</td>\n",
       "      <td>Harris</td>\n",
       "      <td>M</td>\n",
       "      <td>21.000</td>\n",
       "    </tr>\n",
       "    <tr>\n",
       "      <th>3</th>\n",
       "      <td>Charles</td>\n",
       "      <td>Swarey</td>\n",
       "      <td>M</td>\n",
       "      <td>21.125</td>\n",
       "    </tr>\n",
       "    <tr>\n",
       "      <th>4</th>\n",
       "      <td>Christopher</td>\n",
       "      <td>Bowers</td>\n",
       "      <td>M</td>\n",
       "      <td>22.000</td>\n",
       "    </tr>\n",
       "    <tr>\n",
       "      <th>7</th>\n",
       "      <td>Tom</td>\n",
       "      <td>Topper</td>\n",
       "      <td>M</td>\n",
       "      <td>24.000</td>\n",
       "    </tr>\n",
       "    <tr>\n",
       "      <th>8</th>\n",
       "      <td>Paul</td>\n",
       "      <td>Haring</td>\n",
       "      <td>M</td>\n",
       "      <td>22.000</td>\n",
       "    </tr>\n",
       "    <tr>\n",
       "      <th>9</th>\n",
       "      <td>Gustavo</td>\n",
       "      <td>Jobe</td>\n",
       "      <td>M</td>\n",
       "      <td>19.000</td>\n",
       "    </tr>\n",
       "    <tr>\n",
       "      <th>10</th>\n",
       "      <td>Enrique</td>\n",
       "      <td>Baker</td>\n",
       "      <td>M</td>\n",
       "      <td>20.000</td>\n",
       "    </tr>\n",
       "  </tbody>\n",
       "</table>\n",
       "</div>"
      ],
      "text/plain": [
       "     First name Last Name Gender     Age\n",
       "0     Catherine   Hundley      F  19.000\n",
       "1         Susan  Corrigan      F  22.000\n",
       "2      Gertrude    Harris      M  21.000\n",
       "3       Charles    Swarey      M  21.125\n",
       "4   Christopher    Bowers      M  22.000\n",
       "7           Tom    Topper      M  24.000\n",
       "8          Paul    Haring      M  22.000\n",
       "9       Gustavo      Jobe      M  19.000\n",
       "10      Enrique     Baker      M  20.000"
      ]
     },
     "execution_count": 34,
     "metadata": {},
     "output_type": "execute_result"
    }
   ],
   "source": [
    "demography"
   ]
  },
  {
   "cell_type": "code",
   "execution_count": 35,
   "metadata": {},
   "outputs": [
    {
     "data": {
      "text/html": [
       "<div>\n",
       "<style scoped>\n",
       "    .dataframe tbody tr th:only-of-type {\n",
       "        vertical-align: middle;\n",
       "    }\n",
       "\n",
       "    .dataframe tbody tr th {\n",
       "        vertical-align: top;\n",
       "    }\n",
       "\n",
       "    .dataframe thead th {\n",
       "        text-align: right;\n",
       "    }\n",
       "</style>\n",
       "<table border=\"1\" class=\"dataframe\">\n",
       "  <thead>\n",
       "    <tr style=\"text-align: right;\">\n",
       "      <th></th>\n",
       "      <th>Student_ID</th>\n",
       "      <th>Course</th>\n",
       "      <th>Weight</th>\n",
       "      <th>Mark</th>\n",
       "    </tr>\n",
       "  </thead>\n",
       "  <tbody>\n",
       "    <tr>\n",
       "      <th>0</th>\n",
       "      <td>10002341</td>\n",
       "      <td>Calculus 1</td>\n",
       "      <td>2</td>\n",
       "      <td>A</td>\n",
       "    </tr>\n",
       "    <tr>\n",
       "      <th>1</th>\n",
       "      <td>10002341</td>\n",
       "      <td>Basic Statistics</td>\n",
       "      <td>2</td>\n",
       "      <td>AB</td>\n",
       "    </tr>\n",
       "    <tr>\n",
       "      <th>2</th>\n",
       "      <td>10002341</td>\n",
       "      <td>Case Study</td>\n",
       "      <td>3</td>\n",
       "      <td>B</td>\n",
       "    </tr>\n",
       "    <tr>\n",
       "      <th>3</th>\n",
       "      <td>10006675</td>\n",
       "      <td>Calculus 1</td>\n",
       "      <td>2</td>\n",
       "      <td>A</td>\n",
       "    </tr>\n",
       "    <tr>\n",
       "      <th>4</th>\n",
       "      <td>10006675</td>\n",
       "      <td>Basic Statistics</td>\n",
       "      <td>2</td>\n",
       "      <td>B</td>\n",
       "    </tr>\n",
       "    <tr>\n",
       "      <th>5</th>\n",
       "      <td>10004456</td>\n",
       "      <td>Calculus 1</td>\n",
       "      <td>2</td>\n",
       "      <td>AB</td>\n",
       "    </tr>\n",
       "    <tr>\n",
       "      <th>6</th>\n",
       "      <td>10004456</td>\n",
       "      <td>Basic Statistics</td>\n",
       "      <td>2</td>\n",
       "      <td>B</td>\n",
       "    </tr>\n",
       "    <tr>\n",
       "      <th>7</th>\n",
       "      <td>10004456</td>\n",
       "      <td>Case Study</td>\n",
       "      <td>3</td>\n",
       "      <td>B</td>\n",
       "    </tr>\n",
       "    <tr>\n",
       "      <th>8</th>\n",
       "      <td>10003457</td>\n",
       "      <td>Basic Physics</td>\n",
       "      <td>2</td>\n",
       "      <td>AB</td>\n",
       "    </tr>\n",
       "    <tr>\n",
       "      <th>9</th>\n",
       "      <td>10003457</td>\n",
       "      <td>Programming 1</td>\n",
       "      <td>2</td>\n",
       "      <td>B</td>\n",
       "    </tr>\n",
       "    <tr>\n",
       "      <th>10</th>\n",
       "      <td>10003457</td>\n",
       "      <td>Industrial Design</td>\n",
       "      <td>3</td>\n",
       "      <td>B</td>\n",
       "    </tr>\n",
       "    <tr>\n",
       "      <th>11</th>\n",
       "      <td>10003345</td>\n",
       "      <td>Basic Physics</td>\n",
       "      <td>2</td>\n",
       "      <td>B</td>\n",
       "    </tr>\n",
       "    <tr>\n",
       "      <th>12</th>\n",
       "      <td>10003345</td>\n",
       "      <td>Programming 1</td>\n",
       "      <td>2</td>\n",
       "      <td>AB</td>\n",
       "    </tr>\n",
       "  </tbody>\n",
       "</table>\n",
       "</div>"
      ],
      "text/plain": [
       "   Student_ID             Course  Weight Mark\n",
       "0    10002341         Calculus 1       2    A\n",
       "1    10002341   Basic Statistics       2   AB\n",
       "2    10002341         Case Study       3    B\n",
       "3    10006675         Calculus 1       2    A\n",
       "4    10006675   Basic Statistics       2    B\n",
       "5    10004456         Calculus 1       2   AB\n",
       "6    10004456   Basic Statistics       2    B\n",
       "7    10004456         Case Study       3    B\n",
       "8    10003457      Basic Physics       2   AB\n",
       "9    10003457      Programming 1       2    B\n",
       "10   10003457  Industrial Design       3    B\n",
       "11   10003345      Basic Physics       2    B\n",
       "12   10003345      Programming 1       2   AB"
      ]
     },
     "execution_count": 35,
     "metadata": {},
     "output_type": "execute_result"
    }
   ],
   "source": [
    "df2.iloc[:,:]"
   ]
  },
  {
   "cell_type": "code",
   "execution_count": null,
   "metadata": {},
   "outputs": [],
   "source": []
  },
  {
   "cell_type": "markdown",
   "metadata": {},
   "source": [
    "### Conditional Statement"
   ]
  },
  {
   "cell_type": "code",
   "execution_count": 36,
   "metadata": {},
   "outputs": [],
   "source": [
    "score = {'A':4,'AB':3.5,'B':3}"
   ]
  },
  {
   "cell_type": "code",
   "execution_count": 37,
   "metadata": {},
   "outputs": [],
   "source": [
    "df2['Score'] = df2['Mark'].replace(score)"
   ]
  },
  {
   "cell_type": "code",
   "execution_count": 38,
   "metadata": {},
   "outputs": [],
   "source": [
    "df2['Score'] = df2['Score'].astype('float')"
   ]
  },
  {
   "cell_type": "code",
   "execution_count": 39,
   "metadata": {},
   "outputs": [
    {
     "name": "stdout",
     "output_type": "stream",
     "text": [
      "<class 'pandas.core.frame.DataFrame'>\n",
      "RangeIndex: 13 entries, 0 to 12\n",
      "Data columns (total 5 columns):\n",
      "Student_ID    13 non-null object\n",
      "Course        13 non-null category\n",
      "Weight        13 non-null int64\n",
      "Mark          13 non-null category\n",
      "Score         13 non-null float64\n",
      "dtypes: category(2), float64(1), int64(1), object(1)\n",
      "memory usage: 730.0+ bytes\n"
     ]
    }
   ],
   "source": [
    "df2.info()"
   ]
  },
  {
   "cell_type": "markdown",
   "metadata": {},
   "source": [
    "### Derivatived"
   ]
  },
  {
   "cell_type": "code",
   "execution_count": 40,
   "metadata": {},
   "outputs": [],
   "source": [
    "df2['Total score'] = df2['Weight'] * df2['Score']"
   ]
  },
  {
   "cell_type": "code",
   "execution_count": 41,
   "metadata": {},
   "outputs": [],
   "source": [
    "df2['Total score'] = df2['Total score'].astype('float')"
   ]
  },
  {
   "cell_type": "code",
   "execution_count": 42,
   "metadata": {},
   "outputs": [],
   "source": [
    "def score(mark):\n",
    "    if mark == 'A':\n",
    "        label = 4\n",
    "    elif mark == 'AB': #bisa and dan '&'\n",
    "        label = 3.5\n",
    "    elif mark == 'B':\n",
    "        label = 3\n",
    "    return label"
   ]
  },
  {
   "cell_type": "code",
   "execution_count": 43,
   "metadata": {},
   "outputs": [
    {
     "data": {
      "text/plain": [
       "0     4.0\n",
       "1     3.5\n",
       "2     3.0\n",
       "3     4.0\n",
       "4     3.0\n",
       "5     3.5\n",
       "6     3.0\n",
       "7     3.0\n",
       "8     3.5\n",
       "9     3.0\n",
       "10    3.0\n",
       "11    3.0\n",
       "12    3.5\n",
       "Name: Mark, dtype: category\n",
       "Categories (3, float64): [4.0, 3.5, 3.0]"
      ]
     },
     "execution_count": 43,
     "metadata": {},
     "output_type": "execute_result"
    }
   ],
   "source": [
    "df2['Mark'].apply(lambda x : score(x))"
   ]
  },
  {
   "cell_type": "code",
   "execution_count": null,
   "metadata": {},
   "outputs": [],
   "source": []
  },
  {
   "cell_type": "markdown",
   "metadata": {},
   "source": [
    "### Join"
   ]
  },
  {
   "cell_type": "code",
   "execution_count": 44,
   "metadata": {},
   "outputs": [],
   "source": [
    "#Join menggabungkan 2 tabel berdasarkan index. Kalau merge bisa join berdasarkan kolom apa"
   ]
  },
  {
   "cell_type": "code",
   "execution_count": 45,
   "metadata": {},
   "outputs": [
    {
     "name": "stdout",
     "output_type": "stream",
     "text": [
      "Student_ID    9\n",
      "First name    9\n",
      "Last Name     9\n",
      "Gender        2\n",
      "Age           6\n",
      "Dept_ID       5\n",
      "dtype: int64\n",
      "\n",
      "\n",
      "Student_ID     5\n",
      "Course         6\n",
      "Weight         2\n",
      "Mark           3\n",
      "Score          3\n",
      "Total score    4\n",
      "dtype: int64\n",
      "\n",
      "\n",
      "Dept_ID    6\n",
      "Dept       6\n",
      "dtype: int64\n"
     ]
    }
   ],
   "source": [
    "#number of unique value\n",
    "print(df1.nunique())\n",
    "print(\"\\n\")\n",
    "print(df2.nunique())\n",
    "print(\"\\n\")\n",
    "print(df3.nunique())"
   ]
  },
  {
   "cell_type": "code",
   "execution_count": 46,
   "metadata": {},
   "outputs": [],
   "source": [
    "data1 = pd.merge(df1,df2,how='inner', on='Student_ID')"
   ]
  },
  {
   "cell_type": "code",
   "execution_count": 47,
   "metadata": {},
   "outputs": [],
   "source": [
    "data2 = pd.merge(data1,df3,how='inner',on='Dept_ID')"
   ]
  },
  {
   "cell_type": "code",
   "execution_count": 48,
   "metadata": {},
   "outputs": [
    {
     "data": {
      "text/plain": [
       "(13, 12)"
      ]
     },
     "execution_count": 48,
     "metadata": {},
     "output_type": "execute_result"
    }
   ],
   "source": [
    "data2.shape"
   ]
  },
  {
   "cell_type": "code",
   "execution_count": 49,
   "metadata": {},
   "outputs": [
    {
     "data": {
      "text/html": [
       "<div>\n",
       "<style scoped>\n",
       "    .dataframe tbody tr th:only-of-type {\n",
       "        vertical-align: middle;\n",
       "    }\n",
       "\n",
       "    .dataframe tbody tr th {\n",
       "        vertical-align: top;\n",
       "    }\n",
       "\n",
       "    .dataframe thead th {\n",
       "        text-align: right;\n",
       "    }\n",
       "</style>\n",
       "<table border=\"1\" class=\"dataframe\">\n",
       "  <thead>\n",
       "    <tr style=\"text-align: right;\">\n",
       "      <th></th>\n",
       "      <th>Student_ID</th>\n",
       "      <th>First name</th>\n",
       "      <th>Last Name</th>\n",
       "      <th>Gender</th>\n",
       "      <th>Age</th>\n",
       "      <th>Dept_ID</th>\n",
       "      <th>Course</th>\n",
       "      <th>Weight</th>\n",
       "      <th>Mark</th>\n",
       "      <th>Score</th>\n",
       "      <th>Total score</th>\n",
       "      <th>Dept</th>\n",
       "    </tr>\n",
       "  </thead>\n",
       "  <tbody>\n",
       "    <tr>\n",
       "      <th>0</th>\n",
       "      <td>10002341</td>\n",
       "      <td>Catherine</td>\n",
       "      <td>Hundley</td>\n",
       "      <td>F</td>\n",
       "      <td>19.000</td>\n",
       "      <td>110</td>\n",
       "      <td>Calculus 1</td>\n",
       "      <td>2</td>\n",
       "      <td>A</td>\n",
       "      <td>4.0</td>\n",
       "      <td>8.0</td>\n",
       "      <td>Math</td>\n",
       "    </tr>\n",
       "    <tr>\n",
       "      <th>1</th>\n",
       "      <td>10002341</td>\n",
       "      <td>Catherine</td>\n",
       "      <td>Hundley</td>\n",
       "      <td>F</td>\n",
       "      <td>19.000</td>\n",
       "      <td>110</td>\n",
       "      <td>Basic Statistics</td>\n",
       "      <td>2</td>\n",
       "      <td>AB</td>\n",
       "      <td>3.5</td>\n",
       "      <td>7.0</td>\n",
       "      <td>Math</td>\n",
       "    </tr>\n",
       "    <tr>\n",
       "      <th>2</th>\n",
       "      <td>10002341</td>\n",
       "      <td>Catherine</td>\n",
       "      <td>Hundley</td>\n",
       "      <td>F</td>\n",
       "      <td>19.000</td>\n",
       "      <td>110</td>\n",
       "      <td>Case Study</td>\n",
       "      <td>3</td>\n",
       "      <td>B</td>\n",
       "      <td>3.0</td>\n",
       "      <td>9.0</td>\n",
       "      <td>Math</td>\n",
       "    </tr>\n",
       "    <tr>\n",
       "      <th>3</th>\n",
       "      <td>10006675</td>\n",
       "      <td>Susan</td>\n",
       "      <td>Corrigan</td>\n",
       "      <td>F</td>\n",
       "      <td>22.000</td>\n",
       "      <td>110</td>\n",
       "      <td>Calculus 1</td>\n",
       "      <td>2</td>\n",
       "      <td>A</td>\n",
       "      <td>4.0</td>\n",
       "      <td>8.0</td>\n",
       "      <td>Math</td>\n",
       "    </tr>\n",
       "    <tr>\n",
       "      <th>4</th>\n",
       "      <td>10006675</td>\n",
       "      <td>Susan</td>\n",
       "      <td>Corrigan</td>\n",
       "      <td>F</td>\n",
       "      <td>22.000</td>\n",
       "      <td>110</td>\n",
       "      <td>Basic Statistics</td>\n",
       "      <td>2</td>\n",
       "      <td>B</td>\n",
       "      <td>3.0</td>\n",
       "      <td>6.0</td>\n",
       "      <td>Math</td>\n",
       "    </tr>\n",
       "    <tr>\n",
       "      <th>5</th>\n",
       "      <td>10004456</td>\n",
       "      <td>Gertrude</td>\n",
       "      <td>Harris</td>\n",
       "      <td>M</td>\n",
       "      <td>21.000</td>\n",
       "      <td>110</td>\n",
       "      <td>Calculus 1</td>\n",
       "      <td>2</td>\n",
       "      <td>AB</td>\n",
       "      <td>3.5</td>\n",
       "      <td>7.0</td>\n",
       "      <td>Math</td>\n",
       "    </tr>\n",
       "    <tr>\n",
       "      <th>6</th>\n",
       "      <td>10004456</td>\n",
       "      <td>Gertrude</td>\n",
       "      <td>Harris</td>\n",
       "      <td>M</td>\n",
       "      <td>21.000</td>\n",
       "      <td>110</td>\n",
       "      <td>Basic Statistics</td>\n",
       "      <td>2</td>\n",
       "      <td>B</td>\n",
       "      <td>3.0</td>\n",
       "      <td>6.0</td>\n",
       "      <td>Math</td>\n",
       "    </tr>\n",
       "    <tr>\n",
       "      <th>7</th>\n",
       "      <td>10004456</td>\n",
       "      <td>Gertrude</td>\n",
       "      <td>Harris</td>\n",
       "      <td>M</td>\n",
       "      <td>21.000</td>\n",
       "      <td>110</td>\n",
       "      <td>Case Study</td>\n",
       "      <td>3</td>\n",
       "      <td>B</td>\n",
       "      <td>3.0</td>\n",
       "      <td>9.0</td>\n",
       "      <td>Math</td>\n",
       "    </tr>\n",
       "    <tr>\n",
       "      <th>8</th>\n",
       "      <td>10003457</td>\n",
       "      <td>Charles</td>\n",
       "      <td>Swarey</td>\n",
       "      <td>M</td>\n",
       "      <td>21.125</td>\n",
       "      <td>122</td>\n",
       "      <td>Basic Physics</td>\n",
       "      <td>2</td>\n",
       "      <td>AB</td>\n",
       "      <td>3.5</td>\n",
       "      <td>7.0</td>\n",
       "      <td>Engineering</td>\n",
       "    </tr>\n",
       "    <tr>\n",
       "      <th>9</th>\n",
       "      <td>10003457</td>\n",
       "      <td>Charles</td>\n",
       "      <td>Swarey</td>\n",
       "      <td>M</td>\n",
       "      <td>21.125</td>\n",
       "      <td>122</td>\n",
       "      <td>Programming 1</td>\n",
       "      <td>2</td>\n",
       "      <td>B</td>\n",
       "      <td>3.0</td>\n",
       "      <td>6.0</td>\n",
       "      <td>Engineering</td>\n",
       "    </tr>\n",
       "    <tr>\n",
       "      <th>10</th>\n",
       "      <td>10003457</td>\n",
       "      <td>Charles</td>\n",
       "      <td>Swarey</td>\n",
       "      <td>M</td>\n",
       "      <td>21.125</td>\n",
       "      <td>122</td>\n",
       "      <td>Industrial Design</td>\n",
       "      <td>3</td>\n",
       "      <td>B</td>\n",
       "      <td>3.0</td>\n",
       "      <td>9.0</td>\n",
       "      <td>Engineering</td>\n",
       "    </tr>\n",
       "    <tr>\n",
       "      <th>11</th>\n",
       "      <td>10003345</td>\n",
       "      <td>Christopher</td>\n",
       "      <td>Bowers</td>\n",
       "      <td>M</td>\n",
       "      <td>22.000</td>\n",
       "      <td>122</td>\n",
       "      <td>Basic Physics</td>\n",
       "      <td>2</td>\n",
       "      <td>B</td>\n",
       "      <td>3.0</td>\n",
       "      <td>6.0</td>\n",
       "      <td>Engineering</td>\n",
       "    </tr>\n",
       "    <tr>\n",
       "      <th>12</th>\n",
       "      <td>10003345</td>\n",
       "      <td>Christopher</td>\n",
       "      <td>Bowers</td>\n",
       "      <td>M</td>\n",
       "      <td>22.000</td>\n",
       "      <td>122</td>\n",
       "      <td>Programming 1</td>\n",
       "      <td>2</td>\n",
       "      <td>AB</td>\n",
       "      <td>3.5</td>\n",
       "      <td>7.0</td>\n",
       "      <td>Engineering</td>\n",
       "    </tr>\n",
       "  </tbody>\n",
       "</table>\n",
       "</div>"
      ],
      "text/plain": [
       "   Student_ID   First name Last Name Gender     Age Dept_ID  \\\n",
       "0    10002341    Catherine   Hundley      F  19.000     110   \n",
       "1    10002341    Catherine   Hundley      F  19.000     110   \n",
       "2    10002341    Catherine   Hundley      F  19.000     110   \n",
       "3    10006675        Susan  Corrigan      F  22.000     110   \n",
       "4    10006675        Susan  Corrigan      F  22.000     110   \n",
       "5    10004456     Gertrude    Harris      M  21.000     110   \n",
       "6    10004456     Gertrude    Harris      M  21.000     110   \n",
       "7    10004456     Gertrude    Harris      M  21.000     110   \n",
       "8    10003457      Charles    Swarey      M  21.125     122   \n",
       "9    10003457      Charles    Swarey      M  21.125     122   \n",
       "10   10003457      Charles    Swarey      M  21.125     122   \n",
       "11   10003345  Christopher    Bowers      M  22.000     122   \n",
       "12   10003345  Christopher    Bowers      M  22.000     122   \n",
       "\n",
       "               Course  Weight Mark  Score  Total score         Dept  \n",
       "0          Calculus 1       2    A    4.0          8.0         Math  \n",
       "1    Basic Statistics       2   AB    3.5          7.0         Math  \n",
       "2          Case Study       3    B    3.0          9.0         Math  \n",
       "3          Calculus 1       2    A    4.0          8.0         Math  \n",
       "4    Basic Statistics       2    B    3.0          6.0         Math  \n",
       "5          Calculus 1       2   AB    3.5          7.0         Math  \n",
       "6    Basic Statistics       2    B    3.0          6.0         Math  \n",
       "7          Case Study       3    B    3.0          9.0         Math  \n",
       "8       Basic Physics       2   AB    3.5          7.0  Engineering  \n",
       "9       Programming 1       2    B    3.0          6.0  Engineering  \n",
       "10  Industrial Design       3    B    3.0          9.0  Engineering  \n",
       "11      Basic Physics       2    B    3.0          6.0  Engineering  \n",
       "12      Programming 1       2   AB    3.5          7.0  Engineering  "
      ]
     },
     "execution_count": 49,
     "metadata": {},
     "output_type": "execute_result"
    }
   ],
   "source": [
    "data2"
   ]
  },
  {
   "cell_type": "markdown",
   "metadata": {},
   "source": [
    "### Aggregation"
   ]
  },
  {
   "cell_type": "code",
   "execution_count": 50,
   "metadata": {},
   "outputs": [],
   "source": [
    "gpa = data2.groupby(['Student_ID','First name','Last Name']).sum()"
   ]
  },
  {
   "cell_type": "code",
   "execution_count": 51,
   "metadata": {},
   "outputs": [
    {
     "data": {
      "text/html": [
       "<div>\n",
       "<style scoped>\n",
       "    .dataframe tbody tr th:only-of-type {\n",
       "        vertical-align: middle;\n",
       "    }\n",
       "\n",
       "    .dataframe tbody tr th {\n",
       "        vertical-align: top;\n",
       "    }\n",
       "\n",
       "    .dataframe thead th {\n",
       "        text-align: right;\n",
       "    }\n",
       "</style>\n",
       "<table border=\"1\" class=\"dataframe\">\n",
       "  <thead>\n",
       "    <tr style=\"text-align: right;\">\n",
       "      <th></th>\n",
       "      <th></th>\n",
       "      <th></th>\n",
       "      <th>Age</th>\n",
       "      <th>Weight</th>\n",
       "      <th>Score</th>\n",
       "      <th>Total score</th>\n",
       "    </tr>\n",
       "    <tr>\n",
       "      <th>Student_ID</th>\n",
       "      <th>First name</th>\n",
       "      <th>Last Name</th>\n",
       "      <th></th>\n",
       "      <th></th>\n",
       "      <th></th>\n",
       "      <th></th>\n",
       "    </tr>\n",
       "  </thead>\n",
       "  <tbody>\n",
       "    <tr>\n",
       "      <th>10002341</th>\n",
       "      <th>Catherine</th>\n",
       "      <th>Hundley</th>\n",
       "      <td>57.000</td>\n",
       "      <td>7</td>\n",
       "      <td>10.5</td>\n",
       "      <td>24.0</td>\n",
       "    </tr>\n",
       "    <tr>\n",
       "      <th>10003345</th>\n",
       "      <th>Christopher</th>\n",
       "      <th>Bowers</th>\n",
       "      <td>44.000</td>\n",
       "      <td>4</td>\n",
       "      <td>6.5</td>\n",
       "      <td>13.0</td>\n",
       "    </tr>\n",
       "    <tr>\n",
       "      <th>10003457</th>\n",
       "      <th>Charles</th>\n",
       "      <th>Swarey</th>\n",
       "      <td>63.375</td>\n",
       "      <td>7</td>\n",
       "      <td>9.5</td>\n",
       "      <td>22.0</td>\n",
       "    </tr>\n",
       "    <tr>\n",
       "      <th>10004456</th>\n",
       "      <th>Gertrude</th>\n",
       "      <th>Harris</th>\n",
       "      <td>63.000</td>\n",
       "      <td>7</td>\n",
       "      <td>9.5</td>\n",
       "      <td>22.0</td>\n",
       "    </tr>\n",
       "    <tr>\n",
       "      <th>10006675</th>\n",
       "      <th>Susan</th>\n",
       "      <th>Corrigan</th>\n",
       "      <td>44.000</td>\n",
       "      <td>4</td>\n",
       "      <td>7.0</td>\n",
       "      <td>14.0</td>\n",
       "    </tr>\n",
       "  </tbody>\n",
       "</table>\n",
       "</div>"
      ],
      "text/plain": [
       "                                     Age  Weight  Score  Total score\n",
       "Student_ID First name  Last Name                                    \n",
       "10002341   Catherine   Hundley    57.000       7   10.5         24.0\n",
       "10003345   Christopher Bowers     44.000       4    6.5         13.0\n",
       "10003457   Charles     Swarey     63.375       7    9.5         22.0\n",
       "10004456   Gertrude    Harris     63.000       7    9.5         22.0\n",
       "10006675   Susan       Corrigan   44.000       4    7.0         14.0"
      ]
     },
     "execution_count": 51,
     "metadata": {},
     "output_type": "execute_result"
    }
   ],
   "source": [
    "gpa"
   ]
  },
  {
   "cell_type": "code",
   "execution_count": 52,
   "metadata": {},
   "outputs": [],
   "source": [
    "gpa['GPA'] = round(gpa['Total score']/gpa['Weight'],2)"
   ]
  },
  {
   "cell_type": "code",
   "execution_count": 53,
   "metadata": {},
   "outputs": [
    {
     "data": {
      "text/html": [
       "<div>\n",
       "<style scoped>\n",
       "    .dataframe tbody tr th:only-of-type {\n",
       "        vertical-align: middle;\n",
       "    }\n",
       "\n",
       "    .dataframe tbody tr th {\n",
       "        vertical-align: top;\n",
       "    }\n",
       "\n",
       "    .dataframe thead th {\n",
       "        text-align: right;\n",
       "    }\n",
       "</style>\n",
       "<table border=\"1\" class=\"dataframe\">\n",
       "  <thead>\n",
       "    <tr style=\"text-align: right;\">\n",
       "      <th></th>\n",
       "      <th></th>\n",
       "      <th></th>\n",
       "      <th>Age</th>\n",
       "      <th>Weight</th>\n",
       "      <th>Score</th>\n",
       "      <th>Total score</th>\n",
       "      <th>GPA</th>\n",
       "    </tr>\n",
       "    <tr>\n",
       "      <th>Student_ID</th>\n",
       "      <th>First name</th>\n",
       "      <th>Last Name</th>\n",
       "      <th></th>\n",
       "      <th></th>\n",
       "      <th></th>\n",
       "      <th></th>\n",
       "      <th></th>\n",
       "    </tr>\n",
       "  </thead>\n",
       "  <tbody>\n",
       "    <tr>\n",
       "      <th>10002341</th>\n",
       "      <th>Catherine</th>\n",
       "      <th>Hundley</th>\n",
       "      <td>57.000</td>\n",
       "      <td>7</td>\n",
       "      <td>10.5</td>\n",
       "      <td>24.0</td>\n",
       "      <td>3.43</td>\n",
       "    </tr>\n",
       "    <tr>\n",
       "      <th>10003345</th>\n",
       "      <th>Christopher</th>\n",
       "      <th>Bowers</th>\n",
       "      <td>44.000</td>\n",
       "      <td>4</td>\n",
       "      <td>6.5</td>\n",
       "      <td>13.0</td>\n",
       "      <td>3.25</td>\n",
       "    </tr>\n",
       "    <tr>\n",
       "      <th>10003457</th>\n",
       "      <th>Charles</th>\n",
       "      <th>Swarey</th>\n",
       "      <td>63.375</td>\n",
       "      <td>7</td>\n",
       "      <td>9.5</td>\n",
       "      <td>22.0</td>\n",
       "      <td>3.14</td>\n",
       "    </tr>\n",
       "    <tr>\n",
       "      <th>10004456</th>\n",
       "      <th>Gertrude</th>\n",
       "      <th>Harris</th>\n",
       "      <td>63.000</td>\n",
       "      <td>7</td>\n",
       "      <td>9.5</td>\n",
       "      <td>22.0</td>\n",
       "      <td>3.14</td>\n",
       "    </tr>\n",
       "    <tr>\n",
       "      <th>10006675</th>\n",
       "      <th>Susan</th>\n",
       "      <th>Corrigan</th>\n",
       "      <td>44.000</td>\n",
       "      <td>4</td>\n",
       "      <td>7.0</td>\n",
       "      <td>14.0</td>\n",
       "      <td>3.50</td>\n",
       "    </tr>\n",
       "  </tbody>\n",
       "</table>\n",
       "</div>"
      ],
      "text/plain": [
       "                                     Age  Weight  Score  Total score   GPA\n",
       "Student_ID First name  Last Name                                          \n",
       "10002341   Catherine   Hundley    57.000       7   10.5         24.0  3.43\n",
       "10003345   Christopher Bowers     44.000       4    6.5         13.0  3.25\n",
       "10003457   Charles     Swarey     63.375       7    9.5         22.0  3.14\n",
       "10004456   Gertrude    Harris     63.000       7    9.5         22.0  3.14\n",
       "10006675   Susan       Corrigan   44.000       4    7.0         14.0  3.50"
      ]
     },
     "execution_count": 53,
     "metadata": {},
     "output_type": "execute_result"
    }
   ],
   "source": [
    "gpa"
   ]
  },
  {
   "cell_type": "code",
   "execution_count": 54,
   "metadata": {},
   "outputs": [],
   "source": [
    "gpa_sort= gpa.sort_values(by=['GPA'],ascending=False)"
   ]
  },
  {
   "cell_type": "code",
   "execution_count": 55,
   "metadata": {},
   "outputs": [
    {
     "data": {
      "text/html": [
       "<div>\n",
       "<style scoped>\n",
       "    .dataframe tbody tr th:only-of-type {\n",
       "        vertical-align: middle;\n",
       "    }\n",
       "\n",
       "    .dataframe tbody tr th {\n",
       "        vertical-align: top;\n",
       "    }\n",
       "\n",
       "    .dataframe thead th {\n",
       "        text-align: right;\n",
       "    }\n",
       "</style>\n",
       "<table border=\"1\" class=\"dataframe\">\n",
       "  <thead>\n",
       "    <tr style=\"text-align: right;\">\n",
       "      <th></th>\n",
       "      <th></th>\n",
       "      <th></th>\n",
       "      <th>Age</th>\n",
       "      <th>Weight</th>\n",
       "      <th>Score</th>\n",
       "      <th>Total score</th>\n",
       "      <th>GPA</th>\n",
       "    </tr>\n",
       "    <tr>\n",
       "      <th>Student_ID</th>\n",
       "      <th>First name</th>\n",
       "      <th>Last Name</th>\n",
       "      <th></th>\n",
       "      <th></th>\n",
       "      <th></th>\n",
       "      <th></th>\n",
       "      <th></th>\n",
       "    </tr>\n",
       "  </thead>\n",
       "  <tbody>\n",
       "    <tr>\n",
       "      <th>10006675</th>\n",
       "      <th>Susan</th>\n",
       "      <th>Corrigan</th>\n",
       "      <td>44.000</td>\n",
       "      <td>4</td>\n",
       "      <td>7.0</td>\n",
       "      <td>14.0</td>\n",
       "      <td>3.50</td>\n",
       "    </tr>\n",
       "    <tr>\n",
       "      <th>10002341</th>\n",
       "      <th>Catherine</th>\n",
       "      <th>Hundley</th>\n",
       "      <td>57.000</td>\n",
       "      <td>7</td>\n",
       "      <td>10.5</td>\n",
       "      <td>24.0</td>\n",
       "      <td>3.43</td>\n",
       "    </tr>\n",
       "    <tr>\n",
       "      <th>10003345</th>\n",
       "      <th>Christopher</th>\n",
       "      <th>Bowers</th>\n",
       "      <td>44.000</td>\n",
       "      <td>4</td>\n",
       "      <td>6.5</td>\n",
       "      <td>13.0</td>\n",
       "      <td>3.25</td>\n",
       "    </tr>\n",
       "    <tr>\n",
       "      <th>10003457</th>\n",
       "      <th>Charles</th>\n",
       "      <th>Swarey</th>\n",
       "      <td>63.375</td>\n",
       "      <td>7</td>\n",
       "      <td>9.5</td>\n",
       "      <td>22.0</td>\n",
       "      <td>3.14</td>\n",
       "    </tr>\n",
       "    <tr>\n",
       "      <th>10004456</th>\n",
       "      <th>Gertrude</th>\n",
       "      <th>Harris</th>\n",
       "      <td>63.000</td>\n",
       "      <td>7</td>\n",
       "      <td>9.5</td>\n",
       "      <td>22.0</td>\n",
       "      <td>3.14</td>\n",
       "    </tr>\n",
       "  </tbody>\n",
       "</table>\n",
       "</div>"
      ],
      "text/plain": [
       "                                     Age  Weight  Score  Total score   GPA\n",
       "Student_ID First name  Last Name                                          \n",
       "10006675   Susan       Corrigan   44.000       4    7.0         14.0  3.50\n",
       "10002341   Catherine   Hundley    57.000       7   10.5         24.0  3.43\n",
       "10003345   Christopher Bowers     44.000       4    6.5         13.0  3.25\n",
       "10003457   Charles     Swarey     63.375       7    9.5         22.0  3.14\n",
       "10004456   Gertrude    Harris     63.000       7    9.5         22.0  3.14"
      ]
     },
     "execution_count": 55,
     "metadata": {},
     "output_type": "execute_result"
    }
   ],
   "source": [
    "gpa_sort"
   ]
  },
  {
   "cell_type": "markdown",
   "metadata": {},
   "source": [
    "### Visualization"
   ]
  },
  {
   "cell_type": "code",
   "execution_count": 56,
   "metadata": {},
   "outputs": [],
   "source": [
    "gpa_sort = gpa_sort.reset_index()"
   ]
  },
  {
   "cell_type": "code",
   "execution_count": 57,
   "metadata": {},
   "outputs": [
    {
     "data": {
      "text/plain": [
       "<matplotlib.axes._subplots.AxesSubplot at 0x1775afc6eb8>"
      ]
     },
     "execution_count": 57,
     "metadata": {},
     "output_type": "execute_result"
    },
    {
     "data": {
      "image/png": "[encoded data removed]",
      "text/plain": [
       "<matplotlib.figure.Figure at 0x1775afc65f8>"
      ]
     },
     "metadata": {},
     "output_type": "display_data"
    }
   ],
   "source": [
    "sns.barplot(x=\"First name\", y=\"GPA\", data=gpa_sort)"
   ]
  },
  {
   "cell_type": "markdown",
   "metadata": {},
   "source": [
    "##### sns.barplot(x=\"First name\", y=\"GPA\", data=gpa, order=gpa['GPA'])"
   ]
  },
  {
   "cell_type": "code",
   "execution_count": null,
   "metadata": {},
   "outputs": [],
   "source": [
    "plt.bar()"
   ]
  },
  {
   "cell_type": "code",
   "execution_count": null,
   "metadata": {},
   "outputs": [],
   "source": [
    "sns.distplot(data2['Age'],bins=2)"
   ]
  },
  {
   "cell_type": "code",
   "execution_count": null,
   "metadata": {},
   "outputs": [],
   "source": [
    "plt.hist(x='Age',bins=5,data=data2)"
   ]
  },
  {
   "cell_type": "markdown",
   "metadata": {},
   "source": [
    "## Barchart membandingkan 2 kolom"
   ]
  },
  {
   "cell_type": "code",
   "execution_count": 85,
   "metadata": {},
   "outputs": [
    {
     "data": {
      "image/png": "[encoded data removed]",
      "text/plain": [
       "<matplotlib.figure.Figure at 0x1775bbcae10>"
      ]
     },
     "metadata": {},
     "output_type": "display_data"
    }
   ],
   "source": [
    "bar_width = 0.35\n",
    "plt.bar(gpa_sort.index, gpa_sort.Score,bar_width)\n",
    "plt.bar(gpa_sort.index+bar_width, gpa_sort['Total score'],bar_width)\n",
    "plt.xlabel('Student', fontsize=10)\n",
    "plt.ylabel('Score', fontsize=10)\n",
    "plt.xticks(gpa_sort.index, gpa_sort['First name'], fontsize=10, rotation=30)\n",
    "plt.legend(('Score','Total score'),bbox_to_anchor=(1,1))\n",
    "plt.show()"
   ]
  },
  {
   "cell_type": "code",
   "execution_count": 94,
   "metadata": {},
   "outputs": [
    {
     "data": {
      "image/png": "[encoded data removed]",
      "text/plain": [
       "<matplotlib.figure.Figure at 0x1775bf68ac8>"
      ]
     },
     "metadata": {},
     "output_type": "display_data"
    }
   ],
   "source": [
    "total = gpa_sort.Score + gpa_sort['Total score']\n",
    "proportion_score = np.true_divide(gpa_sort.Score, total) * 100\n",
    "proportion_total = np.true_divide(gpa_sort['Total score'], total) * 100\n",
    "\n",
    "\n",
    "bar_width = 0.35\n",
    "plt.bar(gpa_sort.index, proportion_score,bar_width)\n",
    "plt.bar(gpa_sort.index, proportion_total,bar_width,bottom=proportion_score)\n",
    "plt.xlabel('Student', fontsize=10)\n",
    "plt.ylabel('Score', fontsize=10)\n",
    "plt.xticks(gpa_sort.index, gpa_sort['First name'], fontsize=10, rotation=30)\n",
    "plt.legend(('Score','Total score'),bbox_to_anchor=(1,1))\n",
    "plt.ylim=1.0\n",
    "plt.show()"
   ]
  },
  {
   "cell_type": "markdown",
   "metadata": {},
   "source": [
    "# OPERATION CASE"
   ]
  },
  {
   "cell_type": "code",
   "execution_count": null,
   "metadata": {},
   "outputs": [],
   "source": [
    "train = pd.read_csv(\"train.csv\")\n",
    "client = pd.read_csv(\"cliente_tabla.csv\")\n",
    "town = pd.read_csv(\"town_state.csv\")\n",
    "product = pd.read_csv(\"producto_tabla.csv\")"
   ]
  },
  {
   "cell_type": "code",
   "execution_count": null,
   "metadata": {},
   "outputs": [],
   "source": [
    "client.head()"
   ]
  },
  {
   "cell_type": "code",
   "execution_count": null,
   "metadata": {},
   "outputs": [],
   "source": [
    "client.duplicated().sum()"
   ]
  },
  {
   "cell_type": "code",
   "execution_count": null,
   "metadata": {},
   "outputs": [],
   "source": [
    "train.tail()"
   ]
  },
  {
   "cell_type": "code",
   "execution_count": null,
   "metadata": {},
   "outputs": [],
   "source": [
    "train.info()"
   ]
  },
  {
   "cell_type": "code",
   "execution_count": null,
   "metadata": {},
   "outputs": [],
   "source": [
    "town['agencia_id'] = town['Agencia_ID']"
   ]
  },
  {
   "cell_type": "code",
   "execution_count": null,
   "metadata": {},
   "outputs": [],
   "source": [
    "#SEMANA\n",
    "# sns.countplot(x=train['agencia_id'],data=train, palette='magma')\n",
    "semana = pd.DataFrame(train.groupby(\"semana\")[\"demanda_uni_equil\"].sum()).reset_index()\n",
    "semana_sort = semana.sort_values(by=\"demanda_uni_equil\",ascending=False) \n",
    "semana_sort.plot.bar(x=\"semana\", y=\"demanda_uni_equil\")"
   ]
  },
  {
   "cell_type": "code",
   "execution_count": null,
   "metadata": {},
   "outputs": [],
   "source": [
    "#Agency id\n",
    "agency = pd.DataFrame(train.groupby(\"agencia_id\")[\"demanda_uni_equil\"].sum()).reset_index()\n",
    "agency_sort = agency.sort_values(by=\"demanda_uni_equil\",ascending=False) \n",
    "agency_sort.plot.bar(x=\"agencia_id\", y=\"demanda_uni_equil\")"
   ]
  },
  {
   "cell_type": "code",
   "execution_count": null,
   "metadata": {},
   "outputs": [],
   "source": []
  },
  {
   "cell_type": "code",
   "execution_count": null,
   "metadata": {},
   "outputs": [],
   "source": [
    "agency_sort"
   ]
  },
  {
   "cell_type": "code",
   "execution_count": null,
   "metadata": {},
   "outputs": [],
   "source": [
    "train['agencia_id'].unique()"
   ]
  },
  {
   "cell_type": "code",
   "execution_count": null,
   "metadata": {},
   "outputs": [],
   "source": [
    "agency = pd.merge(train, town, how='inner', on='agencia_id')"
   ]
  },
  {
   "cell_type": "code",
   "execution_count": 95,
   "metadata": {},
   "outputs": [],
   "source": [
    "train = pd.read_csv('bimbo_train (1).csv', index_col=0)\n",
    "test = pd.read_csv('bimbo_test (1).csv', index_col=0)"
   ]
  },
  {
   "cell_type": "code",
   "execution_count": 96,
   "metadata": {},
   "outputs": [
    {
     "data": {
      "text/html": [
       "<div>\n",
       "<style scoped>\n",
       "    .dataframe tbody tr th:only-of-type {\n",
       "        vertical-align: middle;\n",
       "    }\n",
       "\n",
       "    .dataframe tbody tr th {\n",
       "        vertical-align: top;\n",
       "    }\n",
       "\n",
       "    .dataframe thead th {\n",
       "        text-align: right;\n",
       "    }\n",
       "</style>\n",
       "<table border=\"1\" class=\"dataframe\">\n",
       "  <thead>\n",
       "    <tr style=\"text-align: right;\">\n",
       "      <th></th>\n",
       "      <th>semana</th>\n",
       "      <th>agencia_id</th>\n",
       "      <th>canal_id</th>\n",
       "      <th>ruta_sak</th>\n",
       "      <th>cliente_id</th>\n",
       "      <th>producto_id</th>\n",
       "      <th>venta_uni_hoy</th>\n",
       "      <th>venta_hoy</th>\n",
       "      <th>dev_uni_proxima</th>\n",
       "      <th>dev_proxima</th>\n",
       "      <th>demanda_uni_equil</th>\n",
       "      <th>NombreCliente</th>\n",
       "      <th>Town</th>\n",
       "      <th>NombreProducto</th>\n",
       "    </tr>\n",
       "  </thead>\n",
       "  <tbody>\n",
       "    <tr>\n",
       "      <th>0</th>\n",
       "      <td>4</td>\n",
       "      <td>1379</td>\n",
       "      <td>2</td>\n",
       "      <td>7017</td>\n",
       "      <td>26988</td>\n",
       "      <td>30236</td>\n",
       "      <td>24</td>\n",
       "      <td>748.8</td>\n",
       "      <td>NaN</td>\n",
       "      <td>0.0</td>\n",
       "      <td>24</td>\n",
       "      <td>MEGA COMERCIAL MEXICANA MAZATLAN</td>\n",
       "      <td>2330 TLAQUEPARQUE</td>\n",
       "      <td>Barritas Fresa KC 8p 600g CU MLA 30236</td>\n",
       "    </tr>\n",
       "    <tr>\n",
       "      <th>1</th>\n",
       "      <td>5</td>\n",
       "      <td>1379</td>\n",
       "      <td>2</td>\n",
       "      <td>7017</td>\n",
       "      <td>26988</td>\n",
       "      <td>30236</td>\n",
       "      <td>24</td>\n",
       "      <td>748.8</td>\n",
       "      <td>NaN</td>\n",
       "      <td>0.0</td>\n",
       "      <td>24</td>\n",
       "      <td>MEGA COMERCIAL MEXICANA MAZATLAN</td>\n",
       "      <td>2330 TLAQUEPARQUE</td>\n",
       "      <td>Barritas Fresa KC 8p 600g CU MLA 30236</td>\n",
       "    </tr>\n",
       "    <tr>\n",
       "      <th>2</th>\n",
       "      <td>7</td>\n",
       "      <td>1379</td>\n",
       "      <td>2</td>\n",
       "      <td>7017</td>\n",
       "      <td>26988</td>\n",
       "      <td>30236</td>\n",
       "      <td>48</td>\n",
       "      <td>1497.6</td>\n",
       "      <td>NaN</td>\n",
       "      <td>0.0</td>\n",
       "      <td>48</td>\n",
       "      <td>MEGA COMERCIAL MEXICANA MAZATLAN</td>\n",
       "      <td>2330 TLAQUEPARQUE</td>\n",
       "      <td>Barritas Fresa KC 8p 600g CU MLA 30236</td>\n",
       "    </tr>\n",
       "    <tr>\n",
       "      <th>3</th>\n",
       "      <td>6</td>\n",
       "      <td>1379</td>\n",
       "      <td>2</td>\n",
       "      <td>7017</td>\n",
       "      <td>26988</td>\n",
       "      <td>30236</td>\n",
       "      <td>24</td>\n",
       "      <td>748.8</td>\n",
       "      <td>NaN</td>\n",
       "      <td>0.0</td>\n",
       "      <td>24</td>\n",
       "      <td>MEGA COMERCIAL MEXICANA MAZATLAN</td>\n",
       "      <td>2330 TLAQUEPARQUE</td>\n",
       "      <td>Barritas Fresa KC 8p 600g CU MLA 30236</td>\n",
       "    </tr>\n",
       "    <tr>\n",
       "      <th>4</th>\n",
       "      <td>8</td>\n",
       "      <td>1379</td>\n",
       "      <td>2</td>\n",
       "      <td>7017</td>\n",
       "      <td>26988</td>\n",
       "      <td>30236</td>\n",
       "      <td>24</td>\n",
       "      <td>748.8</td>\n",
       "      <td>NaN</td>\n",
       "      <td>0.0</td>\n",
       "      <td>24</td>\n",
       "      <td>MEGA COMERCIAL MEXICANA MAZATLAN</td>\n",
       "      <td>2330 TLAQUEPARQUE</td>\n",
       "      <td>Barritas Fresa KC 8p 600g CU MLA 30236</td>\n",
       "    </tr>\n",
       "  </tbody>\n",
       "</table>\n",
       "</div>"
      ],
      "text/plain": [
       "   semana  agencia_id  canal_id  ruta_sak  cliente_id  producto_id  \\\n",
       "0       4        1379         2      7017       26988        30236   \n",
       "1       5        1379         2      7017       26988        30236   \n",
       "2       7        1379         2      7017       26988        30236   \n",
       "3       6        1379         2      7017       26988        30236   \n",
       "4       8        1379         2      7017       26988        30236   \n",
       "\n",
       "   venta_uni_hoy  venta_hoy  dev_uni_proxima  dev_proxima  demanda_uni_equil  \\\n",
       "0             24      748.8              NaN          0.0                 24   \n",
       "1             24      748.8              NaN          0.0                 24   \n",
       "2             48     1497.6              NaN          0.0                 48   \n",
       "3             24      748.8              NaN          0.0                 24   \n",
       "4             24      748.8              NaN          0.0                 24   \n",
       "\n",
       "                      NombreCliente               Town  \\\n",
       "0  MEGA COMERCIAL MEXICANA MAZATLAN  2330 TLAQUEPARQUE   \n",
       "1  MEGA COMERCIAL MEXICANA MAZATLAN  2330 TLAQUEPARQUE   \n",
       "2  MEGA COMERCIAL MEXICANA MAZATLAN  2330 TLAQUEPARQUE   \n",
       "3  MEGA COMERCIAL MEXICANA MAZATLAN  2330 TLAQUEPARQUE   \n",
       "4  MEGA COMERCIAL MEXICANA MAZATLAN  2330 TLAQUEPARQUE   \n",
       "\n",
       "                           NombreProducto  \n",
       "0  Barritas Fresa KC 8p 600g CU MLA 30236  \n",
       "1  Barritas Fresa KC 8p 600g CU MLA 30236  \n",
       "2  Barritas Fresa KC 8p 600g CU MLA 30236  \n",
       "3  Barritas Fresa KC 8p 600g CU MLA 30236  \n",
       "4  Barritas Fresa KC 8p 600g CU MLA 30236  "
      ]
     },
     "execution_count": 96,
     "metadata": {},
     "output_type": "execute_result"
    }
   ],
   "source": [
    "train.head()"
   ]
  },
  {
   "cell_type": "code",
   "execution_count": 97,
   "metadata": {},
   "outputs": [
    {
     "data": {
      "text/html": [
       "<div>\n",
       "<style scoped>\n",
       "    .dataframe tbody tr th:only-of-type {\n",
       "        vertical-align: middle;\n",
       "    }\n",
       "\n",
       "    .dataframe tbody tr th {\n",
       "        vertical-align: top;\n",
       "    }\n",
       "\n",
       "    .dataframe thead th {\n",
       "        text-align: right;\n",
       "    }\n",
       "</style>\n",
       "<table border=\"1\" class=\"dataframe\">\n",
       "  <thead>\n",
       "    <tr style=\"text-align: right;\">\n",
       "      <th></th>\n",
       "      <th>semana</th>\n",
       "      <th>agencia_id</th>\n",
       "      <th>canal_id</th>\n",
       "      <th>ruta_sak</th>\n",
       "      <th>cliente_id</th>\n",
       "      <th>producto_id</th>\n",
       "      <th>venta_uni_hoy</th>\n",
       "      <th>venta_hoy</th>\n",
       "      <th>dev_uni_proxima</th>\n",
       "      <th>dev_proxima</th>\n",
       "      <th>demanda_uni_equil</th>\n",
       "      <th>NombreCliente</th>\n",
       "      <th>Town</th>\n",
       "      <th>NombreProducto</th>\n",
       "    </tr>\n",
       "  </thead>\n",
       "  <tbody>\n",
       "    <tr>\n",
       "      <th>1633</th>\n",
       "      <td>5</td>\n",
       "      <td>1524</td>\n",
       "      <td>4</td>\n",
       "      <td>7651</td>\n",
       "      <td>8356583</td>\n",
       "      <td>35897</td>\n",
       "      <td>2034</td>\n",
       "      <td>35066.16</td>\n",
       "      <td>NaN</td>\n",
       "      <td>0.0</td>\n",
       "      <td>2034</td>\n",
       "      <td>OXXO SINALOA</td>\n",
       "      <td>2152 Cruce De Anden Noroeste</td>\n",
       "      <td>Sandwich Clasico Deli 169g CU LON 35897</td>\n",
       "    </tr>\n",
       "    <tr>\n",
       "      <th>1652</th>\n",
       "      <td>4</td>\n",
       "      <td>2655</td>\n",
       "      <td>4</td>\n",
       "      <td>6655</td>\n",
       "      <td>1216931</td>\n",
       "      <td>42083</td>\n",
       "      <td>2510</td>\n",
       "      <td>38804.60</td>\n",
       "      <td>NaN</td>\n",
       "      <td>0.0</td>\n",
       "      <td>2510</td>\n",
       "      <td>OXXO TECNOLOGICO</td>\n",
       "      <td>2655 LOS MOCHIS</td>\n",
       "      <td>Sandwich Doble Fibra 187g CU LON 42083</td>\n",
       "    </tr>\n",
       "    <tr>\n",
       "      <th>1655</th>\n",
       "      <td>6</td>\n",
       "      <td>2655</td>\n",
       "      <td>4</td>\n",
       "      <td>6655</td>\n",
       "      <td>1216931</td>\n",
       "      <td>42083</td>\n",
       "      <td>2553</td>\n",
       "      <td>39469.38</td>\n",
       "      <td>NaN</td>\n",
       "      <td>0.0</td>\n",
       "      <td>2553</td>\n",
       "      <td>OXXO TECNOLOGICO</td>\n",
       "      <td>2655 LOS MOCHIS</td>\n",
       "      <td>Sandwich Doble Fibra 187g CU LON 42083</td>\n",
       "    </tr>\n",
       "    <tr>\n",
       "      <th>1658</th>\n",
       "      <td>7</td>\n",
       "      <td>2655</td>\n",
       "      <td>4</td>\n",
       "      <td>6655</td>\n",
       "      <td>1216931</td>\n",
       "      <td>42083</td>\n",
       "      <td>2045</td>\n",
       "      <td>31615.70</td>\n",
       "      <td>NaN</td>\n",
       "      <td>0.0</td>\n",
       "      <td>2045</td>\n",
       "      <td>OXXO TECNOLOGICO</td>\n",
       "      <td>2655 LOS MOCHIS</td>\n",
       "      <td>Sandwich Doble Fibra 187g CU LON 42083</td>\n",
       "    </tr>\n",
       "    <tr>\n",
       "      <th>1662</th>\n",
       "      <td>5</td>\n",
       "      <td>1524</td>\n",
       "      <td>4</td>\n",
       "      <td>7651</td>\n",
       "      <td>8356583</td>\n",
       "      <td>42083</td>\n",
       "      <td>3051</td>\n",
       "      <td>47168.46</td>\n",
       "      <td>NaN</td>\n",
       "      <td>0.0</td>\n",
       "      <td>3051</td>\n",
       "      <td>OXXO SINALOA</td>\n",
       "      <td>2152 Cruce De Anden Noroeste</td>\n",
       "      <td>Sandwich Doble Fibra 187g CU LON 42083</td>\n",
       "    </tr>\n",
       "    <tr>\n",
       "      <th>1684</th>\n",
       "      <td>6</td>\n",
       "      <td>2655</td>\n",
       "      <td>4</td>\n",
       "      <td>6655</td>\n",
       "      <td>1216931</td>\n",
       "      <td>42086</td>\n",
       "      <td>2172</td>\n",
       "      <td>33579.12</td>\n",
       "      <td>NaN</td>\n",
       "      <td>0.0</td>\n",
       "      <td>2172</td>\n",
       "      <td>OXXO TECNOLOGICO</td>\n",
       "      <td>2655 LOS MOCHIS</td>\n",
       "      <td>Sandwich Linaza 179g CU LON 42086</td>\n",
       "    </tr>\n",
       "    <tr>\n",
       "      <th>1690</th>\n",
       "      <td>5</td>\n",
       "      <td>1524</td>\n",
       "      <td>4</td>\n",
       "      <td>7651</td>\n",
       "      <td>8356583</td>\n",
       "      <td>42086</td>\n",
       "      <td>2034</td>\n",
       "      <td>31445.64</td>\n",
       "      <td>NaN</td>\n",
       "      <td>0.0</td>\n",
       "      <td>2034</td>\n",
       "      <td>OXXO SINALOA</td>\n",
       "      <td>2152 Cruce De Anden Noroeste</td>\n",
       "      <td>Sandwich Linaza 179g CU LON 42086</td>\n",
       "    </tr>\n",
       "    <tr>\n",
       "      <th>1718</th>\n",
       "      <td>5</td>\n",
       "      <td>1524</td>\n",
       "      <td>4</td>\n",
       "      <td>7651</td>\n",
       "      <td>8356583</td>\n",
       "      <td>42089</td>\n",
       "      <td>2034</td>\n",
       "      <td>30713.40</td>\n",
       "      <td>NaN</td>\n",
       "      <td>0.0</td>\n",
       "      <td>2034</td>\n",
       "      <td>OXXO SINALOA</td>\n",
       "      <td>2152 Cruce De Anden Noroeste</td>\n",
       "      <td>Sandwich Clasico Americano 175g CU LON 42089</td>\n",
       "    </tr>\n",
       "    <tr>\n",
       "      <th>5889</th>\n",
       "      <td>7</td>\n",
       "      <td>1380</td>\n",
       "      <td>2</td>\n",
       "      <td>1610</td>\n",
       "      <td>19635</td>\n",
       "      <td>35526</td>\n",
       "      <td>2160</td>\n",
       "      <td>36720.00</td>\n",
       "      <td>NaN</td>\n",
       "      <td>0.0</td>\n",
       "      <td>2160</td>\n",
       "      <td>BOD  AURRERA ATEMAJAC</td>\n",
       "      <td>2330 TLAQUEPARQUE</td>\n",
       "      <td>Principe KC 392g CU MLA 35526</td>\n",
       "    </tr>\n",
       "    <tr>\n",
       "      <th>11906</th>\n",
       "      <td>4</td>\n",
       "      <td>2655</td>\n",
       "      <td>4</td>\n",
       "      <td>6655</td>\n",
       "      <td>1216931</td>\n",
       "      <td>5917</td>\n",
       "      <td>2227</td>\n",
       "      <td>30688.06</td>\n",
       "      <td>NaN</td>\n",
       "      <td>0.0</td>\n",
       "      <td>2227</td>\n",
       "      <td>OXXO TECNOLOGICO</td>\n",
       "      <td>2655 LOS MOCHIS</td>\n",
       "      <td>Burritos Combinado 191g CU LON 5917</td>\n",
       "    </tr>\n",
       "  </tbody>\n",
       "</table>\n",
       "</div>"
      ],
      "text/plain": [
       "       semana  agencia_id  canal_id  ruta_sak  cliente_id  producto_id  \\\n",
       "1633        5        1524         4      7651     8356583        35897   \n",
       "1652        4        2655         4      6655     1216931        42083   \n",
       "1655        6        2655         4      6655     1216931        42083   \n",
       "1658        7        2655         4      6655     1216931        42083   \n",
       "1662        5        1524         4      7651     8356583        42083   \n",
       "1684        6        2655         4      6655     1216931        42086   \n",
       "1690        5        1524         4      7651     8356583        42086   \n",
       "1718        5        1524         4      7651     8356583        42089   \n",
       "5889        7        1380         2      1610       19635        35526   \n",
       "11906       4        2655         4      6655     1216931         5917   \n",
       "\n",
       "       venta_uni_hoy  venta_hoy  dev_uni_proxima  dev_proxima  \\\n",
       "1633            2034   35066.16              NaN          0.0   \n",
       "1652            2510   38804.60              NaN          0.0   \n",
       "1655            2553   39469.38              NaN          0.0   \n",
       "1658            2045   31615.70              NaN          0.0   \n",
       "1662            3051   47168.46              NaN          0.0   \n",
       "1684            2172   33579.12              NaN          0.0   \n",
       "1690            2034   31445.64              NaN          0.0   \n",
       "1718            2034   30713.40              NaN          0.0   \n",
       "5889            2160   36720.00              NaN          0.0   \n",
       "11906           2227   30688.06              NaN          0.0   \n",
       "\n",
       "       demanda_uni_equil          NombreCliente                          Town  \\\n",
       "1633                2034           OXXO SINALOA  2152 Cruce De Anden Noroeste   \n",
       "1652                2510       OXXO TECNOLOGICO               2655 LOS MOCHIS   \n",
       "1655                2553       OXXO TECNOLOGICO               2655 LOS MOCHIS   \n",
       "1658                2045       OXXO TECNOLOGICO               2655 LOS MOCHIS   \n",
       "1662                3051           OXXO SINALOA  2152 Cruce De Anden Noroeste   \n",
       "1684                2172       OXXO TECNOLOGICO               2655 LOS MOCHIS   \n",
       "1690                2034           OXXO SINALOA  2152 Cruce De Anden Noroeste   \n",
       "1718                2034           OXXO SINALOA  2152 Cruce De Anden Noroeste   \n",
       "5889                2160  BOD  AURRERA ATEMAJAC             2330 TLAQUEPARQUE   \n",
       "11906               2227       OXXO TECNOLOGICO               2655 LOS MOCHIS   \n",
       "\n",
       "                                     NombreProducto  \n",
       "1633        Sandwich Clasico Deli 169g CU LON 35897  \n",
       "1652         Sandwich Doble Fibra 187g CU LON 42083  \n",
       "1655         Sandwich Doble Fibra 187g CU LON 42083  \n",
       "1658         Sandwich Doble Fibra 187g CU LON 42083  \n",
       "1662         Sandwich Doble Fibra 187g CU LON 42083  \n",
       "1684              Sandwich Linaza 179g CU LON 42086  \n",
       "1690              Sandwich Linaza 179g CU LON 42086  \n",
       "1718   Sandwich Clasico Americano 175g CU LON 42089  \n",
       "5889                  Principe KC 392g CU MLA 35526  \n",
       "11906           Burritos Combinado 191g CU LON 5917  "
      ]
     },
     "execution_count": 97,
     "metadata": {},
     "output_type": "execute_result"
    }
   ],
   "source": [
    "train[train['demanda_uni_equil'] > 2000]"
   ]
  },
  {
   "cell_type": "code",
   "execution_count": 108,
   "metadata": {},
   "outputs": [
    {
     "data": {
      "text/plain": [
       "([<matplotlib.axis.XTick at 0x1775c6df208>,\n",
       "  <matplotlib.axis.XTick at 0x1775c1511d0>,\n",
       "  <matplotlib.axis.XTick at 0x1775c1600f0>,\n",
       "  <matplotlib.axis.XTick at 0x1775bc6edd8>],\n",
       " <a list of 4 Text xticklabel objects>)"
      ]
     },
     "execution_count": 108,
     "metadata": {},
     "output_type": "execute_result"
    },
    {
     "data": {
      "image/png": "[encoded data removed]",
      "text/plain": [
       "<matplotlib.figure.Figure at 0x1775c203cc0>"
      ]
     },
     "metadata": {},
     "output_type": "display_data"
    }
   ],
   "source": [
    "#Agency id\n",
    "town = pd.DataFrame(train.groupby([\"Town\"])[\"demanda_uni_equil\"].sum()).reset_index()\n",
    "town_sort = town.sort_values(by=\"demanda_uni_equil\",ascending=False) \n",
    "town_sort2 = town.sort_values(by=\"demanda_uni_equil\",ascending=False)\n",
    "# town_sort.plot.bar(x=\"Town\", y=\"demanda_uni_equil\")\n",
    "plt.bar(town_sort.index,town_sort[\"demanda_uni_equil\"])\n",
    "plt.xticks(town_sort.index, town_sort['Town'], fontsize=10, rotation=20)\n",
    "# town_sort"
   ]
  },
  {
   "cell_type": "code",
   "execution_count": 99,
   "metadata": {},
   "outputs": [
    {
     "data": {
      "text/plain": [
       "array(['2330 TLAQUEPARQUE', '2655 LOS MOCHIS',\n",
       "       '2152 Cruce De Anden Noroeste', '2472 OJINAGA'], dtype=object)"
      ]
     },
     "execution_count": 99,
     "metadata": {},
     "output_type": "execute_result"
    }
   ],
   "source": [
    "train['Town'].unique()"
   ]
  },
  {
   "cell_type": "code",
   "execution_count": null,
   "metadata": {},
   "outputs": [],
   "source": [
    "sns.distplot(train[\"demanda_uni_equil\"])"
   ]
  },
  {
   "cell_type": "code",
   "execution_count": null,
   "metadata": {},
   "outputs": [],
   "source": [
    "idx = train.groupby('Town').sum().sort_values(by='venta_hoy', ascending=False).head(2).index\n",
    "btraintop2 = train[(train['Town'].isin(idx))]"
   ]
  },
  {
   "cell_type": "code",
   "execution_count": null,
   "metadata": {},
   "outputs": [],
   "source": [
    "train[train.venta_uni_hoy != train.demanda_uni_equil]"
   ]
  },
  {
   "cell_type": "code",
   "execution_count": null,
   "metadata": {},
   "outputs": [],
   "source": [
    "btraintop2.head()"
   ]
  },
  {
   "cell_type": "code",
   "execution_count": null,
   "metadata": {},
   "outputs": [],
   "source": [
    "train['ruta_sak'].unique()"
   ]
  },
  {
   "cell_type": "code",
   "execution_count": null,
   "metadata": {},
   "outputs": [],
   "source": [
    "train['canal_id'].unique()"
   ]
  },
  {
   "cell_type": "code",
   "execution_count": null,
   "metadata": {},
   "outputs": [],
   "source": [
    "train['dev_uni_proxima'] = train['demanda_uni_equil'] - train['venta_uni_hoy']"
   ]
  },
  {
   "cell_type": "code",
   "execution_count": null,
   "metadata": {},
   "outputs": [],
   "source": [
    "#Dev uni Proxima\n",
    "semana = pd.DataFrame(train.groupby(\"semana\")[\"dev_uni_proxima\"].sum()).reset_index()\n",
    "semana_sort = semana.sort_values(by=\"dev_uni_proxima\",ascending=False) \n",
    "semana_sort.plot.bar(x=\"semana\", y=\"dev_uni_proxima\")"
   ]
  },
  {
   "cell_type": "code",
   "execution_count": null,
   "metadata": {},
   "outputs": [],
   "source": [
    "pd.crosstab(train['semana'],train['cliente_id'],margins=True)"
   ]
  },
  {
   "cell_type": "code",
   "execution_count": null,
   "metadata": {},
   "outputs": [],
   "source": [
    "semana1 = pd.DataFrame(train.loc[train['Town'].isin(['2330 TLAQUEPARQUE'])])\n",
    "semana2 = pd.DataFrame(train.loc[train['Town'].isin(['2655 LOS MOCHIS'])])"
   ]
  },
  {
   "cell_type": "code",
   "execution_count": null,
   "metadata": {},
   "outputs": [],
   "source": [
    "semana12 = pd.DataFrame(semana1.groupby([\"semana\"])[\"demanda_uni_equil\",\"venta_uni_hoy\"].sum()).reset_index()\n",
    "semana22 = pd.DataFrame(semana2.groupby([\"semana\"])[\"demanda_uni_equil\",\"venta_uni_hoy\"].sum()).reset_index()"
   ]
  },
  {
   "cell_type": "code",
   "execution_count": null,
   "metadata": {},
   "outputs": [],
   "source": [
    "semana12"
   ]
  },
  {
   "cell_type": "code",
   "execution_count": null,
   "metadata": {},
   "outputs": [],
   "source": [
    "semana12.plot.bar(x=\"semana\", y=[\"demanda_uni_equil\",\"venta_uni_hoy\"])\n",
    "plt.legend(bbox_to_anchor=(1,1))"
   ]
  },
  {
   "cell_type": "code",
   "execution_count": null,
   "metadata": {},
   "outputs": [],
   "source": [
    "semana22.plot.bar(x=\"semana\", y=[\"demanda_uni_equil\",\"venta_uni_hoy\"])\n",
    "plt.legend(bbox_to_anchor=(1,1))"
   ]
  },
  {
   "cell_type": "code",
   "execution_count": null,
   "metadata": {},
   "outputs": [],
   "source": [
    "y  = pd.DataFrame(train.groupby([\"cliente_id\",\"NombreCliente\"])[\"venta_uni_hoy\"].sum())"
   ]
  },
  {
   "cell_type": "code",
   "execution_count": null,
   "metadata": {},
   "outputs": [],
   "source": [
    "y1 = y.sort_values(by=\"venta_uni_hoy\",ascending=False).head(5)"
   ]
  },
  {
   "cell_type": "code",
   "execution_count": null,
   "metadata": {},
   "outputs": [],
   "source": [
    "y1 = y1.reset_index()"
   ]
  },
  {
   "cell_type": "code",
   "execution_count": null,
   "metadata": {},
   "outputs": [],
   "source": [
    "y1.plot.bar(x=\"NombreCliente\", y=\"venta_uni_hoy\")"
   ]
  },
  {
   "cell_type": "code",
   "execution_count": null,
   "metadata": {},
   "outputs": [],
   "source": [
    "y  = pd.DataFrame(train.groupby([\"cliente_id\",\"NombreCliente\"])[\"venta_uni_hoy\"].sum())\n",
    "y1 = y.sort_values(by=\"venta_uni_hoy\",ascending=False).head(5)\n",
    "y1 = y1.reset_index()\n",
    "y1.plot.bar(x=\"NombreCliente\", y=\"venta_uni_hoy\")"
   ]
  },
  {
   "cell_type": "code",
   "execution_count": null,
   "metadata": {},
   "outputs": [],
   "source": [
    "x  = pd.DataFrame(train.groupby([\"producto_id\",\"NombreProducto\"])[\"venta_uni_hoy\"].sum())\n",
    "x1 = x.sort_values(by=\"venta_uni_hoy\",ascending=False).head(5)\n",
    "x1 = x1.reset_index()\n",
    "x1.plot.barh(x=\"NombreProducto\", y=\"venta_uni_hoy\")"
   ]
  },
  {
   "cell_type": "code",
   "execution_count": null,
   "metadata": {},
   "outputs": [],
   "source": [
    "z  = pd.DataFrame(train.groupby([\"producto_id\",\"NombreProducto\"])[\"venta_uni_hoy\"].sum())\n",
    "z1 = z.sort_values(by=\"venta_uni_hoy\",ascending=False).tail(5)\n",
    "z1 = z1.reset_index()\n",
    "z1.plot.barh(x=\"NombreProducto\", y=\"venta_uni_hoy\")"
   ]
  },
  {
   "cell_type": "code",
   "execution_count": null,
   "metadata": {},
   "outputs": [],
   "source": [
    "train['Town'].unique()"
   ]
  },
  {
   "cell_type": "code",
   "execution_count": null,
   "metadata": {},
   "outputs": [],
   "source": []
  },
  {
   "cell_type": "code",
   "execution_count": null,
   "metadata": {},
   "outputs": [],
   "source": []
  }
 ],
 "metadata": {
  "kernelspec": {
   "display_name": "Python 3",
   "language": "python",
   "name": "python3"
  },
  "language_info": {
   "codemirror_mode": {
    "name": "ipython",
    "version": 3
   },
   "file_extension": ".py",
   "mimetype": "text/x-python",
   "name": "python",
   "nbconvert_exporter": "python",
   "pygments_lexer": "ipython3",
   "version": "3.6.4"
  }
 },
 "nbformat": 4,
 "nbformat_minor": 2
}
