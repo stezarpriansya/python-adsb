{
 "cells": [
  {
   "cell_type": "code",
   "execution_count": 63,
   "metadata": {},
   "outputs": [],
   "source": [
    "import pandas as pd\n",
    "import numpy as np"
   ]
  },
  {
   "cell_type": "code",
   "execution_count": 150,
   "metadata": {},
   "outputs": [],
   "source": [
    "df = pd.read_csv(\"IMDB-Movie-Data.csv\")\n",
    "## rename kolom\n",
    "df=df.rename(columns = {'Revenue (Millions)':'Revenue'})\n",
    "df=df.rename(columns = {'Runtime (Minutes)':'Runtime'})"
   ]
  },
  {
   "cell_type": "code",
   "execution_count": 151,
   "metadata": {},
   "outputs": [
    {
     "data": {
      "text/html": [
       "<div>\n",
       "<style scoped>\n",
       "    .dataframe tbody tr th:only-of-type {\n",
       "        vertical-align: middle;\n",
       "    }\n",
       "\n",
       "    .dataframe tbody tr th {\n",
       "        vertical-align: top;\n",
       "    }\n",
       "\n",
       "    .dataframe thead th {\n",
       "        text-align: right;\n",
       "    }\n",
       "</style>\n",
       "<table border=\"1\" class=\"dataframe\">\n",
       "  <thead>\n",
       "    <tr style=\"text-align: right;\">\n",
       "      <th></th>\n",
       "      <th>Rank</th>\n",
       "      <th>Title</th>\n",
       "      <th>Genre</th>\n",
       "      <th>Description</th>\n",
       "      <th>Director</th>\n",
       "      <th>Actors</th>\n",
       "      <th>Year</th>\n",
       "      <th>Runtime</th>\n",
       "      <th>Rating</th>\n",
       "      <th>Votes</th>\n",
       "      <th>Revenue</th>\n",
       "      <th>Metascore</th>\n",
       "    </tr>\n",
       "  </thead>\n",
       "  <tbody>\n",
       "    <tr>\n",
       "      <th>0</th>\n",
       "      <td>1</td>\n",
       "      <td>Guardians of the Galaxy</td>\n",
       "      <td>Action,Adventure,Sci-Fi</td>\n",
       "      <td>A group of intergalactic criminals are forced ...</td>\n",
       "      <td>James Gunn</td>\n",
       "      <td>Chris Pratt, Vin Diesel, Bradley Cooper, Zoe S...</td>\n",
       "      <td>2014</td>\n",
       "      <td>121</td>\n",
       "      <td>8.1</td>\n",
       "      <td>757074</td>\n",
       "      <td>333.13</td>\n",
       "      <td>76.0</td>\n",
       "    </tr>\n",
       "    <tr>\n",
       "      <th>1</th>\n",
       "      <td>2</td>\n",
       "      <td>Prometheus</td>\n",
       "      <td>Adventure,Mystery,Sci-Fi</td>\n",
       "      <td>Following clues to the origin of mankind, a te...</td>\n",
       "      <td>Ridley Scott</td>\n",
       "      <td>Noomi Rapace, Logan Marshall-Green, Michael Fa...</td>\n",
       "      <td>2012</td>\n",
       "      <td>124</td>\n",
       "      <td>7.0</td>\n",
       "      <td>485820</td>\n",
       "      <td>126.46</td>\n",
       "      <td>65.0</td>\n",
       "    </tr>\n",
       "    <tr>\n",
       "      <th>2</th>\n",
       "      <td>3</td>\n",
       "      <td>Split</td>\n",
       "      <td>Horror,Thriller</td>\n",
       "      <td>Three girls are kidnapped by a man with a diag...</td>\n",
       "      <td>M. Night Shyamalan</td>\n",
       "      <td>James McAvoy, Anya Taylor-Joy, Haley Lu Richar...</td>\n",
       "      <td>2016</td>\n",
       "      <td>117</td>\n",
       "      <td>7.3</td>\n",
       "      <td>157606</td>\n",
       "      <td>138.12</td>\n",
       "      <td>62.0</td>\n",
       "    </tr>\n",
       "    <tr>\n",
       "      <th>3</th>\n",
       "      <td>4</td>\n",
       "      <td>Sing</td>\n",
       "      <td>Animation,Comedy,Family</td>\n",
       "      <td>In a city of humanoid animals, a hustling thea...</td>\n",
       "      <td>Christophe Lourdelet</td>\n",
       "      <td>Matthew McConaughey,Reese Witherspoon, Seth Ma...</td>\n",
       "      <td>2016</td>\n",
       "      <td>108</td>\n",
       "      <td>7.2</td>\n",
       "      <td>60545</td>\n",
       "      <td>270.32</td>\n",
       "      <td>59.0</td>\n",
       "    </tr>\n",
       "    <tr>\n",
       "      <th>4</th>\n",
       "      <td>5</td>\n",
       "      <td>Suicide Squad</td>\n",
       "      <td>Action,Adventure,Fantasy</td>\n",
       "      <td>A secret government agency recruits some of th...</td>\n",
       "      <td>David Ayer</td>\n",
       "      <td>Will Smith, Jared Leto, Margot Robbie, Viola D...</td>\n",
       "      <td>2016</td>\n",
       "      <td>123</td>\n",
       "      <td>6.2</td>\n",
       "      <td>393727</td>\n",
       "      <td>325.02</td>\n",
       "      <td>40.0</td>\n",
       "    </tr>\n",
       "  </tbody>\n",
       "</table>\n",
       "</div>"
      ],
      "text/plain": [
       "   Rank                    Title                     Genre  \\\n",
       "0     1  Guardians of the Galaxy   Action,Adventure,Sci-Fi   \n",
       "1     2               Prometheus  Adventure,Mystery,Sci-Fi   \n",
       "2     3                    Split           Horror,Thriller   \n",
       "3     4                     Sing   Animation,Comedy,Family   \n",
       "4     5            Suicide Squad  Action,Adventure,Fantasy   \n",
       "\n",
       "                                         Description              Director  \\\n",
       "0  A group of intergalactic criminals are forced ...            James Gunn   \n",
       "1  Following clues to the origin of mankind, a te...          Ridley Scott   \n",
       "2  Three girls are kidnapped by a man with a diag...    M. Night Shyamalan   \n",
       "3  In a city of humanoid animals, a hustling thea...  Christophe Lourdelet   \n",
       "4  A secret government agency recruits some of th...            David Ayer   \n",
       "\n",
       "                                              Actors  Year  Runtime  Rating  \\\n",
       "0  Chris Pratt, Vin Diesel, Bradley Cooper, Zoe S...  2014      121     8.1   \n",
       "1  Noomi Rapace, Logan Marshall-Green, Michael Fa...  2012      124     7.0   \n",
       "2  James McAvoy, Anya Taylor-Joy, Haley Lu Richar...  2016      117     7.3   \n",
       "3  Matthew McConaughey,Reese Witherspoon, Seth Ma...  2016      108     7.2   \n",
       "4  Will Smith, Jared Leto, Margot Robbie, Viola D...  2016      123     6.2   \n",
       "\n",
       "    Votes  Revenue  Metascore  \n",
       "0  757074   333.13       76.0  \n",
       "1  485820   126.46       65.0  \n",
       "2  157606   138.12       62.0  \n",
       "3   60545   270.32       59.0  \n",
       "4  393727   325.02       40.0  "
      ]
     },
     "execution_count": 151,
     "metadata": {},
     "output_type": "execute_result"
    }
   ],
   "source": [
    "df.head()"
   ]
  },
  {
   "cell_type": "code",
   "execution_count": 152,
   "metadata": {},
   "outputs": [
    {
     "name": "stdout",
     "output_type": "stream",
     "text": [
      "<class 'pandas.core.frame.DataFrame'>\n",
      "RangeIndex: 1000 entries, 0 to 999\n",
      "Data columns (total 12 columns):\n",
      "Rank           1000 non-null int64\n",
      "Title          1000 non-null object\n",
      "Genre          1000 non-null object\n",
      "Description    1000 non-null object\n",
      "Director       1000 non-null object\n",
      "Actors         1000 non-null object\n",
      "Year           1000 non-null int64\n",
      "Runtime        1000 non-null int64\n",
      "Rating         1000 non-null float64\n",
      "Votes          1000 non-null int64\n",
      "Revenue        872 non-null float64\n",
      "Metascore      936 non-null float64\n",
      "dtypes: float64(3), int64(4), object(5)\n",
      "memory usage: 93.8+ KB\n"
     ]
    }
   ],
   "source": [
    "df.info()"
   ]
  },
  {
   "cell_type": "code",
   "execution_count": 153,
   "metadata": {},
   "outputs": [
    {
     "data": {
      "text/plain": [
       "Rank             0\n",
       "Title            0\n",
       "Genre            0\n",
       "Description      0\n",
       "Director         0\n",
       "Actors           0\n",
       "Year             0\n",
       "Runtime          0\n",
       "Rating           0\n",
       "Votes            0\n",
       "Revenue        128\n",
       "Metascore       64\n",
       "dtype: int64"
      ]
     },
     "execution_count": 153,
     "metadata": {},
     "output_type": "execute_result"
    }
   ],
   "source": [
    "df.isnull().sum()"
   ]
  },
  {
   "cell_type": "code",
   "execution_count": 154,
   "metadata": {},
   "outputs": [
    {
     "data": {
      "text/plain": [
       "(1000, 12)"
      ]
     },
     "execution_count": 154,
     "metadata": {},
     "output_type": "execute_result"
    }
   ],
   "source": [
    "df.shape"
   ]
  },
  {
   "cell_type": "markdown",
   "metadata": {},
   "source": [
    "## EDA"
   ]
  },
  {
   "cell_type": "code",
   "execution_count": 155,
   "metadata": {},
   "outputs": [],
   "source": [
    "import seaborn as sns\n",
    "import matplotlib.pyplot as plt"
   ]
  },
  {
   "cell_type": "code",
   "execution_count": 156,
   "metadata": {},
   "outputs": [
    {
     "data": {
      "text/html": [
       "<div>\n",
       "<style scoped>\n",
       "    .dataframe tbody tr th:only-of-type {\n",
       "        vertical-align: middle;\n",
       "    }\n",
       "\n",
       "    .dataframe tbody tr th {\n",
       "        vertical-align: top;\n",
       "    }\n",
       "\n",
       "    .dataframe thead th {\n",
       "        text-align: right;\n",
       "    }\n",
       "</style>\n",
       "<table border=\"1\" class=\"dataframe\">\n",
       "  <thead>\n",
       "    <tr style=\"text-align: right;\">\n",
       "      <th></th>\n",
       "      <th>Rank</th>\n",
       "      <th>Year</th>\n",
       "      <th>Runtime</th>\n",
       "      <th>Rating</th>\n",
       "      <th>Votes</th>\n",
       "      <th>Revenue</th>\n",
       "      <th>Metascore</th>\n",
       "    </tr>\n",
       "  </thead>\n",
       "  <tbody>\n",
       "    <tr>\n",
       "      <th>count</th>\n",
       "      <td>872.000000</td>\n",
       "      <td>872.000000</td>\n",
       "      <td>872.000000</td>\n",
       "      <td>872.000000</td>\n",
       "      <td>872.000000</td>\n",
       "      <td>872.000000</td>\n",
       "      <td>872.000000</td>\n",
       "    </tr>\n",
       "    <tr>\n",
       "      <th>mean</th>\n",
       "      <td>492.735092</td>\n",
       "      <td>2012.478211</td>\n",
       "      <td>114.783257</td>\n",
       "      <td>6.814335</td>\n",
       "      <td>11.576987</td>\n",
       "      <td>82.956376</td>\n",
       "      <td>59.586009</td>\n",
       "    </tr>\n",
       "    <tr>\n",
       "      <th>std</th>\n",
       "      <td>288.134843</td>\n",
       "      <td>3.183552</td>\n",
       "      <td>18.633144</td>\n",
       "      <td>0.881674</td>\n",
       "      <td>1.337956</td>\n",
       "      <td>103.253540</td>\n",
       "      <td>16.767936</td>\n",
       "    </tr>\n",
       "    <tr>\n",
       "      <th>min</th>\n",
       "      <td>1.000000</td>\n",
       "      <td>2006.000000</td>\n",
       "      <td>66.000000</td>\n",
       "      <td>1.900000</td>\n",
       "      <td>5.181784</td>\n",
       "      <td>0.000000</td>\n",
       "      <td>11.000000</td>\n",
       "    </tr>\n",
       "    <tr>\n",
       "      <th>25%</th>\n",
       "      <td>243.750000</td>\n",
       "      <td>2010.000000</td>\n",
       "      <td>101.000000</td>\n",
       "      <td>6.300000</td>\n",
       "      <td>11.012504</td>\n",
       "      <td>13.270000</td>\n",
       "      <td>48.000000</td>\n",
       "    </tr>\n",
       "    <tr>\n",
       "      <th>50%</th>\n",
       "      <td>488.500000</td>\n",
       "      <td>2013.000000</td>\n",
       "      <td>112.000000</td>\n",
       "      <td>6.900000</td>\n",
       "      <td>11.810458</td>\n",
       "      <td>47.985000</td>\n",
       "      <td>60.000000</td>\n",
       "    </tr>\n",
       "    <tr>\n",
       "      <th>75%</th>\n",
       "      <td>739.250000</td>\n",
       "      <td>2015.000000</td>\n",
       "      <td>125.000000</td>\n",
       "      <td>7.500000</td>\n",
       "      <td>12.498119</td>\n",
       "      <td>113.715000</td>\n",
       "      <td>72.000000</td>\n",
       "    </tr>\n",
       "    <tr>\n",
       "      <th>max</th>\n",
       "      <td>1000.000000</td>\n",
       "      <td>2016.000000</td>\n",
       "      <td>191.000000</td>\n",
       "      <td>9.000000</td>\n",
       "      <td>14.398796</td>\n",
       "      <td>936.630000</td>\n",
       "      <td>100.000000</td>\n",
       "    </tr>\n",
       "  </tbody>\n",
       "</table>\n",
       "</div>"
      ],
      "text/plain": [
       "              Rank         Year     Runtime      Rating       Votes  \\\n",
       "count   872.000000   872.000000  872.000000  872.000000  872.000000   \n",
       "mean    492.735092  2012.478211  114.783257    6.814335   11.576987   \n",
       "std     288.134843     3.183552   18.633144    0.881674    1.337956   \n",
       "min       1.000000  2006.000000   66.000000    1.900000    5.181784   \n",
       "25%     243.750000  2010.000000  101.000000    6.300000   11.012504   \n",
       "50%     488.500000  2013.000000  112.000000    6.900000   11.810458   \n",
       "75%     739.250000  2015.000000  125.000000    7.500000   12.498119   \n",
       "max    1000.000000  2016.000000  191.000000    9.000000   14.398796   \n",
       "\n",
       "          Revenue   Metascore  \n",
       "count  872.000000  872.000000  \n",
       "mean    82.956376   59.586009  \n",
       "std    103.253540   16.767936  \n",
       "min      0.000000   11.000000  \n",
       "25%     13.270000   48.000000  \n",
       "50%     47.985000   60.000000  \n",
       "75%    113.715000   72.000000  \n",
       "max    936.630000  100.000000  "
      ]
     },
     "execution_count": 156,
     "metadata": {},
     "output_type": "execute_result"
    }
   ],
   "source": [
    "train.describe()"
   ]
  },
  {
   "cell_type": "code",
   "execution_count": 157,
   "metadata": {},
   "outputs": [
    {
     "data": {
      "text/html": [
       "<div>\n",
       "<style scoped>\n",
       "    .dataframe tbody tr th:only-of-type {\n",
       "        vertical-align: middle;\n",
       "    }\n",
       "\n",
       "    .dataframe tbody tr th {\n",
       "        vertical-align: top;\n",
       "    }\n",
       "\n",
       "    .dataframe thead th {\n",
       "        text-align: right;\n",
       "    }\n",
       "</style>\n",
       "<table border=\"1\" class=\"dataframe\">\n",
       "  <thead>\n",
       "    <tr style=\"text-align: right;\">\n",
       "      <th></th>\n",
       "      <th>Rank</th>\n",
       "      <th>Year</th>\n",
       "      <th>Runtime</th>\n",
       "      <th>Rating</th>\n",
       "      <th>Votes</th>\n",
       "      <th>Revenue</th>\n",
       "      <th>Metascore</th>\n",
       "    </tr>\n",
       "  </thead>\n",
       "  <tbody>\n",
       "    <tr>\n",
       "      <th>Rank</th>\n",
       "      <td>1.000000</td>\n",
       "      <td>-0.308472</td>\n",
       "      <td>-0.236892</td>\n",
       "      <td>-0.235158</td>\n",
       "      <td>-0.152884</td>\n",
       "      <td>-0.271592</td>\n",
       "      <td>-0.191094</td>\n",
       "    </tr>\n",
       "    <tr>\n",
       "      <th>Year</th>\n",
       "      <td>-0.308472</td>\n",
       "      <td>1.000000</td>\n",
       "      <td>-0.099359</td>\n",
       "      <td>-0.151539</td>\n",
       "      <td>-0.471862</td>\n",
       "      <td>-0.126790</td>\n",
       "      <td>-0.068079</td>\n",
       "    </tr>\n",
       "    <tr>\n",
       "      <th>Runtime</th>\n",
       "      <td>-0.236892</td>\n",
       "      <td>-0.099359</td>\n",
       "      <td>1.000000</td>\n",
       "      <td>0.377635</td>\n",
       "      <td>0.326143</td>\n",
       "      <td>0.267953</td>\n",
       "      <td>0.227019</td>\n",
       "    </tr>\n",
       "    <tr>\n",
       "      <th>Rating</th>\n",
       "      <td>-0.235158</td>\n",
       "      <td>-0.151539</td>\n",
       "      <td>0.377635</td>\n",
       "      <td>1.000000</td>\n",
       "      <td>0.451713</td>\n",
       "      <td>0.217654</td>\n",
       "      <td>0.679736</td>\n",
       "    </tr>\n",
       "    <tr>\n",
       "      <th>Votes</th>\n",
       "      <td>-0.152884</td>\n",
       "      <td>-0.471862</td>\n",
       "      <td>0.326143</td>\n",
       "      <td>0.451713</td>\n",
       "      <td>1.000000</td>\n",
       "      <td>0.518920</td>\n",
       "      <td>0.211645</td>\n",
       "    </tr>\n",
       "    <tr>\n",
       "      <th>Revenue</th>\n",
       "      <td>-0.271592</td>\n",
       "      <td>-0.126790</td>\n",
       "      <td>0.267953</td>\n",
       "      <td>0.217654</td>\n",
       "      <td>0.518920</td>\n",
       "      <td>1.000000</td>\n",
       "      <td>0.144316</td>\n",
       "    </tr>\n",
       "    <tr>\n",
       "      <th>Metascore</th>\n",
       "      <td>-0.191094</td>\n",
       "      <td>-0.068079</td>\n",
       "      <td>0.227019</td>\n",
       "      <td>0.679736</td>\n",
       "      <td>0.211645</td>\n",
       "      <td>0.144316</td>\n",
       "      <td>1.000000</td>\n",
       "    </tr>\n",
       "  </tbody>\n",
       "</table>\n",
       "</div>"
      ],
      "text/plain": [
       "               Rank      Year   Runtime    Rating     Votes   Revenue  \\\n",
       "Rank       1.000000 -0.308472 -0.236892 -0.235158 -0.152884 -0.271592   \n",
       "Year      -0.308472  1.000000 -0.099359 -0.151539 -0.471862 -0.126790   \n",
       "Runtime   -0.236892 -0.099359  1.000000  0.377635  0.326143  0.267953   \n",
       "Rating    -0.235158 -0.151539  0.377635  1.000000  0.451713  0.217654   \n",
       "Votes     -0.152884 -0.471862  0.326143  0.451713  1.000000  0.518920   \n",
       "Revenue   -0.271592 -0.126790  0.267953  0.217654  0.518920  1.000000   \n",
       "Metascore -0.191094 -0.068079  0.227019  0.679736  0.211645  0.144316   \n",
       "\n",
       "           Metascore  \n",
       "Rank       -0.191094  \n",
       "Year       -0.068079  \n",
       "Runtime     0.227019  \n",
       "Rating      0.679736  \n",
       "Votes       0.211645  \n",
       "Revenue     0.144316  \n",
       "Metascore   1.000000  "
      ]
     },
     "execution_count": 157,
     "metadata": {},
     "output_type": "execute_result"
    }
   ],
   "source": [
    "train.corr()"
   ]
  },
  {
   "cell_type": "code",
   "execution_count": 158,
   "metadata": {},
   "outputs": [
    {
     "data": {
      "text/plain": [
       "Rank           0\n",
       "Title          0\n",
       "Genre          0\n",
       "Description    0\n",
       "Director       0\n",
       "Actors         0\n",
       "Year           0\n",
       "Runtime        0\n",
       "Rating         0\n",
       "Votes          0\n",
       "Revenue        0\n",
       "Metascore      0\n",
       "dtype: int64"
      ]
     },
     "execution_count": 158,
     "metadata": {},
     "output_type": "execute_result"
    }
   ],
   "source": [
    "train.isnull().sum()"
   ]
  },
  {
   "cell_type": "code",
   "execution_count": 159,
   "metadata": {},
   "outputs": [
    {
     "data": {
      "text/plain": [
       "<matplotlib.axes._subplots.AxesSubplot at 0x1ae5134cda0>"
      ]
     },
     "execution_count": 159,
     "metadata": {},
     "output_type": "execute_result"
    },
    {
     "data": {
      "image/png": "[encoded data removed]",
      "text/plain": [
       "<matplotlib.figure.Figure at 0x1ae511250b8>"
      ]
     },
     "metadata": {},
     "output_type": "display_data"
    }
   ],
   "source": [
    "sns.countplot(x='Year', data=train)"
   ]
  },
  {
   "cell_type": "code",
   "execution_count": 160,
   "metadata": {},
   "outputs": [
    {
     "data": {
      "text/plain": [
       "<matplotlib.axes._subplots.AxesSubplot at 0x1ae5137ee10>"
      ]
     },
     "execution_count": 160,
     "metadata": {},
     "output_type": "execute_result"
    },
    {
     "data": {
      "image/png": "[encoded data removed]",
      "text/plain": [
       "<matplotlib.figure.Figure at 0x1ae513509e8>"
      ]
     },
     "metadata": {},
     "output_type": "display_data"
    }
   ],
   "source": [
    "sns.distplot(train.Revenue, bins=20)"
   ]
  },
  {
   "cell_type": "markdown",
   "metadata": {},
   "source": [
    "## Regresi untuk handling null"
   ]
  },
  {
   "cell_type": "code",
   "execution_count": 161,
   "metadata": {},
   "outputs": [],
   "source": [
    "from sklearn.linear_model import LinearRegression\n",
    "from sklearn.model_selection import train_test_split, cross_val_score"
   ]
  },
  {
   "cell_type": "code",
   "execution_count": 162,
   "metadata": {},
   "outputs": [],
   "source": [
    "train_null = df[df.Metascore.notnull()]"
   ]
  },
  {
   "cell_type": "code",
   "execution_count": 163,
   "metadata": {},
   "outputs": [],
   "source": [
    "test_null  = df[df.Metascore.isnull()]"
   ]
  },
  {
   "cell_type": "code",
   "execution_count": 164,
   "metadata": {},
   "outputs": [],
   "source": [
    "x = train_null[['Rating']]\n",
    "y = train_null['Metascore']\n",
    "# train_x , val_x, train_y, val_y = train_test_split(x,y, test_size=0.2,random_state=123)"
   ]
  },
  {
   "cell_type": "code",
   "execution_count": 165,
   "metadata": {},
   "outputs": [],
   "source": [
    "lr = LinearRegression()"
   ]
  },
  {
   "cell_type": "code",
   "execution_count": 166,
   "metadata": {},
   "outputs": [
    {
     "data": {
      "text/plain": [
       "LinearRegression(copy_X=True, fit_intercept=True, n_jobs=1, normalize=False)"
      ]
     },
     "execution_count": 166,
     "metadata": {},
     "output_type": "execute_result"
    }
   ],
   "source": [
    "lr.fit(x, y)"
   ]
  },
  {
   "cell_type": "code",
   "execution_count": 167,
   "metadata": {},
   "outputs": [],
   "source": [
    "#bagi dataset test\n",
    "x_test = test_null[['Rating']]"
   ]
  },
  {
   "cell_type": "code",
   "execution_count": 168,
   "metadata": {},
   "outputs": [],
   "source": [
    "predict = lr.predict(x_test)"
   ]
  },
  {
   "cell_type": "code",
   "execution_count": 169,
   "metadata": {},
   "outputs": [],
   "source": [
    "predict = np.round(predict)"
   ]
  },
  {
   "cell_type": "code",
   "execution_count": 170,
   "metadata": {},
   "outputs": [
    {
     "data": {
      "text/plain": [
       "array([60., 77., 35., 63., 12., 46., 73., 83., 67., 75., 49., 54., 24.,\n",
       "       60., 63., 52., 70., 45., 42., 52., 67., 61., 63., 71., 51., 63.,\n",
       "       57., 54., 57., 57., 62., 52., 63., 67., 64., 61., 52., 78., 76.,\n",
       "       42., 56., 52., 56., 63., 47., 66., 41., 59., 37., 64., 61., 34.,\n",
       "       69., 53., 63., 63., 67., 64., 62., 66., 56., 61., 68., 54.])"
      ]
     },
     "execution_count": 170,
     "metadata": {},
     "output_type": "execute_result"
    }
   ],
   "source": [
    "predict"
   ]
  },
  {
   "cell_type": "code",
   "execution_count": 171,
   "metadata": {},
   "outputs": [
    {
     "name": "stderr",
     "output_type": "stream",
     "text": [
      "C:\\Users\\stezar059244\\AppData\\Local\\Continuum\\anaconda3\\lib\\site-packages\\ipykernel_launcher.py:1: SettingWithCopyWarning: \n",
      "A value is trying to be set on a copy of a slice from a DataFrame\n",
      "\n",
      "See the caveats in the documentation: http://pandas.pydata.org/pandas-docs/stable/indexing.html#indexing-view-versus-copy\n",
      "  \"\"\"Entry point for launching an IPython kernel.\n"
     ]
    }
   ],
   "source": [
    "test_null.drop(['Metascore'], axis=1, inplace=True)"
   ]
  },
  {
   "cell_type": "code",
   "execution_count": 172,
   "metadata": {},
   "outputs": [
    {
     "name": "stderr",
     "output_type": "stream",
     "text": [
      "C:\\Users\\stezar059244\\AppData\\Local\\Continuum\\anaconda3\\lib\\site-packages\\ipykernel_launcher.py:1: SettingWithCopyWarning: \n",
      "A value is trying to be set on a copy of a slice from a DataFrame.\n",
      "Try using .loc[row_indexer,col_indexer] = value instead\n",
      "\n",
      "See the caveats in the documentation: http://pandas.pydata.org/pandas-docs/stable/indexing.html#indexing-view-versus-copy\n",
      "  \"\"\"Entry point for launching an IPython kernel.\n"
     ]
    }
   ],
   "source": [
    "test_null['Metascore'] = predict"
   ]
  },
  {
   "cell_type": "code",
   "execution_count": 173,
   "metadata": {},
   "outputs": [
    {
     "data": {
      "text/html": [
       "<div>\n",
       "<style scoped>\n",
       "    .dataframe tbody tr th:only-of-type {\n",
       "        vertical-align: middle;\n",
       "    }\n",
       "\n",
       "    .dataframe tbody tr th {\n",
       "        vertical-align: top;\n",
       "    }\n",
       "\n",
       "    .dataframe thead th {\n",
       "        text-align: right;\n",
       "    }\n",
       "</style>\n",
       "<table border=\"1\" class=\"dataframe\">\n",
       "  <thead>\n",
       "    <tr style=\"text-align: right;\">\n",
       "      <th></th>\n",
       "      <th>Rank</th>\n",
       "      <th>Title</th>\n",
       "      <th>Genre</th>\n",
       "      <th>Description</th>\n",
       "      <th>Director</th>\n",
       "      <th>Actors</th>\n",
       "      <th>Year</th>\n",
       "      <th>Runtime</th>\n",
       "      <th>Rating</th>\n",
       "      <th>Votes</th>\n",
       "      <th>Revenue</th>\n",
       "      <th>Metascore</th>\n",
       "    </tr>\n",
       "  </thead>\n",
       "  <tbody>\n",
       "    <tr>\n",
       "      <th>25</th>\n",
       "      <td>26</td>\n",
       "      <td>Paris pieds nus</td>\n",
       "      <td>Comedy</td>\n",
       "      <td>Fiona visits Paris for the first time to assis...</td>\n",
       "      <td>Dominique Abel</td>\n",
       "      <td>Fiona Gordon, Dominique Abel,Emmanuelle Riva, ...</td>\n",
       "      <td>2016</td>\n",
       "      <td>83</td>\n",
       "      <td>6.8</td>\n",
       "      <td>222</td>\n",
       "      <td>NaN</td>\n",
       "      <td>60.0</td>\n",
       "    </tr>\n",
       "    <tr>\n",
       "      <th>26</th>\n",
       "      <td>27</td>\n",
       "      <td>Bahubali: The Beginning</td>\n",
       "      <td>Action,Adventure,Drama</td>\n",
       "      <td>In ancient India, an adventurous and daring ma...</td>\n",
       "      <td>S.S. Rajamouli</td>\n",
       "      <td>Prabhas, Rana Daggubati, Anushka Shetty,Tamann...</td>\n",
       "      <td>2015</td>\n",
       "      <td>159</td>\n",
       "      <td>8.3</td>\n",
       "      <td>76193</td>\n",
       "      <td>6.50</td>\n",
       "      <td>77.0</td>\n",
       "    </tr>\n",
       "    <tr>\n",
       "      <th>27</th>\n",
       "      <td>28</td>\n",
       "      <td>Dead Awake</td>\n",
       "      <td>Horror,Thriller</td>\n",
       "      <td>A young woman must save herself and her friend...</td>\n",
       "      <td>Phillip Guzman</td>\n",
       "      <td>Jocelin Donahue, Jesse Bradford, Jesse Borrego...</td>\n",
       "      <td>2016</td>\n",
       "      <td>99</td>\n",
       "      <td>4.7</td>\n",
       "      <td>523</td>\n",
       "      <td>0.01</td>\n",
       "      <td>35.0</td>\n",
       "    </tr>\n",
       "    <tr>\n",
       "      <th>39</th>\n",
       "      <td>40</td>\n",
       "      <td>5- 25- 77</td>\n",
       "      <td>Comedy,Drama</td>\n",
       "      <td>Alienated, hopeful-filmmaker Pat Johnson's epi...</td>\n",
       "      <td>Patrick Read Johnson</td>\n",
       "      <td>John Francis Daley, Austin Pendleton, Colleen ...</td>\n",
       "      <td>2007</td>\n",
       "      <td>113</td>\n",
       "      <td>7.1</td>\n",
       "      <td>241</td>\n",
       "      <td>NaN</td>\n",
       "      <td>63.0</td>\n",
       "    </tr>\n",
       "    <tr>\n",
       "      <th>42</th>\n",
       "      <td>43</td>\n",
       "      <td>Don't Fuck in the Woods</td>\n",
       "      <td>Horror</td>\n",
       "      <td>A group of friends are going on a camping trip...</td>\n",
       "      <td>Shawn Burkett</td>\n",
       "      <td>Brittany Blanton, Ayse Howard, Roman Jossart,N...</td>\n",
       "      <td>2016</td>\n",
       "      <td>73</td>\n",
       "      <td>2.7</td>\n",
       "      <td>496</td>\n",
       "      <td>NaN</td>\n",
       "      <td>12.0</td>\n",
       "    </tr>\n",
       "  </tbody>\n",
       "</table>\n",
       "</div>"
      ],
      "text/plain": [
       "    Rank                    Title                   Genre  \\\n",
       "25    26          Paris pieds nus                  Comedy   \n",
       "26    27  Bahubali: The Beginning  Action,Adventure,Drama   \n",
       "27    28               Dead Awake         Horror,Thriller   \n",
       "39    40                5- 25- 77            Comedy,Drama   \n",
       "42    43  Don't Fuck in the Woods                  Horror   \n",
       "\n",
       "                                          Description              Director  \\\n",
       "25  Fiona visits Paris for the first time to assis...        Dominique Abel   \n",
       "26  In ancient India, an adventurous and daring ma...        S.S. Rajamouli   \n",
       "27  A young woman must save herself and her friend...        Phillip Guzman   \n",
       "39  Alienated, hopeful-filmmaker Pat Johnson's epi...  Patrick Read Johnson   \n",
       "42  A group of friends are going on a camping trip...         Shawn Burkett   \n",
       "\n",
       "                                               Actors  Year  Runtime  Rating  \\\n",
       "25  Fiona Gordon, Dominique Abel,Emmanuelle Riva, ...  2016       83     6.8   \n",
       "26  Prabhas, Rana Daggubati, Anushka Shetty,Tamann...  2015      159     8.3   \n",
       "27  Jocelin Donahue, Jesse Bradford, Jesse Borrego...  2016       99     4.7   \n",
       "39  John Francis Daley, Austin Pendleton, Colleen ...  2007      113     7.1   \n",
       "42  Brittany Blanton, Ayse Howard, Roman Jossart,N...  2016       73     2.7   \n",
       "\n",
       "    Votes  Revenue  Metascore  \n",
       "25    222      NaN       60.0  \n",
       "26  76193     6.50       77.0  \n",
       "27    523     0.01       35.0  \n",
       "39    241      NaN       63.0  \n",
       "42    496      NaN       12.0  "
      ]
     },
     "execution_count": 173,
     "metadata": {},
     "output_type": "execute_result"
    }
   ],
   "source": [
    "test_null.head()"
   ]
  },
  {
   "cell_type": "code",
   "execution_count": 174,
   "metadata": {},
   "outputs": [],
   "source": [
    "df = pd.concat([train_null, test_null])"
   ]
  },
  {
   "cell_type": "code",
   "execution_count": 175,
   "metadata": {},
   "outputs": [
    {
     "data": {
      "text/plain": [
       "Rank             0\n",
       "Title            0\n",
       "Genre            0\n",
       "Description      0\n",
       "Director         0\n",
       "Actors           0\n",
       "Year             0\n",
       "Runtime          0\n",
       "Rating           0\n",
       "Votes            0\n",
       "Revenue        128\n",
       "Metascore        0\n",
       "dtype: int64"
      ]
     },
     "execution_count": 175,
     "metadata": {},
     "output_type": "execute_result"
    }
   ],
   "source": [
    "df.isnull().sum()"
   ]
  },
  {
   "cell_type": "code",
   "execution_count": 176,
   "metadata": {},
   "outputs": [],
   "source": [
    "test = df[df.Revenue.isnull()]\n",
    "train = df[df.Revenue.notnull()]"
   ]
  },
  {
   "cell_type": "markdown",
   "metadata": {},
   "source": [
    "## Modelling"
   ]
  },
  {
   "cell_type": "code",
   "execution_count": 177,
   "metadata": {},
   "outputs": [
    {
     "data": {
      "text/html": [
       "<div>\n",
       "<style scoped>\n",
       "    .dataframe tbody tr th:only-of-type {\n",
       "        vertical-align: middle;\n",
       "    }\n",
       "\n",
       "    .dataframe tbody tr th {\n",
       "        vertical-align: top;\n",
       "    }\n",
       "\n",
       "    .dataframe thead th {\n",
       "        text-align: right;\n",
       "    }\n",
       "</style>\n",
       "<table border=\"1\" class=\"dataframe\">\n",
       "  <thead>\n",
       "    <tr style=\"text-align: right;\">\n",
       "      <th></th>\n",
       "      <th>Rank</th>\n",
       "      <th>Year</th>\n",
       "      <th>Runtime</th>\n",
       "      <th>Rating</th>\n",
       "      <th>Votes</th>\n",
       "      <th>Revenue</th>\n",
       "      <th>Metascore</th>\n",
       "    </tr>\n",
       "  </thead>\n",
       "  <tbody>\n",
       "    <tr>\n",
       "      <th>Rank</th>\n",
       "      <td>1.000000</td>\n",
       "      <td>-0.308472</td>\n",
       "      <td>-0.236892</td>\n",
       "      <td>-0.235158</td>\n",
       "      <td>-0.296847</td>\n",
       "      <td>-0.271592</td>\n",
       "      <td>-0.191094</td>\n",
       "    </tr>\n",
       "    <tr>\n",
       "      <th>Year</th>\n",
       "      <td>-0.308472</td>\n",
       "      <td>1.000000</td>\n",
       "      <td>-0.099359</td>\n",
       "      <td>-0.151539</td>\n",
       "      <td>-0.364052</td>\n",
       "      <td>-0.126790</td>\n",
       "      <td>-0.068079</td>\n",
       "    </tr>\n",
       "    <tr>\n",
       "      <th>Runtime</th>\n",
       "      <td>-0.236892</td>\n",
       "      <td>-0.099359</td>\n",
       "      <td>1.000000</td>\n",
       "      <td>0.377635</td>\n",
       "      <td>0.379100</td>\n",
       "      <td>0.267953</td>\n",
       "      <td>0.227019</td>\n",
       "    </tr>\n",
       "    <tr>\n",
       "      <th>Rating</th>\n",
       "      <td>-0.235158</td>\n",
       "      <td>-0.151539</td>\n",
       "      <td>0.377635</td>\n",
       "      <td>1.000000</td>\n",
       "      <td>0.515770</td>\n",
       "      <td>0.217654</td>\n",
       "      <td>0.679736</td>\n",
       "    </tr>\n",
       "    <tr>\n",
       "      <th>Votes</th>\n",
       "      <td>-0.296847</td>\n",
       "      <td>-0.364052</td>\n",
       "      <td>0.379100</td>\n",
       "      <td>0.515770</td>\n",
       "      <td>1.000000</td>\n",
       "      <td>0.639661</td>\n",
       "      <td>0.335759</td>\n",
       "    </tr>\n",
       "    <tr>\n",
       "      <th>Revenue</th>\n",
       "      <td>-0.271592</td>\n",
       "      <td>-0.126790</td>\n",
       "      <td>0.267953</td>\n",
       "      <td>0.217654</td>\n",
       "      <td>0.639661</td>\n",
       "      <td>1.000000</td>\n",
       "      <td>0.144316</td>\n",
       "    </tr>\n",
       "    <tr>\n",
       "      <th>Metascore</th>\n",
       "      <td>-0.191094</td>\n",
       "      <td>-0.068079</td>\n",
       "      <td>0.227019</td>\n",
       "      <td>0.679736</td>\n",
       "      <td>0.335759</td>\n",
       "      <td>0.144316</td>\n",
       "      <td>1.000000</td>\n",
       "    </tr>\n",
       "  </tbody>\n",
       "</table>\n",
       "</div>"
      ],
      "text/plain": [
       "               Rank      Year   Runtime    Rating     Votes   Revenue  \\\n",
       "Rank       1.000000 -0.308472 -0.236892 -0.235158 -0.296847 -0.271592   \n",
       "Year      -0.308472  1.000000 -0.099359 -0.151539 -0.364052 -0.126790   \n",
       "Runtime   -0.236892 -0.099359  1.000000  0.377635  0.379100  0.267953   \n",
       "Rating    -0.235158 -0.151539  0.377635  1.000000  0.515770  0.217654   \n",
       "Votes     -0.296847 -0.364052  0.379100  0.515770  1.000000  0.639661   \n",
       "Revenue   -0.271592 -0.126790  0.267953  0.217654  0.639661  1.000000   \n",
       "Metascore -0.191094 -0.068079  0.227019  0.679736  0.335759  0.144316   \n",
       "\n",
       "           Metascore  \n",
       "Rank       -0.191094  \n",
       "Year       -0.068079  \n",
       "Runtime     0.227019  \n",
       "Rating      0.679736  \n",
       "Votes       0.335759  \n",
       "Revenue     0.144316  \n",
       "Metascore   1.000000  "
      ]
     },
     "execution_count": 177,
     "metadata": {},
     "output_type": "execute_result"
    }
   ],
   "source": [
    "train.corr()"
   ]
  },
  {
   "cell_type": "code",
   "execution_count": 178,
   "metadata": {},
   "outputs": [],
   "source": [
    "#mulai modelling Linear Regression\n",
    "lm = LinearRegression()"
   ]
  },
  {
   "cell_type": "code",
   "execution_count": 179,
   "metadata": {},
   "outputs": [],
   "source": [
    "x_lm = train[['Rating', 'Votes']]\n",
    "y_lm = train['Revenue']"
   ]
  },
  {
   "cell_type": "code",
   "execution_count": 180,
   "metadata": {},
   "outputs": [
    {
     "data": {
      "text/plain": [
       "LinearRegression(copy_X=True, fit_intercept=True, n_jobs=1, normalize=False)"
      ]
     },
     "execution_count": 180,
     "metadata": {},
     "output_type": "execute_result"
    }
   ],
   "source": [
    "lm.fit(x_lm, y_lm)"
   ]
  },
  {
   "cell_type": "code",
   "execution_count": 181,
   "metadata": {},
   "outputs": [
    {
     "data": {
      "text/plain": [
       "0.42633771818370936"
      ]
     },
     "execution_count": 181,
     "metadata": {},
     "output_type": "execute_result"
    }
   ],
   "source": [
    "lm.score(x_lm, y_lm)"
   ]
  },
  {
   "cell_type": "code",
   "execution_count": null,
   "metadata": {},
   "outputs": [],
   "source": []
  }
 ],
 "metadata": {
  "kernelspec": {
   "display_name": "Python 3",
   "language": "python",
   "name": "python3"
  },
  "language_info": {
   "codemirror_mode": {
    "name": "ipython",
    "version": 3
   },
   "file_extension": ".py",
   "mimetype": "text/x-python",
   "name": "python",
   "nbconvert_exporter": "python",
   "pygments_lexer": "ipython3",
   "version": "3.6.4"
  }
 },
 "nbformat": 4,
 "nbformat_minor": 2
}
