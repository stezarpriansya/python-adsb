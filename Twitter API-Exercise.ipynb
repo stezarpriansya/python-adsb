{
 "cells": [
  {
   "cell_type": "code",
   "execution_count": 1,
   "metadata": {},
   "outputs": [
    {
     "ename": "ImportError",
     "evalue": "No module named 'tweepy'",
     "output_type": "error",
     "traceback": [
      "\u001b[0;31m---------------------------------------------------------------------------\u001b[0m",
      "\u001b[0;31mImportError\u001b[0m                               Traceback (most recent call last)",
      "\u001b[0;32m<ipython-input-1-f5603aea49f6>\u001b[0m in \u001b[0;36m<module>\u001b[0;34m()\u001b[0m\n\u001b[0;32m----> 1\u001b[0;31m \u001b[0;32mimport\u001b[0m \u001b[0mtweepy\u001b[0m\u001b[0;34m\u001b[0m\u001b[0m\n\u001b[0m\u001b[1;32m      2\u001b[0m \u001b[0;32mimport\u001b[0m \u001b[0mpandas\u001b[0m \u001b[0;32mas\u001b[0m \u001b[0mpd\u001b[0m\u001b[0;34m\u001b[0m\u001b[0m\n\u001b[1;32m      3\u001b[0m \u001b[0;32mimport\u001b[0m \u001b[0mpprint\u001b[0m\u001b[0;34m\u001b[0m\u001b[0m\n\u001b[1;32m      4\u001b[0m \u001b[0;32mimport\u001b[0m \u001b[0mjson\u001b[0m\u001b[0;34m\u001b[0m\u001b[0m\n",
      "\u001b[0;31mImportError\u001b[0m: No module named 'tweepy'"
     ]
    }
   ],
   "source": [
    "import tweepy\n",
    "import pandas as pd\n",
    "import pprint\n",
    "import json"
   ]
  },
  {
   "cell_type": "code",
   "execution_count": null,
   "metadata": {},
   "outputs": [],
   "source": [
    "TWITTER_CONSUMER_KEY = \"pnh52i23z3d7oQQ5iyoAUUt9R\"\n",
    "\n",
    "TWITTER_CONSUMER_SECRET = \"IcO0gEMGpMDApG5aUPWzToSE1wsTVC6u1lSVgSHyPcL4yAriv3\"\n",
    "\n",
    "TWITTER_ACCESS_TOKEN = \"204791971-7u94lL9fR2TxhytMM8x38HuflvwTp4wN6KLBIA6x\"\n",
    "\n",
    "TWITTER_ACCESS_TOKEN_SECRET = \"PKSGiyOmY6fgat0saeGDEAgevdvPQHAtai0cfOSbCynW3\""
   ]
  },
  {
   "cell_type": "code",
   "execution_count": null,
   "metadata": {},
   "outputs": [],
   "source": [
    "auth = tweepy.OAuthHandler(TWITTER_CONSUMER_KEY, TWITTER_CONSUMER_SECRET)\n",
    "auth.set_access_token(TWITTER_ACCESS_TOKEN, TWITTER_ACCESS_TOKEN_SECRET)\n",
    "\n",
    "api = tweepy.API(auth)"
   ]
  },
  {
   "cell_type": "markdown",
   "metadata": {},
   "source": [
    "Tasks:\n",
    "\n",
    "1. Get the three latest tweets from the five latest followers of account 'astra_career' on twitter\n",
    "2. Check latest tweets from 'Astra_career'. Get the latest tweet that was retweeted by users. Find the two latest users that were followed by three users that retweeted it.\n",
    "3. Search for the latest hashtag that is used by 'Astra_career'. Search ten latest tweets that use that Hashtag and get the location of the users.\n",
    "\n",
    "HINT: YOU CAN INSPECT THE STRUCTURE OF TWEEPY OBJECT BY CALLING ._json ON EACH OBJECT!"
   ]
  },
  {
   "cell_type": "markdown",
   "metadata": {},
   "source": [
    "# Task 1"
   ]
  },
  {
   "cell_type": "code",
   "execution_count": null,
   "metadata": {},
   "outputs": [],
   "source": [
    "account = 'Astra_career'"
   ]
  },
  {
   "cell_type": "code",
   "execution_count": null,
   "metadata": {},
   "outputs": [],
   "source": [
    "### Fill the code ###\n",
    "# Get the followers of account\n",
    "\n",
    "followers = api.followers(account)"
   ]
  },
  {
   "cell_type": "code",
   "execution_count": null,
   "metadata": {},
   "outputs": [],
   "source": [
    "### Fill the code ###\n",
    "\n",
    "fiveFollowers = []\n",
    "\n",
    "# Iterate to get follower\n",
    "for i in range(0,5):\n",
    "    fiveFollowers.append(followers[i])\n",
    "    "
   ]
  },
  {
   "cell_type": "code",
   "execution_count": null,
   "metadata": {},
   "outputs": [],
   "source": [
    "print(fiveFollowers)"
   ]
  },
  {
   "cell_type": "code",
   "execution_count": null,
   "metadata": {
    "scrolled": true
   },
   "outputs": [],
   "source": [
    "### Fill the code ###\n",
    "# get tweets from Astra Followers\n",
    "for f in fiveFollowers:\n",
    "    try:\n",
    "        userTL = api.user_timeline(f.screen_name)\n",
    "        for tweet in userTL:\n",
    "            print('@'+f.screen_name+' :'+tweet.text)\n",
    "    except:\n",
    "        print('Error detected')"
   ]
  },
  {
   "cell_type": "markdown",
   "metadata": {},
   "source": [
    "# Task 2"
   ]
  },
  {
   "cell_type": "code",
   "execution_count": null,
   "metadata": {},
   "outputs": [],
   "source": [
    "### Fill the code ###\n",
    "# Get latest tweet\n",
    "\n",
    "astraTweet = api.user_timeline(account)"
   ]
  },
  {
   "cell_type": "code",
   "execution_count": null,
   "metadata": {},
   "outputs": [],
   "source": [
    "### Fill the code ###\n",
    "\n",
    "tweetId = None\n",
    "for t in astraTweet:\n",
    "    # Check if have retwet\n",
    "    if t.retweet_count > 0: # Fill the conditional\n",
    "        # assign to tweetId\n",
    "        tweetId = t.id\n",
    "        break # only use the first tweet that has retweet\n",
    "    else:\n",
    "        continue"
   ]
  },
  {
   "cell_type": "code",
   "execution_count": null,
   "metadata": {},
   "outputs": [],
   "source": [
    "print(tweetId)\n",
    "# api.get_status(915885913221165056)"
   ]
  },
  {
   "cell_type": "code",
   "execution_count": null,
   "metadata": {},
   "outputs": [],
   "source": [
    "### Fill the code ###\n",
    "\n",
    "# Get the retweet of original tweet\n",
    "retweets = api.retweeters(tweetId)"
   ]
  },
  {
   "cell_type": "code",
   "execution_count": null,
   "metadata": {},
   "outputs": [],
   "source": [
    "### Fill the code ###\n",
    "threeUsers = []\n",
    "\n",
    "# get the user from the retweet\n",
    "for i in retweets:\n",
    "    threeUsers.append(api.get_user(i))"
   ]
  },
  {
   "cell_type": "code",
   "execution_count": null,
   "metadata": {},
   "outputs": [],
   "source": [
    "print(threeUsers)"
   ]
  },
  {
   "cell_type": "code",
   "execution_count": null,
   "metadata": {},
   "outputs": [],
   "source": [
    "### Fill the code ###\n",
    "\n",
    "# Get two user that were followed by each of these three users\n",
    "for u in threeUsers:\n",
    "    # get list of friends\n",
    "    print('User @'+u.screen_name +':')\n",
    "    friends = u.friends()\n",
    "    print('punya teman,')\n",
    "    # get only two friend\n",
    "    for i in range(0,2):\n",
    "        print('@'+friends[i].screen_name)\n",
    "    print('-----------------')\n",
    "        "
   ]
  },
  {
   "cell_type": "markdown",
   "metadata": {},
   "source": [
    "# Task 3"
   ]
  },
  {
   "cell_type": "code",
   "execution_count": null,
   "metadata": {},
   "outputs": [],
   "source": [
    "### Fill the code ###\n",
    "# Get tweet from account\n",
    "\n",
    "astraTweet2 = "
   ]
  },
  {
   "cell_type": "code",
   "execution_count": null,
   "metadata": {},
   "outputs": [],
   "source": [
    "### Fill the code ###\n",
    "\n",
    "hashtag = None\n",
    "\n",
    "\n",
    "for t in astraTweet2:\n",
    "    # Check tweet that has hashtag\n",
    "    # if it has hashtag, get the hashtag and break the loops\n",
    "    # else continue loop\n",
    "    "
   ]
  },
  {
   "cell_type": "code",
   "execution_count": null,
   "metadata": {
    "scrolled": true
   },
   "outputs": [],
   "source": [
    "print hashtag"
   ]
  },
  {
   "cell_type": "code",
   "execution_count": null,
   "metadata": {},
   "outputs": [],
   "source": [
    "### Fill the code ###\n",
    "# Search ten latest tweets that also has that hashtag\n",
    "# get all of the locations\n",
    "locations = []\n",
    "\n",
    "query = \n",
    "hashtagTweets = \n",
    "for tweet in hashtagTweets:\n",
    "    "
   ]
  },
  {
   "cell_type": "code",
   "execution_count": null,
   "metadata": {},
   "outputs": [],
   "source": [
    "print locations"
   ]
  },
  {
   "cell_type": "code",
   "execution_count": null,
   "metadata": {},
   "outputs": [],
   "source": []
  },
  {
   "cell_type": "code",
   "execution_count": null,
   "metadata": {},
   "outputs": [],
   "source": []
  },
  {
   "cell_type": "code",
   "execution_count": null,
   "metadata": {},
   "outputs": [],
   "source": []
  }
 ],
 "metadata": {
  "kernelspec": {
   "display_name": "Python 3",
   "language": "python",
   "name": "python3"
  },
  "language_info": {
   "codemirror_mode": {
    "name": "ipython",
    "version": 3
   },
   "file_extension": ".py",
   "mimetype": "text/x-python",
   "name": "python",
   "nbconvert_exporter": "python",
   "pygments_lexer": "ipython3",
   "version": "3.5.4"
  }
 },
 "nbformat": 4,
 "nbformat_minor": 2
}
