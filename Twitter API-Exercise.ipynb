{
 "cells": [
  {
   "cell_type": "code",
   "execution_count": 3,
   "metadata": {},
   "outputs": [],
   "source": [
    "import tweepy\n",
    "import pandas as pd\n",
    "import pprint\n",
    "import json"
   ]
  },
  {
   "cell_type": "code",
   "execution_count": 56,
   "metadata": {},
   "outputs": [],
   "source": [
    "TWITTER_CONSUMER_KEY = \"pnh52i23z3d7oQQ5iyoAUUt9R\"\n",
    "\n",
    "TWITTER_CONSUMER_SECRET = \"IcO0gEMGpMDApG5aUPWzToSE1wsTVC6u1lSVgSHyPcL4yAriv3\"\n",
    "\n",
    "TWITTER_ACCESS_TOKEN = \"204791971-7u94lL9fR2TxhytMM8x38HuflvwTp4wN6KLBIA6x\"\n",
    "\n",
    "TWITTER_ACCESS_TOKEN_SECRET = \"PKSGiyOmY6fgat0saeGDEAgevdvPQHAtai0cfOSbCynW3\""
   ]
  },
  {
   "cell_type": "code",
   "execution_count": 57,
   "metadata": {},
   "outputs": [],
   "source": [
    "auth = tweepy.OAuthHandler(TWITTER_CONSUMER_KEY, TWITTER_CONSUMER_SECRET)\n",
    "auth.set_access_token(TWITTER_ACCESS_TOKEN, TWITTER_ACCESS_TOKEN_SECRET)\n",
    "\n",
    "api = tweepy.API(auth)"
   ]
  },
  {
   "cell_type": "markdown",
   "metadata": {},
   "source": [
    "Tasks:\n",
    "\n",
    "1. Get the three latest tweets from the five latest followers of account 'astra_career' on twitter\n",
    "2. Check latest tweets from 'Astra_career'. Get the latest tweet that was retweeted by users. Find the two latest users that were followed by three users that retweeted it.\n",
    "3. Search for the latest hashtag that is used by 'Astra_career'. Search ten latest tweets that use that Hashtag and get the location of the users.\n",
    "\n",
    "HINT: YOU CAN INSPECT THE STRUCTURE OF TWEEPY OBJECT BY CALLING ._json ON EACH OBJECT!"
   ]
  },
  {
   "cell_type": "markdown",
   "metadata": {},
   "source": [
    "# Task 1"
   ]
  },
  {
   "cell_type": "code",
   "execution_count": 58,
   "metadata": {},
   "outputs": [],
   "source": [
    "account = 'Astra_career'"
   ]
  },
  {
   "cell_type": "code",
   "execution_count": 59,
   "metadata": {},
   "outputs": [],
   "source": [
    "### Fill the code ###\n",
    "# Get the followers of account\n",
    "\n",
    "followers = api.followers(account)"
   ]
  },
  {
   "cell_type": "code",
   "execution_count": 60,
   "metadata": {},
   "outputs": [],
   "source": [
    "### Fill the code ###\n",
    "\n",
    "fiveFollowers = []\n",
    "\n",
    "# Iterate to get follower\n",
    "for i in range(0,5):\n",
    "    fiveFollowers.append(followers[i])\n",
    "    "
   ]
  },
  {
   "cell_type": "code",
   "execution_count": 61,
   "metadata": {},
   "outputs": [
    {
     "name": "stdout",
     "output_type": "stream",
     "text": [
      "[User(_api=<tweepy.api.API object at 0x000001AC24FF7898>, _json={'id': 123567701, 'id_str': '123567701', 'name': 'Mombod Ae', 'screen_name': 'M0mb0d', 'location': 'Bojonegoro', 'description': 'keep moving', 'url': None, 'entities': {'description': {'urls': []}}, 'protected': False, 'followers_count': 49, 'friends_count': 62, 'listed_count': 0, 'created_at': 'Tue Mar 16 14:00:59 +0000 2010', 'favourites_count': 1, 'utc_offset': None, 'time_zone': None, 'geo_enabled': False, 'verified': False, 'statuses_count': 138, 'lang': 'en', 'status': {'created_at': 'Wed Apr 18 05:21:35 +0000 2018', 'id': 986474800951345152, 'id_str': '986474800951345152', 'text': '@IndosatCare Apakah bisa langsung di ganti dr customer care nya langsung tanpa hrs pergi ke gerai??', 'truncated': False, 'entities': {'hashtags': [], 'symbols': [], 'user_mentions': [{'screen_name': 'IndosatCare', 'name': 'Indosat Ooredoo Care', 'id': 548904824, 'id_str': '548904824', 'indices': [0, 12]}], 'urls': []}, 'source': '<a href=\"https://mobile.twitter.com\" rel=\"nofollow\">Twitter Lite</a>', 'in_reply_to_status_id': 986464450722123776, 'in_reply_to_status_id_str': '986464450722123776', 'in_reply_to_user_id': 548904824, 'in_reply_to_user_id_str': '548904824', 'in_reply_to_screen_name': 'IndosatCare', 'geo': None, 'coordinates': None, 'place': None, 'contributors': None, 'is_quote_status': False, 'retweet_count': 0, 'favorite_count': 0, 'favorited': False, 'retweeted': False, 'lang': 'in'}, 'contributors_enabled': False, 'is_translator': False, 'is_translation_enabled': False, 'profile_background_color': 'ABB8C2', 'profile_background_image_url': 'http://abs.twimg.com/images/themes/theme9/bg.gif', 'profile_background_image_url_https': 'https://abs.twimg.com/images/themes/theme9/bg.gif', 'profile_background_tile': True, 'profile_image_url': 'http://pbs.twimg.com/profile_images/549490779933011969/Xup0118q_normal.jpeg', 'profile_image_url_https': 'https://pbs.twimg.com/profile_images/549490779933011969/Xup0118q_normal.jpeg', 'profile_banner_url': 'https://pbs.twimg.com/profile_banners/123567701/1419843965', 'profile_link_color': '3B94D9', 'profile_sidebar_border_color': '000000', 'profile_sidebar_fill_color': '742178', 'profile_text_color': '333333', 'profile_use_background_image': True, 'has_extended_profile': False, 'default_profile': False, 'default_profile_image': False, 'following': False, 'live_following': False, 'follow_request_sent': False, 'notifications': False, 'muting': False, 'blocking': False, 'blocked_by': False, 'translator_type': 'none'}, id=123567701, id_str='123567701', name='Mombod Ae', screen_name='M0mb0d', location='Bojonegoro', description='keep moving', url=None, entities={'description': {'urls': []}}, protected=False, followers_count=49, friends_count=62, listed_count=0, created_at=datetime.datetime(2010, 3, 16, 14, 0, 59), favourites_count=1, utc_offset=None, time_zone=None, geo_enabled=False, verified=False, statuses_count=138, lang='en', status=Status(_api=<tweepy.api.API object at 0x000001AC24FF7898>, _json={'created_at': 'Wed Apr 18 05:21:35 +0000 2018', 'id': 986474800951345152, 'id_str': '986474800951345152', 'text': '@IndosatCare Apakah bisa langsung di ganti dr customer care nya langsung tanpa hrs pergi ke gerai??', 'truncated': False, 'entities': {'hashtags': [], 'symbols': [], 'user_mentions': [{'screen_name': 'IndosatCare', 'name': 'Indosat Ooredoo Care', 'id': 548904824, 'id_str': '548904824', 'indices': [0, 12]}], 'urls': []}, 'source': '<a href=\"https://mobile.twitter.com\" rel=\"nofollow\">Twitter Lite</a>', 'in_reply_to_status_id': 986464450722123776, 'in_reply_to_status_id_str': '986464450722123776', 'in_reply_to_user_id': 548904824, 'in_reply_to_user_id_str': '548904824', 'in_reply_to_screen_name': 'IndosatCare', 'geo': None, 'coordinates': None, 'place': None, 'contributors': None, 'is_quote_status': False, 'retweet_count': 0, 'favorite_count': 0, 'favorited': False, 'retweeted': False, 'lang': 'in'}, created_at=datetime.datetime(2018, 4, 18, 5, 21, 35), id=986474800951345152, id_str='986474800951345152', text='@IndosatCare Apakah bisa langsung di ganti dr customer care nya langsung tanpa hrs pergi ke gerai??', truncated=False, entities={'hashtags': [], 'symbols': [], 'user_mentions': [{'screen_name': 'IndosatCare', 'name': 'Indosat Ooredoo Care', 'id': 548904824, 'id_str': '548904824', 'indices': [0, 12]}], 'urls': []}, source='Twitter Lite', source_url='https://mobile.twitter.com', in_reply_to_status_id=986464450722123776, in_reply_to_status_id_str='986464450722123776', in_reply_to_user_id=548904824, in_reply_to_user_id_str='548904824', in_reply_to_screen_name='IndosatCare', geo=None, coordinates=None, place=None, contributors=None, is_quote_status=False, retweet_count=0, favorite_count=0, favorited=False, retweeted=False, lang='in'), contributors_enabled=False, is_translator=False, is_translation_enabled=False, profile_background_color='ABB8C2', profile_background_image_url='http://abs.twimg.com/images/themes/theme9/bg.gif', profile_background_image_url_https='https://abs.twimg.com/images/themes/theme9/bg.gif', profile_background_tile=True, profile_image_url='http://pbs.twimg.com/profile_images/549490779933011969/Xup0118q_normal.jpeg', profile_image_url_https='https://pbs.twimg.com/profile_images/549490779933011969/Xup0118q_normal.jpeg', profile_banner_url='https://pbs.twimg.com/profile_banners/123567701/1419843965', profile_link_color='3B94D9', profile_sidebar_border_color='000000', profile_sidebar_fill_color='742178', profile_text_color='333333', profile_use_background_image=True, has_extended_profile=False, default_profile=False, default_profile_image=False, following=False, live_following=False, follow_request_sent=False, notifications=False, muting=False, blocking=False, blocked_by=False, translator_type='none'), User(_api=<tweepy.api.API object at 0x000001AC24FF7898>, _json={'id': 66030014, 'id_str': '66030014', 'name': 'Rizka Farah', 'screen_name': 'rizkafaraah', 'location': 'Purworejo, Jawa tengah', 'description': 'Bismillah! || Memayu Hayuning Bawana, Ambrasta dur Hangkara || MG13 | @GEO04 | Public Administration 13', 'url': None, 'entities': {'description': {'urls': []}}, 'protected': False, 'followers_count': 539, 'friends_count': 988, 'listed_count': 1, 'created_at': 'Sun Aug 16 02:16:07 +0000 2009', 'favourites_count': 80, 'utc_offset': None, 'time_zone': None, 'geo_enabled': True, 'verified': False, 'statuses_count': 7071, 'lang': 'id', 'status': {'created_at': 'Fri Feb 16 16:04:05 +0000 2018', 'id': 964530835159359490, 'id_str': '964530835159359490', 'text': '@nicklodeeeoon Heleeeeh', 'truncated': False, 'entities': {'hashtags': [], 'symbols': [], 'user_mentions': [{'screen_name': 'nicklodeeeoon', 'name': 'Niken Soebrata', 'id': 185128695, 'id_str': '185128695', 'indices': [0, 14]}], 'urls': []}, 'source': '<a href=\"http://twitter.com/download/android\" rel=\"nofollow\">Twitter for Android</a>', 'in_reply_to_status_id': 964470617004101633, 'in_reply_to_status_id_str': '964470617004101633', 'in_reply_to_user_id': 185128695, 'in_reply_to_user_id_str': '185128695', 'in_reply_to_screen_name': 'nicklodeeeoon', 'geo': None, 'coordinates': None, 'place': None, 'contributors': None, 'is_quote_status': False, 'retweet_count': 0, 'favorite_count': 0, 'favorited': False, 'retweeted': False, 'lang': 'in'}, 'contributors_enabled': False, 'is_translator': False, 'is_translation_enabled': False, 'profile_background_color': '9AE4E8', 'profile_background_image_url': 'http://abs.twimg.com/images/themes/theme16/bg.gif', 'profile_background_image_url_https': 'https://abs.twimg.com/images/themes/theme16/bg.gif', 'profile_background_tile': True, 'profile_image_url': 'http://pbs.twimg.com/profile_images/435004631882547202/34XAPrih_normal.jpeg', 'profile_image_url_https': 'https://pbs.twimg.com/profile_images/435004631882547202/34XAPrih_normal.jpeg', 'profile_banner_url': 'https://pbs.twimg.com/profile_banners/66030014/1378747273', 'profile_link_color': '0084B4', 'profile_sidebar_border_color': 'FFFFFF', 'profile_sidebar_fill_color': 'DDFFCC', 'profile_text_color': '333333', 'profile_use_background_image': True, 'has_extended_profile': False, 'default_profile': False, 'default_profile_image': False, 'following': False, 'live_following': False, 'follow_request_sent': False, 'notifications': False, 'muting': False, 'blocking': False, 'blocked_by': False, 'translator_type': 'none'}, id=66030014, id_str='66030014', name='Rizka Farah', screen_name='rizkafaraah', location='Purworejo, Jawa tengah', description='Bismillah! || Memayu Hayuning Bawana, Ambrasta dur Hangkara || MG13 | @GEO04 | Public Administration 13', url=None, entities={'description': {'urls': []}}, protected=False, followers_count=539, friends_count=988, listed_count=1, created_at=datetime.datetime(2009, 8, 16, 2, 16, 7), favourites_count=80, utc_offset=None, time_zone=None, geo_enabled=True, verified=False, statuses_count=7071, lang='id', status=Status(_api=<tweepy.api.API object at 0x000001AC24FF7898>, _json={'created_at': 'Fri Feb 16 16:04:05 +0000 2018', 'id': 964530835159359490, 'id_str': '964530835159359490', 'text': '@nicklodeeeoon Heleeeeh', 'truncated': False, 'entities': {'hashtags': [], 'symbols': [], 'user_mentions': [{'screen_name': 'nicklodeeeoon', 'name': 'Niken Soebrata', 'id': 185128695, 'id_str': '185128695', 'indices': [0, 14]}], 'urls': []}, 'source': '<a href=\"http://twitter.com/download/android\" rel=\"nofollow\">Twitter for Android</a>', 'in_reply_to_status_id': 964470617004101633, 'in_reply_to_status_id_str': '964470617004101633', 'in_reply_to_user_id': 185128695, 'in_reply_to_user_id_str': '185128695', 'in_reply_to_screen_name': 'nicklodeeeoon', 'geo': None, 'coordinates': None, 'place': None, 'contributors': None, 'is_quote_status': False, 'retweet_count': 0, 'favorite_count': 0, 'favorited': False, 'retweeted': False, 'lang': 'in'}, created_at=datetime.datetime(2018, 2, 16, 16, 4, 5), id=964530835159359490, id_str='964530835159359490', text='@nicklodeeeoon Heleeeeh', truncated=False, entities={'hashtags': [], 'symbols': [], 'user_mentions': [{'screen_name': 'nicklodeeeoon', 'name': 'Niken Soebrata', 'id': 185128695, 'id_str': '185128695', 'indices': [0, 14]}], 'urls': []}, source='Twitter for Android', source_url='http://twitter.com/download/android', in_reply_to_status_id=964470617004101633, in_reply_to_status_id_str='964470617004101633', in_reply_to_user_id=185128695, in_reply_to_user_id_str='185128695', in_reply_to_screen_name='nicklodeeeoon', geo=None, coordinates=None, place=None, contributors=None, is_quote_status=False, retweet_count=0, favorite_count=0, favorited=False, retweeted=False, lang='in'), contributors_enabled=False, is_translator=False, is_translation_enabled=False, profile_background_color='9AE4E8', profile_background_image_url='http://abs.twimg.com/images/themes/theme16/bg.gif', profile_background_image_url_https='https://abs.twimg.com/images/themes/theme16/bg.gif', profile_background_tile=True, profile_image_url='http://pbs.twimg.com/profile_images/435004631882547202/34XAPrih_normal.jpeg', profile_image_url_https='https://pbs.twimg.com/profile_images/435004631882547202/34XAPrih_normal.jpeg', profile_banner_url='https://pbs.twimg.com/profile_banners/66030014/1378747273', profile_link_color='0084B4', profile_sidebar_border_color='FFFFFF', profile_sidebar_fill_color='DDFFCC', profile_text_color='333333', profile_use_background_image=True, has_extended_profile=False, default_profile=False, default_profile_image=False, following=False, live_following=False, follow_request_sent=False, notifications=False, muting=False, blocking=False, blocked_by=False, translator_type='none'), User(_api=<tweepy.api.API object at 0x000001AC24FF7898>, _json={'id': 70380353, 'id_str': '70380353', 'name': 'Rayyana A. Rosandi', 'screen_name': 'rayyanaatsalisa', 'location': 'pku-jog', 'description': \"Smansa | Manajemen UGM '13\", 'url': None, 'entities': {'description': {'urls': []}}, 'protected': False, 'followers_count': 629, 'friends_count': 545, 'listed_count': 0, 'created_at': 'Mon Aug 31 12:28:12 +0000 2009', 'favourites_count': 108, 'utc_offset': None, 'time_zone': None, 'geo_enabled': True, 'verified': False, 'statuses_count': 21060, 'lang': 'en', 'status': {'created_at': 'Sun May 20 05:01:12 +0000 2018', 'id': 998066085902471168, 'id_str': '998066085902471168', 'text': 'RT @itsposttmalone: sex is cool and all but have you ever had someone who makes you laugh when you’re mad', 'truncated': False, 'entities': {'hashtags': [], 'symbols': [], 'user_mentions': [{'screen_name': 'itsposttmalone', 'name': 'Post Malone', 'id': 34563249, 'id_str': '34563249', 'indices': [3, 18]}], 'urls': []}, 'source': '<a href=\"http://twitter.com/download/iphone\" rel=\"nofollow\">Twitter for iPhone</a>', 'in_reply_to_status_id': None, 'in_reply_to_status_id_str': None, 'in_reply_to_user_id': None, 'in_reply_to_user_id_str': None, 'in_reply_to_screen_name': None, 'geo': None, 'coordinates': None, 'place': None, 'contributors': None, 'retweeted_status': {'created_at': 'Mon May 07 03:42:49 +0000 2018', 'id': 993335316911079424, 'id_str': '993335316911079424', 'text': 'sex is cool and all but have you ever had someone who makes you laugh when you’re mad', 'truncated': False, 'entities': {'hashtags': [], 'symbols': [], 'user_mentions': [], 'urls': []}, 'source': '<a href=\"http://twitter.com/download/iphone\" rel=\"nofollow\">Twitter for iPhone</a>', 'in_reply_to_status_id': None, 'in_reply_to_status_id_str': None, 'in_reply_to_user_id': None, 'in_reply_to_user_id_str': None, 'in_reply_to_screen_name': None, 'geo': None, 'coordinates': None, 'place': None, 'contributors': None, 'is_quote_status': False, 'retweet_count': 23644, 'favorite_count': 59722, 'favorited': False, 'retweeted': False, 'lang': 'en'}, 'is_quote_status': False, 'retweet_count': 23644, 'favorite_count': 0, 'favorited': False, 'retweeted': False, 'lang': 'en'}, 'contributors_enabled': False, 'is_translator': False, 'is_translation_enabled': False, 'profile_background_color': 'BA6B32', 'profile_background_image_url': 'http://pbs.twimg.com/profile_background_images/301942795/26165_1239181151514_1588837050_30533530_7288505_na.jpg', 'profile_background_image_url_https': 'https://pbs.twimg.com/profile_background_images/301942795/26165_1239181151514_1588837050_30533530_7288505_na.jpg', 'profile_background_tile': True, 'profile_image_url': 'http://pbs.twimg.com/profile_images/461113427759353856/h6vjT5EJ_normal.jpeg', 'profile_image_url_https': 'https://pbs.twimg.com/profile_images/461113427759353856/h6vjT5EJ_normal.jpeg', 'profile_banner_url': 'https://pbs.twimg.com/profile_banners/70380353/1390835098', 'profile_link_color': 'D14339', 'profile_sidebar_border_color': '82571F', 'profile_sidebar_fill_color': 'F5F3EB', 'profile_text_color': 'F713F7', 'profile_use_background_image': True, 'has_extended_profile': False, 'default_profile': False, 'default_profile_image': False, 'following': False, 'live_following': False, 'follow_request_sent': False, 'notifications': False, 'muting': False, 'blocking': False, 'blocked_by': False, 'translator_type': 'none'}, id=70380353, id_str='70380353', name='Rayyana A. Rosandi', screen_name='rayyanaatsalisa', location='pku-jog', description=\"Smansa | Manajemen UGM '13\", url=None, entities={'description': {'urls': []}}, protected=False, followers_count=629, friends_count=545, listed_count=0, created_at=datetime.datetime(2009, 8, 31, 12, 28, 12), favourites_count=108, utc_offset=None, time_zone=None, geo_enabled=True, verified=False, statuses_count=21060, lang='en', status=Status(_api=<tweepy.api.API object at 0x000001AC24FF7898>, _json={'created_at': 'Sun May 20 05:01:12 +0000 2018', 'id': 998066085902471168, 'id_str': '998066085902471168', 'text': 'RT @itsposttmalone: sex is cool and all but have you ever had someone who makes you laugh when you’re mad', 'truncated': False, 'entities': {'hashtags': [], 'symbols': [], 'user_mentions': [{'screen_name': 'itsposttmalone', 'name': 'Post Malone', 'id': 34563249, 'id_str': '34563249', 'indices': [3, 18]}], 'urls': []}, 'source': '<a href=\"http://twitter.com/download/iphone\" rel=\"nofollow\">Twitter for iPhone</a>', 'in_reply_to_status_id': None, 'in_reply_to_status_id_str': None, 'in_reply_to_user_id': None, 'in_reply_to_user_id_str': None, 'in_reply_to_screen_name': None, 'geo': None, 'coordinates': None, 'place': None, 'contributors': None, 'retweeted_status': {'created_at': 'Mon May 07 03:42:49 +0000 2018', 'id': 993335316911079424, 'id_str': '993335316911079424', 'text': 'sex is cool and all but have you ever had someone who makes you laugh when you’re mad', 'truncated': False, 'entities': {'hashtags': [], 'symbols': [], 'user_mentions': [], 'urls': []}, 'source': '<a href=\"http://twitter.com/download/iphone\" rel=\"nofollow\">Twitter for iPhone</a>', 'in_reply_to_status_id': None, 'in_reply_to_status_id_str': None, 'in_reply_to_user_id': None, 'in_reply_to_user_id_str': None, 'in_reply_to_screen_name': None, 'geo': None, 'coordinates': None, 'place': None, 'contributors': None, 'is_quote_status': False, 'retweet_count': 23644, 'favorite_count': 59722, 'favorited': False, 'retweeted': False, 'lang': 'en'}, 'is_quote_status': False, 'retweet_count': 23644, 'favorite_count': 0, 'favorited': False, 'retweeted': False, 'lang': 'en'}, created_at=datetime.datetime(2018, 5, 20, 5, 1, 12), id=998066085902471168, id_str='998066085902471168', text='RT @itsposttmalone: sex is cool and all but have you ever had someone who makes you laugh when you’re mad', truncated=False, entities={'hashtags': [], 'symbols': [], 'user_mentions': [{'screen_name': 'itsposttmalone', 'name': 'Post Malone', 'id': 34563249, 'id_str': '34563249', 'indices': [3, 18]}], 'urls': []}, source='Twitter for iPhone', source_url='http://twitter.com/download/iphone', in_reply_to_status_id=None, in_reply_to_status_id_str=None, in_reply_to_user_id=None, in_reply_to_user_id_str=None, in_reply_to_screen_name=None, geo=None, coordinates=None, place=None, contributors=None, retweeted_status=Status(_api=<tweepy.api.API object at 0x000001AC24FF7898>, _json={'created_at': 'Mon May 07 03:42:49 +0000 2018', 'id': 993335316911079424, 'id_str': '993335316911079424', 'text': 'sex is cool and all but have you ever had someone who makes you laugh when you’re mad', 'truncated': False, 'entities': {'hashtags': [], 'symbols': [], 'user_mentions': [], 'urls': []}, 'source': '<a href=\"http://twitter.com/download/iphone\" rel=\"nofollow\">Twitter for iPhone</a>', 'in_reply_to_status_id': None, 'in_reply_to_status_id_str': None, 'in_reply_to_user_id': None, 'in_reply_to_user_id_str': None, 'in_reply_to_screen_name': None, 'geo': None, 'coordinates': None, 'place': None, 'contributors': None, 'is_quote_status': False, 'retweet_count': 23644, 'favorite_count': 59722, 'favorited': False, 'retweeted': False, 'lang': 'en'}, created_at=datetime.datetime(2018, 5, 7, 3, 42, 49), id=993335316911079424, id_str='993335316911079424', text='sex is cool and all but have you ever had someone who makes you laugh when you’re mad', truncated=False, entities={'hashtags': [], 'symbols': [], 'user_mentions': [], 'urls': []}, source='Twitter for iPhone', source_url='http://twitter.com/download/iphone', in_reply_to_status_id=None, in_reply_to_status_id_str=None, in_reply_to_user_id=None, in_reply_to_user_id_str=None, in_reply_to_screen_name=None, geo=None, coordinates=None, place=None, contributors=None, is_quote_status=False, retweet_count=23644, favorite_count=59722, favorited=False, retweeted=False, lang='en'), is_quote_status=False, retweet_count=23644, favorite_count=0, favorited=False, retweeted=False, lang='en'), contributors_enabled=False, is_translator=False, is_translation_enabled=False, profile_background_color='BA6B32', profile_background_image_url='http://pbs.twimg.com/profile_background_images/301942795/26165_1239181151514_1588837050_30533530_7288505_na.jpg', profile_background_image_url_https='https://pbs.twimg.com/profile_background_images/301942795/26165_1239181151514_1588837050_30533530_7288505_na.jpg', profile_background_tile=True, profile_image_url='http://pbs.twimg.com/profile_images/461113427759353856/h6vjT5EJ_normal.jpeg', profile_image_url_https='https://pbs.twimg.com/profile_images/461113427759353856/h6vjT5EJ_normal.jpeg', profile_banner_url='https://pbs.twimg.com/profile_banners/70380353/1390835098', profile_link_color='D14339', profile_sidebar_border_color='82571F', profile_sidebar_fill_color='F5F3EB', profile_text_color='F713F7', profile_use_background_image=True, has_extended_profile=False, default_profile=False, default_profile_image=False, following=False, live_following=False, follow_request_sent=False, notifications=False, muting=False, blocking=False, blocked_by=False, translator_type='none'), User(_api=<tweepy.api.API object at 0x000001AC24FF7898>, _json={'id': 274457943, 'id_str': '274457943', 'name': 'Andri Purwanti', 'screen_name': 'andri_prw', 'location': '', 'description': \"사랑해 슈퍼주니어~| Heavy Equipment UGM '13 | Study hard, play hard\", 'url': None, 'entities': {'description': {'urls': []}}, 'protected': False, 'followers_count': 228, 'friends_count': 511, 'listed_count': 1, 'created_at': 'Wed Mar 30 10:14:06 +0000 2011', 'favourites_count': 503, 'utc_offset': None, 'time_zone': None, 'geo_enabled': True, 'verified': False, 'statuses_count': 5643, 'lang': 'id', 'status': {'created_at': 'Thu Jul 06 13:09:22 +0000 2017', 'id': 882949596342763524, 'id_str': '882949596342763524', 'text': 'ini akun udah bersarang laba-laba ternyata... haaaiii haaaiiii', 'truncated': False, 'entities': {'hashtags': [], 'symbols': [], 'user_mentions': [], 'urls': []}, 'source': '<a href=\"http://twitter.com\" rel=\"nofollow\">Twitter Web Client</a>', 'in_reply_to_status_id': None, 'in_reply_to_status_id_str': None, 'in_reply_to_user_id': None, 'in_reply_to_user_id_str': None, 'in_reply_to_screen_name': None, 'geo': None, 'coordinates': None, 'place': None, 'contributors': None, 'is_quote_status': False, 'retweet_count': 0, 'favorite_count': 0, 'favorited': False, 'retweeted': False, 'lang': 'in'}, 'contributors_enabled': False, 'is_translator': False, 'is_translation_enabled': False, 'profile_background_color': 'C0DEED', 'profile_background_image_url': 'http://abs.twimg.com/images/themes/theme1/bg.png', 'profile_background_image_url_https': 'https://abs.twimg.com/images/themes/theme1/bg.png', 'profile_background_tile': True, 'profile_image_url': 'http://pbs.twimg.com/profile_images/900983550434041857/6Vn5NM95_normal.jpg', 'profile_image_url_https': 'https://pbs.twimg.com/profile_images/900983550434041857/6Vn5NM95_normal.jpg', 'profile_banner_url': 'https://pbs.twimg.com/profile_banners/274457943/1393769716', 'profile_link_color': '0084B4', 'profile_sidebar_border_color': 'FFFFFF', 'profile_sidebar_fill_color': 'DDEEF6', 'profile_text_color': '333333', 'profile_use_background_image': True, 'has_extended_profile': False, 'default_profile': False, 'default_profile_image': False, 'following': False, 'live_following': False, 'follow_request_sent': False, 'notifications': False, 'muting': False, 'blocking': False, 'blocked_by': False, 'translator_type': 'none'}, id=274457943, id_str='274457943', name='Andri Purwanti', screen_name='andri_prw', location='', description=\"사랑해 슈퍼주니어~| Heavy Equipment UGM '13 | Study hard, play hard\", url=None, entities={'description': {'urls': []}}, protected=False, followers_count=228, friends_count=511, listed_count=1, created_at=datetime.datetime(2011, 3, 30, 10, 14, 6), favourites_count=503, utc_offset=None, time_zone=None, geo_enabled=True, verified=False, statuses_count=5643, lang='id', status=Status(_api=<tweepy.api.API object at 0x000001AC24FF7898>, _json={'created_at': 'Thu Jul 06 13:09:22 +0000 2017', 'id': 882949596342763524, 'id_str': '882949596342763524', 'text': 'ini akun udah bersarang laba-laba ternyata... haaaiii haaaiiii', 'truncated': False, 'entities': {'hashtags': [], 'symbols': [], 'user_mentions': [], 'urls': []}, 'source': '<a href=\"http://twitter.com\" rel=\"nofollow\">Twitter Web Client</a>', 'in_reply_to_status_id': None, 'in_reply_to_status_id_str': None, 'in_reply_to_user_id': None, 'in_reply_to_user_id_str': None, 'in_reply_to_screen_name': None, 'geo': None, 'coordinates': None, 'place': None, 'contributors': None, 'is_quote_status': False, 'retweet_count': 0, 'favorite_count': 0, 'favorited': False, 'retweeted': False, 'lang': 'in'}, created_at=datetime.datetime(2017, 7, 6, 13, 9, 22), id=882949596342763524, id_str='882949596342763524', text='ini akun udah bersarang laba-laba ternyata... haaaiii haaaiiii', truncated=False, entities={'hashtags': [], 'symbols': [], 'user_mentions': [], 'urls': []}, source='Twitter Web Client', source_url='http://twitter.com', in_reply_to_status_id=None, in_reply_to_status_id_str=None, in_reply_to_user_id=None, in_reply_to_user_id_str=None, in_reply_to_screen_name=None, geo=None, coordinates=None, place=None, contributors=None, is_quote_status=False, retweet_count=0, favorite_count=0, favorited=False, retweeted=False, lang='in'), contributors_enabled=False, is_translator=False, is_translation_enabled=False, profile_background_color='C0DEED', profile_background_image_url='http://abs.twimg.com/images/themes/theme1/bg.png', profile_background_image_url_https='https://abs.twimg.com/images/themes/theme1/bg.png', profile_background_tile=True, profile_image_url='http://pbs.twimg.com/profile_images/900983550434041857/6Vn5NM95_normal.jpg', profile_image_url_https='https://pbs.twimg.com/profile_images/900983550434041857/6Vn5NM95_normal.jpg', profile_banner_url='https://pbs.twimg.com/profile_banners/274457943/1393769716', profile_link_color='0084B4', profile_sidebar_border_color='FFFFFF', profile_sidebar_fill_color='DDEEF6', profile_text_color='333333', profile_use_background_image=True, has_extended_profile=False, default_profile=False, default_profile_image=False, following=False, live_following=False, follow_request_sent=False, notifications=False, muting=False, blocking=False, blocked_by=False, translator_type='none'), User(_api=<tweepy.api.API object at 0x000001AC24FF7898>, _json={'id': 102335258, 'id_str': '102335258', 'name': 'ridho dpaa', 'screen_name': 'RiidhoDpaa', 'location': 'rumah', 'description': '74368F30', 'url': None, 'entities': {'description': {'urls': []}}, 'protected': False, 'followers_count': 212, 'friends_count': 142, 'listed_count': 0, 'created_at': 'Wed Jan 06 10:33:46 +0000 2010', 'favourites_count': 197, 'utc_offset': None, 'time_zone': None, 'geo_enabled': True, 'verified': False, 'statuses_count': 7877, 'lang': 'en', 'status': {'created_at': 'Tue May 15 17:28:27 +0000 2018', 'id': 996442196265054209, 'id_str': '996442196265054209', 'text': 'one person unfollowed me // automatically checked by https://t.co/x1h9Gh7mL2', 'truncated': False, 'entities': {'hashtags': [], 'symbols': [], 'user_mentions': [], 'urls': [{'url': 'https://t.co/x1h9Gh7mL2', 'expanded_url': 'http://fllwrs.com', 'display_url': 'fllwrs.com', 'indices': [53, 76]}]}, 'source': '<a href=\"http://fllwrs.com\" rel=\"nofollow\">fllwrs</a>', 'in_reply_to_status_id': None, 'in_reply_to_status_id_str': None, 'in_reply_to_user_id': None, 'in_reply_to_user_id_str': None, 'in_reply_to_screen_name': None, 'geo': None, 'coordinates': None, 'place': None, 'contributors': None, 'is_quote_status': False, 'retweet_count': 0, 'favorite_count': 0, 'favorited': False, 'retweeted': False, 'possibly_sensitive': False, 'lang': 'en'}, 'contributors_enabled': False, 'is_translator': False, 'is_translation_enabled': False, 'profile_background_color': '000000', 'profile_background_image_url': 'http://abs.twimg.com/images/themes/theme1/bg.png', 'profile_background_image_url_https': 'https://abs.twimg.com/images/themes/theme1/bg.png', 'profile_background_tile': True, 'profile_image_url': 'http://pbs.twimg.com/profile_images/462877034062950400/5-noGmtH_normal.jpeg', 'profile_image_url_https': 'https://pbs.twimg.com/profile_images/462877034062950400/5-noGmtH_normal.jpeg', 'profile_banner_url': 'https://pbs.twimg.com/profile_banners/102335258/1363797109', 'profile_link_color': 'FF000D', 'profile_sidebar_border_color': 'FFFFFF', 'profile_sidebar_fill_color': 'FFFFFF', 'profile_text_color': '333333', 'profile_use_background_image': True, 'has_extended_profile': False, 'default_profile': False, 'default_profile_image': False, 'following': False, 'live_following': False, 'follow_request_sent': False, 'notifications': False, 'muting': False, 'blocking': False, 'blocked_by': False, 'translator_type': 'none'}, id=102335258, id_str='102335258', name='ridho dpaa', screen_name='RiidhoDpaa', location='rumah', description='74368F30', url=None, entities={'description': {'urls': []}}, protected=False, followers_count=212, friends_count=142, listed_count=0, created_at=datetime.datetime(2010, 1, 6, 10, 33, 46), favourites_count=197, utc_offset=None, time_zone=None, geo_enabled=True, verified=False, statuses_count=7877, lang='en', status=Status(_api=<tweepy.api.API object at 0x000001AC24FF7898>, _json={'created_at': 'Tue May 15 17:28:27 +0000 2018', 'id': 996442196265054209, 'id_str': '996442196265054209', 'text': 'one person unfollowed me // automatically checked by https://t.co/x1h9Gh7mL2', 'truncated': False, 'entities': {'hashtags': [], 'symbols': [], 'user_mentions': [], 'urls': [{'url': 'https://t.co/x1h9Gh7mL2', 'expanded_url': 'http://fllwrs.com', 'display_url': 'fllwrs.com', 'indices': [53, 76]}]}, 'source': '<a href=\"http://fllwrs.com\" rel=\"nofollow\">fllwrs</a>', 'in_reply_to_status_id': None, 'in_reply_to_status_id_str': None, 'in_reply_to_user_id': None, 'in_reply_to_user_id_str': None, 'in_reply_to_screen_name': None, 'geo': None, 'coordinates': None, 'place': None, 'contributors': None, 'is_quote_status': False, 'retweet_count': 0, 'favorite_count': 0, 'favorited': False, 'retweeted': False, 'possibly_sensitive': False, 'lang': 'en'}, created_at=datetime.datetime(2018, 5, 15, 17, 28, 27), id=996442196265054209, id_str='996442196265054209', text='one person unfollowed me // automatically checked by https://t.co/x1h9Gh7mL2', truncated=False, entities={'hashtags': [], 'symbols': [], 'user_mentions': [], 'urls': [{'url': 'https://t.co/x1h9Gh7mL2', 'expanded_url': 'http://fllwrs.com', 'display_url': 'fllwrs.com', 'indices': [53, 76]}]}, source='fllwrs', source_url='http://fllwrs.com', in_reply_to_status_id=None, in_reply_to_status_id_str=None, in_reply_to_user_id=None, in_reply_to_user_id_str=None, in_reply_to_screen_name=None, geo=None, coordinates=None, place=None, contributors=None, is_quote_status=False, retweet_count=0, favorite_count=0, favorited=False, retweeted=False, possibly_sensitive=False, lang='en'), contributors_enabled=False, is_translator=False, is_translation_enabled=False, profile_background_color='000000', profile_background_image_url='http://abs.twimg.com/images/themes/theme1/bg.png', profile_background_image_url_https='https://abs.twimg.com/images/themes/theme1/bg.png', profile_background_tile=True, profile_image_url='http://pbs.twimg.com/profile_images/462877034062950400/5-noGmtH_normal.jpeg', profile_image_url_https='https://pbs.twimg.com/profile_images/462877034062950400/5-noGmtH_normal.jpeg', profile_banner_url='https://pbs.twimg.com/profile_banners/102335258/1363797109', profile_link_color='FF000D', profile_sidebar_border_color='FFFFFF', profile_sidebar_fill_color='FFFFFF', profile_text_color='333333', profile_use_background_image=True, has_extended_profile=False, default_profile=False, default_profile_image=False, following=False, live_following=False, follow_request_sent=False, notifications=False, muting=False, blocking=False, blocked_by=False, translator_type='none')]\n"
     ]
    }
   ],
   "source": [
    "print(fiveFollowers)"
   ]
  },
  {
   "cell_type": "code",
   "execution_count": 19,
   "metadata": {
    "scrolled": true
   },
   "outputs": [
    {
     "name": "stdout",
     "output_type": "stream",
     "text": [
      "@rizkafaraah :@nicklodeeeoon Heleeeeh\n",
      "@rizkafaraah :Cie gituu https://t.co/0q8uY76x86\n",
      "@rizkafaraah :RT @Kemenpar_RI: Malam sobat wisata... Yuk download E-Magazine Kemenpar Edisi ke-3 \"Signature of Indonesia\" di https://t.co/9RJKyiVUBr\n",
      "\n",
      "#Em…\n",
      "@rizkafaraah :@meilianadia sakit apa kamu e\n",
      "@rizkafaraah :@dianputtri sama :((\n",
      "@rizkafaraah :RT @MataNajwa: Seperti apa debat kandidat di #MataNajwa? Mlm ini, Mata Najwa Eksklusif Babak Final Pilkada Jakarta,19.30 WIB-21.30 WIB di @…\n",
      "@rizkafaraah :@meilianadia wah ini ni\n",
      "@rizkafaraah :RT @infobudaya: Catatan: \"Batik Rekayasa Komputer dikenalkan pada Kaum Muda\" - https://t.co/i1rUEywb8r\n",
      "@rizkafaraah :RT @KemenBUMN: Terimakasih tak terhingga atas doa seluruh bangsa Indonesia, sehingga Satelit #Telkom3S meluncur dg sukses. 👏🙏🙏🙏 #JelajahAng…\n",
      "@rizkafaraah :@IndonesiaGaruda selamat siang, mau tanya apakah garuda membuka program magang untuk mahasiswa? Kalau iya, lalu bagaimana mekanismenya? Tks\n",
      "@rizkafaraah :RT @ceosforbumn: Ayo hadir dan berkontribusi, serta kerahkan pemikiran untuk BUMN Indonesia.\n",
      "@KemenBUMN @ForHumBUMN @BumnInsight https://t.…\n",
      "@rizkafaraah :RT @ceosforbumn: Tim Sektor Infrastruktur Bidang Kajian CEOS For BUMN mmprsembahkn: \"Kajian Proyek Penghubung Nusantara\".\n",
      "@KemenBUMN https:…\n",
      "@rizkafaraah :RT @triyogaasaella: Wow, di dalam buku pram ini, bumi manusia, disebutkan mengenai Purworejo, yang katanya orangnya tenang~\n",
      "@rizkafaraah :RT @ACTforHumanity: \"...dan kamu membuang gangguan dari jalan adalah sedekah.” (HR Bukhori &amp; Muslim)\n",
      "\n",
      "#SaveHumanity https://t.co/013P2qhe2j\n",
      "@rizkafaraah :RT @efenerr: [New Blogpost] Jakarta Akan Baik-baik Saja #JakartaKuat #IndonesiaWorthIt… https://t.co/tryvCcgQzd https://t.co/HbjqZBbwFt\n",
      "@rizkafaraah :RT @Humas_Kemenpar: Indonesia is a big &amp; strong nation, we'll not be conquered by fear, and our beauty remains the same. #KamiTidakTakut\n",
      "@rizkafaraah :RT @marinebuddies: Simak: Kelautan Setelah Ada UU Pemerintah Daerah https://t.co/m3a4sBHukz (transformasi_id) https://t.co/BFOmOovh0a\n",
      "@rizkafaraah :RT @official_BPJ: Stop telling negativity\n",
      "Everything will be OK\n",
      "#IndonesiaWorthIt #KamiTidakTakut https://t.co/gJVboVt6CS\n",
      "@rizkafaraah :RT @triyogaasaella: #KamiTidakTakut\n",
      "@rizkafaraah :RT @atiqahhasiholan: #kamitidaktakut https://t.co/lliy0h9gyZ\n",
      "@rayyanaatsalisa :RT @itsposttmalone: sex is cool and all but have you ever had someone who makes you laugh when you’re mad\n",
      "@rayyanaatsalisa :RT @sisifus_: Pernah gak kamu suatu waktu pengen ngetweet, tiba-tiba mengurungkan niat itu? Gak papa. Itu bagus. Itu tandanya kamu mulai me…\n",
      "@rayyanaatsalisa :@dzaknau :((\n",
      "@rayyanaatsalisa :@yohanameliaa ahhahaha kan kaaan. malas lah main twitter lg wkwkwk\n",
      "@rayyanaatsalisa :moderate depression 🤕💔 https://t.co/CWa3ViSEzg\n",
      "@rayyanaatsalisa :@elsyaaudita beneran lahh. kalo aku balik ntar main makeup”an yaak hahah\n",
      "@rayyanaatsalisa :lg nyari kos dan lg mood ansos. cari yg jauh dr peredaran aja kali yaaa\n",
      "@rayyanaatsalisa :@elsyaaudita ajarin doongg bikin aliiss 😍\n",
      "@rayyanaatsalisa :@AnugrahMaulia olooloooo\n",
      "@rayyanaatsalisa :@silleoken makasi kaakk 💜\n",
      "@rayyanaatsalisa :@silleoken quarter life crysis hit me pretty hard wkwk\n",
      "@rayyanaatsalisa :sesedih ini ternyata\n",
      "@rayyanaatsalisa :midnight thoughts\n",
      "@rayyanaatsalisa :RT @FiersaBesari: Diam tidak pernah menjadi emas ketika dirimu ditindas\n",
      "@rayyanaatsalisa :sakitnyaa 🤕🤕\n",
      "@rayyanaatsalisa :RT @FikriAlfandy: PJ lawan Stapac sepi. besok orang UN\n",
      "@rayyanaatsalisa :@FikriAlfandy aku tauu ni kau liat ig siapa. yaudah besok kabarin kalo nikah ya fik.wkwk\n",
      "@rayyanaatsalisa :RT @FiersaBesari: Aku sadar, aku pemeran pengganti. Tak pernah benar-benar di hati. Biarlah, biar aku bertahan. Mungkin esok rasamu sungguh…\n",
      "@rayyanaatsalisa :RT @Leo_Tweets: #Leo's have a sharp tongue when hurt or pissed.\n",
      "@rayyanaatsalisa :RT @Leo_Tweets: #Leo's who are in relationships usually wont cheat. Because they would've never got into a relationship if they weren't ser…\n",
      "@andri_prw :ini akun udah bersarang laba-laba ternyata... haaaiii haaaiiii\n",
      "@andri_prw :What you doing to me? You're taking him where we used to go. Now if you're trying to break my… https://t.co/pIHXjKZqvq\n",
      "@andri_prw :Berasa ketemu teman sebaya yaaa... Ternyata saya masih cocok jadi anak SD 😁😁 https://t.co/iSxzDHjR2O\n",
      "@andri_prw :Selamat Hari Sumpah Pemuda\n",
      "\n",
      "Saya bangga menjadi pemuda Indonesia, akan kujunjung selalu jiwa… https://t.co/nM8otCYBiS\n",
      "@andri_prw :Selamat pagi yang masih nemplok di kasur ato cuma main gadget doang 🙋\n",
      "\n",
      "Main keluar gih, kali ini… https://t.co/OYhbzrZI3z\n",
      "@andri_prw :Kena razia 😪 (at @masterpiece_jog) — https://t.co/15YwrrRVlB\n",
      "@andri_prw :Happy birthday my soulmate ana_marlina1412 😚😚😚\n",
      "\n",
      "Lets graduation together as soon as possible,… https://t.co/qK6VYBdMAW\n",
      "@andri_prw :Miss you soooo bad my roomates 😭😭😭\n",
      "\n",
      "Kangen diteriakin kalo kelamaan mandi, kangen pada nungguin… https://t.co/9nEgbAAN3g\n",
      "@andri_prw :Tua tapi kelakuan kebangetan anak kecil.\n",
      "Muda tapi kelakuan orang dewasa. https://t.co/QsJ9wzqabH\n",
      "@andri_prw :Let me in..... In the dark of night https://t.co/lvps0CCKOd\n",
      "@andri_prw :Cultural night 👘\n",
      "\n",
      "The unforgetable night, and I already missing you guys\n",
      "\n",
      "#culturalnight #japan… https://t.co/IAx10tsE72\n",
      "@andri_prw :Thanks derugoh for coming Jogjaaaa hope you will come to Jogja again boss 😝 https://t.co/sJLUzhOYps\n",
      "@andri_prw :When weekend comes, feel the vibes....\n",
      "\n",
      "Lay me down\n",
      "\n",
      "#happyweekend #happysunday #sundaymorning… https://t.co/EUTzrOzGGq\n",
      "@andri_prw :Do some jobs.\n",
      "\n",
      "Be nice.\n",
      "\n",
      "Complete. https://t.co/NYJkQtlvnZ\n",
      "@andri_prw :I'm still alive, wild, and young! (at Legend Premium Coffee) — https://t.co/WM3JWtwOoc\n",
      "@andri_prw :Tengkyuuuuu primassanjaya 😙😙😙😙\n",
      "\n",
      "#masihulangtahun #instagood #pendakiindonesia #slametmountain https://t.co/D0SnLpYiEk\n",
      "@andri_prw :Lemesin ajaaa gausah tegang yeee 😁😁 ♫ I Took a Pill in Ibiza by Mike Posner — https://t.co/2cHVm8XhRl\n",
      "@andri_prw :Tanpa lilin. Tanpa ucapan manis. Tanpa kekasih. Hanya doa-doa indah dari keluarga dan… https://t.co/Z4d5qhnoyz\n",
      "@andri_prw :Ketauan mahasiswa tua (with Rinaldy and Rofie) [pic] — https://t.co/0fuSMvCVzq\n",
      "@andri_prw :Masih mikir kalo jurusan teknik mesin cuma kepunyaan gender pria? Salah besar booosss 😛\n",
      "\n",
      "Salam… https://t.co/4Lnyf8PQ2w\n",
      "@RiidhoDpaa :one person unfollowed me // automatically checked by https://t.co/x1h9Gh7mL2\n",
      "@RiidhoDpaa :one person followed me // automatically checked by https://t.co/x1h9Gh7mL2\n",
      "@RiidhoDpaa :one person unfollowed me // automatically checked by https://t.co/x1h9Gh7mL2\n",
      "@RiidhoDpaa :@Triasop nyamuknya sembuh kaka , kalo di kasih obat\n",
      "@RiidhoDpaa :@MyRepublicID \n",
      "ridho\n",
      "1037569\n",
      "gangguan: tidak connect internet . mohon di cek kenapa. apakah karena pembayaran telat 1 hari jatuh tempo?\n",
      "@RiidhoDpaa :one person unfollowed me // automatically checked by https://t.co/x1h9Gh7mL2\n",
      "@RiidhoDpaa :@MyRepublicID id: 1037569 . ini kenapa kalo lg pake wifi selalu stuck buka gmail di browser hp maupun laptop. saya… https://t.co/IhDbAFXPSj\n",
      "@RiidhoDpaa :one person unfollowed me // automatically checked by https://t.co/x1h9Gh7mL2\n",
      "@RiidhoDpaa :one person unfollowed me // automatically checked by https://t.co/x1h9Gh7mL2\n",
      "@RiidhoDpaa :one person unfollowed me // automatically checked by https://t.co/x1h9Gh7mL2\n",
      "@RiidhoDpaa :@MyRepublicID sudah. tp tetap sama aja. speed test 0,7 mbps\n",
      "@RiidhoDpaa :@MyRepublicID \n",
      "nama: Ridho Dwi P\n",
      "Id: 1037569\n",
      "gangguan : chat pending terus, browsing \"unable to connect internet\"\n",
      "@RiidhoDpaa :one person followed me // automatically checked by https://t.co/x1h9Gh7mL2\n",
      "@RiidhoDpaa :one person followed me // automatically checked by https://t.co/x1h9Gh7mL2\n",
      "@RiidhoDpaa :one person unfollowed me // automatically checked by https://t.co/x1h9Gh7mL2\n",
      "@RiidhoDpaa :one person followed me // automatically checked by https://t.co/x1h9Gh7mL2\n",
      "@RiidhoDpaa :one person unfollowed me // automatically checked by https://t.co/x1h9Gh7mL2\n",
      "@RiidhoDpaa :one person followed me // automatically checked by https://t.co/x1h9Gh7mL2\n",
      "@RiidhoDpaa :@myXL kalo lg pake wifi. sinyal 4g setngah full. tp stiap wifi off sinyalnya sllu no service.\n",
      "@RiidhoDpaa :@ErafoneStore flash sale tgl 11 nov. \n",
      "1. harman kardon klik beli stok lsg habis\n",
      "2. xiaomi in piston 3 klik beli \"40… https://t.co/Cq0b5ncqdc\n",
      "@ikaksmwt :Nyobain yang katanya selalu rame 😁 (with Erni, Ojat, and 3 others at Pondok bakso dua dara) — https://t.co/tuD8TFZ6v6\n",
      "@ikaksmwt :Nunggu hujan reda 😄 (at Kedai Tono) — https://t.co/ED8H7cvrp8\n",
      "@ikaksmwt :Kalian lagi 😘 https://t.co/RMrfmNVMdG\n",
      "@ikaksmwt :We Don’t Talk Anymore (feat. Selena Gomez) by Charlie Puth — https://t.co/KMxhGf1w6O\n",
      "@ikaksmwt :Semoga di lancarkan sampai hari H  😍😘🎉 (with Dyah, Teguh, and 3 others) [pic] — https://t.co/mjk7eW8188\n",
      "@ikaksmwt :Manfaatkan liburan walau sehari 😁😄 [pic] — https://t.co/5bEktuCPGm\n",
      "@ikaksmwt :Jarang\" bisa main beginian 😄 [pic] — https://t.co/MvsJbDJyPQ\n",
      "@ikaksmwt :Akhirnya lengkap juga 😘 (with Teguh, Astri, and 2 others at WARUNK UPNORMAL) [pic] — https://t.co/bD51hWRvyk\n",
      "@ikaksmwt :Work (feat. Drake) by @rihanna — https://t.co/FVMiMEAb1k\n",
      "@ikaksmwt :Cuma ini yang bisa dijadiin referensi buat makan siang. (at Resto Pojok Rasa) — https://t.co/ybJs0gwJ88\n",
      "@ikaksmwt :😘😍 [pic] — https://t.co/GbYA5RhTnd\n",
      "@ikaksmwt :Malaikat Juga Tahu by Dewi Lestari — https://t.co/rcQsFE9agw\n",
      "@ikaksmwt :😊😄😁 [pic] — https://t.co/SypuBjjpDn\n",
      "@ikaksmwt :Biasanya tiap pagi dibanguninnya sama bocah ini . Sekarang yang bangunin alarm 😄 [pic] — https://t.co/K2Igd6PaOu\n",
      "@ikaksmwt :Balik lagi ke negeri antabranta ☹ (at Rest Area KM 57) — https://t.co/w7hslVgkjZ\n",
      "@ikaksmwt :#pathdaily [pic] — https://t.co/9fXXdQyuiR\n",
      "@ikaksmwt :Saturday night ...\n",
      "#latepost [pic] — https://t.co/Si7Ch07XCn\n",
      "@ikaksmwt :RT @Septia_NF: @168SolutionPT tinggal tekan hurufnya muncul dilayar,bt/nonton video,bs internetan,maingames #168BagiTHR #bendaajaib https:/…\n",
      "@ikaksmwt :Just posted a photo https://t.co/eUsfq5qalP\n",
      "@ikaksmwt :Meet up (with Agung, Teguh, and 2 others) [pic] — https://t.co/2kAFURlFXy\n"
     ]
    }
   ],
   "source": [
    "### Fill the code ###\n",
    "# get tweets from Astra Followers\n",
    "for f in fiveFollowers:\n",
    "    try:\n",
    "        userTL = api.user_timeline(f.screen_name)\n",
    "        for tweet in userTL:\n",
    "            print('@'+f.screen_name+' :'+tweet.text)\n",
    "    except:\n",
    "        print('Error detected')"
   ]
  },
  {
   "cell_type": "markdown",
   "metadata": {},
   "source": [
    "# Task 2"
   ]
  },
  {
   "cell_type": "code",
   "execution_count": 62,
   "metadata": {},
   "outputs": [],
   "source": [
    "### Fill the code ###\n",
    "# Get latest tweet\n",
    "\n",
    "astraTweet = api.user_timeline(account)"
   ]
  },
  {
   "cell_type": "code",
   "execution_count": 63,
   "metadata": {},
   "outputs": [],
   "source": [
    "### Fill the code ###\n",
    "\n",
    "tweetId = None\n",
    "for t in astraTweet:\n",
    "    # Check if have retwet\n",
    "    if t.retweet_count > 0: # Fill the conditional\n",
    "        # assign to tweetId\n",
    "        tweetId = t.id\n",
    "        break # only use the first tweet that has retweet\n",
    "    else:\n",
    "        continue"
   ]
  },
  {
   "cell_type": "code",
   "execution_count": 64,
   "metadata": {},
   "outputs": [
    {
     "name": "stdout",
     "output_type": "stream",
     "text": [
      "996028529362923520\n"
     ]
    }
   ],
   "source": [
    "print(tweetId)\n",
    "# api.get_status(915885913221165056)"
   ]
  },
  {
   "cell_type": "code",
   "execution_count": 65,
   "metadata": {},
   "outputs": [],
   "source": [
    "### Fill the code ###\n",
    "\n",
    "# Get the retweet of original tweet\n",
    "retweets = api.retweeters(tweetId)"
   ]
  },
  {
   "cell_type": "code",
   "execution_count": 66,
   "metadata": {},
   "outputs": [],
   "source": [
    "### Fill the code ###\n",
    "threeUsers = []\n",
    "\n",
    "# get the user from the retweet\n",
    "for i in retweets:\n",
    "    threeUsers.append(api.get_user(i))"
   ]
  },
  {
   "cell_type": "code",
   "execution_count": 48,
   "metadata": {},
   "outputs": [
    {
     "name": "stdout",
     "output_type": "stream",
     "text": [
      "[User(_api=<tweepy.api.API object at 0x000001AC2362AF60>, _json={'id': 3521646493, 'id_str': '3521646493', 'name': 'Ari Kosasih', 'screen_name': 'ariarkos', 'location': '', 'profile_location': None, 'description': 'SMANDA14 | Teknik Industri', 'url': None, 'entities': {'description': {'urls': []}}, 'protected': False, 'followers_count': 21, 'friends_count': 274, 'listed_count': 0, 'created_at': 'Fri Sep 11 01:46:00 +0000 2015', 'favourites_count': 50, 'utc_offset': None, 'time_zone': None, 'geo_enabled': False, 'verified': False, 'statuses_count': 75, 'lang': 'id', 'status': {'created_at': 'Thu May 24 04:14:53 +0000 2018', 'id': 999503981276680192, 'id_str': '999503981276680192', 'text': '@G_fron @asmurcom @Strategi_Bisnis Mending jangan kerja sekalian, biar nyesel juga kenapa kuliahnya cuman maen2 aja… https://t.co/mvffJmyl3j', 'truncated': True, 'entities': {'hashtags': [], 'symbols': [], 'user_mentions': [{'screen_name': 'G_fron', 'name': \"Cowo'nya Maudya\", 'id': 94020415, 'id_str': '94020415', 'indices': [0, 7]}, {'screen_name': 'asmurcom', 'name': 'asuransimurni.com', 'id': 954188384989200384, 'id_str': '954188384989200384', 'indices': [8, 17]}, {'screen_name': 'Strategi_Bisnis', 'name': 'strategi + bisnis', 'id': 190535830, 'id_str': '190535830', 'indices': [18, 34]}], 'urls': [{'url': 'https://t.co/mvffJmyl3j', 'expanded_url': 'https://twitter.com/i/web/status/999503981276680192', 'display_url': 'twitter.com/i/web/status/9…', 'indices': [117, 140]}]}, 'source': '<a href=\"http://twitter.com/download/android\" rel=\"nofollow\">Twitter for Android</a>', 'in_reply_to_status_id': 999250952069595136, 'in_reply_to_status_id_str': '999250952069595136', 'in_reply_to_user_id': 94020415, 'in_reply_to_user_id_str': '94020415', 'in_reply_to_screen_name': 'G_fron', 'geo': None, 'coordinates': None, 'place': None, 'contributors': None, 'is_quote_status': False, 'retweet_count': 0, 'favorite_count': 0, 'favorited': False, 'retweeted': False, 'lang': 'in'}, 'contributors_enabled': False, 'is_translator': False, 'is_translation_enabled': False, 'profile_background_color': 'C0DEED', 'profile_background_image_url': 'http://abs.twimg.com/images/themes/theme1/bg.png', 'profile_background_image_url_https': 'https://abs.twimg.com/images/themes/theme1/bg.png', 'profile_background_tile': False, 'profile_image_url': 'http://pbs.twimg.com/profile_images/642153469940371456/0Osp_8fY_normal.jpg', 'profile_image_url_https': 'https://pbs.twimg.com/profile_images/642153469940371456/0Osp_8fY_normal.jpg', 'profile_banner_url': 'https://pbs.twimg.com/profile_banners/3521646493/1442243767', 'profile_link_color': '1DA1F2', 'profile_sidebar_border_color': 'C0DEED', 'profile_sidebar_fill_color': 'DDEEF6', 'profile_text_color': '333333', 'profile_use_background_image': True, 'has_extended_profile': False, 'default_profile': True, 'default_profile_image': False, 'following': False, 'follow_request_sent': False, 'notifications': False, 'translator_type': 'none'}, id=3521646493, id_str='3521646493', name='Ari Kosasih', screen_name='ariarkos', location='', profile_location=None, description='SMANDA14 | Teknik Industri', url=None, entities={'description': {'urls': []}}, protected=False, followers_count=21, friends_count=274, listed_count=0, created_at=datetime.datetime(2015, 9, 11, 1, 46), favourites_count=50, utc_offset=None, time_zone=None, geo_enabled=False, verified=False, statuses_count=75, lang='id', status=Status(_api=<tweepy.api.API object at 0x000001AC2362AF60>, _json={'created_at': 'Thu May 24 04:14:53 +0000 2018', 'id': 999503981276680192, 'id_str': '999503981276680192', 'text': '@G_fron @asmurcom @Strategi_Bisnis Mending jangan kerja sekalian, biar nyesel juga kenapa kuliahnya cuman maen2 aja… https://t.co/mvffJmyl3j', 'truncated': True, 'entities': {'hashtags': [], 'symbols': [], 'user_mentions': [{'screen_name': 'G_fron', 'name': \"Cowo'nya Maudya\", 'id': 94020415, 'id_str': '94020415', 'indices': [0, 7]}, {'screen_name': 'asmurcom', 'name': 'asuransimurni.com', 'id': 954188384989200384, 'id_str': '954188384989200384', 'indices': [8, 17]}, {'screen_name': 'Strategi_Bisnis', 'name': 'strategi + bisnis', 'id': 190535830, 'id_str': '190535830', 'indices': [18, 34]}], 'urls': [{'url': 'https://t.co/mvffJmyl3j', 'expanded_url': 'https://twitter.com/i/web/status/999503981276680192', 'display_url': 'twitter.com/i/web/status/9…', 'indices': [117, 140]}]}, 'source': '<a href=\"http://twitter.com/download/android\" rel=\"nofollow\">Twitter for Android</a>', 'in_reply_to_status_id': 999250952069595136, 'in_reply_to_status_id_str': '999250952069595136', 'in_reply_to_user_id': 94020415, 'in_reply_to_user_id_str': '94020415', 'in_reply_to_screen_name': 'G_fron', 'geo': None, 'coordinates': None, 'place': None, 'contributors': None, 'is_quote_status': False, 'retweet_count': 0, 'favorite_count': 0, 'favorited': False, 'retweeted': False, 'lang': 'in'}, created_at=datetime.datetime(2018, 5, 24, 4, 14, 53), id=999503981276680192, id_str='999503981276680192', text='@G_fron @asmurcom @Strategi_Bisnis Mending jangan kerja sekalian, biar nyesel juga kenapa kuliahnya cuman maen2 aja… https://t.co/mvffJmyl3j', truncated=True, entities={'hashtags': [], 'symbols': [], 'user_mentions': [{'screen_name': 'G_fron', 'name': \"Cowo'nya Maudya\", 'id': 94020415, 'id_str': '94020415', 'indices': [0, 7]}, {'screen_name': 'asmurcom', 'name': 'asuransimurni.com', 'id': 954188384989200384, 'id_str': '954188384989200384', 'indices': [8, 17]}, {'screen_name': 'Strategi_Bisnis', 'name': 'strategi + bisnis', 'id': 190535830, 'id_str': '190535830', 'indices': [18, 34]}], 'urls': [{'url': 'https://t.co/mvffJmyl3j', 'expanded_url': 'https://twitter.com/i/web/status/999503981276680192', 'display_url': 'twitter.com/i/web/status/9…', 'indices': [117, 140]}]}, source='Twitter for Android', source_url='http://twitter.com/download/android', in_reply_to_status_id=999250952069595136, in_reply_to_status_id_str='999250952069595136', in_reply_to_user_id=94020415, in_reply_to_user_id_str='94020415', in_reply_to_screen_name='G_fron', geo=None, coordinates=None, place=None, contributors=None, is_quote_status=False, retweet_count=0, favorite_count=0, favorited=False, retweeted=False, lang='in'), contributors_enabled=False, is_translator=False, is_translation_enabled=False, profile_background_color='C0DEED', profile_background_image_url='http://abs.twimg.com/images/themes/theme1/bg.png', profile_background_image_url_https='https://abs.twimg.com/images/themes/theme1/bg.png', profile_background_tile=False, profile_image_url='http://pbs.twimg.com/profile_images/642153469940371456/0Osp_8fY_normal.jpg', profile_image_url_https='https://pbs.twimg.com/profile_images/642153469940371456/0Osp_8fY_normal.jpg', profile_banner_url='https://pbs.twimg.com/profile_banners/3521646493/1442243767', profile_link_color='1DA1F2', profile_sidebar_border_color='C0DEED', profile_sidebar_fill_color='DDEEF6', profile_text_color='333333', profile_use_background_image=True, has_extended_profile=False, default_profile=True, default_profile_image=False, following=False, follow_request_sent=False, notifications=False, translator_type='none'), User(_api=<tweepy.api.API object at 0x000001AC2362AF60>, _json={'id': 500706584, 'id_str': '500706584', 'name': 'Rania', 'screen_name': 'ranyraniaa', 'location': 'Indonesia', 'profile_location': None, 'description': 'Wonderland\\n.\\nhttps://t.co/ERoKrUup5m…', 'url': 'https://t.co/UA1FyQlSNd', 'entities': {'url': {'urls': [{'url': 'https://t.co/UA1FyQlSNd', 'expanded_url': 'http://raniafg.wordpress.com/', 'display_url': 'raniafg.wordpress.com', 'indices': [0, 23]}]}, 'description': {'urls': [{'url': 'https://t.co/ERoKrUup5m', 'expanded_url': 'http://linisehat.com/diabetes-keham', 'display_url': 'linisehat.com/diabetes-keham', 'indices': [13, 36]}]}}, 'protected': False, 'followers_count': 120, 'friends_count': 155, 'listed_count': 0, 'created_at': 'Thu Feb 23 11:41:18 +0000 2012', 'favourites_count': 548, 'utc_offset': None, 'time_zone': None, 'geo_enabled': True, 'verified': False, 'statuses_count': 2676, 'lang': 'en', 'status': {'created_at': 'Thu May 17 06:57:29 +0000 2018', 'id': 997008186522533888, 'id_str': '997008186522533888', 'text': '@UReport_id Laut bercerita', 'truncated': False, 'entities': {'hashtags': [], 'symbols': [], 'user_mentions': [{'screen_name': 'UReport_id', 'name': 'U-Report Indonesia', 'id': 2457445682, 'id_str': '2457445682', 'indices': [0, 11]}], 'urls': []}, 'source': '<a href=\"http://twitter.com/download/android\" rel=\"nofollow\">Twitter for Android</a>', 'in_reply_to_status_id': 996989280940580864, 'in_reply_to_status_id_str': '996989280940580864', 'in_reply_to_user_id': 2457445682, 'in_reply_to_user_id_str': '2457445682', 'in_reply_to_screen_name': 'UReport_id', 'geo': None, 'coordinates': None, 'place': None, 'contributors': None, 'is_quote_status': False, 'retweet_count': 0, 'favorite_count': 1, 'favorited': False, 'retweeted': False, 'lang': 'in'}, 'contributors_enabled': False, 'is_translator': False, 'is_translation_enabled': False, 'profile_background_color': 'DBE9ED', 'profile_background_image_url': 'http://abs.twimg.com/images/themes/theme17/bg.gif', 'profile_background_image_url_https': 'https://abs.twimg.com/images/themes/theme17/bg.gif', 'profile_background_tile': False, 'profile_image_url': 'http://pbs.twimg.com/profile_images/942764264711897088/TiGdSvLg_normal.jpg', 'profile_image_url_https': 'https://pbs.twimg.com/profile_images/942764264711897088/TiGdSvLg_normal.jpg', 'profile_banner_url': 'https://pbs.twimg.com/profile_banners/500706584/1511559504', 'profile_link_color': 'CC3366', 'profile_sidebar_border_color': 'DBE9ED', 'profile_sidebar_fill_color': 'E6F6F9', 'profile_text_color': '333333', 'profile_use_background_image': True, 'has_extended_profile': False, 'default_profile': False, 'default_profile_image': False, 'following': False, 'follow_request_sent': False, 'notifications': False, 'translator_type': 'none'}, id=500706584, id_str='500706584', name='Rania', screen_name='ranyraniaa', location='Indonesia', profile_location=None, description='Wonderland\\n.\\nhttps://t.co/ERoKrUup5m…', url='https://t.co/UA1FyQlSNd', entities={'url': {'urls': [{'url': 'https://t.co/UA1FyQlSNd', 'expanded_url': 'http://raniafg.wordpress.com/', 'display_url': 'raniafg.wordpress.com', 'indices': [0, 23]}]}, 'description': {'urls': [{'url': 'https://t.co/ERoKrUup5m', 'expanded_url': 'http://linisehat.com/diabetes-keham', 'display_url': 'linisehat.com/diabetes-keham', 'indices': [13, 36]}]}}, protected=False, followers_count=120, friends_count=155, listed_count=0, created_at=datetime.datetime(2012, 2, 23, 11, 41, 18), favourites_count=548, utc_offset=None, time_zone=None, geo_enabled=True, verified=False, statuses_count=2676, lang='en', status=Status(_api=<tweepy.api.API object at 0x000001AC2362AF60>, _json={'created_at': 'Thu May 17 06:57:29 +0000 2018', 'id': 997008186522533888, 'id_str': '997008186522533888', 'text': '@UReport_id Laut bercerita', 'truncated': False, 'entities': {'hashtags': [], 'symbols': [], 'user_mentions': [{'screen_name': 'UReport_id', 'name': 'U-Report Indonesia', 'id': 2457445682, 'id_str': '2457445682', 'indices': [0, 11]}], 'urls': []}, 'source': '<a href=\"http://twitter.com/download/android\" rel=\"nofollow\">Twitter for Android</a>', 'in_reply_to_status_id': 996989280940580864, 'in_reply_to_status_id_str': '996989280940580864', 'in_reply_to_user_id': 2457445682, 'in_reply_to_user_id_str': '2457445682', 'in_reply_to_screen_name': 'UReport_id', 'geo': None, 'coordinates': None, 'place': None, 'contributors': None, 'is_quote_status': False, 'retweet_count': 0, 'favorite_count': 1, 'favorited': False, 'retweeted': False, 'lang': 'in'}, created_at=datetime.datetime(2018, 5, 17, 6, 57, 29), id=997008186522533888, id_str='997008186522533888', text='@UReport_id Laut bercerita', truncated=False, entities={'hashtags': [], 'symbols': [], 'user_mentions': [{'screen_name': 'UReport_id', 'name': 'U-Report Indonesia', 'id': 2457445682, 'id_str': '2457445682', 'indices': [0, 11]}], 'urls': []}, source='Twitter for Android', source_url='http://twitter.com/download/android', in_reply_to_status_id=996989280940580864, in_reply_to_status_id_str='996989280940580864', in_reply_to_user_id=2457445682, in_reply_to_user_id_str='2457445682', in_reply_to_screen_name='UReport_id', geo=None, coordinates=None, place=None, contributors=None, is_quote_status=False, retweet_count=0, favorite_count=1, favorited=False, retweeted=False, lang='in'), contributors_enabled=False, is_translator=False, is_translation_enabled=False, profile_background_color='DBE9ED', profile_background_image_url='http://abs.twimg.com/images/themes/theme17/bg.gif', profile_background_image_url_https='https://abs.twimg.com/images/themes/theme17/bg.gif', profile_background_tile=False, profile_image_url='http://pbs.twimg.com/profile_images/942764264711897088/TiGdSvLg_normal.jpg', profile_image_url_https='https://pbs.twimg.com/profile_images/942764264711897088/TiGdSvLg_normal.jpg', profile_banner_url='https://pbs.twimg.com/profile_banners/500706584/1511559504', profile_link_color='CC3366', profile_sidebar_border_color='DBE9ED', profile_sidebar_fill_color='E6F6F9', profile_text_color='333333', profile_use_background_image=True, has_extended_profile=False, default_profile=False, default_profile_image=False, following=False, follow_request_sent=False, notifications=False, translator_type='none'), User(_api=<tweepy.api.API object at 0x000001AC2362AF60>, _json={'id': 101493934, 'id_str': '101493934', 'name': 'Fachrul Bahtiar', 'screen_name': 'FachrulBahtiar', 'location': 'SOC - JOG', 'profile_location': None, 'description': 'Penunggang  Badai |\\n@Kasmaji14 | @IEGMU2014 | Astra1st batch 6 | Panasonic Scholars 2017 | Your future industrial engineer 8/8', 'url': 'https://t.co/coWzWYTVWT', 'entities': {'url': {'urls': [{'url': 'https://t.co/coWzWYTVWT', 'expanded_url': 'http://bahtiarfachrul.wordpress.com', 'display_url': 'bahtiarfachrul.wordpress.com', 'indices': [0, 23]}]}, 'description': {'urls': []}}, 'protected': False, 'followers_count': 437, 'friends_count': 202, 'listed_count': 1, 'created_at': 'Sun Jan 03 14:57:32 +0000 2010', 'favourites_count': 90, 'utc_offset': None, 'time_zone': None, 'geo_enabled': True, 'verified': False, 'statuses_count': 2015, 'lang': 'en', 'status': {'created_at': 'Thu May 24 07:17:38 +0000 2018', 'id': 999549970528153600, 'id_str': '999549970528153600', 'text': '@bramantyaa @elokpitaloka Gagas Gugus jangan lupa dibahas juga', 'truncated': False, 'entities': {'hashtags': [], 'symbols': [], 'user_mentions': [{'screen_name': 'bramantyaa', 'name': 'Boni.', 'id': 552683049, 'id_str': '552683049', 'indices': [0, 11]}, {'screen_name': 'elokpitaloka', 'name': 'Elok Pitaloka', 'id': 81552484, 'id_str': '81552484', 'indices': [12, 25]}], 'urls': []}, 'source': '<a href=\"http://twitter.com/download/android\" rel=\"nofollow\">Twitter for Android</a>', 'in_reply_to_status_id': 999548952239222787, 'in_reply_to_status_id_str': '999548952239222787', 'in_reply_to_user_id': 552683049, 'in_reply_to_user_id_str': '552683049', 'in_reply_to_screen_name': 'bramantyaa', 'geo': None, 'coordinates': None, 'place': None, 'contributors': None, 'is_quote_status': False, 'retweet_count': 0, 'favorite_count': 0, 'favorited': False, 'retweeted': False, 'lang': 'in'}, 'contributors_enabled': False, 'is_translator': False, 'is_translation_enabled': False, 'profile_background_color': 'C712EB', 'profile_background_image_url': 'http://pbs.twimg.com/profile_background_images/192523917/digital-fantasy-abstact04.jpg', 'profile_background_image_url_https': 'https://pbs.twimg.com/profile_background_images/192523917/digital-fantasy-abstact04.jpg', 'profile_background_tile': True, 'profile_image_url': 'http://pbs.twimg.com/profile_images/577119026532384768/ipxhSVqH_normal.png', 'profile_image_url_https': 'https://pbs.twimg.com/profile_images/577119026532384768/ipxhSVqH_normal.png', 'profile_banner_url': 'https://pbs.twimg.com/profile_banners/101493934/1401341638', 'profile_link_color': 'F50E0E', 'profile_sidebar_border_color': '23DBC6', 'profile_sidebar_fill_color': '01040F', 'profile_text_color': 'ED1D1D', 'profile_use_background_image': True, 'has_extended_profile': False, 'default_profile': False, 'default_profile_image': False, 'following': False, 'follow_request_sent': False, 'notifications': False, 'translator_type': 'none'}, id=101493934, id_str='101493934', name='Fachrul Bahtiar', screen_name='FachrulBahtiar', location='SOC - JOG', profile_location=None, description='Penunggang  Badai |\\n@Kasmaji14 | @IEGMU2014 | Astra1st batch 6 | Panasonic Scholars 2017 | Your future industrial engineer 8/8', url='https://t.co/coWzWYTVWT', entities={'url': {'urls': [{'url': 'https://t.co/coWzWYTVWT', 'expanded_url': 'http://bahtiarfachrul.wordpress.com', 'display_url': 'bahtiarfachrul.wordpress.com', 'indices': [0, 23]}]}, 'description': {'urls': []}}, protected=False, followers_count=437, friends_count=202, listed_count=1, created_at=datetime.datetime(2010, 1, 3, 14, 57, 32), favourites_count=90, utc_offset=None, time_zone=None, geo_enabled=True, verified=False, statuses_count=2015, lang='en', status=Status(_api=<tweepy.api.API object at 0x000001AC2362AF60>, _json={'created_at': 'Thu May 24 07:17:38 +0000 2018', 'id': 999549970528153600, 'id_str': '999549970528153600', 'text': '@bramantyaa @elokpitaloka Gagas Gugus jangan lupa dibahas juga', 'truncated': False, 'entities': {'hashtags': [], 'symbols': [], 'user_mentions': [{'screen_name': 'bramantyaa', 'name': 'Boni.', 'id': 552683049, 'id_str': '552683049', 'indices': [0, 11]}, {'screen_name': 'elokpitaloka', 'name': 'Elok Pitaloka', 'id': 81552484, 'id_str': '81552484', 'indices': [12, 25]}], 'urls': []}, 'source': '<a href=\"http://twitter.com/download/android\" rel=\"nofollow\">Twitter for Android</a>', 'in_reply_to_status_id': 999548952239222787, 'in_reply_to_status_id_str': '999548952239222787', 'in_reply_to_user_id': 552683049, 'in_reply_to_user_id_str': '552683049', 'in_reply_to_screen_name': 'bramantyaa', 'geo': None, 'coordinates': None, 'place': None, 'contributors': None, 'is_quote_status': False, 'retweet_count': 0, 'favorite_count': 0, 'favorited': False, 'retweeted': False, 'lang': 'in'}, created_at=datetime.datetime(2018, 5, 24, 7, 17, 38), id=999549970528153600, id_str='999549970528153600', text='@bramantyaa @elokpitaloka Gagas Gugus jangan lupa dibahas juga', truncated=False, entities={'hashtags': [], 'symbols': [], 'user_mentions': [{'screen_name': 'bramantyaa', 'name': 'Boni.', 'id': 552683049, 'id_str': '552683049', 'indices': [0, 11]}, {'screen_name': 'elokpitaloka', 'name': 'Elok Pitaloka', 'id': 81552484, 'id_str': '81552484', 'indices': [12, 25]}], 'urls': []}, source='Twitter for Android', source_url='http://twitter.com/download/android', in_reply_to_status_id=999548952239222787, in_reply_to_status_id_str='999548952239222787', in_reply_to_user_id=552683049, in_reply_to_user_id_str='552683049', in_reply_to_screen_name='bramantyaa', geo=None, coordinates=None, place=None, contributors=None, is_quote_status=False, retweet_count=0, favorite_count=0, favorited=False, retweeted=False, lang='in'), contributors_enabled=False, is_translator=False, is_translation_enabled=False, profile_background_color='C712EB', profile_background_image_url='http://pbs.twimg.com/profile_background_images/192523917/digital-fantasy-abstact04.jpg', profile_background_image_url_https='https://pbs.twimg.com/profile_background_images/192523917/digital-fantasy-abstact04.jpg', profile_background_tile=True, profile_image_url='http://pbs.twimg.com/profile_images/577119026532384768/ipxhSVqH_normal.png', profile_image_url_https='https://pbs.twimg.com/profile_images/577119026532384768/ipxhSVqH_normal.png', profile_banner_url='https://pbs.twimg.com/profile_banners/101493934/1401341638', profile_link_color='F50E0E', profile_sidebar_border_color='23DBC6', profile_sidebar_fill_color='01040F', profile_text_color='ED1D1D', profile_use_background_image=True, has_extended_profile=False, default_profile=False, default_profile_image=False, following=False, follow_request_sent=False, notifications=False, translator_type='none'), User(_api=<tweepy.api.API object at 0x000001AC2362AF60>, _json={'id': 40638821, 'id_str': '40638821', 'name': 'Yohana Friscylia', 'screen_name': 'yohanafriscylia', 'location': 'ÜT: -6.224133,106.9570676', 'profile_location': None, 'description': 'Psalm 23:1', 'url': None, 'entities': {'description': {'urls': []}}, 'protected': False, 'followers_count': 366, 'friends_count': 433, 'listed_count': 3, 'created_at': 'Sun May 17 10:18:40 +0000 2009', 'favourites_count': 442, 'utc_offset': None, 'time_zone': None, 'geo_enabled': True, 'verified': False, 'statuses_count': 14222, 'lang': 'en', 'status': {'created_at': 'Wed May 23 17:59:51 +0000 2018', 'id': 999349201287892992, 'id_str': '999349201287892992', 'text': \"RT @susahbet: hargailah panitia bukber dengan memberi jawaban yang pasti\\n\\njangan gantung mereka dengan memberi jawaban kayak 'liat nanti ya…\", 'truncated': False, 'entities': {'hashtags': [], 'symbols': [], 'user_mentions': [{'screen_name': 'susahbet', 'name': 'beb~', 'id': 1309304466, 'id_str': '1309304466', 'indices': [3, 12]}], 'urls': []}, 'source': '<a href=\"http://twitter.com/download/iphone\" rel=\"nofollow\">Twitter for iPhone</a>', 'in_reply_to_status_id': None, 'in_reply_to_status_id_str': None, 'in_reply_to_user_id': None, 'in_reply_to_user_id_str': None, 'in_reply_to_screen_name': None, 'geo': None, 'coordinates': None, 'place': None, 'contributors': None, 'retweeted_status': {'created_at': 'Wed May 23 08:42:48 +0000 2018', 'id': 999209017544081408, 'id_str': '999209017544081408', 'text': \"hargailah panitia bukber dengan memberi jawaban yang pasti\\n\\njangan gantung mereka dengan memberi jawaban kayak 'lia… https://t.co/BAosg9D2qI\", 'truncated': True, 'entities': {'hashtags': [], 'symbols': [], 'user_mentions': [], 'urls': [{'url': 'https://t.co/BAosg9D2qI', 'expanded_url': 'https://twitter.com/i/web/status/999209017544081408', 'display_url': 'twitter.com/i/web/status/9…', 'indices': [117, 140]}]}, 'source': '<a href=\"http://twitter.com/download/android\" rel=\"nofollow\">Twitter for Android</a>', 'in_reply_to_status_id': None, 'in_reply_to_status_id_str': None, 'in_reply_to_user_id': None, 'in_reply_to_user_id_str': None, 'in_reply_to_screen_name': None, 'geo': None, 'coordinates': None, 'place': None, 'contributors': None, 'is_quote_status': False, 'retweet_count': 4406, 'favorite_count': 1231, 'favorited': False, 'retweeted': False, 'lang': 'in'}, 'is_quote_status': False, 'retweet_count': 4406, 'favorite_count': 0, 'favorited': False, 'retweeted': False, 'lang': 'in'}, 'contributors_enabled': False, 'is_translator': False, 'is_translation_enabled': False, 'profile_background_color': '131516', 'profile_background_image_url': 'http://abs.twimg.com/images/themes/theme11/bg.gif', 'profile_background_image_url_https': 'https://abs.twimg.com/images/themes/theme11/bg.gif', 'profile_background_tile': True, 'profile_image_url': 'http://pbs.twimg.com/profile_images/916510621515911168/0HN1pJ5-_normal.jpg', 'profile_image_url_https': 'https://pbs.twimg.com/profile_images/916510621515911168/0HN1pJ5-_normal.jpg', 'profile_banner_url': 'https://pbs.twimg.com/profile_banners/40638821/1350727566', 'profile_link_color': '009999', 'profile_sidebar_border_color': 'CC3366', 'profile_sidebar_fill_color': 'E5507E', 'profile_text_color': '362720', 'profile_use_background_image': True, 'has_extended_profile': False, 'default_profile': False, 'default_profile_image': False, 'following': False, 'follow_request_sent': False, 'notifications': False, 'translator_type': 'none'}, id=40638821, id_str='40638821', name='Yohana Friscylia', screen_name='yohanafriscylia', location='ÜT: -6.224133,106.9570676', profile_location=None, description='Psalm 23:1', url=None, entities={'description': {'urls': []}}, protected=False, followers_count=366, friends_count=433, listed_count=3, created_at=datetime.datetime(2009, 5, 17, 10, 18, 40), favourites_count=442, utc_offset=None, time_zone=None, geo_enabled=True, verified=False, statuses_count=14222, lang='en', status=Status(_api=<tweepy.api.API object at 0x000001AC2362AF60>, _json={'created_at': 'Wed May 23 17:59:51 +0000 2018', 'id': 999349201287892992, 'id_str': '999349201287892992', 'text': \"RT @susahbet: hargailah panitia bukber dengan memberi jawaban yang pasti\\n\\njangan gantung mereka dengan memberi jawaban kayak 'liat nanti ya…\", 'truncated': False, 'entities': {'hashtags': [], 'symbols': [], 'user_mentions': [{'screen_name': 'susahbet', 'name': 'beb~', 'id': 1309304466, 'id_str': '1309304466', 'indices': [3, 12]}], 'urls': []}, 'source': '<a href=\"http://twitter.com/download/iphone\" rel=\"nofollow\">Twitter for iPhone</a>', 'in_reply_to_status_id': None, 'in_reply_to_status_id_str': None, 'in_reply_to_user_id': None, 'in_reply_to_user_id_str': None, 'in_reply_to_screen_name': None, 'geo': None, 'coordinates': None, 'place': None, 'contributors': None, 'retweeted_status': {'created_at': 'Wed May 23 08:42:48 +0000 2018', 'id': 999209017544081408, 'id_str': '999209017544081408', 'text': \"hargailah panitia bukber dengan memberi jawaban yang pasti\\n\\njangan gantung mereka dengan memberi jawaban kayak 'lia… https://t.co/BAosg9D2qI\", 'truncated': True, 'entities': {'hashtags': [], 'symbols': [], 'user_mentions': [], 'urls': [{'url': 'https://t.co/BAosg9D2qI', 'expanded_url': 'https://twitter.com/i/web/status/999209017544081408', 'display_url': 'twitter.com/i/web/status/9…', 'indices': [117, 140]}]}, 'source': '<a href=\"http://twitter.com/download/android\" rel=\"nofollow\">Twitter for Android</a>', 'in_reply_to_status_id': None, 'in_reply_to_status_id_str': None, 'in_reply_to_user_id': None, 'in_reply_to_user_id_str': None, 'in_reply_to_screen_name': None, 'geo': None, 'coordinates': None, 'place': None, 'contributors': None, 'is_quote_status': False, 'retweet_count': 4406, 'favorite_count': 1231, 'favorited': False, 'retweeted': False, 'lang': 'in'}, 'is_quote_status': False, 'retweet_count': 4406, 'favorite_count': 0, 'favorited': False, 'retweeted': False, 'lang': 'in'}, created_at=datetime.datetime(2018, 5, 23, 17, 59, 51), id=999349201287892992, id_str='999349201287892992', text=\"RT @susahbet: hargailah panitia bukber dengan memberi jawaban yang pasti\\n\\njangan gantung mereka dengan memberi jawaban kayak 'liat nanti ya…\", truncated=False, entities={'hashtags': [], 'symbols': [], 'user_mentions': [{'screen_name': 'susahbet', 'name': 'beb~', 'id': 1309304466, 'id_str': '1309304466', 'indices': [3, 12]}], 'urls': []}, source='Twitter for iPhone', source_url='http://twitter.com/download/iphone', in_reply_to_status_id=None, in_reply_to_status_id_str=None, in_reply_to_user_id=None, in_reply_to_user_id_str=None, in_reply_to_screen_name=None, geo=None, coordinates=None, place=None, contributors=None, retweeted_status=Status(_api=<tweepy.api.API object at 0x000001AC2362AF60>, _json={'created_at': 'Wed May 23 08:42:48 +0000 2018', 'id': 999209017544081408, 'id_str': '999209017544081408', 'text': \"hargailah panitia bukber dengan memberi jawaban yang pasti\\n\\njangan gantung mereka dengan memberi jawaban kayak 'lia… https://t.co/BAosg9D2qI\", 'truncated': True, 'entities': {'hashtags': [], 'symbols': [], 'user_mentions': [], 'urls': [{'url': 'https://t.co/BAosg9D2qI', 'expanded_url': 'https://twitter.com/i/web/status/999209017544081408', 'display_url': 'twitter.com/i/web/status/9…', 'indices': [117, 140]}]}, 'source': '<a href=\"http://twitter.com/download/android\" rel=\"nofollow\">Twitter for Android</a>', 'in_reply_to_status_id': None, 'in_reply_to_status_id_str': None, 'in_reply_to_user_id': None, 'in_reply_to_user_id_str': None, 'in_reply_to_screen_name': None, 'geo': None, 'coordinates': None, 'place': None, 'contributors': None, 'is_quote_status': False, 'retweet_count': 4406, 'favorite_count': 1231, 'favorited': False, 'retweeted': False, 'lang': 'in'}, created_at=datetime.datetime(2018, 5, 23, 8, 42, 48), id=999209017544081408, id_str='999209017544081408', text=\"hargailah panitia bukber dengan memberi jawaban yang pasti\\n\\njangan gantung mereka dengan memberi jawaban kayak 'lia… https://t.co/BAosg9D2qI\", truncated=True, entities={'hashtags': [], 'symbols': [], 'user_mentions': [], 'urls': [{'url': 'https://t.co/BAosg9D2qI', 'expanded_url': 'https://twitter.com/i/web/status/999209017544081408', 'display_url': 'twitter.com/i/web/status/9…', 'indices': [117, 140]}]}, source='Twitter for Android', source_url='http://twitter.com/download/android', in_reply_to_status_id=None, in_reply_to_status_id_str=None, in_reply_to_user_id=None, in_reply_to_user_id_str=None, in_reply_to_screen_name=None, geo=None, coordinates=None, place=None, contributors=None, is_quote_status=False, retweet_count=4406, favorite_count=1231, favorited=False, retweeted=False, lang='in'), is_quote_status=False, retweet_count=4406, favorite_count=0, favorited=False, retweeted=False, lang='in'), contributors_enabled=False, is_translator=False, is_translation_enabled=False, profile_background_color='131516', profile_background_image_url='http://abs.twimg.com/images/themes/theme11/bg.gif', profile_background_image_url_https='https://abs.twimg.com/images/themes/theme11/bg.gif', profile_background_tile=True, profile_image_url='http://pbs.twimg.com/profile_images/916510621515911168/0HN1pJ5-_normal.jpg', profile_image_url_https='https://pbs.twimg.com/profile_images/916510621515911168/0HN1pJ5-_normal.jpg', profile_banner_url='https://pbs.twimg.com/profile_banners/40638821/1350727566', profile_link_color='009999', profile_sidebar_border_color='CC3366', profile_sidebar_fill_color='E5507E', profile_text_color='362720', profile_use_background_image=True, has_extended_profile=False, default_profile=False, default_profile_image=False, following=False, follow_request_sent=False, notifications=False, translator_type='none')]\n"
     ]
    }
   ],
   "source": [
    "print(threeUsers)"
   ]
  },
  {
   "cell_type": "code",
   "execution_count": 67,
   "metadata": {},
   "outputs": [
    {
     "name": "stdout",
     "output_type": "stream",
     "text": [
      "User @ariarkos:\n",
      "punya teman,\n",
      "@inspiraspeakers\n",
      "@businessinsider\n",
      "-----------------\n",
      "User @ranyraniaa:\n",
      "punya teman,\n",
      "@kpp_pa\n",
      "@smartfrenworld\n",
      "-----------------\n",
      "User @FachrulBahtiar:\n",
      "punya teman,\n",
      "@MerryRiana\n",
      "@thal__\n",
      "-----------------\n",
      "User @yohanafriscylia:\n",
      "punya teman,\n",
      "@InfoTwitwor\n",
      "@BBCIndonesia\n",
      "-----------------\n"
     ]
    }
   ],
   "source": [
    "### Fill the code ###\n",
    "\n",
    "# Get two user that were followed by each of these three users\n",
    "for u in threeUsers:\n",
    "    # get list of friends\n",
    "    print('User @'+u.screen_name +':')\n",
    "    friends = u.friends()\n",
    "    print('punya teman,')\n",
    "    # get only two friend\n",
    "    for i in range(0,2):\n",
    "        print('@'+friends[i].screen_name)\n",
    "    print('-----------------')\n",
    "        "
   ]
  },
  {
   "cell_type": "markdown",
   "metadata": {},
   "source": [
    "# Task 3"
   ]
  },
  {
   "cell_type": "code",
   "execution_count": null,
   "metadata": {},
   "outputs": [],
   "source": [
    "### Fill the code ###\n",
    "# Get tweet from account\n",
    "\n",
    "astraTweet2 = "
   ]
  },
  {
   "cell_type": "code",
   "execution_count": null,
   "metadata": {},
   "outputs": [],
   "source": [
    "### Fill the code ###\n",
    "\n",
    "hashtag = None\n",
    "\n",
    "\n",
    "for t in astraTweet2:\n",
    "    # Check tweet that has hashtag\n",
    "    # if it has hashtag, get the hashtag and break the loops\n",
    "    # else continue loop\n",
    "    "
   ]
  },
  {
   "cell_type": "code",
   "execution_count": null,
   "metadata": {
    "scrolled": true
   },
   "outputs": [],
   "source": [
    "print hashtag"
   ]
  },
  {
   "cell_type": "code",
   "execution_count": null,
   "metadata": {},
   "outputs": [],
   "source": [
    "### Fill the code ###\n",
    "# Search ten latest tweets that also has that hashtag\n",
    "# get all of the locations\n",
    "locations = []\n",
    "\n",
    "query = \n",
    "hashtagTweets = \n",
    "for tweet in hashtagTweets:\n",
    "    "
   ]
  },
  {
   "cell_type": "code",
   "execution_count": null,
   "metadata": {},
   "outputs": [],
   "source": [
    "print locations"
   ]
  },
  {
   "cell_type": "code",
   "execution_count": null,
   "metadata": {},
   "outputs": [],
   "source": []
  },
  {
   "cell_type": "code",
   "execution_count": null,
   "metadata": {},
   "outputs": [],
   "source": []
  },
  {
   "cell_type": "code",
   "execution_count": null,
   "metadata": {},
   "outputs": [],
   "source": []
  }
 ],
 "metadata": {
  "kernelspec": {
   "display_name": "Python 3",
   "language": "python",
   "name": "python3"
  },
  "language_info": {
   "codemirror_mode": {
    "name": "ipython",
    "version": 3
   },
   "file_extension": ".py",
   "mimetype": "text/x-python",
   "name": "python",
   "nbconvert_exporter": "python",
   "pygments_lexer": "ipython3",
   "version": "3.6.4"
  }
 },
 "nbformat": 4,
 "nbformat_minor": 2
}
