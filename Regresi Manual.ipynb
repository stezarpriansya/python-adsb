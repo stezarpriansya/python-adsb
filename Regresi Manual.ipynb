{
 "cells": [
  {
   "cell_type": "code",
   "execution_count": 27,
   "metadata": {},
   "outputs": [],
   "source": [
    "import numpy as np\n",
    "import matplotlib.pyplot as plt\n",
    "%matplotlib inline"
   ]
  },
  {
   "cell_type": "code",
   "execution_count": 30,
   "metadata": {},
   "outputs": [],
   "source": [
    "def estimate_coef(x, y):\n",
    "    '''untuk menghitung coefisien\n",
    "    x = gradien/slope\n",
    "    y = perpotonhgan/Beta 0/intercept\n",
    "    '''\n",
    "    #number of observation \n",
    "    n = np.size(x)\n",
    "    \n",
    "    #mean of x and y vect\n",
    "    m_x , m_y = np.mean(x), np.mean(y)\n",
    "    \n",
    "    #determine numerator/pembilang\n",
    "    ss_xy = np.sum(y*x - n*m_x*m_y)\n",
    "    ss_xx = np.sum(x*x - n*m_x*m_x)\n",
    "    \n",
    "    # calculate coef\n",
    "    b_1 = ss_xy / ss_xx\n",
    "    b_0 = m_y - b_1 * m_x\n",
    "    \n",
    "    return(b_0,b_1)"
   ]
  },
  {
   "cell_type": "code",
   "execution_count": 10,
   "metadata": {},
   "outputs": [],
   "source": [
    "def plot_regression_line(x,y,b):\n",
    "    plt.scatter(x,y,color = \"m\",marker=\"o\",s=30)\n",
    "    \n",
    "    # predicted\n",
    "    y_pred = b[0] + b[1]*x\n",
    "    \n",
    "    #plot predicted line\n",
    "    plt.plot(x, y_pred, color = \"g\")\n",
    "    \n",
    "    #label\n",
    "    plt.xlabel(\"x\")\n",
    "    plt.ylabel(\"y\")\n",
    "    \n",
    "    plt.show()"
   ]
  },
  {
   "cell_type": "code",
   "execution_count": 40,
   "metadata": {},
   "outputs": [],
   "source": [
    "def main():\n",
    "    x = np.array([0,1,2,3,3,5,10,9,8,6,1,17,11,12,15,20])\n",
    "    y = np.array([0,1,4,6,2,4,18,2,4,3,4,12,14,13,12,19])\n",
    "    \n",
    "    #print coef\n",
    "    b = estimate_coef(x, y)\n",
    "    print(\"Estimated coefficients: \\n b_0 = {} \\\n",
    "          \\n b_1 = {}\".format(b[0], b[1]))\n",
    "    plot_regression_line(x,y,b)"
   ]
  },
  {
   "cell_type": "code",
   "execution_count": 41,
   "metadata": {},
   "outputs": [
    {
     "name": "stdout",
     "output_type": "stream",
     "text": [
      "Estimated coefficients: \n",
      " b_0 = -0.03875275330396466           \n",
      " b_1 = 0.9643906020558003\n"
     ]
    },
    {
     "data": {
      "image/png": "[encoded data removed]",
      "text/plain": [
       "<matplotlib.figure.Figure at 0x22fb593a940>"
      ]
     },
     "metadata": {},
     "output_type": "display_data"
    }
   ],
   "source": [
    "if __name__ == \"__main__\":\n",
    "    main()"
   ]
  },
  {
   "cell_type": "code",
   "execution_count": null,
   "metadata": {},
   "outputs": [],
   "source": []
  }
 ],
 "metadata": {
  "kernelspec": {
   "display_name": "Python 3",
   "language": "python",
   "name": "python3"
  },
  "language_info": {
   "codemirror_mode": {
    "name": "ipython",
    "version": 3
   },
   "file_extension": ".py",
   "mimetype": "text/x-python",
   "name": "python",
   "nbconvert_exporter": "python",
   "pygments_lexer": "ipython3",
   "version": "3.6.4"
  }
 },
 "nbformat": 4,
 "nbformat_minor": 2
}
