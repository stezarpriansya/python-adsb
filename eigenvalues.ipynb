{
 "cells": [
  {
   "cell_type": "code",
   "execution_count": 2,
   "metadata": {},
   "outputs": [],
   "source": [
    "import numpy as np"
   ]
  },
  {
   "cell_type": "code",
   "execution_count": 30,
   "metadata": {},
   "outputs": [
    {
     "name": "stdout",
     "output_type": "stream",
     "text": [
      "[[-0.40824829 -0.50222833  0.86820728]\n",
      " [ 0.40824829  0.17255747  0.48545624]\n",
      " [-0.81649658  0.84734327  0.10270521]]\n",
      "[6. 1. 1.]\n",
      "[[ 2 -2  1]\n",
      " [-1  3 -1]\n",
      " [ 2 -4  3]]\n"
     ]
    },
    {
     "data": {
      "text/plain": [
       "array([[ 2., -2.,  1.],\n",
       "       [-1.,  3., -1.],\n",
       "       [ 2., -4.,  3.]])"
      ]
     },
     "execution_count": 30,
     "metadata": {},
     "output_type": "execute_result"
    }
   ],
   "source": [
    "A = [[2, -1, 2], [-2, 3, -4], [1, -1, 3]]\n",
    "diag = [[6,0,0], [0,1,0], [0,0,1]]\n",
    "B = np.transpose(A)\n",
    "e_val, e_vec = np.linalg.eig(B)\n",
    "print(e_vec)\n",
    "print(e_val)\n",
    "print(B)\n",
    "# print()\n",
    "# print(e_vec)\n",
    "tes = np.dot(e_vec, np.transpose(diag))\n",
    "np.dot(tes, np.linalg.inv(e_vec))"
   ]
  },
  {
   "cell_type": "code",
   "execution_count": 34,
   "metadata": {},
   "outputs": [
    {
     "name": "stdout",
     "output_type": "stream",
     "text": [
      "[[ 0.2  0.6  0.2]\n",
      " [-0.4  0.8  0.6]\n",
      " [ 0.2 -0.4  0.2]]\n",
      "[[ 2. -2.  1.]\n",
      " [-1.  3. -1.]\n",
      " [ 2. -4.  3.]]\n"
     ]
    }
   ],
   "source": [
    "e_v = np.array([[2,-1,1], [1,0,-1], [0,1,2]])\n",
    "diag2 = [[1,0,0], [0,1,0], [0,0,6]]\n",
    "inv_e = np.linalg.inv(e_v)\n",
    "u = np.dot(diag2, inv_e)\n",
    "print(inv_e)\n",
    "print(np.dot(e_v, u))"
   ]
  }
 ],
 "metadata": {
  "kernelspec": {
   "display_name": "Python 3.6",
   "language": "python",
   "name": "python36"
  },
  "language_info": {
   "codemirror_mode": {
    "name": "ipython",
    "version": 3
   },
   "file_extension": ".py",
   "mimetype": "text/x-python",
   "name": "python",
   "nbconvert_exporter": "python",
   "pygments_lexer": "ipython3",
   "version": "3.6.3"
  }
 },
 "nbformat": 4,
 "nbformat_minor": 2
}
