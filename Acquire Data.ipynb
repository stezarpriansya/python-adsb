{
 "cells": [
  {
   "cell_type": "code",
   "execution_count": 4,
   "metadata": {},
   "outputs": [],
   "source": [
    "from bs4 import BeautifulSoup\n",
    "import requests"
   ]
  },
  {
   "cell_type": "code",
   "execution_count": 5,
   "metadata": {},
   "outputs": [],
   "source": [
    "url = 'https://www.toyota.astra.co.id/toyota-connect/news/modifikasi-toyota-alphard-hercules-terlihat-horor'"
   ]
  },
  {
   "cell_type": "code",
   "execution_count": 6,
   "metadata": {},
   "outputs": [],
   "source": [
    "response = requests.get(url)"
   ]
  },
  {
   "cell_type": "code",
   "execution_count": 7,
   "metadata": {},
   "outputs": [],
   "source": [
    "html = response.text"
   ]
  },
  {
   "cell_type": "code",
   "execution_count": 9,
   "metadata": {},
   "outputs": [],
   "source": [
    "soup = BeautifulSoup(html, \"html5lib\")"
   ]
  },
  {
   "cell_type": "code",
   "execution_count": 19,
   "metadata": {},
   "outputs": [],
   "source": [
    "texts = soup.find_all('p', style=\"text-align: justify;\")"
   ]
  },
  {
   "cell_type": "code",
   "execution_count": 23,
   "metadata": {},
   "outputs": [],
   "source": [
    "my_text = ''\n",
    "for txt in texts:\n",
    "    my_text = my_text + txt.text"
   ]
  },
  {
   "cell_type": "code",
   "execution_count": 24,
   "metadata": {},
   "outputs": [
    {
     "name": "stdout",
     "output_type": "stream",
     "text": [
      "Toyota Alphard sebagai kendaraan mewah yang paling banyak dimiliki oleh para pengusaha, artis, dan pejabat di Indonesia. Dengan desain yang mewah, kabin yang nyaman dan luas, mobil ini memang di desain untuk kenyamanan keluarga untuk berkatifitas dan bepergian ke luar kota.Toyota Auto Body, salah satu pabrikan Toyota yang khusus menggarap mobil-mobil SUV, minivan dan kendaraan komersil. Pabrikan ini telah mengubah sosok konsep MPV premium bernama Alphard Hercules menjadi mobil yang mencolok dari yang lainnya.Toyota Alphard Hercules adalah contoh gambar modifikasi motor terbaru dengan desain yang sangat elegan dan tentunya merupakan style unik atau bisa dibilang berbeda dengan motor biasa pada umumnya.Toyota Alphard Hercules dapat menjadi sebuah ide yang menghadirkan inspirasi dalam menciptakan sebuah karya kuda besi idaman bagi pemilik mobil Alphard. Modif Motor Selain mempercantik tampilan motor bagi semua pecinta otomotif di Indonesia, tujuan dari modifikasi sendiri memiliki beberapa tujuan diantara nya menambah kecepatan juga kenyamanan dalam berkendara.Walaupun harganya hampir menyentuh 1 milyar tetapi hal ini tidak membuat konsumen untuk tidak membeli nya. Bahkan setelah peluncuran nya mobil ini sudah terjual ribuan unit.Modifikasi Toyota Alphard yang menarik saat ini adalah Toyota Auto Body Alphard Hercules, yang dipamerkan di Tokyo motor show 2015 lalu. Toyota memang menjadi salah satu produsen otomotif yang ikut meramaikan ajang Tokyo Motor Show 2015. Modifikasi tersebut terlihat dari depan kiri tampak sekali model grille depan yang menyerupai gigi seekor Godzilla yang berubah total dengan desain warna silver.Warna silver tersebut di padu padankan dengan kap mesin yang menggunakan warna putih, sedangkan untuk bodi samping menggunakan warna merah. Logo Toyota Alphard yang berada di bagian tengah semakin menambah kesan sangar dalam mobil ini,Bagian depan bawah mobil ini diberikan lekukan pada bumper nya sehingga terlihat sangat agresif. Jika dilihat dari samping mobil ini memang terlihat standart, yang berubah hanya velg dan kombinasi warna nya saja serta penggunaan ban yang tipis.Sedangkan untuk kabin nya di desain dengan kursi yang menggunakan warna putih denga list oranye. Modifikasi Dalam Mobil Alphard tidak dilakukan dengan serius karena pemilik hanya interior Toyota Auto Body Alphard Hercules juga diubah untuk mereka yang sangat mengidamkan pengalaman naik mobil dengan suasana lepas dan kebebasan.Mobil ini cocok untuk liburan di pesisir pantai, duduk bersama keluarga sambil menikmati langit sore yang teduh.Warna putih dan aksen biru membalut seluruh body Toyota Auto Body Alphard Hercules.Dibagian interior nya pun berwarna putih untuk memberikan nuansa yang tenang dan sejuk. Pada bagian eksterior Toyota Auto Body Alphard Hercules sangat berbeda dengan versi sebelumnya.Toyota Auto Body Alphard Hercules memiliki dimensi panjang berukuran 5265 mm, lebar 1850 mm, dan tinggi 1960 mm. Garis desain sangat mencolok dan sama sekali tidak mencerminkan tampilan kalem. Sebalik nya, untuk konsep mobil keluarga, seperti nya ini terlalu menyeramkan. Terlepas dari itu semua, desain yang diusung oleh mobil ini cukup menarik.Yang menjadikan mobil ini terlihat horor yaitu atap nya yang hilang. Atap dari mobil ini di desain sedemikian rupa agar bisa dilipat ke belakang dan tersusun rapi di belakang. Hal ini lah yang menjadi penyebab bahwa mobil MPV tersebut tampat tidak memiliki atap.Berikut Ini adalah bentuk dari Toyota Auto Body Alphard Hercules yang tampil di ajang Tokyo Motor Show 2015. Toyota Alphard Hercule Concept? Tidak ada yang menyebutkan hal ini dalam rilis berita Toyota Global yang merinci perdana dunia di Tokyo tentang konsep S-FR, FCV Plus dan KIKAI. Tidak ada yang tahu dari Akio Toyoda, pada video konferensi persnya. Sebuah minivan yang \"mengusung tema bahari, dengan warna samudra samar-samar\" .  Di Tokyo Motor Show (TMS) 2015, Toyota Auto Body menghadirkan Toyota Alphard Hercule Concept. Beberapa perubahan yang ada di mobil ini membuat Hercule Concept menjadi Toyota Alphard yang paling ekstrem.\n",
      "Banyak masyarakat yang lebih mengenal  Toyota Motor Corp (TMC) daripada Toyota Auto Body. Toyota Auto Body memang masih dalam satu grup dengan TMC (Toyota Motor Corp). Kalau Toyota Auto Body masih  semacam  divisi yang  pengembangan tidak hanya melakukan satu perubahan pada mobil-mobil Toyota. Di antaranya mulai dari mobil penumpang dan passenger car. Tujuan mereka adalah membuat produk Toyota jadi lebih sangat keren.\n",
      "Banyak yang mengetahui bahwa Toyota Alphard Hercule Concept sebenarnya adalah satu dari 5 mobil konsep berbeda yang diproduksi oleh Toyota Auto Body (afiliasi anak perusahaan yang sepenuhnya dimiliki oleh Toyota dan seorang anggota penuh Toyota Group) untuk Tokyo Motor Show 2015. Meskipun Toyota Auto Body juga bertanggung jawab atas produksi Prius, misi utamanya dan fokusnya adalah pada \"menjadi produsen terkemuka di dunia Minivan, SUV, dan Kendaraan Komersial\". Hal Ini termasuk Land Cruiser 70 dan 200; kembar fraternal Lexus LX yang terakhir; van HiAce roda belakang dan bus Coaster; dan trio keluarga minivan penggerak mobil: kembar tiga Noah, Voxy dan Esquire yang kecil; Estima sedang; dan kembar Alphard dan Vellfire yang besar. Garis waktu historis untuk Toyota Auto Body muncul di situs web perusahaan dan di situs Toyota Global.\n",
      "Mobil yang disebut terakhir bahkan tampil sangat esktrem. Bagaimana terdapat di bagian eksterior mobil ini benar-benar tampil tidak biasa. Misalnya atap yang bisa dibuka. Tidak hanya sebagian tapi seluruh atap mobil ini bisa dibuat terbuka. Hampir sangat mirip dengan atap mobil terbuka yang ada di Maybach 62 Landaulet. Karena atap ini dipangkas habis, otomatis Toyota Auto Body memilih atap baru yang dibuat dari kain. Atap itu sendiri tidak dilipat ke dalam bagian tersembunyi tapi dilipat di bagian luar. Uniknya, meski terlipat di luar, bagian tersebut tidak merusak keindahan buritan mobil ini. Sebab bagian ini tampil dengan desain yang tidak biasa.Pemilihan desain lampu full LED dibuat tajam mengikuti bagian belakang mobil yang juga tampil tajam.\n",
      "Seperti bagian bekakang, bagian grille juga hadir dengan bentuk yang tidak umum. Jika Anda merasa kecewa dengan grille Toyota Alphard baru yang sangat menonjol maka Toyota Alphard Hercule Concept ini malah lebih gila lagi. Tidak hanya menonjol, dimensi grille ini malah dibuat lebih besar lagi. Bahkan bentuknya dibuat besar-besar sehingga membuat mobil ini terlihat dominan.\n",
      "Sektor interior mobil ini justru jadi bagian yang paling nyaman dilihat mata. Kombinasi dua warna putih dan beige membuat mobil ini begitu teduh dilihat. Konsep interior mobil ini sangat mencoba tampilan VIP. Jadi material mobil ini dipilih dari bahan-bahan terbaik mulai dari jok mobil hingga door trim.\n",
      "\n",
      "Jok mobil penumpang di baris kesatu dan kedua juga dapat dimundurkan dengan jarak yang cukup lega. Memang jok di baris kedua tidak bisa diputar balik untuk mengesankan ruangan rapat. Hanya saja Toyota Auto Body menyediakan sebuah meja kecil yang bisa jadi tatakan minuman Anda. Di bagian bagasi mobil ini pun menyediakan lemari pendingin berukuran kecil yang bisa menyegarkan minuman Anda.\n",
      "\n",
      "Sayangnya mobil ini tidak memiliki banyak fitur in car entertainment yang luar biasa. Di bagian penumpang sama sekali tidak di temukan layar atau monitor yang bisa memanjakan penumpang. Tapi bisa jadi dengan atap yang terbuka lebar itu, bukan layar monitor yang ingin Anda pandangi tapi pemandangan alam yang sangat indah.\n",
      "Menurut lansiran, Toyota Auto Body Alphard Hercules memiliki desain eksterior yang sangat berbeda dengan versi sebelumnya. Hal ini disebabkan oleh perubahan pada grille depan yang menyerupai gigi seekor Godzilla. Tak hanya itu, desain interior Toyota Auto Body Alphard Hercules juga di ubah untuk mereka yang sangat ingin  pengalaman naik mobil dengan suasana lepas dan kebebasan. Mobil ini cocok untuk liburan di pesisir pantai, duduk bersama keluarga sambil menikmati langit sore yang teduh.Toyota Auto Body Alphard Hercules memiliki dimensi panjang berukuran 5265mm, lebar 1850mm, dan tinggi 1960mm. Garis desain sangat mencolok dan sama sekali tidak mencerminkan tampilan kalem. Sebaliknya, untuk konsep mobil keluarga, sepertinya ini terlalu menyeramkan. Terlepas dari itu semua, desain yang diusung oleh mobil ini cukup menarik.\n",
      "Apa menariknya?Di bagian atas, ada soft top yang bisa ditarik mulai dari barisan depan hingga belakang. Atap terbuka yang benar-benar terbuka. Keren, bukan? Toyota Auto Body, salah satu pabrikan Toyota yang khusus memproduksi mobil-mobil SUV, minivan dan kendaraan komersil, baru saja menuntaskan sebuah proyek menarik yang debut perdananya berlangsung di Tokyo Motor Show.Mengrevolusikan makna luxury di fisik Alphard, Toyota Auto Body mengubah sosok konsep MPV premium bernama Alphard Hercule tersebut dalam tubuh baru yang telah di bekali beragam fitur eksklusif, mewah serta style mencolok lain dari pada yang lain.Cita rasa kemewahan di tambahkan dengan nuansa ‘freedom and openness’ tertanam bagus lewat pemasangan grille unik berukuran masif plus retractable soft top yang bisa di buka untuk menambah kesan eksklusif mobil.Mobil megah ini mengambil nama sang putra Zeus dalam legenda Yunani, Hercules.Berdimensi panjang 5.265mm, lebar 1.850mm dan tinggi 1.960mm dengan konfigurasi 5-seater, selayaknya suasana kehidupan marine di padukan ke eksterior oleh lumuran azure graphic ala ombak laut tertera di sekujur tubuh konsep Alphard ini.Tema marine juga sangat menonjol hingga pada bagian interior, terlihat dari dominasi warna putih yang mengesankan si pengemudi bersama penumpang di tengah plesir di dalam kapal pesiar nan mewah. Kabin pun ditata sedemikian rupa dengan lounge sofa, fold-away low table tak ketinggalan panel lantai unik bergaya ala hardwood flooring.\n"
     ]
    }
   ],
   "source": [
    "print(my_text)"
   ]
  },
  {
   "cell_type": "code",
   "execution_count": 29,
   "metadata": {},
   "outputs": [],
   "source": [
    "from selenium import webdriver"
   ]
  },
  {
   "cell_type": "code",
   "execution_count": 48,
   "metadata": {},
   "outputs": [],
   "source": [
    "url = 'http://www.toyota.astra.co.id/shopping-tools/form-kredit-simulation'\n",
    "\n",
    "driver = webdriver.Chrome(\"C:/Users/stezar059244/Downloads/chromedriver_win32/chromedriver.exe\")\n",
    "driver.get(url)"
   ]
  },
  {
   "cell_type": "code",
   "execution_count": 56,
   "metadata": {},
   "outputs": [
    {
     "name": "stdout",
     "output_type": "stream",
     "text": [
      "Rp. 100.238.525,00\n",
      "Rp. 100.238.525,00\n",
      "Rp. 93.241.441,00\n",
      "Rp. 90.909.080,00\n",
      "Rp. 89.742.900,00\n"
     ]
    }
   ],
   "source": [
    "from selenium.webdriver.support.ui import Select ##Select itu tagnya\n",
    "#model select\n",
    "model = driver.find_element_by_id('model')\n",
    "modelSelect = Select(model)\n",
    "modelSelect.select_by_index('2')\n",
    "#variant select\n",
    "model_variant = driver.find_element_by_id('variant')\n",
    "modelSelect = Select(model_variant)\n",
    "modelSelect.select_by_index('2')\n",
    "\n",
    "calculate = driver.find_element_by_id('calculate')\n",
    "calculate.click()\n",
    "\n",
    "uml = driver.find_element_by_id('um1')\n",
    "\n",
    "print(uml.text)\n",
    "\n",
    "for i in range(1,5):\n",
    "    elem = driver.find_element_by_id('um'+str(i))\n",
    "    print(elem.text)"
   ]
  },
  {
   "cell_type": "code",
   "execution_count": 57,
   "metadata": {},
   "outputs": [],
   "source": [
    "import requests\n",
    "import json\n",
    "import pprint"
   ]
  },
  {
   "cell_type": "code",
   "execution_count": 68,
   "metadata": {},
   "outputs": [],
   "source": [
    "# API Key for Alpha Vantage\n",
    "API_KEY='M3SBQRDJR6KPVMBW'\n",
    "API_BASE_URL = 'https://www.alphavantage.co/query'\n",
    "\n",
    "\n",
    "data = {\n",
    "    \"apikey\":API_KEY,\n",
    "    \"function\":\"CURRENCY_EXCHANGE_RATE\",\n",
    "    \"from_currency\":\"USD\",\n",
    "    \"to_currency\":\"IDR\",\n",
    "    \"datatype\":\"json\"\n",
    "}"
   ]
  },
  {
   "cell_type": "code",
   "execution_count": 71,
   "metadata": {},
   "outputs": [
    {
     "name": "stdout",
     "output_type": "stream",
     "text": [
      "{'Realtime Currency Exchange Rate': {'1. From_Currency Code': 'USD',\n",
      "                                     '2. From_Currency Name': 'United States '\n",
      "                                                              'Dollar',\n",
      "                                     '3. To_Currency Code': 'IDR',\n",
      "                                     '4. To_Currency Name': 'Indonesian Rupiah',\n",
      "                                     '5. Exchange Rate': '14193.08208600',\n",
      "                                     '6. Last Refreshed': '2018-05-24 04:34:05',\n",
      "                                     '7. Time Zone': 'UTC'}}\n"
     ]
    }
   ],
   "source": [
    "headers = {\"Content-Type\":'application/json'}\n",
    "\n",
    "\n",
    "response = requests.get(API_BASE_URL,params = data, headers=headers)\n",
    "\n",
    "# pprint.pprint(response.json())"
   ]
  },
  {
   "cell_type": "code",
   "execution_count": 73,
   "metadata": {},
   "outputs": [
    {
     "data": {
      "text/plain": [
       "'14193.08208600'"
      ]
     },
     "execution_count": 73,
     "metadata": {},
     "output_type": "execute_result"
    }
   ],
   "source": [
    "response.json()[\"Realtime Currency Exchange Rate\"][\"5. Exchange Rate\"]"
   ]
  },
  {
   "cell_type": "code",
   "execution_count": 95,
   "metadata": {},
   "outputs": [],
   "source": [
    "import tweepy"
   ]
  },
  {
   "cell_type": "code",
   "execution_count": 96,
   "metadata": {},
   "outputs": [],
   "source": [
    "auth = tweepy.OAuthHandler(\"w3DOVjf2CCwsSMPbZXlOpaAEk\", \"AMcIgAxLZkhQnnJ2mId2uCl3CPGj6MxG00eBQ5EYWic1XAutjy\")\n",
    "auth.set_access_token(\"204791971-ESIosB3hFKERWGVEeZaKyxH4yZBu28npWayMtJqK\", \"ITxvWMtMSkV3B5Erv7Ov2zqcpHTg0RRzzuWEJI76VY6dW\")\n",
    "\n",
    "api = tweepy.API(auth)\n",
    "\n",
    "aku = api.me()\n",
    "aku."
   ]
  },
  {
   "cell_type": "code",
   "execution_count": 98,
   "metadata": {},
   "outputs": [
    {
     "name": "stdout",
     "output_type": "stream",
     "text": [
      "Ini adalah twitter dari Stezar Priansya, dengan username stezarpriansya. Jumlah following 354, dan followernya 380\n"
     ]
    }
   ],
   "source": [
    "print('Ini adalah twitter dari '+aku.name+', dengan username '+ aku.screen_name+'. Jumlah following '+str(aku.friends_count)\n",
    "      +', dan followernya '+str(aku.followers_count))"
   ]
  },
  {
   "cell_type": "code",
   "execution_count": 108,
   "metadata": {},
   "outputs": [
    {
     "name": "stdout",
     "output_type": "stream",
     "text": [
      "Ini adalah twitter dari Joko Widodo, dengan username jokowi. Jumlah following 60, dan followernya 10212366\n"
     ]
    }
   ],
   "source": [
    "jokowi = api.get_user('jokowi')\n",
    "print('Ini adalah twitter dari '+jokowi.name+', dengan username '+ jokowi.screen_name+'. Jumlah following '+str(jokowi.friends_count)\n",
    "      +', dan followernya '+str(jokowi.followers_count))\n",
    "df = pd.DataFrame(jokowi._json) #convert to df"
   ]
  },
  {
   "cell_type": "code",
   "execution_count": 111,
   "metadata": {},
   "outputs": [],
   "source": [
    "my_timeline = api.user_timeline()"
   ]
  },
  {
   "cell_type": "code",
   "execution_count": 113,
   "metadata": {},
   "outputs": [
    {
     "name": "stdout",
     "output_type": "stream",
     "text": [
      "@pramitalucianna ngeliat makhluk ghaib\n",
      "RT @ITS_campus: #ITSrepository Normalisasi Teks Media Sosial Menggunakan Word2vec, Levenshtein Distance… https://t.co/BNWn1bcmgk\n",
      "@chikianwar tak kusangka 😱\n",
      "RT @ManUtd: \"We made it look easy. We started so strongly and we killed the game.\"\n",
      "\n",
      "A vintage performance from Jose's men! #MUFC #UCL https…\n",
      "RT @ITS_campus: #ITSnews Wisuda 116, ITS Luluskan 3535 Mahasiswa https://t.co/DokMPIehzS https://t.co/mJkmH0oyop\n",
      "RT @ITS_campus: #ITStv [LIVE] Wisuda 116 ITS - Graha Sepuluh Nopember https://t.co/AtfMCESdCR\n",
      "RT @Liga2Match: Grup C 16 besar Liga 2 Indonesia:\n",
      "\n",
      "1. Persebaya Surabaya\n",
      "2. Kalteng Putra FC\n",
      "3. Persigo Semeru FC\n",
      "4. PSBS Biak\n",
      "\n",
      "#Liga2Indon…\n",
      "Ooo https://t.co/aNn7gQ4W7c\n",
      "WOW https://t.co/4RmKnNVWvP\n",
      "@corecrysis @Samsung_ID cek pm\n",
      "@corecrysis @Samsung_ID waah kesempatan kik\n",
      "@pramitalucianna ckck parah, bapak dewe dirasani\n",
      "@pramitalucianna apaan ea\n",
      "RT @delinaare: Kok laper 😩\n",
      "@pramitalucianna wawawa ada apa neeh\n",
      "RT @elonmusk: OpenAI + Dota 2 https://t.co/hdyFSMMB0z\n",
      "hmm...\n",
      "@dimssora iyaa dim, mencoba mengendalikan ini :\")\n",
      "RT @hardanisatrio: Ojo lali karo hal hal dasar lur.\n",
      "yaah :(( https://t.co/yzZmNzASrI\n"
     ]
    }
   ],
   "source": [
    "for tmln in my_timeline:\n",
    "    print(tmln.text)"
   ]
  },
  {
   "cell_type": "code",
   "execution_count": 126,
   "metadata": {},
   "outputs": [],
   "source": [
    "jokowi_tweet = api.user_timeline(\"jokowi\")"
   ]
  },
  {
   "cell_type": "code",
   "execution_count": 127,
   "metadata": {},
   "outputs": [
    {
     "name": "stdout",
     "output_type": "stream",
     "text": [
      "Nyobain kereta Api Minangkabau Ekspres yg menjadi kereta bandara ketiga di Indonesia, setelah KA Bandara Kualanamu… https://t.co/XOq6pz2AQX\n",
      "Mari kita maknai hari kebangkitan nasional dg kesadaran kita bangsa yg besar, bangsa pemenang, yg bisa makmur dan s… https://t.co/s8Gik63Y2K\n",
      "Tindakan preventif jauh lebih penting dibandingkan langkah2 represif dalam mengatasi terorisme. Dan langkah2 preven… https://t.co/rWz3mON9WD\n",
      "Pemerintah juga dalam proses pembentukan Komando Operasi Khusus Gabungan TNI untuk menangani terorisme apabila situ… https://t.co/Nj9s1BTY2a\n",
      "Saat ini pemerintah dan DPR sedang berusaha agar revisi Undang-Undang Antiterorisme bisa segera diselesaikan secepatnya\n",
      "Saat buka puasa bersama pimpinan lembaga negara, menteri &amp; tokoh agama, kemarin, saya ingatkan betapa kejam &amp; kejin… https://t.co/z8r7m7KQHu\n",
      "Dengan buku kita mendapatkan banyak pengetahuan, membuka wawasan berpikir dan semakin bijak dalam bersikap. Selamat… https://t.co/8Xlraqlm5p\n",
      "Indonesia berbangga atas prestasi Fransiska Dimitri dan Mathilda Dwi Lestari yang telah berhasil mengibarkan Bender… https://t.co/qjZVquc94R\n",
      "Tadi Sholat Tarawih pertama Ramadhan di Masjid Istiqlal. Ceramah Imam Besar Prof. Dr. Nasaruddin Umar bagus sekali,… https://t.co/VH5QY2gR81\n",
      "Ekspor dalam jumlah yg besar sekali ini bisa jadi penanda bahwa Indonesia memiliki peran yg sangat strategis dalam… https://t.co/IbJ4ASQjOm\n",
      "Alhamdulillah, kemarin (dua hari menjelang puasa) kita mengekspor produk2 Indonesia ke Amerika Serikat dengan jumla… https://t.co/TJDogi2g6z\n",
      "Marhaban yaa Ramadhan 1439 H. Puasa untuk mencapai derajat taqwa dan menjauhkan diri dari perbuatan keji dan munkar -Jkw\n",
      "Jumlah dana desa terus ditingkatkan:\n",
      "\n",
      "2015: Rp20 T\n",
      "2016: Rp47 T\n",
      "2017: Rp60 T\n",
      "2018: Rp60 T\n",
      "\n",
      "Jadi uang akan berputar… https://t.co/dRtdfuY6Am\n",
      "Meskipun kita masih dalam keadaan berduka, tapi kita tidak boleh larut. Kita harus kembali bekerja. Teroris2 sedang… https://t.co/Rf7rAPVCYh\n",
      "UU ini merupakan payung hukum yang penting bagi aparat, bagi Polri untuk bisa menindak tegas baik dalam pencegahan… https://t.co/sRPi9uBsD3\n",
      "Saya juga minta ke DPR dan kementerian terkait yang berhubungan dengan revisi UU Tindak Pidana Terorisme, yang suda… https://t.co/I6aiK88M2E\n",
      "Saya telah memerintahkan Kapolri untuk mengambil langkah tegas, tidak ada kompromi dalam mengambil tindakan2 di lap… https://t.co/A93DJkb1JT\n",
      "Ini adalah tindakan pengecut, tindakan yang tidak bermartabat, tindakan yang biadab. Perlu saya tegaskan lagi kita… https://t.co/9WLDvlrnUM\n",
      "Setelah kejadian di 3 lokasi di Surabaya kemarin, tadi malam ada satu kejadian lagi di Sidoarjo dan pagi hari ini b… https://t.co/d0DJMKg9sB\n",
      "Tindakan terorisme sungguh biadab. Korbannya anggota masyarakat, anggota kepolisian, bahkan anak-anak. Kita akan ha… https://t.co/ENwfUgBf6Z\n"
     ]
    }
   ],
   "source": [
    "for x in jokowi_tweet:\n",
    "    print(x.text)"
   ]
  },
  {
   "cell_type": "code",
   "execution_count": 152,
   "metadata": {},
   "outputs": [],
   "source": [
    "astra = api.search('#AstraCareer')\n",
    "# tweepy.Cursor(api.search('#AstraCareer').items(5)"
   ]
  },
  {
   "cell_type": "code",
   "execution_count": 153,
   "metadata": {},
   "outputs": [
    {
     "name": "stdout",
     "output_type": "stream",
     "text": [
      "@Ruaihan: RT @Astra_Career: Dear Young Talents! Bagi kalian yang tertarik untuk berkarir di dunia HR dan bidang otomotif, silahkan langsung disimak v…\n"
     ]
    }
   ],
   "source": [
    "for x in astra:\n",
    "    print('@'+ x.user.screen_name + ': '+ x.text)"
   ]
  },
  {
   "cell_type": "code",
   "execution_count": 155,
   "metadata": {},
   "outputs": [],
   "source": [
    "myTweet = api.update_status(\"stezar #royalwedding\")"
   ]
  },
  {
   "cell_type": "code",
   "execution_count": 151,
   "metadata": {},
   "outputs": [
    {
     "data": {
      "text/plain": [
       "Status(_api=<tweepy.api.API object at 0x000001E1358AF630>, _json={'created_at': 'Thu May 24 06:54:18 +0000 2018', 'id': 999544100989816834, 'id_str': '999544100989816834', 'text': 'Coba tweet pake py', 'truncated': False, 'entities': {'hashtags': [], 'symbols': [], 'user_mentions': [], 'urls': []}, 'source': '<a href=\"http://astra.co.id\" rel=\"nofollow\">ADSBStezar</a>', 'in_reply_to_status_id': None, 'in_reply_to_status_id_str': None, 'in_reply_to_user_id': None, 'in_reply_to_user_id_str': None, 'in_reply_to_screen_name': None, 'user': {'id': 204791971, 'id_str': '204791971', 'name': 'Stezar Priansya', 'screen_name': 'stezarpriansya', 'location': 'Surabaya, Indonesia', 'description': 'berusaha sabar dan tidak mengeluh', 'url': 'https://t.co/7choD27NFH', 'entities': {'url': {'urls': [{'url': 'https://t.co/7choD27NFH', 'expanded_url': 'http://stezar.me', 'display_url': 'stezar.me', 'indices': [0, 23]}]}, 'description': {'urls': []}}, 'protected': False, 'followers_count': 380, 'friends_count': 354, 'listed_count': 0, 'created_at': 'Tue Oct 19 13:42:52 +0000 2010', 'favourites_count': 10, 'utc_offset': None, 'time_zone': None, 'geo_enabled': True, 'verified': False, 'statuses_count': 7943, 'lang': 'en', 'contributors_enabled': False, 'is_translator': False, 'is_translation_enabled': False, 'profile_background_color': 'FFFCFC', 'profile_background_image_url': 'http://abs.twimg.com/images/themes/theme1/bg.png', 'profile_background_image_url_https': 'https://abs.twimg.com/images/themes/theme1/bg.png', 'profile_background_tile': True, 'profile_image_url': 'http://pbs.twimg.com/profile_images/796698571353387008/gyd9jJzH_normal.jpg', 'profile_image_url_https': 'https://pbs.twimg.com/profile_images/796698571353387008/gyd9jJzH_normal.jpg', 'profile_banner_url': 'https://pbs.twimg.com/profile_banners/204791971/1478782749', 'profile_link_color': '468C17', 'profile_sidebar_border_color': 'FFFFFF', 'profile_sidebar_fill_color': '78C0A8', 'profile_text_color': '468C17', 'profile_use_background_image': True, 'has_extended_profile': False, 'default_profile': False, 'default_profile_image': False, 'following': False, 'follow_request_sent': False, 'notifications': False, 'translator_type': 'none'}, 'geo': None, 'coordinates': None, 'place': None, 'contributors': None, 'is_quote_status': False, 'retweet_count': 0, 'favorite_count': 0, 'favorited': False, 'retweeted': False, 'lang': 'in'}, created_at=datetime.datetime(2018, 5, 24, 6, 54, 18), id=999544100989816834, id_str='999544100989816834', text='Coba tweet pake py', truncated=False, entities={'hashtags': [], 'symbols': [], 'user_mentions': [], 'urls': []}, source='ADSBStezar', source_url='http://astra.co.id', in_reply_to_status_id=None, in_reply_to_status_id_str=None, in_reply_to_user_id=None, in_reply_to_user_id_str=None, in_reply_to_screen_name=None, author=User(_api=<tweepy.api.API object at 0x000001E1358AF630>, _json={'id': 204791971, 'id_str': '204791971', 'name': 'Stezar Priansya', 'screen_name': 'stezarpriansya', 'location': 'Surabaya, Indonesia', 'description': 'berusaha sabar dan tidak mengeluh', 'url': 'https://t.co/7choD27NFH', 'entities': {'url': {'urls': [{'url': 'https://t.co/7choD27NFH', 'expanded_url': 'http://stezar.me', 'display_url': 'stezar.me', 'indices': [0, 23]}]}, 'description': {'urls': []}}, 'protected': False, 'followers_count': 380, 'friends_count': 354, 'listed_count': 0, 'created_at': 'Tue Oct 19 13:42:52 +0000 2010', 'favourites_count': 10, 'utc_offset': None, 'time_zone': None, 'geo_enabled': True, 'verified': False, 'statuses_count': 7943, 'lang': 'en', 'contributors_enabled': False, 'is_translator': False, 'is_translation_enabled': False, 'profile_background_color': 'FFFCFC', 'profile_background_image_url': 'http://abs.twimg.com/images/themes/theme1/bg.png', 'profile_background_image_url_https': 'https://abs.twimg.com/images/themes/theme1/bg.png', 'profile_background_tile': True, 'profile_image_url': 'http://pbs.twimg.com/profile_images/796698571353387008/gyd9jJzH_normal.jpg', 'profile_image_url_https': 'https://pbs.twimg.com/profile_images/796698571353387008/gyd9jJzH_normal.jpg', 'profile_banner_url': 'https://pbs.twimg.com/profile_banners/204791971/1478782749', 'profile_link_color': '468C17', 'profile_sidebar_border_color': 'FFFFFF', 'profile_sidebar_fill_color': '78C0A8', 'profile_text_color': '468C17', 'profile_use_background_image': True, 'has_extended_profile': False, 'default_profile': False, 'default_profile_image': False, 'following': False, 'follow_request_sent': False, 'notifications': False, 'translator_type': 'none'}, id=204791971, id_str='204791971', name='Stezar Priansya', screen_name='stezarpriansya', location='Surabaya, Indonesia', description='berusaha sabar dan tidak mengeluh', url='https://t.co/7choD27NFH', entities={'url': {'urls': [{'url': 'https://t.co/7choD27NFH', 'expanded_url': 'http://stezar.me', 'display_url': 'stezar.me', 'indices': [0, 23]}]}, 'description': {'urls': []}}, protected=False, followers_count=380, friends_count=354, listed_count=0, created_at=datetime.datetime(2010, 10, 19, 13, 42, 52), favourites_count=10, utc_offset=None, time_zone=None, geo_enabled=True, verified=False, statuses_count=7943, lang='en', contributors_enabled=False, is_translator=False, is_translation_enabled=False, profile_background_color='FFFCFC', profile_background_image_url='http://abs.twimg.com/images/themes/theme1/bg.png', profile_background_image_url_https='https://abs.twimg.com/images/themes/theme1/bg.png', profile_background_tile=True, profile_image_url='http://pbs.twimg.com/profile_images/796698571353387008/gyd9jJzH_normal.jpg', profile_image_url_https='https://pbs.twimg.com/profile_images/796698571353387008/gyd9jJzH_normal.jpg', profile_banner_url='https://pbs.twimg.com/profile_banners/204791971/1478782749', profile_link_color='468C17', profile_sidebar_border_color='FFFFFF', profile_sidebar_fill_color='78C0A8', profile_text_color='468C17', profile_use_background_image=True, has_extended_profile=False, default_profile=False, default_profile_image=False, following=False, follow_request_sent=False, notifications=False, translator_type='none'), user=User(_api=<tweepy.api.API object at 0x000001E1358AF630>, _json={'id': 204791971, 'id_str': '204791971', 'name': 'Stezar Priansya', 'screen_name': 'stezarpriansya', 'location': 'Surabaya, Indonesia', 'description': 'berusaha sabar dan tidak mengeluh', 'url': 'https://t.co/7choD27NFH', 'entities': {'url': {'urls': [{'url': 'https://t.co/7choD27NFH', 'expanded_url': 'http://stezar.me', 'display_url': 'stezar.me', 'indices': [0, 23]}]}, 'description': {'urls': []}}, 'protected': False, 'followers_count': 380, 'friends_count': 354, 'listed_count': 0, 'created_at': 'Tue Oct 19 13:42:52 +0000 2010', 'favourites_count': 10, 'utc_offset': None, 'time_zone': None, 'geo_enabled': True, 'verified': False, 'statuses_count': 7943, 'lang': 'en', 'contributors_enabled': False, 'is_translator': False, 'is_translation_enabled': False, 'profile_background_color': 'FFFCFC', 'profile_background_image_url': 'http://abs.twimg.com/images/themes/theme1/bg.png', 'profile_background_image_url_https': 'https://abs.twimg.com/images/themes/theme1/bg.png', 'profile_background_tile': True, 'profile_image_url': 'http://pbs.twimg.com/profile_images/796698571353387008/gyd9jJzH_normal.jpg', 'profile_image_url_https': 'https://pbs.twimg.com/profile_images/796698571353387008/gyd9jJzH_normal.jpg', 'profile_banner_url': 'https://pbs.twimg.com/profile_banners/204791971/1478782749', 'profile_link_color': '468C17', 'profile_sidebar_border_color': 'FFFFFF', 'profile_sidebar_fill_color': '78C0A8', 'profile_text_color': '468C17', 'profile_use_background_image': True, 'has_extended_profile': False, 'default_profile': False, 'default_profile_image': False, 'following': False, 'follow_request_sent': False, 'notifications': False, 'translator_type': 'none'}, id=204791971, id_str='204791971', name='Stezar Priansya', screen_name='stezarpriansya', location='Surabaya, Indonesia', description='berusaha sabar dan tidak mengeluh', url='https://t.co/7choD27NFH', entities={'url': {'urls': [{'url': 'https://t.co/7choD27NFH', 'expanded_url': 'http://stezar.me', 'display_url': 'stezar.me', 'indices': [0, 23]}]}, 'description': {'urls': []}}, protected=False, followers_count=380, friends_count=354, listed_count=0, created_at=datetime.datetime(2010, 10, 19, 13, 42, 52), favourites_count=10, utc_offset=None, time_zone=None, geo_enabled=True, verified=False, statuses_count=7943, lang='en', contributors_enabled=False, is_translator=False, is_translation_enabled=False, profile_background_color='FFFCFC', profile_background_image_url='http://abs.twimg.com/images/themes/theme1/bg.png', profile_background_image_url_https='https://abs.twimg.com/images/themes/theme1/bg.png', profile_background_tile=True, profile_image_url='http://pbs.twimg.com/profile_images/796698571353387008/gyd9jJzH_normal.jpg', profile_image_url_https='https://pbs.twimg.com/profile_images/796698571353387008/gyd9jJzH_normal.jpg', profile_banner_url='https://pbs.twimg.com/profile_banners/204791971/1478782749', profile_link_color='468C17', profile_sidebar_border_color='FFFFFF', profile_sidebar_fill_color='78C0A8', profile_text_color='468C17', profile_use_background_image=True, has_extended_profile=False, default_profile=False, default_profile_image=False, following=False, follow_request_sent=False, notifications=False, translator_type='none'), geo=None, coordinates=None, place=None, contributors=None, is_quote_status=False, retweet_count=0, favorite_count=0, favorited=False, retweeted=False, lang='in')"
      ]
     },
     "execution_count": 151,
     "metadata": {},
     "output_type": "execute_result"
    }
   ],
   "source": [
    "myTweet.destroy()"
   ]
  },
  {
   "cell_type": "code",
   "execution_count": null,
   "metadata": {},
   "outputs": [],
   "source": []
  }
 ],
 "metadata": {
  "kernelspec": {
   "display_name": "Python 3",
   "language": "python",
   "name": "python3"
  },
  "language_info": {
   "codemirror_mode": {
    "name": "ipython",
    "version": 3
   },
   "file_extension": ".py",
   "mimetype": "text/x-python",
   "name": "python",
   "nbconvert_exporter": "python",
   "pygments_lexer": "ipython3",
   "version": "3.6.4"
  }
 },
 "nbformat": 4,
 "nbformat_minor": 2
}
