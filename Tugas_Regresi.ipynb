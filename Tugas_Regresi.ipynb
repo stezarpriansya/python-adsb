{
 "cells": [
  {
   "cell_type": "markdown",
   "metadata": {
    "colab_type": "text",
    "id": "q75_oNon-ohE"
   },
   "source": [
    "# Tugas Regresi"
   ]
  },
  {
   "cell_type": "markdown",
   "metadata": {
    "colab_type": "text",
    "id": "KYrUQxK3-ohI"
   },
   "source": [
    "## Data Insurance"
   ]
  },
  {
   "cell_type": "code",
   "execution_count": 2,
   "metadata": {
    "colab": {
     "autoexec": {
      "startup": false,
      "wait_interval": 0
     },
     "base_uri": "https://localhost:8080/",
     "height": 71
    },
    "colab_type": "code",
    "executionInfo": {
     "elapsed": 1040,
     "status": "ok",
     "timestamp": 1527658637746,
     "user": {
      "displayName": "Yustiana Indah Pratiwi",
      "photoUrl": "//lh5.googleusercontent.com/-D5oRNcZgod0/AAAAAAAAAAI/AAAAAAAAARs/yJI_IqMfesM/s50-c-k-no/photo.jpg",
      "userId": "106033827385792415327"
     },
     "user_tz": -420
    },
    "id": "LXlO3CLk-ohL",
    "outputId": "47e16093-1d3e-4493-ebbe-f85352b7e943"
   },
   "outputs": [],
   "source": [
    "import numpy as np\n",
    "import pandas as pd\n",
    "import matplotlib.pyplot as plt\n",
    "import statsmodels.formula.api as smf\n",
    "import statsmodels.api as sm\n",
    "import sklearn\n",
    "from sklearn.linear_model import LinearRegression\n",
    "import seaborn as sns\n",
    "% matplotlib inline"
   ]
  },
  {
   "cell_type": "code",
   "execution_count": 128,
   "metadata": {
    "colab": {
     "autoexec": {
      "startup": false,
      "wait_interval": 0
     },
     "base_uri": "https://localhost:8080/",
     "height": 269
    },
    "colab_type": "code",
    "executionInfo": {
     "elapsed": 1325,
     "status": "ok",
     "timestamp": 1527658079624,
     "user": {
      "displayName": "Nur Chamid",
      "photoUrl": "//lh5.googleusercontent.com/-TsgwUJzaJJg/AAAAAAAAAAI/AAAAAAAAARQ/Ngn5q-ighvg/s50-c-k-no/photo.jpg",
      "userId": "109513328284773316398"
     },
     "user_tz": -420
    },
    "id": "SZrvwx-Q-ohV",
    "outputId": "f91ef810-a8ea-45ea-96d0-a31b748eba00"
   },
   "outputs": [
    {
     "data": {
      "text/html": [
       "<div>\n",
       "<style scoped>\n",
       "    .dataframe tbody tr th:only-of-type {\n",
       "        vertical-align: middle;\n",
       "    }\n",
       "\n",
       "    .dataframe tbody tr th {\n",
       "        vertical-align: top;\n",
       "    }\n",
       "\n",
       "    .dataframe thead th {\n",
       "        text-align: right;\n",
       "    }\n",
       "</style>\n",
       "<table border=\"1\" class=\"dataframe\">\n",
       "  <thead>\n",
       "    <tr style=\"text-align: right;\">\n",
       "      <th></th>\n",
       "      <th>Age</th>\n",
       "      <th>Years of Driving Experience</th>\n",
       "      <th>Number of Vehicles</th>\n",
       "      <th>Gender</th>\n",
       "      <th>Married</th>\n",
       "      <th>Vehicle Age</th>\n",
       "      <th>Fuel Type</th>\n",
       "      <th>Losses</th>\n",
       "    </tr>\n",
       "    <tr>\n",
       "      <th>Policy Number</th>\n",
       "      <th></th>\n",
       "      <th></th>\n",
       "      <th></th>\n",
       "      <th></th>\n",
       "      <th></th>\n",
       "      <th></th>\n",
       "      <th></th>\n",
       "      <th></th>\n",
       "    </tr>\n",
       "  </thead>\n",
       "  <tbody>\n",
       "    <tr>\n",
       "      <th>150024</th>\n",
       "      <td>24</td>\n",
       "      <td>5</td>\n",
       "      <td>1</td>\n",
       "      <td>M</td>\n",
       "      <td>Married</td>\n",
       "      <td>11</td>\n",
       "      <td>P</td>\n",
       "      <td>203.319595</td>\n",
       "    </tr>\n",
       "    <tr>\n",
       "      <th>144880</th>\n",
       "      <td>31</td>\n",
       "      <td>10</td>\n",
       "      <td>1</td>\n",
       "      <td>F</td>\n",
       "      <td>Single</td>\n",
       "      <td>6</td>\n",
       "      <td>P</td>\n",
       "      <td>402.197302</td>\n",
       "    </tr>\n",
       "    <tr>\n",
       "      <th>133742</th>\n",
       "      <td>56</td>\n",
       "      <td>37</td>\n",
       "      <td>1</td>\n",
       "      <td>M</td>\n",
       "      <td>Married</td>\n",
       "      <td>0</td>\n",
       "      <td>D</td>\n",
       "      <td>553.132096</td>\n",
       "    </tr>\n",
       "    <tr>\n",
       "      <th>151282</th>\n",
       "      <td>52</td>\n",
       "      <td>31</td>\n",
       "      <td>1</td>\n",
       "      <td>F</td>\n",
       "      <td>Married</td>\n",
       "      <td>15</td>\n",
       "      <td>P</td>\n",
       "      <td>292.430579</td>\n",
       "    </tr>\n",
       "    <tr>\n",
       "      <th>174407</th>\n",
       "      <td>20</td>\n",
       "      <td>3</td>\n",
       "      <td>1</td>\n",
       "      <td>M</td>\n",
       "      <td>Single</td>\n",
       "      <td>15</td>\n",
       "      <td>P</td>\n",
       "      <td>246.540576</td>\n",
       "    </tr>\n",
       "  </tbody>\n",
       "</table>\n",
       "</div>"
      ],
      "text/plain": [
       "               Age  Years of Driving Experience  Number of Vehicles Gender  \\\n",
       "Policy Number                                                                \n",
       "150024          24                            5                   1      M   \n",
       "144880          31                           10                   1      F   \n",
       "133742          56                           37                   1      M   \n",
       "151282          52                           31                   1      F   \n",
       "174407          20                            3                   1      M   \n",
       "\n",
       "               Married  Vehicle Age Fuel Type      Losses  \n",
       "Policy Number                                              \n",
       "150024         Married           11         P  203.319595  \n",
       "144880          Single            6         P  402.197302  \n",
       "133742         Married            0         D  553.132096  \n",
       "151282         Married           15         P  292.430579  \n",
       "174407          Single           15         P  246.540576  "
      ]
     },
     "execution_count": 128,
     "metadata": {},
     "output_type": "execute_result"
    }
   ],
   "source": [
    "df=pd.read_csv('https://raw.githubusercontent.com/stezarpriansya/python-adsb/master/Insurance_Loss.csv', index_col = 0)\n",
    "df.head()"
   ]
  },
  {
   "cell_type": "markdown",
   "metadata": {
    "colab_type": "text",
    "id": "O7aV-Ddx-ohm"
   },
   "source": [
    "## Mengganti nama kolom"
   ]
  },
  {
   "cell_type": "code",
   "execution_count": 129,
   "metadata": {
    "colab": {
     "autoexec": {
      "startup": false,
      "wait_interval": 0
     },
     "base_uri": "https://localhost:8080/",
     "height": 235
    },
    "colab_type": "code",
    "executionInfo": {
     "elapsed": 932,
     "status": "ok",
     "timestamp": 1527658084654,
     "user": {
      "displayName": "Nur Chamid",
      "photoUrl": "//lh5.googleusercontent.com/-TsgwUJzaJJg/AAAAAAAAAAI/AAAAAAAAARQ/Ngn5q-ighvg/s50-c-k-no/photo.jpg",
      "userId": "109513328284773316398"
     },
     "user_tz": -420
    },
    "id": "fmtvpF04-oho",
    "outputId": "56225951-9f97-44cf-bfbf-cb1d7f2da816"
   },
   "outputs": [
    {
     "data": {
      "text/html": [
       "<div>\n",
       "<style scoped>\n",
       "    .dataframe tbody tr th:only-of-type {\n",
       "        vertical-align: middle;\n",
       "    }\n",
       "\n",
       "    .dataframe tbody tr th {\n",
       "        vertical-align: top;\n",
       "    }\n",
       "\n",
       "    .dataframe thead th {\n",
       "        text-align: right;\n",
       "    }\n",
       "</style>\n",
       "<table border=\"1\" class=\"dataframe\">\n",
       "  <thead>\n",
       "    <tr style=\"text-align: right;\">\n",
       "      <th></th>\n",
       "      <th>Age</th>\n",
       "      <th>YearsDE</th>\n",
       "      <th>VehicleNo</th>\n",
       "      <th>Gender</th>\n",
       "      <th>Married</th>\n",
       "      <th>VehicleAge</th>\n",
       "      <th>Fuel</th>\n",
       "      <th>Losses</th>\n",
       "    </tr>\n",
       "    <tr>\n",
       "      <th>Policy Number</th>\n",
       "      <th></th>\n",
       "      <th></th>\n",
       "      <th></th>\n",
       "      <th></th>\n",
       "      <th></th>\n",
       "      <th></th>\n",
       "      <th></th>\n",
       "      <th></th>\n",
       "    </tr>\n",
       "  </thead>\n",
       "  <tbody>\n",
       "    <tr>\n",
       "      <th>150024</th>\n",
       "      <td>24</td>\n",
       "      <td>5</td>\n",
       "      <td>1</td>\n",
       "      <td>M</td>\n",
       "      <td>Married</td>\n",
       "      <td>11</td>\n",
       "      <td>P</td>\n",
       "      <td>203.319595</td>\n",
       "    </tr>\n",
       "    <tr>\n",
       "      <th>144880</th>\n",
       "      <td>31</td>\n",
       "      <td>10</td>\n",
       "      <td>1</td>\n",
       "      <td>F</td>\n",
       "      <td>Single</td>\n",
       "      <td>6</td>\n",
       "      <td>P</td>\n",
       "      <td>402.197302</td>\n",
       "    </tr>\n",
       "    <tr>\n",
       "      <th>133742</th>\n",
       "      <td>56</td>\n",
       "      <td>37</td>\n",
       "      <td>1</td>\n",
       "      <td>M</td>\n",
       "      <td>Married</td>\n",
       "      <td>0</td>\n",
       "      <td>D</td>\n",
       "      <td>553.132096</td>\n",
       "    </tr>\n",
       "    <tr>\n",
       "      <th>151282</th>\n",
       "      <td>52</td>\n",
       "      <td>31</td>\n",
       "      <td>1</td>\n",
       "      <td>F</td>\n",
       "      <td>Married</td>\n",
       "      <td>15</td>\n",
       "      <td>P</td>\n",
       "      <td>292.430579</td>\n",
       "    </tr>\n",
       "    <tr>\n",
       "      <th>174407</th>\n",
       "      <td>20</td>\n",
       "      <td>3</td>\n",
       "      <td>1</td>\n",
       "      <td>M</td>\n",
       "      <td>Single</td>\n",
       "      <td>15</td>\n",
       "      <td>P</td>\n",
       "      <td>246.540576</td>\n",
       "    </tr>\n",
       "  </tbody>\n",
       "</table>\n",
       "</div>"
      ],
      "text/plain": [
       "               Age  YearsDE  VehicleNo Gender  Married  VehicleAge Fuel  \\\n",
       "Policy Number                                                             \n",
       "150024          24        5          1      M  Married          11    P   \n",
       "144880          31       10          1      F   Single           6    P   \n",
       "133742          56       37          1      M  Married           0    D   \n",
       "151282          52       31          1      F  Married          15    P   \n",
       "174407          20        3          1      M   Single          15    P   \n",
       "\n",
       "                   Losses  \n",
       "Policy Number              \n",
       "150024         203.319595  \n",
       "144880         402.197302  \n",
       "133742         553.132096  \n",
       "151282         292.430579  \n",
       "174407         246.540576  "
      ]
     },
     "execution_count": 129,
     "metadata": {},
     "output_type": "execute_result"
    }
   ],
   "source": [
    "df = df.rename(columns={'Policy Number':'PolicyNo','Years of Driving Experience': 'YearsDE','Number of Vehicles':'VehicleNo','Vehicle Age':'VehicleAge','Fuel Type':'Fuel'})\n",
    "df.head(5)"
   ]
  },
  {
   "cell_type": "markdown",
   "metadata": {
    "colab_type": "text",
    "id": "DrJwJ8AB-oh0"
   },
   "source": [
    "## Analisis Awal"
   ]
  },
  {
   "cell_type": "markdown",
   "metadata": {
    "colab_type": "text",
    "id": "i1q1Iv86YpdS"
   },
   "source": [
    "# New Section"
   ]
  },
  {
   "cell_type": "code",
   "execution_count": 7,
   "metadata": {
    "colab": {
     "autoexec": {
      "startup": false,
      "wait_interval": 0
     },
     "base_uri": "https://localhost:8080/",
     "height": 34
    },
    "colab_type": "code",
    "executionInfo": {
     "elapsed": 818,
     "status": "ok",
     "timestamp": 1527641114112,
     "user": {
      "displayName": "Nur Chamid",
      "photoUrl": "//lh5.googleusercontent.com/-TsgwUJzaJJg/AAAAAAAAAAI/AAAAAAAAARQ/Ngn5q-ighvg/s50-c-k-no/photo.jpg",
      "userId": "109513328284773316398"
     },
     "user_tz": -420
    },
    "id": "XEGK6TJn-oh3",
    "outputId": "e63bd9a5-9b1b-4441-be27-bf182e7d0cae"
   },
   "outputs": [
    {
     "data": {
      "text/plain": [
       "(15290, 8)"
      ]
     },
     "execution_count": 7,
     "metadata": {},
     "output_type": "execute_result"
    }
   ],
   "source": [
    "df.shape"
   ]
  },
  {
   "cell_type": "code",
   "execution_count": 8,
   "metadata": {
    "colab": {
     "autoexec": {
      "startup": false,
      "wait_interval": 0
     },
     "base_uri": "https://localhost:8080/",
     "height": 170
    },
    "colab_type": "code",
    "executionInfo": {
     "elapsed": 708,
     "status": "ok",
     "timestamp": 1527641114969,
     "user": {
      "displayName": "Nur Chamid",
      "photoUrl": "//lh5.googleusercontent.com/-TsgwUJzaJJg/AAAAAAAAAAI/AAAAAAAAARQ/Ngn5q-ighvg/s50-c-k-no/photo.jpg",
      "userId": "109513328284773316398"
     },
     "user_tz": -420
    },
    "id": "LuPKjghs-oiH",
    "outputId": "b3b75ad2-8175-4dd8-828f-22f43b71f6d1"
   },
   "outputs": [
    {
     "data": {
      "text/plain": [
       "Age             int64\n",
       "YearsDE         int64\n",
       "VehicleNo       int64\n",
       "Gender         object\n",
       "Married        object\n",
       "VehicleAge      int64\n",
       "Fuel           object\n",
       "Losses        float64\n",
       "dtype: object"
      ]
     },
     "execution_count": 8,
     "metadata": {},
     "output_type": "execute_result"
    }
   ],
   "source": [
    "df.dtypes"
   ]
  },
  {
   "cell_type": "code",
   "execution_count": 9,
   "metadata": {
    "colab": {
     "autoexec": {
      "startup": false,
      "wait_interval": 0
     },
     "base_uri": "https://localhost:8080/",
     "height": 297
    },
    "colab_type": "code",
    "executionInfo": {
     "elapsed": 656,
     "status": "ok",
     "timestamp": 1527641115786,
     "user": {
      "displayName": "Nur Chamid",
      "photoUrl": "//lh5.googleusercontent.com/-TsgwUJzaJJg/AAAAAAAAAAI/AAAAAAAAARQ/Ngn5q-ighvg/s50-c-k-no/photo.jpg",
      "userId": "109513328284773316398"
     },
     "user_tz": -420
    },
    "id": "0R6MIQIN-oiB",
    "outputId": "1fd2aaf0-38f1-4ea3-cbd9-6a79856eb5d1"
   },
   "outputs": [
    {
     "data": {
      "text/html": [
       "<div>\n",
       "<style scoped>\n",
       "    .dataframe tbody tr th:only-of-type {\n",
       "        vertical-align: middle;\n",
       "    }\n",
       "\n",
       "    .dataframe tbody tr th {\n",
       "        vertical-align: top;\n",
       "    }\n",
       "\n",
       "    .dataframe thead th {\n",
       "        text-align: right;\n",
       "    }\n",
       "</style>\n",
       "<table border=\"1\" class=\"dataframe\">\n",
       "  <thead>\n",
       "    <tr style=\"text-align: right;\">\n",
       "      <th></th>\n",
       "      <th>Age</th>\n",
       "      <th>YearsDE</th>\n",
       "      <th>VehicleNo</th>\n",
       "      <th>VehicleAge</th>\n",
       "      <th>Losses</th>\n",
       "    </tr>\n",
       "  </thead>\n",
       "  <tbody>\n",
       "    <tr>\n",
       "      <th>count</th>\n",
       "      <td>15290.000000</td>\n",
       "      <td>15290.000000</td>\n",
       "      <td>15290.000000</td>\n",
       "      <td>15290.000000</td>\n",
       "      <td>15290.000000</td>\n",
       "    </tr>\n",
       "    <tr>\n",
       "      <th>mean</th>\n",
       "      <td>42.328254</td>\n",
       "      <td>23.732897</td>\n",
       "      <td>2.495880</td>\n",
       "      <td>8.655723</td>\n",
       "      <td>389.859718</td>\n",
       "    </tr>\n",
       "    <tr>\n",
       "      <th>std</th>\n",
       "      <td>18.280511</td>\n",
       "      <td>17.850707</td>\n",
       "      <td>0.953776</td>\n",
       "      <td>4.344536</td>\n",
       "      <td>253.729433</td>\n",
       "    </tr>\n",
       "    <tr>\n",
       "      <th>min</th>\n",
       "      <td>16.000000</td>\n",
       "      <td>0.000000</td>\n",
       "      <td>1.000000</td>\n",
       "      <td>0.000000</td>\n",
       "      <td>12.534521</td>\n",
       "    </tr>\n",
       "    <tr>\n",
       "      <th>25%</th>\n",
       "      <td>24.000000</td>\n",
       "      <td>6.000000</td>\n",
       "      <td>2.000000</td>\n",
       "      <td>6.000000</td>\n",
       "      <td>226.434217</td>\n",
       "    </tr>\n",
       "    <tr>\n",
       "      <th>50%</th>\n",
       "      <td>42.000000</td>\n",
       "      <td>23.000000</td>\n",
       "      <td>2.000000</td>\n",
       "      <td>9.000000</td>\n",
       "      <td>354.937874</td>\n",
       "    </tr>\n",
       "    <tr>\n",
       "      <th>75%</th>\n",
       "      <td>61.000000</td>\n",
       "      <td>42.000000</td>\n",
       "      <td>3.000000</td>\n",
       "      <td>12.000000</td>\n",
       "      <td>488.676927</td>\n",
       "    </tr>\n",
       "    <tr>\n",
       "      <th>max</th>\n",
       "      <td>70.000000</td>\n",
       "      <td>53.000000</td>\n",
       "      <td>4.000000</td>\n",
       "      <td>15.000000</td>\n",
       "      <td>3500.000000</td>\n",
       "    </tr>\n",
       "  </tbody>\n",
       "</table>\n",
       "</div>"
      ],
      "text/plain": [
       "                Age       YearsDE     VehicleNo    VehicleAge        Losses\n",
       "count  15290.000000  15290.000000  15290.000000  15290.000000  15290.000000\n",
       "mean      42.328254     23.732897      2.495880      8.655723    389.859718\n",
       "std       18.280511     17.850707      0.953776      4.344536    253.729433\n",
       "min       16.000000      0.000000      1.000000      0.000000     12.534521\n",
       "25%       24.000000      6.000000      2.000000      6.000000    226.434217\n",
       "50%       42.000000     23.000000      2.000000      9.000000    354.937874\n",
       "75%       61.000000     42.000000      3.000000     12.000000    488.676927\n",
       "max       70.000000     53.000000      4.000000     15.000000   3500.000000"
      ]
     },
     "execution_count": 9,
     "metadata": {},
     "output_type": "execute_result"
    }
   ],
   "source": [
    "df.describe()"
   ]
  },
  {
   "cell_type": "markdown",
   "metadata": {
    "colab_type": "text",
    "id": "hiFgJY-3-oiO"
   },
   "source": [
    "## Scatter Plot"
   ]
  },
  {
   "cell_type": "code",
   "execution_count": 10,
   "metadata": {
    "colab": {
     "autoexec": {
      "startup": false,
      "wait_interval": 0
     },
     "base_uri": "https://localhost:8080/",
     "height": 280
    },
    "colab_type": "code",
    "executionInfo": {
     "elapsed": 911,
     "status": "ok",
     "timestamp": 1527655418723,
     "user": {
      "displayName": "Petronella Mira Melati",
      "photoUrl": "https://lh3.googleusercontent.com/a/default-user=s128",
      "userId": "113417101282547246373"
     },
     "user_tz": -420
    },
    "id": "F2rEvuMM-oiO",
    "outputId": "98d67264-a2d4-42f4-fe4c-d634042eea7a"
   },
   "outputs": [
    {
     "data": {
      "image/png": "[encoded data removed]",
      "text/plain": [
       "<matplotlib.figure.Figure at 0x281c665fb70>"
      ]
     },
     "metadata": {},
     "output_type": "display_data"
    }
   ],
   "source": [
    "# membuat scatter plot\n",
    "plt.scatter(df.Age,df.Losses, color='green')\n",
    "plt.title('Age - Losses')\n",
    "plt.show()"
   ]
  },
  {
   "cell_type": "code",
   "execution_count": 11,
   "metadata": {
    "colab": {
     "autoexec": {
      "startup": false,
      "wait_interval": 0
     },
     "base_uri": "https://localhost:8080/",
     "height": 265
    },
    "colab_type": "code",
    "executionInfo": {
     "elapsed": 854,
     "status": "ok",
     "timestamp": 1527641118030,
     "user": {
      "displayName": "Nur Chamid",
      "photoUrl": "//lh5.googleusercontent.com/-TsgwUJzaJJg/AAAAAAAAAAI/AAAAAAAAARQ/Ngn5q-ighvg/s50-c-k-no/photo.jpg",
      "userId": "109513328284773316398"
     },
     "user_tz": -420
    },
    "id": "iRa8ILeS-oiX",
    "outputId": "40d36e0d-f225-4adc-a8f6-db22a4b22042"
   },
   "outputs": [
    {
     "data": {
      "image/png": "[encoded data removed]",
      "text/plain": [
       "<matplotlib.figure.Figure at 0x281c6948630>"
      ]
     },
     "metadata": {},
     "output_type": "display_data"
    }
   ],
   "source": [
    "# membuat scatter plot\n",
    "plt.scatter(df.YearsDE,df.Losses, color='red')\n",
    "plt.show()"
   ]
  },
  {
   "cell_type": "code",
   "execution_count": 12,
   "metadata": {
    "colab": {
     "autoexec": {
      "startup": false,
      "wait_interval": 0
     },
     "base_uri": "https://localhost:8080/",
     "height": 265
    },
    "colab_type": "code",
    "executionInfo": {
     "elapsed": 703,
     "status": "ok",
     "timestamp": 1527641118964,
     "user": {
      "displayName": "Nur Chamid",
      "photoUrl": "//lh5.googleusercontent.com/-TsgwUJzaJJg/AAAAAAAAAAI/AAAAAAAAARQ/Ngn5q-ighvg/s50-c-k-no/photo.jpg",
      "userId": "109513328284773316398"
     },
     "user_tz": -420
    },
    "id": "_-JzQZtK-oif",
    "outputId": "28f3f668-ca0c-41f6-f47d-cbb5f6b04757"
   },
   "outputs": [
    {
     "data": {
      "image/png": "[encoded data removed]",
      "text/plain": [
       "<matplotlib.figure.Figure at 0x281c69245c0>"
      ]
     },
     "metadata": {},
     "output_type": "display_data"
    }
   ],
   "source": [
    "# membuat scatter plot\n",
    "plt.scatter(df.VehicleAge,df.Losses, color='red')\n",
    "plt.show()"
   ]
  },
  {
   "cell_type": "code",
   "execution_count": 13,
   "metadata": {
    "colab": {
     "autoexec": {
      "startup": false,
      "wait_interval": 0
     },
     "base_uri": "https://localhost:8080/",
     "height": 282
    },
    "colab_type": "code",
    "executionInfo": {
     "elapsed": 721,
     "status": "ok",
     "timestamp": 1527641119855,
     "user": {
      "displayName": "Nur Chamid",
      "photoUrl": "//lh5.googleusercontent.com/-TsgwUJzaJJg/AAAAAAAAAAI/AAAAAAAAARQ/Ngn5q-ighvg/s50-c-k-no/photo.jpg",
      "userId": "109513328284773316398"
     },
     "user_tz": -420
    },
    "id": "xFqsEjjj-oim",
    "outputId": "e1283673-bcf8-4c6d-fefc-3faaecb556bf"
   },
   "outputs": [
    {
     "data": {
      "text/plain": [
       "<matplotlib.axes._subplots.AxesSubplot at 0x281c699f7b8>"
      ]
     },
     "execution_count": 13,
     "metadata": {},
     "output_type": "execute_result"
    },
    {
     "data": {
      "image/png": "[encoded data removed]",
      "text/plain": [
       "<matplotlib.figure.Figure at 0x281c69e6e48>"
      ]
     },
     "metadata": {},
     "output_type": "display_data"
    }
   ],
   "source": [
    "df['VehicleNo'].hist(bins=20)"
   ]
  },
  {
   "cell_type": "code",
   "execution_count": 14,
   "metadata": {
    "colab": {
     "autoexec": {
      "startup": false,
      "wait_interval": 0
     },
     "base_uri": "https://localhost:8080/",
     "height": 265
    },
    "colab_type": "code",
    "executionInfo": {
     "elapsed": 1011,
     "status": "ok",
     "timestamp": 1527641121003,
     "user": {
      "displayName": "Nur Chamid",
      "photoUrl": "//lh5.googleusercontent.com/-TsgwUJzaJJg/AAAAAAAAAAI/AAAAAAAAARQ/Ngn5q-ighvg/s50-c-k-no/photo.jpg",
      "userId": "109513328284773316398"
     },
     "user_tz": -420
    },
    "id": "FkUepvxN-oi1",
    "outputId": "a3b6c2de-49bb-450f-d083-74fbe8d24818"
   },
   "outputs": [
    {
     "data": {
      "image/png": "[encoded data removed]",
      "text/plain": [
       "<matplotlib.figure.Figure at 0x281c6a51fd0>"
      ]
     },
     "metadata": {},
     "output_type": "display_data"
    }
   ],
   "source": [
    "# membuat scatter plot\n",
    "plt.scatter(df.VehicleNo,df.Losses, color='red')\n",
    "plt.show()"
   ]
  },
  {
   "cell_type": "code",
   "execution_count": 15,
   "metadata": {
    "colab": {
     "autoexec": {
      "startup": false,
      "wait_interval": 0
     },
     "base_uri": "https://localhost:8080/",
     "height": 280
    },
    "colab_type": "code",
    "executionInfo": {
     "elapsed": 916,
     "status": "ok",
     "timestamp": 1527655985380,
     "user": {
      "displayName": "Petronella Mira Melati",
      "photoUrl": "https://lh3.googleusercontent.com/a/default-user=s128",
      "userId": "113417101282547246373"
     },
     "user_tz": -420
    },
    "id": "ZLZgYrr3la0N",
    "outputId": "abc5ce09-3fe6-4f70-af13-2d77b3d9e2de"
   },
   "outputs": [
    {
     "data": {
      "image/png": "[encoded data removed]",
      "text/plain": [
       "<matplotlib.figure.Figure at 0x281c6acd278>"
      ]
     },
     "metadata": {},
     "output_type": "display_data"
    }
   ],
   "source": [
    "plt.scatter(df.index, df.Losses, color='green')\n",
    "plt.title('Persebaran Data Losses')\n",
    "plt.hlines(y=2000, xmin=100000,xmax=200000)\n",
    "plt.show()"
   ]
  },
  {
   "cell_type": "code",
   "execution_count": 16,
   "metadata": {
    "colab": {
     "autoexec": {
      "startup": false,
      "wait_interval": 0
     },
     "base_uri": "https://localhost:8080/",
     "height": 265
    },
    "colab_type": "code",
    "executionInfo": {
     "elapsed": 889,
     "status": "ok",
     "timestamp": 1527642497831,
     "user": {
      "displayName": "Nur Chamid",
      "photoUrl": "//lh5.googleusercontent.com/-TsgwUJzaJJg/AAAAAAAAAAI/AAAAAAAAARQ/Ngn5q-ighvg/s50-c-k-no/photo.jpg",
      "userId": "109513328284773316398"
     },
     "user_tz": -420
    },
    "id": "dGQ71AQolU8z",
    "outputId": "dfa0f811-31bb-4d2d-f60b-bbd78b0345a5"
   },
   "outputs": [
    {
     "data": {
      "image/png": "[encoded data removed]",
      "text/plain": [
       "<matplotlib.figure.Figure at 0x281c6aed048>"
      ]
     },
     "metadata": {},
     "output_type": "display_data"
    }
   ],
   "source": [
    "plt.hist(df.Losses,bins=100)\n",
    "plt.show()"
   ]
  },
  {
   "cell_type": "markdown",
   "metadata": {
    "colab_type": "text",
    "id": "oZuaao_j-oi7"
   },
   "source": [
    "## Identifikasi Data Kategorik"
   ]
  },
  {
   "cell_type": "code",
   "execution_count": 17,
   "metadata": {
    "colab": {
     "autoexec": {
      "startup": false,
      "wait_interval": 0
     },
     "base_uri": "https://localhost:8080/",
     "height": 382
    },
    "colab_type": "code",
    "executionInfo": {
     "elapsed": 703,
     "status": "ok",
     "timestamp": 1527641121985,
     "user": {
      "displayName": "Nur Chamid",
      "photoUrl": "//lh5.googleusercontent.com/-TsgwUJzaJJg/AAAAAAAAAAI/AAAAAAAAARQ/Ngn5q-ighvg/s50-c-k-no/photo.jpg",
      "userId": "109513328284773316398"
     },
     "user_tz": -420
    },
    "id": "CsiurJpA-oi-",
    "outputId": "e5b5935b-3f0b-4c1a-ba79-04ac53007e82"
   },
   "outputs": [
    {
     "name": "stdout",
     "output_type": "stream",
     "text": [
      "VehicleNo\n",
      "1    2533\n",
      "2    5152\n",
      "3    5095\n",
      "4    2510\n",
      "Name: Age, dtype: int64\n"
     ]
    },
    {
     "data": {
      "image/png": "[encoded data removed]",
      "text/plain": [
       "<matplotlib.figure.Figure at 0x281c7c0a7b8>"
      ]
     },
     "metadata": {},
     "output_type": "display_data"
    }
   ],
   "source": [
    "print(df.groupby('VehicleNo').count()['Age'])\n",
    "VehicleNo_dist=df.groupby(['VehicleNo']).count()[['Age']]\n",
    "plt.bar(VehicleNo_dist.index,VehicleNo_dist.Age)\n",
    "plt.title('Banyak Vehicle')\n",
    "plt.show()"
   ]
  },
  {
   "cell_type": "code",
   "execution_count": 18,
   "metadata": {
    "colab": {
     "autoexec": {
      "startup": false,
      "wait_interval": 0
     },
     "base_uri": "https://localhost:8080/",
     "height": 348
    },
    "colab_type": "code",
    "executionInfo": {
     "elapsed": 649,
     "status": "ok",
     "timestamp": 1527641122801,
     "user": {
      "displayName": "Nur Chamid",
      "photoUrl": "//lh5.googleusercontent.com/-TsgwUJzaJJg/AAAAAAAAAAI/AAAAAAAAARQ/Ngn5q-ighvg/s50-c-k-no/photo.jpg",
      "userId": "109513328284773316398"
     },
     "user_tz": -420
    },
    "id": "Xv7oQUE9-ojF",
    "outputId": "8b8a5076-7f52-4d3f-f3fa-a4ba84228996"
   },
   "outputs": [
    {
     "name": "stdout",
     "output_type": "stream",
     "text": [
      "Gender\n",
      "F    7747\n",
      "M    7543\n",
      "Name: Age, dtype: int64\n"
     ]
    },
    {
     "data": {
      "image/png": "[encoded data removed]",
      "text/plain": [
       "<matplotlib.figure.Figure at 0x281c7ce74e0>"
      ]
     },
     "metadata": {},
     "output_type": "display_data"
    }
   ],
   "source": [
    "print(df.groupby('Gender').count()['Age'])\n",
    "VehicleNo_dist=df.groupby(['Gender']).count()[['Age']]\n",
    "plt.bar(VehicleNo_dist.index,VehicleNo_dist.Age)\n",
    "plt.title('Jenis Kelamin')\n",
    "plt.show()"
   ]
  },
  {
   "cell_type": "code",
   "execution_count": 19,
   "metadata": {
    "colab": {
     "autoexec": {
      "startup": false,
      "wait_interval": 0
     },
     "base_uri": "https://localhost:8080/",
     "height": 348
    },
    "colab_type": "code",
    "executionInfo": {
     "elapsed": 691,
     "status": "ok",
     "timestamp": 1527641123687,
     "user": {
      "displayName": "Nur Chamid",
      "photoUrl": "//lh5.googleusercontent.com/-TsgwUJzaJJg/AAAAAAAAAAI/AAAAAAAAARQ/Ngn5q-ighvg/s50-c-k-no/photo.jpg",
      "userId": "109513328284773316398"
     },
     "user_tz": -420
    },
    "id": "5QmZ8zFs-ojO",
    "outputId": "7d1657df-6269-4f12-e99f-9325b860bb3f"
   },
   "outputs": [
    {
     "name": "stdout",
     "output_type": "stream",
     "text": [
      "Married\n",
      "Married    7783\n",
      "Single     7507\n",
      "Name: Age, dtype: int64\n"
     ]
    },
    {
     "data": {
      "image/png": "[encoded data removed]",
      "text/plain": [
       "<matplotlib.figure.Figure at 0x281c7d82a90>"
      ]
     },
     "metadata": {},
     "output_type": "display_data"
    }
   ],
   "source": [
    "print(df.groupby('Married').count()['Age'])\n",
    "VehicleNo_dist=df.groupby(['Married']).count()[['Age']]\n",
    "plt.bar(VehicleNo_dist.index,VehicleNo_dist.Age)\n",
    "plt.title('Status Menikah')\n",
    "plt.show()"
   ]
  },
  {
   "cell_type": "code",
   "execution_count": 20,
   "metadata": {
    "colab": {
     "autoexec": {
      "startup": false,
      "wait_interval": 0
     },
     "base_uri": "https://localhost:8080/",
     "height": 348
    },
    "colab_type": "code",
    "executionInfo": {
     "elapsed": 807,
     "status": "ok",
     "timestamp": 1527641124584,
     "user": {
      "displayName": "Nur Chamid",
      "photoUrl": "//lh5.googleusercontent.com/-TsgwUJzaJJg/AAAAAAAAAAI/AAAAAAAAARQ/Ngn5q-ighvg/s50-c-k-no/photo.jpg",
      "userId": "109513328284773316398"
     },
     "user_tz": -420
    },
    "id": "r9M2GaNN-ojU",
    "outputId": "3e2a85b0-6148-4179-831b-d1fdbb6c99c7"
   },
   "outputs": [
    {
     "name": "stdout",
     "output_type": "stream",
     "text": [
      "Fuel\n",
      "D     3620\n",
      "P    11670\n",
      "Name: Age, dtype: int64\n"
     ]
    },
    {
     "data": {
      "image/png": "[encoded data removed]",
      "text/plain": [
       "<matplotlib.figure.Figure at 0x281c6a58048>"
      ]
     },
     "metadata": {},
     "output_type": "display_data"
    }
   ],
   "source": [
    "print(df.groupby('Fuel').count()['Age'])\n",
    "VehicleNo_dist=df.groupby(['Fuel']).count()[['Age']]\n",
    "plt.bar(VehicleNo_dist.index,VehicleNo_dist.Age)\n",
    "plt.title('Jenis Bahan Bakar')\n",
    "plt.show()"
   ]
  },
  {
   "cell_type": "code",
   "execution_count": null,
   "metadata": {
    "colab": {
     "autoexec": {
      "startup": false,
      "wait_interval": 0
     }
    },
    "colab_type": "code",
    "id": "-jspw7IW-ojZ"
   },
   "outputs": [],
   "source": []
  },
  {
   "cell_type": "markdown",
   "metadata": {
    "colab_type": "text",
    "id": "IAacdhc8-oje"
   },
   "source": [
    "## Advance"
   ]
  },
  {
   "cell_type": "code",
   "execution_count": 21,
   "metadata": {
    "colab": {
     "autoexec": {
      "startup": false,
      "wait_interval": 0
     },
     "base_uri": "https://localhost:8080/",
     "height": 925
    },
    "colab_type": "code",
    "executionInfo": {
     "elapsed": 7894,
     "status": "ok",
     "timestamp": 1527641133441,
     "user": {
      "displayName": "Nur Chamid",
      "photoUrl": "//lh5.googleusercontent.com/-TsgwUJzaJJg/AAAAAAAAAAI/AAAAAAAAARQ/Ngn5q-ighvg/s50-c-k-no/photo.jpg",
      "userId": "109513328284773316398"
     },
     "user_tz": -420
    },
    "id": "V_3-OWMc-ojg",
    "outputId": "5d93800b-01e1-4de9-8064-851901efe73f"
   },
   "outputs": [
    {
     "data": {
      "image/png": "[encoded data removed]",
      "text/plain": [
       "<matplotlib.figure.Figure at 0x281c7bc2cf8>"
      ]
     },
     "metadata": {},
     "output_type": "display_data"
    }
   ],
   "source": [
    "sns.pairplot(df)\n",
    "plt.show()"
   ]
  },
  {
   "cell_type": "code",
   "execution_count": 22,
   "metadata": {
    "colab": {
     "autoexec": {
      "startup": false,
      "wait_interval": 0
     },
     "base_uri": "https://localhost:8080/",
     "height": 369
    },
    "colab_type": "code",
    "executionInfo": {
     "elapsed": 2538,
     "status": "ok",
     "timestamp": 1527641136021,
     "user": {
      "displayName": "Nur Chamid",
      "photoUrl": "//lh5.googleusercontent.com/-TsgwUJzaJJg/AAAAAAAAAAI/AAAAAAAAARQ/Ngn5q-ighvg/s50-c-k-no/photo.jpg",
      "userId": "109513328284773316398"
     },
     "user_tz": -420
    },
    "id": "l4q1vZLK-ojj",
    "outputId": "395aa39a-d6c9-4856-f853-67ac4287c07a"
   },
   "outputs": [
    {
     "data": {
      "image/png": "[encoded data removed]",
      "text/plain": [
       "<matplotlib.figure.Figure at 0x281c871e7b8>"
      ]
     },
     "metadata": {},
     "output_type": "display_data"
    }
   ],
   "source": [
    "sns.lmplot(x='VehicleAge',y='Losses',data=df) # LMPLOT\n",
    "plt.show()"
   ]
  },
  {
   "cell_type": "code",
   "execution_count": 23,
   "metadata": {
    "colab": {
     "autoexec": {
      "startup": false,
      "wait_interval": 0
     },
     "base_uri": "https://localhost:8080/",
     "height": 350
    },
    "colab_type": "code",
    "executionInfo": {
     "elapsed": 800,
     "status": "ok",
     "timestamp": 1527641136896,
     "user": {
      "displayName": "Nur Chamid",
      "photoUrl": "//lh5.googleusercontent.com/-TsgwUJzaJJg/AAAAAAAAAAI/AAAAAAAAARQ/Ngn5q-ighvg/s50-c-k-no/photo.jpg",
      "userId": "109513328284773316398"
     },
     "user_tz": -420
    },
    "id": "HU3AqD3R-ojm",
    "outputId": "ec7f24b8-2e2e-4baa-e2aa-07cd4e1671fa"
   },
   "outputs": [
    {
     "name": "stdout",
     "output_type": "stream",
     "text": [
      "          0         1         2         3\n",
      "0  1.000065 -0.243587  0.997226 -0.442991\n",
      "1 -0.243587  1.000065 -0.238188 -0.274739\n",
      "2  0.997226 -0.238188  1.000065 -0.442144\n",
      "3 -0.442991 -0.274739 -0.442144  1.000065\n"
     ]
    },
    {
     "data": {
      "image/png": "[encoded data removed]",
      "text/plain": [
       "<matplotlib.figure.Figure at 0x281c8a7c390>"
      ]
     },
     "metadata": {},
     "output_type": "display_data"
    }
   ],
   "source": [
    "from sklearn import preprocessing\n",
    "from matplotlib.pyplot import cm\n",
    "\n",
    "std_scale=preprocessing.StandardScaler().fit(df[['Age','VehicleAge','YearsDE','Losses']])\n",
    "df_std=std_scale.transform(df[['Age','VehicleAge','YearsDE','Losses']])\n",
    "\n",
    "data=pd.DataFrame(df_std)\n",
    "data.head()\n",
    "\n",
    "print(data.cov())\n",
    "sns.heatmap(data.cov(),cmap=cm.Blues,annot=True) # korelasi atau hubungan antar variabel\n",
    "plt.show()"
   ]
  },
  {
   "cell_type": "code",
   "execution_count": null,
   "metadata": {
    "colab": {
     "autoexec": {
      "startup": false,
      "wait_interval": 0
     }
    },
    "colab_type": "code",
    "id": "RIwoR6QB-ojq"
   },
   "outputs": [],
   "source": []
  },
  {
   "cell_type": "markdown",
   "metadata": {
    "colab_type": "text",
    "id": "lGtcT5to-ojs"
   },
   "source": [
    "# Regresi Sederhana"
   ]
  },
  {
   "cell_type": "markdown",
   "metadata": {
    "colab_type": "text",
    "id": "KEQj5O5o-oju"
   },
   "source": [
    "## Losses - Age"
   ]
  },
  {
   "cell_type": "markdown",
   "metadata": {
    "colab_type": "text",
    "id": "3RaRHU-y-ojw"
   },
   "source": [
    "Persamaan Regresi "
   ]
  },
  {
   "cell_type": "code",
   "execution_count": 24,
   "metadata": {
    "colab": {
     "autoexec": {
      "startup": false,
      "wait_interval": 0
     }
    },
    "colab_type": "code",
    "id": "DubhvRDf-ojx"
   },
   "outputs": [],
   "source": [
    "lm=smf.ols(formula='Losses~Age', data=df).fit()"
   ]
  },
  {
   "cell_type": "code",
   "execution_count": 25,
   "metadata": {
    "colab": {
     "autoexec": {
      "startup": false,
      "wait_interval": 0
     },
     "base_uri": "https://localhost:8080/",
     "height": 68
    },
    "colab_type": "code",
    "executionInfo": {
     "elapsed": 748,
     "status": "ok",
     "timestamp": 1527641139709,
     "user": {
      "displayName": "Nur Chamid",
      "photoUrl": "//lh5.googleusercontent.com/-TsgwUJzaJJg/AAAAAAAAAAI/AAAAAAAAARQ/Ngn5q-ighvg/s50-c-k-no/photo.jpg",
      "userId": "109513328284773316398"
     },
     "user_tz": -420
    },
    "id": "NOViYb_x-oj1",
    "outputId": "a6c44f1d-74b5-42c6-d51d-a26aaa13ab9c"
   },
   "outputs": [
    {
     "data": {
      "text/plain": [
       "Intercept    650.102982\n",
       "Age           -6.148216\n",
       "dtype: float64"
      ]
     },
     "execution_count": 25,
     "metadata": {},
     "output_type": "execute_result"
    }
   ],
   "source": [
    "lm.params"
   ]
  },
  {
   "cell_type": "markdown",
   "metadata": {
    "colab_type": "text",
    "id": "w9V-3l2M-oj6"
   },
   "source": [
    "Memprediksi"
   ]
  },
  {
   "cell_type": "code",
   "execution_count": 26,
   "metadata": {
    "colab": {
     "autoexec": {
      "startup": false,
      "wait_interval": 0
     },
     "base_uri": "https://localhost:8080/",
     "height": 80
    },
    "colab_type": "code",
    "executionInfo": {
     "elapsed": 764,
     "status": "ok",
     "timestamp": 1527641140570,
     "user": {
      "displayName": "Nur Chamid",
      "photoUrl": "//lh5.googleusercontent.com/-TsgwUJzaJJg/AAAAAAAAAAI/AAAAAAAAARQ/Ngn5q-ighvg/s50-c-k-no/photo.jpg",
      "userId": "109513328284773316398"
     },
     "user_tz": -420
    },
    "id": "31oIWXrb-oj7",
    "outputId": "df03b99c-9fc5-4f0c-aa6d-85b7d1c2a94d"
   },
   "outputs": [
    {
     "data": {
      "text/html": [
       "<div>\n",
       "<style scoped>\n",
       "    .dataframe tbody tr th:only-of-type {\n",
       "        vertical-align: middle;\n",
       "    }\n",
       "\n",
       "    .dataframe tbody tr th {\n",
       "        vertical-align: top;\n",
       "    }\n",
       "\n",
       "    .dataframe thead th {\n",
       "        text-align: right;\n",
       "    }\n",
       "</style>\n",
       "<table border=\"1\" class=\"dataframe\">\n",
       "  <thead>\n",
       "    <tr style=\"text-align: right;\">\n",
       "      <th></th>\n",
       "      <th>Age</th>\n",
       "    </tr>\n",
       "  </thead>\n",
       "  <tbody>\n",
       "    <tr>\n",
       "      <th>0</th>\n",
       "      <td>45</td>\n",
       "    </tr>\n",
       "  </tbody>\n",
       "</table>\n",
       "</div>"
      ],
      "text/plain": [
       "   Age\n",
       "0   45"
      ]
     },
     "execution_count": 26,
     "metadata": {},
     "output_type": "execute_result"
    }
   ],
   "source": [
    "X_new=pd.DataFrame({'Age':[45]})\n",
    "X_new.head()"
   ]
  },
  {
   "cell_type": "code",
   "execution_count": 27,
   "metadata": {
    "colab": {
     "autoexec": {
      "startup": false,
      "wait_interval": 0
     },
     "base_uri": "https://localhost:8080/",
     "height": 51
    },
    "colab_type": "code",
    "executionInfo": {
     "elapsed": 730,
     "status": "ok",
     "timestamp": 1527641141422,
     "user": {
      "displayName": "Nur Chamid",
      "photoUrl": "//lh5.googleusercontent.com/-TsgwUJzaJJg/AAAAAAAAAAI/AAAAAAAAARQ/Ngn5q-ighvg/s50-c-k-no/photo.jpg",
      "userId": "109513328284773316398"
     },
     "user_tz": -420
    },
    "id": "Cwniuzsn-oj-",
    "outputId": "939837f0-de27-46a4-c3ef-1457712ea84c"
   },
   "outputs": [
    {
     "data": {
      "text/plain": [
       "0    373.433244\n",
       "dtype: float64"
      ]
     },
     "execution_count": 27,
     "metadata": {},
     "output_type": "execute_result"
    }
   ],
   "source": [
    "# memprediksi nilai baru\n",
    "lm.predict(X_new)"
   ]
  },
  {
   "cell_type": "markdown",
   "metadata": {
    "colab_type": "text",
    "id": "si5E0CfA-okE"
   },
   "source": [
    "Memprediksi dengan nilai min dan max"
   ]
  },
  {
   "cell_type": "code",
   "execution_count": 28,
   "metadata": {
    "colab": {
     "autoexec": {
      "startup": false,
      "wait_interval": 0
     },
     "base_uri": "https://localhost:8080/",
     "height": 111
    },
    "colab_type": "code",
    "executionInfo": {
     "elapsed": 943,
     "status": "ok",
     "timestamp": 1527641142492,
     "user": {
      "displayName": "Nur Chamid",
      "photoUrl": "//lh5.googleusercontent.com/-TsgwUJzaJJg/AAAAAAAAAAI/AAAAAAAAARQ/Ngn5q-ighvg/s50-c-k-no/photo.jpg",
      "userId": "109513328284773316398"
     },
     "user_tz": -420
    },
    "id": "zr44rnw3-okF",
    "outputId": "56129b7b-7dec-4121-a556-fbd44437fa3d"
   },
   "outputs": [
    {
     "data": {
      "text/html": [
       "<div>\n",
       "<style scoped>\n",
       "    .dataframe tbody tr th:only-of-type {\n",
       "        vertical-align: middle;\n",
       "    }\n",
       "\n",
       "    .dataframe tbody tr th {\n",
       "        vertical-align: top;\n",
       "    }\n",
       "\n",
       "    .dataframe thead th {\n",
       "        text-align: right;\n",
       "    }\n",
       "</style>\n",
       "<table border=\"1\" class=\"dataframe\">\n",
       "  <thead>\n",
       "    <tr style=\"text-align: right;\">\n",
       "      <th></th>\n",
       "      <th>Age</th>\n",
       "    </tr>\n",
       "  </thead>\n",
       "  <tbody>\n",
       "    <tr>\n",
       "      <th>0</th>\n",
       "      <td>16</td>\n",
       "    </tr>\n",
       "    <tr>\n",
       "      <th>1</th>\n",
       "      <td>70</td>\n",
       "    </tr>\n",
       "  </tbody>\n",
       "</table>\n",
       "</div>"
      ],
      "text/plain": [
       "   Age\n",
       "0   16\n",
       "1   70"
      ]
     },
     "execution_count": 28,
     "metadata": {},
     "output_type": "execute_result"
    }
   ],
   "source": [
    "X_new=pd.DataFrame({'Age':[df.Age.min(),df.Age.max()]})\n",
    "X_new.head()"
   ]
  },
  {
   "cell_type": "code",
   "execution_count": 29,
   "metadata": {
    "colab": {
     "autoexec": {
      "startup": false,
      "wait_interval": 0
     },
     "base_uri": "https://localhost:8080/",
     "height": 68
    },
    "colab_type": "code",
    "executionInfo": {
     "elapsed": 736,
     "status": "ok",
     "timestamp": 1527641143317,
     "user": {
      "displayName": "Nur Chamid",
      "photoUrl": "//lh5.googleusercontent.com/-TsgwUJzaJJg/AAAAAAAAAAI/AAAAAAAAARQ/Ngn5q-ighvg/s50-c-k-no/photo.jpg",
      "userId": "109513328284773316398"
     },
     "user_tz": -420
    },
    "id": "KLeDolPD-okO",
    "outputId": "2baa6657-a79f-4101-937b-3d2c09db8033"
   },
   "outputs": [
    {
     "data": {
      "text/plain": [
       "0    551.731519\n",
       "1    219.727834\n",
       "dtype: float64"
      ]
     },
     "execution_count": 29,
     "metadata": {},
     "output_type": "execute_result"
    }
   ],
   "source": [
    "preds=lm.predict(X_new)\n",
    "preds"
   ]
  },
  {
   "cell_type": "markdown",
   "metadata": {
    "colab_type": "text",
    "id": "futitj8d-okT"
   },
   "source": [
    " Menghitung r square"
   ]
  },
  {
   "cell_type": "code",
   "execution_count": 30,
   "metadata": {
    "colab": {
     "autoexec": {
      "startup": false,
      "wait_interval": 0
     },
     "base_uri": "https://localhost:8080/",
     "height": 34
    },
    "colab_type": "code",
    "executionInfo": {
     "elapsed": 764,
     "status": "ok",
     "timestamp": 1527641144184,
     "user": {
      "displayName": "Nur Chamid",
      "photoUrl": "//lh5.googleusercontent.com/-TsgwUJzaJJg/AAAAAAAAAAI/AAAAAAAAARQ/Ngn5q-ighvg/s50-c-k-no/photo.jpg",
      "userId": "109513328284773316398"
     },
     "user_tz": -420
    },
    "id": "j6DsremO-okT",
    "outputId": "481f2392-6887-4fcb-d770-94c7483eb895"
   },
   "outputs": [
    {
     "data": {
      "text/plain": [
       "0.19621547798804284"
      ]
     },
     "execution_count": 30,
     "metadata": {},
     "output_type": "execute_result"
    }
   ],
   "source": [
    "lm.rsquared"
   ]
  },
  {
   "cell_type": "markdown",
   "metadata": {
    "colab_type": "text",
    "id": "eKmMkHkJ-okW"
   },
   "source": [
    "Menghitung Interval Kepercayaan"
   ]
  },
  {
   "cell_type": "code",
   "execution_count": 31,
   "metadata": {
    "colab": {
     "autoexec": {
      "startup": false,
      "wait_interval": 0
     },
     "base_uri": "https://localhost:8080/",
     "height": 111
    },
    "colab_type": "code",
    "executionInfo": {
     "elapsed": 769,
     "status": "ok",
     "timestamp": 1527641145038,
     "user": {
      "displayName": "Nur Chamid",
      "photoUrl": "//lh5.googleusercontent.com/-TsgwUJzaJJg/AAAAAAAAAAI/AAAAAAAAARQ/Ngn5q-ighvg/s50-c-k-no/photo.jpg",
      "userId": "109513328284773316398"
     },
     "user_tz": -420
    },
    "id": "PkCId-cG-okX",
    "outputId": "f1a666fa-35b0-416d-d741-131d9bf44fad"
   },
   "outputs": [
    {
     "data": {
      "text/html": [
       "<div>\n",
       "<style scoped>\n",
       "    .dataframe tbody tr th:only-of-type {\n",
       "        vertical-align: middle;\n",
       "    }\n",
       "\n",
       "    .dataframe tbody tr th {\n",
       "        vertical-align: top;\n",
       "    }\n",
       "\n",
       "    .dataframe thead th {\n",
       "        text-align: right;\n",
       "    }\n",
       "</style>\n",
       "<table border=\"1\" class=\"dataframe\">\n",
       "  <thead>\n",
       "    <tr style=\"text-align: right;\">\n",
       "      <th></th>\n",
       "      <th>0</th>\n",
       "      <th>1</th>\n",
       "    </tr>\n",
       "  </thead>\n",
       "  <tbody>\n",
       "    <tr>\n",
       "      <th>Intercept</th>\n",
       "      <td>641.007528</td>\n",
       "      <td>659.198436</td>\n",
       "    </tr>\n",
       "    <tr>\n",
       "      <th>Age</th>\n",
       "      <td>-6.345486</td>\n",
       "      <td>-5.950947</td>\n",
       "    </tr>\n",
       "  </tbody>\n",
       "</table>\n",
       "</div>"
      ],
      "text/plain": [
       "                    0           1\n",
       "Intercept  641.007528  659.198436\n",
       "Age         -6.345486   -5.950947"
      ]
     },
     "execution_count": 31,
     "metadata": {},
     "output_type": "execute_result"
    }
   ],
   "source": [
    "lm.conf_int()"
   ]
  },
  {
   "cell_type": "markdown",
   "metadata": {
    "colab_type": "text",
    "id": "9C2NdJJb-oka"
   },
   "source": [
    "kalau interval konfidensi melalui nol, berarti ada kemungkinan ada hubungan"
   ]
  },
  {
   "cell_type": "markdown",
   "metadata": {
    "colab_type": "text",
    "id": "y8UKPb8J-oka"
   },
   "source": [
    "kalau angka slope koefisien tidak nol, berarti tidak ada hubungannya"
   ]
  },
  {
   "cell_type": "markdown",
   "metadata": {
    "colab_type": "text",
    "id": "xKKsXjjU-okb"
   },
   "source": [
    "Melihat hasil secara keseluruhan"
   ]
  },
  {
   "cell_type": "code",
   "execution_count": 32,
   "metadata": {
    "colab": {
     "autoexec": {
      "startup": false,
      "wait_interval": 0
     },
     "base_uri": "https://localhost:8080/",
     "height": 376
    },
    "colab_type": "code",
    "executionInfo": {
     "elapsed": 715,
     "status": "ok",
     "timestamp": 1527641145863,
     "user": {
      "displayName": "Nur Chamid",
      "photoUrl": "//lh5.googleusercontent.com/-TsgwUJzaJJg/AAAAAAAAAAI/AAAAAAAAARQ/Ngn5q-ighvg/s50-c-k-no/photo.jpg",
      "userId": "109513328284773316398"
     },
     "user_tz": -420
    },
    "id": "pyCGcEww-okc",
    "outputId": "302f16b4-9727-42c6-9fc3-4a00dc8ee644"
   },
   "outputs": [
    {
     "data": {
      "text/html": [
       "<table class=\"simpletable\">\n",
       "<caption>OLS Regression Results</caption>\n",
       "<tr>\n",
       "  <th>Dep. Variable:</th>         <td>Losses</td>      <th>  R-squared:         </th>  <td>   0.196</td>  \n",
       "</tr>\n",
       "<tr>\n",
       "  <th>Model:</th>                   <td>OLS</td>       <th>  Adj. R-squared:    </th>  <td>   0.196</td>  \n",
       "</tr>\n",
       "<tr>\n",
       "  <th>Method:</th>             <td>Least Squares</td>  <th>  F-statistic:       </th>  <td>   3732.</td>  \n",
       "</tr>\n",
       "<tr>\n",
       "  <th>Date:</th>             <td>Wed, 30 May 2018</td> <th>  Prob (F-statistic):</th>   <td>  0.00</td>   \n",
       "</tr>\n",
       "<tr>\n",
       "  <th>Time:</th>                 <td>14:09:05</td>     <th>  Log-Likelihood:    </th> <td>-1.0467e+05</td>\n",
       "</tr>\n",
       "<tr>\n",
       "  <th>No. Observations:</th>      <td> 15290</td>      <th>  AIC:               </th>  <td>2.094e+05</td> \n",
       "</tr>\n",
       "<tr>\n",
       "  <th>Df Residuals:</th>          <td> 15288</td>      <th>  BIC:               </th>  <td>2.094e+05</td> \n",
       "</tr>\n",
       "<tr>\n",
       "  <th>Df Model:</th>              <td>     1</td>      <th>                     </th>      <td> </td>     \n",
       "</tr>\n",
       "<tr>\n",
       "  <th>Covariance Type:</th>      <td>nonrobust</td>    <th>                     </th>      <td> </td>     \n",
       "</tr>\n",
       "</table>\n",
       "<table class=\"simpletable\">\n",
       "<tr>\n",
       "      <td></td>         <th>coef</th>     <th>std err</th>      <th>t</th>      <th>P>|t|</th>  <th>[0.025</th>    <th>0.975]</th>  \n",
       "</tr>\n",
       "<tr>\n",
       "  <th>Intercept</th> <td>  650.1030</td> <td>    4.640</td> <td>  140.101</td> <td> 0.000</td> <td>  641.008</td> <td>  659.198</td>\n",
       "</tr>\n",
       "<tr>\n",
       "  <th>Age</th>       <td>   -6.1482</td> <td>    0.101</td> <td>  -61.090</td> <td> 0.000</td> <td>   -6.345</td> <td>   -5.951</td>\n",
       "</tr>\n",
       "</table>\n",
       "<table class=\"simpletable\">\n",
       "<tr>\n",
       "  <th>Omnibus:</th>       <td>10677.162</td> <th>  Durbin-Watson:     </th>  <td>   1.825</td> \n",
       "</tr>\n",
       "<tr>\n",
       "  <th>Prob(Omnibus):</th>  <td> 0.000</td>   <th>  Jarque-Bera (JB):  </th> <td>404563.903</td>\n",
       "</tr>\n",
       "<tr>\n",
       "  <th>Skew:</th>           <td> 2.886</td>   <th>  Prob(JB):          </th>  <td>    0.00</td> \n",
       "</tr>\n",
       "<tr>\n",
       "  <th>Kurtosis:</th>       <td>27.530</td>   <th>  Cond. No.          </th>  <td>    116.</td> \n",
       "</tr>\n",
       "</table>"
      ],
      "text/plain": [
       "<class 'statsmodels.iolib.summary.Summary'>\n",
       "\"\"\"\n",
       "                            OLS Regression Results                            \n",
       "==============================================================================\n",
       "Dep. Variable:                 Losses   R-squared:                       0.196\n",
       "Model:                            OLS   Adj. R-squared:                  0.196\n",
       "Method:                 Least Squares   F-statistic:                     3732.\n",
       "Date:                Wed, 30 May 2018   Prob (F-statistic):               0.00\n",
       "Time:                        14:09:05   Log-Likelihood:            -1.0467e+05\n",
       "No. Observations:               15290   AIC:                         2.094e+05\n",
       "Df Residuals:                   15288   BIC:                         2.094e+05\n",
       "Df Model:                           1                                         \n",
       "Covariance Type:            nonrobust                                         \n",
       "==============================================================================\n",
       "                 coef    std err          t      P>|t|      [0.025      0.975]\n",
       "------------------------------------------------------------------------------\n",
       "Intercept    650.1030      4.640    140.101      0.000     641.008     659.198\n",
       "Age           -6.1482      0.101    -61.090      0.000      -6.345      -5.951\n",
       "==============================================================================\n",
       "Omnibus:                    10677.162   Durbin-Watson:                   1.825\n",
       "Prob(Omnibus):                  0.000   Jarque-Bera (JB):           404563.903\n",
       "Skew:                           2.886   Prob(JB):                         0.00\n",
       "Kurtosis:                      27.530   Cond. No.                         116.\n",
       "==============================================================================\n",
       "\n",
       "Warnings:\n",
       "[1] Standard Errors assume that the covariance matrix of the errors is correctly specified.\n",
       "\"\"\""
      ]
     },
     "execution_count": 32,
     "metadata": {},
     "output_type": "execute_result"
    }
   ],
   "source": [
    "lm.summary()"
   ]
  },
  {
   "cell_type": "markdown",
   "metadata": {
    "colab_type": "text",
    "id": "7yIdtLfb-okg"
   },
   "source": [
    "## Losses - YearsDE"
   ]
  },
  {
   "cell_type": "code",
   "execution_count": 33,
   "metadata": {
    "colab": {
     "autoexec": {
      "startup": false,
      "wait_interval": 0
     },
     "base_uri": "https://localhost:8080/",
     "height": 583
    },
    "colab_type": "code",
    "executionInfo": {
     "elapsed": 723,
     "status": "ok",
     "timestamp": 1527641146709,
     "user": {
      "displayName": "Nur Chamid",
      "photoUrl": "//lh5.googleusercontent.com/-TsgwUJzaJJg/AAAAAAAAAAI/AAAAAAAAARQ/Ngn5q-ighvg/s50-c-k-no/photo.jpg",
      "userId": "109513328284773316398"
     },
     "user_tz": -420
    },
    "id": "qMc5QcxZ-okh",
    "outputId": "b3fda7c5-28d0-4f70-f7aa-73675dc79e69"
   },
   "outputs": [
    {
     "data": {
      "text/html": [
       "<table class=\"simpletable\">\n",
       "<caption>OLS Regression Results</caption>\n",
       "<tr>\n",
       "  <th>Dep. Variable:</th>         <td>Losses</td>      <th>  R-squared:         </th>  <td>   0.195</td>  \n",
       "</tr>\n",
       "<tr>\n",
       "  <th>Model:</th>                   <td>OLS</td>       <th>  Adj. R-squared:    </th>  <td>   0.195</td>  \n",
       "</tr>\n",
       "<tr>\n",
       "  <th>Method:</th>             <td>Least Squares</td>  <th>  F-statistic:       </th>  <td>   3714.</td>  \n",
       "</tr>\n",
       "<tr>\n",
       "  <th>Date:</th>             <td>Wed, 30 May 2018</td> <th>  Prob (F-statistic):</th>   <td>  0.00</td>   \n",
       "</tr>\n",
       "<tr>\n",
       "  <th>Time:</th>                 <td>14:09:05</td>     <th>  Log-Likelihood:    </th> <td>-1.0468e+05</td>\n",
       "</tr>\n",
       "<tr>\n",
       "  <th>No. Observations:</th>      <td> 15290</td>      <th>  AIC:               </th>  <td>2.094e+05</td> \n",
       "</tr>\n",
       "<tr>\n",
       "  <th>Df Residuals:</th>          <td> 15288</td>      <th>  BIC:               </th>  <td>2.094e+05</td> \n",
       "</tr>\n",
       "<tr>\n",
       "  <th>Df Model:</th>              <td>     1</td>      <th>                     </th>      <td> </td>     \n",
       "</tr>\n",
       "<tr>\n",
       "  <th>Covariance Type:</th>      <td>nonrobust</td>    <th>                     </th>      <td> </td>     \n",
       "</tr>\n",
       "</table>\n",
       "<table class=\"simpletable\">\n",
       "<tr>\n",
       "      <td></td>         <th>coef</th>     <th>std err</th>      <th>t</th>      <th>P>|t|</th>  <th>[0.025</th>    <th>0.975]</th>  \n",
       "</tr>\n",
       "<tr>\n",
       "  <th>Intercept</th> <td>  539.0021</td> <td>    3.062</td> <td>  176.025</td> <td> 0.000</td> <td>  533.000</td> <td>  545.004</td>\n",
       "</tr>\n",
       "<tr>\n",
       "  <th>YearsDE</th>   <td>   -6.2842</td> <td>    0.103</td> <td>  -60.945</td> <td> 0.000</td> <td>   -6.486</td> <td>   -6.082</td>\n",
       "</tr>\n",
       "</table>\n",
       "<table class=\"simpletable\">\n",
       "<tr>\n",
       "  <th>Omnibus:</th>       <td>10708.100</td> <th>  Durbin-Watson:     </th>  <td>   1.825</td> \n",
       "</tr>\n",
       "<tr>\n",
       "  <th>Prob(Omnibus):</th>  <td> 0.000</td>   <th>  Jarque-Bera (JB):  </th> <td>407127.107</td>\n",
       "</tr>\n",
       "<tr>\n",
       "  <th>Skew:</th>           <td> 2.898</td>   <th>  Prob(JB):          </th>  <td>    0.00</td> \n",
       "</tr>\n",
       "<tr>\n",
       "  <th>Kurtosis:</th>       <td>27.606</td>   <th>  Cond. No.          </th>  <td>    49.4</td> \n",
       "</tr>\n",
       "</table>"
      ],
      "text/plain": [
       "<class 'statsmodels.iolib.summary.Summary'>\n",
       "\"\"\"\n",
       "                            OLS Regression Results                            \n",
       "==============================================================================\n",
       "Dep. Variable:                 Losses   R-squared:                       0.195\n",
       "Model:                            OLS   Adj. R-squared:                  0.195\n",
       "Method:                 Least Squares   F-statistic:                     3714.\n",
       "Date:                Wed, 30 May 2018   Prob (F-statistic):               0.00\n",
       "Time:                        14:09:05   Log-Likelihood:            -1.0468e+05\n",
       "No. Observations:               15290   AIC:                         2.094e+05\n",
       "Df Residuals:                   15288   BIC:                         2.094e+05\n",
       "Df Model:                           1                                         \n",
       "Covariance Type:            nonrobust                                         \n",
       "==============================================================================\n",
       "                 coef    std err          t      P>|t|      [0.025      0.975]\n",
       "------------------------------------------------------------------------------\n",
       "Intercept    539.0021      3.062    176.025      0.000     533.000     545.004\n",
       "YearsDE       -6.2842      0.103    -60.945      0.000      -6.486      -6.082\n",
       "==============================================================================\n",
       "Omnibus:                    10708.100   Durbin-Watson:                   1.825\n",
       "Prob(Omnibus):                  0.000   Jarque-Bera (JB):           407127.107\n",
       "Skew:                           2.898   Prob(JB):                         0.00\n",
       "Kurtosis:                      27.606   Cond. No.                         49.4\n",
       "==============================================================================\n",
       "\n",
       "Warnings:\n",
       "[1] Standard Errors assume that the covariance matrix of the errors is correctly specified.\n",
       "\"\"\""
      ]
     },
     "execution_count": 33,
     "metadata": {},
     "output_type": "execute_result"
    }
   ],
   "source": [
    "lm_years=smf.ols(formula='Losses~YearsDE', data=df).fit()\n",
    "lm_years.summary()"
   ]
  },
  {
   "cell_type": "code",
   "execution_count": null,
   "metadata": {
    "colab": {
     "autoexec": {
      "startup": false,
      "wait_interval": 0
     }
    },
    "colab_type": "code",
    "id": "U70WQW4j-okl"
   },
   "outputs": [],
   "source": []
  },
  {
   "cell_type": "markdown",
   "metadata": {
    "colab_type": "text",
    "id": "LmkKU1hh-okz"
   },
   "source": [
    "# Regresi Multiple Variabel"
   ]
  },
  {
   "cell_type": "markdown",
   "metadata": {
    "colab_type": "text",
    "id": "tvZuFzhy-ok0"
   },
   "source": []
  },
  {
   "cell_type": "code",
   "execution_count": 34,
   "metadata": {
    "colab": {
     "autoexec": {
      "startup": false,
      "wait_interval": 0
     },
     "base_uri": "https://localhost:8080/",
     "height": 111
    },
    "colab_type": "code",
    "executionInfo": {
     "elapsed": 747,
     "status": "ok",
     "timestamp": 1527641148484,
     "user": {
      "displayName": "Nur Chamid",
      "photoUrl": "//lh5.googleusercontent.com/-TsgwUJzaJJg/AAAAAAAAAAI/AAAAAAAAARQ/Ngn5q-ighvg/s50-c-k-no/photo.jpg",
      "userId": "109513328284773316398"
     },
     "user_tz": -420
    },
    "id": "up9jJeH7-ok1",
    "outputId": "216a5c1d-4a21-4723-fb90-a3eb0da76de6"
   },
   "outputs": [
    {
     "data": {
      "text/html": [
       "<div>\n",
       "<style scoped>\n",
       "    .dataframe tbody tr th:only-of-type {\n",
       "        vertical-align: middle;\n",
       "    }\n",
       "\n",
       "    .dataframe tbody tr th {\n",
       "        vertical-align: top;\n",
       "    }\n",
       "\n",
       "    .dataframe thead th {\n",
       "        text-align: right;\n",
       "    }\n",
       "</style>\n",
       "<table border=\"1\" class=\"dataframe\">\n",
       "  <thead>\n",
       "    <tr style=\"text-align: right;\">\n",
       "      <th></th>\n",
       "      <th>Age</th>\n",
       "      <th>YearsDE</th>\n",
       "      <th>VehicleNo</th>\n",
       "      <th>Gender</th>\n",
       "      <th>Married</th>\n",
       "      <th>VehicleAge</th>\n",
       "      <th>Fuel</th>\n",
       "      <th>Losses</th>\n",
       "    </tr>\n",
       "    <tr>\n",
       "      <th>Policy Number</th>\n",
       "      <th></th>\n",
       "      <th></th>\n",
       "      <th></th>\n",
       "      <th></th>\n",
       "      <th></th>\n",
       "      <th></th>\n",
       "      <th></th>\n",
       "      <th></th>\n",
       "    </tr>\n",
       "  </thead>\n",
       "  <tbody>\n",
       "    <tr>\n",
       "      <th>150024</th>\n",
       "      <td>24</td>\n",
       "      <td>5</td>\n",
       "      <td>1</td>\n",
       "      <td>M</td>\n",
       "      <td>Married</td>\n",
       "      <td>11</td>\n",
       "      <td>P</td>\n",
       "      <td>203.319595</td>\n",
       "    </tr>\n",
       "  </tbody>\n",
       "</table>\n",
       "</div>"
      ],
      "text/plain": [
       "               Age  YearsDE  VehicleNo Gender  Married  VehicleAge Fuel  \\\n",
       "Policy Number                                                             \n",
       "150024          24        5          1      M  Married          11    P   \n",
       "\n",
       "                   Losses  \n",
       "Policy Number              \n",
       "150024         203.319595  "
      ]
     },
     "execution_count": 34,
     "metadata": {},
     "output_type": "execute_result"
    }
   ],
   "source": [
    "df.head(1)"
   ]
  },
  {
   "cell_type": "markdown",
   "metadata": {
    "colab_type": "text",
    "id": "vIRvam8e-ok8"
   },
   "source": [
    "## Losses - Age - YearsDE"
   ]
  },
  {
   "cell_type": "code",
   "execution_count": 35,
   "metadata": {
    "colab": {
     "autoexec": {
      "startup": false,
      "wait_interval": 0
     },
     "base_uri": "https://localhost:8080/",
     "height": 604
    },
    "colab_type": "code",
    "executionInfo": {
     "elapsed": 690,
     "status": "ok",
     "timestamp": 1527641149365,
     "user": {
      "displayName": "Nur Chamid",
      "photoUrl": "//lh5.googleusercontent.com/-TsgwUJzaJJg/AAAAAAAAAAI/AAAAAAAAARQ/Ngn5q-ighvg/s50-c-k-no/photo.jpg",
      "userId": "109513328284773316398"
     },
     "user_tz": -420
    },
    "id": "_IVvrrjj-ok9",
    "outputId": "e5c20803-18a1-4f36-c308-c484d902f23c"
   },
   "outputs": [
    {
     "data": {
      "text/html": [
       "<table class=\"simpletable\">\n",
       "<caption>OLS Regression Results</caption>\n",
       "<tr>\n",
       "  <th>Dep. Variable:</th>         <td>Losses</td>      <th>  R-squared:         </th>  <td>   0.196</td>  \n",
       "</tr>\n",
       "<tr>\n",
       "  <th>Model:</th>                   <td>OLS</td>       <th>  Adj. R-squared:    </th>  <td>   0.196</td>  \n",
       "</tr>\n",
       "<tr>\n",
       "  <th>Method:</th>             <td>Least Squares</td>  <th>  F-statistic:       </th>  <td>   1866.</td>  \n",
       "</tr>\n",
       "<tr>\n",
       "  <th>Date:</th>             <td>Wed, 30 May 2018</td> <th>  Prob (F-statistic):</th>   <td>  0.00</td>   \n",
       "</tr>\n",
       "<tr>\n",
       "  <th>Time:</th>                 <td>14:09:05</td>     <th>  Log-Likelihood:    </th> <td>-1.0467e+05</td>\n",
       "</tr>\n",
       "<tr>\n",
       "  <th>No. Observations:</th>      <td> 15290</td>      <th>  AIC:               </th>  <td>2.094e+05</td> \n",
       "</tr>\n",
       "<tr>\n",
       "  <th>Df Residuals:</th>          <td> 15287</td>      <th>  BIC:               </th>  <td>2.094e+05</td> \n",
       "</tr>\n",
       "<tr>\n",
       "  <th>Df Model:</th>              <td>     2</td>      <th>                     </th>      <td> </td>     \n",
       "</tr>\n",
       "<tr>\n",
       "  <th>Covariance Type:</th>      <td>nonrobust</td>    <th>                     </th>      <td> </td>     \n",
       "</tr>\n",
       "</table>\n",
       "<table class=\"simpletable\">\n",
       "<tr>\n",
       "      <td></td>         <th>coef</th>     <th>std err</th>      <th>t</th>      <th>P>|t|</th>  <th>[0.025</th>    <th>0.975]</th>  \n",
       "</tr>\n",
       "<tr>\n",
       "  <th>Intercept</th> <td>  632.1300</td> <td>   24.376</td> <td>   25.933</td> <td> 0.000</td> <td>  584.350</td> <td>  679.910</td>\n",
       "</tr>\n",
       "<tr>\n",
       "  <th>Age</th>       <td>   -5.1472</td> <td>    1.337</td> <td>   -3.851</td> <td> 0.000</td> <td>   -7.767</td> <td>   -2.527</td>\n",
       "</tr>\n",
       "<tr>\n",
       "  <th>YearsDE</th>   <td>   -1.0280</td> <td>    1.369</td> <td>   -0.751</td> <td> 0.453</td> <td>   -3.711</td> <td>    1.655</td>\n",
       "</tr>\n",
       "</table>\n",
       "<table class=\"simpletable\">\n",
       "<tr>\n",
       "  <th>Omnibus:</th>       <td>10683.294</td> <th>  Durbin-Watson:     </th>  <td>   1.825</td> \n",
       "</tr>\n",
       "<tr>\n",
       "  <th>Prob(Omnibus):</th>  <td> 0.000</td>   <th>  Jarque-Bera (JB):  </th> <td>405205.745</td>\n",
       "</tr>\n",
       "<tr>\n",
       "  <th>Skew:</th>           <td> 2.888</td>   <th>  Prob(JB):          </th>  <td>    0.00</td> \n",
       "</tr>\n",
       "<tr>\n",
       "  <th>Kurtosis:</th>       <td>27.549</td>   <th>  Cond. No.          </th>  <td>    725.</td> \n",
       "</tr>\n",
       "</table>"
      ],
      "text/plain": [
       "<class 'statsmodels.iolib.summary.Summary'>\n",
       "\"\"\"\n",
       "                            OLS Regression Results                            \n",
       "==============================================================================\n",
       "Dep. Variable:                 Losses   R-squared:                       0.196\n",
       "Model:                            OLS   Adj. R-squared:                  0.196\n",
       "Method:                 Least Squares   F-statistic:                     1866.\n",
       "Date:                Wed, 30 May 2018   Prob (F-statistic):               0.00\n",
       "Time:                        14:09:05   Log-Likelihood:            -1.0467e+05\n",
       "No. Observations:               15290   AIC:                         2.094e+05\n",
       "Df Residuals:                   15287   BIC:                         2.094e+05\n",
       "Df Model:                           2                                         \n",
       "Covariance Type:            nonrobust                                         \n",
       "==============================================================================\n",
       "                 coef    std err          t      P>|t|      [0.025      0.975]\n",
       "------------------------------------------------------------------------------\n",
       "Intercept    632.1300     24.376     25.933      0.000     584.350     679.910\n",
       "Age           -5.1472      1.337     -3.851      0.000      -7.767      -2.527\n",
       "YearsDE       -1.0280      1.369     -0.751      0.453      -3.711       1.655\n",
       "==============================================================================\n",
       "Omnibus:                    10683.294   Durbin-Watson:                   1.825\n",
       "Prob(Omnibus):                  0.000   Jarque-Bera (JB):           405205.745\n",
       "Skew:                           2.888   Prob(JB):                         0.00\n",
       "Kurtosis:                      27.549   Cond. No.                         725.\n",
       "==============================================================================\n",
       "\n",
       "Warnings:\n",
       "[1] Standard Errors assume that the covariance matrix of the errors is correctly specified.\n",
       "\"\"\""
      ]
     },
     "execution_count": 35,
     "metadata": {},
     "output_type": "execute_result"
    }
   ],
   "source": [
    "lm=smf.ols(formula='Losses~Age+YearsDE', data=df).fit()\n",
    "lm.summary()"
   ]
  },
  {
   "cell_type": "code",
   "execution_count": null,
   "metadata": {
    "colab": {
     "autoexec": {
      "startup": false,
      "wait_interval": 0
     }
    },
    "colab_type": "code",
    "id": "3CzdbMGU-olB"
   },
   "outputs": [],
   "source": []
  },
  {
   "cell_type": "markdown",
   "metadata": {
    "colab_type": "text",
    "id": "vV2XVIkY-olE"
   },
   "source": [
    "## Losses - Age - VehicleAge"
   ]
  },
  {
   "cell_type": "code",
   "execution_count": 36,
   "metadata": {
    "colab": {
     "autoexec": {
      "startup": false,
      "wait_interval": 0
     },
     "base_uri": "https://localhost:8080/",
     "height": 604
    },
    "colab_type": "code",
    "executionInfo": {
     "elapsed": 742,
     "status": "ok",
     "timestamp": 1527641151460,
     "user": {
      "displayName": "Nur Chamid",
      "photoUrl": "//lh5.googleusercontent.com/-TsgwUJzaJJg/AAAAAAAAAAI/AAAAAAAAARQ/Ngn5q-ighvg/s50-c-k-no/photo.jpg",
      "userId": "109513328284773316398"
     },
     "user_tz": -420
    },
    "id": "mphFe2hR-olF",
    "outputId": "0ed53792-b7b8-4096-a16b-7e3578942c23"
   },
   "outputs": [
    {
     "data": {
      "text/html": [
       "<table class=\"simpletable\">\n",
       "<caption>OLS Regression Results</caption>\n",
       "<tr>\n",
       "  <th>Dep. Variable:</th>         <td>Losses</td>      <th>  R-squared:         </th>  <td>   0.352</td>  \n",
       "</tr>\n",
       "<tr>\n",
       "  <th>Model:</th>                   <td>OLS</td>       <th>  Adj. R-squared:    </th>  <td>   0.352</td>  \n",
       "</tr>\n",
       "<tr>\n",
       "  <th>Method:</th>             <td>Least Squares</td>  <th>  F-statistic:       </th>  <td>   4149.</td>  \n",
       "</tr>\n",
       "<tr>\n",
       "  <th>Date:</th>             <td>Wed, 30 May 2018</td> <th>  Prob (F-statistic):</th>   <td>  0.00</td>   \n",
       "</tr>\n",
       "<tr>\n",
       "  <th>Time:</th>                 <td>14:09:05</td>     <th>  Log-Likelihood:    </th> <td>-1.0303e+05</td>\n",
       "</tr>\n",
       "<tr>\n",
       "  <th>No. Observations:</th>      <td> 15290</td>      <th>  AIC:               </th>  <td>2.061e+05</td> \n",
       "</tr>\n",
       "<tr>\n",
       "  <th>Df Residuals:</th>          <td> 15287</td>      <th>  BIC:               </th>  <td>2.061e+05</td> \n",
       "</tr>\n",
       "<tr>\n",
       "  <th>Df Model:</th>              <td>     2</td>      <th>                     </th>      <td> </td>     \n",
       "</tr>\n",
       "<tr>\n",
       "  <th>Covariance Type:</th>      <td>nonrobust</td>    <th>                     </th>      <td> </td>     \n",
       "</tr>\n",
       "</table>\n",
       "<table class=\"simpletable\">\n",
       "<tr>\n",
       "       <td></td>         <th>coef</th>     <th>std err</th>      <th>t</th>      <th>P>|t|</th>  <th>[0.025</th>    <th>0.975]</th>  \n",
       "</tr>\n",
       "<tr>\n",
       "  <th>Intercept</th>  <td>  913.9222</td> <td>    6.027</td> <td>  151.635</td> <td> 0.000</td> <td>  902.108</td> <td>  925.736</td>\n",
       "</tr>\n",
       "<tr>\n",
       "  <th>Age</th>        <td>   -7.5233</td> <td>    0.093</td> <td>  -80.736</td> <td> 0.000</td> <td>   -7.706</td> <td>   -7.341</td>\n",
       "</tr>\n",
       "<tr>\n",
       "  <th>VehicleAge</th> <td>  -23.7547</td> <td>    0.392</td> <td>  -60.585</td> <td> 0.000</td> <td>  -24.523</td> <td>  -22.986</td>\n",
       "</tr>\n",
       "</table>\n",
       "<table class=\"simpletable\">\n",
       "<tr>\n",
       "  <th>Omnibus:</th>       <td>12232.548</td> <th>  Durbin-Watson:     </th>  <td>   1.788</td> \n",
       "</tr>\n",
       "<tr>\n",
       "  <th>Prob(Omnibus):</th>  <td> 0.000</td>   <th>  Jarque-Bera (JB):  </th> <td>787577.028</td>\n",
       "</tr>\n",
       "<tr>\n",
       "  <th>Skew:</th>           <td> 3.370</td>   <th>  Prob(JB):          </th>  <td>    0.00</td> \n",
       "</tr>\n",
       "<tr>\n",
       "  <th>Kurtosis:</th>       <td>37.508</td>   <th>  Cond. No.          </th>  <td>    171.</td> \n",
       "</tr>\n",
       "</table>"
      ],
      "text/plain": [
       "<class 'statsmodels.iolib.summary.Summary'>\n",
       "\"\"\"\n",
       "                            OLS Regression Results                            \n",
       "==============================================================================\n",
       "Dep. Variable:                 Losses   R-squared:                       0.352\n",
       "Model:                            OLS   Adj. R-squared:                  0.352\n",
       "Method:                 Least Squares   F-statistic:                     4149.\n",
       "Date:                Wed, 30 May 2018   Prob (F-statistic):               0.00\n",
       "Time:                        14:09:05   Log-Likelihood:            -1.0303e+05\n",
       "No. Observations:               15290   AIC:                         2.061e+05\n",
       "Df Residuals:                   15287   BIC:                         2.061e+05\n",
       "Df Model:                           2                                         \n",
       "Covariance Type:            nonrobust                                         \n",
       "==============================================================================\n",
       "                 coef    std err          t      P>|t|      [0.025      0.975]\n",
       "------------------------------------------------------------------------------\n",
       "Intercept    913.9222      6.027    151.635      0.000     902.108     925.736\n",
       "Age           -7.5233      0.093    -80.736      0.000      -7.706      -7.341\n",
       "VehicleAge   -23.7547      0.392    -60.585      0.000     -24.523     -22.986\n",
       "==============================================================================\n",
       "Omnibus:                    12232.548   Durbin-Watson:                   1.788\n",
       "Prob(Omnibus):                  0.000   Jarque-Bera (JB):           787577.028\n",
       "Skew:                           3.370   Prob(JB):                         0.00\n",
       "Kurtosis:                      37.508   Cond. No.                         171.\n",
       "==============================================================================\n",
       "\n",
       "Warnings:\n",
       "[1] Standard Errors assume that the covariance matrix of the errors is correctly specified.\n",
       "\"\"\""
      ]
     },
     "execution_count": 36,
     "metadata": {},
     "output_type": "execute_result"
    }
   ],
   "source": [
    "lm=smf.ols(formula='Losses~Age+VehicleAge', data=df).fit()\n",
    "lm.summary()"
   ]
  },
  {
   "cell_type": "code",
   "execution_count": null,
   "metadata": {
    "colab": {
     "autoexec": {
      "startup": false,
      "wait_interval": 0
     }
    },
    "colab_type": "code",
    "id": "hu-Cg6uF-olJ"
   },
   "outputs": [],
   "source": []
  },
  {
   "cell_type": "markdown",
   "metadata": {
    "colab_type": "text",
    "id": "rro9n6pa-olM"
   },
   "source": [
    "## Losses - YearsDE - VehicleAge"
   ]
  },
  {
   "cell_type": "code",
   "execution_count": 37,
   "metadata": {
    "colab": {
     "autoexec": {
      "startup": false,
      "wait_interval": 0
     },
     "base_uri": "https://localhost:8080/",
     "height": 397
    },
    "colab_type": "code",
    "executionInfo": {
     "elapsed": 2121,
     "status": "ok",
     "timestamp": 1527641185424,
     "user": {
      "displayName": "Nur Chamid",
      "photoUrl": "//lh5.googleusercontent.com/-TsgwUJzaJJg/AAAAAAAAAAI/AAAAAAAAARQ/Ngn5q-ighvg/s50-c-k-no/photo.jpg",
      "userId": "109513328284773316398"
     },
     "user_tz": -420
    },
    "id": "MFiAsoo1-olM",
    "outputId": "4ac39d4f-de20-4574-9d59-0bec040f82de"
   },
   "outputs": [
    {
     "data": {
      "text/html": [
       "<table class=\"simpletable\">\n",
       "<caption>OLS Regression Results</caption>\n",
       "<tr>\n",
       "  <th>Dep. Variable:</th>         <td>Losses</td>      <th>  R-squared:         </th>  <td>   0.349</td>  \n",
       "</tr>\n",
       "<tr>\n",
       "  <th>Model:</th>                   <td>OLS</td>       <th>  Adj. R-squared:    </th>  <td>   0.348</td>  \n",
       "</tr>\n",
       "<tr>\n",
       "  <th>Method:</th>             <td>Least Squares</td>  <th>  F-statistic:       </th>  <td>   4090.</td>  \n",
       "</tr>\n",
       "<tr>\n",
       "  <th>Date:</th>             <td>Wed, 30 May 2018</td> <th>  Prob (F-statistic):</th>   <td>  0.00</td>   \n",
       "</tr>\n",
       "<tr>\n",
       "  <th>Time:</th>                 <td>14:09:05</td>     <th>  Log-Likelihood:    </th> <td>-1.0307e+05</td>\n",
       "</tr>\n",
       "<tr>\n",
       "  <th>No. Observations:</th>      <td> 15290</td>      <th>  AIC:               </th>  <td>2.061e+05</td> \n",
       "</tr>\n",
       "<tr>\n",
       "  <th>Df Residuals:</th>          <td> 15287</td>      <th>  BIC:               </th>  <td>2.062e+05</td> \n",
       "</tr>\n",
       "<tr>\n",
       "  <th>Df Model:</th>              <td>     2</td>      <th>                     </th>      <td> </td>     \n",
       "</tr>\n",
       "<tr>\n",
       "  <th>Covariance Type:</th>      <td>nonrobust</td>    <th>                     </th>      <td> </td>     \n",
       "</tr>\n",
       "</table>\n",
       "<table class=\"simpletable\">\n",
       "<tr>\n",
       "       <td></td>         <th>coef</th>     <th>std err</th>      <th>t</th>      <th>P>|t|</th>  <th>[0.025</th>    <th>0.975]</th>  \n",
       "</tr>\n",
       "<tr>\n",
       "  <th>Intercept</th>  <td>  775.0284</td> <td>    4.806</td> <td>  161.260</td> <td> 0.000</td> <td>  765.608</td> <td>  784.449</td>\n",
       "</tr>\n",
       "<tr>\n",
       "  <th>YearsDE</th>    <td>   -7.6481</td> <td>    0.096</td> <td>  -80.054</td> <td> 0.000</td> <td>   -7.835</td> <td>   -7.461</td>\n",
       "</tr>\n",
       "<tr>\n",
       "  <th>VehicleAge</th> <td>  -23.5286</td> <td>    0.393</td> <td>  -59.940</td> <td> 0.000</td> <td>  -24.298</td> <td>  -22.759</td>\n",
       "</tr>\n",
       "</table>\n",
       "<table class=\"simpletable\">\n",
       "<tr>\n",
       "  <th>Omnibus:</th>       <td>12245.290</td> <th>  Durbin-Watson:     </th>  <td>   1.789</td> \n",
       "</tr>\n",
       "<tr>\n",
       "  <th>Prob(Omnibus):</th>  <td> 0.000</td>   <th>  Jarque-Bera (JB):  </th> <td>783046.096</td>\n",
       "</tr>\n",
       "<tr>\n",
       "  <th>Skew:</th>           <td> 3.378</td>   <th>  Prob(JB):          </th>  <td>    0.00</td> \n",
       "</tr>\n",
       "<tr>\n",
       "  <th>Kurtosis:</th>       <td>37.401</td>   <th>  Cond. No.          </th>  <td>    88.4</td> \n",
       "</tr>\n",
       "</table>"
      ],
      "text/plain": [
       "<class 'statsmodels.iolib.summary.Summary'>\n",
       "\"\"\"\n",
       "                            OLS Regression Results                            \n",
       "==============================================================================\n",
       "Dep. Variable:                 Losses   R-squared:                       0.349\n",
       "Model:                            OLS   Adj. R-squared:                  0.348\n",
       "Method:                 Least Squares   F-statistic:                     4090.\n",
       "Date:                Wed, 30 May 2018   Prob (F-statistic):               0.00\n",
       "Time:                        14:09:05   Log-Likelihood:            -1.0307e+05\n",
       "No. Observations:               15290   AIC:                         2.061e+05\n",
       "Df Residuals:                   15287   BIC:                         2.062e+05\n",
       "Df Model:                           2                                         \n",
       "Covariance Type:            nonrobust                                         \n",
       "==============================================================================\n",
       "                 coef    std err          t      P>|t|      [0.025      0.975]\n",
       "------------------------------------------------------------------------------\n",
       "Intercept    775.0284      4.806    161.260      0.000     765.608     784.449\n",
       "YearsDE       -7.6481      0.096    -80.054      0.000      -7.835      -7.461\n",
       "VehicleAge   -23.5286      0.393    -59.940      0.000     -24.298     -22.759\n",
       "==============================================================================\n",
       "Omnibus:                    12245.290   Durbin-Watson:                   1.789\n",
       "Prob(Omnibus):                  0.000   Jarque-Bera (JB):           783046.096\n",
       "Skew:                           3.378   Prob(JB):                         0.00\n",
       "Kurtosis:                      37.401   Cond. No.                         88.4\n",
       "==============================================================================\n",
       "\n",
       "Warnings:\n",
       "[1] Standard Errors assume that the covariance matrix of the errors is correctly specified.\n",
       "\"\"\""
      ]
     },
     "execution_count": 37,
     "metadata": {},
     "output_type": "execute_result"
    }
   ],
   "source": [
    "lm=smf.ols(formula='Losses~YearsDE+VehicleAge', data=df).fit()\n",
    "lm.summary()"
   ]
  },
  {
   "cell_type": "code",
   "execution_count": null,
   "metadata": {
    "colab": {
     "autoexec": {
      "startup": false,
      "wait_interval": 0
     }
    },
    "colab_type": "code",
    "id": "2gBEA8UY-olR"
   },
   "outputs": [],
   "source": []
  },
  {
   "cell_type": "markdown",
   "metadata": {
    "colab_type": "text",
    "id": "83e6RSJ9-olU"
   },
   "source": [
    "## Losses - Age - YearsDE - VehicleAge"
   ]
  },
  {
   "cell_type": "code",
   "execution_count": 38,
   "metadata": {
    "colab": {
     "autoexec": {
      "startup": false,
      "wait_interval": 0
     },
     "base_uri": "https://localhost:8080/",
     "height": 625
    },
    "colab_type": "code",
    "executionInfo": {
     "elapsed": 829,
     "status": "ok",
     "timestamp": 1527641187426,
     "user": {
      "displayName": "Nur Chamid",
      "photoUrl": "//lh5.googleusercontent.com/-TsgwUJzaJJg/AAAAAAAAAAI/AAAAAAAAARQ/Ngn5q-ighvg/s50-c-k-no/photo.jpg",
      "userId": "109513328284773316398"
     },
     "user_tz": -420
    },
    "id": "ICtffFjn-olU",
    "outputId": "2689be3f-ce9d-4367-8ecc-3e5a9013efc5"
   },
   "outputs": [
    {
     "data": {
      "text/html": [
       "<table class=\"simpletable\">\n",
       "<caption>OLS Regression Results</caption>\n",
       "<tr>\n",
       "  <th>Dep. Variable:</th>         <td>Losses</td>      <th>  R-squared:         </th>  <td>   0.352</td>  \n",
       "</tr>\n",
       "<tr>\n",
       "  <th>Model:</th>                   <td>OLS</td>       <th>  Adj. R-squared:    </th>  <td>   0.352</td>  \n",
       "</tr>\n",
       "<tr>\n",
       "  <th>Method:</th>             <td>Least Squares</td>  <th>  F-statistic:       </th>  <td>   2771.</td>  \n",
       "</tr>\n",
       "<tr>\n",
       "  <th>Date:</th>             <td>Wed, 30 May 2018</td> <th>  Prob (F-statistic):</th>   <td>  0.00</td>   \n",
       "</tr>\n",
       "<tr>\n",
       "  <th>Time:</th>                 <td>14:09:05</td>     <th>  Log-Likelihood:    </th> <td>-1.0302e+05</td>\n",
       "</tr>\n",
       "<tr>\n",
       "  <th>No. Observations:</th>      <td> 15290</td>      <th>  AIC:               </th>  <td>2.061e+05</td> \n",
       "</tr>\n",
       "<tr>\n",
       "  <th>Df Residuals:</th>          <td> 15286</td>      <th>  BIC:               </th>  <td>2.061e+05</td> \n",
       "</tr>\n",
       "<tr>\n",
       "  <th>Df Model:</th>              <td>     3</td>      <th>                     </th>      <td> </td>     \n",
       "</tr>\n",
       "<tr>\n",
       "  <th>Covariance Type:</th>      <td>nonrobust</td>    <th>                     </th>      <td> </td>     \n",
       "</tr>\n",
       "</table>\n",
       "<table class=\"simpletable\">\n",
       "<tr>\n",
       "       <td></td>         <th>coef</th>     <th>std err</th>      <th>t</th>      <th>P>|t|</th>  <th>[0.025</th>    <th>0.975]</th>  \n",
       "</tr>\n",
       "<tr>\n",
       "  <th>Intercept</th>  <td>  981.0066</td> <td>   22.626</td> <td>   43.357</td> <td> 0.000</td> <td>  936.656</td> <td> 1025.357</td>\n",
       "</tr>\n",
       "<tr>\n",
       "  <th>Age</th>        <td>  -11.2160</td> <td>    1.204</td> <td>   -9.315</td> <td> 0.000</td> <td>  -13.576</td> <td>   -8.856</td>\n",
       "</tr>\n",
       "<tr>\n",
       "  <th>YearsDE</th>    <td>    3.7877</td> <td>    1.231</td> <td>    3.076</td> <td> 0.002</td> <td>    1.374</td> <td>    6.201</td>\n",
       "</tr>\n",
       "<tr>\n",
       "  <th>VehicleAge</th> <td>  -23.8326</td> <td>    0.393</td> <td>  -60.674</td> <td> 0.000</td> <td>  -24.603</td> <td>  -23.063</td>\n",
       "</tr>\n",
       "</table>\n",
       "<table class=\"simpletable\">\n",
       "<tr>\n",
       "  <th>Omnibus:</th>       <td>12210.724</td> <th>  Durbin-Watson:     </th>  <td>   1.788</td> \n",
       "</tr>\n",
       "<tr>\n",
       "  <th>Prob(Omnibus):</th>  <td> 0.000</td>   <th>  Jarque-Bera (JB):  </th> <td>785012.271</td>\n",
       "</tr>\n",
       "<tr>\n",
       "  <th>Skew:</th>           <td> 3.361</td>   <th>  Prob(JB):          </th>  <td>    0.00</td> \n",
       "</tr>\n",
       "<tr>\n",
       "  <th>Kurtosis:</th>       <td>37.453</td>   <th>  Cond. No.          </th>  <td>    756.</td> \n",
       "</tr>\n",
       "</table>"
      ],
      "text/plain": [
       "<class 'statsmodels.iolib.summary.Summary'>\n",
       "\"\"\"\n",
       "                            OLS Regression Results                            \n",
       "==============================================================================\n",
       "Dep. Variable:                 Losses   R-squared:                       0.352\n",
       "Model:                            OLS   Adj. R-squared:                  0.352\n",
       "Method:                 Least Squares   F-statistic:                     2771.\n",
       "Date:                Wed, 30 May 2018   Prob (F-statistic):               0.00\n",
       "Time:                        14:09:05   Log-Likelihood:            -1.0302e+05\n",
       "No. Observations:               15290   AIC:                         2.061e+05\n",
       "Df Residuals:                   15286   BIC:                         2.061e+05\n",
       "Df Model:                           3                                         \n",
       "Covariance Type:            nonrobust                                         \n",
       "==============================================================================\n",
       "                 coef    std err          t      P>|t|      [0.025      0.975]\n",
       "------------------------------------------------------------------------------\n",
       "Intercept    981.0066     22.626     43.357      0.000     936.656    1025.357\n",
       "Age          -11.2160      1.204     -9.315      0.000     -13.576      -8.856\n",
       "YearsDE        3.7877      1.231      3.076      0.002       1.374       6.201\n",
       "VehicleAge   -23.8326      0.393    -60.674      0.000     -24.603     -23.063\n",
       "==============================================================================\n",
       "Omnibus:                    12210.724   Durbin-Watson:                   1.788\n",
       "Prob(Omnibus):                  0.000   Jarque-Bera (JB):           785012.271\n",
       "Skew:                           3.361   Prob(JB):                         0.00\n",
       "Kurtosis:                      37.453   Cond. No.                         756.\n",
       "==============================================================================\n",
       "\n",
       "Warnings:\n",
       "[1] Standard Errors assume that the covariance matrix of the errors is correctly specified.\n",
       "\"\"\""
      ]
     },
     "execution_count": 38,
     "metadata": {},
     "output_type": "execute_result"
    }
   ],
   "source": [
    "lm=smf.ols(formula='Losses~Age+YearsDE+VehicleAge', data=df).fit()\n",
    "lm.summary()"
   ]
  },
  {
   "cell_type": "code",
   "execution_count": null,
   "metadata": {
    "colab": {
     "autoexec": {
      "startup": false,
      "wait_interval": 0
     }
    },
    "colab_type": "code",
    "id": "w3LNQ_OZ-olX"
   },
   "outputs": [],
   "source": []
  },
  {
   "cell_type": "code",
   "execution_count": null,
   "metadata": {
    "colab": {
     "autoexec": {
      "startup": false,
      "wait_interval": 0
     }
    },
    "colab_type": "code",
    "id": "oVUoINe4-ola"
   },
   "outputs": [],
   "source": []
  },
  {
   "cell_type": "markdown",
   "metadata": {
    "colab_type": "text",
    "id": "dt1oEXEI-olc"
   },
   "source": [
    "## Regresi dengan sklearn"
   ]
  },
  {
   "cell_type": "code",
   "execution_count": 39,
   "metadata": {
    "colab": {
     "autoexec": {
      "startup": false,
      "wait_interval": 0
     }
    },
    "colab_type": "code",
    "id": "_3rmdQuV-old"
   },
   "outputs": [],
   "source": [
    "import sklearn\n",
    "from sklearn.linear_model import LinearRegression\n",
    "lr=LinearRegression()"
   ]
  },
  {
   "cell_type": "code",
   "execution_count": 40,
   "metadata": {
    "colab": {
     "autoexec": {
      "startup": false,
      "wait_interval": 0
     }
    },
    "colab_type": "code",
    "id": "67dc_Jrl-olj"
   },
   "outputs": [],
   "source": [
    "y=df.Losses\n",
    "feature_cols=['Age','YearsDE','VehicleNo']\n",
    "x=df[feature_cols]"
   ]
  },
  {
   "cell_type": "markdown",
   "metadata": {
    "colab_type": "text",
    "id": "zGvLtMD8-olo"
   },
   "source": [
    "Penulisan LinearRegression(x,y) jangan sampai terbalik"
   ]
  },
  {
   "cell_type": "code",
   "execution_count": 41,
   "metadata": {
    "colab": {
     "autoexec": {
      "startup": false,
      "wait_interval": 0
     },
     "base_uri": "https://localhost:8080/",
     "height": 54
    },
    "colab_type": "code",
    "executionInfo": {
     "elapsed": 907,
     "status": "ok",
     "timestamp": 1527641193040,
     "user": {
      "displayName": "Nur Chamid",
      "photoUrl": "//lh5.googleusercontent.com/-TsgwUJzaJJg/AAAAAAAAAAI/AAAAAAAAARQ/Ngn5q-ighvg/s50-c-k-no/photo.jpg",
      "userId": "109513328284773316398"
     },
     "user_tz": -420
    },
    "id": "rr2Jk_Kq-olp",
    "outputId": "75a2bcb3-b11a-4ae8-e8e9-1269599a9ca7"
   },
   "outputs": [
    {
     "data": {
      "text/plain": [
       "LinearRegression(copy_X=True, fit_intercept=True, n_jobs=1, normalize=False)"
      ]
     },
     "execution_count": 41,
     "metadata": {},
     "output_type": "execute_result"
    }
   ],
   "source": [
    "lr.fit(x,y)"
   ]
  },
  {
   "cell_type": "code",
   "execution_count": 42,
   "metadata": {
    "colab": {
     "autoexec": {
      "startup": false,
      "wait_interval": 0
     },
     "base_uri": "https://localhost:8080/",
     "height": 54
    },
    "colab_type": "code",
    "executionInfo": {
     "elapsed": 837,
     "status": "ok",
     "timestamp": 1527641193983,
     "user": {
      "displayName": "Nur Chamid",
      "photoUrl": "//lh5.googleusercontent.com/-TsgwUJzaJJg/AAAAAAAAAAI/AAAAAAAAARQ/Ngn5q-ighvg/s50-c-k-no/photo.jpg",
      "userId": "109513328284773316398"
     },
     "user_tz": -420
    },
    "id": "uSfQlxal-olu",
    "outputId": "c9e19912-1c28-4d43-b90c-b8ae166b9730"
   },
   "outputs": [
    {
     "name": "stdout",
     "output_type": "stream",
     "text": [
      "[-5.15015235 -1.0240709  -2.08382608]\n"
     ]
    }
   ],
   "source": [
    "print(lr.coef_)"
   ]
  },
  {
   "cell_type": "code",
   "execution_count": 43,
   "metadata": {
    "colab": {
     "autoexec": {
      "startup": false,
      "wait_interval": 0
     },
     "base_uri": "https://localhost:8080/",
     "height": 54
    },
    "colab_type": "code",
    "executionInfo": {
     "elapsed": 702,
     "status": "ok",
     "timestamp": 1527641194782,
     "user": {
      "displayName": "Nur Chamid",
      "photoUrl": "//lh5.googleusercontent.com/-TsgwUJzaJJg/AAAAAAAAAAI/AAAAAAAAARQ/Ngn5q-ighvg/s50-c-k-no/photo.jpg",
      "userId": "109513328284773316398"
     },
     "user_tz": -420
    },
    "id": "-HRLTr1y-ol0",
    "outputId": "11d63287-f16f-45ee-c451-7aaf1b1eb6ba"
   },
   "outputs": [
    {
     "name": "stdout",
     "output_type": "stream",
     "text": [
      "637.3618221669511\n"
     ]
    }
   ],
   "source": [
    "print(lr.intercept_)"
   ]
  },
  {
   "cell_type": "code",
   "execution_count": 44,
   "metadata": {
    "colab": {
     "autoexec": {
      "startup": false,
      "wait_interval": 0
     },
     "base_uri": "https://localhost:8080/",
     "height": 54
    },
    "colab_type": "code",
    "executionInfo": {
     "elapsed": 1150,
     "status": "ok",
     "timestamp": 1527641196015,
     "user": {
      "displayName": "Nur Chamid",
      "photoUrl": "//lh5.googleusercontent.com/-TsgwUJzaJJg/AAAAAAAAAAI/AAAAAAAAARQ/Ngn5q-ighvg/s50-c-k-no/photo.jpg",
      "userId": "109513328284773316398"
     },
     "user_tz": -420
    },
    "id": "v98jsEzx-ol2",
    "outputId": "7183e86a-bdb7-49cb-90f0-1e62e66bbc9a"
   },
   "outputs": [
    {
     "data": {
      "text/plain": [
       "0.1963064903565488"
      ]
     },
     "execution_count": 44,
     "metadata": {},
     "output_type": "execute_result"
    }
   ],
   "source": [
    "lr.score(x,y)"
   ]
  },
  {
   "cell_type": "markdown",
   "metadata": {
    "colab_type": "text",
    "id": "u_hjknQM-ol6"
   },
   "source": [
    "# Mengganti Dummy Variable"
   ]
  },
  {
   "cell_type": "markdown",
   "metadata": {
    "colab_type": "text",
    "id": "_ho4vm1t-ol7"
   },
   "source": [
    "Variabel untuk mengantisipasi data kategorical"
   ]
  },
  {
   "cell_type": "code",
   "execution_count": 45,
   "metadata": {
    "colab": {
     "autoexec": {
      "startup": false,
      "wait_interval": 0
     },
     "base_uri": "https://localhost:8080/",
     "height": 111
    },
    "colab_type": "code",
    "executionInfo": {
     "elapsed": 1134,
     "status": "ok",
     "timestamp": 1527641197261,
     "user": {
      "displayName": "Nur Chamid",
      "photoUrl": "//lh5.googleusercontent.com/-TsgwUJzaJJg/AAAAAAAAAAI/AAAAAAAAARQ/Ngn5q-ighvg/s50-c-k-no/photo.jpg",
      "userId": "109513328284773316398"
     },
     "user_tz": -420
    },
    "id": "ZWsOUqZT-ol7",
    "outputId": "62ceacea-794a-417a-95c9-efeb08dab61c"
   },
   "outputs": [
    {
     "data": {
      "text/html": [
       "<div>\n",
       "<style scoped>\n",
       "    .dataframe tbody tr th:only-of-type {\n",
       "        vertical-align: middle;\n",
       "    }\n",
       "\n",
       "    .dataframe tbody tr th {\n",
       "        vertical-align: top;\n",
       "    }\n",
       "\n",
       "    .dataframe thead th {\n",
       "        text-align: right;\n",
       "    }\n",
       "</style>\n",
       "<table border=\"1\" class=\"dataframe\">\n",
       "  <thead>\n",
       "    <tr style=\"text-align: right;\">\n",
       "      <th></th>\n",
       "      <th>Age</th>\n",
       "      <th>YearsDE</th>\n",
       "      <th>VehicleNo</th>\n",
       "      <th>Gender</th>\n",
       "      <th>Married</th>\n",
       "      <th>VehicleAge</th>\n",
       "      <th>Fuel</th>\n",
       "      <th>Losses</th>\n",
       "    </tr>\n",
       "    <tr>\n",
       "      <th>Policy Number</th>\n",
       "      <th></th>\n",
       "      <th></th>\n",
       "      <th></th>\n",
       "      <th></th>\n",
       "      <th></th>\n",
       "      <th></th>\n",
       "      <th></th>\n",
       "      <th></th>\n",
       "    </tr>\n",
       "  </thead>\n",
       "  <tbody>\n",
       "    <tr>\n",
       "      <th>150024</th>\n",
       "      <td>24</td>\n",
       "      <td>5</td>\n",
       "      <td>1</td>\n",
       "      <td>M</td>\n",
       "      <td>Married</td>\n",
       "      <td>11</td>\n",
       "      <td>P</td>\n",
       "      <td>203.319595</td>\n",
       "    </tr>\n",
       "  </tbody>\n",
       "</table>\n",
       "</div>"
      ],
      "text/plain": [
       "               Age  YearsDE  VehicleNo Gender  Married  VehicleAge Fuel  \\\n",
       "Policy Number                                                             \n",
       "150024          24        5          1      M  Married          11    P   \n",
       "\n",
       "                   Losses  \n",
       "Policy Number              \n",
       "150024         203.319595  "
      ]
     },
     "execution_count": 45,
     "metadata": {},
     "output_type": "execute_result"
    }
   ],
   "source": [
    "df.head(1)"
   ]
  },
  {
   "cell_type": "markdown",
   "metadata": {
    "colab_type": "text",
    "id": "Em_eKMW9-ol9"
   },
   "source": [
    "Membuat dummy variabel yaitu Gender --> IsGender"
   ]
  },
  {
   "cell_type": "markdown",
   "metadata": {
    "colab_type": "text",
    "id": "96RrGKmb-ol-"
   },
   "source": [
    "Base model variabel ketika dummy = 0, yaitu saat Male"
   ]
  },
  {
   "cell_type": "code",
   "execution_count": 46,
   "metadata": {
    "colab": {
     "autoexec": {
      "startup": false,
      "wait_interval": 0
     },
     "base_uri": "https://localhost:8080/",
     "height": 128
    },
    "colab_type": "code",
    "executionInfo": {
     "elapsed": 737,
     "status": "ok",
     "timestamp": 1527650443930,
     "user": {
      "displayName": "Nur Chamid",
      "photoUrl": "//lh5.googleusercontent.com/-TsgwUJzaJJg/AAAAAAAAAAI/AAAAAAAAARQ/Ngn5q-ighvg/s50-c-k-no/photo.jpg",
      "userId": "109513328284773316398"
     },
     "user_tz": -420
    },
    "id": "z4LHDjEW-ol_",
    "outputId": "f0d6fa54-e93a-40d6-de64-7f4aeb80efde"
   },
   "outputs": [
    {
     "data": {
      "text/html": [
       "<div>\n",
       "<style scoped>\n",
       "    .dataframe tbody tr th:only-of-type {\n",
       "        vertical-align: middle;\n",
       "    }\n",
       "\n",
       "    .dataframe tbody tr th {\n",
       "        vertical-align: top;\n",
       "    }\n",
       "\n",
       "    .dataframe thead th {\n",
       "        text-align: right;\n",
       "    }\n",
       "</style>\n",
       "<table border=\"1\" class=\"dataframe\">\n",
       "  <thead>\n",
       "    <tr style=\"text-align: right;\">\n",
       "      <th></th>\n",
       "      <th>Age</th>\n",
       "      <th>YearsDE</th>\n",
       "      <th>VehicleNo</th>\n",
       "      <th>Gender</th>\n",
       "      <th>Married</th>\n",
       "      <th>VehicleAge</th>\n",
       "      <th>Fuel</th>\n",
       "      <th>Losses</th>\n",
       "      <th>IsGender</th>\n",
       "    </tr>\n",
       "    <tr>\n",
       "      <th>Policy Number</th>\n",
       "      <th></th>\n",
       "      <th></th>\n",
       "      <th></th>\n",
       "      <th></th>\n",
       "      <th></th>\n",
       "      <th></th>\n",
       "      <th></th>\n",
       "      <th></th>\n",
       "      <th></th>\n",
       "    </tr>\n",
       "  </thead>\n",
       "  <tbody>\n",
       "    <tr>\n",
       "      <th>150024</th>\n",
       "      <td>24</td>\n",
       "      <td>5</td>\n",
       "      <td>1</td>\n",
       "      <td>M</td>\n",
       "      <td>Married</td>\n",
       "      <td>11</td>\n",
       "      <td>P</td>\n",
       "      <td>203.319595</td>\n",
       "      <td>0</td>\n",
       "    </tr>\n",
       "  </tbody>\n",
       "</table>\n",
       "</div>"
      ],
      "text/plain": [
       "               Age  YearsDE  VehicleNo Gender  Married  VehicleAge Fuel  \\\n",
       "Policy Number                                                             \n",
       "150024          24        5          1      M  Married          11    P   \n",
       "\n",
       "                   Losses  IsGender  \n",
       "Policy Number                        \n",
       "150024         203.319595         0  "
      ]
     },
     "execution_count": 46,
     "metadata": {},
     "output_type": "execute_result"
    }
   ],
   "source": [
    "df['IsGender']=df.Gender.map({'M':0,'F':1})\n",
    "df.head(1)"
   ]
  },
  {
   "cell_type": "code",
   "execution_count": 47,
   "metadata": {
    "colab": {
     "autoexec": {
      "startup": false,
      "wait_interval": 0
     },
     "base_uri": "https://localhost:8080/",
     "height": 148
    },
    "colab_type": "code",
    "executionInfo": {
     "elapsed": 992,
     "status": "ok",
     "timestamp": 1527650445678,
     "user": {
      "displayName": "Nur Chamid",
      "photoUrl": "//lh5.googleusercontent.com/-TsgwUJzaJJg/AAAAAAAAAAI/AAAAAAAAARQ/Ngn5q-ighvg/s50-c-k-no/photo.jpg",
      "userId": "109513328284773316398"
     },
     "user_tz": -420
    },
    "id": "cjI0aQp--omC",
    "outputId": "30220ee6-75f5-4792-e707-28adf85036ba"
   },
   "outputs": [
    {
     "data": {
      "text/html": [
       "<div>\n",
       "<style scoped>\n",
       "    .dataframe tbody tr th:only-of-type {\n",
       "        vertical-align: middle;\n",
       "    }\n",
       "\n",
       "    .dataframe tbody tr th {\n",
       "        vertical-align: top;\n",
       "    }\n",
       "\n",
       "    .dataframe thead th {\n",
       "        text-align: right;\n",
       "    }\n",
       "</style>\n",
       "<table border=\"1\" class=\"dataframe\">\n",
       "  <thead>\n",
       "    <tr style=\"text-align: right;\">\n",
       "      <th></th>\n",
       "      <th>Age</th>\n",
       "      <th>YearsDE</th>\n",
       "      <th>VehicleNo</th>\n",
       "      <th>Gender</th>\n",
       "      <th>Married</th>\n",
       "      <th>VehicleAge</th>\n",
       "      <th>Fuel</th>\n",
       "      <th>Losses</th>\n",
       "      <th>IsGender</th>\n",
       "      <th>IsMarried</th>\n",
       "    </tr>\n",
       "    <tr>\n",
       "      <th>Policy Number</th>\n",
       "      <th></th>\n",
       "      <th></th>\n",
       "      <th></th>\n",
       "      <th></th>\n",
       "      <th></th>\n",
       "      <th></th>\n",
       "      <th></th>\n",
       "      <th></th>\n",
       "      <th></th>\n",
       "      <th></th>\n",
       "    </tr>\n",
       "  </thead>\n",
       "  <tbody>\n",
       "    <tr>\n",
       "      <th>150024</th>\n",
       "      <td>24</td>\n",
       "      <td>5</td>\n",
       "      <td>1</td>\n",
       "      <td>M</td>\n",
       "      <td>Married</td>\n",
       "      <td>11</td>\n",
       "      <td>P</td>\n",
       "      <td>203.319595</td>\n",
       "      <td>0</td>\n",
       "      <td>1</td>\n",
       "    </tr>\n",
       "  </tbody>\n",
       "</table>\n",
       "</div>"
      ],
      "text/plain": [
       "               Age  YearsDE  VehicleNo Gender  Married  VehicleAge Fuel  \\\n",
       "Policy Number                                                             \n",
       "150024          24        5          1      M  Married          11    P   \n",
       "\n",
       "                   Losses  IsGender  IsMarried  \n",
       "Policy Number                                   \n",
       "150024         203.319595         0          1  "
      ]
     },
     "execution_count": 47,
     "metadata": {},
     "output_type": "execute_result"
    }
   ],
   "source": [
    "df['IsMarried']=df.Married.map({'Single':0,'Married':1})\n",
    "df.head(1)"
   ]
  },
  {
   "cell_type": "code",
   "execution_count": 48,
   "metadata": {
    "colab": {
     "autoexec": {
      "startup": false,
      "wait_interval": 0
     },
     "base_uri": "https://localhost:8080/",
     "height": 148
    },
    "colab_type": "code",
    "executionInfo": {
     "elapsed": 938,
     "status": "ok",
     "timestamp": 1527650447420,
     "user": {
      "displayName": "Nur Chamid",
      "photoUrl": "//lh5.googleusercontent.com/-TsgwUJzaJJg/AAAAAAAAAAI/AAAAAAAAARQ/Ngn5q-ighvg/s50-c-k-no/photo.jpg",
      "userId": "109513328284773316398"
     },
     "user_tz": -420
    },
    "id": "AB2JzjDH-omF",
    "outputId": "318377c7-b2c3-403f-e818-9c57a6e7bff2"
   },
   "outputs": [
    {
     "data": {
      "text/html": [
       "<div>\n",
       "<style scoped>\n",
       "    .dataframe tbody tr th:only-of-type {\n",
       "        vertical-align: middle;\n",
       "    }\n",
       "\n",
       "    .dataframe tbody tr th {\n",
       "        vertical-align: top;\n",
       "    }\n",
       "\n",
       "    .dataframe thead th {\n",
       "        text-align: right;\n",
       "    }\n",
       "</style>\n",
       "<table border=\"1\" class=\"dataframe\">\n",
       "  <thead>\n",
       "    <tr style=\"text-align: right;\">\n",
       "      <th></th>\n",
       "      <th>Age</th>\n",
       "      <th>YearsDE</th>\n",
       "      <th>VehicleNo</th>\n",
       "      <th>Gender</th>\n",
       "      <th>Married</th>\n",
       "      <th>VehicleAge</th>\n",
       "      <th>Fuel</th>\n",
       "      <th>Losses</th>\n",
       "      <th>IsGender</th>\n",
       "      <th>IsMarried</th>\n",
       "      <th>IsDiesel</th>\n",
       "    </tr>\n",
       "    <tr>\n",
       "      <th>Policy Number</th>\n",
       "      <th></th>\n",
       "      <th></th>\n",
       "      <th></th>\n",
       "      <th></th>\n",
       "      <th></th>\n",
       "      <th></th>\n",
       "      <th></th>\n",
       "      <th></th>\n",
       "      <th></th>\n",
       "      <th></th>\n",
       "      <th></th>\n",
       "    </tr>\n",
       "  </thead>\n",
       "  <tbody>\n",
       "    <tr>\n",
       "      <th>150024</th>\n",
       "      <td>24</td>\n",
       "      <td>5</td>\n",
       "      <td>1</td>\n",
       "      <td>M</td>\n",
       "      <td>Married</td>\n",
       "      <td>11</td>\n",
       "      <td>P</td>\n",
       "      <td>203.319595</td>\n",
       "      <td>0</td>\n",
       "      <td>1</td>\n",
       "      <td>0</td>\n",
       "    </tr>\n",
       "  </tbody>\n",
       "</table>\n",
       "</div>"
      ],
      "text/plain": [
       "               Age  YearsDE  VehicleNo Gender  Married  VehicleAge Fuel  \\\n",
       "Policy Number                                                             \n",
       "150024          24        5          1      M  Married          11    P   \n",
       "\n",
       "                   Losses  IsGender  IsMarried  IsDiesel  \n",
       "Policy Number                                             \n",
       "150024         203.319595         0          1         0  "
      ]
     },
     "execution_count": 48,
     "metadata": {},
     "output_type": "execute_result"
    }
   ],
   "source": [
    "df['IsDiesel']=df.Fuel.map({'D':1,'P':0})\n",
    "df.head(1)"
   ]
  },
  {
   "cell_type": "code",
   "execution_count": 49,
   "metadata": {
    "colab": {
     "autoexec": {
      "startup": false,
      "wait_interval": 0
     },
     "base_uri": "https://localhost:8080/",
     "height": 235
    },
    "colab_type": "code",
    "executionInfo": {
     "elapsed": 806,
     "status": "ok",
     "timestamp": 1527650450487,
     "user": {
      "displayName": "Nur Chamid",
      "photoUrl": "//lh5.googleusercontent.com/-TsgwUJzaJJg/AAAAAAAAAAI/AAAAAAAAARQ/Ngn5q-ighvg/s50-c-k-no/photo.jpg",
      "userId": "109513328284773316398"
     },
     "user_tz": -420
    },
    "id": "WnTAhXoH-omH",
    "outputId": "00c702fb-39a2-46c6-e3d0-8b79dd4f6035"
   },
   "outputs": [
    {
     "data": {
      "text/html": [
       "<div>\n",
       "<style scoped>\n",
       "    .dataframe tbody tr th:only-of-type {\n",
       "        vertical-align: middle;\n",
       "    }\n",
       "\n",
       "    .dataframe tbody tr th {\n",
       "        vertical-align: top;\n",
       "    }\n",
       "\n",
       "    .dataframe thead th {\n",
       "        text-align: right;\n",
       "    }\n",
       "</style>\n",
       "<table border=\"1\" class=\"dataframe\">\n",
       "  <thead>\n",
       "    <tr style=\"text-align: right;\">\n",
       "      <th></th>\n",
       "      <th>Age</th>\n",
       "      <th>YearsDE</th>\n",
       "      <th>VehicleNo</th>\n",
       "      <th>VehicleAge</th>\n",
       "      <th>IsGender</th>\n",
       "      <th>IsMarried</th>\n",
       "      <th>IsDiesel</th>\n",
       "      <th>Losses</th>\n",
       "    </tr>\n",
       "    <tr>\n",
       "      <th>Policy Number</th>\n",
       "      <th></th>\n",
       "      <th></th>\n",
       "      <th></th>\n",
       "      <th></th>\n",
       "      <th></th>\n",
       "      <th></th>\n",
       "      <th></th>\n",
       "      <th></th>\n",
       "    </tr>\n",
       "  </thead>\n",
       "  <tbody>\n",
       "    <tr>\n",
       "      <th>150024</th>\n",
       "      <td>24</td>\n",
       "      <td>5</td>\n",
       "      <td>1</td>\n",
       "      <td>11</td>\n",
       "      <td>0</td>\n",
       "      <td>1</td>\n",
       "      <td>0</td>\n",
       "      <td>203.319595</td>\n",
       "    </tr>\n",
       "    <tr>\n",
       "      <th>144880</th>\n",
       "      <td>31</td>\n",
       "      <td>10</td>\n",
       "      <td>1</td>\n",
       "      <td>6</td>\n",
       "      <td>1</td>\n",
       "      <td>0</td>\n",
       "      <td>0</td>\n",
       "      <td>402.197302</td>\n",
       "    </tr>\n",
       "    <tr>\n",
       "      <th>133742</th>\n",
       "      <td>56</td>\n",
       "      <td>37</td>\n",
       "      <td>1</td>\n",
       "      <td>0</td>\n",
       "      <td>0</td>\n",
       "      <td>1</td>\n",
       "      <td>1</td>\n",
       "      <td>553.132096</td>\n",
       "    </tr>\n",
       "    <tr>\n",
       "      <th>151282</th>\n",
       "      <td>52</td>\n",
       "      <td>31</td>\n",
       "      <td>1</td>\n",
       "      <td>15</td>\n",
       "      <td>1</td>\n",
       "      <td>1</td>\n",
       "      <td>0</td>\n",
       "      <td>292.430579</td>\n",
       "    </tr>\n",
       "    <tr>\n",
       "      <th>174407</th>\n",
       "      <td>20</td>\n",
       "      <td>3</td>\n",
       "      <td>1</td>\n",
       "      <td>15</td>\n",
       "      <td>0</td>\n",
       "      <td>0</td>\n",
       "      <td>0</td>\n",
       "      <td>246.540576</td>\n",
       "    </tr>\n",
       "  </tbody>\n",
       "</table>\n",
       "</div>"
      ],
      "text/plain": [
       "               Age  YearsDE  VehicleNo  VehicleAge  IsGender  IsMarried  \\\n",
       "Policy Number                                                             \n",
       "150024          24        5          1          11         0          1   \n",
       "144880          31       10          1           6         1          0   \n",
       "133742          56       37          1           0         0          1   \n",
       "151282          52       31          1          15         1          1   \n",
       "174407          20        3          1          15         0          0   \n",
       "\n",
       "               IsDiesel      Losses  \n",
       "Policy Number                        \n",
       "150024                0  203.319595  \n",
       "144880                0  402.197302  \n",
       "133742                1  553.132096  \n",
       "151282                0  292.430579  \n",
       "174407                0  246.540576  "
      ]
     },
     "execution_count": 49,
     "metadata": {},
     "output_type": "execute_result"
    }
   ],
   "source": [
    "data = df[['Age',\"YearsDE\",'VehicleNo', 'VehicleAge', 'IsGender', 'IsMarried', 'IsDiesel', 'Losses']]\n",
    "data.head()"
   ]
  },
  {
   "cell_type": "markdown",
   "metadata": {
    "colab_type": "text",
    "id": "koDKY1G8_b-3"
   },
   "source": [
    "# Korelasi"
   ]
  },
  {
   "cell_type": "code",
   "execution_count": 50,
   "metadata": {
    "colab": {
     "autoexec": {
      "startup": false,
      "wait_interval": 0
     },
     "base_uri": "https://localhost:8080/",
     "height": 588
    },
    "colab_type": "code",
    "executionInfo": {
     "elapsed": 1271,
     "status": "ok",
     "timestamp": 1527641202000,
     "user": {
      "displayName": "Nur Chamid",
      "photoUrl": "//lh5.googleusercontent.com/-TsgwUJzaJJg/AAAAAAAAAAI/AAAAAAAAARQ/Ngn5q-ighvg/s50-c-k-no/photo.jpg",
      "userId": "109513328284773316398"
     },
     "user_tz": -420
    },
    "id": "wo6PyUid-omK",
    "outputId": "a10b79fe-ad70-4743-ac4f-08590f70643b"
   },
   "outputs": [
    {
     "name": "stdout",
     "output_type": "stream",
     "text": [
      "          0         1         2         3         4         5         6  \\\n",
      "0  1.000065  0.997226  0.008367 -0.243587 -0.005396 -0.004322 -0.327412   \n",
      "1  0.997226  1.000065  0.008545 -0.238188 -0.007386 -0.005029 -0.325623   \n",
      "2  0.008367  0.008545  1.000065  0.005924  0.001155 -0.009525 -0.003401   \n",
      "3 -0.243587 -0.238188  0.005924  1.000065  0.003497 -0.008297 -0.289841   \n",
      "4 -0.005396 -0.007386  0.001155  0.003497  1.000065  0.008002 -0.165311   \n",
      "5 -0.004322 -0.005029 -0.009525 -0.008297  0.008002  1.000065 -0.218730   \n",
      "6 -0.327412 -0.325623 -0.003401 -0.289841 -0.165311 -0.218730  1.000065   \n",
      "7 -0.442991 -0.442144 -0.011554 -0.274739 -0.184351 -0.265348  0.724790   \n",
      "\n",
      "          7  \n",
      "0 -0.442991  \n",
      "1 -0.442144  \n",
      "2 -0.011554  \n",
      "3 -0.274739  \n",
      "4 -0.184351  \n",
      "5 -0.265348  \n",
      "6  0.724790  \n",
      "7  1.000065  \n"
     ]
    },
    {
     "data": {
      "image/png": "[encoded data removed]",
      "text/plain": [
       "<matplotlib.figure.Figure at 0x281c7d02a90>"
      ]
     },
     "metadata": {},
     "output_type": "display_data"
    }
   ],
   "source": [
    "std_scale_data=preprocessing.StandardScaler().fit(data)\n",
    "data_std=std_scale_data.transform(data)\n",
    "\n",
    "data_scale = pd.DataFrame(data_std)\n",
    "# data_scale.head()\n",
    "\n",
    "print(data_scale.cov())\n",
    "sns.heatmap(data_scale.cov(),cmap=cm.Greens,annot=True) # korelasi atau hubungan antar variabel\n",
    "plt.show()"
   ]
  },
  {
   "cell_type": "markdown",
   "metadata": {
    "colab_type": "text",
    "id": "ybyak8ic_g7m"
   },
   "source": [
    "# Regresi tanpa Normalisasi"
   ]
  },
  {
   "cell_type": "code",
   "execution_count": 51,
   "metadata": {
    "colab": {
     "autoexec": {
      "startup": false,
      "wait_interval": 0
     },
     "base_uri": "https://localhost:8080/",
     "height": 376
    },
    "colab_type": "code",
    "executionInfo": {
     "elapsed": 744,
     "status": "ok",
     "timestamp": 1527641202902,
     "user": {
      "displayName": "Nur Chamid",
      "photoUrl": "//lh5.googleusercontent.com/-TsgwUJzaJJg/AAAAAAAAAAI/AAAAAAAAARQ/Ngn5q-ighvg/s50-c-k-no/photo.jpg",
      "userId": "109513328284773316398"
     },
     "user_tz": -420
    },
    "id": "nKXPO8c7-omM",
    "outputId": "14da79fe-3b0d-4a97-c993-6876c525f20a"
   },
   "outputs": [
    {
     "data": {
      "text/html": [
       "<table class=\"simpletable\">\n",
       "<caption>OLS Regression Results</caption>\n",
       "<tr>\n",
       "  <th>Dep. Variable:</th>         <td>Losses</td>      <th>  R-squared:         </th>  <td>   0.525</td>  \n",
       "</tr>\n",
       "<tr>\n",
       "  <th>Model:</th>                   <td>OLS</td>       <th>  Adj. R-squared:    </th>  <td>   0.525</td>  \n",
       "</tr>\n",
       "<tr>\n",
       "  <th>Method:</th>             <td>Least Squares</td>  <th>  F-statistic:       </th>  <td>1.691e+04</td> \n",
       "</tr>\n",
       "<tr>\n",
       "  <th>Date:</th>             <td>Wed, 30 May 2018</td> <th>  Prob (F-statistic):</th>   <td>  0.00</td>   \n",
       "</tr>\n",
       "<tr>\n",
       "  <th>Time:</th>                 <td>14:09:06</td>     <th>  Log-Likelihood:    </th> <td>-1.0065e+05</td>\n",
       "</tr>\n",
       "<tr>\n",
       "  <th>No. Observations:</th>      <td> 15290</td>      <th>  AIC:               </th>  <td>2.013e+05</td> \n",
       "</tr>\n",
       "<tr>\n",
       "  <th>Df Residuals:</th>          <td> 15288</td>      <th>  BIC:               </th>  <td>2.013e+05</td> \n",
       "</tr>\n",
       "<tr>\n",
       "  <th>Df Model:</th>              <td>     1</td>      <th>                     </th>      <td> </td>     \n",
       "</tr>\n",
       "<tr>\n",
       "  <th>Covariance Type:</th>      <td>nonrobust</td>    <th>                     </th>      <td> </td>     \n",
       "</tr>\n",
       "</table>\n",
       "<table class=\"simpletable\">\n",
       "<tr>\n",
       "      <td></td>         <th>coef</th>     <th>std err</th>      <th>t</th>      <th>P>|t|</th>  <th>[0.025</th>    <th>0.975]</th>  \n",
       "</tr>\n",
       "<tr>\n",
       "  <th>Intercept</th> <td>  287.4458</td> <td>    1.618</td> <td>  177.613</td> <td> 0.000</td> <td>  284.274</td> <td>  290.618</td>\n",
       "</tr>\n",
       "<tr>\n",
       "  <th>IsDiesel</th>  <td>  432.5716</td> <td>    3.326</td> <td>  130.055</td> <td> 0.000</td> <td>  426.052</td> <td>  439.091</td>\n",
       "</tr>\n",
       "</table>\n",
       "<table class=\"simpletable\">\n",
       "<tr>\n",
       "  <th>Omnibus:</th>       <td>15255.164</td> <th>  Durbin-Watson:     </th>  <td>   1.713</td>  \n",
       "</tr>\n",
       "<tr>\n",
       "  <th>Prob(Omnibus):</th>  <td> 0.000</td>   <th>  Jarque-Bera (JB):  </th> <td>2322439.853</td>\n",
       "</tr>\n",
       "<tr>\n",
       "  <th>Skew:</th>           <td> 4.538</td>   <th>  Prob(JB):          </th>  <td>    0.00</td>  \n",
       "</tr>\n",
       "<tr>\n",
       "  <th>Kurtosis:</th>       <td>62.691</td>   <th>  Cond. No.          </th>  <td>    2.51</td>  \n",
       "</tr>\n",
       "</table>"
      ],
      "text/plain": [
       "<class 'statsmodels.iolib.summary.Summary'>\n",
       "\"\"\"\n",
       "                            OLS Regression Results                            \n",
       "==============================================================================\n",
       "Dep. Variable:                 Losses   R-squared:                       0.525\n",
       "Model:                            OLS   Adj. R-squared:                  0.525\n",
       "Method:                 Least Squares   F-statistic:                 1.691e+04\n",
       "Date:                Wed, 30 May 2018   Prob (F-statistic):               0.00\n",
       "Time:                        14:09:06   Log-Likelihood:            -1.0065e+05\n",
       "No. Observations:               15290   AIC:                         2.013e+05\n",
       "Df Residuals:                   15288   BIC:                         2.013e+05\n",
       "Df Model:                           1                                         \n",
       "Covariance Type:            nonrobust                                         \n",
       "==============================================================================\n",
       "                 coef    std err          t      P>|t|      [0.025      0.975]\n",
       "------------------------------------------------------------------------------\n",
       "Intercept    287.4458      1.618    177.613      0.000     284.274     290.618\n",
       "IsDiesel     432.5716      3.326    130.055      0.000     426.052     439.091\n",
       "==============================================================================\n",
       "Omnibus:                    15255.164   Durbin-Watson:                   1.713\n",
       "Prob(Omnibus):                  0.000   Jarque-Bera (JB):          2322439.853\n",
       "Skew:                           4.538   Prob(JB):                         0.00\n",
       "Kurtosis:                      62.691   Cond. No.                         2.51\n",
       "==============================================================================\n",
       "\n",
       "Warnings:\n",
       "[1] Standard Errors assume that the covariance matrix of the errors is correctly specified.\n",
       "\"\"\""
      ]
     },
     "execution_count": 51,
     "metadata": {},
     "output_type": "execute_result"
    }
   ],
   "source": [
    "lm=smf.ols(formula='Losses~IsDiesel', data=data).fit()\n",
    "lm.summary()"
   ]
  },
  {
   "cell_type": "code",
   "execution_count": 52,
   "metadata": {
    "colab": {
     "autoexec": {
      "startup": false,
      "wait_interval": 0
     },
     "base_uri": "https://localhost:8080/",
     "height": 502
    },
    "colab_type": "code",
    "executionInfo": {
     "elapsed": 682,
     "status": "ok",
     "timestamp": 1527641203721,
     "user": {
      "displayName": "Nur Chamid",
      "photoUrl": "//lh5.googleusercontent.com/-TsgwUJzaJJg/AAAAAAAAAAI/AAAAAAAAARQ/Ngn5q-ighvg/s50-c-k-no/photo.jpg",
      "userId": "109513328284773316398"
     },
     "user_tz": -420
    },
    "id": "Jkaf4Ylz-omP",
    "outputId": "a2c132c7-4384-4885-98bf-89fb49a7b944"
   },
   "outputs": [
    {
     "data": {
      "text/html": [
       "<table class=\"simpletable\">\n",
       "<caption>OLS Regression Results</caption>\n",
       "<tr>\n",
       "  <th>Dep. Variable:</th>         <td>Losses</td>      <th>  R-squared:         </th> <td>   0.630</td> \n",
       "</tr>\n",
       "<tr>\n",
       "  <th>Model:</th>                   <td>OLS</td>       <th>  Adj. R-squared:    </th> <td>   0.630</td> \n",
       "</tr>\n",
       "<tr>\n",
       "  <th>Method:</th>             <td>Least Squares</td>  <th>  F-statistic:       </th> <td>   3718.</td> \n",
       "</tr>\n",
       "<tr>\n",
       "  <th>Date:</th>             <td>Wed, 30 May 2018</td> <th>  Prob (F-statistic):</th>  <td>  0.00</td>  \n",
       "</tr>\n",
       "<tr>\n",
       "  <th>Time:</th>                 <td>14:09:06</td>     <th>  Log-Likelihood:    </th> <td> -98743.</td> \n",
       "</tr>\n",
       "<tr>\n",
       "  <th>No. Observations:</th>      <td> 15290</td>      <th>  AIC:               </th> <td>1.975e+05</td>\n",
       "</tr>\n",
       "<tr>\n",
       "  <th>Df Residuals:</th>          <td> 15282</td>      <th>  BIC:               </th> <td>1.976e+05</td>\n",
       "</tr>\n",
       "<tr>\n",
       "  <th>Df Model:</th>              <td>     7</td>      <th>                     </th>     <td> </td>    \n",
       "</tr>\n",
       "<tr>\n",
       "  <th>Covariance Type:</th>      <td>nonrobust</td>    <th>                     </th>     <td> </td>    \n",
       "</tr>\n",
       "</table>\n",
       "<table class=\"simpletable\">\n",
       "<tr>\n",
       "       <td></td>         <th>coef</th>     <th>std err</th>      <th>t</th>      <th>P>|t|</th>  <th>[0.025</th>    <th>0.975]</th>  \n",
       "</tr>\n",
       "<tr>\n",
       "  <th>Intercept</th>  <td>  681.9238</td> <td>   18.102</td> <td>   37.671</td> <td> 0.000</td> <td>  646.442</td> <td>  717.406</td>\n",
       "</tr>\n",
       "<tr>\n",
       "  <th>Age</th>        <td>   -4.1573</td> <td>    0.913</td> <td>   -4.553</td> <td> 0.000</td> <td>   -5.947</td> <td>   -2.368</td>\n",
       "</tr>\n",
       "<tr>\n",
       "  <th>YearsDE</th>    <td>   -0.4317</td> <td>    0.932</td> <td>   -0.463</td> <td> 0.643</td> <td>   -2.258</td> <td>    1.395</td>\n",
       "</tr>\n",
       "<tr>\n",
       "  <th>VehicleNo</th>  <td>   -1.9184</td> <td>    1.309</td> <td>   -1.465</td> <td> 0.143</td> <td>   -4.484</td> <td>    0.648</td>\n",
       "</tr>\n",
       "<tr>\n",
       "  <th>VehicleAge</th> <td>  -12.2328</td> <td>    0.328</td> <td>  -37.298</td> <td> 0.000</td> <td>  -12.876</td> <td>  -11.590</td>\n",
       "</tr>\n",
       "<tr>\n",
       "  <th>IsGender</th>   <td>  -51.1051</td> <td>    2.547</td> <td>  -20.062</td> <td> 0.000</td> <td>  -56.098</td> <td>  -46.112</td>\n",
       "</tr>\n",
       "<tr>\n",
       "  <th>IsMarried</th>  <td>  -79.8464</td> <td>    2.588</td> <td>  -30.852</td> <td> 0.000</td> <td>  -84.919</td> <td>  -74.774</td>\n",
       "</tr>\n",
       "<tr>\n",
       "  <th>IsDiesel</th>   <td>  301.4193</td> <td>    3.589</td> <td>   83.988</td> <td> 0.000</td> <td>  294.385</td> <td>  308.454</td>\n",
       "</tr>\n",
       "</table>\n",
       "<table class=\"simpletable\">\n",
       "<tr>\n",
       "  <th>Omnibus:</th>       <td>18019.325</td> <th>  Durbin-Watson:     </th>  <td>   1.638</td>  \n",
       "</tr>\n",
       "<tr>\n",
       "  <th>Prob(Omnibus):</th>  <td> 0.000</td>   <th>  Jarque-Bera (JB):  </th> <td>5261211.478</td>\n",
       "</tr>\n",
       "<tr>\n",
       "  <th>Skew:</th>           <td> 5.889</td>   <th>  Prob(JB):          </th>  <td>    0.00</td>  \n",
       "</tr>\n",
       "<tr>\n",
       "  <th>Kurtosis:</th>       <td>93.109</td>   <th>  Cond. No.          </th>  <td>    802.</td>  \n",
       "</tr>\n",
       "</table>"
      ],
      "text/plain": [
       "<class 'statsmodels.iolib.summary.Summary'>\n",
       "\"\"\"\n",
       "                            OLS Regression Results                            \n",
       "==============================================================================\n",
       "Dep. Variable:                 Losses   R-squared:                       0.630\n",
       "Model:                            OLS   Adj. R-squared:                  0.630\n",
       "Method:                 Least Squares   F-statistic:                     3718.\n",
       "Date:                Wed, 30 May 2018   Prob (F-statistic):               0.00\n",
       "Time:                        14:09:06   Log-Likelihood:                -98743.\n",
       "No. Observations:               15290   AIC:                         1.975e+05\n",
       "Df Residuals:                   15282   BIC:                         1.976e+05\n",
       "Df Model:                           7                                         \n",
       "Covariance Type:            nonrobust                                         \n",
       "==============================================================================\n",
       "                 coef    std err          t      P>|t|      [0.025      0.975]\n",
       "------------------------------------------------------------------------------\n",
       "Intercept    681.9238     18.102     37.671      0.000     646.442     717.406\n",
       "Age           -4.1573      0.913     -4.553      0.000      -5.947      -2.368\n",
       "YearsDE       -0.4317      0.932     -0.463      0.643      -2.258       1.395\n",
       "VehicleNo     -1.9184      1.309     -1.465      0.143      -4.484       0.648\n",
       "VehicleAge   -12.2328      0.328    -37.298      0.000     -12.876     -11.590\n",
       "IsGender     -51.1051      2.547    -20.062      0.000     -56.098     -46.112\n",
       "IsMarried    -79.8464      2.588    -30.852      0.000     -84.919     -74.774\n",
       "IsDiesel     301.4193      3.589     83.988      0.000     294.385     308.454\n",
       "==============================================================================\n",
       "Omnibus:                    18019.325   Durbin-Watson:                   1.638\n",
       "Prob(Omnibus):                  0.000   Jarque-Bera (JB):          5261211.478\n",
       "Skew:                           5.889   Prob(JB):                         0.00\n",
       "Kurtosis:                      93.109   Cond. No.                         802.\n",
       "==============================================================================\n",
       "\n",
       "Warnings:\n",
       "[1] Standard Errors assume that the covariance matrix of the errors is correctly specified.\n",
       "\"\"\""
      ]
     },
     "execution_count": 52,
     "metadata": {},
     "output_type": "execute_result"
    }
   ],
   "source": [
    "lm=smf.ols(formula='Losses~Age+YearsDE+VehicleNo+VehicleAge+IsGender+IsMarried+IsDiesel', data=data).fit()\n",
    "lm.summary()"
   ]
  },
  {
   "cell_type": "code",
   "execution_count": 53,
   "metadata": {
    "colab": {
     "autoexec": {
      "startup": false,
      "wait_interval": 0
     },
     "base_uri": "https://localhost:8080/",
     "height": 460
    },
    "colab_type": "code",
    "executionInfo": {
     "elapsed": 633,
     "status": "ok",
     "timestamp": 1527641204563,
     "user": {
      "displayName": "Nur Chamid",
      "photoUrl": "//lh5.googleusercontent.com/-TsgwUJzaJJg/AAAAAAAAAAI/AAAAAAAAARQ/Ngn5q-ighvg/s50-c-k-no/photo.jpg",
      "userId": "109513328284773316398"
     },
     "user_tz": -420
    },
    "id": "O4ZtPGTf-omR",
    "outputId": "d8a5899e-a22d-47b0-d0b9-8279ed11f046"
   },
   "outputs": [
    {
     "data": {
      "text/html": [
       "<table class=\"simpletable\">\n",
       "<caption>OLS Regression Results</caption>\n",
       "<tr>\n",
       "  <th>Dep. Variable:</th>         <td>Losses</td>      <th>  R-squared:         </th> <td>   0.630</td> \n",
       "</tr>\n",
       "<tr>\n",
       "  <th>Model:</th>                   <td>OLS</td>       <th>  Adj. R-squared:    </th> <td>   0.630</td> \n",
       "</tr>\n",
       "<tr>\n",
       "  <th>Method:</th>             <td>Least Squares</td>  <th>  F-statistic:       </th> <td>   5204.</td> \n",
       "</tr>\n",
       "<tr>\n",
       "  <th>Date:</th>             <td>Wed, 30 May 2018</td> <th>  Prob (F-statistic):</th>  <td>  0.00</td>  \n",
       "</tr>\n",
       "<tr>\n",
       "  <th>Time:</th>                 <td>14:09:06</td>     <th>  Log-Likelihood:    </th> <td> -98744.</td> \n",
       "</tr>\n",
       "<tr>\n",
       "  <th>No. Observations:</th>      <td> 15290</td>      <th>  AIC:               </th> <td>1.975e+05</td>\n",
       "</tr>\n",
       "<tr>\n",
       "  <th>Df Residuals:</th>          <td> 15284</td>      <th>  BIC:               </th> <td>1.975e+05</td>\n",
       "</tr>\n",
       "<tr>\n",
       "  <th>Df Model:</th>              <td>     5</td>      <th>                     </th>     <td> </td>    \n",
       "</tr>\n",
       "<tr>\n",
       "  <th>Covariance Type:</th>      <td>nonrobust</td>    <th>                     </th>     <td> </td>    \n",
       "</tr>\n",
       "</table>\n",
       "<table class=\"simpletable\">\n",
       "<tr>\n",
       "       <td></td>         <th>coef</th>     <th>std err</th>      <th>t</th>      <th>P>|t|</th>  <th>[0.025</th>    <th>0.975]</th>  \n",
       "</tr>\n",
       "<tr>\n",
       "  <th>Intercept</th>  <td>  684.8932</td> <td>    6.425</td> <td>  106.594</td> <td> 0.000</td> <td>  672.299</td> <td>  697.487</td>\n",
       "</tr>\n",
       "<tr>\n",
       "  <th>Age</th>        <td>   -4.5798</td> <td>    0.079</td> <td>  -58.084</td> <td> 0.000</td> <td>   -4.734</td> <td>   -4.425</td>\n",
       "</tr>\n",
       "<tr>\n",
       "  <th>VehicleAge</th> <td>  -12.2477</td> <td>    0.327</td> <td>  -37.446</td> <td> 0.000</td> <td>  -12.889</td> <td>  -11.607</td>\n",
       "</tr>\n",
       "<tr>\n",
       "  <th>IsGender</th>   <td>  -51.0876</td> <td>    2.547</td> <td>  -20.058</td> <td> 0.000</td> <td>  -56.080</td> <td>  -46.095</td>\n",
       "</tr>\n",
       "<tr>\n",
       "  <th>IsMarried</th>  <td>  -79.8139</td> <td>    2.588</td> <td>  -30.840</td> <td> 0.000</td> <td>  -84.887</td> <td>  -74.741</td>\n",
       "</tr>\n",
       "<tr>\n",
       "  <th>IsDiesel</th>   <td>  301.3555</td> <td>    3.587</td> <td>   84.025</td> <td> 0.000</td> <td>  294.325</td> <td>  308.385</td>\n",
       "</tr>\n",
       "</table>\n",
       "<table class=\"simpletable\">\n",
       "<tr>\n",
       "  <th>Omnibus:</th>       <td>18036.236</td> <th>  Durbin-Watson:     </th>  <td>   1.637</td>  \n",
       "</tr>\n",
       "<tr>\n",
       "  <th>Prob(Omnibus):</th>  <td> 0.000</td>   <th>  Jarque-Bera (JB):  </th> <td>5287909.370</td>\n",
       "</tr>\n",
       "<tr>\n",
       "  <th>Skew:</th>           <td> 5.898</td>   <th>  Prob(JB):          </th>  <td>    0.00</td>  \n",
       "</tr>\n",
       "<tr>\n",
       "  <th>Kurtosis:</th>       <td>93.338</td>   <th>  Cond. No.          </th>  <td>    263.</td>  \n",
       "</tr>\n",
       "</table>"
      ],
      "text/plain": [
       "<class 'statsmodels.iolib.summary.Summary'>\n",
       "\"\"\"\n",
       "                            OLS Regression Results                            \n",
       "==============================================================================\n",
       "Dep. Variable:                 Losses   R-squared:                       0.630\n",
       "Model:                            OLS   Adj. R-squared:                  0.630\n",
       "Method:                 Least Squares   F-statistic:                     5204.\n",
       "Date:                Wed, 30 May 2018   Prob (F-statistic):               0.00\n",
       "Time:                        14:09:06   Log-Likelihood:                -98744.\n",
       "No. Observations:               15290   AIC:                         1.975e+05\n",
       "Df Residuals:                   15284   BIC:                         1.975e+05\n",
       "Df Model:                           5                                         \n",
       "Covariance Type:            nonrobust                                         \n",
       "==============================================================================\n",
       "                 coef    std err          t      P>|t|      [0.025      0.975]\n",
       "------------------------------------------------------------------------------\n",
       "Intercept    684.8932      6.425    106.594      0.000     672.299     697.487\n",
       "Age           -4.5798      0.079    -58.084      0.000      -4.734      -4.425\n",
       "VehicleAge   -12.2477      0.327    -37.446      0.000     -12.889     -11.607\n",
       "IsGender     -51.0876      2.547    -20.058      0.000     -56.080     -46.095\n",
       "IsMarried    -79.8139      2.588    -30.840      0.000     -84.887     -74.741\n",
       "IsDiesel     301.3555      3.587     84.025      0.000     294.325     308.385\n",
       "==============================================================================\n",
       "Omnibus:                    18036.236   Durbin-Watson:                   1.637\n",
       "Prob(Omnibus):                  0.000   Jarque-Bera (JB):          5287909.370\n",
       "Skew:                           5.898   Prob(JB):                         0.00\n",
       "Kurtosis:                      93.338   Cond. No.                         263.\n",
       "==============================================================================\n",
       "\n",
       "Warnings:\n",
       "[1] Standard Errors assume that the covariance matrix of the errors is correctly specified.\n",
       "\"\"\""
      ]
     },
     "execution_count": 53,
     "metadata": {},
     "output_type": "execute_result"
    }
   ],
   "source": [
    "lm=smf.ols(formula='Losses~Age+VehicleAge+IsGender+IsMarried+IsDiesel', data=data).fit()\n",
    "lm.summary()"
   ]
  },
  {
   "cell_type": "code",
   "execution_count": 54,
   "metadata": {
    "colab": {
     "autoexec": {
      "startup": false,
      "wait_interval": 0
     },
     "base_uri": "https://localhost:8080/",
     "height": 235
    },
    "colab_type": "code",
    "executionInfo": {
     "elapsed": 631,
     "status": "ok",
     "timestamp": 1527641205361,
     "user": {
      "displayName": "Nur Chamid",
      "photoUrl": "//lh5.googleusercontent.com/-TsgwUJzaJJg/AAAAAAAAAAI/AAAAAAAAARQ/Ngn5q-ighvg/s50-c-k-no/photo.jpg",
      "userId": "109513328284773316398"
     },
     "user_tz": -420
    },
    "id": "TDZq2u9N-omT",
    "outputId": "4be83908-6a47-4feb-c3b3-17320e1bcec9"
   },
   "outputs": [
    {
     "data": {
      "text/html": [
       "<div>\n",
       "<style scoped>\n",
       "    .dataframe tbody tr th:only-of-type {\n",
       "        vertical-align: middle;\n",
       "    }\n",
       "\n",
       "    .dataframe tbody tr th {\n",
       "        vertical-align: top;\n",
       "    }\n",
       "\n",
       "    .dataframe thead th {\n",
       "        text-align: right;\n",
       "    }\n",
       "</style>\n",
       "<table border=\"1\" class=\"dataframe\">\n",
       "  <thead>\n",
       "    <tr style=\"text-align: right;\">\n",
       "      <th></th>\n",
       "      <th>Age</th>\n",
       "      <th>YearsDE</th>\n",
       "      <th>VehicleNo</th>\n",
       "      <th>VehicleAge</th>\n",
       "      <th>IsGender</th>\n",
       "      <th>IsMarried</th>\n",
       "      <th>IsDiesel</th>\n",
       "      <th>Losses</th>\n",
       "    </tr>\n",
       "    <tr>\n",
       "      <th>Policy Number</th>\n",
       "      <th></th>\n",
       "      <th></th>\n",
       "      <th></th>\n",
       "      <th></th>\n",
       "      <th></th>\n",
       "      <th></th>\n",
       "      <th></th>\n",
       "      <th></th>\n",
       "    </tr>\n",
       "  </thead>\n",
       "  <tbody>\n",
       "    <tr>\n",
       "      <th>150024</th>\n",
       "      <td>24</td>\n",
       "      <td>5</td>\n",
       "      <td>1</td>\n",
       "      <td>11</td>\n",
       "      <td>0</td>\n",
       "      <td>1</td>\n",
       "      <td>0</td>\n",
       "      <td>203.319595</td>\n",
       "    </tr>\n",
       "    <tr>\n",
       "      <th>144880</th>\n",
       "      <td>31</td>\n",
       "      <td>10</td>\n",
       "      <td>1</td>\n",
       "      <td>6</td>\n",
       "      <td>1</td>\n",
       "      <td>0</td>\n",
       "      <td>0</td>\n",
       "      <td>402.197302</td>\n",
       "    </tr>\n",
       "    <tr>\n",
       "      <th>133742</th>\n",
       "      <td>56</td>\n",
       "      <td>37</td>\n",
       "      <td>1</td>\n",
       "      <td>0</td>\n",
       "      <td>0</td>\n",
       "      <td>1</td>\n",
       "      <td>1</td>\n",
       "      <td>553.132096</td>\n",
       "    </tr>\n",
       "    <tr>\n",
       "      <th>151282</th>\n",
       "      <td>52</td>\n",
       "      <td>31</td>\n",
       "      <td>1</td>\n",
       "      <td>15</td>\n",
       "      <td>1</td>\n",
       "      <td>1</td>\n",
       "      <td>0</td>\n",
       "      <td>292.430579</td>\n",
       "    </tr>\n",
       "    <tr>\n",
       "      <th>174407</th>\n",
       "      <td>20</td>\n",
       "      <td>3</td>\n",
       "      <td>1</td>\n",
       "      <td>15</td>\n",
       "      <td>0</td>\n",
       "      <td>0</td>\n",
       "      <td>0</td>\n",
       "      <td>246.540576</td>\n",
       "    </tr>\n",
       "  </tbody>\n",
       "</table>\n",
       "</div>"
      ],
      "text/plain": [
       "               Age  YearsDE  VehicleNo  VehicleAge  IsGender  IsMarried  \\\n",
       "Policy Number                                                             \n",
       "150024          24        5          1          11         0          1   \n",
       "144880          31       10          1           6         1          0   \n",
       "133742          56       37          1           0         0          1   \n",
       "151282          52       31          1          15         1          1   \n",
       "174407          20        3          1          15         0          0   \n",
       "\n",
       "               IsDiesel      Losses  \n",
       "Policy Number                        \n",
       "150024                0  203.319595  \n",
       "144880                0  402.197302  \n",
       "133742                1  553.132096  \n",
       "151282                0  292.430579  \n",
       "174407                0  246.540576  "
      ]
     },
     "execution_count": 54,
     "metadata": {},
     "output_type": "execute_result"
    }
   ],
   "source": [
    "data.head()"
   ]
  },
  {
   "cell_type": "code",
   "execution_count": 55,
   "metadata": {
    "colab": {
     "autoexec": {
      "startup": false,
      "wait_interval": 0
     },
     "base_uri": "https://localhost:8080/",
     "height": 460
    },
    "colab_type": "code",
    "executionInfo": {
     "elapsed": 766,
     "status": "ok",
     "timestamp": 1527641206263,
     "user": {
      "displayName": "Nur Chamid",
      "photoUrl": "//lh5.googleusercontent.com/-TsgwUJzaJJg/AAAAAAAAAAI/AAAAAAAAARQ/Ngn5q-ighvg/s50-c-k-no/photo.jpg",
      "userId": "109513328284773316398"
     },
     "user_tz": -420
    },
    "id": "VrGKDwiIQ8Wr",
    "outputId": "b4f48f16-38e5-409c-9dbd-384d3ee22ca1"
   },
   "outputs": [
    {
     "data": {
      "text/html": [
       "<table class=\"simpletable\">\n",
       "<caption>OLS Regression Results</caption>\n",
       "<tr>\n",
       "  <th>Dep. Variable:</th>         <td>Losses</td>      <th>  R-squared:         </th> <td>   0.630</td> \n",
       "</tr>\n",
       "<tr>\n",
       "  <th>Model:</th>                   <td>OLS</td>       <th>  Adj. R-squared:    </th> <td>   0.630</td> \n",
       "</tr>\n",
       "<tr>\n",
       "  <th>Method:</th>             <td>Least Squares</td>  <th>  F-statistic:       </th> <td>   5204.</td> \n",
       "</tr>\n",
       "<tr>\n",
       "  <th>Date:</th>             <td>Wed, 30 May 2018</td> <th>  Prob (F-statistic):</th>  <td>  0.00</td>  \n",
       "</tr>\n",
       "<tr>\n",
       "  <th>Time:</th>                 <td>14:09:06</td>     <th>  Log-Likelihood:    </th> <td> -98744.</td> \n",
       "</tr>\n",
       "<tr>\n",
       "  <th>No. Observations:</th>      <td> 15290</td>      <th>  AIC:               </th> <td>1.975e+05</td>\n",
       "</tr>\n",
       "<tr>\n",
       "  <th>Df Residuals:</th>          <td> 15284</td>      <th>  BIC:               </th> <td>1.975e+05</td>\n",
       "</tr>\n",
       "<tr>\n",
       "  <th>Df Model:</th>              <td>     5</td>      <th>                     </th>     <td> </td>    \n",
       "</tr>\n",
       "<tr>\n",
       "  <th>Covariance Type:</th>      <td>nonrobust</td>    <th>                     </th>     <td> </td>    \n",
       "</tr>\n",
       "</table>\n",
       "<table class=\"simpletable\">\n",
       "<tr>\n",
       "       <td></td>         <th>coef</th>     <th>std err</th>      <th>t</th>      <th>P>|t|</th>  <th>[0.025</th>    <th>0.975]</th>  \n",
       "</tr>\n",
       "<tr>\n",
       "  <th>Intercept</th>  <td>  684.8932</td> <td>    6.425</td> <td>  106.594</td> <td> 0.000</td> <td>  672.299</td> <td>  697.487</td>\n",
       "</tr>\n",
       "<tr>\n",
       "  <th>Age</th>        <td>   -4.5798</td> <td>    0.079</td> <td>  -58.084</td> <td> 0.000</td> <td>   -4.734</td> <td>   -4.425</td>\n",
       "</tr>\n",
       "<tr>\n",
       "  <th>VehicleAge</th> <td>  -12.2477</td> <td>    0.327</td> <td>  -37.446</td> <td> 0.000</td> <td>  -12.889</td> <td>  -11.607</td>\n",
       "</tr>\n",
       "<tr>\n",
       "  <th>IsGender</th>   <td>  -51.0876</td> <td>    2.547</td> <td>  -20.058</td> <td> 0.000</td> <td>  -56.080</td> <td>  -46.095</td>\n",
       "</tr>\n",
       "<tr>\n",
       "  <th>IsMarried</th>  <td>  -79.8139</td> <td>    2.588</td> <td>  -30.840</td> <td> 0.000</td> <td>  -84.887</td> <td>  -74.741</td>\n",
       "</tr>\n",
       "<tr>\n",
       "  <th>IsDiesel</th>   <td>  301.3555</td> <td>    3.587</td> <td>   84.025</td> <td> 0.000</td> <td>  294.325</td> <td>  308.385</td>\n",
       "</tr>\n",
       "</table>\n",
       "<table class=\"simpletable\">\n",
       "<tr>\n",
       "  <th>Omnibus:</th>       <td>18036.236</td> <th>  Durbin-Watson:     </th>  <td>   1.637</td>  \n",
       "</tr>\n",
       "<tr>\n",
       "  <th>Prob(Omnibus):</th>  <td> 0.000</td>   <th>  Jarque-Bera (JB):  </th> <td>5287909.370</td>\n",
       "</tr>\n",
       "<tr>\n",
       "  <th>Skew:</th>           <td> 5.898</td>   <th>  Prob(JB):          </th>  <td>    0.00</td>  \n",
       "</tr>\n",
       "<tr>\n",
       "  <th>Kurtosis:</th>       <td>93.338</td>   <th>  Cond. No.          </th>  <td>    263.</td>  \n",
       "</tr>\n",
       "</table>"
      ],
      "text/plain": [
       "<class 'statsmodels.iolib.summary.Summary'>\n",
       "\"\"\"\n",
       "                            OLS Regression Results                            \n",
       "==============================================================================\n",
       "Dep. Variable:                 Losses   R-squared:                       0.630\n",
       "Model:                            OLS   Adj. R-squared:                  0.630\n",
       "Method:                 Least Squares   F-statistic:                     5204.\n",
       "Date:                Wed, 30 May 2018   Prob (F-statistic):               0.00\n",
       "Time:                        14:09:06   Log-Likelihood:                -98744.\n",
       "No. Observations:               15290   AIC:                         1.975e+05\n",
       "Df Residuals:                   15284   BIC:                         1.975e+05\n",
       "Df Model:                           5                                         \n",
       "Covariance Type:            nonrobust                                         \n",
       "==============================================================================\n",
       "                 coef    std err          t      P>|t|      [0.025      0.975]\n",
       "------------------------------------------------------------------------------\n",
       "Intercept    684.8932      6.425    106.594      0.000     672.299     697.487\n",
       "Age           -4.5798      0.079    -58.084      0.000      -4.734      -4.425\n",
       "VehicleAge   -12.2477      0.327    -37.446      0.000     -12.889     -11.607\n",
       "IsGender     -51.0876      2.547    -20.058      0.000     -56.080     -46.095\n",
       "IsMarried    -79.8139      2.588    -30.840      0.000     -84.887     -74.741\n",
       "IsDiesel     301.3555      3.587     84.025      0.000     294.325     308.385\n",
       "==============================================================================\n",
       "Omnibus:                    18036.236   Durbin-Watson:                   1.637\n",
       "Prob(Omnibus):                  0.000   Jarque-Bera (JB):          5287909.370\n",
       "Skew:                           5.898   Prob(JB):                         0.00\n",
       "Kurtosis:                      93.338   Cond. No.                         263.\n",
       "==============================================================================\n",
       "\n",
       "Warnings:\n",
       "[1] Standard Errors assume that the covariance matrix of the errors is correctly specified.\n",
       "\"\"\""
      ]
     },
     "execution_count": 55,
     "metadata": {},
     "output_type": "execute_result"
    }
   ],
   "source": [
    "lm=smf.ols(formula='Losses~Age+VehicleAge+IsGender+IsMarried+IsDiesel', data=data).fit()\n",
    "lm.summary()"
   ]
  },
  {
   "cell_type": "markdown",
   "metadata": {
    "colab_type": "text",
    "id": "uZJcLHJ1ZMqp"
   },
   "source": [
    "# Transformasi (Nilai y)"
   ]
  },
  {
   "cell_type": "markdown",
   "metadata": {
    "colab_type": "text",
    "id": "QxwtmCO5Zi8z"
   },
   "source": [
    "## Log (y)"
   ]
  },
  {
   "cell_type": "code",
   "execution_count": 56,
   "metadata": {
    "colab": {
     "autoexec": {
      "startup": false,
      "wait_interval": 0
     },
     "base_uri": "https://localhost:8080/",
     "height": 709
    },
    "colab_type": "code",
    "executionInfo": {
     "elapsed": 690,
     "status": "ok",
     "timestamp": 1527641207136,
     "user": {
      "displayName": "Nur Chamid",
      "photoUrl": "//lh5.googleusercontent.com/-TsgwUJzaJJg/AAAAAAAAAAI/AAAAAAAAARQ/Ngn5q-ighvg/s50-c-k-no/photo.jpg",
      "userId": "109513328284773316398"
     },
     "user_tz": -420
    },
    "id": "46FPwHYhZi81",
    "outputId": "86ac23b8-8c9d-4988-949b-0b2745bf6c73"
   },
   "outputs": [
    {
     "data": {
      "text/html": [
       "<table class=\"simpletable\">\n",
       "<caption>OLS Regression Results</caption>\n",
       "<tr>\n",
       "  <th>Dep. Variable:</th>       <td>Losses_New</td>    <th>  R-squared:         </th> <td>   0.543</td> \n",
       "</tr>\n",
       "<tr>\n",
       "  <th>Model:</th>                   <td>OLS</td>       <th>  Adj. R-squared:    </th> <td>   0.542</td> \n",
       "</tr>\n",
       "<tr>\n",
       "  <th>Method:</th>             <td>Least Squares</td>  <th>  F-statistic:       </th> <td>   2591.</td> \n",
       "</tr>\n",
       "<tr>\n",
       "  <th>Date:</th>             <td>Wed, 30 May 2018</td> <th>  Prob (F-statistic):</th>  <td>  0.00</td>  \n",
       "</tr>\n",
       "<tr>\n",
       "  <th>Time:</th>                 <td>14:09:06</td>     <th>  Log-Likelihood:    </th> <td> -10985.</td> \n",
       "</tr>\n",
       "<tr>\n",
       "  <th>No. Observations:</th>      <td> 15290</td>      <th>  AIC:               </th> <td>2.199e+04</td>\n",
       "</tr>\n",
       "<tr>\n",
       "  <th>Df Residuals:</th>          <td> 15282</td>      <th>  BIC:               </th> <td>2.205e+04</td>\n",
       "</tr>\n",
       "<tr>\n",
       "  <th>Df Model:</th>              <td>     7</td>      <th>                     </th>     <td> </td>    \n",
       "</tr>\n",
       "<tr>\n",
       "  <th>Covariance Type:</th>      <td>nonrobust</td>    <th>                     </th>     <td> </td>    \n",
       "</tr>\n",
       "</table>\n",
       "<table class=\"simpletable\">\n",
       "<tr>\n",
       "       <td></td>         <th>coef</th>     <th>std err</th>      <th>t</th>      <th>P>|t|</th>  <th>[0.025</th>    <th>0.975]</th>  \n",
       "</tr>\n",
       "<tr>\n",
       "  <th>Intercept</th>  <td>    6.6524</td> <td>    0.058</td> <td>  114.264</td> <td> 0.000</td> <td>    6.538</td> <td>    6.767</td>\n",
       "</tr>\n",
       "<tr>\n",
       "  <th>Age</th>        <td>   -0.0015</td> <td>    0.003</td> <td>   -0.515</td> <td> 0.607</td> <td>   -0.007</td> <td>    0.004</td>\n",
       "</tr>\n",
       "<tr>\n",
       "  <th>YearsDE</th>    <td>   -0.0177</td> <td>    0.003</td> <td>   -5.920</td> <td> 0.000</td> <td>   -0.024</td> <td>   -0.012</td>\n",
       "</tr>\n",
       "<tr>\n",
       "  <th>VehicleNo</th>  <td>    0.0004</td> <td>    0.004</td> <td>    0.102</td> <td> 0.919</td> <td>   -0.008</td> <td>    0.009</td>\n",
       "</tr>\n",
       "<tr>\n",
       "  <th>VehicleAge</th> <td>   -0.0443</td> <td>    0.001</td> <td>  -41.964</td> <td> 0.000</td> <td>   -0.046</td> <td>   -0.042</td>\n",
       "</tr>\n",
       "<tr>\n",
       "  <th>IsGender</th>   <td>   -0.1289</td> <td>    0.008</td> <td>  -15.727</td> <td> 0.000</td> <td>   -0.145</td> <td>   -0.113</td>\n",
       "</tr>\n",
       "<tr>\n",
       "  <th>IsMarried</th>  <td>   -0.2108</td> <td>    0.008</td> <td>  -25.321</td> <td> 0.000</td> <td>   -0.227</td> <td>   -0.194</td>\n",
       "</tr>\n",
       "<tr>\n",
       "  <th>IsDiesel</th>   <td>    0.5638</td> <td>    0.012</td> <td>   48.843</td> <td> 0.000</td> <td>    0.541</td> <td>    0.586</td>\n",
       "</tr>\n",
       "</table>\n",
       "<table class=\"simpletable\">\n",
       "<tr>\n",
       "  <th>Omnibus:</th>       <td>3523.700</td> <th>  Durbin-Watson:     </th> <td>   1.980</td>\n",
       "</tr>\n",
       "<tr>\n",
       "  <th>Prob(Omnibus):</th>  <td> 0.000</td>  <th>  Jarque-Bera (JB):  </th> <td>9249.055</td>\n",
       "</tr>\n",
       "<tr>\n",
       "  <th>Skew:</th>           <td>-1.244</td>  <th>  Prob(JB):          </th> <td>    0.00</td>\n",
       "</tr>\n",
       "<tr>\n",
       "  <th>Kurtosis:</th>       <td> 5.885</td>  <th>  Cond. No.          </th> <td>    802.</td>\n",
       "</tr>\n",
       "</table>"
      ],
      "text/plain": [
       "<class 'statsmodels.iolib.summary.Summary'>\n",
       "\"\"\"\n",
       "                            OLS Regression Results                            \n",
       "==============================================================================\n",
       "Dep. Variable:             Losses_New   R-squared:                       0.543\n",
       "Model:                            OLS   Adj. R-squared:                  0.542\n",
       "Method:                 Least Squares   F-statistic:                     2591.\n",
       "Date:                Wed, 30 May 2018   Prob (F-statistic):               0.00\n",
       "Time:                        14:09:06   Log-Likelihood:                -10985.\n",
       "No. Observations:               15290   AIC:                         2.199e+04\n",
       "Df Residuals:                   15282   BIC:                         2.205e+04\n",
       "Df Model:                           7                                         \n",
       "Covariance Type:            nonrobust                                         \n",
       "==============================================================================\n",
       "                 coef    std err          t      P>|t|      [0.025      0.975]\n",
       "------------------------------------------------------------------------------\n",
       "Intercept      6.6524      0.058    114.264      0.000       6.538       6.767\n",
       "Age           -0.0015      0.003     -0.515      0.607      -0.007       0.004\n",
       "YearsDE       -0.0177      0.003     -5.920      0.000      -0.024      -0.012\n",
       "VehicleNo      0.0004      0.004      0.102      0.919      -0.008       0.009\n",
       "VehicleAge    -0.0443      0.001    -41.964      0.000      -0.046      -0.042\n",
       "IsGender      -0.1289      0.008    -15.727      0.000      -0.145      -0.113\n",
       "IsMarried     -0.2108      0.008    -25.321      0.000      -0.227      -0.194\n",
       "IsDiesel       0.5638      0.012     48.843      0.000       0.541       0.586\n",
       "==============================================================================\n",
       "Omnibus:                     3523.700   Durbin-Watson:                   1.980\n",
       "Prob(Omnibus):                  0.000   Jarque-Bera (JB):             9249.055\n",
       "Skew:                          -1.244   Prob(JB):                         0.00\n",
       "Kurtosis:                       5.885   Cond. No.                         802.\n",
       "==============================================================================\n",
       "\n",
       "Warnings:\n",
       "[1] Standard Errors assume that the covariance matrix of the errors is correctly specified.\n",
       "\"\"\""
      ]
     },
     "execution_count": 56,
     "metadata": {},
     "output_type": "execute_result"
    }
   ],
   "source": [
    "df['Losses_New']=np.log(df.Losses)\n",
    "data1 = df[['Age','YearsDE','VehicleNo', 'VehicleAge', 'IsGender', 'IsMarried', 'IsDiesel', 'Losses_New']]\n",
    "data1.head()\n",
    "lm=smf.ols(formula='Losses_New~Age+YearsDE+VehicleNo+VehicleAge+IsGender+IsMarried+IsDiesel', data=data1).fit()\n",
    "lm.summary()"
   ]
  },
  {
   "cell_type": "code",
   "execution_count": 57,
   "metadata": {
    "colab": {
     "autoexec": {
      "startup": false,
      "wait_interval": 0
     },
     "base_uri": "https://localhost:8080/",
     "height": 667
    },
    "colab_type": "code",
    "executionInfo": {
     "elapsed": 728,
     "status": "ok",
     "timestamp": 1527641207996,
     "user": {
      "displayName": "Nur Chamid",
      "photoUrl": "//lh5.googleusercontent.com/-TsgwUJzaJJg/AAAAAAAAAAI/AAAAAAAAARQ/Ngn5q-ighvg/s50-c-k-no/photo.jpg",
      "userId": "109513328284773316398"
     },
     "user_tz": -420
    },
    "id": "f1hzONV1Zi87",
    "outputId": "abc680f4-f4a3-4987-bbb1-8879d049ec9d"
   },
   "outputs": [
    {
     "data": {
      "text/html": [
       "<table class=\"simpletable\">\n",
       "<caption>OLS Regression Results</caption>\n",
       "<tr>\n",
       "  <th>Dep. Variable:</th>       <td>Losses_New</td>    <th>  R-squared:         </th> <td>   0.543</td> \n",
       "</tr>\n",
       "<tr>\n",
       "  <th>Model:</th>                   <td>OLS</td>       <th>  Adj. R-squared:    </th> <td>   0.543</td> \n",
       "</tr>\n",
       "<tr>\n",
       "  <th>Method:</th>             <td>Least Squares</td>  <th>  F-statistic:       </th> <td>   3627.</td> \n",
       "</tr>\n",
       "<tr>\n",
       "  <th>Date:</th>             <td>Wed, 30 May 2018</td> <th>  Prob (F-statistic):</th>  <td>  0.00</td>  \n",
       "</tr>\n",
       "<tr>\n",
       "  <th>Time:</th>                 <td>14:09:06</td>     <th>  Log-Likelihood:    </th> <td> -10985.</td> \n",
       "</tr>\n",
       "<tr>\n",
       "  <th>No. Observations:</th>      <td> 15290</td>      <th>  AIC:               </th> <td>2.198e+04</td>\n",
       "</tr>\n",
       "<tr>\n",
       "  <th>Df Residuals:</th>          <td> 15284</td>      <th>  BIC:               </th> <td>2.203e+04</td>\n",
       "</tr>\n",
       "<tr>\n",
       "  <th>Df Model:</th>              <td>     5</td>      <th>                     </th>     <td> </td>    \n",
       "</tr>\n",
       "<tr>\n",
       "  <th>Covariance Type:</th>      <td>nonrobust</td>    <th>                     </th>     <td> </td>    \n",
       "</tr>\n",
       "</table>\n",
       "<table class=\"simpletable\">\n",
       "<tr>\n",
       "       <td></td>         <th>coef</th>     <th>std err</th>      <th>t</th>      <th>P>|t|</th>  <th>[0.025</th>    <th>0.975]</th>  \n",
       "</tr>\n",
       "<tr>\n",
       "  <th>Intercept</th>  <td>    6.6253</td> <td>    0.017</td> <td>  385.394</td> <td> 0.000</td> <td>    6.592</td> <td>    6.659</td>\n",
       "</tr>\n",
       "<tr>\n",
       "  <th>YearsDE</th>    <td>   -0.0193</td> <td>    0.000</td> <td>  -74.489</td> <td> 0.000</td> <td>   -0.020</td> <td>   -0.019</td>\n",
       "</tr>\n",
       "<tr>\n",
       "  <th>VehicleAge</th> <td>   -0.0442</td> <td>    0.001</td> <td>  -42.153</td> <td> 0.000</td> <td>   -0.046</td> <td>   -0.042</td>\n",
       "</tr>\n",
       "<tr>\n",
       "  <th>IsGender</th>   <td>   -0.1289</td> <td>    0.008</td> <td>  -15.735</td> <td> 0.000</td> <td>   -0.145</td> <td>   -0.113</td>\n",
       "</tr>\n",
       "<tr>\n",
       "  <th>IsMarried</th>  <td>   -0.2107</td> <td>    0.008</td> <td>  -25.320</td> <td> 0.000</td> <td>   -0.227</td> <td>   -0.194</td>\n",
       "</tr>\n",
       "<tr>\n",
       "  <th>IsDiesel</th>   <td>    0.5642</td> <td>    0.012</td> <td>   49.022</td> <td> 0.000</td> <td>    0.542</td> <td>    0.587</td>\n",
       "</tr>\n",
       "</table>\n",
       "<table class=\"simpletable\">\n",
       "<tr>\n",
       "  <th>Omnibus:</th>       <td>3522.460</td> <th>  Durbin-Watson:     </th> <td>   1.980</td>\n",
       "</tr>\n",
       "<tr>\n",
       "  <th>Prob(Omnibus):</th>  <td> 0.000</td>  <th>  Jarque-Bera (JB):  </th> <td>9245.929</td>\n",
       "</tr>\n",
       "<tr>\n",
       "  <th>Skew:</th>           <td>-1.244</td>  <th>  Prob(JB):          </th> <td>    0.00</td>\n",
       "</tr>\n",
       "<tr>\n",
       "  <th>Kurtosis:</th>       <td> 5.885</td>  <th>  Cond. No.          </th> <td>    149.</td>\n",
       "</tr>\n",
       "</table>"
      ],
      "text/plain": [
       "<class 'statsmodels.iolib.summary.Summary'>\n",
       "\"\"\"\n",
       "                            OLS Regression Results                            \n",
       "==============================================================================\n",
       "Dep. Variable:             Losses_New   R-squared:                       0.543\n",
       "Model:                            OLS   Adj. R-squared:                  0.543\n",
       "Method:                 Least Squares   F-statistic:                     3627.\n",
       "Date:                Wed, 30 May 2018   Prob (F-statistic):               0.00\n",
       "Time:                        14:09:06   Log-Likelihood:                -10985.\n",
       "No. Observations:               15290   AIC:                         2.198e+04\n",
       "Df Residuals:                   15284   BIC:                         2.203e+04\n",
       "Df Model:                           5                                         \n",
       "Covariance Type:            nonrobust                                         \n",
       "==============================================================================\n",
       "                 coef    std err          t      P>|t|      [0.025      0.975]\n",
       "------------------------------------------------------------------------------\n",
       "Intercept      6.6253      0.017    385.394      0.000       6.592       6.659\n",
       "YearsDE       -0.0193      0.000    -74.489      0.000      -0.020      -0.019\n",
       "VehicleAge    -0.0442      0.001    -42.153      0.000      -0.046      -0.042\n",
       "IsGender      -0.1289      0.008    -15.735      0.000      -0.145      -0.113\n",
       "IsMarried     -0.2107      0.008    -25.320      0.000      -0.227      -0.194\n",
       "IsDiesel       0.5642      0.012     49.022      0.000       0.542       0.587\n",
       "==============================================================================\n",
       "Omnibus:                     3522.460   Durbin-Watson:                   1.980\n",
       "Prob(Omnibus):                  0.000   Jarque-Bera (JB):             9245.929\n",
       "Skew:                          -1.244   Prob(JB):                         0.00\n",
       "Kurtosis:                       5.885   Cond. No.                         149.\n",
       "==============================================================================\n",
       "\n",
       "Warnings:\n",
       "[1] Standard Errors assume that the covariance matrix of the errors is correctly specified.\n",
       "\"\"\""
      ]
     },
     "execution_count": 57,
     "metadata": {},
     "output_type": "execute_result"
    }
   ],
   "source": [
    "lm=smf.ols(formula='Losses_New~YearsDE+VehicleAge+IsGender+IsMarried+IsDiesel', data=data1).fit()\n",
    "lm.summary()"
   ]
  },
  {
   "cell_type": "code",
   "execution_count": null,
   "metadata": {
    "colab": {
     "autoexec": {
      "startup": false,
      "wait_interval": 0
     }
    },
    "colab_type": "code",
    "id": "pCo5QrT_b3pz"
   },
   "outputs": [],
   "source": []
  },
  {
   "cell_type": "markdown",
   "metadata": {
    "colab_type": "text",
    "id": "-4snRUIzb8zb"
   },
   "source": [
    "## Inverse(y)"
   ]
  },
  {
   "cell_type": "code",
   "execution_count": 58,
   "metadata": {
    "colab": {
     "autoexec": {
      "startup": false,
      "wait_interval": 0
     },
     "base_uri": "https://localhost:8080/",
     "height": 502
    },
    "colab_type": "code",
    "executionInfo": {
     "elapsed": 955,
     "status": "ok",
     "timestamp": 1527641209947,
     "user": {
      "displayName": "Nur Chamid",
      "photoUrl": "//lh5.googleusercontent.com/-TsgwUJzaJJg/AAAAAAAAAAI/AAAAAAAAARQ/Ngn5q-ighvg/s50-c-k-no/photo.jpg",
      "userId": "109513328284773316398"
     },
     "user_tz": -420
    },
    "id": "SgcknpgOcADX",
    "outputId": "9a08aa2f-0f28-4f46-a8cf-9c6855d091ea"
   },
   "outputs": [
    {
     "data": {
      "text/html": [
       "<table class=\"simpletable\">\n",
       "<caption>OLS Regression Results</caption>\n",
       "<tr>\n",
       "  <th>Dep. Variable:</th>       <td>Losses_perx</td>   <th>  R-squared:         </th>  <td>   0.227</td> \n",
       "</tr>\n",
       "<tr>\n",
       "  <th>Model:</th>                   <td>OLS</td>       <th>  Adj. R-squared:    </th>  <td>   0.227</td> \n",
       "</tr>\n",
       "<tr>\n",
       "  <th>Method:</th>             <td>Least Squares</td>  <th>  F-statistic:       </th>  <td>   641.8</td> \n",
       "</tr>\n",
       "<tr>\n",
       "  <th>Date:</th>             <td>Wed, 30 May 2018</td> <th>  Prob (F-statistic):</th>   <td>  0.00</td>  \n",
       "</tr>\n",
       "<tr>\n",
       "  <th>Time:</th>                 <td>14:09:06</td>     <th>  Log-Likelihood:    </th>  <td>  58556.</td> \n",
       "</tr>\n",
       "<tr>\n",
       "  <th>No. Observations:</th>      <td> 15290</td>      <th>  AIC:               </th> <td>-1.171e+05</td>\n",
       "</tr>\n",
       "<tr>\n",
       "  <th>Df Residuals:</th>          <td> 15282</td>      <th>  BIC:               </th> <td>-1.170e+05</td>\n",
       "</tr>\n",
       "<tr>\n",
       "  <th>Df Model:</th>              <td>     7</td>      <th>                     </th>      <td> </td>    \n",
       "</tr>\n",
       "<tr>\n",
       "  <th>Covariance Type:</th>      <td>nonrobust</td>    <th>                     </th>      <td> </td>    \n",
       "</tr>\n",
       "</table>\n",
       "<table class=\"simpletable\">\n",
       "<tr>\n",
       "       <td></td>         <th>coef</th>     <th>std err</th>      <th>t</th>      <th>P>|t|</th>  <th>[0.025</th>    <th>0.975]</th>  \n",
       "</tr>\n",
       "<tr>\n",
       "  <th>Intercept</th>  <td>   -0.0019</td> <td>    0.001</td> <td>   -3.013</td> <td> 0.003</td> <td>   -0.003</td> <td>   -0.001</td>\n",
       "</tr>\n",
       "<tr>\n",
       "  <th>Age</th>        <td>-2.207e-05</td> <td> 3.11e-05</td> <td>   -0.710</td> <td> 0.478</td> <td> -8.3e-05</td> <td> 3.89e-05</td>\n",
       "</tr>\n",
       "<tr>\n",
       "  <th>YearsDE</th>    <td>    0.0002</td> <td> 3.17e-05</td> <td>    5.258</td> <td> 0.000</td> <td>    0.000</td> <td>    0.000</td>\n",
       "</tr>\n",
       "<tr>\n",
       "  <th>VehicleNo</th>  <td>-4.603e-07</td> <td> 4.46e-05</td> <td>   -0.010</td> <td> 0.992</td> <td>-8.78e-05</td> <td> 8.69e-05</td>\n",
       "</tr>\n",
       "<tr>\n",
       "  <th>VehicleAge</th> <td>    0.0003</td> <td> 1.12e-05</td> <td>   27.718</td> <td> 0.000</td> <td>    0.000</td> <td>    0.000</td>\n",
       "</tr>\n",
       "<tr>\n",
       "  <th>IsGender</th>   <td>    0.0007</td> <td> 8.67e-05</td> <td>    8.107</td> <td> 0.000</td> <td>    0.001</td> <td>    0.001</td>\n",
       "</tr>\n",
       "<tr>\n",
       "  <th>IsMarried</th>  <td>    0.0010</td> <td> 8.81e-05</td> <td>   11.794</td> <td> 0.000</td> <td>    0.001</td> <td>    0.001</td>\n",
       "</tr>\n",
       "<tr>\n",
       "  <th>IsDiesel</th>   <td>   -0.0007</td> <td>    0.000</td> <td>   -5.943</td> <td> 0.000</td> <td>   -0.001</td> <td>   -0.000</td>\n",
       "</tr>\n",
       "</table>\n",
       "<table class=\"simpletable\">\n",
       "<tr>\n",
       "  <th>Omnibus:</th>       <td>14738.760</td> <th>  Durbin-Watson:     </th>  <td>   2.007</td> \n",
       "</tr>\n",
       "<tr>\n",
       "  <th>Prob(Omnibus):</th>  <td> 0.000</td>   <th>  Jarque-Bera (JB):  </th> <td>785344.826</td>\n",
       "</tr>\n",
       "<tr>\n",
       "  <th>Skew:</th>           <td> 4.699</td>   <th>  Prob(JB):          </th>  <td>    0.00</td> \n",
       "</tr>\n",
       "<tr>\n",
       "  <th>Kurtosis:</th>       <td>36.829</td>   <th>  Cond. No.          </th>  <td>    802.</td> \n",
       "</tr>\n",
       "</table>"
      ],
      "text/plain": [
       "<class 'statsmodels.iolib.summary.Summary'>\n",
       "\"\"\"\n",
       "                            OLS Regression Results                            \n",
       "==============================================================================\n",
       "Dep. Variable:            Losses_perx   R-squared:                       0.227\n",
       "Model:                            OLS   Adj. R-squared:                  0.227\n",
       "Method:                 Least Squares   F-statistic:                     641.8\n",
       "Date:                Wed, 30 May 2018   Prob (F-statistic):               0.00\n",
       "Time:                        14:09:06   Log-Likelihood:                 58556.\n",
       "No. Observations:               15290   AIC:                        -1.171e+05\n",
       "Df Residuals:                   15282   BIC:                        -1.170e+05\n",
       "Df Model:                           7                                         \n",
       "Covariance Type:            nonrobust                                         \n",
       "==============================================================================\n",
       "                 coef    std err          t      P>|t|      [0.025      0.975]\n",
       "------------------------------------------------------------------------------\n",
       "Intercept     -0.0019      0.001     -3.013      0.003      -0.003      -0.001\n",
       "Age        -2.207e-05   3.11e-05     -0.710      0.478    -8.3e-05    3.89e-05\n",
       "YearsDE        0.0002   3.17e-05      5.258      0.000       0.000       0.000\n",
       "VehicleNo  -4.603e-07   4.46e-05     -0.010      0.992   -8.78e-05    8.69e-05\n",
       "VehicleAge     0.0003   1.12e-05     27.718      0.000       0.000       0.000\n",
       "IsGender       0.0007   8.67e-05      8.107      0.000       0.001       0.001\n",
       "IsMarried      0.0010   8.81e-05     11.794      0.000       0.001       0.001\n",
       "IsDiesel      -0.0007      0.000     -5.943      0.000      -0.001      -0.000\n",
       "==============================================================================\n",
       "Omnibus:                    14738.760   Durbin-Watson:                   2.007\n",
       "Prob(Omnibus):                  0.000   Jarque-Bera (JB):           785344.826\n",
       "Skew:                           4.699   Prob(JB):                         0.00\n",
       "Kurtosis:                      36.829   Cond. No.                         802.\n",
       "==============================================================================\n",
       "\n",
       "Warnings:\n",
       "[1] Standard Errors assume that the covariance matrix of the errors is correctly specified.\n",
       "\"\"\""
      ]
     },
     "execution_count": 58,
     "metadata": {},
     "output_type": "execute_result"
    }
   ],
   "source": [
    "df['Losses_perx']=1/df.Losses\n",
    "data2 = df[['Age','YearsDE','VehicleNo', 'VehicleAge', 'IsGender', 'IsMarried', 'IsDiesel','Losses_perx']]\n",
    "data2.head()\n",
    "lm=smf.ols(formula='Losses_perx~Age+YearsDE+VehicleNo+VehicleAge+IsGender+IsMarried+IsDiesel', data=data2).fit()\n",
    "lm.summary()"
   ]
  },
  {
   "cell_type": "code",
   "execution_count": 59,
   "metadata": {
    "colab": {
     "autoexec": {
      "startup": false,
      "wait_interval": 0
     },
     "base_uri": "https://localhost:8080/",
     "height": 460
    },
    "colab_type": "code",
    "executionInfo": {
     "elapsed": 927,
     "status": "ok",
     "timestamp": 1527641210970,
     "user": {
      "displayName": "Nur Chamid",
      "photoUrl": "//lh5.googleusercontent.com/-TsgwUJzaJJg/AAAAAAAAAAI/AAAAAAAAARQ/Ngn5q-ighvg/s50-c-k-no/photo.jpg",
      "userId": "109513328284773316398"
     },
     "user_tz": -420
    },
    "id": "oDI1ah97cHR7",
    "outputId": "269897f2-6696-434f-f789-fe604ef48adc"
   },
   "outputs": [
    {
     "data": {
      "text/html": [
       "<table class=\"simpletable\">\n",
       "<caption>OLS Regression Results</caption>\n",
       "<tr>\n",
       "  <th>Dep. Variable:</th>       <td>Losses_perx</td>   <th>  R-squared:         </th>  <td>   0.227</td> \n",
       "</tr>\n",
       "<tr>\n",
       "  <th>Model:</th>                   <td>OLS</td>       <th>  Adj. R-squared:    </th>  <td>   0.227</td> \n",
       "</tr>\n",
       "<tr>\n",
       "  <th>Method:</th>             <td>Least Squares</td>  <th>  F-statistic:       </th>  <td>   898.5</td> \n",
       "</tr>\n",
       "<tr>\n",
       "  <th>Date:</th>             <td>Wed, 30 May 2018</td> <th>  Prob (F-statistic):</th>   <td>  0.00</td>  \n",
       "</tr>\n",
       "<tr>\n",
       "  <th>Time:</th>                 <td>14:09:06</td>     <th>  Log-Likelihood:    </th>  <td>  58556.</td> \n",
       "</tr>\n",
       "<tr>\n",
       "  <th>No. Observations:</th>      <td> 15290</td>      <th>  AIC:               </th> <td>-1.171e+05</td>\n",
       "</tr>\n",
       "<tr>\n",
       "  <th>Df Residuals:</th>          <td> 15284</td>      <th>  BIC:               </th> <td>-1.171e+05</td>\n",
       "</tr>\n",
       "<tr>\n",
       "  <th>Df Model:</th>              <td>     5</td>      <th>                     </th>      <td> </td>    \n",
       "</tr>\n",
       "<tr>\n",
       "  <th>Covariance Type:</th>      <td>nonrobust</td>    <th>                     </th>      <td> </td>    \n",
       "</tr>\n",
       "</table>\n",
       "<table class=\"simpletable\">\n",
       "<tr>\n",
       "       <td></td>         <th>coef</th>     <th>std err</th>      <th>t</th>      <th>P>|t|</th>  <th>[0.025</th>    <th>0.975]</th>  \n",
       "</tr>\n",
       "<tr>\n",
       "  <th>Intercept</th>  <td>   -0.0023</td> <td>    0.000</td> <td>  -12.468</td> <td> 0.000</td> <td>   -0.003</td> <td>   -0.002</td>\n",
       "</tr>\n",
       "<tr>\n",
       "  <th>YearsDE</th>    <td>    0.0001</td> <td> 2.74e-06</td> <td>   52.696</td> <td> 0.000</td> <td>    0.000</td> <td>    0.000</td>\n",
       "</tr>\n",
       "<tr>\n",
       "  <th>VehicleAge</th> <td>    0.0003</td> <td> 1.11e-05</td> <td>   27.956</td> <td> 0.000</td> <td>    0.000</td> <td>    0.000</td>\n",
       "</tr>\n",
       "<tr>\n",
       "  <th>IsGender</th>   <td>    0.0007</td> <td> 8.67e-05</td> <td>    8.100</td> <td> 0.000</td> <td>    0.001</td> <td>    0.001</td>\n",
       "</tr>\n",
       "<tr>\n",
       "  <th>IsMarried</th>  <td>    0.0010</td> <td> 8.81e-05</td> <td>   11.805</td> <td> 0.000</td> <td>    0.001</td> <td>    0.001</td>\n",
       "</tr>\n",
       "<tr>\n",
       "  <th>IsDiesel</th>   <td>   -0.0007</td> <td>    0.000</td> <td>   -5.907</td> <td> 0.000</td> <td>   -0.001</td> <td>   -0.000</td>\n",
       "</tr>\n",
       "</table>\n",
       "<table class=\"simpletable\">\n",
       "<tr>\n",
       "  <th>Omnibus:</th>       <td>14738.809</td> <th>  Durbin-Watson:     </th>  <td>   2.007</td> \n",
       "</tr>\n",
       "<tr>\n",
       "  <th>Prob(Omnibus):</th>  <td> 0.000</td>   <th>  Jarque-Bera (JB):  </th> <td>785254.680</td>\n",
       "</tr>\n",
       "<tr>\n",
       "  <th>Skew:</th>           <td> 4.699</td>   <th>  Prob(JB):          </th>  <td>    0.00</td> \n",
       "</tr>\n",
       "<tr>\n",
       "  <th>Kurtosis:</th>       <td>36.827</td>   <th>  Cond. No.          </th>  <td>    149.</td> \n",
       "</tr>\n",
       "</table>"
      ],
      "text/plain": [
       "<class 'statsmodels.iolib.summary.Summary'>\n",
       "\"\"\"\n",
       "                            OLS Regression Results                            \n",
       "==============================================================================\n",
       "Dep. Variable:            Losses_perx   R-squared:                       0.227\n",
       "Model:                            OLS   Adj. R-squared:                  0.227\n",
       "Method:                 Least Squares   F-statistic:                     898.5\n",
       "Date:                Wed, 30 May 2018   Prob (F-statistic):               0.00\n",
       "Time:                        14:09:06   Log-Likelihood:                 58556.\n",
       "No. Observations:               15290   AIC:                        -1.171e+05\n",
       "Df Residuals:                   15284   BIC:                        -1.171e+05\n",
       "Df Model:                           5                                         \n",
       "Covariance Type:            nonrobust                                         \n",
       "==============================================================================\n",
       "                 coef    std err          t      P>|t|      [0.025      0.975]\n",
       "------------------------------------------------------------------------------\n",
       "Intercept     -0.0023      0.000    -12.468      0.000      -0.003      -0.002\n",
       "YearsDE        0.0001   2.74e-06     52.696      0.000       0.000       0.000\n",
       "VehicleAge     0.0003   1.11e-05     27.956      0.000       0.000       0.000\n",
       "IsGender       0.0007   8.67e-05      8.100      0.000       0.001       0.001\n",
       "IsMarried      0.0010   8.81e-05     11.805      0.000       0.001       0.001\n",
       "IsDiesel      -0.0007      0.000     -5.907      0.000      -0.001      -0.000\n",
       "==============================================================================\n",
       "Omnibus:                    14738.809   Durbin-Watson:                   2.007\n",
       "Prob(Omnibus):                  0.000   Jarque-Bera (JB):           785254.680\n",
       "Skew:                           4.699   Prob(JB):                         0.00\n",
       "Kurtosis:                      36.827   Cond. No.                         149.\n",
       "==============================================================================\n",
       "\n",
       "Warnings:\n",
       "[1] Standard Errors assume that the covariance matrix of the errors is correctly specified.\n",
       "\"\"\""
      ]
     },
     "execution_count": 59,
     "metadata": {},
     "output_type": "execute_result"
    }
   ],
   "source": [
    "lm=smf.ols(formula='Losses_perx~YearsDE+VehicleAge+IsGender+IsMarried+IsDiesel', data=data2).fit()\n",
    "lm.summary()"
   ]
  },
  {
   "cell_type": "markdown",
   "metadata": {
    "colab_type": "text",
    "id": "Cacyi3ZvxJgD"
   },
   "source": [
    "## Akar(y)"
   ]
  },
  {
   "cell_type": "code",
   "execution_count": 60,
   "metadata": {
    "colab": {
     "autoexec": {
      "startup": false,
      "wait_interval": 0
     },
     "base_uri": "https://localhost:8080/",
     "height": 235
    },
    "colab_type": "code",
    "executionInfo": {
     "elapsed": 1123,
     "status": "ok",
     "timestamp": 1527641575429,
     "user": {
      "displayName": "Stezar Priansya",
      "photoUrl": "//lh4.googleusercontent.com/-5F9wDGiejVI/AAAAAAAAAAI/AAAAAAAAAyY/kXeh_Dvq2LM/s50-c-k-no/photo.jpg",
      "userId": "109032126975801689044"
     },
     "user_tz": -420
    },
    "id": "INdcqlrbxJgH",
    "outputId": "21f2b689-7c12-4f9e-9466-8c564cd900df"
   },
   "outputs": [
    {
     "name": "stdout",
     "output_type": "stream",
     "text": [
      "                            OLS Regression Results                            \n",
      "==============================================================================\n",
      "Dep. Variable:            Losses_akar   R-squared:                       0.654\n",
      "Model:                            OLS   Adj. R-squared:                  0.653\n",
      "Method:                 Least Squares   F-statistic:                     4118.\n",
      "Date:                Wed, 30 May 2018   Prob (F-statistic):               0.00\n",
      "Time:                        14:09:07   Log-Likelihood:                -41186.\n",
      "No. Observations:               15290   AIC:                         8.239e+04\n",
      "Df Residuals:                   15282   BIC:                         8.245e+04\n",
      "Df Model:                           7                                         \n",
      "Covariance Type:            nonrobust                                         \n",
      "==============================================================================\n",
      "                 coef    std err          t      P>|t|      [0.025      0.975]\n",
      "------------------------------------------------------------------------------\n",
      "Intercept     26.1531      0.420     62.320      0.000      25.331      26.976\n",
      "Age           -0.0544      0.021     -2.572      0.010      -0.096      -0.013\n",
      "YearsDE       -0.0843      0.022     -3.904      0.000      -0.127      -0.042\n",
      "VehicleNo     -0.0129      0.030     -0.426      0.670      -0.072       0.047\n",
      "VehicleAge    -0.3441      0.008    -45.254      0.000      -0.359      -0.329\n",
      "IsGender      -1.1944      0.059    -20.225      0.000      -1.310      -1.079\n",
      "IsMarried     -1.9303      0.060    -32.172      0.000      -2.048      -1.813\n",
      "IsDiesel       6.4925      0.083     78.035      0.000       6.329       6.656\n",
      "==============================================================================\n",
      "Omnibus:                     3247.426   Durbin-Watson:                   1.881\n",
      "Prob(Omnibus):                  0.000   Jarque-Bera (JB):            50902.278\n",
      "Skew:                           0.589   Prob(JB):                         0.00\n",
      "Kurtosis:                      11.861   Cond. No.                         802.\n",
      "==============================================================================\n",
      "\n",
      "Warnings:\n",
      "[1] Standard Errors assume that the covariance matrix of the errors is correctly specified.\n"
     ]
    }
   ],
   "source": [
    "df['Losses_akar']=np.sqrt(df.Losses)\n",
    "data3 = df[['Age','YearsDE','VehicleNo', 'VehicleAge', 'IsGender', 'IsMarried', 'IsDiesel','Losses_akar']]\n",
    "data3.head()\n",
    "lm=smf.ols(formula='Losses_akar~Age+YearsDE+VehicleNo+VehicleAge+IsGender+IsMarried+IsDiesel', data=data3).fit()\n",
    "print(lm.summary())"
   ]
  },
  {
   "cell_type": "code",
   "execution_count": 61,
   "metadata": {
    "colab": {
     "autoexec": {
      "startup": false,
      "wait_interval": 0
     },
     "base_uri": "https://localhost:8080/",
     "height": 527
    },
    "colab_type": "code",
    "executionInfo": {
     "elapsed": 775,
     "status": "ok",
     "timestamp": 1527641212806,
     "user": {
      "displayName": "Nur Chamid",
      "photoUrl": "//lh5.googleusercontent.com/-TsgwUJzaJJg/AAAAAAAAAAI/AAAAAAAAARQ/Ngn5q-ighvg/s50-c-k-no/photo.jpg",
      "userId": "109513328284773316398"
     },
     "user_tz": -420
    },
    "id": "wlq3XwaVxJgR",
    "outputId": "918e288c-535a-43e8-c35b-14ea5e389bcb"
   },
   "outputs": [
    {
     "name": "stdout",
     "output_type": "stream",
     "text": [
      "                            OLS Regression Results                            \n",
      "==============================================================================\n",
      "Dep. Variable:            Losses_akar   R-squared:                       0.654\n",
      "Model:                            OLS   Adj. R-squared:                  0.653\n",
      "Method:                 Least Squares   F-statistic:                     4804.\n",
      "Date:                Wed, 30 May 2018   Prob (F-statistic):               0.00\n",
      "Time:                        14:09:07   Log-Likelihood:                -41186.\n",
      "No. Observations:               15290   AIC:                         8.239e+04\n",
      "Df Residuals:                   15283   BIC:                         8.244e+04\n",
      "Df Model:                           6                                         \n",
      "Covariance Type:            nonrobust                                         \n",
      "==============================================================================\n",
      "                 coef    std err          t      P>|t|      [0.025      0.975]\n",
      "------------------------------------------------------------------------------\n",
      "Intercept     26.1209      0.413     63.279      0.000      25.312      26.930\n",
      "Age           -0.0544      0.021     -2.572      0.010      -0.096      -0.013\n",
      "YearsDE       -0.0843      0.022     -3.905      0.000      -0.127      -0.042\n",
      "VehicleAge    -0.3441      0.008    -45.260      0.000      -0.359      -0.329\n",
      "IsGender      -1.1945      0.059    -20.226      0.000      -1.310      -1.079\n",
      "IsMarried     -1.9301      0.060    -32.171      0.000      -2.048      -1.812\n",
      "IsDiesel       6.4925      0.083     78.037      0.000       6.329       6.656\n",
      "==============================================================================\n",
      "Omnibus:                     3252.811   Durbin-Watson:                   1.881\n",
      "Prob(Omnibus):                  0.000   Jarque-Bera (JB):            51086.765\n",
      "Skew:                           0.590   Prob(JB):                         0.00\n",
      "Kurtosis:                      11.877   Cond. No.                         788.\n",
      "==============================================================================\n",
      "\n",
      "Warnings:\n",
      "[1] Standard Errors assume that the covariance matrix of the errors is correctly specified.\n"
     ]
    }
   ],
   "source": [
    "lm=smf.ols(formula='Losses_akar~Age+YearsDE+VehicleAge+IsGender+IsMarried+IsDiesel', data=data3).fit()\n",
    "print(lm.summary())"
   ]
  },
  {
   "cell_type": "code",
   "execution_count": 62,
   "metadata": {
    "colab": {
     "autoexec": {
      "startup": false,
      "wait_interval": 0
     },
     "base_uri": "https://localhost:8080/",
     "height": 510
    },
    "colab_type": "code",
    "executionInfo": {
     "elapsed": 983,
     "status": "ok",
     "timestamp": 1527641582732,
     "user": {
      "displayName": "Stezar Priansya",
      "photoUrl": "//lh4.googleusercontent.com/-5F9wDGiejVI/AAAAAAAAAAI/AAAAAAAAAyY/kXeh_Dvq2LM/s50-c-k-no/photo.jpg",
      "userId": "109032126975801689044"
     },
     "user_tz": -420
    },
    "id": "ERzzbqUExJgb",
    "outputId": "0a73aedd-b4b1-49ed-a35a-27705706c4c1"
   },
   "outputs": [
    {
     "name": "stdout",
     "output_type": "stream",
     "text": [
      "                            OLS Regression Results                            \n",
      "==============================================================================\n",
      "Dep. Variable:            Losses_akar   R-squared:                       0.653\n",
      "Model:                            OLS   Adj. R-squared:                  0.653\n",
      "Method:                 Least Squares   F-statistic:                     5761.\n",
      "Date:                Wed, 30 May 2018   Prob (F-statistic):               0.00\n",
      "Time:                        14:09:07   Log-Likelihood:                -41189.\n",
      "No. Observations:               15290   AIC:                         8.239e+04\n",
      "Df Residuals:                   15284   BIC:                         8.244e+04\n",
      "Df Model:                           5                                         \n",
      "Covariance Type:            nonrobust                                         \n",
      "==============================================================================\n",
      "                 coef    std err          t      P>|t|      [0.025      0.975]\n",
      "------------------------------------------------------------------------------\n",
      "Intercept     25.1083      0.124    202.579      0.000      24.865      25.351\n",
      "YearsDE       -0.1397      0.002    -74.872      0.000      -0.143      -0.136\n",
      "VehicleAge    -0.3420      0.008    -45.236      0.000      -0.357      -0.327\n",
      "IsGender      -1.1961      0.059    -20.252      0.000      -1.312      -1.080\n",
      "IsMarried     -1.9282      0.060    -32.137      0.000      -2.046      -1.811\n",
      "IsDiesel       6.5085      0.083     78.436      0.000       6.346       6.671\n",
      "==============================================================================\n",
      "Omnibus:                     3265.510   Durbin-Watson:                   1.881\n",
      "Prob(Omnibus):                  0.000   Jarque-Bera (JB):            51256.951\n",
      "Skew:                           0.595   Prob(JB):                         0.00\n",
      "Kurtosis:                      11.890   Cond. No.                         149.\n",
      "==============================================================================\n",
      "\n",
      "Warnings:\n",
      "[1] Standard Errors assume that the covariance matrix of the errors is correctly specified.\n"
     ]
    }
   ],
   "source": [
    "lm=smf.ols(formula='Losses_akar~YearsDE+VehicleAge+IsGender+IsMarried+IsDiesel', data=data3).fit()\n",
    "print(lm.summary())"
   ]
  },
  {
   "cell_type": "code",
   "execution_count": 63,
   "metadata": {
    "colab": {
     "autoexec": {
      "startup": false,
      "wait_interval": 0
     },
     "base_uri": "https://localhost:8080/",
     "height": 510
    },
    "colab_type": "code",
    "executionInfo": {
     "elapsed": 1089,
     "status": "ok",
     "timestamp": 1527642137479,
     "user": {
      "displayName": "Nur Chamid",
      "photoUrl": "//lh5.googleusercontent.com/-TsgwUJzaJJg/AAAAAAAAAAI/AAAAAAAAARQ/Ngn5q-ighvg/s50-c-k-no/photo.jpg",
      "userId": "109513328284773316398"
     },
     "user_tz": -420
    },
    "id": "vv4gob-ekMlu",
    "outputId": "4f910073-695d-491a-ac18-91c0f34e7ba2"
   },
   "outputs": [
    {
     "name": "stdout",
     "output_type": "stream",
     "text": [
      "                            OLS Regression Results                            \n",
      "==============================================================================\n",
      "Dep. Variable:            Losses_akar   R-squared:                       0.654\n",
      "Model:                            OLS   Adj. R-squared:                  0.653\n",
      "Method:                 Least Squares   F-statistic:                     4804.\n",
      "Date:                Wed, 30 May 2018   Prob (F-statistic):               0.00\n",
      "Time:                        14:09:07   Log-Likelihood:                -41186.\n",
      "No. Observations:               15290   AIC:                         8.239e+04\n",
      "Df Residuals:                   15283   BIC:                         8.244e+04\n",
      "Df Model:                           6                                         \n",
      "Covariance Type:            nonrobust                                         \n",
      "==============================================================================\n",
      "                 coef    std err          t      P>|t|      [0.025      0.975]\n",
      "------------------------------------------------------------------------------\n",
      "Intercept     26.1209      0.413     63.279      0.000      25.312      26.930\n",
      "Age           -0.0544      0.021     -2.572      0.010      -0.096      -0.013\n",
      "YearsDE       -0.0843      0.022     -3.905      0.000      -0.127      -0.042\n",
      "VehicleAge    -0.3441      0.008    -45.260      0.000      -0.359      -0.329\n",
      "IsGender      -1.1945      0.059    -20.226      0.000      -1.310      -1.079\n",
      "IsMarried     -1.9301      0.060    -32.171      0.000      -2.048      -1.812\n",
      "IsDiesel       6.4925      0.083     78.037      0.000       6.329       6.656\n",
      "==============================================================================\n",
      "Omnibus:                     3252.811   Durbin-Watson:                   1.881\n",
      "Prob(Omnibus):                  0.000   Jarque-Bera (JB):            51086.765\n",
      "Skew:                           0.590   Prob(JB):                         0.00\n",
      "Kurtosis:                      11.877   Cond. No.                         788.\n",
      "==============================================================================\n",
      "\n",
      "Warnings:\n",
      "[1] Standard Errors assume that the covariance matrix of the errors is correctly specified.\n"
     ]
    }
   ],
   "source": [
    "lm=smf.ols(formula='Losses_akar~Age+YearsDE+VehicleAge+IsGender+IsMarried+IsDiesel', data=data3).fit()\n",
    "print(lm.summary())"
   ]
  },
  {
   "cell_type": "markdown",
   "metadata": {
    "colab_type": "text",
    "id": "0NbC5nSWjXUR"
   },
   "source": [
    "## Coba coba inverse"
   ]
  },
  {
   "cell_type": "code",
   "execution_count": 64,
   "metadata": {
    "colab": {
     "autoexec": {
      "startup": false,
      "wait_interval": 0
     },
     "base_uri": "https://localhost:8080/",
     "height": 2000
    },
    "colab_type": "code",
    "executionInfo": {
     "elapsed": 947,
     "status": "ok",
     "timestamp": 1527642253661,
     "user": {
      "displayName": "Stezar Priansya",
      "photoUrl": "//lh4.googleusercontent.com/-5F9wDGiejVI/AAAAAAAAAAI/AAAAAAAAAyY/kXeh_Dvq2LM/s50-c-k-no/photo.jpg",
      "userId": "109032126975801689044"
     },
     "user_tz": -420
    },
    "id": "Z7K0KkIEjbpa",
    "outputId": "472f0b75-8bad-4d8a-cc57-fbf07e902fb5"
   },
   "outputs": [
    {
     "name": "stderr",
     "output_type": "stream",
     "text": [
      "C:\\Users\\stezar059244\\AppData\\Local\\Continuum\\anaconda3\\lib\\site-packages\\pandas\\core\\indexing.py:537: SettingWithCopyWarning: \n",
      "A value is trying to be set on a copy of a slice from a DataFrame.\n",
      "Try using .loc[row_indexer,col_indexer] = value instead\n",
      "\n",
      "See the caveats in the documentation: http://pandas.pydata.org/pandas-docs/stable/indexing.html#indexing-view-versus-copy\n",
      "  self.obj[item] = s\n"
     ]
    },
    {
     "data": {
      "text/html": [
       "<div>\n",
       "<style scoped>\n",
       "    .dataframe tbody tr th:only-of-type {\n",
       "        vertical-align: middle;\n",
       "    }\n",
       "\n",
       "    .dataframe tbody tr th {\n",
       "        vertical-align: top;\n",
       "    }\n",
       "\n",
       "    .dataframe thead th {\n",
       "        text-align: right;\n",
       "    }\n",
       "</style>\n",
       "<table border=\"1\" class=\"dataframe\">\n",
       "  <thead>\n",
       "    <tr style=\"text-align: right;\">\n",
       "      <th></th>\n",
       "      <th>Age</th>\n",
       "      <th>YearsDE</th>\n",
       "      <th>VehicleNo</th>\n",
       "      <th>VehicleAge</th>\n",
       "      <th>IsGender</th>\n",
       "      <th>IsMarried</th>\n",
       "      <th>IsDiesel</th>\n",
       "      <th>Losses_akar</th>\n",
       "    </tr>\n",
       "    <tr>\n",
       "      <th>Policy Number</th>\n",
       "      <th></th>\n",
       "      <th></th>\n",
       "      <th></th>\n",
       "      <th></th>\n",
       "      <th></th>\n",
       "      <th></th>\n",
       "      <th></th>\n",
       "      <th></th>\n",
       "    </tr>\n",
       "  </thead>\n",
       "  <tbody>\n",
       "    <tr>\n",
       "      <th>150024</th>\n",
       "      <td>0.041667</td>\n",
       "      <td>0.200000</td>\n",
       "      <td>1</td>\n",
       "      <td>0.090909</td>\n",
       "      <td>0</td>\n",
       "      <td>1</td>\n",
       "      <td>0</td>\n",
       "      <td>0.070131</td>\n",
       "    </tr>\n",
       "    <tr>\n",
       "      <th>144880</th>\n",
       "      <td>0.032258</td>\n",
       "      <td>0.100000</td>\n",
       "      <td>1</td>\n",
       "      <td>0.166667</td>\n",
       "      <td>1</td>\n",
       "      <td>0</td>\n",
       "      <td>0</td>\n",
       "      <td>0.049863</td>\n",
       "    </tr>\n",
       "    <tr>\n",
       "      <th>133742</th>\n",
       "      <td>0.017857</td>\n",
       "      <td>0.027027</td>\n",
       "      <td>1</td>\n",
       "      <td>inf</td>\n",
       "      <td>0</td>\n",
       "      <td>1</td>\n",
       "      <td>1</td>\n",
       "      <td>0.042519</td>\n",
       "    </tr>\n",
       "    <tr>\n",
       "      <th>151282</th>\n",
       "      <td>0.019231</td>\n",
       "      <td>0.032258</td>\n",
       "      <td>1</td>\n",
       "      <td>0.066667</td>\n",
       "      <td>1</td>\n",
       "      <td>1</td>\n",
       "      <td>0</td>\n",
       "      <td>0.058477</td>\n",
       "    </tr>\n",
       "    <tr>\n",
       "      <th>174407</th>\n",
       "      <td>0.050000</td>\n",
       "      <td>0.333333</td>\n",
       "      <td>1</td>\n",
       "      <td>0.066667</td>\n",
       "      <td>0</td>\n",
       "      <td>0</td>\n",
       "      <td>0</td>\n",
       "      <td>0.063688</td>\n",
       "    </tr>\n",
       "    <tr>\n",
       "      <th>142548</th>\n",
       "      <td>0.034483</td>\n",
       "      <td>0.125000</td>\n",
       "      <td>1</td>\n",
       "      <td>0.111111</td>\n",
       "      <td>0</td>\n",
       "      <td>1</td>\n",
       "      <td>0</td>\n",
       "      <td>0.050986</td>\n",
       "    </tr>\n",
       "    <tr>\n",
       "      <th>183396</th>\n",
       "      <td>0.027778</td>\n",
       "      <td>0.052632</td>\n",
       "      <td>1</td>\n",
       "      <td>inf</td>\n",
       "      <td>1</td>\n",
       "      <td>0</td>\n",
       "      <td>0</td>\n",
       "      <td>0.046516</td>\n",
       "    </tr>\n",
       "    <tr>\n",
       "      <th>106838</th>\n",
       "      <td>0.014925</td>\n",
       "      <td>0.020408</td>\n",
       "      <td>1</td>\n",
       "      <td>0.066667</td>\n",
       "      <td>1</td>\n",
       "      <td>1</td>\n",
       "      <td>0</td>\n",
       "      <td>0.076938</td>\n",
       "    </tr>\n",
       "    <tr>\n",
       "      <th>137434</th>\n",
       "      <td>0.014493</td>\n",
       "      <td>0.020833</td>\n",
       "      <td>1</td>\n",
       "      <td>0.200000</td>\n",
       "      <td>0</td>\n",
       "      <td>0</td>\n",
       "      <td>0</td>\n",
       "      <td>0.119614</td>\n",
       "    </tr>\n",
       "    <tr>\n",
       "      <th>192628</th>\n",
       "      <td>0.062500</td>\n",
       "      <td>inf</td>\n",
       "      <td>1</td>\n",
       "      <td>0.071429</td>\n",
       "      <td>1</td>\n",
       "      <td>0</td>\n",
       "      <td>0</td>\n",
       "      <td>0.064180</td>\n",
       "    </tr>\n",
       "    <tr>\n",
       "      <th>154894</th>\n",
       "      <td>0.052632</td>\n",
       "      <td>1.000000</td>\n",
       "      <td>1</td>\n",
       "      <td>0.083333</td>\n",
       "      <td>0</td>\n",
       "      <td>0</td>\n",
       "      <td>1</td>\n",
       "      <td>0.036185</td>\n",
       "    </tr>\n",
       "    <tr>\n",
       "      <th>187293</th>\n",
       "      <td>0.034483</td>\n",
       "      <td>0.125000</td>\n",
       "      <td>1</td>\n",
       "      <td>0.071429</td>\n",
       "      <td>1</td>\n",
       "      <td>0</td>\n",
       "      <td>0</td>\n",
       "      <td>0.049544</td>\n",
       "    </tr>\n",
       "    <tr>\n",
       "      <th>173214</th>\n",
       "      <td>0.050000</td>\n",
       "      <td>1.000000</td>\n",
       "      <td>1</td>\n",
       "      <td>0.076923</td>\n",
       "      <td>1</td>\n",
       "      <td>1</td>\n",
       "      <td>0</td>\n",
       "      <td>0.078670</td>\n",
       "    </tr>\n",
       "    <tr>\n",
       "      <th>163905</th>\n",
       "      <td>0.014925</td>\n",
       "      <td>0.020408</td>\n",
       "      <td>1</td>\n",
       "      <td>0.142857</td>\n",
       "      <td>0</td>\n",
       "      <td>1</td>\n",
       "      <td>0</td>\n",
       "      <td>0.064165</td>\n",
       "    </tr>\n",
       "    <tr>\n",
       "      <th>157356</th>\n",
       "      <td>0.021739</td>\n",
       "      <td>0.037037</td>\n",
       "      <td>1</td>\n",
       "      <td>0.142857</td>\n",
       "      <td>0</td>\n",
       "      <td>1</td>\n",
       "      <td>0</td>\n",
       "      <td>0.052813</td>\n",
       "    </tr>\n",
       "    <tr>\n",
       "      <th>160387</th>\n",
       "      <td>0.017544</td>\n",
       "      <td>0.025000</td>\n",
       "      <td>1</td>\n",
       "      <td>0.066667</td>\n",
       "      <td>0</td>\n",
       "      <td>1</td>\n",
       "      <td>0</td>\n",
       "      <td>0.056374</td>\n",
       "    </tr>\n",
       "    <tr>\n",
       "      <th>127360</th>\n",
       "      <td>0.015385</td>\n",
       "      <td>0.020833</td>\n",
       "      <td>1</td>\n",
       "      <td>0.090909</td>\n",
       "      <td>0</td>\n",
       "      <td>0</td>\n",
       "      <td>0</td>\n",
       "      <td>0.057097</td>\n",
       "    </tr>\n",
       "    <tr>\n",
       "      <th>108345</th>\n",
       "      <td>0.050000</td>\n",
       "      <td>1.000000</td>\n",
       "      <td>1</td>\n",
       "      <td>0.066667</td>\n",
       "      <td>0</td>\n",
       "      <td>0</td>\n",
       "      <td>1</td>\n",
       "      <td>0.035976</td>\n",
       "    </tr>\n",
       "    <tr>\n",
       "      <th>122164</th>\n",
       "      <td>0.014925</td>\n",
       "      <td>0.020408</td>\n",
       "      <td>1</td>\n",
       "      <td>0.333333</td>\n",
       "      <td>0</td>\n",
       "      <td>0</td>\n",
       "      <td>1</td>\n",
       "      <td>0.041050</td>\n",
       "    </tr>\n",
       "    <tr>\n",
       "      <th>103555</th>\n",
       "      <td>0.016129</td>\n",
       "      <td>0.022222</td>\n",
       "      <td>1</td>\n",
       "      <td>inf</td>\n",
       "      <td>0</td>\n",
       "      <td>1</td>\n",
       "      <td>0</td>\n",
       "      <td>0.060279</td>\n",
       "    </tr>\n",
       "    <tr>\n",
       "      <th>165177</th>\n",
       "      <td>0.022727</td>\n",
       "      <td>0.037037</td>\n",
       "      <td>1</td>\n",
       "      <td>0.100000</td>\n",
       "      <td>1</td>\n",
       "      <td>0</td>\n",
       "      <td>0</td>\n",
       "      <td>0.046000</td>\n",
       "    </tr>\n",
       "    <tr>\n",
       "      <th>140896</th>\n",
       "      <td>0.058824</td>\n",
       "      <td>inf</td>\n",
       "      <td>1</td>\n",
       "      <td>0.066667</td>\n",
       "      <td>0</td>\n",
       "      <td>0</td>\n",
       "      <td>1</td>\n",
       "      <td>0.033766</td>\n",
       "    </tr>\n",
       "    <tr>\n",
       "      <th>197555</th>\n",
       "      <td>0.034483</td>\n",
       "      <td>0.100000</td>\n",
       "      <td>1</td>\n",
       "      <td>inf</td>\n",
       "      <td>1</td>\n",
       "      <td>0</td>\n",
       "      <td>1</td>\n",
       "      <td>0.034810</td>\n",
       "    </tr>\n",
       "    <tr>\n",
       "      <th>198709</th>\n",
       "      <td>0.015152</td>\n",
       "      <td>0.020408</td>\n",
       "      <td>1</td>\n",
       "      <td>0.166667</td>\n",
       "      <td>1</td>\n",
       "      <td>0</td>\n",
       "      <td>0</td>\n",
       "      <td>0.060505</td>\n",
       "    </tr>\n",
       "    <tr>\n",
       "      <th>155134</th>\n",
       "      <td>0.045455</td>\n",
       "      <td>0.333333</td>\n",
       "      <td>1</td>\n",
       "      <td>0.090909</td>\n",
       "      <td>1</td>\n",
       "      <td>0</td>\n",
       "      <td>0</td>\n",
       "      <td>0.067322</td>\n",
       "    </tr>\n",
       "    <tr>\n",
       "      <th>104183</th>\n",
       "      <td>0.030303</td>\n",
       "      <td>0.062500</td>\n",
       "      <td>1</td>\n",
       "      <td>0.076923</td>\n",
       "      <td>0</td>\n",
       "      <td>0</td>\n",
       "      <td>0</td>\n",
       "      <td>0.076838</td>\n",
       "    </tr>\n",
       "    <tr>\n",
       "      <th>131927</th>\n",
       "      <td>0.014493</td>\n",
       "      <td>0.020833</td>\n",
       "      <td>1</td>\n",
       "      <td>inf</td>\n",
       "      <td>1</td>\n",
       "      <td>1</td>\n",
       "      <td>0</td>\n",
       "      <td>0.100977</td>\n",
       "    </tr>\n",
       "    <tr>\n",
       "      <th>146242</th>\n",
       "      <td>0.025641</td>\n",
       "      <td>0.045455</td>\n",
       "      <td>1</td>\n",
       "      <td>0.333333</td>\n",
       "      <td>0</td>\n",
       "      <td>1</td>\n",
       "      <td>1</td>\n",
       "      <td>0.038344</td>\n",
       "    </tr>\n",
       "    <tr>\n",
       "      <th>138988</th>\n",
       "      <td>0.024390</td>\n",
       "      <td>0.045455</td>\n",
       "      <td>1</td>\n",
       "      <td>0.076923</td>\n",
       "      <td>1</td>\n",
       "      <td>1</td>\n",
       "      <td>0</td>\n",
       "      <td>0.068955</td>\n",
       "    </tr>\n",
       "    <tr>\n",
       "      <th>102189</th>\n",
       "      <td>0.050000</td>\n",
       "      <td>0.500000</td>\n",
       "      <td>1</td>\n",
       "      <td>0.125000</td>\n",
       "      <td>1</td>\n",
       "      <td>1</td>\n",
       "      <td>0</td>\n",
       "      <td>0.053141</td>\n",
       "    </tr>\n",
       "    <tr>\n",
       "      <th>...</th>\n",
       "      <td>...</td>\n",
       "      <td>...</td>\n",
       "      <td>...</td>\n",
       "      <td>...</td>\n",
       "      <td>...</td>\n",
       "      <td>...</td>\n",
       "      <td>...</td>\n",
       "      <td>...</td>\n",
       "    </tr>\n",
       "    <tr>\n",
       "      <th>141976</th>\n",
       "      <td>0.014925</td>\n",
       "      <td>0.020408</td>\n",
       "      <td>4</td>\n",
       "      <td>inf</td>\n",
       "      <td>0</td>\n",
       "      <td>0</td>\n",
       "      <td>0</td>\n",
       "      <td>0.110624</td>\n",
       "    </tr>\n",
       "    <tr>\n",
       "      <th>145106</th>\n",
       "      <td>0.033333</td>\n",
       "      <td>0.090909</td>\n",
       "      <td>4</td>\n",
       "      <td>0.090909</td>\n",
       "      <td>1</td>\n",
       "      <td>1</td>\n",
       "      <td>0</td>\n",
       "      <td>0.063427</td>\n",
       "    </tr>\n",
       "    <tr>\n",
       "      <th>105602</th>\n",
       "      <td>0.014286</td>\n",
       "      <td>0.020000</td>\n",
       "      <td>4</td>\n",
       "      <td>0.142857</td>\n",
       "      <td>1</td>\n",
       "      <td>1</td>\n",
       "      <td>0</td>\n",
       "      <td>0.090194</td>\n",
       "    </tr>\n",
       "    <tr>\n",
       "      <th>134400</th>\n",
       "      <td>0.015873</td>\n",
       "      <td>0.022727</td>\n",
       "      <td>4</td>\n",
       "      <td>0.142857</td>\n",
       "      <td>1</td>\n",
       "      <td>0</td>\n",
       "      <td>0</td>\n",
       "      <td>0.059458</td>\n",
       "    </tr>\n",
       "    <tr>\n",
       "      <th>114729</th>\n",
       "      <td>0.014493</td>\n",
       "      <td>0.020000</td>\n",
       "      <td>4</td>\n",
       "      <td>0.500000</td>\n",
       "      <td>0</td>\n",
       "      <td>1</td>\n",
       "      <td>0</td>\n",
       "      <td>0.046305</td>\n",
       "    </tr>\n",
       "    <tr>\n",
       "      <th>177767</th>\n",
       "      <td>0.018182</td>\n",
       "      <td>0.028571</td>\n",
       "      <td>4</td>\n",
       "      <td>0.142857</td>\n",
       "      <td>1</td>\n",
       "      <td>1</td>\n",
       "      <td>0</td>\n",
       "      <td>0.052477</td>\n",
       "    </tr>\n",
       "    <tr>\n",
       "      <th>173187</th>\n",
       "      <td>0.027027</td>\n",
       "      <td>0.058824</td>\n",
       "      <td>4</td>\n",
       "      <td>0.076923</td>\n",
       "      <td>0</td>\n",
       "      <td>1</td>\n",
       "      <td>0</td>\n",
       "      <td>0.065435</td>\n",
       "    </tr>\n",
       "    <tr>\n",
       "      <th>146726</th>\n",
       "      <td>0.022727</td>\n",
       "      <td>0.038462</td>\n",
       "      <td>4</td>\n",
       "      <td>0.100000</td>\n",
       "      <td>0</td>\n",
       "      <td>0</td>\n",
       "      <td>0</td>\n",
       "      <td>0.045136</td>\n",
       "    </tr>\n",
       "    <tr>\n",
       "      <th>116954</th>\n",
       "      <td>0.019231</td>\n",
       "      <td>0.031250</td>\n",
       "      <td>4</td>\n",
       "      <td>1.000000</td>\n",
       "      <td>1</td>\n",
       "      <td>0</td>\n",
       "      <td>1</td>\n",
       "      <td>0.037077</td>\n",
       "    </tr>\n",
       "    <tr>\n",
       "      <th>183153</th>\n",
       "      <td>0.016129</td>\n",
       "      <td>0.022727</td>\n",
       "      <td>4</td>\n",
       "      <td>0.500000</td>\n",
       "      <td>0</td>\n",
       "      <td>0</td>\n",
       "      <td>0</td>\n",
       "      <td>0.077803</td>\n",
       "    </tr>\n",
       "    <tr>\n",
       "      <th>198694</th>\n",
       "      <td>0.058824</td>\n",
       "      <td>inf</td>\n",
       "      <td>4</td>\n",
       "      <td>0.142857</td>\n",
       "      <td>0</td>\n",
       "      <td>0</td>\n",
       "      <td>1</td>\n",
       "      <td>0.042296</td>\n",
       "    </tr>\n",
       "    <tr>\n",
       "      <th>138860</th>\n",
       "      <td>0.045455</td>\n",
       "      <td>0.250000</td>\n",
       "      <td>4</td>\n",
       "      <td>0.076923</td>\n",
       "      <td>0</td>\n",
       "      <td>1</td>\n",
       "      <td>0</td>\n",
       "      <td>0.047469</td>\n",
       "    </tr>\n",
       "    <tr>\n",
       "      <th>122326</th>\n",
       "      <td>0.028571</td>\n",
       "      <td>0.062500</td>\n",
       "      <td>4</td>\n",
       "      <td>0.333333</td>\n",
       "      <td>1</td>\n",
       "      <td>0</td>\n",
       "      <td>1</td>\n",
       "      <td>0.035312</td>\n",
       "    </tr>\n",
       "    <tr>\n",
       "      <th>142360</th>\n",
       "      <td>0.014493</td>\n",
       "      <td>0.020000</td>\n",
       "      <td>4</td>\n",
       "      <td>inf</td>\n",
       "      <td>1</td>\n",
       "      <td>1</td>\n",
       "      <td>0</td>\n",
       "      <td>0.047093</td>\n",
       "    </tr>\n",
       "    <tr>\n",
       "      <th>104479</th>\n",
       "      <td>0.047619</td>\n",
       "      <td>0.500000</td>\n",
       "      <td>4</td>\n",
       "      <td>0.090909</td>\n",
       "      <td>0</td>\n",
       "      <td>0</td>\n",
       "      <td>1</td>\n",
       "      <td>0.029525</td>\n",
       "    </tr>\n",
       "    <tr>\n",
       "      <th>150034</th>\n",
       "      <td>0.045455</td>\n",
       "      <td>0.200000</td>\n",
       "      <td>4</td>\n",
       "      <td>0.076923</td>\n",
       "      <td>1</td>\n",
       "      <td>0</td>\n",
       "      <td>0</td>\n",
       "      <td>0.049104</td>\n",
       "    </tr>\n",
       "    <tr>\n",
       "      <th>124202</th>\n",
       "      <td>0.025641</td>\n",
       "      <td>0.055556</td>\n",
       "      <td>4</td>\n",
       "      <td>1.000000</td>\n",
       "      <td>0</td>\n",
       "      <td>0</td>\n",
       "      <td>1</td>\n",
       "      <td>0.036498</td>\n",
       "    </tr>\n",
       "    <tr>\n",
       "      <th>167680</th>\n",
       "      <td>0.031250</td>\n",
       "      <td>0.083333</td>\n",
       "      <td>4</td>\n",
       "      <td>0.333333</td>\n",
       "      <td>0</td>\n",
       "      <td>0</td>\n",
       "      <td>1</td>\n",
       "      <td>0.032054</td>\n",
       "    </tr>\n",
       "    <tr>\n",
       "      <th>190736</th>\n",
       "      <td>0.058824</td>\n",
       "      <td>inf</td>\n",
       "      <td>4</td>\n",
       "      <td>0.125000</td>\n",
       "      <td>0</td>\n",
       "      <td>1</td>\n",
       "      <td>0</td>\n",
       "      <td>0.045765</td>\n",
       "    </tr>\n",
       "    <tr>\n",
       "      <th>132298</th>\n",
       "      <td>0.016129</td>\n",
       "      <td>0.022222</td>\n",
       "      <td>4</td>\n",
       "      <td>0.142857</td>\n",
       "      <td>0</td>\n",
       "      <td>1</td>\n",
       "      <td>0</td>\n",
       "      <td>0.066804</td>\n",
       "    </tr>\n",
       "    <tr>\n",
       "      <th>169309</th>\n",
       "      <td>0.021277</td>\n",
       "      <td>0.038462</td>\n",
       "      <td>4</td>\n",
       "      <td>0.100000</td>\n",
       "      <td>0</td>\n",
       "      <td>1</td>\n",
       "      <td>0</td>\n",
       "      <td>0.055300</td>\n",
       "    </tr>\n",
       "    <tr>\n",
       "      <th>102285</th>\n",
       "      <td>0.058824</td>\n",
       "      <td>inf</td>\n",
       "      <td>4</td>\n",
       "      <td>0.111111</td>\n",
       "      <td>1</td>\n",
       "      <td>0</td>\n",
       "      <td>0</td>\n",
       "      <td>0.051560</td>\n",
       "    </tr>\n",
       "    <tr>\n",
       "      <th>175296</th>\n",
       "      <td>0.033333</td>\n",
       "      <td>0.090909</td>\n",
       "      <td>4</td>\n",
       "      <td>0.142857</td>\n",
       "      <td>0</td>\n",
       "      <td>0</td>\n",
       "      <td>0</td>\n",
       "      <td>0.046016</td>\n",
       "    </tr>\n",
       "    <tr>\n",
       "      <th>140800</th>\n",
       "      <td>0.019231</td>\n",
       "      <td>0.032258</td>\n",
       "      <td>4</td>\n",
       "      <td>0.250000</td>\n",
       "      <td>1</td>\n",
       "      <td>0</td>\n",
       "      <td>1</td>\n",
       "      <td>0.038748</td>\n",
       "    </tr>\n",
       "    <tr>\n",
       "      <th>176376</th>\n",
       "      <td>0.027778</td>\n",
       "      <td>0.052632</td>\n",
       "      <td>4</td>\n",
       "      <td>0.083333</td>\n",
       "      <td>0</td>\n",
       "      <td>0</td>\n",
       "      <td>0</td>\n",
       "      <td>0.069935</td>\n",
       "    </tr>\n",
       "    <tr>\n",
       "      <th>189499</th>\n",
       "      <td>0.016393</td>\n",
       "      <td>0.023256</td>\n",
       "      <td>4</td>\n",
       "      <td>0.090909</td>\n",
       "      <td>1</td>\n",
       "      <td>0</td>\n",
       "      <td>0</td>\n",
       "      <td>0.130826</td>\n",
       "    </tr>\n",
       "    <tr>\n",
       "      <th>142111</th>\n",
       "      <td>0.014493</td>\n",
       "      <td>0.020833</td>\n",
       "      <td>4</td>\n",
       "      <td>0.111111</td>\n",
       "      <td>1</td>\n",
       "      <td>1</td>\n",
       "      <td>0</td>\n",
       "      <td>0.057305</td>\n",
       "    </tr>\n",
       "    <tr>\n",
       "      <th>176444</th>\n",
       "      <td>0.014493</td>\n",
       "      <td>0.019608</td>\n",
       "      <td>4</td>\n",
       "      <td>0.076923</td>\n",
       "      <td>1</td>\n",
       "      <td>1</td>\n",
       "      <td>0</td>\n",
       "      <td>0.059533</td>\n",
       "    </tr>\n",
       "    <tr>\n",
       "      <th>180420</th>\n",
       "      <td>0.045455</td>\n",
       "      <td>0.250000</td>\n",
       "      <td>4</td>\n",
       "      <td>0.111111</td>\n",
       "      <td>0</td>\n",
       "      <td>1</td>\n",
       "      <td>1</td>\n",
       "      <td>0.034869</td>\n",
       "    </tr>\n",
       "    <tr>\n",
       "      <th>157201</th>\n",
       "      <td>0.050000</td>\n",
       "      <td>0.500000</td>\n",
       "      <td>4</td>\n",
       "      <td>0.500000</td>\n",
       "      <td>1</td>\n",
       "      <td>1</td>\n",
       "      <td>0</td>\n",
       "      <td>0.049573</td>\n",
       "    </tr>\n",
       "  </tbody>\n",
       "</table>\n",
       "<p>15290 rows × 8 columns</p>\n",
       "</div>"
      ],
      "text/plain": [
       "                    Age   YearsDE  VehicleNo  VehicleAge  IsGender  IsMarried  \\\n",
       "Policy Number                                                                   \n",
       "150024         0.041667  0.200000          1    0.090909         0          1   \n",
       "144880         0.032258  0.100000          1    0.166667         1          0   \n",
       "133742         0.017857  0.027027          1         inf         0          1   \n",
       "151282         0.019231  0.032258          1    0.066667         1          1   \n",
       "174407         0.050000  0.333333          1    0.066667         0          0   \n",
       "142548         0.034483  0.125000          1    0.111111         0          1   \n",
       "183396         0.027778  0.052632          1         inf         1          0   \n",
       "106838         0.014925  0.020408          1    0.066667         1          1   \n",
       "137434         0.014493  0.020833          1    0.200000         0          0   \n",
       "192628         0.062500       inf          1    0.071429         1          0   \n",
       "154894         0.052632  1.000000          1    0.083333         0          0   \n",
       "187293         0.034483  0.125000          1    0.071429         1          0   \n",
       "173214         0.050000  1.000000          1    0.076923         1          1   \n",
       "163905         0.014925  0.020408          1    0.142857         0          1   \n",
       "157356         0.021739  0.037037          1    0.142857         0          1   \n",
       "160387         0.017544  0.025000          1    0.066667         0          1   \n",
       "127360         0.015385  0.020833          1    0.090909         0          0   \n",
       "108345         0.050000  1.000000          1    0.066667         0          0   \n",
       "122164         0.014925  0.020408          1    0.333333         0          0   \n",
       "103555         0.016129  0.022222          1         inf         0          1   \n",
       "165177         0.022727  0.037037          1    0.100000         1          0   \n",
       "140896         0.058824       inf          1    0.066667         0          0   \n",
       "197555         0.034483  0.100000          1         inf         1          0   \n",
       "198709         0.015152  0.020408          1    0.166667         1          0   \n",
       "155134         0.045455  0.333333          1    0.090909         1          0   \n",
       "104183         0.030303  0.062500          1    0.076923         0          0   \n",
       "131927         0.014493  0.020833          1         inf         1          1   \n",
       "146242         0.025641  0.045455          1    0.333333         0          1   \n",
       "138988         0.024390  0.045455          1    0.076923         1          1   \n",
       "102189         0.050000  0.500000          1    0.125000         1          1   \n",
       "...                 ...       ...        ...         ...       ...        ...   \n",
       "141976         0.014925  0.020408          4         inf         0          0   \n",
       "145106         0.033333  0.090909          4    0.090909         1          1   \n",
       "105602         0.014286  0.020000          4    0.142857         1          1   \n",
       "134400         0.015873  0.022727          4    0.142857         1          0   \n",
       "114729         0.014493  0.020000          4    0.500000         0          1   \n",
       "177767         0.018182  0.028571          4    0.142857         1          1   \n",
       "173187         0.027027  0.058824          4    0.076923         0          1   \n",
       "146726         0.022727  0.038462          4    0.100000         0          0   \n",
       "116954         0.019231  0.031250          4    1.000000         1          0   \n",
       "183153         0.016129  0.022727          4    0.500000         0          0   \n",
       "198694         0.058824       inf          4    0.142857         0          0   \n",
       "138860         0.045455  0.250000          4    0.076923         0          1   \n",
       "122326         0.028571  0.062500          4    0.333333         1          0   \n",
       "142360         0.014493  0.020000          4         inf         1          1   \n",
       "104479         0.047619  0.500000          4    0.090909         0          0   \n",
       "150034         0.045455  0.200000          4    0.076923         1          0   \n",
       "124202         0.025641  0.055556          4    1.000000         0          0   \n",
       "167680         0.031250  0.083333          4    0.333333         0          0   \n",
       "190736         0.058824       inf          4    0.125000         0          1   \n",
       "132298         0.016129  0.022222          4    0.142857         0          1   \n",
       "169309         0.021277  0.038462          4    0.100000         0          1   \n",
       "102285         0.058824       inf          4    0.111111         1          0   \n",
       "175296         0.033333  0.090909          4    0.142857         0          0   \n",
       "140800         0.019231  0.032258          4    0.250000         1          0   \n",
       "176376         0.027778  0.052632          4    0.083333         0          0   \n",
       "189499         0.016393  0.023256          4    0.090909         1          0   \n",
       "142111         0.014493  0.020833          4    0.111111         1          1   \n",
       "176444         0.014493  0.019608          4    0.076923         1          1   \n",
       "180420         0.045455  0.250000          4    0.111111         0          1   \n",
       "157201         0.050000  0.500000          4    0.500000         1          1   \n",
       "\n",
       "               IsDiesel  Losses_akar  \n",
       "Policy Number                         \n",
       "150024                0     0.070131  \n",
       "144880                0     0.049863  \n",
       "133742                1     0.042519  \n",
       "151282                0     0.058477  \n",
       "174407                0     0.063688  \n",
       "142548                0     0.050986  \n",
       "183396                0     0.046516  \n",
       "106838                0     0.076938  \n",
       "137434                0     0.119614  \n",
       "192628                0     0.064180  \n",
       "154894                1     0.036185  \n",
       "187293                0     0.049544  \n",
       "173214                0     0.078670  \n",
       "163905                0     0.064165  \n",
       "157356                0     0.052813  \n",
       "160387                0     0.056374  \n",
       "127360                0     0.057097  \n",
       "108345                1     0.035976  \n",
       "122164                1     0.041050  \n",
       "103555                0     0.060279  \n",
       "165177                0     0.046000  \n",
       "140896                1     0.033766  \n",
       "197555                1     0.034810  \n",
       "198709                0     0.060505  \n",
       "155134                0     0.067322  \n",
       "104183                0     0.076838  \n",
       "131927                0     0.100977  \n",
       "146242                1     0.038344  \n",
       "138988                0     0.068955  \n",
       "102189                0     0.053141  \n",
       "...                 ...          ...  \n",
       "141976                0     0.110624  \n",
       "145106                0     0.063427  \n",
       "105602                0     0.090194  \n",
       "134400                0     0.059458  \n",
       "114729                0     0.046305  \n",
       "177767                0     0.052477  \n",
       "173187                0     0.065435  \n",
       "146726                0     0.045136  \n",
       "116954                1     0.037077  \n",
       "183153                0     0.077803  \n",
       "198694                1     0.042296  \n",
       "138860                0     0.047469  \n",
       "122326                1     0.035312  \n",
       "142360                0     0.047093  \n",
       "104479                1     0.029525  \n",
       "150034                0     0.049104  \n",
       "124202                1     0.036498  \n",
       "167680                1     0.032054  \n",
       "190736                0     0.045765  \n",
       "132298                0     0.066804  \n",
       "169309                0     0.055300  \n",
       "102285                0     0.051560  \n",
       "175296                0     0.046016  \n",
       "140800                1     0.038748  \n",
       "176376                0     0.069935  \n",
       "189499                0     0.130826  \n",
       "142111                0     0.057305  \n",
       "176444                0     0.059533  \n",
       "180420                1     0.034869  \n",
       "157201                0     0.049573  \n",
       "\n",
       "[15290 rows x 8 columns]"
      ]
     },
     "execution_count": 64,
     "metadata": {},
     "output_type": "execute_result"
    }
   ],
   "source": [
    "data4 = df[['Age','YearsDE','VehicleNo', 'VehicleAge', 'IsGender', 'IsMarried', 'IsDiesel','Losses_akar']]\n",
    "data4.iloc[:,[0,1,3,7]] = 1/data4.iloc[:,[0,1,3,7]]\n",
    "data4"
   ]
  },
  {
   "cell_type": "markdown",
   "metadata": {
    "colab_type": "text",
    "id": "Ubm3i7uSegVX"
   },
   "source": [
    "# Feature Extraction (Age and YearsDE) *tidak recommended*"
   ]
  },
  {
   "cell_type": "code",
   "execution_count": 65,
   "metadata": {
    "colab": {
     "autoexec": {
      "startup": false,
      "wait_interval": 0
     },
     "base_uri": "https://localhost:8080/",
     "height": 272
    },
    "colab_type": "code",
    "executionInfo": {
     "elapsed": 935,
     "status": "ok",
     "timestamp": 1527641214640,
     "user": {
      "displayName": "Nur Chamid",
      "photoUrl": "//lh5.googleusercontent.com/-TsgwUJzaJJg/AAAAAAAAAAI/AAAAAAAAARQ/Ngn5q-ighvg/s50-c-k-no/photo.jpg",
      "userId": "109513328284773316398"
     },
     "user_tz": -420
    },
    "id": "Pwblwk7h-oks",
    "outputId": "3e9213f3-ea53-4173-ec52-c07b99ba8e01"
   },
   "outputs": [
    {
     "data": {
      "text/html": [
       "<div>\n",
       "<style scoped>\n",
       "    .dataframe tbody tr th:only-of-type {\n",
       "        vertical-align: middle;\n",
       "    }\n",
       "\n",
       "    .dataframe tbody tr th {\n",
       "        vertical-align: top;\n",
       "    }\n",
       "\n",
       "    .dataframe thead th {\n",
       "        text-align: right;\n",
       "    }\n",
       "</style>\n",
       "<table border=\"1\" class=\"dataframe\">\n",
       "  <thead>\n",
       "    <tr style=\"text-align: right;\">\n",
       "      <th></th>\n",
       "      <th>Age</th>\n",
       "      <th>YearsDE</th>\n",
       "      <th>VehicleNo</th>\n",
       "      <th>Gender</th>\n",
       "      <th>Married</th>\n",
       "      <th>VehicleAge</th>\n",
       "      <th>Fuel</th>\n",
       "      <th>Losses</th>\n",
       "      <th>IsGender</th>\n",
       "      <th>IsMarried</th>\n",
       "      <th>IsDiesel</th>\n",
       "      <th>Losses_New</th>\n",
       "      <th>Losses_perx</th>\n",
       "      <th>Losses_akar</th>\n",
       "      <th>AgeDE</th>\n",
       "    </tr>\n",
       "    <tr>\n",
       "      <th>Policy Number</th>\n",
       "      <th></th>\n",
       "      <th></th>\n",
       "      <th></th>\n",
       "      <th></th>\n",
       "      <th></th>\n",
       "      <th></th>\n",
       "      <th></th>\n",
       "      <th></th>\n",
       "      <th></th>\n",
       "      <th></th>\n",
       "      <th></th>\n",
       "      <th></th>\n",
       "      <th></th>\n",
       "      <th></th>\n",
       "      <th></th>\n",
       "    </tr>\n",
       "  </thead>\n",
       "  <tbody>\n",
       "    <tr>\n",
       "      <th>150024</th>\n",
       "      <td>24</td>\n",
       "      <td>5</td>\n",
       "      <td>1</td>\n",
       "      <td>M</td>\n",
       "      <td>Married</td>\n",
       "      <td>11</td>\n",
       "      <td>P</td>\n",
       "      <td>203.319595</td>\n",
       "      <td>0</td>\n",
       "      <td>1</td>\n",
       "      <td>0</td>\n",
       "      <td>5.314779</td>\n",
       "      <td>0.004918</td>\n",
       "      <td>14.259018</td>\n",
       "      <td>0.208333</td>\n",
       "    </tr>\n",
       "    <tr>\n",
       "      <th>144880</th>\n",
       "      <td>31</td>\n",
       "      <td>10</td>\n",
       "      <td>1</td>\n",
       "      <td>F</td>\n",
       "      <td>Single</td>\n",
       "      <td>6</td>\n",
       "      <td>P</td>\n",
       "      <td>402.197302</td>\n",
       "      <td>1</td>\n",
       "      <td>0</td>\n",
       "      <td>0</td>\n",
       "      <td>5.996943</td>\n",
       "      <td>0.002486</td>\n",
       "      <td>20.054857</td>\n",
       "      <td>0.322581</td>\n",
       "    </tr>\n",
       "    <tr>\n",
       "      <th>133742</th>\n",
       "      <td>56</td>\n",
       "      <td>37</td>\n",
       "      <td>1</td>\n",
       "      <td>M</td>\n",
       "      <td>Married</td>\n",
       "      <td>0</td>\n",
       "      <td>D</td>\n",
       "      <td>553.132096</td>\n",
       "      <td>0</td>\n",
       "      <td>1</td>\n",
       "      <td>1</td>\n",
       "      <td>6.315597</td>\n",
       "      <td>0.001808</td>\n",
       "      <td>23.518761</td>\n",
       "      <td>0.660714</td>\n",
       "    </tr>\n",
       "    <tr>\n",
       "      <th>151282</th>\n",
       "      <td>52</td>\n",
       "      <td>31</td>\n",
       "      <td>1</td>\n",
       "      <td>F</td>\n",
       "      <td>Married</td>\n",
       "      <td>15</td>\n",
       "      <td>P</td>\n",
       "      <td>292.430579</td>\n",
       "      <td>1</td>\n",
       "      <td>1</td>\n",
       "      <td>0</td>\n",
       "      <td>5.678227</td>\n",
       "      <td>0.003420</td>\n",
       "      <td>17.100602</td>\n",
       "      <td>0.596154</td>\n",
       "    </tr>\n",
       "    <tr>\n",
       "      <th>174407</th>\n",
       "      <td>20</td>\n",
       "      <td>3</td>\n",
       "      <td>1</td>\n",
       "      <td>M</td>\n",
       "      <td>Single</td>\n",
       "      <td>15</td>\n",
       "      <td>P</td>\n",
       "      <td>246.540576</td>\n",
       "      <td>0</td>\n",
       "      <td>0</td>\n",
       "      <td>0</td>\n",
       "      <td>5.507527</td>\n",
       "      <td>0.004056</td>\n",
       "      <td>15.701611</td>\n",
       "      <td>0.150000</td>\n",
       "    </tr>\n",
       "  </tbody>\n",
       "</table>\n",
       "</div>"
      ],
      "text/plain": [
       "               Age  YearsDE  VehicleNo Gender  Married  VehicleAge Fuel  \\\n",
       "Policy Number                                                             \n",
       "150024          24        5          1      M  Married          11    P   \n",
       "144880          31       10          1      F   Single           6    P   \n",
       "133742          56       37          1      M  Married           0    D   \n",
       "151282          52       31          1      F  Married          15    P   \n",
       "174407          20        3          1      M   Single          15    P   \n",
       "\n",
       "                   Losses  IsGender  IsMarried  IsDiesel  Losses_New  \\\n",
       "Policy Number                                                          \n",
       "150024         203.319595         0          1         0    5.314779   \n",
       "144880         402.197302         1          0         0    5.996943   \n",
       "133742         553.132096         0          1         1    6.315597   \n",
       "151282         292.430579         1          1         0    5.678227   \n",
       "174407         246.540576         0          0         0    5.507527   \n",
       "\n",
       "               Losses_perx  Losses_akar     AgeDE  \n",
       "Policy Number                                      \n",
       "150024            0.004918    14.259018  0.208333  \n",
       "144880            0.002486    20.054857  0.322581  \n",
       "133742            0.001808    23.518761  0.660714  \n",
       "151282            0.003420    17.100602  0.596154  \n",
       "174407            0.004056    15.701611  0.150000  "
      ]
     },
     "execution_count": 65,
     "metadata": {},
     "output_type": "execute_result"
    }
   ],
   "source": [
    "df['AgeDE']=df.YearsDE/df.Age\n",
    "df.head(5)"
   ]
  },
  {
   "cell_type": "markdown",
   "metadata": {
    "colab_type": "text",
    "id": "ob7beNKnx248"
   },
   "source": [
    "## Log (y)"
   ]
  },
  {
   "cell_type": "code",
   "execution_count": 66,
   "metadata": {
    "colab": {
     "autoexec": {
      "startup": false,
      "wait_interval": 0
     },
     "base_uri": "https://localhost:8080/",
     "height": 688
    },
    "colab_type": "code",
    "executionInfo": {
     "elapsed": 809,
     "status": "ok",
     "timestamp": 1527641215571,
     "user": {
      "displayName": "Nur Chamid",
      "photoUrl": "//lh5.googleusercontent.com/-TsgwUJzaJJg/AAAAAAAAAAI/AAAAAAAAARQ/Ngn5q-ighvg/s50-c-k-no/photo.jpg",
      "userId": "109513328284773316398"
     },
     "user_tz": -420
    },
    "id": "-o_tDDCzx25C",
    "outputId": "a23b1f91-04dd-4cb8-fb49-9506513a77a1"
   },
   "outputs": [
    {
     "data": {
      "text/html": [
       "<table class=\"simpletable\">\n",
       "<caption>OLS Regression Results</caption>\n",
       "<tr>\n",
       "  <th>Dep. Variable:</th>       <td>Losses_New</td>    <th>  R-squared:         </th> <td>   0.486</td> \n",
       "</tr>\n",
       "<tr>\n",
       "  <th>Model:</th>                   <td>OLS</td>       <th>  Adj. R-squared:    </th> <td>   0.486</td> \n",
       "</tr>\n",
       "<tr>\n",
       "  <th>Method:</th>             <td>Least Squares</td>  <th>  F-statistic:       </th> <td>   2409.</td> \n",
       "</tr>\n",
       "<tr>\n",
       "  <th>Date:</th>             <td>Wed, 30 May 2018</td> <th>  Prob (F-statistic):</th>  <td>  0.00</td>  \n",
       "</tr>\n",
       "<tr>\n",
       "  <th>Time:</th>                 <td>14:09:07</td>     <th>  Log-Likelihood:    </th> <td> -11878.</td> \n",
       "</tr>\n",
       "<tr>\n",
       "  <th>No. Observations:</th>      <td> 15290</td>      <th>  AIC:               </th> <td>2.377e+04</td>\n",
       "</tr>\n",
       "<tr>\n",
       "  <th>Df Residuals:</th>          <td> 15283</td>      <th>  BIC:               </th> <td>2.382e+04</td>\n",
       "</tr>\n",
       "<tr>\n",
       "  <th>Df Model:</th>              <td>     6</td>      <th>                     </th>     <td> </td>    \n",
       "</tr>\n",
       "<tr>\n",
       "  <th>Covariance Type:</th>      <td>nonrobust</td>    <th>                     </th>     <td> </td>    \n",
       "</tr>\n",
       "</table>\n",
       "<table class=\"simpletable\">\n",
       "<tr>\n",
       "       <td></td>         <th>coef</th>     <th>std err</th>      <th>t</th>      <th>P>|t|</th>  <th>[0.025</th>    <th>0.975]</th>  \n",
       "</tr>\n",
       "<tr>\n",
       "  <th>Intercept</th>  <td>    6.6345</td> <td>    0.023</td> <td>  285.992</td> <td> 0.000</td> <td>    6.589</td> <td>    6.680</td>\n",
       "</tr>\n",
       "<tr>\n",
       "  <th>AgeDE</th>      <td>   -1.1322</td> <td>    0.020</td> <td>  -57.024</td> <td> 0.000</td> <td>   -1.171</td> <td>   -1.093</td>\n",
       "</tr>\n",
       "<tr>\n",
       "  <th>VehicleNo</th>  <td>   -0.0008</td> <td>    0.004</td> <td>   -0.176</td> <td> 0.860</td> <td>   -0.010</td> <td>    0.008</td>\n",
       "</tr>\n",
       "<tr>\n",
       "  <th>VehicleAge</th> <td>   -0.0413</td> <td>    0.001</td> <td>  -36.504</td> <td> 0.000</td> <td>   -0.043</td> <td>   -0.039</td>\n",
       "</tr>\n",
       "<tr>\n",
       "  <th>IsGender</th>   <td>   -0.1171</td> <td>    0.009</td> <td>  -13.489</td> <td> 0.000</td> <td>   -0.134</td> <td>   -0.100</td>\n",
       "</tr>\n",
       "<tr>\n",
       "  <th>IsMarried</th>  <td>   -0.1978</td> <td>    0.009</td> <td>  -22.414</td> <td> 0.000</td> <td>   -0.215</td> <td>   -0.181</td>\n",
       "</tr>\n",
       "<tr>\n",
       "  <th>IsDiesel</th>   <td>    0.6318</td> <td>    0.012</td> <td>   51.632</td> <td> 0.000</td> <td>    0.608</td> <td>    0.656</td>\n",
       "</tr>\n",
       "</table>\n",
       "<table class=\"simpletable\">\n",
       "<tr>\n",
       "  <th>Omnibus:</th>       <td>4119.447</td> <th>  Durbin-Watson:     </th> <td>   1.977</td> \n",
       "</tr>\n",
       "<tr>\n",
       "  <th>Prob(Omnibus):</th>  <td> 0.000</td>  <th>  Jarque-Bera (JB):  </th> <td>11239.683</td>\n",
       "</tr>\n",
       "<tr>\n",
       "  <th>Skew:</th>           <td>-1.438</td>  <th>  Prob(JB):          </th> <td>    0.00</td> \n",
       "</tr>\n",
       "<tr>\n",
       "  <th>Kurtosis:</th>       <td> 6.060</td>  <th>  Cond. No.          </th> <td>    68.6</td> \n",
       "</tr>\n",
       "</table>"
      ],
      "text/plain": [
       "<class 'statsmodels.iolib.summary.Summary'>\n",
       "\"\"\"\n",
       "                            OLS Regression Results                            \n",
       "==============================================================================\n",
       "Dep. Variable:             Losses_New   R-squared:                       0.486\n",
       "Model:                            OLS   Adj. R-squared:                  0.486\n",
       "Method:                 Least Squares   F-statistic:                     2409.\n",
       "Date:                Wed, 30 May 2018   Prob (F-statistic):               0.00\n",
       "Time:                        14:09:07   Log-Likelihood:                -11878.\n",
       "No. Observations:               15290   AIC:                         2.377e+04\n",
       "Df Residuals:                   15283   BIC:                         2.382e+04\n",
       "Df Model:                           6                                         \n",
       "Covariance Type:            nonrobust                                         \n",
       "==============================================================================\n",
       "                 coef    std err          t      P>|t|      [0.025      0.975]\n",
       "------------------------------------------------------------------------------\n",
       "Intercept      6.6345      0.023    285.992      0.000       6.589       6.680\n",
       "AgeDE         -1.1322      0.020    -57.024      0.000      -1.171      -1.093\n",
       "VehicleNo     -0.0008      0.004     -0.176      0.860      -0.010       0.008\n",
       "VehicleAge    -0.0413      0.001    -36.504      0.000      -0.043      -0.039\n",
       "IsGender      -0.1171      0.009    -13.489      0.000      -0.134      -0.100\n",
       "IsMarried     -0.1978      0.009    -22.414      0.000      -0.215      -0.181\n",
       "IsDiesel       0.6318      0.012     51.632      0.000       0.608       0.656\n",
       "==============================================================================\n",
       "Omnibus:                     4119.447   Durbin-Watson:                   1.977\n",
       "Prob(Omnibus):                  0.000   Jarque-Bera (JB):            11239.683\n",
       "Skew:                          -1.438   Prob(JB):                         0.00\n",
       "Kurtosis:                       6.060   Cond. No.                         68.6\n",
       "==============================================================================\n",
       "\n",
       "Warnings:\n",
       "[1] Standard Errors assume that the covariance matrix of the errors is correctly specified.\n",
       "\"\"\""
      ]
     },
     "execution_count": 66,
     "metadata": {},
     "output_type": "execute_result"
    }
   ],
   "source": [
    "data1 = df[['AgeDE','Age','YearsDE','VehicleNo', 'VehicleAge', 'IsGender', 'IsMarried', 'IsDiesel', 'Losses_New']]\n",
    "lm=smf.ols(formula='Losses_New~AgeDE+VehicleNo+VehicleAge+IsGender+IsMarried+IsDiesel', data=data1).fit()\n",
    "lm.summary()"
   ]
  },
  {
   "cell_type": "code",
   "execution_count": 67,
   "metadata": {
    "colab": {
     "autoexec": {
      "startup": false,
      "wait_interval": 0
     },
     "base_uri": "https://localhost:8080/",
     "height": 667
    },
    "colab_type": "code",
    "executionInfo": {
     "elapsed": 702,
     "status": "ok",
     "timestamp": 1527641216389,
     "user": {
      "displayName": "Nur Chamid",
      "photoUrl": "//lh5.googleusercontent.com/-TsgwUJzaJJg/AAAAAAAAAAI/AAAAAAAAARQ/Ngn5q-ighvg/s50-c-k-no/photo.jpg",
      "userId": "109513328284773316398"
     },
     "user_tz": -420
    },
    "id": "ZDSYpjHtx25M",
    "outputId": "2b75d32c-0830-462b-d05d-1d0dddd46adb"
   },
   "outputs": [
    {
     "data": {
      "text/html": [
       "<table class=\"simpletable\">\n",
       "<caption>OLS Regression Results</caption>\n",
       "<tr>\n",
       "  <th>Dep. Variable:</th>       <td>Losses_New</td>    <th>  R-squared:         </th> <td>   0.486</td> \n",
       "</tr>\n",
       "<tr>\n",
       "  <th>Model:</th>                   <td>OLS</td>       <th>  Adj. R-squared:    </th> <td>   0.486</td> \n",
       "</tr>\n",
       "<tr>\n",
       "  <th>Method:</th>             <td>Least Squares</td>  <th>  F-statistic:       </th> <td>   2890.</td> \n",
       "</tr>\n",
       "<tr>\n",
       "  <th>Date:</th>             <td>Wed, 30 May 2018</td> <th>  Prob (F-statistic):</th>  <td>  0.00</td>  \n",
       "</tr>\n",
       "<tr>\n",
       "  <th>Time:</th>                 <td>14:09:07</td>     <th>  Log-Likelihood:    </th> <td> -11878.</td> \n",
       "</tr>\n",
       "<tr>\n",
       "  <th>No. Observations:</th>      <td> 15290</td>      <th>  AIC:               </th> <td>2.377e+04</td>\n",
       "</tr>\n",
       "<tr>\n",
       "  <th>Df Residuals:</th>          <td> 15284</td>      <th>  BIC:               </th> <td>2.381e+04</td>\n",
       "</tr>\n",
       "<tr>\n",
       "  <th>Df Model:</th>              <td>     5</td>      <th>                     </th>     <td> </td>    \n",
       "</tr>\n",
       "<tr>\n",
       "  <th>Covariance Type:</th>      <td>nonrobust</td>    <th>                     </th>     <td> </td>    \n",
       "</tr>\n",
       "</table>\n",
       "<table class=\"simpletable\">\n",
       "<tr>\n",
       "       <td></td>         <th>coef</th>     <th>std err</th>      <th>t</th>      <th>P>|t|</th>  <th>[0.025</th>    <th>0.975]</th>  \n",
       "</tr>\n",
       "<tr>\n",
       "  <th>Intercept</th>  <td>    6.6325</td> <td>    0.020</td> <td>  325.159</td> <td> 0.000</td> <td>    6.593</td> <td>    6.672</td>\n",
       "</tr>\n",
       "<tr>\n",
       "  <th>AgeDE</th>      <td>   -1.1323</td> <td>    0.020</td> <td>  -57.029</td> <td> 0.000</td> <td>   -1.171</td> <td>   -1.093</td>\n",
       "</tr>\n",
       "<tr>\n",
       "  <th>VehicleAge</th> <td>   -0.0413</td> <td>    0.001</td> <td>  -36.507</td> <td> 0.000</td> <td>   -0.043</td> <td>   -0.039</td>\n",
       "</tr>\n",
       "<tr>\n",
       "  <th>IsGender</th>   <td>   -0.1171</td> <td>    0.009</td> <td>  -13.490</td> <td> 0.000</td> <td>   -0.134</td> <td>   -0.100</td>\n",
       "</tr>\n",
       "<tr>\n",
       "  <th>IsMarried</th>  <td>   -0.1978</td> <td>    0.009</td> <td>  -22.414</td> <td> 0.000</td> <td>   -0.215</td> <td>   -0.181</td>\n",
       "</tr>\n",
       "<tr>\n",
       "  <th>IsDiesel</th>   <td>    0.6318</td> <td>    0.012</td> <td>   51.633</td> <td> 0.000</td> <td>    0.608</td> <td>    0.656</td>\n",
       "</tr>\n",
       "</table>\n",
       "<table class=\"simpletable\">\n",
       "<tr>\n",
       "  <th>Omnibus:</th>       <td>4119.408</td> <th>  Durbin-Watson:     </th> <td>   1.977</td> \n",
       "</tr>\n",
       "<tr>\n",
       "  <th>Prob(Omnibus):</th>  <td> 0.000</td>  <th>  Jarque-Bera (JB):  </th> <td>11241.230</td>\n",
       "</tr>\n",
       "<tr>\n",
       "  <th>Skew:</th>           <td>-1.438</td>  <th>  Prob(JB):          </th> <td>    0.00</td> \n",
       "</tr>\n",
       "<tr>\n",
       "  <th>Kurtosis:</th>       <td> 6.061</td>  <th>  Cond. No.          </th> <td>    64.2</td> \n",
       "</tr>\n",
       "</table>"
      ],
      "text/plain": [
       "<class 'statsmodels.iolib.summary.Summary'>\n",
       "\"\"\"\n",
       "                            OLS Regression Results                            \n",
       "==============================================================================\n",
       "Dep. Variable:             Losses_New   R-squared:                       0.486\n",
       "Model:                            OLS   Adj. R-squared:                  0.486\n",
       "Method:                 Least Squares   F-statistic:                     2890.\n",
       "Date:                Wed, 30 May 2018   Prob (F-statistic):               0.00\n",
       "Time:                        14:09:07   Log-Likelihood:                -11878.\n",
       "No. Observations:               15290   AIC:                         2.377e+04\n",
       "Df Residuals:                   15284   BIC:                         2.381e+04\n",
       "Df Model:                           5                                         \n",
       "Covariance Type:            nonrobust                                         \n",
       "==============================================================================\n",
       "                 coef    std err          t      P>|t|      [0.025      0.975]\n",
       "------------------------------------------------------------------------------\n",
       "Intercept      6.6325      0.020    325.159      0.000       6.593       6.672\n",
       "AgeDE         -1.1323      0.020    -57.029      0.000      -1.171      -1.093\n",
       "VehicleAge    -0.0413      0.001    -36.507      0.000      -0.043      -0.039\n",
       "IsGender      -0.1171      0.009    -13.490      0.000      -0.134      -0.100\n",
       "IsMarried     -0.1978      0.009    -22.414      0.000      -0.215      -0.181\n",
       "IsDiesel       0.6318      0.012     51.633      0.000       0.608       0.656\n",
       "==============================================================================\n",
       "Omnibus:                     4119.408   Durbin-Watson:                   1.977\n",
       "Prob(Omnibus):                  0.000   Jarque-Bera (JB):            11241.230\n",
       "Skew:                          -1.438   Prob(JB):                         0.00\n",
       "Kurtosis:                       6.061   Cond. No.                         64.2\n",
       "==============================================================================\n",
       "\n",
       "Warnings:\n",
       "[1] Standard Errors assume that the covariance matrix of the errors is correctly specified.\n",
       "\"\"\""
      ]
     },
     "execution_count": 67,
     "metadata": {},
     "output_type": "execute_result"
    }
   ],
   "source": [
    "data11 = df[['AgeDE','Age','YearsDE', 'VehicleAge', 'IsGender', 'IsMarried', 'IsDiesel', 'Losses_New']]\n",
    "lm1=smf.ols(formula='Losses_New~AgeDE++VehicleAge+IsGender+IsMarried+IsDiesel', data=data11).fit()\n",
    "lm1.summary()"
   ]
  },
  {
   "cell_type": "code",
   "execution_count": null,
   "metadata": {
    "colab": {
     "autoexec": {
      "startup": false,
      "wait_interval": 0
     }
    },
    "colab_type": "code",
    "id": "gYWtwyVkx25S"
   },
   "outputs": [],
   "source": []
  },
  {
   "cell_type": "markdown",
   "metadata": {
    "colab_type": "text",
    "id": "Iko7O-iryJhe"
   },
   "source": [
    "## Inverse(y)"
   ]
  },
  {
   "cell_type": "code",
   "execution_count": 68,
   "metadata": {
    "colab": {
     "autoexec": {
      "startup": false,
      "wait_interval": 0
     },
     "base_uri": "https://localhost:8080/",
     "height": 756
    },
    "colab_type": "code",
    "executionInfo": {
     "elapsed": 735,
     "status": "ok",
     "timestamp": 1527641218027,
     "user": {
      "displayName": "Nur Chamid",
      "photoUrl": "//lh5.googleusercontent.com/-TsgwUJzaJJg/AAAAAAAAAAI/AAAAAAAAARQ/Ngn5q-ighvg/s50-c-k-no/photo.jpg",
      "userId": "109513328284773316398"
     },
     "user_tz": -420
    },
    "id": "REYUqCKDyJhg",
    "outputId": "6983b05b-d467-4791-bb59-8382f2e97165"
   },
   "outputs": [
    {
     "data": {
      "text/html": [
       "<table class=\"simpletable\">\n",
       "<caption>OLS Regression Results</caption>\n",
       "<tr>\n",
       "  <th>Dep. Variable:</th>       <td>Losses_perx</td>   <th>  R-squared:         </th>  <td>   0.176</td> \n",
       "</tr>\n",
       "<tr>\n",
       "  <th>Model:</th>                   <td>OLS</td>       <th>  Adj. R-squared:    </th>  <td>   0.175</td> \n",
       "</tr>\n",
       "<tr>\n",
       "  <th>Method:</th>             <td>Least Squares</td>  <th>  F-statistic:       </th>  <td>   542.3</td> \n",
       "</tr>\n",
       "<tr>\n",
       "  <th>Date:</th>             <td>Wed, 30 May 2018</td> <th>  Prob (F-statistic):</th>   <td>  0.00</td>  \n",
       "</tr>\n",
       "<tr>\n",
       "  <th>Time:</th>                 <td>14:09:07</td>     <th>  Log-Likelihood:    </th>  <td>  58061.</td> \n",
       "</tr>\n",
       "<tr>\n",
       "  <th>No. Observations:</th>      <td> 15290</td>      <th>  AIC:               </th> <td>-1.161e+05</td>\n",
       "</tr>\n",
       "<tr>\n",
       "  <th>Df Residuals:</th>          <td> 15283</td>      <th>  BIC:               </th> <td>-1.161e+05</td>\n",
       "</tr>\n",
       "<tr>\n",
       "  <th>Df Model:</th>              <td>     6</td>      <th>                     </th>      <td> </td>    \n",
       "</tr>\n",
       "<tr>\n",
       "  <th>Covariance Type:</th>      <td>nonrobust</td>    <th>                     </th>      <td> </td>    \n",
       "</tr>\n",
       "</table>\n",
       "<table class=\"simpletable\">\n",
       "<tr>\n",
       "       <td></td>         <th>coef</th>     <th>std err</th>      <th>t</th>      <th>P>|t|</th>  <th>[0.025</th>    <th>0.975]</th>  \n",
       "</tr>\n",
       "<tr>\n",
       "  <th>Intercept</th>  <td>   -0.0022</td> <td>    0.000</td> <td>   -9.241</td> <td> 0.000</td> <td>   -0.003</td> <td>   -0.002</td>\n",
       "</tr>\n",
       "<tr>\n",
       "  <th>AgeDE</th>      <td>    0.0083</td> <td>    0.000</td> <td>   40.563</td> <td> 0.000</td> <td>    0.008</td> <td>    0.009</td>\n",
       "</tr>\n",
       "<tr>\n",
       "  <th>VehicleNo</th>  <td> 8.975e-06</td> <td>  4.6e-05</td> <td>    0.195</td> <td> 0.845</td> <td>-8.13e-05</td> <td> 9.92e-05</td>\n",
       "</tr>\n",
       "<tr>\n",
       "  <th>VehicleAge</th> <td>    0.0003</td> <td> 1.17e-05</td> <td>   24.379</td> <td> 0.000</td> <td>    0.000</td> <td>    0.000</td>\n",
       "</tr>\n",
       "<tr>\n",
       "  <th>IsGender</th>   <td>    0.0006</td> <td> 8.96e-05</td> <td>    6.782</td> <td> 0.000</td> <td>    0.000</td> <td>    0.001</td>\n",
       "</tr>\n",
       "<tr>\n",
       "  <th>IsMarried</th>  <td>    0.0009</td> <td>  9.1e-05</td> <td>   10.259</td> <td> 0.000</td> <td>    0.001</td> <td>    0.001</td>\n",
       "</tr>\n",
       "<tr>\n",
       "  <th>IsDiesel</th>   <td>   -0.0013</td> <td>    0.000</td> <td>  -10.093</td> <td> 0.000</td> <td>   -0.002</td> <td>   -0.001</td>\n",
       "</tr>\n",
       "</table>\n",
       "<table class=\"simpletable\">\n",
       "<tr>\n",
       "  <th>Omnibus:</th>       <td>14816.467</td> <th>  Durbin-Watson:     </th>  <td>   2.003</td> \n",
       "</tr>\n",
       "<tr>\n",
       "  <th>Prob(Omnibus):</th>  <td> 0.000</td>   <th>  Jarque-Bera (JB):  </th> <td>757024.728</td>\n",
       "</tr>\n",
       "<tr>\n",
       "  <th>Skew:</th>           <td> 4.761</td>   <th>  Prob(JB):          </th>  <td>    0.00</td> \n",
       "</tr>\n",
       "<tr>\n",
       "  <th>Kurtosis:</th>       <td>36.130</td>   <th>  Cond. No.          </th>  <td>    68.6</td> \n",
       "</tr>\n",
       "</table>"
      ],
      "text/plain": [
       "<class 'statsmodels.iolib.summary.Summary'>\n",
       "\"\"\"\n",
       "                            OLS Regression Results                            \n",
       "==============================================================================\n",
       "Dep. Variable:            Losses_perx   R-squared:                       0.176\n",
       "Model:                            OLS   Adj. R-squared:                  0.175\n",
       "Method:                 Least Squares   F-statistic:                     542.3\n",
       "Date:                Wed, 30 May 2018   Prob (F-statistic):               0.00\n",
       "Time:                        14:09:07   Log-Likelihood:                 58061.\n",
       "No. Observations:               15290   AIC:                        -1.161e+05\n",
       "Df Residuals:                   15283   BIC:                        -1.161e+05\n",
       "Df Model:                           6                                         \n",
       "Covariance Type:            nonrobust                                         \n",
       "==============================================================================\n",
       "                 coef    std err          t      P>|t|      [0.025      0.975]\n",
       "------------------------------------------------------------------------------\n",
       "Intercept     -0.0022      0.000     -9.241      0.000      -0.003      -0.002\n",
       "AgeDE          0.0083      0.000     40.563      0.000       0.008       0.009\n",
       "VehicleNo   8.975e-06    4.6e-05      0.195      0.845   -8.13e-05    9.92e-05\n",
       "VehicleAge     0.0003   1.17e-05     24.379      0.000       0.000       0.000\n",
       "IsGender       0.0006   8.96e-05      6.782      0.000       0.000       0.001\n",
       "IsMarried      0.0009    9.1e-05     10.259      0.000       0.001       0.001\n",
       "IsDiesel      -0.0013      0.000    -10.093      0.000      -0.002      -0.001\n",
       "==============================================================================\n",
       "Omnibus:                    14816.467   Durbin-Watson:                   2.003\n",
       "Prob(Omnibus):                  0.000   Jarque-Bera (JB):           757024.728\n",
       "Skew:                           4.761   Prob(JB):                         0.00\n",
       "Kurtosis:                      36.130   Cond. No.                         68.6\n",
       "==============================================================================\n",
       "\n",
       "Warnings:\n",
       "[1] Standard Errors assume that the covariance matrix of the errors is correctly specified.\n",
       "\"\"\""
      ]
     },
     "execution_count": 68,
     "metadata": {},
     "output_type": "execute_result"
    }
   ],
   "source": [
    "data2 = df[['AgeDE','Age','YearsDE','VehicleNo', 'VehicleAge', 'IsGender', 'IsMarried', 'IsDiesel','Losses_perx']]\n",
    "data2.head()\n",
    "lm=smf.ols(formula='Losses_perx~AgeDE+VehicleNo+VehicleAge+IsGender+IsMarried+IsDiesel', data=data2).fit()\n",
    "lm.summary()"
   ]
  },
  {
   "cell_type": "code",
   "execution_count": null,
   "metadata": {
    "colab": {
     "autoexec": {
      "startup": false,
      "wait_interval": 0
     }
    },
    "colab_type": "code",
    "id": "G7CxTxgMyJhq"
   },
   "outputs": [],
   "source": []
  },
  {
   "cell_type": "code",
   "execution_count": null,
   "metadata": {
    "colab": {
     "autoexec": {
      "startup": false,
      "wait_interval": 0
     }
    },
    "colab_type": "code",
    "id": "4-I7evaayJh0"
   },
   "outputs": [],
   "source": []
  },
  {
   "cell_type": "markdown",
   "metadata": {
    "colab_type": "text",
    "id": "djviLpP8yJh7"
   },
   "source": []
  },
  {
   "cell_type": "markdown",
   "metadata": {
    "colab_type": "text",
    "id": "8T_wh1tryjFg"
   },
   "source": [
    "## Akar(y)"
   ]
  },
  {
   "cell_type": "code",
   "execution_count": 69,
   "metadata": {
    "colab": {
     "autoexec": {
      "startup": false,
      "wait_interval": 0
     },
     "base_uri": "https://localhost:8080/",
     "height": 481
    },
    "colab_type": "code",
    "executionInfo": {
     "elapsed": 725,
     "status": "ok",
     "timestamp": 1527641220585,
     "user": {
      "displayName": "Nur Chamid",
      "photoUrl": "//lh5.googleusercontent.com/-TsgwUJzaJJg/AAAAAAAAAAI/AAAAAAAAARQ/Ngn5q-ighvg/s50-c-k-no/photo.jpg",
      "userId": "109513328284773316398"
     },
     "user_tz": -420
    },
    "id": "1w0LMI5wyjFm",
    "outputId": "ec73838b-dbba-4b7f-fe03-8ec97c536732"
   },
   "outputs": [
    {
     "data": {
      "text/html": [
       "<table class=\"simpletable\">\n",
       "<caption>OLS Regression Results</caption>\n",
       "<tr>\n",
       "  <th>Dep. Variable:</th>       <td>Losses_akar</td>   <th>  R-squared:         </th> <td>   0.617</td> \n",
       "</tr>\n",
       "<tr>\n",
       "  <th>Model:</th>                   <td>OLS</td>       <th>  Adj. R-squared:    </th> <td>   0.616</td> \n",
       "</tr>\n",
       "<tr>\n",
       "  <th>Method:</th>             <td>Least Squares</td>  <th>  F-statistic:       </th> <td>   4095.</td> \n",
       "</tr>\n",
       "<tr>\n",
       "  <th>Date:</th>             <td>Wed, 30 May 2018</td> <th>  Prob (F-statistic):</th>  <td>  0.00</td>  \n",
       "</tr>\n",
       "<tr>\n",
       "  <th>Time:</th>                 <td>14:09:07</td>     <th>  Log-Likelihood:    </th> <td> -41962.</td> \n",
       "</tr>\n",
       "<tr>\n",
       "  <th>No. Observations:</th>      <td> 15290</td>      <th>  AIC:               </th> <td>8.394e+04</td>\n",
       "</tr>\n",
       "<tr>\n",
       "  <th>Df Residuals:</th>          <td> 15283</td>      <th>  BIC:               </th> <td>8.399e+04</td>\n",
       "</tr>\n",
       "<tr>\n",
       "  <th>Df Model:</th>              <td>     6</td>      <th>                     </th>     <td> </td>    \n",
       "</tr>\n",
       "<tr>\n",
       "  <th>Covariance Type:</th>      <td>nonrobust</td>    <th>                     </th>     <td> </td>    \n",
       "</tr>\n",
       "</table>\n",
       "<table class=\"simpletable\">\n",
       "<tr>\n",
       "       <td></td>         <th>coef</th>     <th>std err</th>      <th>t</th>      <th>P>|t|</th>  <th>[0.025</th>    <th>0.975]</th>  \n",
       "</tr>\n",
       "<tr>\n",
       "  <th>Intercept</th>  <td>   25.4571</td> <td>    0.166</td> <td>  153.413</td> <td> 0.000</td> <td>   25.132</td> <td>   25.782</td>\n",
       "</tr>\n",
       "<tr>\n",
       "  <th>AgeDE</th>      <td>   -8.5187</td> <td>    0.142</td> <td>  -59.979</td> <td> 0.000</td> <td>   -8.797</td> <td>   -8.240</td>\n",
       "</tr>\n",
       "<tr>\n",
       "  <th>VehicleNo</th>  <td>   -0.0212</td> <td>    0.032</td> <td>   -0.663</td> <td> 0.507</td> <td>   -0.084</td> <td>    0.041</td>\n",
       "</tr>\n",
       "<tr>\n",
       "  <th>VehicleAge</th> <td>   -0.3281</td> <td>    0.008</td> <td>  -40.578</td> <td> 0.000</td> <td>   -0.344</td> <td>   -0.312</td>\n",
       "</tr>\n",
       "<tr>\n",
       "  <th>IsGender</th>   <td>   -1.1234</td> <td>    0.062</td> <td>  -18.087</td> <td> 0.000</td> <td>   -1.245</td> <td>   -1.002</td>\n",
       "</tr>\n",
       "<tr>\n",
       "  <th>IsMarried</th>  <td>   -1.8528</td> <td>    0.063</td> <td>  -29.345</td> <td> 0.000</td> <td>   -1.977</td> <td>   -1.729</td>\n",
       "</tr>\n",
       "<tr>\n",
       "  <th>IsDiesel</th>   <td>    6.9110</td> <td>    0.088</td> <td>   78.955</td> <td> 0.000</td> <td>    6.739</td> <td>    7.083</td>\n",
       "</tr>\n",
       "</table>\n",
       "<table class=\"simpletable\">\n",
       "<tr>\n",
       "  <th>Omnibus:</th>       <td>2420.251</td> <th>  Durbin-Watson:     </th> <td>   1.889</td> \n",
       "</tr>\n",
       "<tr>\n",
       "  <th>Prob(Omnibus):</th>  <td> 0.000</td>  <th>  Jarque-Bera (JB):  </th> <td>34116.962</td>\n",
       "</tr>\n",
       "<tr>\n",
       "  <th>Skew:</th>           <td> 0.301</td>  <th>  Prob(JB):          </th> <td>    0.00</td> \n",
       "</tr>\n",
       "<tr>\n",
       "  <th>Kurtosis:</th>       <td>10.293</td>  <th>  Cond. No.          </th> <td>    68.6</td> \n",
       "</tr>\n",
       "</table>"
      ],
      "text/plain": [
       "<class 'statsmodels.iolib.summary.Summary'>\n",
       "\"\"\"\n",
       "                            OLS Regression Results                            \n",
       "==============================================================================\n",
       "Dep. Variable:            Losses_akar   R-squared:                       0.617\n",
       "Model:                            OLS   Adj. R-squared:                  0.616\n",
       "Method:                 Least Squares   F-statistic:                     4095.\n",
       "Date:                Wed, 30 May 2018   Prob (F-statistic):               0.00\n",
       "Time:                        14:09:07   Log-Likelihood:                -41962.\n",
       "No. Observations:               15290   AIC:                         8.394e+04\n",
       "Df Residuals:                   15283   BIC:                         8.399e+04\n",
       "Df Model:                           6                                         \n",
       "Covariance Type:            nonrobust                                         \n",
       "==============================================================================\n",
       "                 coef    std err          t      P>|t|      [0.025      0.975]\n",
       "------------------------------------------------------------------------------\n",
       "Intercept     25.4571      0.166    153.413      0.000      25.132      25.782\n",
       "AgeDE         -8.5187      0.142    -59.979      0.000      -8.797      -8.240\n",
       "VehicleNo     -0.0212      0.032     -0.663      0.507      -0.084       0.041\n",
       "VehicleAge    -0.3281      0.008    -40.578      0.000      -0.344      -0.312\n",
       "IsGender      -1.1234      0.062    -18.087      0.000      -1.245      -1.002\n",
       "IsMarried     -1.8528      0.063    -29.345      0.000      -1.977      -1.729\n",
       "IsDiesel       6.9110      0.088     78.955      0.000       6.739       7.083\n",
       "==============================================================================\n",
       "Omnibus:                     2420.251   Durbin-Watson:                   1.889\n",
       "Prob(Omnibus):                  0.000   Jarque-Bera (JB):            34116.962\n",
       "Skew:                           0.301   Prob(JB):                         0.00\n",
       "Kurtosis:                      10.293   Cond. No.                         68.6\n",
       "==============================================================================\n",
       "\n",
       "Warnings:\n",
       "[1] Standard Errors assume that the covariance matrix of the errors is correctly specified.\n",
       "\"\"\""
      ]
     },
     "execution_count": 69,
     "metadata": {},
     "output_type": "execute_result"
    }
   ],
   "source": [
    "data3 = df[['AgeDE','Age','YearsDE','VehicleNo', 'VehicleAge', 'IsGender', 'IsMarried', 'IsDiesel','Losses_akar']]\n",
    "data3.head()\n",
    "lm=smf.ols(formula='Losses_akar~AgeDE+VehicleNo+VehicleAge+IsGender+IsMarried+IsDiesel', data=data3).fit()\n",
    "lm.summary()"
   ]
  },
  {
   "cell_type": "code",
   "execution_count": 70,
   "metadata": {
    "colab": {
     "autoexec": {
      "startup": false,
      "wait_interval": 0
     },
     "base_uri": "https://localhost:8080/",
     "height": 460
    },
    "colab_type": "code",
    "executionInfo": {
     "elapsed": 975,
     "status": "ok",
     "timestamp": 1527641221715,
     "user": {
      "displayName": "Nur Chamid",
      "photoUrl": "//lh5.googleusercontent.com/-TsgwUJzaJJg/AAAAAAAAAAI/AAAAAAAAARQ/Ngn5q-ighvg/s50-c-k-no/photo.jpg",
      "userId": "109513328284773316398"
     },
     "user_tz": -420
    },
    "id": "Oi4ZmexsyjF3",
    "outputId": "b661db4e-ac8c-4575-8383-70b9d7de0885"
   },
   "outputs": [
    {
     "data": {
      "text/html": [
       "<table class=\"simpletable\">\n",
       "<caption>OLS Regression Results</caption>\n",
       "<tr>\n",
       "  <th>Dep. Variable:</th>       <td>Losses_akar</td>   <th>  R-squared:         </th> <td>   0.653</td> \n",
       "</tr>\n",
       "<tr>\n",
       "  <th>Model:</th>                   <td>OLS</td>       <th>  Adj. R-squared:    </th> <td>   0.653</td> \n",
       "</tr>\n",
       "<tr>\n",
       "  <th>Method:</th>             <td>Least Squares</td>  <th>  F-statistic:       </th> <td>   5761.</td> \n",
       "</tr>\n",
       "<tr>\n",
       "  <th>Date:</th>             <td>Wed, 30 May 2018</td> <th>  Prob (F-statistic):</th>  <td>  0.00</td>  \n",
       "</tr>\n",
       "<tr>\n",
       "  <th>Time:</th>                 <td>14:09:07</td>     <th>  Log-Likelihood:    </th> <td> -41189.</td> \n",
       "</tr>\n",
       "<tr>\n",
       "  <th>No. Observations:</th>      <td> 15290</td>      <th>  AIC:               </th> <td>8.239e+04</td>\n",
       "</tr>\n",
       "<tr>\n",
       "  <th>Df Residuals:</th>          <td> 15284</td>      <th>  BIC:               </th> <td>8.244e+04</td>\n",
       "</tr>\n",
       "<tr>\n",
       "  <th>Df Model:</th>              <td>     5</td>      <th>                     </th>     <td> </td>    \n",
       "</tr>\n",
       "<tr>\n",
       "  <th>Covariance Type:</th>      <td>nonrobust</td>    <th>                     </th>     <td> </td>    \n",
       "</tr>\n",
       "</table>\n",
       "<table class=\"simpletable\">\n",
       "<tr>\n",
       "       <td></td>         <th>coef</th>     <th>std err</th>      <th>t</th>      <th>P>|t|</th>  <th>[0.025</th>    <th>0.975]</th>  \n",
       "</tr>\n",
       "<tr>\n",
       "  <th>Intercept</th>  <td>   25.1083</td> <td>    0.124</td> <td>  202.579</td> <td> 0.000</td> <td>   24.865</td> <td>   25.351</td>\n",
       "</tr>\n",
       "<tr>\n",
       "  <th>YearsDE</th>    <td>   -0.1397</td> <td>    0.002</td> <td>  -74.872</td> <td> 0.000</td> <td>   -0.143</td> <td>   -0.136</td>\n",
       "</tr>\n",
       "<tr>\n",
       "  <th>VehicleAge</th> <td>   -0.3420</td> <td>    0.008</td> <td>  -45.236</td> <td> 0.000</td> <td>   -0.357</td> <td>   -0.327</td>\n",
       "</tr>\n",
       "<tr>\n",
       "  <th>IsGender</th>   <td>   -1.1961</td> <td>    0.059</td> <td>  -20.252</td> <td> 0.000</td> <td>   -1.312</td> <td>   -1.080</td>\n",
       "</tr>\n",
       "<tr>\n",
       "  <th>IsMarried</th>  <td>   -1.9282</td> <td>    0.060</td> <td>  -32.137</td> <td> 0.000</td> <td>   -2.046</td> <td>   -1.811</td>\n",
       "</tr>\n",
       "<tr>\n",
       "  <th>IsDiesel</th>   <td>    6.5085</td> <td>    0.083</td> <td>   78.436</td> <td> 0.000</td> <td>    6.346</td> <td>    6.671</td>\n",
       "</tr>\n",
       "</table>\n",
       "<table class=\"simpletable\">\n",
       "<tr>\n",
       "  <th>Omnibus:</th>       <td>3265.510</td> <th>  Durbin-Watson:     </th> <td>   1.881</td> \n",
       "</tr>\n",
       "<tr>\n",
       "  <th>Prob(Omnibus):</th>  <td> 0.000</td>  <th>  Jarque-Bera (JB):  </th> <td>51256.951</td>\n",
       "</tr>\n",
       "<tr>\n",
       "  <th>Skew:</th>           <td> 0.595</td>  <th>  Prob(JB):          </th> <td>    0.00</td> \n",
       "</tr>\n",
       "<tr>\n",
       "  <th>Kurtosis:</th>       <td>11.890</td>  <th>  Cond. No.          </th> <td>    149.</td> \n",
       "</tr>\n",
       "</table>"
      ],
      "text/plain": [
       "<class 'statsmodels.iolib.summary.Summary'>\n",
       "\"\"\"\n",
       "                            OLS Regression Results                            \n",
       "==============================================================================\n",
       "Dep. Variable:            Losses_akar   R-squared:                       0.653\n",
       "Model:                            OLS   Adj. R-squared:                  0.653\n",
       "Method:                 Least Squares   F-statistic:                     5761.\n",
       "Date:                Wed, 30 May 2018   Prob (F-statistic):               0.00\n",
       "Time:                        14:09:07   Log-Likelihood:                -41189.\n",
       "No. Observations:               15290   AIC:                         8.239e+04\n",
       "Df Residuals:                   15284   BIC:                         8.244e+04\n",
       "Df Model:                           5                                         \n",
       "Covariance Type:            nonrobust                                         \n",
       "==============================================================================\n",
       "                 coef    std err          t      P>|t|      [0.025      0.975]\n",
       "------------------------------------------------------------------------------\n",
       "Intercept     25.1083      0.124    202.579      0.000      24.865      25.351\n",
       "YearsDE       -0.1397      0.002    -74.872      0.000      -0.143      -0.136\n",
       "VehicleAge    -0.3420      0.008    -45.236      0.000      -0.357      -0.327\n",
       "IsGender      -1.1961      0.059    -20.252      0.000      -1.312      -1.080\n",
       "IsMarried     -1.9282      0.060    -32.137      0.000      -2.046      -1.811\n",
       "IsDiesel       6.5085      0.083     78.436      0.000       6.346       6.671\n",
       "==============================================================================\n",
       "Omnibus:                     3265.510   Durbin-Watson:                   1.881\n",
       "Prob(Omnibus):                  0.000   Jarque-Bera (JB):            51256.951\n",
       "Skew:                           0.595   Prob(JB):                         0.00\n",
       "Kurtosis:                      11.890   Cond. No.                         149.\n",
       "==============================================================================\n",
       "\n",
       "Warnings:\n",
       "[1] Standard Errors assume that the covariance matrix of the errors is correctly specified.\n",
       "\"\"\""
      ]
     },
     "execution_count": 70,
     "metadata": {},
     "output_type": "execute_result"
    }
   ],
   "source": [
    "lm=smf.ols(formula='Losses_akar~YearsDE+VehicleAge+IsGender+IsMarried+IsDiesel', data=data3).fit()\n",
    "lm.summary()"
   ]
  },
  {
   "cell_type": "code",
   "execution_count": null,
   "metadata": {
    "colab": {
     "autoexec": {
      "startup": false,
      "wait_interval": 0
     }
    },
    "colab_type": "code",
    "id": "jXw9m0yEyjGC"
   },
   "outputs": [],
   "source": []
  },
  {
   "cell_type": "markdown",
   "metadata": {
    "colab_type": "text",
    "id": "UXF28Ozbmnf-"
   },
   "source": [
    "# Transformasi Data (Age dan Losses)"
   ]
  },
  {
   "cell_type": "code",
   "execution_count": 71,
   "metadata": {
    "colab": {
     "autoexec": {
      "startup": false,
      "wait_interval": 0
     },
     "base_uri": "https://localhost:8080/",
     "height": 180
    },
    "colab_type": "code",
    "executionInfo": {
     "elapsed": 903,
     "status": "error",
     "timestamp": 1527658662948,
     "user": {
      "displayName": "Yustiana Indah Pratiwi",
      "photoUrl": "//lh5.googleusercontent.com/-D5oRNcZgod0/AAAAAAAAAAI/AAAAAAAAARs/yJI_IqMfesM/s50-c-k-no/photo.jpg",
      "userId": "106033827385792415327"
     },
     "user_tz": -420
    },
    "id": "lSz3TwyGmpaz",
    "outputId": "56cd1ff0-3739-4f74-f959-d39bf38b54fb"
   },
   "outputs": [],
   "source": [
    "data5 = df\n",
    "data5['New_Losses'] = data5.Losses"
   ]
  },
  {
   "cell_type": "code",
   "execution_count": 72,
   "metadata": {
    "colab": {
     "autoexec": {
      "startup": false,
      "wait_interval": 0
     }
    },
    "colab_type": "code",
    "id": "7wIYSi7nnCR7"
   },
   "outputs": [],
   "source": [
    "data5.loc[df.Losses>2000,'New_Losses']=2000"
   ]
  },
  {
   "cell_type": "code",
   "execution_count": 73,
   "metadata": {
    "colab": {
     "autoexec": {
      "startup": false,
      "wait_interval": 0
     }
    },
    "colab_type": "code",
    "id": "RhwlQnHpnTEh"
   },
   "outputs": [],
   "source": [
    "# data5.head()\n",
    "data5['New_Age'] = data5.Age"
   ]
  },
  {
   "cell_type": "code",
   "execution_count": 74,
   "metadata": {
    "colab": {
     "autoexec": {
      "startup": false,
      "wait_interval": 0
     }
    },
    "colab_type": "code",
    "id": "HcwbvmXgn7kN"
   },
   "outputs": [],
   "source": [
    "data5.loc[(data5.Age > 14) & (data5.Age <= 24),'New_Age']= 19.5\n",
    "data5.loc[(data5.Age > 24) & (data5.Age <= 34),'New_Age']= 29.5\n",
    "data5.loc[(data5.Age > 34) & (data5.Age <= 44),'New_Age']= 39.5\n",
    "data5.loc[(data5.Age > 44) & (data5.Age <= 54),'New_Age']= 49.5\n",
    "data5.loc[(data5.Age > 54) & (data5.Age <= 64),'New_Age']= 59.5\n",
    "data5.loc[(data5.Age > 64) & (data5.Age <= 74),'New_Age']= 69.5"
   ]
  },
  {
   "cell_type": "code",
   "execution_count": 75,
   "metadata": {
    "colab": {
     "autoexec": {
      "startup": false,
      "wait_interval": 0
     },
     "base_uri": "https://localhost:8080/",
     "height": 217
    },
    "colab_type": "code",
    "executionInfo": {
     "elapsed": 914,
     "status": "error",
     "timestamp": 1527658656747,
     "user": {
      "displayName": "Yustiana Indah Pratiwi",
      "photoUrl": "//lh5.googleusercontent.com/-D5oRNcZgod0/AAAAAAAAAAI/AAAAAAAAARs/yJI_IqMfesM/s50-c-k-no/photo.jpg",
      "userId": "106033827385792415327"
     },
     "user_tz": -420
    },
    "id": "pVYddcnEGBf0",
    "outputId": "59bffde3-4375-43a0-e086-817faf6c1b81"
   },
   "outputs": [
    {
     "data": {
      "text/html": [
       "<table class=\"simpletable\">\n",
       "<caption>OLS Regression Results</caption>\n",
       "<tr>\n",
       "  <th>Dep. Variable:</th>     <td>New_Losses_Log</td>  <th>  R-squared:         </th> <td>   0.665</td> \n",
       "</tr>\n",
       "<tr>\n",
       "  <th>Model:</th>                   <td>OLS</td>       <th>  Adj. R-squared:    </th> <td>   0.664</td> \n",
       "</tr>\n",
       "<tr>\n",
       "  <th>Method:</th>             <td>Least Squares</td>  <th>  F-statistic:       </th> <td>   4325.</td> \n",
       "</tr>\n",
       "<tr>\n",
       "  <th>Date:</th>             <td>Wed, 30 May 2018</td> <th>  Prob (F-statistic):</th>  <td>  0.00</td>  \n",
       "</tr>\n",
       "<tr>\n",
       "  <th>Time:</th>                 <td>14:09:07</td>     <th>  Log-Likelihood:    </th> <td> -40759.</td> \n",
       "</tr>\n",
       "<tr>\n",
       "  <th>No. Observations:</th>      <td> 15290</td>      <th>  AIC:               </th> <td>8.153e+04</td>\n",
       "</tr>\n",
       "<tr>\n",
       "  <th>Df Residuals:</th>          <td> 15282</td>      <th>  BIC:               </th> <td>8.160e+04</td>\n",
       "</tr>\n",
       "<tr>\n",
       "  <th>Df Model:</th>              <td>     7</td>      <th>                     </th>     <td> </td>    \n",
       "</tr>\n",
       "<tr>\n",
       "  <th>Covariance Type:</th>      <td>nonrobust</td>    <th>                     </th>     <td> </td>    \n",
       "</tr>\n",
       "</table>\n",
       "<table class=\"simpletable\">\n",
       "<tr>\n",
       "       <td></td>         <th>coef</th>     <th>std err</th>      <th>t</th>      <th>P>|t|</th>  <th>[0.025</th>    <th>0.975]</th>  \n",
       "</tr>\n",
       "<tr>\n",
       "  <th>Intercept</th>  <td>   25.9995</td> <td>    0.408</td> <td>   63.707</td> <td> 0.000</td> <td>   25.200</td> <td>   26.799</td>\n",
       "</tr>\n",
       "<tr>\n",
       "  <th>Age</th>        <td>   -0.0507</td> <td>    0.021</td> <td>   -2.463</td> <td> 0.014</td> <td>   -0.091</td> <td>   -0.010</td>\n",
       "</tr>\n",
       "<tr>\n",
       "  <th>YearsDE</th>    <td>   -0.0877</td> <td>    0.021</td> <td>   -4.176</td> <td> 0.000</td> <td>   -0.129</td> <td>   -0.047</td>\n",
       "</tr>\n",
       "<tr>\n",
       "  <th>VehicleNo</th>  <td>    0.0010</td> <td>    0.030</td> <td>    0.035</td> <td> 0.972</td> <td>   -0.057</td> <td>    0.059</td>\n",
       "</tr>\n",
       "<tr>\n",
       "  <th>VehicleAge</th> <td>   -0.3423</td> <td>    0.007</td> <td>  -46.299</td> <td> 0.000</td> <td>   -0.357</td> <td>   -0.328</td>\n",
       "</tr>\n",
       "<tr>\n",
       "  <th>IsGender</th>   <td>   -1.1841</td> <td>    0.057</td> <td>  -20.617</td> <td> 0.000</td> <td>   -1.297</td> <td>   -1.072</td>\n",
       "</tr>\n",
       "<tr>\n",
       "  <th>IsMarried</th>  <td>   -1.9113</td> <td>    0.058</td> <td>  -32.757</td> <td> 0.000</td> <td>   -2.026</td> <td>   -1.797</td>\n",
       "</tr>\n",
       "<tr>\n",
       "  <th>IsDiesel</th>   <td>    6.4804</td> <td>    0.081</td> <td>   80.094</td> <td> 0.000</td> <td>    6.322</td> <td>    6.639</td>\n",
       "</tr>\n",
       "</table>\n",
       "<table class=\"simpletable\">\n",
       "<tr>\n",
       "  <th>Omnibus:</th>       <td>885.727</td> <th>  Durbin-Watson:     </th> <td>   1.940</td>\n",
       "</tr>\n",
       "<tr>\n",
       "  <th>Prob(Omnibus):</th> <td> 0.000</td>  <th>  Jarque-Bera (JB):  </th> <td>3825.466</td>\n",
       "</tr>\n",
       "<tr>\n",
       "  <th>Skew:</th>          <td>-0.032</td>  <th>  Prob(JB):          </th> <td>    0.00</td>\n",
       "</tr>\n",
       "<tr>\n",
       "  <th>Kurtosis:</th>      <td> 5.450</td>  <th>  Cond. No.          </th> <td>    802.</td>\n",
       "</tr>\n",
       "</table>"
      ],
      "text/plain": [
       "<class 'statsmodels.iolib.summary.Summary'>\n",
       "\"\"\"\n",
       "                            OLS Regression Results                            \n",
       "==============================================================================\n",
       "Dep. Variable:         New_Losses_Log   R-squared:                       0.665\n",
       "Model:                            OLS   Adj. R-squared:                  0.664\n",
       "Method:                 Least Squares   F-statistic:                     4325.\n",
       "Date:                Wed, 30 May 2018   Prob (F-statistic):               0.00\n",
       "Time:                        14:09:07   Log-Likelihood:                -40759.\n",
       "No. Observations:               15290   AIC:                         8.153e+04\n",
       "Df Residuals:                   15282   BIC:                         8.160e+04\n",
       "Df Model:                           7                                         \n",
       "Covariance Type:            nonrobust                                         \n",
       "==============================================================================\n",
       "                 coef    std err          t      P>|t|      [0.025      0.975]\n",
       "------------------------------------------------------------------------------\n",
       "Intercept     25.9995      0.408     63.707      0.000      25.200      26.799\n",
       "Age           -0.0507      0.021     -2.463      0.014      -0.091      -0.010\n",
       "YearsDE       -0.0877      0.021     -4.176      0.000      -0.129      -0.047\n",
       "VehicleNo      0.0010      0.030      0.035      0.972      -0.057       0.059\n",
       "VehicleAge    -0.3423      0.007    -46.299      0.000      -0.357      -0.328\n",
       "IsGender      -1.1841      0.057    -20.617      0.000      -1.297      -1.072\n",
       "IsMarried     -1.9113      0.058    -32.757      0.000      -2.026      -1.797\n",
       "IsDiesel       6.4804      0.081     80.094      0.000       6.322       6.639\n",
       "==============================================================================\n",
       "Omnibus:                      885.727   Durbin-Watson:                   1.940\n",
       "Prob(Omnibus):                  0.000   Jarque-Bera (JB):             3825.466\n",
       "Skew:                          -0.032   Prob(JB):                         0.00\n",
       "Kurtosis:                       5.450   Cond. No.                         802.\n",
       "==============================================================================\n",
       "\n",
       "Warnings:\n",
       "[1] Standard Errors assume that the covariance matrix of the errors is correctly specified.\n",
       "\"\"\""
      ]
     },
     "execution_count": 75,
     "metadata": {},
     "output_type": "execute_result"
    }
   ],
   "source": [
    "data5['New_Losses_Log'] = np.sqrt(data5.New_Losses)\n",
    "lm=smf.ols(formula='New_Losses_Log~Age+YearsDE+VehicleNo+VehicleAge+IsGender+IsMarried+IsDiesel', data=data5).fit()\n",
    "lm.summary()"
   ]
  },
  {
   "cell_type": "code",
   "execution_count": 76,
   "metadata": {
    "colab": {
     "autoexec": {
      "startup": false,
      "wait_interval": 0
     },
     "base_uri": "https://localhost:8080/",
     "height": 502
    },
    "colab_type": "code",
    "executionInfo": {
     "elapsed": 937,
     "status": "ok",
     "timestamp": 1527650888656,
     "user": {
      "displayName": "Nur Chamid",
      "photoUrl": "//lh5.googleusercontent.com/-TsgwUJzaJJg/AAAAAAAAAAI/AAAAAAAAARQ/Ngn5q-ighvg/s50-c-k-no/photo.jpg",
      "userId": "109513328284773316398"
     },
     "user_tz": -420
    },
    "id": "HO1N-TDdELN5",
    "outputId": "7ad58711-2380-45dd-9d14-39ce3cdb9d88"
   },
   "outputs": [
    {
     "data": {
      "text/html": [
       "<table class=\"simpletable\">\n",
       "<caption>OLS Regression Results</caption>\n",
       "<tr>\n",
       "  <th>Dep. Variable:</th>       <td>New_Losses</td>    <th>  R-squared:         </th> <td>   0.682</td> \n",
       "</tr>\n",
       "<tr>\n",
       "  <th>Model:</th>                   <td>OLS</td>       <th>  Adj. R-squared:    </th> <td>   0.682</td> \n",
       "</tr>\n",
       "<tr>\n",
       "  <th>Method:</th>             <td>Least Squares</td>  <th>  F-statistic:       </th> <td>   4677.</td> \n",
       "</tr>\n",
       "<tr>\n",
       "  <th>Date:</th>             <td>Wed, 30 May 2018</td> <th>  Prob (F-statistic):</th>  <td>  0.00</td>  \n",
       "</tr>\n",
       "<tr>\n",
       "  <th>Time:</th>                 <td>14:09:07</td>     <th>  Log-Likelihood:    </th> <td> -96859.</td> \n",
       "</tr>\n",
       "<tr>\n",
       "  <th>No. Observations:</th>      <td> 15290</td>      <th>  AIC:               </th> <td>1.937e+05</td>\n",
       "</tr>\n",
       "<tr>\n",
       "  <th>Df Residuals:</th>          <td> 15282</td>      <th>  BIC:               </th> <td>1.938e+05</td>\n",
       "</tr>\n",
       "<tr>\n",
       "  <th>Df Model:</th>              <td>     7</td>      <th>                     </th>     <td> </td>    \n",
       "</tr>\n",
       "<tr>\n",
       "  <th>Covariance Type:</th>      <td>nonrobust</td>    <th>                     </th>     <td> </td>    \n",
       "</tr>\n",
       "</table>\n",
       "<table class=\"simpletable\">\n",
       "<tr>\n",
       "       <td></td>         <th>coef</th>     <th>std err</th>      <th>t</th>      <th>P>|t|</th>  <th>[0.025</th>    <th>0.975]</th>  \n",
       "</tr>\n",
       "<tr>\n",
       "  <th>Intercept</th>  <td>  601.6805</td> <td>    8.831</td> <td>   68.129</td> <td> 0.000</td> <td>  584.370</td> <td>  618.991</td>\n",
       "</tr>\n",
       "<tr>\n",
       "  <th>New_Age</th>    <td>   -0.2910</td> <td>    0.364</td> <td>   -0.799</td> <td> 0.424</td> <td>   -1.005</td> <td>    0.423</td>\n",
       "</tr>\n",
       "<tr>\n",
       "  <th>YearsDE</th>    <td>   -4.3221</td> <td>    0.376</td> <td>  -11.504</td> <td> 0.000</td> <td>   -5.059</td> <td>   -3.586</td>\n",
       "</tr>\n",
       "<tr>\n",
       "  <th>VehicleNo</th>  <td>   -0.5173</td> <td>    1.157</td> <td>   -0.447</td> <td> 0.655</td> <td>   -2.786</td> <td>    1.751</td>\n",
       "</tr>\n",
       "<tr>\n",
       "  <th>VehicleAge</th> <td>  -11.9302</td> <td>    0.289</td> <td>  -41.300</td> <td> 0.000</td> <td>  -12.496</td> <td>  -11.364</td>\n",
       "</tr>\n",
       "<tr>\n",
       "  <th>IsGender</th>   <td>  -50.1783</td> <td>    2.252</td> <td>  -22.282</td> <td> 0.000</td> <td>  -54.592</td> <td>  -45.764</td>\n",
       "</tr>\n",
       "<tr>\n",
       "  <th>IsMarried</th>  <td>  -77.8120</td> <td>    2.288</td> <td>  -34.010</td> <td> 0.000</td> <td>  -82.297</td> <td>  -73.327</td>\n",
       "</tr>\n",
       "<tr>\n",
       "  <th>IsDiesel</th>   <td>  301.2458</td> <td>    3.166</td> <td>   95.137</td> <td> 0.000</td> <td>  295.039</td> <td>  307.452</td>\n",
       "</tr>\n",
       "</table>\n",
       "<table class=\"simpletable\">\n",
       "<tr>\n",
       "  <th>Omnibus:</th>       <td>9171.233</td> <th>  Durbin-Watson:     </th>  <td>   1.836</td> \n",
       "</tr>\n",
       "<tr>\n",
       "  <th>Prob(Omnibus):</th>  <td> 0.000</td>  <th>  Jarque-Bera (JB):  </th> <td>273633.791</td>\n",
       "</tr>\n",
       "<tr>\n",
       "  <th>Skew:</th>           <td> 2.368</td>  <th>  Prob(JB):          </th>  <td>    0.00</td> \n",
       "</tr>\n",
       "<tr>\n",
       "  <th>Kurtosis:</th>       <td>23.176</td>  <th>  Cond. No.          </th>  <td>    448.</td> \n",
       "</tr>\n",
       "</table>"
      ],
      "text/plain": [
       "<class 'statsmodels.iolib.summary.Summary'>\n",
       "\"\"\"\n",
       "                            OLS Regression Results                            \n",
       "==============================================================================\n",
       "Dep. Variable:             New_Losses   R-squared:                       0.682\n",
       "Model:                            OLS   Adj. R-squared:                  0.682\n",
       "Method:                 Least Squares   F-statistic:                     4677.\n",
       "Date:                Wed, 30 May 2018   Prob (F-statistic):               0.00\n",
       "Time:                        14:09:07   Log-Likelihood:                -96859.\n",
       "No. Observations:               15290   AIC:                         1.937e+05\n",
       "Df Residuals:                   15282   BIC:                         1.938e+05\n",
       "Df Model:                           7                                         \n",
       "Covariance Type:            nonrobust                                         \n",
       "==============================================================================\n",
       "                 coef    std err          t      P>|t|      [0.025      0.975]\n",
       "------------------------------------------------------------------------------\n",
       "Intercept    601.6805      8.831     68.129      0.000     584.370     618.991\n",
       "New_Age       -0.2910      0.364     -0.799      0.424      -1.005       0.423\n",
       "YearsDE       -4.3221      0.376    -11.504      0.000      -5.059      -3.586\n",
       "VehicleNo     -0.5173      1.157     -0.447      0.655      -2.786       1.751\n",
       "VehicleAge   -11.9302      0.289    -41.300      0.000     -12.496     -11.364\n",
       "IsGender     -50.1783      2.252    -22.282      0.000     -54.592     -45.764\n",
       "IsMarried    -77.8120      2.288    -34.010      0.000     -82.297     -73.327\n",
       "IsDiesel     301.2458      3.166     95.137      0.000     295.039     307.452\n",
       "==============================================================================\n",
       "Omnibus:                     9171.233   Durbin-Watson:                   1.836\n",
       "Prob(Omnibus):                  0.000   Jarque-Bera (JB):           273633.791\n",
       "Skew:                           2.368   Prob(JB):                         0.00\n",
       "Kurtosis:                      23.176   Cond. No.                         448.\n",
       "==============================================================================\n",
       "\n",
       "Warnings:\n",
       "[1] Standard Errors assume that the covariance matrix of the errors is correctly specified.\n",
       "\"\"\""
      ]
     },
     "execution_count": 76,
     "metadata": {},
     "output_type": "execute_result"
    }
   ],
   "source": [
    "lm=smf.ols(formula='New_Losses~New_Age+YearsDE+VehicleNo+VehicleAge+IsGender+IsMarried+IsDiesel', data=data5).fit()\n",
    "lm.summary()"
   ]
  },
  {
   "cell_type": "code",
   "execution_count": 77,
   "metadata": {
    "colab": {
     "autoexec": {
      "startup": false,
      "wait_interval": 0
     },
     "base_uri": "https://localhost:8080/",
     "height": 460
    },
    "colab_type": "code",
    "executionInfo": {
     "elapsed": 873,
     "status": "ok",
     "timestamp": 1527650550235,
     "user": {
      "displayName": "Nur Chamid",
      "photoUrl": "//lh5.googleusercontent.com/-TsgwUJzaJJg/AAAAAAAAAAI/AAAAAAAAARQ/Ngn5q-ighvg/s50-c-k-no/photo.jpg",
      "userId": "109513328284773316398"
     },
     "user_tz": -420
    },
    "id": "OhT0wMrREWaY",
    "outputId": "147f4817-ee3b-4e30-90d8-88253f570e69"
   },
   "outputs": [
    {
     "data": {
      "text/html": [
       "<table class=\"simpletable\">\n",
       "<caption>OLS Regression Results</caption>\n",
       "<tr>\n",
       "  <th>Dep. Variable:</th>       <td>New_Losses</td>    <th>  R-squared:         </th> <td>   0.682</td> \n",
       "</tr>\n",
       "<tr>\n",
       "  <th>Model:</th>                   <td>OLS</td>       <th>  Adj. R-squared:    </th> <td>   0.682</td> \n",
       "</tr>\n",
       "<tr>\n",
       "  <th>Method:</th>             <td>Least Squares</td>  <th>  F-statistic:       </th> <td>   6549.</td> \n",
       "</tr>\n",
       "<tr>\n",
       "  <th>Date:</th>             <td>Wed, 30 May 2018</td> <th>  Prob (F-statistic):</th>  <td>  0.00</td>  \n",
       "</tr>\n",
       "<tr>\n",
       "  <th>Time:</th>                 <td>14:09:08</td>     <th>  Log-Likelihood:    </th> <td> -96859.</td> \n",
       "</tr>\n",
       "<tr>\n",
       "  <th>No. Observations:</th>      <td> 15290</td>      <th>  AIC:               </th> <td>1.937e+05</td>\n",
       "</tr>\n",
       "<tr>\n",
       "  <th>Df Residuals:</th>          <td> 15284</td>      <th>  BIC:               </th> <td>1.938e+05</td>\n",
       "</tr>\n",
       "<tr>\n",
       "  <th>Df Model:</th>              <td>     5</td>      <th>                     </th>     <td> </td>    \n",
       "</tr>\n",
       "<tr>\n",
       "  <th>Covariance Type:</th>      <td>nonrobust</td>    <th>                     </th>     <td> </td>    \n",
       "</tr>\n",
       "</table>\n",
       "<table class=\"simpletable\">\n",
       "<tr>\n",
       "       <td></td>         <th>coef</th>     <th>std err</th>      <th>t</th>      <th>P>|t|</th>  <th>[0.025</th>    <th>0.975]</th>  \n",
       "</tr>\n",
       "<tr>\n",
       "  <th>Intercept</th>  <td>  594.8973</td> <td>    4.726</td> <td>  125.888</td> <td> 0.000</td> <td>  585.635</td> <td>  604.160</td>\n",
       "</tr>\n",
       "<tr>\n",
       "  <th>YearsDE</th>    <td>   -4.6172</td> <td>    0.071</td> <td>  -64.910</td> <td> 0.000</td> <td>   -4.757</td> <td>   -4.478</td>\n",
       "</tr>\n",
       "<tr>\n",
       "  <th>VehicleAge</th> <td>  -11.9166</td> <td>    0.288</td> <td>  -41.338</td> <td> 0.000</td> <td>  -12.482</td> <td>  -11.352</td>\n",
       "</tr>\n",
       "<tr>\n",
       "  <th>IsGender</th>   <td>  -50.1798</td> <td>    2.252</td> <td>  -22.284</td> <td> 0.000</td> <td>  -54.594</td> <td>  -45.766</td>\n",
       "</tr>\n",
       "<tr>\n",
       "  <th>IsMarried</th>  <td>  -77.7913</td> <td>    2.288</td> <td>  -34.005</td> <td> 0.000</td> <td>  -82.275</td> <td>  -73.307</td>\n",
       "</tr>\n",
       "<tr>\n",
       "  <th>IsDiesel</th>   <td>  301.3471</td> <td>    3.164</td> <td>   95.250</td> <td> 0.000</td> <td>  295.146</td> <td>  307.548</td>\n",
       "</tr>\n",
       "</table>\n",
       "<table class=\"simpletable\">\n",
       "<tr>\n",
       "  <th>Omnibus:</th>       <td>9176.951</td> <th>  Durbin-Watson:     </th>  <td>   1.836</td> \n",
       "</tr>\n",
       "<tr>\n",
       "  <th>Prob(Omnibus):</th>  <td> 0.000</td>  <th>  Jarque-Bera (JB):  </th> <td>274234.809</td>\n",
       "</tr>\n",
       "<tr>\n",
       "  <th>Skew:</th>           <td> 2.370</td>  <th>  Prob(JB):          </th>  <td>    0.00</td> \n",
       "</tr>\n",
       "<tr>\n",
       "  <th>Kurtosis:</th>       <td>23.199</td>  <th>  Cond. No.          </th>  <td>    149.</td> \n",
       "</tr>\n",
       "</table>"
      ],
      "text/plain": [
       "<class 'statsmodels.iolib.summary.Summary'>\n",
       "\"\"\"\n",
       "                            OLS Regression Results                            \n",
       "==============================================================================\n",
       "Dep. Variable:             New_Losses   R-squared:                       0.682\n",
       "Model:                            OLS   Adj. R-squared:                  0.682\n",
       "Method:                 Least Squares   F-statistic:                     6549.\n",
       "Date:                Wed, 30 May 2018   Prob (F-statistic):               0.00\n",
       "Time:                        14:09:08   Log-Likelihood:                -96859.\n",
       "No. Observations:               15290   AIC:                         1.937e+05\n",
       "Df Residuals:                   15284   BIC:                         1.938e+05\n",
       "Df Model:                           5                                         \n",
       "Covariance Type:            nonrobust                                         \n",
       "==============================================================================\n",
       "                 coef    std err          t      P>|t|      [0.025      0.975]\n",
       "------------------------------------------------------------------------------\n",
       "Intercept    594.8973      4.726    125.888      0.000     585.635     604.160\n",
       "YearsDE       -4.6172      0.071    -64.910      0.000      -4.757      -4.478\n",
       "VehicleAge   -11.9166      0.288    -41.338      0.000     -12.482     -11.352\n",
       "IsGender     -50.1798      2.252    -22.284      0.000     -54.594     -45.766\n",
       "IsMarried    -77.7913      2.288    -34.005      0.000     -82.275     -73.307\n",
       "IsDiesel     301.3471      3.164     95.250      0.000     295.146     307.548\n",
       "==============================================================================\n",
       "Omnibus:                     9176.951   Durbin-Watson:                   1.836\n",
       "Prob(Omnibus):                  0.000   Jarque-Bera (JB):           274234.809\n",
       "Skew:                           2.370   Prob(JB):                         0.00\n",
       "Kurtosis:                      23.199   Cond. No.                         149.\n",
       "==============================================================================\n",
       "\n",
       "Warnings:\n",
       "[1] Standard Errors assume that the covariance matrix of the errors is correctly specified.\n",
       "\"\"\""
      ]
     },
     "execution_count": 77,
     "metadata": {},
     "output_type": "execute_result"
    }
   ],
   "source": [
    "lm=smf.ols(formula='New_Losses~YearsDE+VehicleAge+IsGender+IsMarried+IsDiesel', data=data5).fit()\n",
    "lm.summary()"
   ]
  },
  {
   "cell_type": "code",
   "execution_count": 78,
   "metadata": {
    "colab": {
     "autoexec": {
      "startup": false,
      "wait_interval": 0
     },
     "base_uri": "https://localhost:8080/",
     "height": 180
    },
    "colab_type": "code",
    "executionInfo": {
     "elapsed": 976,
     "status": "error",
     "timestamp": 1527658526070,
     "user": {
      "displayName": "Yustiana Indah Pratiwi",
      "photoUrl": "//lh5.googleusercontent.com/-D5oRNcZgod0/AAAAAAAAAAI/AAAAAAAAARs/yJI_IqMfesM/s50-c-k-no/photo.jpg",
      "userId": "106033827385792415327"
     },
     "user_tz": -420
    },
    "id": "aWx5NSP2DU-g",
    "outputId": "3eafbfa5-356c-4a9b-9c01-87fe4d0ab258"
   },
   "outputs": [
    {
     "data": {
      "text/html": [
       "<div>\n",
       "<style scoped>\n",
       "    .dataframe tbody tr th:only-of-type {\n",
       "        vertical-align: middle;\n",
       "    }\n",
       "\n",
       "    .dataframe tbody tr th {\n",
       "        vertical-align: top;\n",
       "    }\n",
       "\n",
       "    .dataframe thead th {\n",
       "        text-align: right;\n",
       "    }\n",
       "</style>\n",
       "<table border=\"1\" class=\"dataframe\">\n",
       "  <thead>\n",
       "    <tr style=\"text-align: right;\">\n",
       "      <th></th>\n",
       "      <th>Age</th>\n",
       "      <th>YearsDE</th>\n",
       "      <th>VehicleNo</th>\n",
       "      <th>Gender</th>\n",
       "      <th>Married</th>\n",
       "      <th>VehicleAge</th>\n",
       "      <th>Fuel</th>\n",
       "      <th>Losses</th>\n",
       "      <th>IsGender</th>\n",
       "      <th>IsMarried</th>\n",
       "      <th>IsDiesel</th>\n",
       "      <th>Losses_New</th>\n",
       "      <th>Losses_perx</th>\n",
       "      <th>Losses_akar</th>\n",
       "      <th>AgeDE</th>\n",
       "      <th>New_Losses</th>\n",
       "      <th>New_Age</th>\n",
       "      <th>New_Losses_Log</th>\n",
       "    </tr>\n",
       "    <tr>\n",
       "      <th>Policy Number</th>\n",
       "      <th></th>\n",
       "      <th></th>\n",
       "      <th></th>\n",
       "      <th></th>\n",
       "      <th></th>\n",
       "      <th></th>\n",
       "      <th></th>\n",
       "      <th></th>\n",
       "      <th></th>\n",
       "      <th></th>\n",
       "      <th></th>\n",
       "      <th></th>\n",
       "      <th></th>\n",
       "      <th></th>\n",
       "      <th></th>\n",
       "      <th></th>\n",
       "      <th></th>\n",
       "      <th></th>\n",
       "    </tr>\n",
       "  </thead>\n",
       "  <tbody>\n",
       "    <tr>\n",
       "      <th>150024</th>\n",
       "      <td>24</td>\n",
       "      <td>5</td>\n",
       "      <td>1</td>\n",
       "      <td>M</td>\n",
       "      <td>Married</td>\n",
       "      <td>11</td>\n",
       "      <td>P</td>\n",
       "      <td>203.319595</td>\n",
       "      <td>0</td>\n",
       "      <td>1</td>\n",
       "      <td>0</td>\n",
       "      <td>5.314779</td>\n",
       "      <td>0.004918</td>\n",
       "      <td>14.259018</td>\n",
       "      <td>0.208333</td>\n",
       "      <td>203.319595</td>\n",
       "      <td>19.5</td>\n",
       "      <td>14.259018</td>\n",
       "    </tr>\n",
       "    <tr>\n",
       "      <th>144880</th>\n",
       "      <td>31</td>\n",
       "      <td>10</td>\n",
       "      <td>1</td>\n",
       "      <td>F</td>\n",
       "      <td>Single</td>\n",
       "      <td>6</td>\n",
       "      <td>P</td>\n",
       "      <td>402.197302</td>\n",
       "      <td>1</td>\n",
       "      <td>0</td>\n",
       "      <td>0</td>\n",
       "      <td>5.996943</td>\n",
       "      <td>0.002486</td>\n",
       "      <td>20.054857</td>\n",
       "      <td>0.322581</td>\n",
       "      <td>402.197302</td>\n",
       "      <td>29.5</td>\n",
       "      <td>20.054857</td>\n",
       "    </tr>\n",
       "    <tr>\n",
       "      <th>133742</th>\n",
       "      <td>56</td>\n",
       "      <td>37</td>\n",
       "      <td>1</td>\n",
       "      <td>M</td>\n",
       "      <td>Married</td>\n",
       "      <td>0</td>\n",
       "      <td>D</td>\n",
       "      <td>553.132096</td>\n",
       "      <td>0</td>\n",
       "      <td>1</td>\n",
       "      <td>1</td>\n",
       "      <td>6.315597</td>\n",
       "      <td>0.001808</td>\n",
       "      <td>23.518761</td>\n",
       "      <td>0.660714</td>\n",
       "      <td>553.132096</td>\n",
       "      <td>59.5</td>\n",
       "      <td>23.518761</td>\n",
       "    </tr>\n",
       "    <tr>\n",
       "      <th>151282</th>\n",
       "      <td>52</td>\n",
       "      <td>31</td>\n",
       "      <td>1</td>\n",
       "      <td>F</td>\n",
       "      <td>Married</td>\n",
       "      <td>15</td>\n",
       "      <td>P</td>\n",
       "      <td>292.430579</td>\n",
       "      <td>1</td>\n",
       "      <td>1</td>\n",
       "      <td>0</td>\n",
       "      <td>5.678227</td>\n",
       "      <td>0.003420</td>\n",
       "      <td>17.100602</td>\n",
       "      <td>0.596154</td>\n",
       "      <td>292.430579</td>\n",
       "      <td>49.5</td>\n",
       "      <td>17.100602</td>\n",
       "    </tr>\n",
       "    <tr>\n",
       "      <th>174407</th>\n",
       "      <td>20</td>\n",
       "      <td>3</td>\n",
       "      <td>1</td>\n",
       "      <td>M</td>\n",
       "      <td>Single</td>\n",
       "      <td>15</td>\n",
       "      <td>P</td>\n",
       "      <td>246.540576</td>\n",
       "      <td>0</td>\n",
       "      <td>0</td>\n",
       "      <td>0</td>\n",
       "      <td>5.507527</td>\n",
       "      <td>0.004056</td>\n",
       "      <td>15.701611</td>\n",
       "      <td>0.150000</td>\n",
       "      <td>246.540576</td>\n",
       "      <td>19.5</td>\n",
       "      <td>15.701611</td>\n",
       "    </tr>\n",
       "  </tbody>\n",
       "</table>\n",
       "</div>"
      ],
      "text/plain": [
       "               Age  YearsDE  VehicleNo Gender  Married  VehicleAge Fuel  \\\n",
       "Policy Number                                                             \n",
       "150024          24        5          1      M  Married          11    P   \n",
       "144880          31       10          1      F   Single           6    P   \n",
       "133742          56       37          1      M  Married           0    D   \n",
       "151282          52       31          1      F  Married          15    P   \n",
       "174407          20        3          1      M   Single          15    P   \n",
       "\n",
       "                   Losses  IsGender  IsMarried  IsDiesel  Losses_New  \\\n",
       "Policy Number                                                          \n",
       "150024         203.319595         0          1         0    5.314779   \n",
       "144880         402.197302         1          0         0    5.996943   \n",
       "133742         553.132096         0          1         1    6.315597   \n",
       "151282         292.430579         1          1         0    5.678227   \n",
       "174407         246.540576         0          0         0    5.507527   \n",
       "\n",
       "               Losses_perx  Losses_akar     AgeDE  New_Losses  New_Age  \\\n",
       "Policy Number                                                            \n",
       "150024            0.004918    14.259018  0.208333  203.319595     19.5   \n",
       "144880            0.002486    20.054857  0.322581  402.197302     29.5   \n",
       "133742            0.001808    23.518761  0.660714  553.132096     59.5   \n",
       "151282            0.003420    17.100602  0.596154  292.430579     49.5   \n",
       "174407            0.004056    15.701611  0.150000  246.540576     19.5   \n",
       "\n",
       "               New_Losses_Log  \n",
       "Policy Number                  \n",
       "150024              14.259018  \n",
       "144880              20.054857  \n",
       "133742              23.518761  \n",
       "151282              17.100602  \n",
       "174407              15.701611  "
      ]
     },
     "execution_count": 78,
     "metadata": {},
     "output_type": "execute_result"
    }
   ],
   "source": [
    "data5['AgeDE']=data5.YearsDE/data5.Age\n",
    "data5.head()"
   ]
  },
  {
   "cell_type": "code",
   "execution_count": 79,
   "metadata": {
    "colab": {
     "autoexec": {
      "startup": false,
      "wait_interval": 0
     },
     "base_uri": "https://localhost:8080/",
     "height": 460
    },
    "colab_type": "code",
    "executionInfo": {
     "elapsed": 867,
     "status": "ok",
     "timestamp": 1527650460117,
     "user": {
      "displayName": "Nur Chamid",
      "photoUrl": "//lh5.googleusercontent.com/-TsgwUJzaJJg/AAAAAAAAAAI/AAAAAAAAARQ/Ngn5q-ighvg/s50-c-k-no/photo.jpg",
      "userId": "109513328284773316398"
     },
     "user_tz": -420
    },
    "id": "FpJzGoPmpc9G",
    "outputId": "32076381-c541-4803-e1ed-da18ee995326"
   },
   "outputs": [
    {
     "data": {
      "text/html": [
       "<table class=\"simpletable\">\n",
       "<caption>OLS Regression Results</caption>\n",
       "<tr>\n",
       "  <th>Dep. Variable:</th>       <td>New_Losses</td>    <th>  R-squared:         </th> <td>   0.664</td> \n",
       "</tr>\n",
       "<tr>\n",
       "  <th>Model:</th>                   <td>OLS</td>       <th>  Adj. R-squared:    </th> <td>   0.664</td> \n",
       "</tr>\n",
       "<tr>\n",
       "  <th>Method:</th>             <td>Least Squares</td>  <th>  F-statistic:       </th> <td>   6031.</td> \n",
       "</tr>\n",
       "<tr>\n",
       "  <th>Date:</th>             <td>Wed, 30 May 2018</td> <th>  Prob (F-statistic):</th>  <td>  0.00</td>  \n",
       "</tr>\n",
       "<tr>\n",
       "  <th>Time:</th>                 <td>14:09:08</td>     <th>  Log-Likelihood:    </th> <td> -97283.</td> \n",
       "</tr>\n",
       "<tr>\n",
       "  <th>No. Observations:</th>      <td> 15290</td>      <th>  AIC:               </th> <td>1.946e+05</td>\n",
       "</tr>\n",
       "<tr>\n",
       "  <th>Df Residuals:</th>          <td> 15284</td>      <th>  BIC:               </th> <td>1.946e+05</td>\n",
       "</tr>\n",
       "<tr>\n",
       "  <th>Df Model:</th>              <td>     5</td>      <th>                     </th>     <td> </td>    \n",
       "</tr>\n",
       "<tr>\n",
       "  <th>Covariance Type:</th>      <td>nonrobust</td>    <th>                     </th>     <td> </td>    \n",
       "</tr>\n",
       "</table>\n",
       "<table class=\"simpletable\">\n",
       "<tr>\n",
       "       <td></td>         <th>coef</th>     <th>std err</th>      <th>t</th>      <th>P>|t|</th>  <th>[0.025</th>    <th>0.975]</th>  \n",
       "</tr>\n",
       "<tr>\n",
       "  <th>Intercept</th>  <td>  617.1671</td> <td>    5.438</td> <td>  113.499</td> <td> 0.000</td> <td>  606.509</td> <td>  627.825</td>\n",
       "</tr>\n",
       "<tr>\n",
       "  <th>AgeDE</th>      <td> -297.6384</td> <td>    5.293</td> <td>  -56.235</td> <td> 0.000</td> <td> -308.013</td> <td> -287.264</td>\n",
       "</tr>\n",
       "<tr>\n",
       "  <th>VehicleAge</th> <td>  -11.8385</td> <td>    0.301</td> <td>  -39.286</td> <td> 0.000</td> <td>  -12.429</td> <td>  -11.248</td>\n",
       "</tr>\n",
       "<tr>\n",
       "  <th>IsGender</th>   <td>  -48.4234</td> <td>    2.315</td> <td>  -20.920</td> <td> 0.000</td> <td>  -52.961</td> <td>  -43.886</td>\n",
       "</tr>\n",
       "<tr>\n",
       "  <th>IsMarried</th>  <td>  -76.1811</td> <td>    2.353</td> <td>  -32.379</td> <td> 0.000</td> <td>  -80.793</td> <td>  -71.569</td>\n",
       "</tr>\n",
       "<tr>\n",
       "  <th>IsDiesel</th>   <td>  310.1912</td> <td>    3.262</td> <td>   95.094</td> <td> 0.000</td> <td>  303.797</td> <td>  316.585</td>\n",
       "</tr>\n",
       "</table>\n",
       "<table class=\"simpletable\">\n",
       "<tr>\n",
       "  <th>Omnibus:</th>       <td>8248.422</td> <th>  Durbin-Watson:     </th>  <td>   1.843</td> \n",
       "</tr>\n",
       "<tr>\n",
       "  <th>Prob(Omnibus):</th>  <td> 0.000</td>  <th>  Jarque-Bera (JB):  </th> <td>211984.930</td>\n",
       "</tr>\n",
       "<tr>\n",
       "  <th>Skew:</th>           <td> 2.075</td>  <th>  Prob(JB):          </th>  <td>    0.00</td> \n",
       "</tr>\n",
       "<tr>\n",
       "  <th>Kurtosis:</th>       <td>20.763</td>  <th>  Cond. No.          </th>  <td>    64.2</td> \n",
       "</tr>\n",
       "</table>"
      ],
      "text/plain": [
       "<class 'statsmodels.iolib.summary.Summary'>\n",
       "\"\"\"\n",
       "                            OLS Regression Results                            \n",
       "==============================================================================\n",
       "Dep. Variable:             New_Losses   R-squared:                       0.664\n",
       "Model:                            OLS   Adj. R-squared:                  0.664\n",
       "Method:                 Least Squares   F-statistic:                     6031.\n",
       "Date:                Wed, 30 May 2018   Prob (F-statistic):               0.00\n",
       "Time:                        14:09:08   Log-Likelihood:                -97283.\n",
       "No. Observations:               15290   AIC:                         1.946e+05\n",
       "Df Residuals:                   15284   BIC:                         1.946e+05\n",
       "Df Model:                           5                                         \n",
       "Covariance Type:            nonrobust                                         \n",
       "==============================================================================\n",
       "                 coef    std err          t      P>|t|      [0.025      0.975]\n",
       "------------------------------------------------------------------------------\n",
       "Intercept    617.1671      5.438    113.499      0.000     606.509     627.825\n",
       "AgeDE       -297.6384      5.293    -56.235      0.000    -308.013    -287.264\n",
       "VehicleAge   -11.8385      0.301    -39.286      0.000     -12.429     -11.248\n",
       "IsGender     -48.4234      2.315    -20.920      0.000     -52.961     -43.886\n",
       "IsMarried    -76.1811      2.353    -32.379      0.000     -80.793     -71.569\n",
       "IsDiesel     310.1912      3.262     95.094      0.000     303.797     316.585\n",
       "==============================================================================\n",
       "Omnibus:                     8248.422   Durbin-Watson:                   1.843\n",
       "Prob(Omnibus):                  0.000   Jarque-Bera (JB):           211984.930\n",
       "Skew:                           2.075   Prob(JB):                         0.00\n",
       "Kurtosis:                      20.763   Cond. No.                         64.2\n",
       "==============================================================================\n",
       "\n",
       "Warnings:\n",
       "[1] Standard Errors assume that the covariance matrix of the errors is correctly specified.\n",
       "\"\"\""
      ]
     },
     "execution_count": 79,
     "metadata": {},
     "output_type": "execute_result"
    }
   ],
   "source": [
    "lm=smf.ols(formula='New_Losses~AgeDE+VehicleAge+IsGender+IsMarried+IsDiesel', data=data5).fit()\n",
    "lm.summary()"
   ]
  },
  {
   "cell_type": "code",
   "execution_count": 80,
   "metadata": {
    "colab": {
     "autoexec": {
      "startup": false,
      "wait_interval": 0
     }
    },
    "colab_type": "code",
    "id": "9Xl1bcASDuy5"
   },
   "outputs": [
    {
     "data": {
      "text/html": [
       "<table class=\"simpletable\">\n",
       "<caption>OLS Regression Results</caption>\n",
       "<tr>\n",
       "  <th>Dep. Variable:</th>       <td>New_Losses</td>    <th>  R-squared:         </th> <td>   0.682</td> \n",
       "</tr>\n",
       "<tr>\n",
       "  <th>Model:</th>                   <td>OLS</td>       <th>  Adj. R-squared:    </th> <td>   0.682</td> \n",
       "</tr>\n",
       "<tr>\n",
       "  <th>Method:</th>             <td>Least Squares</td>  <th>  F-statistic:       </th> <td>   5457.</td> \n",
       "</tr>\n",
       "<tr>\n",
       "  <th>Date:</th>             <td>Wed, 30 May 2018</td> <th>  Prob (F-statistic):</th>  <td>  0.00</td>  \n",
       "</tr>\n",
       "<tr>\n",
       "  <th>Time:</th>                 <td>14:09:08</td>     <th>  Log-Likelihood:    </th> <td> -96859.</td> \n",
       "</tr>\n",
       "<tr>\n",
       "  <th>No. Observations:</th>      <td> 15290</td>      <th>  AIC:               </th> <td>1.937e+05</td>\n",
       "</tr>\n",
       "<tr>\n",
       "  <th>Df Residuals:</th>          <td> 15283</td>      <th>  BIC:               </th> <td>1.938e+05</td>\n",
       "</tr>\n",
       "<tr>\n",
       "  <th>Df Model:</th>              <td>     6</td>      <th>                     </th>     <td> </td>    \n",
       "</tr>\n",
       "<tr>\n",
       "  <th>Covariance Type:</th>      <td>nonrobust</td>    <th>                     </th>     <td> </td>    \n",
       "</tr>\n",
       "</table>\n",
       "<table class=\"simpletable\">\n",
       "<tr>\n",
       "       <td></td>         <th>coef</th>     <th>std err</th>      <th>t</th>      <th>P>|t|</th>  <th>[0.025</th>    <th>0.975]</th>  \n",
       "</tr>\n",
       "<tr>\n",
       "  <th>Intercept</th>  <td>  600.4006</td> <td>    8.354</td> <td>   71.868</td> <td> 0.000</td> <td>  584.025</td> <td>  616.776</td>\n",
       "</tr>\n",
       "<tr>\n",
       "  <th>New_Age</th>    <td>   -0.2909</td> <td>    0.364</td> <td>   -0.799</td> <td> 0.424</td> <td>   -1.005</td> <td>    0.423</td>\n",
       "</tr>\n",
       "<tr>\n",
       "  <th>YearsDE</th>    <td>   -4.3224</td> <td>    0.376</td> <td>  -11.505</td> <td> 0.000</td> <td>   -5.059</td> <td>   -3.586</td>\n",
       "</tr>\n",
       "<tr>\n",
       "  <th>VehicleAge</th> <td>  -11.9312</td> <td>    0.289</td> <td>  -41.305</td> <td> 0.000</td> <td>  -12.497</td> <td>  -11.365</td>\n",
       "</tr>\n",
       "<tr>\n",
       "  <th>IsGender</th>   <td>  -50.1797</td> <td>    2.252</td> <td>  -22.283</td> <td> 0.000</td> <td>  -54.594</td> <td>  -45.766</td>\n",
       "</tr>\n",
       "<tr>\n",
       "  <th>IsMarried</th>  <td>  -77.8029</td> <td>    2.288</td> <td>  -34.008</td> <td> 0.000</td> <td>  -82.287</td> <td>  -73.319</td>\n",
       "</tr>\n",
       "<tr>\n",
       "  <th>IsDiesel</th>   <td>  301.2448</td> <td>    3.166</td> <td>   95.139</td> <td> 0.000</td> <td>  295.038</td> <td>  307.451</td>\n",
       "</tr>\n",
       "</table>\n",
       "<table class=\"simpletable\">\n",
       "<tr>\n",
       "  <th>Omnibus:</th>       <td>9176.986</td> <th>  Durbin-Watson:     </th>  <td>   1.836</td> \n",
       "</tr>\n",
       "<tr>\n",
       "  <th>Prob(Omnibus):</th>  <td> 0.000</td>  <th>  Jarque-Bera (JB):  </th> <td>274314.881</td>\n",
       "</tr>\n",
       "<tr>\n",
       "  <th>Skew:</th>           <td> 2.370</td>  <th>  Prob(JB):          </th>  <td>    0.00</td> \n",
       "</tr>\n",
       "<tr>\n",
       "  <th>Kurtosis:</th>       <td>23.202</td>  <th>  Cond. No.          </th>  <td>    425.</td> \n",
       "</tr>\n",
       "</table>"
      ],
      "text/plain": [
       "<class 'statsmodels.iolib.summary.Summary'>\n",
       "\"\"\"\n",
       "                            OLS Regression Results                            \n",
       "==============================================================================\n",
       "Dep. Variable:             New_Losses   R-squared:                       0.682\n",
       "Model:                            OLS   Adj. R-squared:                  0.682\n",
       "Method:                 Least Squares   F-statistic:                     5457.\n",
       "Date:                Wed, 30 May 2018   Prob (F-statistic):               0.00\n",
       "Time:                        14:09:08   Log-Likelihood:                -96859.\n",
       "No. Observations:               15290   AIC:                         1.937e+05\n",
       "Df Residuals:                   15283   BIC:                         1.938e+05\n",
       "Df Model:                           6                                         \n",
       "Covariance Type:            nonrobust                                         \n",
       "==============================================================================\n",
       "                 coef    std err          t      P>|t|      [0.025      0.975]\n",
       "------------------------------------------------------------------------------\n",
       "Intercept    600.4006      8.354     71.868      0.000     584.025     616.776\n",
       "New_Age       -0.2909      0.364     -0.799      0.424      -1.005       0.423\n",
       "YearsDE       -4.3224      0.376    -11.505      0.000      -5.059      -3.586\n",
       "VehicleAge   -11.9312      0.289    -41.305      0.000     -12.497     -11.365\n",
       "IsGender     -50.1797      2.252    -22.283      0.000     -54.594     -45.766\n",
       "IsMarried    -77.8029      2.288    -34.008      0.000     -82.287     -73.319\n",
       "IsDiesel     301.2448      3.166     95.139      0.000     295.038     307.451\n",
       "==============================================================================\n",
       "Omnibus:                     9176.986   Durbin-Watson:                   1.836\n",
       "Prob(Omnibus):                  0.000   Jarque-Bera (JB):           274314.881\n",
       "Skew:                           2.370   Prob(JB):                         0.00\n",
       "Kurtosis:                      23.202   Cond. No.                         425.\n",
       "==============================================================================\n",
       "\n",
       "Warnings:\n",
       "[1] Standard Errors assume that the covariance matrix of the errors is correctly specified.\n",
       "\"\"\""
      ]
     },
     "execution_count": 80,
     "metadata": {},
     "output_type": "execute_result"
    }
   ],
   "source": [
    "lm=smf.ols(formula='New_Losses~New_Age+YearsDE+VehicleAge+IsGender+IsMarried+IsDiesel', data=data5).fit()\n",
    "lm.summary()"
   ]
  },
  {
   "cell_type": "code",
   "execution_count": 81,
   "metadata": {
    "colab": {
     "autoexec": {
      "startup": false,
      "wait_interval": 0
     },
     "base_uri": "https://localhost:8080/",
     "height": 272
    },
    "colab_type": "code",
    "executionInfo": {
     "elapsed": 1007,
     "status": "ok",
     "timestamp": 1527655472808,
     "user": {
      "displayName": "Stezar Priansya",
      "photoUrl": "//lh4.googleusercontent.com/-5F9wDGiejVI/AAAAAAAAAAI/AAAAAAAAAyY/kXeh_Dvq2LM/s50-c-k-no/photo.jpg",
      "userId": "109032126975801689044"
     },
     "user_tz": -420
    },
    "id": "ibKRm0IPTQJb",
    "outputId": "3781854c-45a3-484c-a031-469da5923f60"
   },
   "outputs": [
    {
     "data": {
      "text/html": [
       "<div>\n",
       "<style scoped>\n",
       "    .dataframe tbody tr th:only-of-type {\n",
       "        vertical-align: middle;\n",
       "    }\n",
       "\n",
       "    .dataframe tbody tr th {\n",
       "        vertical-align: top;\n",
       "    }\n",
       "\n",
       "    .dataframe thead th {\n",
       "        text-align: right;\n",
       "    }\n",
       "</style>\n",
       "<table border=\"1\" class=\"dataframe\">\n",
       "  <thead>\n",
       "    <tr style=\"text-align: right;\">\n",
       "      <th></th>\n",
       "      <th>Age</th>\n",
       "      <th>YearsDE</th>\n",
       "      <th>VehicleNo</th>\n",
       "      <th>Gender</th>\n",
       "      <th>Married</th>\n",
       "      <th>VehicleAge</th>\n",
       "      <th>Fuel</th>\n",
       "      <th>Losses</th>\n",
       "      <th>IsGender</th>\n",
       "      <th>IsMarried</th>\n",
       "      <th>IsDiesel</th>\n",
       "      <th>Losses_New</th>\n",
       "      <th>Losses_perx</th>\n",
       "      <th>Losses_akar</th>\n",
       "      <th>AgeDE</th>\n",
       "      <th>New_Losses</th>\n",
       "      <th>New_Age</th>\n",
       "      <th>New_Losses_Log</th>\n",
       "    </tr>\n",
       "    <tr>\n",
       "      <th>Policy Number</th>\n",
       "      <th></th>\n",
       "      <th></th>\n",
       "      <th></th>\n",
       "      <th></th>\n",
       "      <th></th>\n",
       "      <th></th>\n",
       "      <th></th>\n",
       "      <th></th>\n",
       "      <th></th>\n",
       "      <th></th>\n",
       "      <th></th>\n",
       "      <th></th>\n",
       "      <th></th>\n",
       "      <th></th>\n",
       "      <th></th>\n",
       "      <th></th>\n",
       "      <th></th>\n",
       "      <th></th>\n",
       "    </tr>\n",
       "  </thead>\n",
       "  <tbody>\n",
       "    <tr>\n",
       "      <th>150024</th>\n",
       "      <td>24</td>\n",
       "      <td>5</td>\n",
       "      <td>1</td>\n",
       "      <td>M</td>\n",
       "      <td>Married</td>\n",
       "      <td>11</td>\n",
       "      <td>P</td>\n",
       "      <td>203.319595</td>\n",
       "      <td>0</td>\n",
       "      <td>1</td>\n",
       "      <td>0</td>\n",
       "      <td>5.314779</td>\n",
       "      <td>0.004918</td>\n",
       "      <td>14.259018</td>\n",
       "      <td>0.208333</td>\n",
       "      <td>203.319595</td>\n",
       "      <td>19.5</td>\n",
       "      <td>14.259018</td>\n",
       "    </tr>\n",
       "    <tr>\n",
       "      <th>144880</th>\n",
       "      <td>31</td>\n",
       "      <td>10</td>\n",
       "      <td>1</td>\n",
       "      <td>F</td>\n",
       "      <td>Single</td>\n",
       "      <td>6</td>\n",
       "      <td>P</td>\n",
       "      <td>402.197302</td>\n",
       "      <td>1</td>\n",
       "      <td>0</td>\n",
       "      <td>0</td>\n",
       "      <td>5.996943</td>\n",
       "      <td>0.002486</td>\n",
       "      <td>20.054857</td>\n",
       "      <td>0.322581</td>\n",
       "      <td>402.197302</td>\n",
       "      <td>29.5</td>\n",
       "      <td>20.054857</td>\n",
       "    </tr>\n",
       "    <tr>\n",
       "      <th>133742</th>\n",
       "      <td>56</td>\n",
       "      <td>37</td>\n",
       "      <td>1</td>\n",
       "      <td>M</td>\n",
       "      <td>Married</td>\n",
       "      <td>0</td>\n",
       "      <td>D</td>\n",
       "      <td>553.132096</td>\n",
       "      <td>0</td>\n",
       "      <td>1</td>\n",
       "      <td>1</td>\n",
       "      <td>6.315597</td>\n",
       "      <td>0.001808</td>\n",
       "      <td>23.518761</td>\n",
       "      <td>0.660714</td>\n",
       "      <td>553.132096</td>\n",
       "      <td>59.5</td>\n",
       "      <td>23.518761</td>\n",
       "    </tr>\n",
       "    <tr>\n",
       "      <th>151282</th>\n",
       "      <td>52</td>\n",
       "      <td>31</td>\n",
       "      <td>1</td>\n",
       "      <td>F</td>\n",
       "      <td>Married</td>\n",
       "      <td>15</td>\n",
       "      <td>P</td>\n",
       "      <td>292.430579</td>\n",
       "      <td>1</td>\n",
       "      <td>1</td>\n",
       "      <td>0</td>\n",
       "      <td>5.678227</td>\n",
       "      <td>0.003420</td>\n",
       "      <td>17.100602</td>\n",
       "      <td>0.596154</td>\n",
       "      <td>292.430579</td>\n",
       "      <td>49.5</td>\n",
       "      <td>17.100602</td>\n",
       "    </tr>\n",
       "    <tr>\n",
       "      <th>174407</th>\n",
       "      <td>20</td>\n",
       "      <td>3</td>\n",
       "      <td>1</td>\n",
       "      <td>M</td>\n",
       "      <td>Single</td>\n",
       "      <td>15</td>\n",
       "      <td>P</td>\n",
       "      <td>246.540576</td>\n",
       "      <td>0</td>\n",
       "      <td>0</td>\n",
       "      <td>0</td>\n",
       "      <td>5.507527</td>\n",
       "      <td>0.004056</td>\n",
       "      <td>15.701611</td>\n",
       "      <td>0.150000</td>\n",
       "      <td>246.540576</td>\n",
       "      <td>19.5</td>\n",
       "      <td>15.701611</td>\n",
       "    </tr>\n",
       "  </tbody>\n",
       "</table>\n",
       "</div>"
      ],
      "text/plain": [
       "               Age  YearsDE  VehicleNo Gender  Married  VehicleAge Fuel  \\\n",
       "Policy Number                                                             \n",
       "150024          24        5          1      M  Married          11    P   \n",
       "144880          31       10          1      F   Single           6    P   \n",
       "133742          56       37          1      M  Married           0    D   \n",
       "151282          52       31          1      F  Married          15    P   \n",
       "174407          20        3          1      M   Single          15    P   \n",
       "\n",
       "                   Losses  IsGender  IsMarried  IsDiesel  Losses_New  \\\n",
       "Policy Number                                                          \n",
       "150024         203.319595         0          1         0    5.314779   \n",
       "144880         402.197302         1          0         0    5.996943   \n",
       "133742         553.132096         0          1         1    6.315597   \n",
       "151282         292.430579         1          1         0    5.678227   \n",
       "174407         246.540576         0          0         0    5.507527   \n",
       "\n",
       "               Losses_perx  Losses_akar     AgeDE  New_Losses  New_Age  \\\n",
       "Policy Number                                                            \n",
       "150024            0.004918    14.259018  0.208333  203.319595     19.5   \n",
       "144880            0.002486    20.054857  0.322581  402.197302     29.5   \n",
       "133742            0.001808    23.518761  0.660714  553.132096     59.5   \n",
       "151282            0.003420    17.100602  0.596154  292.430579     49.5   \n",
       "174407            0.004056    15.701611  0.150000  246.540576     19.5   \n",
       "\n",
       "               New_Losses_Log  \n",
       "Policy Number                  \n",
       "150024              14.259018  \n",
       "144880              20.054857  \n",
       "133742              23.518761  \n",
       "151282              17.100602  \n",
       "174407              15.701611  "
      ]
     },
     "execution_count": 81,
     "metadata": {},
     "output_type": "execute_result"
    }
   ],
   "source": [
    "data5.head()"
   ]
  },
  {
   "cell_type": "code",
   "execution_count": null,
   "metadata": {
    "colab": {
     "autoexec": {
      "startup": false,
      "wait_interval": 0
     }
    },
    "colab_type": "code",
    "id": "SHQuIPSkWCkj"
   },
   "outputs": [],
   "source": []
  },
  {
   "cell_type": "markdown",
   "metadata": {
    "colab_type": "text",
    "id": "EuN9OyuYXQ4F"
   },
   "source": [
    "# Pembagian Data Set"
   ]
  },
  {
   "cell_type": "code",
   "execution_count": 82,
   "metadata": {
    "colab": {
     "autoexec": {
      "startup": false,
      "wait_interval": 0
     }
    },
    "colab_type": "code",
    "id": "c0mTXLJpWQe3"
   },
   "outputs": [],
   "source": [
    "from sklearn.model_selection import train_test_split"
   ]
  },
  {
   "cell_type": "code",
   "execution_count": 83,
   "metadata": {
    "colab": {
     "autoexec": {
      "startup": false,
      "wait_interval": 0
     }
    },
    "colab_type": "code",
    "id": "j6HmYADsW_Fq"
   },
   "outputs": [],
   "source": [
    "X_train, X_test, Y_train, Y_test = train_test_split(data5[['YearsDE', 'VehicleNo','VehicleAge','New_Age', 'IsGender', 'IsMarried', 'IsDiesel']],data5.New_Losses, test_size=0.3, random_state=42)"
   ]
  },
  {
   "cell_type": "code",
   "execution_count": 84,
   "metadata": {
    "colab": {
     "autoexec": {
      "startup": false,
      "wait_interval": 0
     }
    },
    "colab_type": "code",
    "id": "9l3opKnhYRXP"
   },
   "outputs": [],
   "source": [
    "data_train = pd.concat([X_train,Y_train],axis=1)"
   ]
  },
  {
   "cell_type": "code",
   "execution_count": 85,
   "metadata": {
    "colab": {
     "autoexec": {
      "startup": false,
      "wait_interval": 0
     },
     "base_uri": "https://localhost:8080/",
     "height": 235
    },
    "colab_type": "code",
    "executionInfo": {
     "elapsed": 757,
     "status": "ok",
     "timestamp": 1527662782728,
     "user": {
      "displayName": "Nur Chamid",
      "photoUrl": "//lh5.googleusercontent.com/-TsgwUJzaJJg/AAAAAAAAAAI/AAAAAAAAARQ/Ngn5q-ighvg/s50-c-k-no/photo.jpg",
      "userId": "109513328284773316398"
     },
     "user_tz": -420
    },
    "id": "IHBzonIeYoff",
    "outputId": "0993f8ad-5788-448b-a0e2-bc0d7dc99f48"
   },
   "outputs": [
    {
     "data": {
      "text/html": [
       "<div>\n",
       "<style scoped>\n",
       "    .dataframe tbody tr th:only-of-type {\n",
       "        vertical-align: middle;\n",
       "    }\n",
       "\n",
       "    .dataframe tbody tr th {\n",
       "        vertical-align: top;\n",
       "    }\n",
       "\n",
       "    .dataframe thead th {\n",
       "        text-align: right;\n",
       "    }\n",
       "</style>\n",
       "<table border=\"1\" class=\"dataframe\">\n",
       "  <thead>\n",
       "    <tr style=\"text-align: right;\">\n",
       "      <th></th>\n",
       "      <th>YearsDE</th>\n",
       "      <th>VehicleNo</th>\n",
       "      <th>VehicleAge</th>\n",
       "      <th>New_Age</th>\n",
       "      <th>IsGender</th>\n",
       "      <th>IsMarried</th>\n",
       "      <th>IsDiesel</th>\n",
       "      <th>New_Losses</th>\n",
       "    </tr>\n",
       "    <tr>\n",
       "      <th>Policy Number</th>\n",
       "      <th></th>\n",
       "      <th></th>\n",
       "      <th></th>\n",
       "      <th></th>\n",
       "      <th></th>\n",
       "      <th></th>\n",
       "      <th></th>\n",
       "      <th></th>\n",
       "    </tr>\n",
       "  </thead>\n",
       "  <tbody>\n",
       "    <tr>\n",
       "      <th>192598</th>\n",
       "      <td>32</td>\n",
       "      <td>3</td>\n",
       "      <td>11</td>\n",
       "      <td>49.5</td>\n",
       "      <td>1</td>\n",
       "      <td>0</td>\n",
       "      <td>0</td>\n",
       "      <td>262.264769</td>\n",
       "    </tr>\n",
       "    <tr>\n",
       "      <th>175302</th>\n",
       "      <td>31</td>\n",
       "      <td>3</td>\n",
       "      <td>7</td>\n",
       "      <td>49.5</td>\n",
       "      <td>1</td>\n",
       "      <td>0</td>\n",
       "      <td>0</td>\n",
       "      <td>405.208415</td>\n",
       "    </tr>\n",
       "    <tr>\n",
       "      <th>129325</th>\n",
       "      <td>4</td>\n",
       "      <td>1</td>\n",
       "      <td>7</td>\n",
       "      <td>19.5</td>\n",
       "      <td>1</td>\n",
       "      <td>0</td>\n",
       "      <td>0</td>\n",
       "      <td>421.264034</td>\n",
       "    </tr>\n",
       "    <tr>\n",
       "      <th>106368</th>\n",
       "      <td>37</td>\n",
       "      <td>2</td>\n",
       "      <td>7</td>\n",
       "      <td>59.5</td>\n",
       "      <td>1</td>\n",
       "      <td>0</td>\n",
       "      <td>0</td>\n",
       "      <td>414.935757</td>\n",
       "    </tr>\n",
       "    <tr>\n",
       "      <th>105320</th>\n",
       "      <td>28</td>\n",
       "      <td>2</td>\n",
       "      <td>6</td>\n",
       "      <td>49.5</td>\n",
       "      <td>0</td>\n",
       "      <td>0</td>\n",
       "      <td>0</td>\n",
       "      <td>414.255336</td>\n",
       "    </tr>\n",
       "  </tbody>\n",
       "</table>\n",
       "</div>"
      ],
      "text/plain": [
       "               YearsDE  VehicleNo  VehicleAge  New_Age  IsGender  IsMarried  \\\n",
       "Policy Number                                                                 \n",
       "192598              32          3          11     49.5         1          0   \n",
       "175302              31          3           7     49.5         1          0   \n",
       "129325               4          1           7     19.5         1          0   \n",
       "106368              37          2           7     59.5         1          0   \n",
       "105320              28          2           6     49.5         0          0   \n",
       "\n",
       "               IsDiesel  New_Losses  \n",
       "Policy Number                        \n",
       "192598                0  262.264769  \n",
       "175302                0  405.208415  \n",
       "129325                0  421.264034  \n",
       "106368                0  414.935757  \n",
       "105320                0  414.255336  "
      ]
     },
     "execution_count": 85,
     "metadata": {},
     "output_type": "execute_result"
    }
   ],
   "source": [
    "data_train.head()"
   ]
  },
  {
   "cell_type": "markdown",
   "metadata": {
    "colab_type": "text",
    "id": "-EmbCk_ZkgIf"
   },
   "source": [
    "## LM2"
   ]
  },
  {
   "cell_type": "code",
   "execution_count": 86,
   "metadata": {
    "colab": {
     "autoexec": {
      "startup": false,
      "wait_interval": 0
     },
     "base_uri": "https://localhost:8080/",
     "height": 502
    },
    "colab_type": "code",
    "executionInfo": {
     "elapsed": 812,
     "status": "ok",
     "timestamp": 1527662786254,
     "user": {
      "displayName": "Nur Chamid",
      "photoUrl": "//lh5.googleusercontent.com/-TsgwUJzaJJg/AAAAAAAAAAI/AAAAAAAAARQ/Ngn5q-ighvg/s50-c-k-no/photo.jpg",
      "userId": "109513328284773316398"
     },
     "user_tz": -420
    },
    "id": "Wf0B-OzHZM4i",
    "outputId": "9ab87f61-fe11-4510-be2f-2caabbe657ff"
   },
   "outputs": [
    {
     "data": {
      "text/html": [
       "<table class=\"simpletable\">\n",
       "<caption>OLS Regression Results</caption>\n",
       "<tr>\n",
       "  <th>Dep. Variable:</th>       <td>New_Losses</td>    <th>  R-squared:         </th> <td>   0.685</td> \n",
       "</tr>\n",
       "<tr>\n",
       "  <th>Model:</th>                   <td>OLS</td>       <th>  Adj. R-squared:    </th> <td>   0.685</td> \n",
       "</tr>\n",
       "<tr>\n",
       "  <th>Method:</th>             <td>Least Squares</td>  <th>  F-statistic:       </th> <td>   3329.</td> \n",
       "</tr>\n",
       "<tr>\n",
       "  <th>Date:</th>             <td>Wed, 30 May 2018</td> <th>  Prob (F-statistic):</th>  <td>  0.00</td>  \n",
       "</tr>\n",
       "<tr>\n",
       "  <th>Time:</th>                 <td>14:09:08</td>     <th>  Log-Likelihood:    </th> <td> -67659.</td> \n",
       "</tr>\n",
       "<tr>\n",
       "  <th>No. Observations:</th>      <td> 10703</td>      <th>  AIC:               </th> <td>1.353e+05</td>\n",
       "</tr>\n",
       "<tr>\n",
       "  <th>Df Residuals:</th>          <td> 10695</td>      <th>  BIC:               </th> <td>1.354e+05</td>\n",
       "</tr>\n",
       "<tr>\n",
       "  <th>Df Model:</th>              <td>     7</td>      <th>                     </th>     <td> </td>    \n",
       "</tr>\n",
       "<tr>\n",
       "  <th>Covariance Type:</th>      <td>nonrobust</td>    <th>                     </th>     <td> </td>    \n",
       "</tr>\n",
       "</table>\n",
       "<table class=\"simpletable\">\n",
       "<tr>\n",
       "       <td></td>         <th>coef</th>     <th>std err</th>      <th>t</th>      <th>P>|t|</th>  <th>[0.025</th>    <th>0.975]</th>  \n",
       "</tr>\n",
       "<tr>\n",
       "  <th>Intercept</th>  <td>  596.7991</td> <td>   10.457</td> <td>   57.070</td> <td> 0.000</td> <td>  576.301</td> <td>  617.297</td>\n",
       "</tr>\n",
       "<tr>\n",
       "  <th>New_Age</th>    <td>   -0.2871</td> <td>    0.432</td> <td>   -0.665</td> <td> 0.506</td> <td>   -1.133</td> <td>    0.559</td>\n",
       "</tr>\n",
       "<tr>\n",
       "  <th>VehicleNo</th>  <td>    0.8563</td> <td>    1.363</td> <td>    0.628</td> <td> 0.530</td> <td>   -1.815</td> <td>    3.528</td>\n",
       "</tr>\n",
       "<tr>\n",
       "  <th>YearsDE</th>    <td>   -4.3141</td> <td>    0.445</td> <td>   -9.697</td> <td> 0.000</td> <td>   -5.186</td> <td>   -3.442</td>\n",
       "</tr>\n",
       "<tr>\n",
       "  <th>VehicleAge</th> <td>  -12.0002</td> <td>    0.342</td> <td>  -35.116</td> <td> 0.000</td> <td>  -12.670</td> <td>  -11.330</td>\n",
       "</tr>\n",
       "<tr>\n",
       "  <th>IsGender</th>   <td>  -49.1415</td> <td>    2.652</td> <td>  -18.530</td> <td> 0.000</td> <td>  -54.340</td> <td>  -43.943</td>\n",
       "</tr>\n",
       "<tr>\n",
       "  <th>IsMarried</th>  <td>  -76.1257</td> <td>    2.701</td> <td>  -28.182</td> <td> 0.000</td> <td>  -81.421</td> <td>  -70.831</td>\n",
       "</tr>\n",
       "<tr>\n",
       "  <th>IsDiesel</th>   <td>  301.6288</td> <td>    3.748</td> <td>   80.467</td> <td> 0.000</td> <td>  294.281</td> <td>  308.977</td>\n",
       "</tr>\n",
       "</table>\n",
       "<table class=\"simpletable\">\n",
       "<tr>\n",
       "  <th>Omnibus:</th>       <td>5951.395</td> <th>  Durbin-Watson:     </th>  <td>   1.982</td> \n",
       "</tr>\n",
       "<tr>\n",
       "  <th>Prob(Omnibus):</th>  <td> 0.000</td>  <th>  Jarque-Bera (JB):  </th> <td>147568.673</td>\n",
       "</tr>\n",
       "<tr>\n",
       "  <th>Skew:</th>           <td> 2.175</td>  <th>  Prob(JB):          </th>  <td>    0.00</td> \n",
       "</tr>\n",
       "<tr>\n",
       "  <th>Kurtosis:</th>       <td>20.663</td>  <th>  Cond. No.          </th>  <td>    451.</td> \n",
       "</tr>\n",
       "</table>"
      ],
      "text/plain": [
       "<class 'statsmodels.iolib.summary.Summary'>\n",
       "\"\"\"\n",
       "                            OLS Regression Results                            \n",
       "==============================================================================\n",
       "Dep. Variable:             New_Losses   R-squared:                       0.685\n",
       "Model:                            OLS   Adj. R-squared:                  0.685\n",
       "Method:                 Least Squares   F-statistic:                     3329.\n",
       "Date:                Wed, 30 May 2018   Prob (F-statistic):               0.00\n",
       "Time:                        14:09:08   Log-Likelihood:                -67659.\n",
       "No. Observations:               10703   AIC:                         1.353e+05\n",
       "Df Residuals:                   10695   BIC:                         1.354e+05\n",
       "Df Model:                           7                                         \n",
       "Covariance Type:            nonrobust                                         \n",
       "==============================================================================\n",
       "                 coef    std err          t      P>|t|      [0.025      0.975]\n",
       "------------------------------------------------------------------------------\n",
       "Intercept    596.7991     10.457     57.070      0.000     576.301     617.297\n",
       "New_Age       -0.2871      0.432     -0.665      0.506      -1.133       0.559\n",
       "VehicleNo      0.8563      1.363      0.628      0.530      -1.815       3.528\n",
       "YearsDE       -4.3141      0.445     -9.697      0.000      -5.186      -3.442\n",
       "VehicleAge   -12.0002      0.342    -35.116      0.000     -12.670     -11.330\n",
       "IsGender     -49.1415      2.652    -18.530      0.000     -54.340     -43.943\n",
       "IsMarried    -76.1257      2.701    -28.182      0.000     -81.421     -70.831\n",
       "IsDiesel     301.6288      3.748     80.467      0.000     294.281     308.977\n",
       "==============================================================================\n",
       "Omnibus:                     5951.395   Durbin-Watson:                   1.982\n",
       "Prob(Omnibus):                  0.000   Jarque-Bera (JB):           147568.673\n",
       "Skew:                           2.175   Prob(JB):                         0.00\n",
       "Kurtosis:                      20.663   Cond. No.                         451.\n",
       "==============================================================================\n",
       "\n",
       "Warnings:\n",
       "[1] Standard Errors assume that the covariance matrix of the errors is correctly specified.\n",
       "\"\"\""
      ]
     },
     "execution_count": 86,
     "metadata": {},
     "output_type": "execute_result"
    }
   ],
   "source": [
    "lm2=smf.ols(formula='New_Losses~New_Age+VehicleNo+YearsDE+VehicleAge+IsGender+IsMarried+IsDiesel', data=data_train).fit()\n",
    "lm2.summary()"
   ]
  },
  {
   "cell_type": "markdown",
   "metadata": {
    "colab_type": "text",
    "id": "qMoo701wh1AB"
   },
   "source": [
    "## Fit Model"
   ]
  },
  {
   "cell_type": "code",
   "execution_count": 87,
   "metadata": {
    "colab": {
     "autoexec": {
      "startup": false,
      "wait_interval": 0
     },
     "base_uri": "https://localhost:8080/",
     "height": 34
    },
    "colab_type": "code",
    "executionInfo": {
     "elapsed": 716,
     "status": "ok",
     "timestamp": 1527662792907,
     "user": {
      "displayName": "Nur Chamid",
      "photoUrl": "//lh5.googleusercontent.com/-TsgwUJzaJJg/AAAAAAAAAAI/AAAAAAAAARQ/Ngn5q-ighvg/s50-c-k-no/photo.jpg",
      "userId": "109513328284773316398"
     },
     "user_tz": -420
    },
    "id": "ku5HppJ_YB8a",
    "outputId": "1dd8b277-c454-4988-9941-8057b3e951ed"
   },
   "outputs": [
    {
     "data": {
      "text/plain": [
       "LinearRegression(copy_X=True, fit_intercept=True, n_jobs=1, normalize=False)"
      ]
     },
     "execution_count": 87,
     "metadata": {},
     "output_type": "execute_result"
    }
   ],
   "source": [
    "X = X_train\n",
    "Y = Y_train\n",
    "lm = LinearRegression()\n",
    "lm.fit(X,Y)"
   ]
  },
  {
   "cell_type": "code",
   "execution_count": 88,
   "metadata": {
    "colab": {
     "autoexec": {
      "startup": false,
      "wait_interval": 0
     },
     "base_uri": "https://localhost:8080/",
     "height": 34
    },
    "colab_type": "code",
    "executionInfo": {
     "elapsed": 721,
     "status": "ok",
     "timestamp": 1527662795017,
     "user": {
      "displayName": "Nur Chamid",
      "photoUrl": "//lh5.googleusercontent.com/-TsgwUJzaJJg/AAAAAAAAAAI/AAAAAAAAARQ/Ngn5q-ighvg/s50-c-k-no/photo.jpg",
      "userId": "109513328284773316398"
     },
     "user_tz": -420
    },
    "id": "9LCu_VAFawvA",
    "outputId": "9a3d34d1-363d-4d53-f4ab-4bdc5ea02b30"
   },
   "outputs": [
    {
     "data": {
      "text/plain": [
       "(10703, 7)"
      ]
     },
     "execution_count": 88,
     "metadata": {},
     "output_type": "execute_result"
    }
   ],
   "source": [
    "X_train.shape"
   ]
  },
  {
   "cell_type": "code",
   "execution_count": 89,
   "metadata": {
    "colab": {
     "autoexec": {
      "startup": false,
      "wait_interval": 0
     },
     "base_uri": "https://localhost:8080/",
     "height": 34
    },
    "colab_type": "code",
    "executionInfo": {
     "elapsed": 674,
     "status": "ok",
     "timestamp": 1527662796693,
     "user": {
      "displayName": "Nur Chamid",
      "photoUrl": "//lh5.googleusercontent.com/-TsgwUJzaJJg/AAAAAAAAAAI/AAAAAAAAARQ/Ngn5q-ighvg/s50-c-k-no/photo.jpg",
      "userId": "109513328284773316398"
     },
     "user_tz": -420
    },
    "id": "_h2cz88-a4cI",
    "outputId": "31b5b73b-b1b5-4d17-c524-345bbfbb1630"
   },
   "outputs": [
    {
     "data": {
      "text/plain": [
       "(4587, 7)"
      ]
     },
     "execution_count": 89,
     "metadata": {},
     "output_type": "execute_result"
    }
   ],
   "source": [
    "X_test.shape"
   ]
  },
  {
   "cell_type": "code",
   "execution_count": 90,
   "metadata": {
    "colab": {
     "autoexec": {
      "startup": false,
      "wait_interval": 0
     }
    },
    "colab_type": "code",
    "id": "xIf5viMTZwYg"
   },
   "outputs": [],
   "source": [
    "Y_pred_train = lm.predict(X_train)\n",
    "Y_pred_test = lm.predict(X_test)"
   ]
  },
  {
   "cell_type": "code",
   "execution_count": 91,
   "metadata": {
    "colab": {
     "autoexec": {
      "startup": false,
      "wait_interval": 0
     }
    },
    "colab_type": "code",
    "id": "N1Zyajk8bhw6"
   },
   "outputs": [],
   "source": [
    "train_pred_df = pd.DataFrame({'actual' : Y_train, 'predicted' : Y_pred_train, 'residual' : Y_train -Y_pred_train}) \n",
    "test_pred_df = pd.DataFrame({'actual' : Y_test, 'predicted' : Y_pred_test, 'residual' : Y_test - Y_pred_test}) "
   ]
  },
  {
   "cell_type": "code",
   "execution_count": 92,
   "metadata": {
    "colab": {
     "autoexec": {
      "startup": false,
      "wait_interval": 0
     }
    },
    "colab_type": "code",
    "id": "NXl8-gHDhJq_"
   },
   "outputs": [],
   "source": [
    "from sklearn import metrics"
   ]
  },
  {
   "cell_type": "code",
   "execution_count": 93,
   "metadata": {
    "colab": {
     "autoexec": {
      "startup": false,
      "wait_interval": 0
     },
     "base_uri": "https://localhost:8080/",
     "height": 34
    },
    "colab_type": "code",
    "executionInfo": {
     "elapsed": 715,
     "status": "ok",
     "timestamp": 1527662802474,
     "user": {
      "displayName": "Nur Chamid",
      "photoUrl": "//lh5.googleusercontent.com/-TsgwUJzaJJg/AAAAAAAAAAI/AAAAAAAAARQ/Ngn5q-ighvg/s50-c-k-no/photo.jpg",
      "userId": "109513328284773316398"
     },
     "user_tz": -420
    },
    "id": "lNnYjx-LhOFl",
    "outputId": "a65e49f6-d62d-474d-878f-50f277059302"
   },
   "outputs": [
    {
     "data": {
      "text/plain": [
       "134.63605010461015"
      ]
     },
     "execution_count": 93,
     "metadata": {},
     "output_type": "execute_result"
    }
   ],
   "source": [
    "rmse_train = np.sqrt(metrics.mean_squared_error(Y_train, Y_pred_train))\n",
    "rmse_train"
   ]
  },
  {
   "cell_type": "code",
   "execution_count": 94,
   "metadata": {
    "colab": {
     "autoexec": {
      "startup": false,
      "wait_interval": 0
     },
     "base_uri": "https://localhost:8080/",
     "height": 34
    },
    "colab_type": "code",
    "executionInfo": {
     "elapsed": 718,
     "status": "ok",
     "timestamp": 1527662803881,
     "user": {
      "displayName": "Nur Chamid",
      "photoUrl": "//lh5.googleusercontent.com/-TsgwUJzaJJg/AAAAAAAAAAI/AAAAAAAAARQ/Ngn5q-ighvg/s50-c-k-no/photo.jpg",
      "userId": "109513328284773316398"
     },
     "user_tz": -420
    },
    "id": "Js3Htd4GhPOX",
    "outputId": "98b1401f-2d66-4cca-de19-47b438fb1125"
   },
   "outputs": [
    {
     "data": {
      "text/plain": [
       "140.574883090866"
      ]
     },
     "execution_count": 94,
     "metadata": {},
     "output_type": "execute_result"
    }
   ],
   "source": [
    "rmse_test = np.sqrt(metrics.mean_squared_error(Y_test, Y_pred_test))\n",
    "rmse_test"
   ]
  },
  {
   "cell_type": "code",
   "execution_count": 95,
   "metadata": {
    "colab": {
     "autoexec": {
      "startup": false,
      "wait_interval": 0
     },
     "base_uri": "https://localhost:8080/",
     "height": 34
    },
    "colab_type": "code",
    "executionInfo": {
     "elapsed": 723,
     "status": "ok",
     "timestamp": 1527662805312,
     "user": {
      "displayName": "Nur Chamid",
      "photoUrl": "//lh5.googleusercontent.com/-TsgwUJzaJJg/AAAAAAAAAAI/AAAAAAAAARQ/Ngn5q-ighvg/s50-c-k-no/photo.jpg",
      "userId": "109513328284773316398"
     },
     "user_tz": -420
    },
    "id": "TqwwsgcBha6I",
    "outputId": "b44e7470-d86f-4ebf-f338-3a182c5a9eda"
   },
   "outputs": [
    {
     "data": {
      "text/plain": [
       "0.6854404605970887"
      ]
     },
     "execution_count": 95,
     "metadata": {},
     "output_type": "execute_result"
    }
   ],
   "source": [
    "metrics.r2_score(Y_train, Y_pred_train)"
   ]
  },
  {
   "cell_type": "code",
   "execution_count": 96,
   "metadata": {
    "colab": {
     "autoexec": {
      "startup": false,
      "wait_interval": 0
     },
     "base_uri": "https://localhost:8080/",
     "height": 34
    },
    "colab_type": "code",
    "executionInfo": {
     "elapsed": 719,
     "status": "ok",
     "timestamp": 1527662806715,
     "user": {
      "displayName": "Nur Chamid",
      "photoUrl": "//lh5.googleusercontent.com/-TsgwUJzaJJg/AAAAAAAAAAI/AAAAAAAAARQ/Ngn5q-ighvg/s50-c-k-no/photo.jpg",
      "userId": "109513328284773316398"
     },
     "user_tz": -420
    },
    "id": "SKjjdHr9hduJ",
    "outputId": "a0842cf0-d8a2-47b7-8f23-27643c67dbfb"
   },
   "outputs": [
    {
     "data": {
      "text/plain": [
       "0.6733760984170675"
      ]
     },
     "execution_count": 96,
     "metadata": {},
     "output_type": "execute_result"
    }
   ],
   "source": [
    "metrics.r2_score(Y_test, Y_pred_test)"
   ]
  },
  {
   "cell_type": "markdown",
   "metadata": {
    "colab_type": "text",
    "id": "rY3awjcUhpv5"
   },
   "source": [
    "## Plot Residu"
   ]
  },
  {
   "cell_type": "code",
   "execution_count": 97,
   "metadata": {
    "colab": {
     "autoexec": {
      "startup": false,
      "wait_interval": 0
     },
     "base_uri": "https://localhost:8080/",
     "height": 265
    },
    "colab_type": "code",
    "executionInfo": {
     "elapsed": 989,
     "status": "ok",
     "timestamp": 1527662808842,
     "user": {
      "displayName": "Nur Chamid",
      "photoUrl": "//lh5.googleusercontent.com/-TsgwUJzaJJg/AAAAAAAAAAI/AAAAAAAAARQ/Ngn5q-ighvg/s50-c-k-no/photo.jpg",
      "userId": "109513328284773316398"
     },
     "user_tz": -420
    },
    "id": "dnZ3xb7Ah3Mq",
    "outputId": "9bfbb527-a700-4b0f-e7e4-24aa58b41cc4"
   },
   "outputs": [
    {
     "data": {
      "image/png": "[encoded data removed]",
      "text/plain": [
       "<matplotlib.figure.Figure at 0x281c86736d8>"
      ]
     },
     "metadata": {},
     "output_type": "display_data"
    }
   ],
   "source": [
    "plt.scatter(train_pred_df.predicted, train_pred_df.residual, color='blue')\n",
    "plt.scatter(test_pred_df.predicted, test_pred_df.residual, color='green')\n",
    "plt.hlines(y=0, xmin=2, xmax=27)\n",
    "plt.show()"
   ]
  },
  {
   "cell_type": "code",
   "execution_count": 98,
   "metadata": {
    "colab": {
     "autoexec": {
      "startup": false,
      "wait_interval": 0
     }
    },
    "colab_type": "code",
    "id": "pLK2xHy4iJxo"
   },
   "outputs": [],
   "source": [
    "import seaborn as sns"
   ]
  },
  {
   "cell_type": "code",
   "execution_count": 99,
   "metadata": {
    "colab": {
     "autoexec": {
      "startup": false,
      "wait_interval": 0
     },
     "base_uri": "https://localhost:8080/",
     "height": 296
    },
    "colab_type": "code",
    "executionInfo": {
     "elapsed": 948,
     "status": "ok",
     "timestamp": 1527662812058,
     "user": {
      "displayName": "Nur Chamid",
      "photoUrl": "//lh5.googleusercontent.com/-TsgwUJzaJJg/AAAAAAAAAAI/AAAAAAAAARQ/Ngn5q-ighvg/s50-c-k-no/photo.jpg",
      "userId": "109513328284773316398"
     },
     "user_tz": -420
    },
    "id": "9TTlvP_WiLPH",
    "outputId": "d890e954-2426-4153-a1ec-b29dbbb16cbf"
   },
   "outputs": [
    {
     "data": {
      "text/plain": [
       "<matplotlib.axes._subplots.AxesSubplot at 0x281c69df828>"
      ]
     },
     "execution_count": 99,
     "metadata": {},
     "output_type": "execute_result"
    },
    {
     "data": {
      "image/png": "[encoded data removed]",
      "text/plain": [
       "<matplotlib.figure.Figure at 0x281c8673fd0>"
      ]
     },
     "metadata": {},
     "output_type": "display_data"
    }
   ],
   "source": [
    "sns.distplot(test_pred_df.residual)"
   ]
  },
  {
   "cell_type": "code",
   "execution_count": 125,
   "metadata": {
    "colab": {
     "autoexec": {
      "startup": false,
      "wait_interval": 0
     },
     "base_uri": "https://localhost:8080/",
     "height": 296
    },
    "colab_type": "code",
    "executionInfo": {
     "elapsed": 1085,
     "status": "ok",
     "timestamp": 1527662814193,
     "user": {
      "displayName": "Nur Chamid",
      "photoUrl": "//lh5.googleusercontent.com/-TsgwUJzaJJg/AAAAAAAAAAI/AAAAAAAAARQ/Ngn5q-ighvg/s50-c-k-no/photo.jpg",
      "userId": "109513328284773316398"
     },
     "user_tz": -420
    },
    "id": "WqFh8ObmiSAV",
    "outputId": "1a0954d8-6e9b-4bd0-b904-e6744052d2e7"
   },
   "outputs": [
    {
     "data": {
      "text/plain": [
       "<matplotlib.axes._subplots.AxesSubplot at 0x281c86021d0>"
      ]
     },
     "execution_count": 125,
     "metadata": {},
     "output_type": "execute_result"
    },
    {
     "data": {
      "image/png": "[encoded data removed]",
      "text/plain": [
       "<matplotlib.figure.Figure at 0x281c86022e8>"
      ]
     },
     "metadata": {},
     "output_type": "display_data"
    }
   ],
   "source": [
    "sns.distplot(train_pred_df.residual)"
   ]
  },
  {
   "cell_type": "markdown",
   "metadata": {
    "colab_type": "text",
    "id": "CwAkei_qZFE4"
   },
   "source": [
    "# Uji Asumsi"
   ]
  },
  {
   "cell_type": "markdown",
   "metadata": {
    "colab_type": "text",
    "id": "cfjJAVxHZOUA"
   },
   "source": [
    "## Test *Outlier*"
   ]
  },
  {
   "cell_type": "code",
   "execution_count": 101,
   "metadata": {
    "colab": {
     "autoexec": {
      "startup": false,
      "wait_interval": 0
     }
    },
    "colab_type": "code",
    "id": "xVuBy3Gxis1h"
   },
   "outputs": [],
   "source": [
    "influence = lm2.get_influence()\n",
    "resid_student = influence.resid_studentized_external"
   ]
  },
  {
   "cell_type": "code",
   "execution_count": 102,
   "metadata": {
    "colab": {
     "autoexec": {
      "startup": false,
      "wait_interval": 0
     },
     "base_uri": "https://localhost:8080/",
     "height": 204
    },
    "colab_type": "code",
    "executionInfo": {
     "elapsed": 637,
     "status": "ok",
     "timestamp": 1527662887264,
     "user": {
      "displayName": "Nur Chamid",
      "photoUrl": "//lh5.googleusercontent.com/-TsgwUJzaJJg/AAAAAAAAAAI/AAAAAAAAARQ/Ngn5q-ighvg/s50-c-k-no/photo.jpg",
      "userId": "109513328284773316398"
     },
     "user_tz": -420
    },
    "id": "AzUPbgf3lWLI",
    "outputId": "32076303-30a1-4343-e54f-d7b261a771e8"
   },
   "outputs": [
    {
     "data": {
      "text/html": [
       "<div>\n",
       "<style scoped>\n",
       "    .dataframe tbody tr th:only-of-type {\n",
       "        vertical-align: middle;\n",
       "    }\n",
       "\n",
       "    .dataframe tbody tr th {\n",
       "        vertical-align: top;\n",
       "    }\n",
       "\n",
       "    .dataframe thead th {\n",
       "        text-align: right;\n",
       "    }\n",
       "</style>\n",
       "<table border=\"1\" class=\"dataframe\">\n",
       "  <thead>\n",
       "    <tr style=\"text-align: right;\">\n",
       "      <th></th>\n",
       "      <th>Policy Number</th>\n",
       "      <th>YearsDE</th>\n",
       "      <th>VehicleNo</th>\n",
       "      <th>VehicleAge</th>\n",
       "      <th>New_Age</th>\n",
       "      <th>IsGender</th>\n",
       "      <th>IsMarried</th>\n",
       "      <th>IsDiesel</th>\n",
       "      <th>Studentized_Residuals</th>\n",
       "    </tr>\n",
       "  </thead>\n",
       "  <tbody>\n",
       "    <tr>\n",
       "      <th>0</th>\n",
       "      <td>192598</td>\n",
       "      <td>32</td>\n",
       "      <td>3</td>\n",
       "      <td>11</td>\n",
       "      <td>49.5</td>\n",
       "      <td>1</td>\n",
       "      <td>0</td>\n",
       "      <td>0</td>\n",
       "      <td>-0.027466</td>\n",
       "    </tr>\n",
       "    <tr>\n",
       "      <th>1</th>\n",
       "      <td>175302</td>\n",
       "      <td>31</td>\n",
       "      <td>3</td>\n",
       "      <td>7</td>\n",
       "      <td>49.5</td>\n",
       "      <td>1</td>\n",
       "      <td>0</td>\n",
       "      <td>0</td>\n",
       "      <td>0.645533</td>\n",
       "    </tr>\n",
       "    <tr>\n",
       "      <th>2</th>\n",
       "      <td>129325</td>\n",
       "      <td>4</td>\n",
       "      <td>1</td>\n",
       "      <td>7</td>\n",
       "      <td>19.5</td>\n",
       "      <td>1</td>\n",
       "      <td>0</td>\n",
       "      <td>0</td>\n",
       "      <td>-0.151487</td>\n",
       "    </tr>\n",
       "    <tr>\n",
       "      <th>3</th>\n",
       "      <td>106368</td>\n",
       "      <td>37</td>\n",
       "      <td>2</td>\n",
       "      <td>7</td>\n",
       "      <td>59.5</td>\n",
       "      <td>1</td>\n",
       "      <td>0</td>\n",
       "      <td>0</td>\n",
       "      <td>0.937742</td>\n",
       "    </tr>\n",
       "    <tr>\n",
       "      <th>4</th>\n",
       "      <td>105320</td>\n",
       "      <td>28</td>\n",
       "      <td>2</td>\n",
       "      <td>6</td>\n",
       "      <td>49.5</td>\n",
       "      <td>0</td>\n",
       "      <td>0</td>\n",
       "      <td>0</td>\n",
       "      <td>0.168946</td>\n",
       "    </tr>\n",
       "  </tbody>\n",
       "</table>\n",
       "</div>"
      ],
      "text/plain": [
       "   Policy Number  YearsDE  VehicleNo  VehicleAge  New_Age  IsGender  \\\n",
       "0         192598       32          3          11     49.5         1   \n",
       "1         175302       31          3           7     49.5         1   \n",
       "2         129325        4          1           7     19.5         1   \n",
       "3         106368       37          2           7     59.5         1   \n",
       "4         105320       28          2           6     49.5         0   \n",
       "\n",
       "   IsMarried  IsDiesel  Studentized_Residuals  \n",
       "0          0         0              -0.027466  \n",
       "1          0         0               0.645533  \n",
       "2          0         0              -0.151487  \n",
       "3          0         0               0.937742  \n",
       "4          0         0               0.168946  "
      ]
     },
     "execution_count": 102,
     "metadata": {},
     "output_type": "execute_result"
    }
   ],
   "source": [
    "resid=pd.concat([X_train.reset_index(),pd.Series(resid_student,name=\"Studentized_Residuals\")],axis=1)\n",
    "resid.head(5)"
   ]
  },
  {
   "cell_type": "code",
   "execution_count": 103,
   "metadata": {
    "colab": {
     "autoexec": {
      "startup": false,
      "wait_interval": 0
     },
     "base_uri": "https://localhost:8080/",
     "height": 34
    },
    "colab_type": "code",
    "executionInfo": {
     "elapsed": 829,
     "status": "ok",
     "timestamp": 1527662890693,
     "user": {
      "displayName": "Nur Chamid",
      "photoUrl": "//lh5.googleusercontent.com/-TsgwUJzaJJg/AAAAAAAAAAI/AAAAAAAAARQ/Ngn5q-ighvg/s50-c-k-no/photo.jpg",
      "userId": "109513328284773316398"
     },
     "user_tz": -420
    },
    "id": "1Q-mBMIylp2z",
    "outputId": "0cbb370f-6511-4f54-eec9-f4fca8e090af"
   },
   "outputs": [
    {
     "data": {
      "text/plain": [
       "(107, 9)"
      ]
     },
     "execution_count": 103,
     "metadata": {},
     "output_type": "execute_result"
    }
   ],
   "source": [
    "resid.loc[np.absolute(resid[\"Studentized_Residuals\"])>3].shape"
   ]
  },
  {
   "cell_type": "code",
   "execution_count": 104,
   "metadata": {
    "colab": {
     "autoexec": {
      "startup": false,
      "wait_interval": 0
     }
    },
    "colab_type": "code",
    "id": "oQgcEYsEm2JO"
   },
   "outputs": [],
   "source": [
    "#reset index dari data train\n",
    "X_train_reset = X_train.reset_index().iloc[:, 1:]\n",
    "Y_train_reset = Y_train.reset_index().New_Losses #ambil variable losses aja"
   ]
  },
  {
   "cell_type": "code",
   "execution_count": 105,
   "metadata": {
    "colab": {
     "autoexec": {
      "startup": false,
      "wait_interval": 0
     }
    },
    "colab_type": "code",
    "id": "OsCmO02qmkz9"
   },
   "outputs": [],
   "source": [
    "ind=resid.loc[np.absolute(resid[\"Studentized_Residuals\"])>3,:].index"
   ]
  },
  {
   "cell_type": "code",
   "execution_count": 106,
   "metadata": {
    "colab": {
     "autoexec": {
      "startup": false,
      "wait_interval": 0
     }
    },
    "colab_type": "code",
    "id": "UPBTh1APmq34"
   },
   "outputs": [],
   "source": [
    "X_train_reset.drop(ind,inplace=True)\n",
    "Y_train_reset.drop(ind,inplace=True)"
   ]
  },
  {
   "cell_type": "markdown",
   "metadata": {
    "colab_type": "text",
    "id": "yAb46Ll6pcLF"
   },
   "source": [
    "### Fit Model (Stats Model) after drop outlier"
   ]
  },
  {
   "cell_type": "code",
   "execution_count": 107,
   "metadata": {
    "colab": {
     "autoexec": {
      "startup": false,
      "wait_interval": 0
     }
    },
    "colab_type": "code",
    "id": "K20ILmAkpq1V"
   },
   "outputs": [],
   "source": [
    "# data_train_baru = X_train_reset\n",
    "data_train_baru = pd.concat([X_train_reset,Y_train_reset],axis=1)"
   ]
  },
  {
   "cell_type": "code",
   "execution_count": 108,
   "metadata": {
    "colab": {
     "autoexec": {
      "startup": false,
      "wait_interval": 0
     },
     "base_uri": "https://localhost:8080/",
     "height": 502
    },
    "colab_type": "code",
    "executionInfo": {
     "elapsed": 698,
     "status": "ok",
     "timestamp": 1527662905410,
     "user": {
      "displayName": "Nur Chamid",
      "photoUrl": "//lh5.googleusercontent.com/-TsgwUJzaJJg/AAAAAAAAAAI/AAAAAAAAARQ/Ngn5q-ighvg/s50-c-k-no/photo.jpg",
      "userId": "109513328284773316398"
     },
     "user_tz": -420
    },
    "id": "CeUv9G_Cpk0e",
    "outputId": "d7fbed48-2943-4fa6-c6c8-69a1b4842ef2"
   },
   "outputs": [
    {
     "data": {
      "text/html": [
       "<table class=\"simpletable\">\n",
       "<caption>OLS Regression Results</caption>\n",
       "<tr>\n",
       "  <th>Dep. Variable:</th>       <td>New_Losses</td>    <th>  R-squared:         </th> <td>   0.726</td> \n",
       "</tr>\n",
       "<tr>\n",
       "  <th>Model:</th>                   <td>OLS</td>       <th>  Adj. R-squared:    </th> <td>   0.726</td> \n",
       "</tr>\n",
       "<tr>\n",
       "  <th>Method:</th>             <td>Least Squares</td>  <th>  F-statistic:       </th> <td>   4004.</td> \n",
       "</tr>\n",
       "<tr>\n",
       "  <th>Date:</th>             <td>Wed, 30 May 2018</td> <th>  Prob (F-statistic):</th>  <td>  0.00</td>  \n",
       "</tr>\n",
       "<tr>\n",
       "  <th>Time:</th>                 <td>14:09:56</td>     <th>  Log-Likelihood:    </th> <td> -65004.</td> \n",
       "</tr>\n",
       "<tr>\n",
       "  <th>No. Observations:</th>      <td> 10596</td>      <th>  AIC:               </th> <td>1.300e+05</td>\n",
       "</tr>\n",
       "<tr>\n",
       "  <th>Df Residuals:</th>          <td> 10588</td>      <th>  BIC:               </th> <td>1.301e+05</td>\n",
       "</tr>\n",
       "<tr>\n",
       "  <th>Df Model:</th>              <td>     7</td>      <th>                     </th>     <td> </td>    \n",
       "</tr>\n",
       "<tr>\n",
       "  <th>Covariance Type:</th>      <td>nonrobust</td>    <th>                     </th>     <td> </td>    \n",
       "</tr>\n",
       "</table>\n",
       "<table class=\"simpletable\">\n",
       "<tr>\n",
       "       <td></td>         <th>coef</th>     <th>std err</th>      <th>t</th>      <th>P>|t|</th>  <th>[0.025</th>    <th>0.975]</th>  \n",
       "</tr>\n",
       "<tr>\n",
       "  <th>Intercept</th>  <td>  561.5427</td> <td>    8.723</td> <td>   64.375</td> <td> 0.000</td> <td>  544.444</td> <td>  578.642</td>\n",
       "</tr>\n",
       "<tr>\n",
       "  <th>New_Age</th>    <td>   -0.1006</td> <td>    0.360</td> <td>   -0.280</td> <td> 0.780</td> <td>   -0.805</td> <td>    0.604</td>\n",
       "</tr>\n",
       "<tr>\n",
       "  <th>VehicleNo</th>  <td>    1.2467</td> <td>    1.137</td> <td>    1.096</td> <td> 0.273</td> <td>   -0.982</td> <td>    3.476</td>\n",
       "</tr>\n",
       "<tr>\n",
       "  <th>YearsDE</th>    <td>   -4.1318</td> <td>    0.370</td> <td>  -11.153</td> <td> 0.000</td> <td>   -4.858</td> <td>   -3.406</td>\n",
       "</tr>\n",
       "<tr>\n",
       "  <th>VehicleAge</th> <td>  -10.7994</td> <td>    0.286</td> <td>  -37.752</td> <td> 0.000</td> <td>  -11.360</td> <td>  -10.239</td>\n",
       "</tr>\n",
       "<tr>\n",
       "  <th>IsGender</th>   <td>  -41.6955</td> <td>    2.209</td> <td>  -18.875</td> <td> 0.000</td> <td>  -46.026</td> <td>  -37.365</td>\n",
       "</tr>\n",
       "<tr>\n",
       "  <th>IsMarried</th>  <td>  -67.6380</td> <td>    2.249</td> <td>  -30.073</td> <td> 0.000</td> <td>  -72.047</td> <td>  -63.229</td>\n",
       "</tr>\n",
       "<tr>\n",
       "  <th>IsDiesel</th>   <td>  285.8792</td> <td>    3.126</td> <td>   91.465</td> <td> 0.000</td> <td>  279.753</td> <td>  292.006</td>\n",
       "</tr>\n",
       "</table>\n",
       "<table class=\"simpletable\">\n",
       "<tr>\n",
       "  <th>Omnibus:</th>       <td>98.526</td> <th>  Durbin-Watson:     </th> <td>   1.985</td>\n",
       "</tr>\n",
       "<tr>\n",
       "  <th>Prob(Omnibus):</th> <td> 0.000</td> <th>  Jarque-Bera (JB):  </th> <td> 104.255</td>\n",
       "</tr>\n",
       "<tr>\n",
       "  <th>Skew:</th>          <td> 0.215</td> <th>  Prob(JB):          </th> <td>2.30e-23</td>\n",
       "</tr>\n",
       "<tr>\n",
       "  <th>Kurtosis:</th>      <td> 3.228</td> <th>  Cond. No.          </th> <td>    453.</td>\n",
       "</tr>\n",
       "</table>"
      ],
      "text/plain": [
       "<class 'statsmodels.iolib.summary.Summary'>\n",
       "\"\"\"\n",
       "                            OLS Regression Results                            \n",
       "==============================================================================\n",
       "Dep. Variable:             New_Losses   R-squared:                       0.726\n",
       "Model:                            OLS   Adj. R-squared:                  0.726\n",
       "Method:                 Least Squares   F-statistic:                     4004.\n",
       "Date:                Wed, 30 May 2018   Prob (F-statistic):               0.00\n",
       "Time:                        14:09:56   Log-Likelihood:                -65004.\n",
       "No. Observations:               10596   AIC:                         1.300e+05\n",
       "Df Residuals:                   10588   BIC:                         1.301e+05\n",
       "Df Model:                           7                                         \n",
       "Covariance Type:            nonrobust                                         \n",
       "==============================================================================\n",
       "                 coef    std err          t      P>|t|      [0.025      0.975]\n",
       "------------------------------------------------------------------------------\n",
       "Intercept    561.5427      8.723     64.375      0.000     544.444     578.642\n",
       "New_Age       -0.1006      0.360     -0.280      0.780      -0.805       0.604\n",
       "VehicleNo      1.2467      1.137      1.096      0.273      -0.982       3.476\n",
       "YearsDE       -4.1318      0.370    -11.153      0.000      -4.858      -3.406\n",
       "VehicleAge   -10.7994      0.286    -37.752      0.000     -11.360     -10.239\n",
       "IsGender     -41.6955      2.209    -18.875      0.000     -46.026     -37.365\n",
       "IsMarried    -67.6380      2.249    -30.073      0.000     -72.047     -63.229\n",
       "IsDiesel     285.8792      3.126     91.465      0.000     279.753     292.006\n",
       "==============================================================================\n",
       "Omnibus:                       98.526   Durbin-Watson:                   1.985\n",
       "Prob(Omnibus):                  0.000   Jarque-Bera (JB):              104.255\n",
       "Skew:                           0.215   Prob(JB):                     2.30e-23\n",
       "Kurtosis:                       3.228   Cond. No.                         453.\n",
       "==============================================================================\n",
       "\n",
       "Warnings:\n",
       "[1] Standard Errors assume that the covariance matrix of the errors is correctly specified.\n",
       "\"\"\""
      ]
     },
     "execution_count": 108,
     "metadata": {},
     "output_type": "execute_result"
    }
   ],
   "source": [
    "lm_drop=smf.ols(formula='New_Losses~New_Age+VehicleNo+YearsDE+VehicleAge+IsGender+IsMarried+IsDiesel', data=data_train_baru).fit()\n",
    "lm_drop.summary()"
   ]
  },
  {
   "cell_type": "code",
   "execution_count": 109,
   "metadata": {
    "colab": {
     "autoexec": {
      "startup": false,
      "wait_interval": 0
     },
     "base_uri": "https://localhost:8080/",
     "height": 460
    },
    "colab_type": "code",
    "executionInfo": {
     "elapsed": 707,
     "status": "ok",
     "timestamp": 1527662908973,
     "user": {
      "displayName": "Nur Chamid",
      "photoUrl": "//lh5.googleusercontent.com/-TsgwUJzaJJg/AAAAAAAAAAI/AAAAAAAAARQ/Ngn5q-ighvg/s50-c-k-no/photo.jpg",
      "userId": "109513328284773316398"
     },
     "user_tz": -420
    },
    "id": "xIeA452VqPTu",
    "outputId": "64554c42-32c4-44b0-f836-9bb4fa61b086"
   },
   "outputs": [
    {
     "data": {
      "text/html": [
       "<table class=\"simpletable\">\n",
       "<caption>OLS Regression Results</caption>\n",
       "<tr>\n",
       "  <th>Dep. Variable:</th>       <td>New_Losses</td>    <th>  R-squared:         </th> <td>   0.726</td> \n",
       "</tr>\n",
       "<tr>\n",
       "  <th>Model:</th>                   <td>OLS</td>       <th>  Adj. R-squared:    </th> <td>   0.726</td> \n",
       "</tr>\n",
       "<tr>\n",
       "  <th>Method:</th>             <td>Least Squares</td>  <th>  F-statistic:       </th> <td>   5605.</td> \n",
       "</tr>\n",
       "<tr>\n",
       "  <th>Date:</th>             <td>Wed, 30 May 2018</td> <th>  Prob (F-statistic):</th>  <td>  0.00</td>  \n",
       "</tr>\n",
       "<tr>\n",
       "  <th>Time:</th>                 <td>14:09:56</td>     <th>  Log-Likelihood:    </th> <td> -65004.</td> \n",
       "</tr>\n",
       "<tr>\n",
       "  <th>No. Observations:</th>      <td> 10596</td>      <th>  AIC:               </th> <td>1.300e+05</td>\n",
       "</tr>\n",
       "<tr>\n",
       "  <th>Df Residuals:</th>          <td> 10590</td>      <th>  BIC:               </th> <td>1.301e+05</td>\n",
       "</tr>\n",
       "<tr>\n",
       "  <th>Df Model:</th>              <td>     5</td>      <th>                     </th>     <td> </td>    \n",
       "</tr>\n",
       "<tr>\n",
       "  <th>Covariance Type:</th>      <td>nonrobust</td>    <th>                     </th>     <td> </td>    \n",
       "</tr>\n",
       "</table>\n",
       "<table class=\"simpletable\">\n",
       "<tr>\n",
       "       <td></td>         <th>coef</th>     <th>std err</th>      <th>t</th>      <th>P>|t|</th>  <th>[0.025</th>    <th>0.975]</th>  \n",
       "</tr>\n",
       "<tr>\n",
       "  <th>Intercept</th>  <td>  562.6949</td> <td>    4.670</td> <td>  120.490</td> <td> 0.000</td> <td>  553.541</td> <td>  571.849</td>\n",
       "</tr>\n",
       "<tr>\n",
       "  <th>YearsDE</th>    <td>   -4.2326</td> <td>    0.070</td> <td>  -60.736</td> <td> 0.000</td> <td>   -4.369</td> <td>   -4.096</td>\n",
       "</tr>\n",
       "<tr>\n",
       "  <th>VehicleAge</th> <td>  -10.7905</td> <td>    0.285</td> <td>  -37.807</td> <td> 0.000</td> <td>  -11.350</td> <td>  -10.231</td>\n",
       "</tr>\n",
       "<tr>\n",
       "  <th>IsGender</th>   <td>  -41.6882</td> <td>    2.209</td> <td>  -18.873</td> <td> 0.000</td> <td>  -46.018</td> <td>  -37.358</td>\n",
       "</tr>\n",
       "<tr>\n",
       "  <th>IsMarried</th>  <td>  -67.6575</td> <td>    2.249</td> <td>  -30.085</td> <td> 0.000</td> <td>  -72.066</td> <td>  -63.249</td>\n",
       "</tr>\n",
       "<tr>\n",
       "  <th>IsDiesel</th>   <td>  285.9440</td> <td>    3.123</td> <td>   91.568</td> <td> 0.000</td> <td>  279.823</td> <td>  292.065</td>\n",
       "</tr>\n",
       "</table>\n",
       "<table class=\"simpletable\">\n",
       "<tr>\n",
       "  <th>Omnibus:</th>       <td>98.747</td> <th>  Durbin-Watson:     </th> <td>   1.985</td>\n",
       "</tr>\n",
       "<tr>\n",
       "  <th>Prob(Omnibus):</th> <td> 0.000</td> <th>  Jarque-Bera (JB):  </th> <td> 104.516</td>\n",
       "</tr>\n",
       "<tr>\n",
       "  <th>Skew:</th>          <td> 0.215</td> <th>  Prob(JB):          </th> <td>2.02e-23</td>\n",
       "</tr>\n",
       "<tr>\n",
       "  <th>Kurtosis:</th>      <td> 3.229</td> <th>  Cond. No.          </th> <td>    151.</td>\n",
       "</tr>\n",
       "</table>"
      ],
      "text/plain": [
       "<class 'statsmodels.iolib.summary.Summary'>\n",
       "\"\"\"\n",
       "                            OLS Regression Results                            \n",
       "==============================================================================\n",
       "Dep. Variable:             New_Losses   R-squared:                       0.726\n",
       "Model:                            OLS   Adj. R-squared:                  0.726\n",
       "Method:                 Least Squares   F-statistic:                     5605.\n",
       "Date:                Wed, 30 May 2018   Prob (F-statistic):               0.00\n",
       "Time:                        14:09:56   Log-Likelihood:                -65004.\n",
       "No. Observations:               10596   AIC:                         1.300e+05\n",
       "Df Residuals:                   10590   BIC:                         1.301e+05\n",
       "Df Model:                           5                                         \n",
       "Covariance Type:            nonrobust                                         \n",
       "==============================================================================\n",
       "                 coef    std err          t      P>|t|      [0.025      0.975]\n",
       "------------------------------------------------------------------------------\n",
       "Intercept    562.6949      4.670    120.490      0.000     553.541     571.849\n",
       "YearsDE       -4.2326      0.070    -60.736      0.000      -4.369      -4.096\n",
       "VehicleAge   -10.7905      0.285    -37.807      0.000     -11.350     -10.231\n",
       "IsGender     -41.6882      2.209    -18.873      0.000     -46.018     -37.358\n",
       "IsMarried    -67.6575      2.249    -30.085      0.000     -72.066     -63.249\n",
       "IsDiesel     285.9440      3.123     91.568      0.000     279.823     292.065\n",
       "==============================================================================\n",
       "Omnibus:                       98.747   Durbin-Watson:                   1.985\n",
       "Prob(Omnibus):                  0.000   Jarque-Bera (JB):              104.516\n",
       "Skew:                           0.215   Prob(JB):                     2.02e-23\n",
       "Kurtosis:                       3.229   Cond. No.                         151.\n",
       "==============================================================================\n",
       "\n",
       "Warnings:\n",
       "[1] Standard Errors assume that the covariance matrix of the errors is correctly specified.\n",
       "\"\"\""
      ]
     },
     "execution_count": 109,
     "metadata": {},
     "output_type": "execute_result"
    }
   ],
   "source": [
    "lm_drop=smf.ols(formula='New_Losses~YearsDE+VehicleAge+IsGender+IsMarried+IsDiesel', data=data_train_baru).fit()\n",
    "lm_drop.summary()"
   ]
  },
  {
   "cell_type": "markdown",
   "metadata": {
    "colab_type": "text",
    "id": "yLGSuhJvaAEp"
   },
   "source": [
    "## Autokorelasi"
   ]
  },
  {
   "cell_type": "code",
   "execution_count": 110,
   "metadata": {
    "colab": {
     "autoexec": {
      "startup": false,
      "wait_interval": 0
     },
     "base_uri": "https://localhost:8080/",
     "height": 34
    },
    "colab_type": "code",
    "executionInfo": {
     "elapsed": 916,
     "status": "ok",
     "timestamp": 1527662912563,
     "user": {
      "displayName": "Nur Chamid",
      "photoUrl": "//lh5.googleusercontent.com/-TsgwUJzaJJg/AAAAAAAAAAI/AAAAAAAAARQ/Ngn5q-ighvg/s50-c-k-no/photo.jpg",
      "userId": "109513328284773316398"
     },
     "user_tz": -420
    },
    "id": "awyrE2YxZMBG",
    "outputId": "3eddcdca-45ac-4da9-974d-a1f9d14ca864"
   },
   "outputs": [
    {
     "data": {
      "text/plain": [
       "(array([0.85619551]), array([0.35480554]))"
      ]
     },
     "execution_count": 110,
     "metadata": {},
     "output_type": "execute_result"
    }
   ],
   "source": [
    "from statsmodels.stats import diagnostic\n",
    "diagnostic.acorr_ljungbox(lm2.resid, lags=1)"
   ]
  },
  {
   "cell_type": "code",
   "execution_count": 111,
   "metadata": {
    "colab": {
     "autoexec": {
      "startup": false,
      "wait_interval": 0
     },
     "base_uri": "https://localhost:8080/",
     "height": 34
    },
    "colab_type": "code",
    "executionInfo": {
     "elapsed": 717,
     "status": "ok",
     "timestamp": 1527662915013,
     "user": {
      "displayName": "Nur Chamid",
      "photoUrl": "//lh5.googleusercontent.com/-TsgwUJzaJJg/AAAAAAAAAAI/AAAAAAAAARQ/Ngn5q-ighvg/s50-c-k-no/photo.jpg",
      "userId": "109513328284773316398"
     },
     "user_tz": -420
    },
    "id": "wUj4fOVdxgsv",
    "outputId": "ff831839-8eeb-4e45-f852-8e1c41bcbf17"
   },
   "outputs": [
    {
     "data": {
      "text/plain": [
       "(array([0.57607267]), array([0.44785584]))"
      ]
     },
     "execution_count": 111,
     "metadata": {},
     "output_type": "execute_result"
    }
   ],
   "source": [
    "#setelah drop outlier\n",
    "from statsmodels.stats import diagnostic\n",
    "diagnostic.acorr_ljungbox(lm_drop.resid, lags=1)"
   ]
  },
  {
   "cell_type": "markdown",
   "metadata": {
    "colab_type": "text",
    "id": "G5qxQJaIZUSg"
   },
   "source": [
    "## Multikolinearitas"
   ]
  },
  {
   "cell_type": "code",
   "execution_count": 112,
   "metadata": {
    "colab": {
     "autoexec": {
      "startup": false,
      "wait_interval": 0
     },
     "base_uri": "https://localhost:8080/",
     "height": 323
    },
    "colab_type": "code",
    "executionInfo": {
     "elapsed": 1321,
     "status": "ok",
     "timestamp": 1527662918802,
     "user": {
      "displayName": "Nur Chamid",
      "photoUrl": "//lh5.googleusercontent.com/-TsgwUJzaJJg/AAAAAAAAAAI/AAAAAAAAARQ/Ngn5q-ighvg/s50-c-k-no/photo.jpg",
      "userId": "109513328284773316398"
     },
     "user_tz": -420
    },
    "id": "RF5Yo86BiVOH",
    "outputId": "5cad74a2-c99d-49dc-a5ce-6d83f3df333d"
   },
   "outputs": [
    {
     "data": {
      "text/plain": [
       "<matplotlib.axes._subplots.AxesSubplot at 0x281c84a1358>"
      ]
     },
     "execution_count": 112,
     "metadata": {},
     "output_type": "execute_result"
    },
    {
     "data": {
      "image/png": "[encoded data removed]",
      "text/plain": [
       "<matplotlib.figure.Figure at 0x281c84b9cf8>"
      ]
     },
     "metadata": {},
     "output_type": "display_data"
    }
   ],
   "source": [
    "import seaborn\n",
    "corr_df=X_train.corr(method='pearson')\n",
    "seaborn.heatmap(corr_df,cmap='Blues',vmax=1.0,vmin=-1.0,linewidth=3,annot=True)"
   ]
  },
  {
   "cell_type": "code",
   "execution_count": 113,
   "metadata": {
    "colab": {
     "autoexec": {
      "startup": false,
      "wait_interval": 0
     },
     "base_uri": "https://localhost:8080/",
     "height": 255
    },
    "colab_type": "code",
    "executionInfo": {
     "elapsed": 729,
     "status": "ok",
     "timestamp": 1527662921266,
     "user": {
      "displayName": "Nur Chamid",
      "photoUrl": "//lh5.googleusercontent.com/-TsgwUJzaJJg/AAAAAAAAAAI/AAAAAAAAARQ/Ngn5q-ighvg/s50-c-k-no/photo.jpg",
      "userId": "109513328284773316398"
     },
     "user_tz": -420
    },
    "id": "H4NXcctsic5N",
    "outputId": "edfa10df-9468-409f-de1b-17ac67aac994"
   },
   "outputs": [
    {
     "name": "stdout",
     "output_type": "stream",
     "text": [
      "[[ 1.00000000e+00  6.87532207e-03 -2.41788411e-01  9.86552548e-01\n",
      "  -1.42263113e-02 -4.46114323e-03 -3.21390970e-01]\n",
      " [ 6.87532207e-03  1.00000000e+00  4.97820112e-03  6.18731228e-03\n",
      "   4.85109352e-04 -1.39850273e-02  5.39112111e-03]\n",
      " [-2.41788411e-01  4.97820112e-03  1.00000000e+00 -2.46903906e-01\n",
      "   9.37635408e-03 -9.72140466e-03 -2.91566982e-01]\n",
      " [ 9.86552548e-01  6.18731228e-03 -2.46903906e-01  1.00000000e+00\n",
      "  -1.27270375e-02 -3.46862860e-03 -3.19691878e-01]\n",
      " [-1.42263113e-02  4.85109352e-04  9.37635408e-03 -1.27270375e-02\n",
      "   1.00000000e+00  1.12853108e-02 -1.57996278e-01]\n",
      " [-4.46114323e-03 -1.39850273e-02 -9.72140466e-03 -3.46862860e-03\n",
      "   1.12853108e-02  1.00000000e+00 -2.21996246e-01]\n",
      " [-3.21390970e-01  5.39112111e-03 -2.91566982e-01 -3.19691878e-01\n",
      "  -1.57996278e-01 -2.21996246e-01  1.00000000e+00]]\n"
     ]
    }
   ],
   "source": [
    "import scipy\n",
    "mc=scipy.corrcoef(X_train,rowvar=0)\n",
    "print(mc)"
   ]
  },
  {
   "cell_type": "code",
   "execution_count": 114,
   "metadata": {
    "colab": {
     "autoexec": {
      "startup": false,
      "wait_interval": 0
     }
    },
    "colab_type": "code",
    "id": "7hbPTWsYxzGd"
   },
   "outputs": [],
   "source": [
    "#select feature untuk data train baru\n",
    "X_train_reset_baru = X_train_reset[['YearsDE', 'VehicleAge', 'IsGender', 'IsMarried', 'IsDiesel']]"
   ]
  },
  {
   "cell_type": "code",
   "execution_count": 115,
   "metadata": {
    "colab": {
     "autoexec": {
      "startup": false,
      "wait_interval": 0
     },
     "base_uri": "https://localhost:8080/",
     "height": 282
    },
    "colab_type": "code",
    "executionInfo": {
     "elapsed": 792,
     "status": "ok",
     "timestamp": 1527662926475,
     "user": {
      "displayName": "Nur Chamid",
      "photoUrl": "//lh5.googleusercontent.com/-TsgwUJzaJJg/AAAAAAAAAAI/AAAAAAAAARQ/Ngn5q-ighvg/s50-c-k-no/photo.jpg",
      "userId": "109513328284773316398"
     },
     "user_tz": -420
    },
    "id": "k0x9t0XNx8cQ",
    "outputId": "ab9f8763-0b9f-4bce-e81f-7c6697a71c4a"
   },
   "outputs": [
    {
     "data": {
      "text/plain": [
       "<matplotlib.axes._subplots.AxesSubplot at 0x281c85c0d68>"
      ]
     },
     "execution_count": 115,
     "metadata": {},
     "output_type": "execute_result"
    },
    {
     "data": {
      "image/png": "[encoded data removed]",
      "text/plain": [
       "<matplotlib.figure.Figure at 0x281c7b66128>"
      ]
     },
     "metadata": {},
     "output_type": "display_data"
    }
   ],
   "source": [
    "import seaborn\n",
    "corr_df=X_train_reset_baru.corr(method='pearson')\n",
    "seaborn.heatmap(corr_df,cmap='Blues',vmax=1.0,vmin=-1.0,linewidth=3,annot=True)"
   ]
  },
  {
   "cell_type": "code",
   "execution_count": 116,
   "metadata": {
    "colab": {
     "autoexec": {
      "startup": false,
      "wait_interval": 0
     },
     "base_uri": "https://localhost:8080/",
     "height": 102
    },
    "colab_type": "code",
    "executionInfo": {
     "elapsed": 807,
     "status": "ok",
     "timestamp": 1527662928945,
     "user": {
      "displayName": "Nur Chamid",
      "photoUrl": "//lh5.googleusercontent.com/-TsgwUJzaJJg/AAAAAAAAAAI/AAAAAAAAARQ/Ngn5q-ighvg/s50-c-k-no/photo.jpg",
      "userId": "109513328284773316398"
     },
     "user_tz": -420
    },
    "id": "dJ8rzZPByBIS",
    "outputId": "c02b655c-0479-499c-b670-0fe4847fd49f"
   },
   "outputs": [
    {
     "name": "stdout",
     "output_type": "stream",
     "text": [
      "[[ 1.         -0.25436433 -0.02350168 -0.01389906 -0.30786437]\n",
      " [-0.25436433  1.          0.00479442 -0.0144543  -0.28472544]\n",
      " [-0.02350168  0.00479442  1.          0.0057408  -0.14706599]\n",
      " [-0.01389906 -0.0144543   0.0057408   1.         -0.21229379]\n",
      " [-0.30786437 -0.28472544 -0.14706599 -0.21229379  1.        ]]\n"
     ]
    }
   ],
   "source": [
    "import scipy\n",
    "mc=scipy.corrcoef(X_train_reset_baru,rowvar=0)\n",
    "print(mc)"
   ]
  },
  {
   "cell_type": "code",
   "execution_count": 117,
   "metadata": {
    "colab": {
     "autoexec": {
      "startup": false,
      "wait_interval": 0
     }
    },
    "colab_type": "code",
    "id": "Y99MJLTNwQAR"
   },
   "outputs": [],
   "source": [
    "from statsmodels.stats.outliers_influence import variance_inflation_factor"
   ]
  },
  {
   "cell_type": "code",
   "execution_count": 118,
   "metadata": {
    "colab": {
     "autoexec": {
      "startup": false,
      "wait_interval": 0
     },
     "base_uri": "https://localhost:8080/",
     "height": 102
    },
    "colab_type": "code",
    "executionInfo": {
     "elapsed": 712,
     "status": "ok",
     "timestamp": 1527662935200,
     "user": {
      "displayName": "Nur Chamid",
      "photoUrl": "//lh5.googleusercontent.com/-TsgwUJzaJJg/AAAAAAAAAAI/AAAAAAAAARQ/Ngn5q-ighvg/s50-c-k-no/photo.jpg",
      "userId": "109513328284773316398"
     },
     "user_tz": -420
    },
    "id": "HdU3CuoGwegB",
    "outputId": "5574cd88-30f5-4cdd-cc9c-af66b70cbd78"
   },
   "outputs": [
    {
     "data": {
      "text/plain": [
       "[1.9526213919571858,\n",
       " 2.523186374042763,\n",
       " 1.8468494006934513,\n",
       " 1.8311763529304936,\n",
       " 1.1145546892950906]"
      ]
     },
     "execution_count": 118,
     "metadata": {},
     "output_type": "execute_result"
    }
   ],
   "source": [
    "#after drop outlier\n",
    "X_train_reset_vif = X_train_reset[['YearsDE', 'VehicleAge', 'IsGender', 'IsMarried', 'IsDiesel']]\n",
    "[variance_inflation_factor(X_train_reset_vif.values,j) for j in range(X_train_reset_vif.shape[1])]"
   ]
  },
  {
   "cell_type": "markdown",
   "metadata": {
    "colab_type": "text",
    "id": "YCP20s_FiC8O"
   },
   "source": [
    "## Heteroskedasitas"
   ]
  },
  {
   "cell_type": "code",
   "execution_count": 119,
   "metadata": {
    "colab": {
     "autoexec": {
      "startup": false,
      "wait_interval": 0
     },
     "base_uri": "https://localhost:8080/",
     "height": 34
    },
    "colab_type": "code",
    "executionInfo": {
     "elapsed": 511,
     "status": "ok",
     "timestamp": 1527662939033,
     "user": {
      "displayName": "Nur Chamid",
      "photoUrl": "//lh5.googleusercontent.com/-TsgwUJzaJJg/AAAAAAAAAAI/AAAAAAAAARQ/Ngn5q-ighvg/s50-c-k-no/photo.jpg",
      "userId": "109513328284773316398"
     },
     "user_tz": -420
    },
    "id": "jNZyzQYyZYB3",
    "outputId": "2dd0cffc-befe-49ff-9c20-21727fc42d66"
   },
   "outputs": [
    {
     "data": {
      "text/plain": [
       "(0.9872790673718129, 0.6800731832156841, 'increasing')"
      ]
     },
     "execution_count": 119,
     "metadata": {},
     "output_type": "execute_result"
    }
   ],
   "source": [
    "import statsmodels.stats.api as sms\n",
    "from statsmodels.compat import lzip\n",
    "test = sms.het_goldfeldquandt(lm2.resid,lm2.model.exog)\n",
    "test"
   ]
  },
  {
   "cell_type": "markdown",
   "metadata": {
    "colab_type": "text",
    "id": "OZm4WuKGjDNG"
   },
   "source": [
    "H0 : error term are homoscedacity\n",
    "H1 : error term are heteroscedacity\n",
    "\n",
    "p-value > 0.05 maka H0 gagal ditolak, sehingga error term are homoscedacity"
   ]
  },
  {
   "cell_type": "code",
   "execution_count": 120,
   "metadata": {
    "colab": {
     "autoexec": {
      "startup": false,
      "wait_interval": 0
     },
     "base_uri": "https://localhost:8080/",
     "height": 34
    },
    "colab_type": "code",
    "executionInfo": {
     "elapsed": 709,
     "status": "ok",
     "timestamp": 1527663309223,
     "user": {
      "displayName": "Nur Chamid",
      "photoUrl": "//lh5.googleusercontent.com/-TsgwUJzaJJg/AAAAAAAAAAI/AAAAAAAAARQ/Ngn5q-ighvg/s50-c-k-no/photo.jpg",
      "userId": "109513328284773316398"
     },
     "user_tz": -420
    },
    "id": "u_Xd58pjyH17",
    "outputId": "e3ac13a7-448b-47ad-bf66-8234d1b20bc9"
   },
   "outputs": [
    {
     "data": {
      "text/plain": [
       "(1.0532460280950335, 0.02959864408417288, 'increasing')"
      ]
     },
     "execution_count": 120,
     "metadata": {},
     "output_type": "execute_result"
    }
   ],
   "source": [
    "import statsmodels.stats.api as sms\n",
    "from statsmodels.compat import lzip\n",
    "test = sms.het_goldfeldquandt(lm_drop.resid,lm_drop.model.exog)\n",
    "test"
   ]
  },
  {
   "cell_type": "code",
   "execution_count": null,
   "metadata": {
    "colab": {
     "autoexec": {
      "startup": false,
      "wait_interval": 0
     }
    },
    "colab_type": "code",
    "id": "eNCld1bgzpH6"
   },
   "outputs": [],
   "source": []
  },
  {
   "cell_type": "markdown",
   "metadata": {
    "colab_type": "text",
    "id": "-SPQs02M0odg"
   },
   "source": [
    "# Transformasi"
   ]
  },
  {
   "cell_type": "code",
   "execution_count": 121,
   "metadata": {
    "colab": {
     "autoexec": {
      "startup": false,
      "wait_interval": 0
     }
    },
    "colab_type": "code",
    "id": "s-w3TzQd0urr"
   },
   "outputs": [
    {
     "data": {
      "text/html": [
       "<table class=\"simpletable\">\n",
       "<caption>OLS Regression Results</caption>\n",
       "<tr>\n",
       "  <th>Dep. Variable:</th>       <td>New_Losses</td>    <th>  R-squared:         </th> <td>   0.726</td> \n",
       "</tr>\n",
       "<tr>\n",
       "  <th>Model:</th>                   <td>OLS</td>       <th>  Adj. R-squared:    </th> <td>   0.726</td> \n",
       "</tr>\n",
       "<tr>\n",
       "  <th>Method:</th>             <td>Least Squares</td>  <th>  F-statistic:       </th> <td>   5605.</td> \n",
       "</tr>\n",
       "<tr>\n",
       "  <th>Date:</th>             <td>Wed, 30 May 2018</td> <th>  Prob (F-statistic):</th>  <td>  0.00</td>  \n",
       "</tr>\n",
       "<tr>\n",
       "  <th>Time:</th>                 <td>14:09:57</td>     <th>  Log-Likelihood:    </th> <td> -65004.</td> \n",
       "</tr>\n",
       "<tr>\n",
       "  <th>No. Observations:</th>      <td> 10596</td>      <th>  AIC:               </th> <td>1.300e+05</td>\n",
       "</tr>\n",
       "<tr>\n",
       "  <th>Df Residuals:</th>          <td> 10590</td>      <th>  BIC:               </th> <td>1.301e+05</td>\n",
       "</tr>\n",
       "<tr>\n",
       "  <th>Df Model:</th>              <td>     5</td>      <th>                     </th>     <td> </td>    \n",
       "</tr>\n",
       "<tr>\n",
       "  <th>Covariance Type:</th>      <td>nonrobust</td>    <th>                     </th>     <td> </td>    \n",
       "</tr>\n",
       "</table>\n",
       "<table class=\"simpletable\">\n",
       "<tr>\n",
       "       <td></td>         <th>coef</th>     <th>std err</th>      <th>t</th>      <th>P>|t|</th>  <th>[0.025</th>    <th>0.975]</th>  \n",
       "</tr>\n",
       "<tr>\n",
       "  <th>Intercept</th>  <td>  562.6949</td> <td>    4.670</td> <td>  120.490</td> <td> 0.000</td> <td>  553.541</td> <td>  571.849</td>\n",
       "</tr>\n",
       "<tr>\n",
       "  <th>YearsDE</th>    <td>   -4.2326</td> <td>    0.070</td> <td>  -60.736</td> <td> 0.000</td> <td>   -4.369</td> <td>   -4.096</td>\n",
       "</tr>\n",
       "<tr>\n",
       "  <th>VehicleAge</th> <td>  -10.7905</td> <td>    0.285</td> <td>  -37.807</td> <td> 0.000</td> <td>  -11.350</td> <td>  -10.231</td>\n",
       "</tr>\n",
       "<tr>\n",
       "  <th>IsGender</th>   <td>  -41.6882</td> <td>    2.209</td> <td>  -18.873</td> <td> 0.000</td> <td>  -46.018</td> <td>  -37.358</td>\n",
       "</tr>\n",
       "<tr>\n",
       "  <th>IsMarried</th>  <td>  -67.6575</td> <td>    2.249</td> <td>  -30.085</td> <td> 0.000</td> <td>  -72.066</td> <td>  -63.249</td>\n",
       "</tr>\n",
       "<tr>\n",
       "  <th>IsDiesel</th>   <td>  285.9440</td> <td>    3.123</td> <td>   91.568</td> <td> 0.000</td> <td>  279.823</td> <td>  292.065</td>\n",
       "</tr>\n",
       "</table>\n",
       "<table class=\"simpletable\">\n",
       "<tr>\n",
       "  <th>Omnibus:</th>       <td>98.747</td> <th>  Durbin-Watson:     </th> <td>   1.985</td>\n",
       "</tr>\n",
       "<tr>\n",
       "  <th>Prob(Omnibus):</th> <td> 0.000</td> <th>  Jarque-Bera (JB):  </th> <td> 104.516</td>\n",
       "</tr>\n",
       "<tr>\n",
       "  <th>Skew:</th>          <td> 0.215</td> <th>  Prob(JB):          </th> <td>2.02e-23</td>\n",
       "</tr>\n",
       "<tr>\n",
       "  <th>Kurtosis:</th>      <td> 3.229</td> <th>  Cond. No.          </th> <td>    151.</td>\n",
       "</tr>\n",
       "</table>"
      ],
      "text/plain": [
       "<class 'statsmodels.iolib.summary.Summary'>\n",
       "\"\"\"\n",
       "                            OLS Regression Results                            \n",
       "==============================================================================\n",
       "Dep. Variable:             New_Losses   R-squared:                       0.726\n",
       "Model:                            OLS   Adj. R-squared:                  0.726\n",
       "Method:                 Least Squares   F-statistic:                     5605.\n",
       "Date:                Wed, 30 May 2018   Prob (F-statistic):               0.00\n",
       "Time:                        14:09:57   Log-Likelihood:                -65004.\n",
       "No. Observations:               10596   AIC:                         1.300e+05\n",
       "Df Residuals:                   10590   BIC:                         1.301e+05\n",
       "Df Model:                           5                                         \n",
       "Covariance Type:            nonrobust                                         \n",
       "==============================================================================\n",
       "                 coef    std err          t      P>|t|      [0.025      0.975]\n",
       "------------------------------------------------------------------------------\n",
       "Intercept    562.6949      4.670    120.490      0.000     553.541     571.849\n",
       "YearsDE       -4.2326      0.070    -60.736      0.000      -4.369      -4.096\n",
       "VehicleAge   -10.7905      0.285    -37.807      0.000     -11.350     -10.231\n",
       "IsGender     -41.6882      2.209    -18.873      0.000     -46.018     -37.358\n",
       "IsMarried    -67.6575      2.249    -30.085      0.000     -72.066     -63.249\n",
       "IsDiesel     285.9440      3.123     91.568      0.000     279.823     292.065\n",
       "==============================================================================\n",
       "Omnibus:                       98.747   Durbin-Watson:                   1.985\n",
       "Prob(Omnibus):                  0.000   Jarque-Bera (JB):              104.516\n",
       "Skew:                           0.215   Prob(JB):                     2.02e-23\n",
       "Kurtosis:                       3.229   Cond. No.                         151.\n",
       "==============================================================================\n",
       "\n",
       "Warnings:\n",
       "[1] Standard Errors assume that the covariance matrix of the errors is correctly specified.\n",
       "\"\"\""
      ]
     },
     "execution_count": 121,
     "metadata": {},
     "output_type": "execute_result"
    }
   ],
   "source": [
    "lm_drop=smf.ols(formula='New_Losses~YearsDE+VehicleAge+IsGender+IsMarried+IsDiesel', data=data_train_baru).fit()\n",
    "lm_drop.summary()"
   ]
  },
  {
   "cell_type": "code",
   "execution_count": 122,
   "metadata": {
    "colab": {
     "autoexec": {
      "startup": false,
      "wait_interval": 0
     },
     "base_uri": "https://localhost:8080/",
     "height": 204
    },
    "colab_type": "code",
    "executionInfo": {
     "elapsed": 774,
     "status": "ok",
     "timestamp": 1527663716573,
     "user": {
      "displayName": "Nur Chamid",
      "photoUrl": "//lh5.googleusercontent.com/-TsgwUJzaJJg/AAAAAAAAAAI/AAAAAAAAARQ/Ngn5q-ighvg/s50-c-k-no/photo.jpg",
      "userId": "109513328284773316398"
     },
     "user_tz": -420
    },
    "id": "aGxPRFLo2jVC",
    "outputId": "a3cd69b9-8a97-44d5-ff12-a468bd972cab"
   },
   "outputs": [
    {
     "data": {
      "text/html": [
       "<div>\n",
       "<style scoped>\n",
       "    .dataframe tbody tr th:only-of-type {\n",
       "        vertical-align: middle;\n",
       "    }\n",
       "\n",
       "    .dataframe tbody tr th {\n",
       "        vertical-align: top;\n",
       "    }\n",
       "\n",
       "    .dataframe thead th {\n",
       "        text-align: right;\n",
       "    }\n",
       "</style>\n",
       "<table border=\"1\" class=\"dataframe\">\n",
       "  <thead>\n",
       "    <tr style=\"text-align: right;\">\n",
       "      <th></th>\n",
       "      <th>YearsDE</th>\n",
       "      <th>VehicleNo</th>\n",
       "      <th>VehicleAge</th>\n",
       "      <th>New_Age</th>\n",
       "      <th>IsGender</th>\n",
       "      <th>IsMarried</th>\n",
       "      <th>IsDiesel</th>\n",
       "      <th>New_Losses</th>\n",
       "    </tr>\n",
       "  </thead>\n",
       "  <tbody>\n",
       "    <tr>\n",
       "      <th>0</th>\n",
       "      <td>32</td>\n",
       "      <td>3</td>\n",
       "      <td>11</td>\n",
       "      <td>49.5</td>\n",
       "      <td>1</td>\n",
       "      <td>0</td>\n",
       "      <td>0</td>\n",
       "      <td>262.264769</td>\n",
       "    </tr>\n",
       "    <tr>\n",
       "      <th>1</th>\n",
       "      <td>31</td>\n",
       "      <td>3</td>\n",
       "      <td>7</td>\n",
       "      <td>49.5</td>\n",
       "      <td>1</td>\n",
       "      <td>0</td>\n",
       "      <td>0</td>\n",
       "      <td>405.208415</td>\n",
       "    </tr>\n",
       "    <tr>\n",
       "      <th>2</th>\n",
       "      <td>4</td>\n",
       "      <td>1</td>\n",
       "      <td>7</td>\n",
       "      <td>19.5</td>\n",
       "      <td>1</td>\n",
       "      <td>0</td>\n",
       "      <td>0</td>\n",
       "      <td>421.264034</td>\n",
       "    </tr>\n",
       "    <tr>\n",
       "      <th>3</th>\n",
       "      <td>37</td>\n",
       "      <td>2</td>\n",
       "      <td>7</td>\n",
       "      <td>59.5</td>\n",
       "      <td>1</td>\n",
       "      <td>0</td>\n",
       "      <td>0</td>\n",
       "      <td>414.935757</td>\n",
       "    </tr>\n",
       "    <tr>\n",
       "      <th>4</th>\n",
       "      <td>28</td>\n",
       "      <td>2</td>\n",
       "      <td>6</td>\n",
       "      <td>49.5</td>\n",
       "      <td>0</td>\n",
       "      <td>0</td>\n",
       "      <td>0</td>\n",
       "      <td>414.255336</td>\n",
       "    </tr>\n",
       "  </tbody>\n",
       "</table>\n",
       "</div>"
      ],
      "text/plain": [
       "   YearsDE  VehicleNo  VehicleAge  New_Age  IsGender  IsMarried  IsDiesel  \\\n",
       "0       32          3          11     49.5         1          0         0   \n",
       "1       31          3           7     49.5         1          0         0   \n",
       "2        4          1           7     19.5         1          0         0   \n",
       "3       37          2           7     59.5         1          0         0   \n",
       "4       28          2           6     49.5         0          0         0   \n",
       "\n",
       "   New_Losses  \n",
       "0  262.264769  \n",
       "1  405.208415  \n",
       "2  421.264034  \n",
       "3  414.935757  \n",
       "4  414.255336  "
      ]
     },
     "execution_count": 122,
     "metadata": {},
     "output_type": "execute_result"
    }
   ],
   "source": [
    "data_train_baru.head()"
   ]
  },
  {
   "cell_type": "code",
   "execution_count": 132,
   "metadata": {
    "colab": {
     "autoexec": {
      "startup": false,
      "wait_interval": 0
     }
    },
    "colab_type": "code",
    "id": "XyZnIBW-2U9x"
   },
   "outputs": [],
   "source": [
    "# data5.head()\n",
    "data_stezar = df\n",
    "data_stezar['New_Age'] = data_stezar.Age\n",
    "data_stezar['New_Vehicle_Age'] = data_stezar.VehicleAge"
   ]
  },
  {
   "cell_type": "code",
   "execution_count": 133,
   "metadata": {
    "colab": {
     "autoexec": {
      "startup": false,
      "wait_interval": 0
     }
    },
    "colab_type": "code",
    "id": "7MUhWDwZ2b1M"
   },
   "outputs": [],
   "source": [
    "data_stezar.loc[(data_stezar.Age > 14) & (data_stezar.Age <= 24),'New_Age']= 19.5\n",
    "data_stezar.loc[(data_stezar.Age > 24) & (data_stezar.Age <= 34),'New_Age']= 29.5\n",
    "data_stezar.loc[(data_stezar.Age > 34) & (data_stezar.Age <= 44),'New_Age']= 39.5\n",
    "data_stezar.loc[(data_stezar.Age > 44) & (data_stezar.Age <= 54),'New_Age']= 49.5\n",
    "data_stezar.loc[(data_stezar.Age > 54) & (data_stezar.Age <= 64),'New_Age']= 59.5\n",
    "data_stezar.loc[(data_stezar.Age > 64) & (data_stezar.Age <= 74),'New_Age']= 69.5"
   ]
  },
  {
   "cell_type": "code",
   "execution_count": null,
   "metadata": {},
   "outputs": [],
   "source": []
  },
  {
   "cell_type": "code",
   "execution_count": 127,
   "metadata": {},
   "outputs": [
    {
     "data": {
      "text/html": [
       "<div>\n",
       "<style scoped>\n",
       "    .dataframe tbody tr th:only-of-type {\n",
       "        vertical-align: middle;\n",
       "    }\n",
       "\n",
       "    .dataframe tbody tr th {\n",
       "        vertical-align: top;\n",
       "    }\n",
       "\n",
       "    .dataframe thead th {\n",
       "        text-align: right;\n",
       "    }\n",
       "</style>\n",
       "<table border=\"1\" class=\"dataframe\">\n",
       "  <thead>\n",
       "    <tr style=\"text-align: right;\">\n",
       "      <th></th>\n",
       "      <th>Age</th>\n",
       "      <th>YearsDE</th>\n",
       "      <th>VehicleNo</th>\n",
       "      <th>Gender</th>\n",
       "      <th>Married</th>\n",
       "      <th>VehicleAge</th>\n",
       "      <th>Fuel</th>\n",
       "      <th>Losses</th>\n",
       "      <th>IsGender</th>\n",
       "      <th>IsMarried</th>\n",
       "      <th>IsDiesel</th>\n",
       "      <th>Losses_New</th>\n",
       "      <th>Losses_perx</th>\n",
       "      <th>Losses_akar</th>\n",
       "      <th>AgeDE</th>\n",
       "      <th>New_Losses</th>\n",
       "      <th>New_Age</th>\n",
       "      <th>New_Losses_Log</th>\n",
       "    </tr>\n",
       "    <tr>\n",
       "      <th>Policy Number</th>\n",
       "      <th></th>\n",
       "      <th></th>\n",
       "      <th></th>\n",
       "      <th></th>\n",
       "      <th></th>\n",
       "      <th></th>\n",
       "      <th></th>\n",
       "      <th></th>\n",
       "      <th></th>\n",
       "      <th></th>\n",
       "      <th></th>\n",
       "      <th></th>\n",
       "      <th></th>\n",
       "      <th></th>\n",
       "      <th></th>\n",
       "      <th></th>\n",
       "      <th></th>\n",
       "      <th></th>\n",
       "    </tr>\n",
       "  </thead>\n",
       "  <tbody>\n",
       "    <tr>\n",
       "      <th>150024</th>\n",
       "      <td>24</td>\n",
       "      <td>5</td>\n",
       "      <td>1</td>\n",
       "      <td>M</td>\n",
       "      <td>Married</td>\n",
       "      <td>11</td>\n",
       "      <td>P</td>\n",
       "      <td>203.319595</td>\n",
       "      <td>0</td>\n",
       "      <td>1</td>\n",
       "      <td>0</td>\n",
       "      <td>5.314779</td>\n",
       "      <td>0.004918</td>\n",
       "      <td>14.259018</td>\n",
       "      <td>0.208333</td>\n",
       "      <td>203.319595</td>\n",
       "      <td>19.5</td>\n",
       "      <td>14.259018</td>\n",
       "    </tr>\n",
       "    <tr>\n",
       "      <th>144880</th>\n",
       "      <td>31</td>\n",
       "      <td>10</td>\n",
       "      <td>1</td>\n",
       "      <td>F</td>\n",
       "      <td>Single</td>\n",
       "      <td>6</td>\n",
       "      <td>P</td>\n",
       "      <td>402.197302</td>\n",
       "      <td>1</td>\n",
       "      <td>0</td>\n",
       "      <td>0</td>\n",
       "      <td>5.996943</td>\n",
       "      <td>0.002486</td>\n",
       "      <td>20.054857</td>\n",
       "      <td>0.322581</td>\n",
       "      <td>402.197302</td>\n",
       "      <td>29.5</td>\n",
       "      <td>20.054857</td>\n",
       "    </tr>\n",
       "    <tr>\n",
       "      <th>133742</th>\n",
       "      <td>56</td>\n",
       "      <td>37</td>\n",
       "      <td>1</td>\n",
       "      <td>M</td>\n",
       "      <td>Married</td>\n",
       "      <td>0</td>\n",
       "      <td>D</td>\n",
       "      <td>553.132096</td>\n",
       "      <td>0</td>\n",
       "      <td>1</td>\n",
       "      <td>1</td>\n",
       "      <td>6.315597</td>\n",
       "      <td>0.001808</td>\n",
       "      <td>23.518761</td>\n",
       "      <td>0.660714</td>\n",
       "      <td>553.132096</td>\n",
       "      <td>59.5</td>\n",
       "      <td>23.518761</td>\n",
       "    </tr>\n",
       "    <tr>\n",
       "      <th>151282</th>\n",
       "      <td>52</td>\n",
       "      <td>31</td>\n",
       "      <td>1</td>\n",
       "      <td>F</td>\n",
       "      <td>Married</td>\n",
       "      <td>15</td>\n",
       "      <td>P</td>\n",
       "      <td>292.430579</td>\n",
       "      <td>1</td>\n",
       "      <td>1</td>\n",
       "      <td>0</td>\n",
       "      <td>5.678227</td>\n",
       "      <td>0.003420</td>\n",
       "      <td>17.100602</td>\n",
       "      <td>0.596154</td>\n",
       "      <td>292.430579</td>\n",
       "      <td>49.5</td>\n",
       "      <td>17.100602</td>\n",
       "    </tr>\n",
       "    <tr>\n",
       "      <th>174407</th>\n",
       "      <td>20</td>\n",
       "      <td>3</td>\n",
       "      <td>1</td>\n",
       "      <td>M</td>\n",
       "      <td>Single</td>\n",
       "      <td>15</td>\n",
       "      <td>P</td>\n",
       "      <td>246.540576</td>\n",
       "      <td>0</td>\n",
       "      <td>0</td>\n",
       "      <td>0</td>\n",
       "      <td>5.507527</td>\n",
       "      <td>0.004056</td>\n",
       "      <td>15.701611</td>\n",
       "      <td>0.150000</td>\n",
       "      <td>246.540576</td>\n",
       "      <td>19.5</td>\n",
       "      <td>15.701611</td>\n",
       "    </tr>\n",
       "  </tbody>\n",
       "</table>\n",
       "</div>"
      ],
      "text/plain": [
       "               Age  YearsDE  VehicleNo Gender  Married  VehicleAge Fuel  \\\n",
       "Policy Number                                                             \n",
       "150024          24        5          1      M  Married          11    P   \n",
       "144880          31       10          1      F   Single           6    P   \n",
       "133742          56       37          1      M  Married           0    D   \n",
       "151282          52       31          1      F  Married          15    P   \n",
       "174407          20        3          1      M   Single          15    P   \n",
       "\n",
       "                   Losses  IsGender  IsMarried  IsDiesel  Losses_New  \\\n",
       "Policy Number                                                          \n",
       "150024         203.319595         0          1         0    5.314779   \n",
       "144880         402.197302         1          0         0    5.996943   \n",
       "133742         553.132096         0          1         1    6.315597   \n",
       "151282         292.430579         1          1         0    5.678227   \n",
       "174407         246.540576         0          0         0    5.507527   \n",
       "\n",
       "               Losses_perx  Losses_akar     AgeDE  New_Losses  New_Age  \\\n",
       "Policy Number                                                            \n",
       "150024            0.004918    14.259018  0.208333  203.319595     19.5   \n",
       "144880            0.002486    20.054857  0.322581  402.197302     29.5   \n",
       "133742            0.001808    23.518761  0.660714  553.132096     59.5   \n",
       "151282            0.003420    17.100602  0.596154  292.430579     49.5   \n",
       "174407            0.004056    15.701611  0.150000  246.540576     19.5   \n",
       "\n",
       "               New_Losses_Log  \n",
       "Policy Number                  \n",
       "150024              14.259018  \n",
       "144880              20.054857  \n",
       "133742              23.518761  \n",
       "151282              17.100602  \n",
       "174407              15.701611  "
      ]
     },
     "execution_count": 127,
     "metadata": {},
     "output_type": "execute_result"
    }
   ],
   "source": [
    "df.head()"
   ]
  },
  {
   "cell_type": "code",
   "execution_count": null,
   "metadata": {},
   "outputs": [],
   "source": []
  }
 ],
 "metadata": {
  "colab": {
   "collapsed_sections": [
    "IAacdhc8-oje",
    "KEQj5O5o-oju",
    "7yIdtLfb-okg",
    "vIRvam8e-ok8",
    "vV2XVIkY-olE",
    "rro9n6pa-olM",
    "83e6RSJ9-olU",
    "dt1oEXEI-olc",
    "uZJcLHJ1ZMqp",
    "QxwtmCO5Zi8z",
    "-4snRUIzb8zb",
    "Cacyi3ZvxJgD",
    "ob7beNKnx248",
    "Iko7O-iryJhe"
   ],
   "default_view": {},
   "name": "Tugas Regresi.ipynb",
   "provenance": [],
   "toc_visible": true,
   "version": "0.3.2",
   "views": {}
  },
  "kernelspec": {
   "display_name": "Python 3",
   "language": "python",
   "name": "python3"
  },
  "language_info": {
   "codemirror_mode": {
    "name": "ipython",
    "version": 3
   },
   "file_extension": ".py",
   "mimetype": "text/x-python",
   "name": "python",
   "nbconvert_exporter": "python",
   "pygments_lexer": "ipython3",
   "version": "3.6.4"
  }
 },
 "nbformat": 4,
 "nbformat_minor": 1
}
