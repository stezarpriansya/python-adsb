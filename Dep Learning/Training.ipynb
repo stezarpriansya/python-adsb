{
 "cells": [
  {
   "cell_type": "markdown",
   "metadata": {},
   "source": [
    "# Mini Project Deep Learning (Training)\n",
    "Notebook By. Afif A. Iskandar"
   ]
  },
  {
   "cell_type": "markdown",
   "metadata": {},
   "source": [
    "## Membuat klasifier citra untuk kasus MotoGP"
   ]
  },
  {
   "cell_type": "markdown",
   "metadata": {},
   "source": [
    "- Kelompok : OAOE; Kelompok 3 \n",
    "- TA : Bahrul\n",
    "- Anggota : \n",
    "    * Ziyad\n",
    "    * Stezar\n",
    "    * Faisal\n",
    "    * Nella\n",
    "    * Nourma"
   ]
  },
  {
   "cell_type": "markdown",
   "metadata": {},
   "source": [
    "## Melatih CNN"
   ]
  },
  {
   "cell_type": "code",
   "execution_count": 1,
   "metadata": {},
   "outputs": [
    {
     "name": "stderr",
     "output_type": "stream",
     "text": [
      "Using TensorFlow backend.\n"
     ]
    }
   ],
   "source": [
    "# import library yang dibutuhkan\n",
    "from keras.preprocessing.image import ImageDataGenerator\n",
    "from keras.optimizers import Adam\n",
    "from keras.preprocessing.image import img_to_array\n",
    "from keras.preprocessing.image import load_img\n",
    "from sklearn.preprocessing import LabelBinarizer\n",
    "from sklearn.model_selection import train_test_split\n",
    "from neural_net.myneuralnets import MyNeuralNets\n",
    "import matplotlib.pyplot as plt\n",
    "import numpy as np\n",
    "import argparse\n",
    "import random\n",
    "import os\n",
    "import pickle\n",
    "import matplotlib"
   ]
  },
  {
   "cell_type": "code",
   "execution_count": 2,
   "metadata": {},
   "outputs": [],
   "source": [
    "%matplotlib inline"
   ]
  },
  {
   "cell_type": "code",
   "execution_count": 3,
   "metadata": {},
   "outputs": [],
   "source": [
    "def list_images(basePath, contains=None):\n",
    "    # return the set of files that are valid\n",
    "    return list_files(basePath, validExts=(\".jpg\", \".jpeg\", \".png\", \".bmp\", \".tif\", \".tiff\"), contains=contains)\n",
    "\n",
    "def list_files(basePath, validExts=(\".jpg\", \".jpeg\", \".png\", \".bmp\", \".tif\", \".tiff\"), contains=None):\n",
    "    # loop over the directory structure\n",
    "    for (rootDir, dirNames, filenames) in os.walk(basePath):\n",
    "        # loop over the filenames in the current directory\n",
    "        for filename in filenames:\n",
    "            # if the contains string is not none and the filename does not contain\n",
    "            # the supplied string, then ignore the file\n",
    "            if contains is not None and filename.find(contains) == -1:\n",
    "                continue\n",
    "\n",
    "            # determine the file extension of the current file\n",
    "            ext = filename[filename.rfind(\".\"):].lower()\n",
    "\n",
    "            # check to see if the file is an image and should be processed\n",
    "            if ext.endswith(validExts):\n",
    "                # construct the path to the image and yield it\n",
    "                imagePath = os.path.join(rootDir, filename).replace(\" \", \"\\\\ \")\n",
    "                yield imagePath"
   ]
  },
  {
   "cell_type": "code",
   "execution_count": 22,
   "metadata": {},
   "outputs": [],
   "source": [
    "# Definisikan path dataset dan tempat menyimpan model\n",
    "dataset = 'dataset/' # tempat menyimpan dataset\n",
    "model_path = 'model/model_motogp31.h5'# tempat menyimpan model\n",
    "labelbin = 'label/motogp31.pkl' # tempat menyimpan encodedlabel\n"
   ]
  },
  {
   "cell_type": "code",
   "execution_count": 23,
   "metadata": {},
   "outputs": [],
   "source": [
    "#  hyperparameter\n",
    "EPOCHS = 30\n",
    "INIT_LR = 1e-3 # learning rate\n",
    "BS = 10 # batch\n",
    "IMAGE_DIMS = (96, 96, 3) # size gambar untuk resize"
   ]
  },
  {
   "cell_type": "code",
   "execution_count": 24,
   "metadata": {},
   "outputs": [
    {
     "data": {
      "text/plain": [
       "3"
      ]
     },
     "execution_count": 24,
     "metadata": {},
     "output_type": "execute_result"
    }
   ],
   "source": [
    "IMAGE_DIMS[2]"
   ]
  },
  {
   "cell_type": "code",
   "execution_count": 25,
   "metadata": {},
   "outputs": [],
   "source": [
    "# inisialisasi list data dan label\n",
    "data = []\n",
    "labels = []\n",
    "\n",
    "# load gambar dan acak untuk train + test\n",
    "imagePaths = sorted(list(list_images(dataset)))\n",
    "random.seed(42)\n",
    "random.shuffle(imagePaths)"
   ]
  },
  {
   "cell_type": "code",
   "execution_count": 26,
   "metadata": {},
   "outputs": [],
   "source": [
    "# loop pada dataset untuk simpan data dan label\n",
    "for imagePath in imagePaths:\n",
    "    image = load_img(imagePath, target_size=(IMAGE_DIMS[1], IMAGE_DIMS[0]))\n",
    "    image = img_to_array(image)\n",
    "    data.append(image)\n",
    "\n",
    "    # ekstrak label\n",
    "    label = imagePath.split(os.path.sep)[-2]\n",
    "    labels.append(label.split('/')[1])"
   ]
  },
  {
   "cell_type": "code",
   "execution_count": 27,
   "metadata": {},
   "outputs": [
    {
     "name": "stdout",
     "output_type": "stream",
     "text": [
      "[INFO] data matriks: 100.440000MB\n"
     ]
    }
   ],
   "source": [
    "# Normalisasi data\n",
    "data = np.array(data, dtype=\"float\") / 255.0\n",
    "labels = np.array(labels)\n",
    "print(\"[INFO] data matriks: {:2f}MB\".format(\n",
    "    data.nbytes/ (1024 * 1000.0)))\n"
   ]
  },
  {
   "cell_type": "code",
   "execution_count": 29,
   "metadata": {},
   "outputs": [],
   "source": [
    "# binarisasi label\n",
    "lb = LabelBinarizer()\n",
    "labels = lb.fit_transform(labels)"
   ]
  },
  {
   "cell_type": "code",
   "execution_count": 30,
   "metadata": {},
   "outputs": [],
   "source": [
    "# train-test-split data dan labels \n",
    "# UBAH KODE INI\n",
    "(trainX, testX, trainY, testY) = train_test_split(data,labels, test_size=0.33, random_state=123)"
   ]
  },
  {
   "cell_type": "code",
   "execution_count": 31,
   "metadata": {},
   "outputs": [],
   "source": [
    "# konstruksi ImageGenerator\n",
    "aug = ImageDataGenerator(rotation_range=25, width_shift_range=0.1,\n",
    "    height_shift_range=0.1, shear_range=0.2, zoom_range=0.2,\n",
    "    horizontal_flip=True, fill_mode=\"nearest\")"
   ]
  },
  {
   "cell_type": "code",
   "execution_count": 32,
   "metadata": {},
   "outputs": [
    {
     "name": "stdout",
     "output_type": "stream",
     "text": [
      "[INFO] Mengcompile Jaringan\n"
     ]
    }
   ],
   "source": [
    "# inisialisasi model\n",
    "print(\"[INFO] Mengcompile Jaringan\")\n",
    "model = MyNeuralNets.build(width=IMAGE_DIMS[1], \n",
    "    height=IMAGE_DIMS[0], depth=IMAGE_DIMS[2], \n",
    "    classes=len(lb.classes_))\n",
    "opt = Adam(lr=INIT_LR, decay=INIT_LR / EPOCHS)\n",
    "\n",
    "# UBAH BAGIAN INI\n",
    "model.compile(loss=\"categorical_crossentropy\", optimizer=opt, metrics=[\"accuracy\"])"
   ]
  },
  {
   "cell_type": "code",
   "execution_count": 34,
   "metadata": {},
   "outputs": [],
   "source": [
    "from keras.callbacks import ModelCheckpoint"
   ]
  },
  {
   "cell_type": "code",
   "execution_count": 35,
   "metadata": {},
   "outputs": [
    {
     "name": "stdout",
     "output_type": "stream",
     "text": [
      "[INFO] Melatih Jaringan\n",
      "Epoch 1/30\n",
      "31/31 [==============================] - 8s 263ms/step - loss: 1.8238 - acc: 0.2002 - val_loss: 1.7793 - val_acc: 0.2597\n",
      "\n",
      "Epoch 00001: val_acc improved from -inf to 0.25974, saving model to motogp-bobot-epoch01-akurasi-0.26.h5\n",
      "Epoch 2/30\n",
      "31/31 [==============================] - 8s 247ms/step - loss: 1.7518 - acc: 0.2099 - val_loss: 1.5855 - val_acc: 0.3247\n",
      "\n",
      "Epoch 00002: val_acc improved from 0.25974 to 0.32468, saving model to motogp-bobot-epoch02-akurasi-0.32.h5\n",
      "Epoch 3/30\n",
      "31/31 [==============================] - 8s 252ms/step - loss: 1.4875 - acc: 0.3326 - val_loss: 1.4510 - val_acc: 0.3117\n",
      "\n",
      "Epoch 00003: val_acc did not improve from 0.32468\n",
      "Epoch 4/30\n",
      "31/31 [==============================] - 8s 261ms/step - loss: 1.4018 - acc: 0.3487 - val_loss: 1.2993 - val_acc: 0.3636\n",
      "\n",
      "Epoch 00004: val_acc improved from 0.32468 to 0.36364, saving model to motogp-bobot-epoch04-akurasi-0.36.h5\n",
      "Epoch 5/30\n",
      "31/31 [==============================] - 8s 245ms/step - loss: 1.1844 - acc: 0.4036 - val_loss: 1.2183 - val_acc: 0.4156\n",
      "\n",
      "Epoch 00005: val_acc improved from 0.36364 to 0.41558, saving model to motogp-bobot-epoch05-akurasi-0.42.h5\n",
      "Epoch 6/30\n",
      "31/31 [==============================] - 7s 234ms/step - loss: 1.2612 - acc: 0.3810 - val_loss: 1.2008 - val_acc: 0.4610\n",
      "\n",
      "Epoch 00006: val_acc improved from 0.41558 to 0.46104, saving model to motogp-bobot-epoch06-akurasi-0.46.h5\n",
      "Epoch 7/30\n",
      "31/31 [==============================] - 7s 236ms/step - loss: 1.1055 - acc: 0.4714 - val_loss: 1.4078 - val_acc: 0.4221\n",
      "\n",
      "Epoch 00007: val_acc did not improve from 0.46104\n",
      "Epoch 8/30\n",
      "31/31 [==============================] - 7s 236ms/step - loss: 1.1330 - acc: 0.4391 - val_loss: 1.1524 - val_acc: 0.4805\n",
      "\n",
      "Epoch 00008: val_acc improved from 0.46104 to 0.48052, saving model to motogp-bobot-epoch08-akurasi-0.48.h5\n",
      "Epoch 9/30\n",
      "31/31 [==============================] - 7s 239ms/step - loss: 1.0985 - acc: 0.4876 - val_loss: 1.1590 - val_acc: 0.4481\n",
      "\n",
      "Epoch 00009: val_acc did not improve from 0.48052\n",
      "Epoch 10/30\n",
      "31/31 [==============================] - 7s 237ms/step - loss: 1.1399 - acc: 0.4391 - val_loss: 1.2347 - val_acc: 0.4610\n",
      "\n",
      "Epoch 00010: val_acc did not improve from 0.48052\n",
      "Epoch 11/30\n",
      "31/31 [==============================] - 7s 237ms/step - loss: 1.0222 - acc: 0.5060 - val_loss: 1.2335 - val_acc: 0.4416\n",
      "\n",
      "Epoch 00011: val_acc did not improve from 0.48052\n",
      "Epoch 12/30\n",
      "31/31 [==============================] - 7s 234ms/step - loss: 1.0248 - acc: 0.5060 - val_loss: 1.2181 - val_acc: 0.4221\n",
      "\n",
      "Epoch 00012: val_acc did not improve from 0.48052\n",
      "Epoch 13/30\n",
      "31/31 [==============================] - 7s 241ms/step - loss: 1.0040 - acc: 0.5258 - val_loss: 1.0939 - val_acc: 0.5195\n",
      "\n",
      "Epoch 00013: val_acc improved from 0.48052 to 0.51948, saving model to motogp-bobot-epoch13-akurasi-0.52.h5\n",
      "Epoch 14/30\n",
      "31/31 [==============================] - 7s 230ms/step - loss: 0.9962 - acc: 0.5259 - val_loss: 1.0717 - val_acc: 0.4805\n",
      "\n",
      "Epoch 00014: val_acc did not improve from 0.51948\n",
      "Epoch 15/30\n",
      "31/31 [==============================] - 9s 286ms/step - loss: 0.9614 - acc: 0.5484 - val_loss: 1.1922 - val_acc: 0.4935\n",
      "\n",
      "Epoch 00015: val_acc did not improve from 0.51948\n",
      "Epoch 16/30\n",
      "31/31 [==============================] - 9s 275ms/step - loss: 1.0995 - acc: 0.4935 - val_loss: 1.6580 - val_acc: 0.3442\n",
      "\n",
      "Epoch 00016: val_acc did not improve from 0.51948\n",
      "Epoch 17/30\n",
      "31/31 [==============================] - 9s 291ms/step - loss: 0.9983 - acc: 0.5484 - val_loss: 1.0449 - val_acc: 0.5260\n",
      "\n",
      "Epoch 00017: val_acc improved from 0.51948 to 0.52597, saving model to motogp-bobot-epoch17-akurasi-0.53.h5\n",
      "Epoch 18/30\n",
      "31/31 [==============================] - 9s 285ms/step - loss: 0.9637 - acc: 0.5281 - val_loss: 1.0653 - val_acc: 0.4610\n",
      "\n",
      "Epoch 00018: val_acc did not improve from 0.52597\n",
      "Epoch 19/30\n",
      "31/31 [==============================] - 8s 270ms/step - loss: 1.0286 - acc: 0.5318 - val_loss: 1.0785 - val_acc: 0.4481\n",
      "\n",
      "Epoch 00019: val_acc did not improve from 0.52597\n",
      "Epoch 20/30\n",
      "31/31 [==============================] - 8s 247ms/step - loss: 1.0028 - acc: 0.5290 - val_loss: 1.1960 - val_acc: 0.5065\n",
      "\n",
      "Epoch 00020: val_acc did not improve from 0.52597\n",
      "Epoch 21/30\n",
      "31/31 [==============================] - 7s 239ms/step - loss: 0.9241 - acc: 0.5895 - val_loss: 1.4641 - val_acc: 0.4156\n",
      "\n",
      "Epoch 00021: val_acc did not improve from 0.52597\n",
      "Epoch 22/30\n",
      "31/31 [==============================] - 7s 233ms/step - loss: 0.9603 - acc: 0.5161 - val_loss: 1.0300 - val_acc: 0.5844\n",
      "\n",
      "Epoch 00022: val_acc improved from 0.52597 to 0.58442, saving model to motogp-bobot-epoch22-akurasi-0.58.h5\n",
      "Epoch 23/30\n",
      "31/31 [==============================] - 7s 227ms/step - loss: 0.9344 - acc: 0.5738 - val_loss: 1.0259 - val_acc: 0.5260\n",
      "\n",
      "Epoch 00023: val_acc did not improve from 0.58442\n",
      "Epoch 24/30\n",
      "31/31 [==============================] - 7s 228ms/step - loss: 0.8701 - acc: 0.6061 - val_loss: 0.9834 - val_acc: 0.5390\n",
      "\n",
      "Epoch 00024: val_acc did not improve from 0.58442\n",
      "Epoch 25/30\n",
      "31/31 [==============================] - 7s 235ms/step - loss: 0.8993 - acc: 0.5328 - val_loss: 0.9718 - val_acc: 0.5390\n",
      "\n",
      "Epoch 00025: val_acc did not improve from 0.58442\n",
      "Epoch 26/30\n",
      "31/31 [==============================] - 7s 230ms/step - loss: 0.9791 - acc: 0.5424 - val_loss: 1.1083 - val_acc: 0.4545\n",
      "\n",
      "Epoch 00026: val_acc did not improve from 0.58442\n",
      "Epoch 27/30\n",
      "31/31 [==============================] - 8s 246ms/step - loss: 0.9677 - acc: 0.5392 - val_loss: 0.9450 - val_acc: 0.5584\n",
      "\n",
      "Epoch 00027: val_acc did not improve from 0.58442\n",
      "Epoch 28/30\n",
      "31/31 [==============================] - 7s 237ms/step - loss: 0.8309 - acc: 0.6070 - val_loss: 1.0956 - val_acc: 0.5065\n",
      "\n",
      "Epoch 00028: val_acc did not improve from 0.58442\n",
      "Epoch 29/30\n",
      "31/31 [==============================] - 7s 231ms/step - loss: 0.7439 - acc: 0.6810 - val_loss: 0.9610 - val_acc: 0.5844\n",
      "\n",
      "Epoch 00029: val_acc did not improve from 0.58442\n",
      "Epoch 30/30\n",
      "31/31 [==============================] - 8s 268ms/step - loss: 0.7675 - acc: 0.6677 - val_loss: 0.9614 - val_acc: 0.5584\n",
      "\n",
      "Epoch 00030: val_acc did not improve from 0.58442\n"
     ]
    }
   ],
   "source": [
    "# latih jaringan\n",
    "print(\"[INFO] Melatih Jaringan\")\n",
    "filepath = 'motogp-bobot-epoch{epoch:02d}-akurasi-{val_acc:.2f}.h5'\n",
    "checkpoint = ModelCheckpoint(filepath, monitor=\"val_acc\", verbose=1, save_best_only=True, mode='max')\n",
    "callbacks_list = [checkpoint]\n",
    "H = model.fit_generator(\n",
    "    aug.flow(trainX, trainY, batch_size=BS),\n",
    "    validation_data=(testX, testY),\n",
    "    steps_per_epoch=len(trainX) // BS,\n",
    "    epochs=EPOCHS, verbose=1,\n",
    "    callbacks=callbacks_list)"
   ]
  },
  {
   "cell_type": "code",
   "execution_count": 36,
   "metadata": {},
   "outputs": [
    {
     "name": "stdout",
     "output_type": "stream",
     "text": [
      "[INFO] Menyimpan Model Kedalam Disk\n"
     ]
    }
   ],
   "source": [
    "# menyimpan model\n",
    "print(\"[INFO] Menyimpan Model Kedalam Disk\")\n",
    "model.save(model_path)"
   ]
  },
  {
   "cell_type": "code",
   "execution_count": 37,
   "metadata": {},
   "outputs": [
    {
     "name": "stdout",
     "output_type": "stream",
     "text": [
      "[INFO] Menyimpan Label Binary\n"
     ]
    }
   ],
   "source": [
    "# menyimpan label binary\n",
    "print(\"[INFO] Menyimpan Label Binary\")\n",
    "f = open(labelbin, 'wb')\n",
    "f.write(pickle.dumps(lb))\n",
    "f.close()"
   ]
  },
  {
   "cell_type": "code",
   "execution_count": 38,
   "metadata": {},
   "outputs": [
    {
     "data": {
      "image/png": "[encoded data removed]",
      "text/plain": [
       "<Figure size 1224x288 with 2 Axes>"
      ]
     },
     "metadata": {},
     "output_type": "display_data"
    }
   ],
   "source": [
    "# plot akurasi dan loss\n",
    "# history dapat diakses dari variabel \"H\"\n",
    "\n",
    "x_ticks = H.epoch\n",
    "history = H.history\n",
    "plt.figure(figsize=(17,4))\n",
    "plt.subplot(1,2,1)\n",
    "plt.title('Plot Losses')\n",
    "plt.plot(x_ticks, history['loss'], label=\"loss\", ls='--',color='g')\n",
    "plt.plot(x_ticks, history['val_loss'], label=\"val_loss\", ls='--',color='b')\n",
    "plt.legend()\n",
    "plt.subplot(1,2,2)\n",
    "plt.title('Plot Akurasi')\n",
    "plt.plot(x_ticks, history['acc'], label=\"acc\",color='g')\n",
    "plt.plot(x_ticks, history['val_acc'], label=\"val_acc\",color='b')\n",
    "plt.legend()\n",
    "plt.show()"
   ]
  },
  {
   "cell_type": "code",
   "execution_count": null,
   "metadata": {},
   "outputs": [],
   "source": []
  }
 ],
 "metadata": {
  "kernelspec": {
   "display_name": "Python 3",
   "language": "python",
   "name": "python3"
  },
  "language_info": {
   "codemirror_mode": {
    "name": "ipython",
    "version": 3
   },
   "file_extension": ".py",
   "mimetype": "text/x-python",
   "name": "python",
   "nbconvert_exporter": "python",
   "pygments_lexer": "ipython3",
   "version": "3.6.6"
  }
 },
 "nbformat": 4,
 "nbformat_minor": 2
}
