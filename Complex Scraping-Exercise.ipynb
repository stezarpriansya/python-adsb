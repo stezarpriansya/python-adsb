{
 "cells": [
  {
   "cell_type": "code",
   "execution_count": 31,
   "metadata": {},
   "outputs": [],
   "source": [
    "from selenium import webdriver\n",
    "from selenium.webdriver.support.ui import Select"
   ]
  },
  {
   "cell_type": "markdown",
   "metadata": {},
   "source": [
    "Anda diminta untuk melakukan simulasi kredit mobil Toyota untuk kendaraan yang terbaru agar bisa memberikan opsi opsi kredit lainnya untuk customer.\n",
    "Anda diberikan tugas untuk mendapatkan informasi tersebut untuk All New CHR.\n",
    "\n",
    "Tugas anda adalah untuk mendapatkan angka UANG MUKA & ANGSURAN dari 1 hingga 4 tahun kredit untuk variant CHR Dual Tone, apabila:\n",
    "\n",
    "1. DP Kendaraan 250.000.000 dan semua standard\n",
    "2. DP Kendaraan 200.000.000 dan bunga pinjaman 10%"
   ]
  },
  {
   "cell_type": "code",
   "execution_count": 35,
   "metadata": {},
   "outputs": [],
   "source": [
    "url = 'http://www.toyota.astra.co.id/shopping-tools/form-kredit-simulation'\n",
    "driver = webdriver.Chrome(\"C:/Users/stezar059244/Downloads/chromedriver_win32/chromedriver.exe\")\n",
    "\n",
    "driver.get(url)"
   ]
  },
  {
   "cell_type": "markdown",
   "metadata": {},
   "source": [
    "# First Task"
   ]
  },
  {
   "cell_type": "code",
   "execution_count": 36,
   "metadata": {},
   "outputs": [],
   "source": [
    "# find the car model\n",
    "# Hint: use the id\n",
    "model = driver.find_element_by_id('model')\n",
    "modelSelect = Select(model)\n",
    "modelSelect.select_by_visible_text('All New C-HR')"
   ]
  },
  {
   "cell_type": "code",
   "execution_count": 37,
   "metadata": {},
   "outputs": [],
   "source": [
    "### Fill the code ###\n",
    "# find the variant of model\n",
    "variant = driver.find_element_by_id('variant')\n",
    "variantSelect = Select(variant)\n",
    "\n",
    "# For variant Dual Tone\n",
    "variantSelect.select_by_index(1)"
   ]
  },
  {
   "cell_type": "code",
   "execution_count": 38,
   "metadata": {},
   "outputs": [],
   "source": [
    "### Fill the code ###\n",
    "### For filling Down Payment ###\n",
    "DP = driver.find_element_by_id('downPayment')\n",
    "\n",
    "# Clear the input value\n",
    "\n",
    "DP.clear()\n",
    "\n",
    "# Send the new down payment\n",
    "DP.send_keys(250000000)\n",
    "\n",
    "calculate = driver.find_element_by_id('calculate')\n",
    "calculate.click()"
   ]
  },
  {
   "cell_type": "code",
   "execution_count": 39,
   "metadata": {},
   "outputs": [
    {
     "name": "stdout",
     "output_type": "stream",
     "text": [
      "Rp. 297.440.000,00\n",
      "Rp. 287.440.000,00\n",
      "Rp. 284.106.666,00\n",
      "Rp. 282.440.000,00\n"
     ]
    }
   ],
   "source": [
    "# Print uang muka\n",
    "for i in range(1,5):\n",
    "    elem = driver.find_element_by_id('um'+str(i))\n",
    "    print(elem.text)"
   ]
  },
  {
   "cell_type": "code",
   "execution_count": 40,
   "metadata": {},
   "outputs": [
    {
     "name": "stdout",
     "output_type": "stream",
     "text": [
      "Rp. 21.000.000,00\n",
      "Rp. 11.000.000,00\n",
      "Rp. 7.666.666,67\n",
      "Rp. 6.000.000,00\n"
     ]
    }
   ],
   "source": [
    "for i in range(1,5):\n",
    "    elem = driver.find_element_by_id('angsuran'+str(i))\n",
    "    print(elem.text)"
   ]
  },
  {
   "cell_type": "markdown",
   "metadata": {},
   "source": [
    "# Second Task"
   ]
  },
  {
   "cell_type": "code",
   "execution_count": 44,
   "metadata": {},
   "outputs": [],
   "source": [
    "DP = driver.find_element_by_id('downPayment')\n",
    "\n",
    "# Clear the input value\n",
    "\n",
    "DP.clear()\n",
    "\n",
    "# Send the new down payment\n",
    "DP.send_keys(200000000)"
   ]
  },
  {
   "cell_type": "code",
   "execution_count": 46,
   "metadata": {},
   "outputs": [],
   "source": [
    "# Do it without code skeleton!\n",
    "bunga = driver.find_element_by_id('bunga')\n",
    "\n",
    "# Clear the input value\n",
    "\n",
    "bunga.clear()\n",
    "\n",
    "# Send the new Bunga\n",
    "bunga.send_keys(10)\n",
    "\n",
    "calculate = driver.find_element_by_id('calculate')\n",
    "calculate.click()"
   ]
  },
  {
   "cell_type": "code",
   "execution_count": 47,
   "metadata": {},
   "outputs": [
    {
     "name": "stdout",
     "output_type": "stream",
     "text": [
      "Uang Muka\n",
      "Rp. 253.273.333,00\n",
      "Rp. 239.981.666,00\n",
      "Rp. 235.953.888,00\n",
      "Rp. 233.940.000,00\n"
     ]
    }
   ],
   "source": [
    "# Print uang muka\n",
    "print(\"Uang Muka\")\n",
    "for i in range(1,5):\n",
    "    elem = driver.find_element_by_id('um'+str(i))\n",
    "    print(elem.text)"
   ]
  },
  {
   "cell_type": "code",
   "execution_count": 48,
   "metadata": {},
   "outputs": [
    {
     "name": "stdout",
     "output_type": "stream",
     "text": [
      "Angsuran\n",
      "Rp. 26.583.333,33\n",
      "Rp. 13.291.666,67\n",
      "Rp. 9.263.888,89\n",
      "Rp. 7.250.000,00\n"
     ]
    }
   ],
   "source": [
    "print(\"Angsuran\")\n",
    "for i in range(1,5):\n",
    "    elem = driver.find_element_by_id('angsuran'+str(i))\n",
    "    print(elem.text)"
   ]
  },
  {
   "cell_type": "code",
   "execution_count": null,
   "metadata": {},
   "outputs": [],
   "source": [
    "# End selenium\n",
    "sleep(15)\n",
    "driver.quit()"
   ]
  }
 ],
 "metadata": {
  "kernelspec": {
   "display_name": "Python 3",
   "language": "python",
   "name": "python3"
  },
  "language_info": {
   "codemirror_mode": {
    "name": "ipython",
    "version": 3
   },
   "file_extension": ".py",
   "mimetype": "text/x-python",
   "name": "python",
   "nbconvert_exporter": "python",
   "pygments_lexer": "ipython3",
   "version": "3.6.4"
  }
 },
 "nbformat": 4,
 "nbformat_minor": 2
}
