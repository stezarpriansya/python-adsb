{
 "cells": [
  {
   "cell_type": "markdown",
   "metadata": {},
   "source": [
    "- buat asumsi\n",
    "- tipe data\n",
    "- sebaran data peubah continous\n",
    "- plot = x,y,title\n",
    "- multikolinieritas\n",
    "- transformasi (log/ln/sqrt/cbrt)\n",
    "- peubah kategorik \n",
    "    - marriage  : kategorik 3 (mengganggu,disederhanakan/masukkan ke yang dominan)\n",
    "    - education : kateogiri 4 (mengganggu,disederhanakan/masukkan ke yang dominan)\n",
    "- boxplot (outlier)\n",
    "- variabel predictor terhadap respons\n",
    "    - density plot\n",
    "    - telat bayar - billing (cbrt) \n",
    "    - marriage (lainnya) bisa diabaikan\n",
    "\n",
    "#### data preparation\n",
    "- billing amount multikol di drop\n",
    "- marital status yg kecil, digabungkan\n",
    "- kategorikan data yang tagihan > limit\n"
   ]
  },
  {
   "cell_type": "code",
   "execution_count": 21,
   "metadata": {},
   "outputs": [],
   "source": [
    "import pandas as pd\n",
    "import numpy as np\n",
    "from collections import OrderedDict\n",
    "from sklearn.metrics import confusion_matrix, classification_report\n",
    "import matplotlib.pyplot as plt\n",
    "import seaborn as sns\n",
    "from sklearn.model_selection import train_test_split, cross_val_score\n",
    "from sklearn.linear_model import LogisticRegression\n",
    "from sklearn.tree import DecisionTreeClassifier, export_graphviz\n",
    "from sklearn.metrics import confusion_matrix, accuracy_score\n",
    "import math"
   ]
  },
  {
   "cell_type": "code",
   "execution_count": 22,
   "metadata": {},
   "outputs": [],
   "source": [
    "credit = pd.read_csv('training.csv', sep=',')\n",
    "credittesting = pd.read_csv('testing.csv',sep=',')"
   ]
  },
  {
   "cell_type": "code",
   "execution_count": 23,
   "metadata": {},
   "outputs": [
    {
     "data": {
      "text/html": [
       "<div>\n",
       "<style scoped>\n",
       "    .dataframe tbody tr th:only-of-type {\n",
       "        vertical-align: middle;\n",
       "    }\n",
       "\n",
       "    .dataframe tbody tr th {\n",
       "        vertical-align: top;\n",
       "    }\n",
       "\n",
       "    .dataframe thead th {\n",
       "        text-align: right;\n",
       "    }\n",
       "</style>\n",
       "<table border=\"1\" class=\"dataframe\">\n",
       "  <thead>\n",
       "    <tr style=\"text-align: right;\">\n",
       "      <th></th>\n",
       "      <th>ID</th>\n",
       "      <th>LIMIT_BAL</th>\n",
       "      <th>MARRIAGE</th>\n",
       "      <th>EDUCATION</th>\n",
       "      <th>SEX</th>\n",
       "      <th>AGE</th>\n",
       "      <th>BILL_AMT1</th>\n",
       "      <th>BILL_AMT2</th>\n",
       "      <th>BILL_AMT3</th>\n",
       "      <th>TARGET</th>\n",
       "    </tr>\n",
       "  </thead>\n",
       "  <tbody>\n",
       "    <tr>\n",
       "      <th>0</th>\n",
       "      <td>1</td>\n",
       "      <td>30000.0</td>\n",
       "      <td>1</td>\n",
       "      <td>1</td>\n",
       "      <td>2</td>\n",
       "      <td>40</td>\n",
       "      <td>24607.0</td>\n",
       "      <td>24430.0</td>\n",
       "      <td>23881.0</td>\n",
       "      <td>0</td>\n",
       "    </tr>\n",
       "    <tr>\n",
       "      <th>1</th>\n",
       "      <td>2</td>\n",
       "      <td>20000.0</td>\n",
       "      <td>1</td>\n",
       "      <td>1</td>\n",
       "      <td>2</td>\n",
       "      <td>41</td>\n",
       "      <td>17040.0</td>\n",
       "      <td>16474.0</td>\n",
       "      <td>17203.0</td>\n",
       "      <td>0</td>\n",
       "    </tr>\n",
       "    <tr>\n",
       "      <th>2</th>\n",
       "      <td>3</td>\n",
       "      <td>20000.0</td>\n",
       "      <td>1</td>\n",
       "      <td>1</td>\n",
       "      <td>2</td>\n",
       "      <td>36</td>\n",
       "      <td>17332.0</td>\n",
       "      <td>18600.0</td>\n",
       "      <td>17947.0</td>\n",
       "      <td>0</td>\n",
       "    </tr>\n",
       "    <tr>\n",
       "      <th>3</th>\n",
       "      <td>4</td>\n",
       "      <td>20000.0</td>\n",
       "      <td>1</td>\n",
       "      <td>1</td>\n",
       "      <td>2</td>\n",
       "      <td>35</td>\n",
       "      <td>2003.0</td>\n",
       "      <td>2948.0</td>\n",
       "      <td>3372.0</td>\n",
       "      <td>0</td>\n",
       "    </tr>\n",
       "    <tr>\n",
       "      <th>4</th>\n",
       "      <td>5</td>\n",
       "      <td>170000.0</td>\n",
       "      <td>1</td>\n",
       "      <td>1</td>\n",
       "      <td>2</td>\n",
       "      <td>38</td>\n",
       "      <td>171465.0</td>\n",
       "      <td>145196.0</td>\n",
       "      <td>110163.0</td>\n",
       "      <td>0</td>\n",
       "    </tr>\n",
       "  </tbody>\n",
       "</table>\n",
       "</div>"
      ],
      "text/plain": [
       "   ID  LIMIT_BAL  MARRIAGE  EDUCATION  SEX  AGE  BILL_AMT1  BILL_AMT2  \\\n",
       "0   1    30000.0         1          1    2   40    24607.0    24430.0   \n",
       "1   2    20000.0         1          1    2   41    17040.0    16474.0   \n",
       "2   3    20000.0         1          1    2   36    17332.0    18600.0   \n",
       "3   4    20000.0         1          1    2   35     2003.0     2948.0   \n",
       "4   5   170000.0         1          1    2   38   171465.0   145196.0   \n",
       "\n",
       "   BILL_AMT3  TARGET  \n",
       "0    23881.0       0  \n",
       "1    17203.0       0  \n",
       "2    17947.0       0  \n",
       "3     3372.0       0  \n",
       "4   110163.0       0  "
      ]
     },
     "execution_count": 23,
     "metadata": {},
     "output_type": "execute_result"
    }
   ],
   "source": [
    "credit.head()"
   ]
  },
  {
   "cell_type": "code",
   "execution_count": 24,
   "metadata": {},
   "outputs": [
    {
     "name": "stdout",
     "output_type": "stream",
     "text": [
      "<class 'pandas.core.frame.DataFrame'>\n",
      "RangeIndex: 16625 entries, 0 to 16624\n",
      "Data columns (total 10 columns):\n",
      "ID           16625 non-null int64\n",
      "LIMIT_BAL    16625 non-null float64\n",
      "MARRIAGE     16625 non-null int64\n",
      "EDUCATION    16625 non-null int64\n",
      "SEX          16625 non-null int64\n",
      "AGE          16625 non-null int64\n",
      "BILL_AMT1    16625 non-null float64\n",
      "BILL_AMT2    16625 non-null float64\n",
      "BILL_AMT3    16625 non-null float64\n",
      "TARGET       16625 non-null int64\n",
      "dtypes: float64(4), int64(6)\n",
      "memory usage: 1.3 MB\n"
     ]
    }
   ],
   "source": [
    "credit.info()"
   ]
  },
  {
   "cell_type": "code",
   "execution_count": 25,
   "metadata": {},
   "outputs": [
    {
     "data": {
      "text/html": [
       "<div>\n",
       "<style scoped>\n",
       "    .dataframe tbody tr th:only-of-type {\n",
       "        vertical-align: middle;\n",
       "    }\n",
       "\n",
       "    .dataframe tbody tr th {\n",
       "        vertical-align: top;\n",
       "    }\n",
       "\n",
       "    .dataframe thead th {\n",
       "        text-align: right;\n",
       "    }\n",
       "</style>\n",
       "<table border=\"1\" class=\"dataframe\">\n",
       "  <thead>\n",
       "    <tr style=\"text-align: right;\">\n",
       "      <th></th>\n",
       "      <th>ID</th>\n",
       "      <th>LIMIT_BAL</th>\n",
       "      <th>MARRIAGE</th>\n",
       "      <th>EDUCATION</th>\n",
       "      <th>SEX</th>\n",
       "      <th>AGE</th>\n",
       "      <th>BILL_AMT1</th>\n",
       "      <th>BILL_AMT2</th>\n",
       "      <th>BILL_AMT3</th>\n",
       "      <th>TARGET</th>\n",
       "    </tr>\n",
       "  </thead>\n",
       "  <tbody>\n",
       "    <tr>\n",
       "      <th>count</th>\n",
       "      <td>16625.000000</td>\n",
       "      <td>16625.000000</td>\n",
       "      <td>16625.000000</td>\n",
       "      <td>16625.000000</td>\n",
       "      <td>16625.000000</td>\n",
       "      <td>16625.000000</td>\n",
       "      <td>16625.000000</td>\n",
       "      <td>16625.000000</td>\n",
       "      <td>16625.000000</td>\n",
       "      <td>16625.000000</td>\n",
       "    </tr>\n",
       "    <tr>\n",
       "      <th>mean</th>\n",
       "      <td>8313.000000</td>\n",
       "      <td>157608.781955</td>\n",
       "      <td>1.476932</td>\n",
       "      <td>2.117534</td>\n",
       "      <td>1.588752</td>\n",
       "      <td>43.373955</td>\n",
       "      <td>50720.634827</td>\n",
       "      <td>48815.920662</td>\n",
       "      <td>46471.030556</td>\n",
       "      <td>0.399158</td>\n",
       "    </tr>\n",
       "    <tr>\n",
       "      <th>std</th>\n",
       "      <td>4799.368448</td>\n",
       "      <td>124931.062684</td>\n",
       "      <td>0.523590</td>\n",
       "      <td>0.791191</td>\n",
       "      <td>0.492075</td>\n",
       "      <td>8.777974</td>\n",
       "      <td>73365.449060</td>\n",
       "      <td>70753.129768</td>\n",
       "      <td>68182.984755</td>\n",
       "      <td>0.489740</td>\n",
       "    </tr>\n",
       "    <tr>\n",
       "      <th>min</th>\n",
       "      <td>1.000000</td>\n",
       "      <td>0.000000</td>\n",
       "      <td>1.000000</td>\n",
       "      <td>1.000000</td>\n",
       "      <td>1.000000</td>\n",
       "      <td>20.000000</td>\n",
       "      <td>-165580.000000</td>\n",
       "      <td>-69777.000000</td>\n",
       "      <td>-61506.000000</td>\n",
       "      <td>0.000000</td>\n",
       "    </tr>\n",
       "    <tr>\n",
       "      <th>25%</th>\n",
       "      <td>4157.000000</td>\n",
       "      <td>50000.000000</td>\n",
       "      <td>1.000000</td>\n",
       "      <td>2.000000</td>\n",
       "      <td>1.000000</td>\n",
       "      <td>37.000000</td>\n",
       "      <td>3491.000000</td>\n",
       "      <td>2997.000000</td>\n",
       "      <td>2550.000000</td>\n",
       "      <td>0.000000</td>\n",
       "    </tr>\n",
       "    <tr>\n",
       "      <th>50%</th>\n",
       "      <td>8313.000000</td>\n",
       "      <td>120000.000000</td>\n",
       "      <td>1.000000</td>\n",
       "      <td>2.000000</td>\n",
       "      <td>2.000000</td>\n",
       "      <td>42.000000</td>\n",
       "      <td>21943.000000</td>\n",
       "      <td>20987.000000</td>\n",
       "      <td>19954.000000</td>\n",
       "      <td>0.000000</td>\n",
       "    </tr>\n",
       "    <tr>\n",
       "      <th>75%</th>\n",
       "      <td>12469.000000</td>\n",
       "      <td>230000.000000</td>\n",
       "      <td>2.000000</td>\n",
       "      <td>3.000000</td>\n",
       "      <td>2.000000</td>\n",
       "      <td>49.000000</td>\n",
       "      <td>65903.000000</td>\n",
       "      <td>62725.000000</td>\n",
       "      <td>59111.000000</td>\n",
       "      <td>1.000000</td>\n",
       "    </tr>\n",
       "    <tr>\n",
       "      <th>max</th>\n",
       "      <td>16625.000000</td>\n",
       "      <td>800000.000000</td>\n",
       "      <td>3.000000</td>\n",
       "      <td>4.000000</td>\n",
       "      <td>2.000000</td>\n",
       "      <td>72.000000</td>\n",
       "      <td>746814.000000</td>\n",
       "      <td>646770.000000</td>\n",
       "      <td>693131.000000</td>\n",
       "      <td>1.000000</td>\n",
       "    </tr>\n",
       "  </tbody>\n",
       "</table>\n",
       "</div>"
      ],
      "text/plain": [
       "                 ID      LIMIT_BAL      MARRIAGE     EDUCATION           SEX  \\\n",
       "count  16625.000000   16625.000000  16625.000000  16625.000000  16625.000000   \n",
       "mean    8313.000000  157608.781955      1.476932      2.117534      1.588752   \n",
       "std     4799.368448  124931.062684      0.523590      0.791191      0.492075   \n",
       "min        1.000000       0.000000      1.000000      1.000000      1.000000   \n",
       "25%     4157.000000   50000.000000      1.000000      2.000000      1.000000   \n",
       "50%     8313.000000  120000.000000      1.000000      2.000000      2.000000   \n",
       "75%    12469.000000  230000.000000      2.000000      3.000000      2.000000   \n",
       "max    16625.000000  800000.000000      3.000000      4.000000      2.000000   \n",
       "\n",
       "                AGE      BILL_AMT1      BILL_AMT2      BILL_AMT3        TARGET  \n",
       "count  16625.000000   16625.000000   16625.000000   16625.000000  16625.000000  \n",
       "mean      43.373955   50720.634827   48815.920662   46471.030556      0.399158  \n",
       "std        8.777974   73365.449060   70753.129768   68182.984755      0.489740  \n",
       "min       20.000000 -165580.000000  -69777.000000  -61506.000000      0.000000  \n",
       "25%       37.000000    3491.000000    2997.000000    2550.000000      0.000000  \n",
       "50%       42.000000   21943.000000   20987.000000   19954.000000      0.000000  \n",
       "75%       49.000000   65903.000000   62725.000000   59111.000000      1.000000  \n",
       "max       72.000000  746814.000000  646770.000000  693131.000000      1.000000  "
      ]
     },
     "execution_count": 25,
     "metadata": {},
     "output_type": "execute_result"
    }
   ],
   "source": [
    "credit.describe()"
   ]
  },
  {
   "cell_type": "code",
   "execution_count": 26,
   "metadata": {},
   "outputs": [
    {
     "data": {
      "text/plain": [
       "<matplotlib.axes._subplots.AxesSubplot at 0x22760697198>"
      ]
     },
     "execution_count": 26,
     "metadata": {},
     "output_type": "execute_result"
    },
    {
     "data": {
      "image/png": "[encoded data removed]",
      "text/plain": [
       "<matplotlib.figure.Figure at 0x2276067df28>"
      ]
     },
     "metadata": {},
     "output_type": "display_data"
    }
   ],
   "source": [
    "sns.countplot(x=\"MARRIAGE\", hue=\"TARGET\",data=credit, palette='Set1')"
   ]
  },
  {
   "cell_type": "code",
   "execution_count": 27,
   "metadata": {},
   "outputs": [
    {
     "data": {
      "text/plain": [
       "<matplotlib.axes._subplots.AxesSubplot at 0x2276067d828>"
      ]
     },
     "execution_count": 27,
     "metadata": {},
     "output_type": "execute_result"
    },
    {
     "data": {
      "image/png": "[encoded data removed]",
      "text/plain": [
       "<matplotlib.figure.Figure at 0x2276034bc88>"
      ]
     },
     "metadata": {},
     "output_type": "display_data"
    }
   ],
   "source": [
    "sns.countplot(x=\"EDUCATION\", hue=\"TARGET\",data=credit, palette='Set1')"
   ]
  },
  {
   "cell_type": "code",
   "execution_count": 28,
   "metadata": {},
   "outputs": [
    {
     "data": {
      "text/plain": [
       "<matplotlib.axes._subplots.AxesSubplot at 0x227606a6fd0>"
      ]
     },
     "execution_count": 28,
     "metadata": {},
     "output_type": "execute_result"
    },
    {
     "data": {
      "image/png": "[encoded data removed]",
      "text/plain": [
       "<matplotlib.figure.Figure at 0x22761707208>"
      ]
     },
     "metadata": {},
     "output_type": "display_data"
    }
   ],
   "source": [
    "sns.countplot(x=\"SEX\", hue=\"TARGET\",data=credit, palette='Set1')"
   ]
  },
  {
   "cell_type": "code",
   "execution_count": 29,
   "metadata": {},
   "outputs": [
    {
     "data": {
      "text/html": [
       "<style  type=\"text/css\" >\n",
       "    #T_4d4e40e4_6a15_11e8_ba6e_44032ce21b6arow0_col0 {\n",
       "            background-color:  #78c679;\n",
       "        }    #T_4d4e40e4_6a15_11e8_ba6e_44032ce21b6arow0_col1 {\n",
       "            background-color:  #4eb264;\n",
       "        }    #T_4d4e40e4_6a15_11e8_ba6e_44032ce21b6arow0_col2 {\n",
       "            background-color:  #68be70;\n",
       "        }    #T_4d4e40e4_6a15_11e8_ba6e_44032ce21b6arow1_col0 {\n",
       "            background-color:  #79c67a;\n",
       "        }    #T_4d4e40e4_6a15_11e8_ba6e_44032ce21b6arow1_col1 {\n",
       "            background-color:  #9fd899;\n",
       "        }    #T_4d4e40e4_6a15_11e8_ba6e_44032ce21b6arow1_col2 {\n",
       "            background-color:  #87cd86;\n",
       "        }    #T_4d4e40e4_6a15_11e8_ba6e_44032ce21b6arow2_col0 {\n",
       "            background-color:  #f7fcf5;\n",
       "        }    #T_4d4e40e4_6a15_11e8_ba6e_44032ce21b6arow2_col1 {\n",
       "            background-color:  #f7fcf5;\n",
       "        }    #T_4d4e40e4_6a15_11e8_ba6e_44032ce21b6arow2_col2 {\n",
       "            background-color:  #f7fcf5;\n",
       "        }    #T_4d4e40e4_6a15_11e8_ba6e_44032ce21b6arow3_col0 {\n",
       "            background-color:  #00441b;\n",
       "        }    #T_4d4e40e4_6a15_11e8_ba6e_44032ce21b6arow3_col1 {\n",
       "            background-color:  #00441b;\n",
       "        }    #T_4d4e40e4_6a15_11e8_ba6e_44032ce21b6arow3_col2 {\n",
       "            background-color:  #00441b;\n",
       "        }</style>  \n",
       "<table id=\"T_4d4e40e4_6a15_11e8_ba6e_44032ce21b6a\" > \n",
       "<thead>    <tr> \n",
       "        <th class=\"index_name level0\" >TARGET</th> \n",
       "        <th class=\"col_heading level0 col0\" >0</th> \n",
       "        <th class=\"col_heading level0 col1\" >1</th> \n",
       "        <th class=\"col_heading level0 col2\" >All</th> \n",
       "    </tr>    <tr> \n",
       "        <th class=\"index_name level0\" >MARRIAGE</th> \n",
       "        <th class=\"blank\" ></th> \n",
       "        <th class=\"blank\" ></th> \n",
       "        <th class=\"blank\" ></th> \n",
       "    </tr></thead> \n",
       "<tbody>    <tr> \n",
       "        <th id=\"T_4d4e40e4_6a15_11e8_ba6e_44032ce21b6alevel0_row0\" class=\"row_heading level0 row0\" >1</th> \n",
       "        <td id=\"T_4d4e40e4_6a15_11e8_ba6e_44032ce21b6arow0_col0\" class=\"data row0 col0\" >4945</td> \n",
       "        <td id=\"T_4d4e40e4_6a15_11e8_ba6e_44032ce21b6arow0_col1\" class=\"data row0 col1\" >3956</td> \n",
       "        <td id=\"T_4d4e40e4_6a15_11e8_ba6e_44032ce21b6arow0_col2\" class=\"data row0 col2\" >8901</td> \n",
       "    </tr>    <tr> \n",
       "        <th id=\"T_4d4e40e4_6a15_11e8_ba6e_44032ce21b6alevel0_row1\" class=\"row_heading level0 row1\" >2</th> \n",
       "        <td id=\"T_4d4e40e4_6a15_11e8_ba6e_44032ce21b6arow1_col0\" class=\"data row1 col0\" >4928</td> \n",
       "        <td id=\"T_4d4e40e4_6a15_11e8_ba6e_44032ce21b6arow1_col1\" class=\"data row1 col1\" >2591</td> \n",
       "        <td id=\"T_4d4e40e4_6a15_11e8_ba6e_44032ce21b6arow1_col2\" class=\"data row1 col2\" >7519</td> \n",
       "    </tr>    <tr> \n",
       "        <th id=\"T_4d4e40e4_6a15_11e8_ba6e_44032ce21b6alevel0_row2\" class=\"row_heading level0 row2\" >3</th> \n",
       "        <td id=\"T_4d4e40e4_6a15_11e8_ba6e_44032ce21b6arow2_col0\" class=\"data row2 col0\" >116</td> \n",
       "        <td id=\"T_4d4e40e4_6a15_11e8_ba6e_44032ce21b6arow2_col1\" class=\"data row2 col1\" >89</td> \n",
       "        <td id=\"T_4d4e40e4_6a15_11e8_ba6e_44032ce21b6arow2_col2\" class=\"data row2 col2\" >205</td> \n",
       "    </tr>    <tr> \n",
       "        <th id=\"T_4d4e40e4_6a15_11e8_ba6e_44032ce21b6alevel0_row3\" class=\"row_heading level0 row3\" >All</th> \n",
       "        <td id=\"T_4d4e40e4_6a15_11e8_ba6e_44032ce21b6arow3_col0\" class=\"data row3 col0\" >9989</td> \n",
       "        <td id=\"T_4d4e40e4_6a15_11e8_ba6e_44032ce21b6arow3_col1\" class=\"data row3 col1\" >6636</td> \n",
       "        <td id=\"T_4d4e40e4_6a15_11e8_ba6e_44032ce21b6arow3_col2\" class=\"data row3 col2\" >16625</td> \n",
       "    </tr></tbody> \n",
       "</table> "
      ],
      "text/plain": [
       "<pandas.io.formats.style.Styler at 0x2276177d080>"
      ]
     },
     "execution_count": 29,
     "metadata": {},
     "output_type": "execute_result"
    }
   ],
   "source": [
    "pd.crosstab(credit['MARRIAGE'],credit['TARGET'],margins=True).style.background_gradient(cmap='Greens')"
   ]
  },
  {
   "cell_type": "code",
   "execution_count": 30,
   "metadata": {},
   "outputs": [
    {
     "data": {
      "text/html": [
       "<style  type=\"text/css\" >\n",
       "    #T_4d770246_6a15_11e8_bca9_44032ce21b6arow0_col0 {\n",
       "            background-color:  #44a266;\n",
       "        }    #T_4d770246_6a15_11e8_bca9_44032ce21b6arow0_col1 {\n",
       "            background-color:  #2b9566;\n",
       "        }    #T_4d770246_6a15_11e8_bca9_44032ce21b6arow0_col2 {\n",
       "            background-color:  #3a9c66;\n",
       "        }    #T_4d770246_6a15_11e8_bca9_44032ce21b6arow1_col0 {\n",
       "            background-color:  #66b266;\n",
       "        }    #T_4d770246_6a15_11e8_bca9_44032ce21b6arow1_col1 {\n",
       "            background-color:  #6ab466;\n",
       "        }    #T_4d770246_6a15_11e8_bca9_44032ce21b6arow1_col2 {\n",
       "            background-color:  #67b366;\n",
       "        }    #T_4d770246_6a15_11e8_bca9_44032ce21b6arow2_col0 {\n",
       "            background-color:  #47a366;\n",
       "        }    #T_4d770246_6a15_11e8_bca9_44032ce21b6arow2_col1 {\n",
       "            background-color:  #5aac66;\n",
       "        }    #T_4d770246_6a15_11e8_bca9_44032ce21b6arow2_col2 {\n",
       "            background-color:  #4fa766;\n",
       "        }    #T_4d770246_6a15_11e8_bca9_44032ce21b6arow3_col0 {\n",
       "            background-color:  #008066;\n",
       "        }    #T_4d770246_6a15_11e8_bca9_44032ce21b6arow3_col1 {\n",
       "            background-color:  #008066;\n",
       "        }    #T_4d770246_6a15_11e8_bca9_44032ce21b6arow3_col2 {\n",
       "            background-color:  #008066;\n",
       "        }    #T_4d770246_6a15_11e8_bca9_44032ce21b6arow4_col0 {\n",
       "            background-color:  #ffff66;\n",
       "        }    #T_4d770246_6a15_11e8_bca9_44032ce21b6arow4_col1 {\n",
       "            background-color:  #ffff66;\n",
       "        }    #T_4d770246_6a15_11e8_bca9_44032ce21b6arow4_col2 {\n",
       "            background-color:  #ffff66;\n",
       "        }</style>  \n",
       "<table id=\"T_4d770246_6a15_11e8_bca9_44032ce21b6a\" > \n",
       "<thead>    <tr> \n",
       "        <th class=\"index_name level0\" >TARGET</th> \n",
       "        <th class=\"col_heading level0 col0\" >0</th> \n",
       "        <th class=\"col_heading level0 col1\" >1</th> \n",
       "        <th class=\"col_heading level0 col2\" >All</th> \n",
       "    </tr>    <tr> \n",
       "        <th class=\"index_name level0\" >EDUCATION</th> \n",
       "        <th class=\"blank\" ></th> \n",
       "        <th class=\"blank\" ></th> \n",
       "        <th class=\"blank\" ></th> \n",
       "    </tr></thead> \n",
       "<tbody>    <tr> \n",
       "        <th id=\"T_4d770246_6a15_11e8_bca9_44032ce21b6alevel0_row0\" class=\"row_heading level0 row0\" >1</th> \n",
       "        <td id=\"T_4d770246_6a15_11e8_bca9_44032ce21b6arow0_col0\" class=\"data row0 col0\" >2792</td> \n",
       "        <td id=\"T_4d770246_6a15_11e8_bca9_44032ce21b6arow0_col1\" class=\"data row0 col1\" >1237</td> \n",
       "        <td id=\"T_4d770246_6a15_11e8_bca9_44032ce21b6arow0_col2\" class=\"data row0 col2\" >4029</td> \n",
       "    </tr>    <tr> \n",
       "        <th id=\"T_4d770246_6a15_11e8_bca9_44032ce21b6alevel0_row1\" class=\"row_heading level0 row1\" >2</th> \n",
       "        <td id=\"T_4d770246_6a15_11e8_bca9_44032ce21b6arow1_col0\" class=\"data row1 col0\" >4095</td> \n",
       "        <td id=\"T_4d770246_6a15_11e8_bca9_44032ce21b6arow1_col1\" class=\"data row1 col1\" >2830</td> \n",
       "        <td id=\"T_4d770246_6a15_11e8_bca9_44032ce21b6arow1_col2\" class=\"data row1 col2\" >6925</td> \n",
       "    </tr>    <tr> \n",
       "        <th id=\"T_4d770246_6a15_11e8_bca9_44032ce21b6alevel0_row2\" class=\"row_heading level0 row2\" >3</th> \n",
       "        <td id=\"T_4d770246_6a15_11e8_bca9_44032ce21b6arow2_col0\" class=\"data row2 col0\" >2923</td> \n",
       "        <td id=\"T_4d770246_6a15_11e8_bca9_44032ce21b6arow2_col1\" class=\"data row2 col1\" >2436</td> \n",
       "        <td id=\"T_4d770246_6a15_11e8_bca9_44032ce21b6arow2_col2\" class=\"data row2 col2\" >5359</td> \n",
       "    </tr>    <tr> \n",
       "        <th id=\"T_4d770246_6a15_11e8_bca9_44032ce21b6alevel0_row3\" class=\"row_heading level0 row3\" >4</th> \n",
       "        <td id=\"T_4d770246_6a15_11e8_bca9_44032ce21b6arow3_col0\" class=\"data row3 col0\" >179</td> \n",
       "        <td id=\"T_4d770246_6a15_11e8_bca9_44032ce21b6arow3_col1\" class=\"data row3 col1\" >133</td> \n",
       "        <td id=\"T_4d770246_6a15_11e8_bca9_44032ce21b6arow3_col2\" class=\"data row3 col2\" >312</td> \n",
       "    </tr>    <tr> \n",
       "        <th id=\"T_4d770246_6a15_11e8_bca9_44032ce21b6alevel0_row4\" class=\"row_heading level0 row4\" >All</th> \n",
       "        <td id=\"T_4d770246_6a15_11e8_bca9_44032ce21b6arow4_col0\" class=\"data row4 col0\" >9989</td> \n",
       "        <td id=\"T_4d770246_6a15_11e8_bca9_44032ce21b6arow4_col1\" class=\"data row4 col1\" >6636</td> \n",
       "        <td id=\"T_4d770246_6a15_11e8_bca9_44032ce21b6arow4_col2\" class=\"data row4 col2\" >16625</td> \n",
       "    </tr></tbody> \n",
       "</table> "
      ],
      "text/plain": [
       "<pandas.io.formats.style.Styler at 0x22761739630>"
      ]
     },
     "execution_count": 30,
     "metadata": {},
     "output_type": "execute_result"
    }
   ],
   "source": [
    "pd.crosstab(credit['EDUCATION'],credit['TARGET'],margins=True).style.background_gradient(cmap='summer')"
   ]
  },
  {
   "cell_type": "code",
   "execution_count": 31,
   "metadata": {},
   "outputs": [
    {
     "data": {
      "text/html": [
       "<style  type=\"text/css\" >\n",
       "    #T_4d97ecbe_6a15_11e8_9c72_44032ce21b6arow0_col0 {\n",
       "            background-color:  #ffff66;\n",
       "        }    #T_4d97ecbe_6a15_11e8_9c72_44032ce21b6arow0_col1 {\n",
       "            background-color:  #e9f466;\n",
       "        }    #T_4d97ecbe_6a15_11e8_9c72_44032ce21b6arow0_col2 {\n",
       "            background-color:  #ffff66;\n",
       "        }    #T_4d97ecbe_6a15_11e8_9c72_44032ce21b6arow1_col0 {\n",
       "            background-color:  #81c066;\n",
       "        }    #T_4d97ecbe_6a15_11e8_9c72_44032ce21b6arow1_col1 {\n",
       "            background-color:  #ffff66;\n",
       "        }    #T_4d97ecbe_6a15_11e8_9c72_44032ce21b6arow1_col2 {\n",
       "            background-color:  #b2d866;\n",
       "        }    #T_4d97ecbe_6a15_11e8_9c72_44032ce21b6arow2_col0 {\n",
       "            background-color:  #008066;\n",
       "        }    #T_4d97ecbe_6a15_11e8_9c72_44032ce21b6arow2_col1 {\n",
       "            background-color:  #008066;\n",
       "        }    #T_4d97ecbe_6a15_11e8_9c72_44032ce21b6arow2_col2 {\n",
       "            background-color:  #008066;\n",
       "        }</style>  \n",
       "<table id=\"T_4d97ecbe_6a15_11e8_9c72_44032ce21b6a\" > \n",
       "<thead>    <tr> \n",
       "        <th class=\"index_name level0\" >TARGET</th> \n",
       "        <th class=\"col_heading level0 col0\" >0</th> \n",
       "        <th class=\"col_heading level0 col1\" >1</th> \n",
       "        <th class=\"col_heading level0 col2\" >All</th> \n",
       "    </tr>    <tr> \n",
       "        <th class=\"index_name level0\" >SEX</th> \n",
       "        <th class=\"blank\" ></th> \n",
       "        <th class=\"blank\" ></th> \n",
       "        <th class=\"blank\" ></th> \n",
       "    </tr></thead> \n",
       "<tbody>    <tr> \n",
       "        <th id=\"T_4d97ecbe_6a15_11e8_9c72_44032ce21b6alevel0_row0\" class=\"row_heading level0 row0\" >1</th> \n",
       "        <td id=\"T_4d97ecbe_6a15_11e8_9c72_44032ce21b6arow0_col0\" class=\"data row0 col0\" >3364</td> \n",
       "        <td id=\"T_4d97ecbe_6a15_11e8_9c72_44032ce21b6arow0_col1\" class=\"data row0 col1\" >3473</td> \n",
       "        <td id=\"T_4d97ecbe_6a15_11e8_9c72_44032ce21b6arow0_col2\" class=\"data row0 col2\" >6837</td> \n",
       "    </tr>    <tr> \n",
       "        <th id=\"T_4d97ecbe_6a15_11e8_9c72_44032ce21b6alevel0_row1\" class=\"row_heading level0 row1\" >2</th> \n",
       "        <td id=\"T_4d97ecbe_6a15_11e8_9c72_44032ce21b6arow1_col0\" class=\"data row1 col0\" >6625</td> \n",
       "        <td id=\"T_4d97ecbe_6a15_11e8_9c72_44032ce21b6arow1_col1\" class=\"data row1 col1\" >3163</td> \n",
       "        <td id=\"T_4d97ecbe_6a15_11e8_9c72_44032ce21b6arow1_col2\" class=\"data row1 col2\" >9788</td> \n",
       "    </tr>    <tr> \n",
       "        <th id=\"T_4d97ecbe_6a15_11e8_9c72_44032ce21b6alevel0_row2\" class=\"row_heading level0 row2\" >All</th> \n",
       "        <td id=\"T_4d97ecbe_6a15_11e8_9c72_44032ce21b6arow2_col0\" class=\"data row2 col0\" >9989</td> \n",
       "        <td id=\"T_4d97ecbe_6a15_11e8_9c72_44032ce21b6arow2_col1\" class=\"data row2 col1\" >6636</td> \n",
       "        <td id=\"T_4d97ecbe_6a15_11e8_9c72_44032ce21b6arow2_col2\" class=\"data row2 col2\" >16625</td> \n",
       "    </tr></tbody> \n",
       "</table> "
      ],
      "text/plain": [
       "<pandas.io.formats.style.Styler at 0x2276178a978>"
      ]
     },
     "execution_count": 31,
     "metadata": {},
     "output_type": "execute_result"
    }
   ],
   "source": [
    "pd.crosstab(credit['SEX'],credit['TARGET'],margins=True).style.background_gradient(cmap='summer_r')"
   ]
  },
  {
   "cell_type": "code",
   "execution_count": 32,
   "metadata": {},
   "outputs": [
    {
     "data": {
      "text/plain": [
       "<matplotlib.axes._subplots.AxesSubplot at 0x227617b6710>"
      ]
     },
     "execution_count": 32,
     "metadata": {},
     "output_type": "execute_result"
    },
    {
     "data": {
      "image/png": "[encoded data removed]",
      "text/plain": [
       "<matplotlib.figure.Figure at 0x2276171ff60>"
      ]
     },
     "metadata": {},
     "output_type": "display_data"
    }
   ],
   "source": [
    "sns.boxplot(y=\"BILL_AMT3\", x=\"TARGET\", data=credit)"
   ]
  },
  {
   "cell_type": "markdown",
   "metadata": {},
   "source": [
    "Logistic Regression\n",
    "#### TRAIN TEST SPLIT"
   ]
  },
  {
   "cell_type": "code",
   "execution_count": 33,
   "metadata": {},
   "outputs": [],
   "source": [
    "credit1 = pd.get_dummies(credit, columns = ['MARRIAGE', 'EDUCATION','SEX'], drop_first=True)"
   ]
  },
  {
   "cell_type": "code",
   "execution_count": 34,
   "metadata": {},
   "outputs": [],
   "source": [
    "X = credit1.drop(['ID','TARGET'],1)\n",
    "Y = credit1['TARGET']\n",
    "train_X, test_X, train_y, test_y = train_test_split(X,Y,test_size=0.2,random_state=123) "
   ]
  },
  {
   "cell_type": "markdown",
   "metadata": {},
   "source": [
    "#### Logistic Regression Modeling"
   ]
  },
  {
   "cell_type": "code",
   "execution_count": 35,
   "metadata": {},
   "outputs": [],
   "source": [
    "logreg = LogisticRegression(random_state = 123)\n",
    "logreg.fit(train_X, train_y)\n",
    "logregpred = logreg.predict(test_X)"
   ]
  },
  {
   "cell_type": "markdown",
   "metadata": {},
   "source": [
    "#### Summary"
   ]
  },
  {
   "cell_type": "code",
   "execution_count": 36,
   "metadata": {},
   "outputs": [
    {
     "name": "stdout",
     "output_type": "stream",
     "text": [
      "Intercept: \n",
      " [3.17102244e-05]\n"
     ]
    },
    {
     "data": {
      "text/html": [
       "<div>\n",
       "<style scoped>\n",
       "    .dataframe tbody tr th:only-of-type {\n",
       "        vertical-align: middle;\n",
       "    }\n",
       "\n",
       "    .dataframe tbody tr th {\n",
       "        vertical-align: top;\n",
       "    }\n",
       "\n",
       "    .dataframe thead th {\n",
       "        text-align: right;\n",
       "    }\n",
       "</style>\n",
       "<table border=\"1\" class=\"dataframe\">\n",
       "  <thead>\n",
       "    <tr style=\"text-align: right;\">\n",
       "      <th></th>\n",
       "      <th>0</th>\n",
       "      <th>0</th>\n",
       "    </tr>\n",
       "  </thead>\n",
       "  <tbody>\n",
       "    <tr>\n",
       "      <th>0</th>\n",
       "      <td>LIMIT_BAL</td>\n",
       "      <td>-4.668152e-06</td>\n",
       "    </tr>\n",
       "    <tr>\n",
       "      <th>1</th>\n",
       "      <td>AGE</td>\n",
       "      <td>9.333653e-03</td>\n",
       "    </tr>\n",
       "    <tr>\n",
       "      <th>2</th>\n",
       "      <td>BILL_AMT1</td>\n",
       "      <td>-2.488037e-06</td>\n",
       "    </tr>\n",
       "    <tr>\n",
       "      <th>3</th>\n",
       "      <td>BILL_AMT2</td>\n",
       "      <td>8.406160e-07</td>\n",
       "    </tr>\n",
       "    <tr>\n",
       "      <th>4</th>\n",
       "      <td>BILL_AMT3</td>\n",
       "      <td>1.434783e-06</td>\n",
       "    </tr>\n",
       "    <tr>\n",
       "      <th>5</th>\n",
       "      <td>MARRIAGE_2</td>\n",
       "      <td>-1.579935e-04</td>\n",
       "    </tr>\n",
       "    <tr>\n",
       "      <th>6</th>\n",
       "      <td>MARRIAGE_3</td>\n",
       "      <td>3.252801e-09</td>\n",
       "    </tr>\n",
       "    <tr>\n",
       "      <th>7</th>\n",
       "      <td>EDUCATION_2</td>\n",
       "      <td>2.190826e-05</td>\n",
       "    </tr>\n",
       "    <tr>\n",
       "      <th>8</th>\n",
       "      <td>EDUCATION_3</td>\n",
       "      <td>1.581840e-04</td>\n",
       "    </tr>\n",
       "    <tr>\n",
       "      <th>9</th>\n",
       "      <td>EDUCATION_4</td>\n",
       "      <td>5.500223e-06</td>\n",
       "    </tr>\n",
       "    <tr>\n",
       "      <th>10</th>\n",
       "      <td>SEX_2</td>\n",
       "      <td>-2.798976e-04</td>\n",
       "    </tr>\n",
       "  </tbody>\n",
       "</table>\n",
       "</div>"
      ],
      "text/plain": [
       "              0             0\n",
       "0     LIMIT_BAL -4.668152e-06\n",
       "1           AGE  9.333653e-03\n",
       "2     BILL_AMT1 -2.488037e-06\n",
       "3     BILL_AMT2  8.406160e-07\n",
       "4     BILL_AMT3  1.434783e-06\n",
       "5    MARRIAGE_2 -1.579935e-04\n",
       "6    MARRIAGE_3  3.252801e-09\n",
       "7   EDUCATION_2  2.190826e-05\n",
       "8   EDUCATION_3  1.581840e-04\n",
       "9   EDUCATION_4  5.500223e-06\n",
       "10        SEX_2 -2.798976e-04"
      ]
     },
     "execution_count": 36,
     "metadata": {},
     "output_type": "execute_result"
    }
   ],
   "source": [
    "print('Intercept: \\n', logreg.intercept_)\n",
    "coef = pd.concat([pd.DataFrame(X.columns),\n",
    "                 pd.DataFrame(np.transpose(logreg.coef_))],\n",
    "                 axis=1)\n",
    "coef"
   ]
  },
  {
   "cell_type": "markdown",
   "metadata": {},
   "source": [
    "#### Confusion Matrix"
   ]
  },
  {
   "cell_type": "code",
   "execution_count": 38,
   "metadata": {},
   "outputs": [
    {
     "data": {
      "text/plain": [
       "1.0093773473760743"
      ]
     },
     "execution_count": 38,
     "metadata": {},
     "output_type": "execute_result"
    }
   ],
   "source": [
    "math.exp(9.333653e-03)"
   ]
  },
  {
   "cell_type": "markdown",
   "metadata": {},
   "source": [
    "#### peluang perbandingan telat membayar atau tidak telat bayar, jika umurnya bertambah 1 tahun adalah 1,0093 kali dibandingkan jika umurnya tetap dan peubah lain tetap"
   ]
  },
  {
   "cell_type": "code",
   "execution_count": 39,
   "metadata": {},
   "outputs": [
    {
     "name": "stdout",
     "output_type": "stream",
     "text": [
      "Confusion Matrix : \n",
      " [[1463  589]\n",
      " [ 631  642]]\n",
      "Accuracy : 0.6330827067669172\n",
      "Sensitivity : 0.5043205027494109\n",
      "Specificity : 0.7129629629629629\n"
     ]
    }
   ],
   "source": [
    "cm = confusion_matrix(test_y,logregpred)\n",
    "\n",
    "total = sum(sum(cm))\n",
    "accuracy    = (cm[0,0] + cm[1,1]) / total\n",
    "sensitivity = cm[1,1] / (cm[1,0] + cm[1,1])\n",
    "specificity = cm[0,0] / (cm[0,0] + cm[0,1])\n",
    "#precision   = cm[1,1] / (cm[0,1] + cm[1,1])\n",
    "\n",
    "print('Confusion Matrix : \\n', cm)\n",
    "print('Accuracy :',accuracy)\n",
    "print('Sensitivity :', sensitivity)\n",
    "print('Specificity :', specificity)\n",
    "#print('precision   :', precision)"
   ]
  },
  {
   "cell_type": "markdown",
   "metadata": {},
   "source": [
    "### DECISION TREE"
   ]
  },
  {
   "cell_type": "code",
   "execution_count": 104,
   "metadata": {},
   "outputs": [],
   "source": [
    "decisiontree = DecisionTreeClassifier(random_state=123, min_samples_split=1000, min_samples_leaf=70)\n",
    "decisiontree.fit(train_X, train_y)\n",
    "dtpred = decisiontree.predict(test_X)\n",
    "\n",
    "# test_X amatan baru\n",
    "# prediksi train_X, dimana train_X data-data yang digunakan untuk membuat model\n",
    "# cek perbedaan train_Y dengan dtpred"
   ]
  },
  {
   "cell_type": "markdown",
   "metadata": {},
   "source": [
    "### Confusion Matrix"
   ]
  },
  {
   "cell_type": "code",
   "execution_count": 49,
   "metadata": {},
   "outputs": [
    {
     "name": "stdout",
     "output_type": "stream",
     "text": [
      "Confusion Matrix : \n",
      " [[6680 1257]\n",
      " [1216 4147]]\n",
      "Accuracy : 0.8140601503759398\n",
      "Sensitivity : 0.7732612343837404\n",
      "Specificity : 0.8416278190752173\n"
     ]
    }
   ],
   "source": [
    "cm1 = confusion_matrix(test_y, dtpred)\n",
    "\n",
    "total1 = sum(sum(cm1))\n",
    "accuracy1   = (cm1[0,0] + cm1[1,1]) / total1\n",
    "sensitivity1 = cm1[1,1] / (cm1[1,0] + cm1[1,1])\n",
    "specificity1 = cm1[0,0] / (cm1[0,0] + cm1[0,1])\n",
    "\n",
    "print('Confusion Matrix : \\n', cm1)\n",
    "print('Accuracy :',accuracy1)\n",
    "print('Sensitivity :', sensitivity1)\n",
    "print('Specificity :', specificity1)"
   ]
  },
  {
   "cell_type": "code",
   "execution_count": 42,
   "metadata": {},
   "outputs": [
    {
     "data": {
      "text/html": [
       "<div>\n",
       "<style scoped>\n",
       "    .dataframe tbody tr th:only-of-type {\n",
       "        vertical-align: middle;\n",
       "    }\n",
       "\n",
       "    .dataframe tbody tr th {\n",
       "        vertical-align: top;\n",
       "    }\n",
       "\n",
       "    .dataframe thead th {\n",
       "        text-align: right;\n",
       "    }\n",
       "</style>\n",
       "<table border=\"1\" class=\"dataframe\">\n",
       "  <thead>\n",
       "    <tr style=\"text-align: right;\">\n",
       "      <th></th>\n",
       "      <th>LIMIT_BAL</th>\n",
       "      <th>AGE</th>\n",
       "      <th>BILL_AMT1</th>\n",
       "      <th>BILL_AMT2</th>\n",
       "      <th>BILL_AMT3</th>\n",
       "      <th>MARRIAGE_2</th>\n",
       "      <th>MARRIAGE_3</th>\n",
       "      <th>EDUCATION_2</th>\n",
       "      <th>EDUCATION_3</th>\n",
       "      <th>EDUCATION_4</th>\n",
       "      <th>SEX_2</th>\n",
       "    </tr>\n",
       "  </thead>\n",
       "  <tbody>\n",
       "    <tr>\n",
       "      <th>9927</th>\n",
       "      <td>80000.0</td>\n",
       "      <td>57</td>\n",
       "      <td>78009.0</td>\n",
       "      <td>78616.0</td>\n",
       "      <td>49662.0</td>\n",
       "      <td>1</td>\n",
       "      <td>0</td>\n",
       "      <td>0</td>\n",
       "      <td>0</td>\n",
       "      <td>0</td>\n",
       "      <td>1</td>\n",
       "    </tr>\n",
       "    <tr>\n",
       "      <th>5964</th>\n",
       "      <td>380000.0</td>\n",
       "      <td>40</td>\n",
       "      <td>106065.0</td>\n",
       "      <td>97979.0</td>\n",
       "      <td>100599.0</td>\n",
       "      <td>0</td>\n",
       "      <td>0</td>\n",
       "      <td>0</td>\n",
       "      <td>1</td>\n",
       "      <td>0</td>\n",
       "      <td>0</td>\n",
       "    </tr>\n",
       "    <tr>\n",
       "      <th>3874</th>\n",
       "      <td>50000.0</td>\n",
       "      <td>39</td>\n",
       "      <td>47479.0</td>\n",
       "      <td>49344.0</td>\n",
       "      <td>19596.0</td>\n",
       "      <td>1</td>\n",
       "      <td>0</td>\n",
       "      <td>0</td>\n",
       "      <td>0</td>\n",
       "      <td>0</td>\n",
       "      <td>0</td>\n",
       "    </tr>\n",
       "    <tr>\n",
       "      <th>9173</th>\n",
       "      <td>290000.0</td>\n",
       "      <td>47</td>\n",
       "      <td>83607.0</td>\n",
       "      <td>83618.0</td>\n",
       "      <td>86768.0</td>\n",
       "      <td>1</td>\n",
       "      <td>0</td>\n",
       "      <td>0</td>\n",
       "      <td>1</td>\n",
       "      <td>0</td>\n",
       "      <td>0</td>\n",
       "    </tr>\n",
       "    <tr>\n",
       "      <th>388</th>\n",
       "      <td>130000.0</td>\n",
       "      <td>36</td>\n",
       "      <td>0.0</td>\n",
       "      <td>0.0</td>\n",
       "      <td>0.0</td>\n",
       "      <td>0</td>\n",
       "      <td>0</td>\n",
       "      <td>0</td>\n",
       "      <td>0</td>\n",
       "      <td>0</td>\n",
       "      <td>1</td>\n",
       "    </tr>\n",
       "  </tbody>\n",
       "</table>\n",
       "</div>"
      ],
      "text/plain": [
       "      LIMIT_BAL  AGE  BILL_AMT1  BILL_AMT2  BILL_AMT3  MARRIAGE_2  MARRIAGE_3  \\\n",
       "9927    80000.0   57    78009.0    78616.0    49662.0           1           0   \n",
       "5964   380000.0   40   106065.0    97979.0   100599.0           0           0   \n",
       "3874    50000.0   39    47479.0    49344.0    19596.0           1           0   \n",
       "9173   290000.0   47    83607.0    83618.0    86768.0           1           0   \n",
       "388    130000.0   36        0.0        0.0        0.0           0           0   \n",
       "\n",
       "      EDUCATION_2  EDUCATION_3  EDUCATION_4  SEX_2  \n",
       "9927            0            0            0      1  \n",
       "5964            0            1            0      0  \n",
       "3874            0            0            0      0  \n",
       "9173            0            1            0      0  \n",
       "388             0            0            0      1  "
      ]
     },
     "execution_count": 42,
     "metadata": {},
     "output_type": "execute_result"
    }
   ],
   "source": [
    "train_X.head()"
   ]
  },
  {
   "cell_type": "markdown",
   "metadata": {},
   "source": [
    "- regresi logistik cocok untuk trend nyamonoton naik, atau monoton turun\n",
    "- kondisi plot density tidak sesuai dengan regresi logistik, sehingga accuracy yang dihasilkan oleh decision tree lebih besar dibandingkan dengan regresi logistik\n"
   ]
  },
  {
   "cell_type": "code",
   "execution_count": 43,
   "metadata": {},
   "outputs": [],
   "source": [
    "features=train_X.columns\n",
    "export_graphviz(decisiontree, out_file='D:/dt.txt',\n",
    "                feature_names=features,class_names=[\"0\",\"1\"])\n",
    "# graph = pydotplus.graph_from_dot_data(dot_data.getvalue())  \n",
    "# Image(graph.create_png())\n",
    "# www.webgraphviz.com"
   ]
  },
  {
   "cell_type": "markdown",
   "metadata": {},
   "source": [
    "model 80% baik dengan decision tree\n",
    "melakukan feature engineering\n",
    "membuat variabel baru\n",
    "akurasi naik 1% tidak masalah\n",
    "sampai ke tahap prescription\n",
    "testing, mendapatkan probabilitynya,urutkan\n",
    "siapa 500 orang yang diingatkan untuk tidak terlambat bayar"
   ]
  },
  {
   "cell_type": "markdown",
   "metadata": {},
   "source": [
    "- peluang perbandingan telat membayar atau tidak telat bayar, jika umurnya bertambah 1 tahun adalah 1,0093 kali dibandingkan jika umurnya tetap dan peubah lain tetap\n",
    "- overfitting, hanya baik jika digunakan untuk memprediksi dirinya sendiri(amatan2 untuk model), tetapi tidak baik jika digunakan untuk memprediksi amatan baru"
   ]
  },
  {
   "cell_type": "code",
   "execution_count": 62,
   "metadata": {},
   "outputs": [],
   "source": [
    "logreg = LogisticRegression(random_state = 123)\n",
    "logreg.fit(train_X, train_y)\n",
    "logregpred = logreg.predict(train_X)"
   ]
  },
  {
   "cell_type": "code",
   "execution_count": 63,
   "metadata": {},
   "outputs": [
    {
     "name": "stdout",
     "output_type": "stream",
     "text": [
      "Confusion Matrix : \n",
      " [[5588 2349]\n",
      " [2624 2739]]\n",
      "Accuracy : 0.6260902255639098\n",
      "Sensitivity : 0.5107216110385978\n",
      "Specificity : 0.7040443492503464\n"
     ]
    }
   ],
   "source": [
    "cm = confusion_matrix(train_y,logregpred)\n",
    "\n",
    "total = sum(sum(cm))\n",
    "accuracy    = (cm[0,0] + cm[1,1]) / total\n",
    "sensitivity = cm[1,1] / (cm[1,0] + cm[1,1])\n",
    "specificity = cm[0,0] / (cm[0,0] + cm[0,1])\n",
    "#precision   = cm[1,1] / (cm[0,1] + cm[1,1])\n",
    "\n",
    "print('Confusion Matrix : \\n', cm)\n",
    "print('Accuracy :',accuracy)\n",
    "print('Sensitivity :', sensitivity)\n",
    "print('Specificity :', specificity)\n",
    "#print('precision   :', precision)"
   ]
  },
  {
   "cell_type": "code",
   "execution_count": 70,
   "metadata": {},
   "outputs": [],
   "source": [
    "decisiontree = DecisionTreeClassifier(random_state=123)\n",
    "decisiontree.fit(train_X, train_y)\n",
    "dtpred = decisiontree.predict(train_X)"
   ]
  },
  {
   "cell_type": "code",
   "execution_count": 71,
   "metadata": {},
   "outputs": [
    {
     "name": "stdout",
     "output_type": "stream",
     "text": [
      "Confusion Matrix : \n",
      " [[7936    1]\n",
      " [   8 5355]]\n",
      "Accuracy : 0.9993233082706767\n",
      "Sensitivity : 0.9985082975946299\n",
      "Specificity : 0.9998740078115157\n"
     ]
    }
   ],
   "source": [
    "cm1 = confusion_matrix(train_y, dtpred)\n",
    "\n",
    "total1 = sum(sum(cm1))\n",
    "accuracy1   = (cm1[0,0] + cm1[1,1]) / total1\n",
    "sensitivity1 = cm1[1,1] / (cm1[1,0] + cm1[1,1])\n",
    "specificity1 = cm1[0,0] / (cm1[0,0] + cm1[0,1])\n",
    "\n",
    "print('Confusion Matrix : \\n', cm1)\n",
    "print('Accuracy :',accuracy1)\n",
    "print('Sensitivity :', sensitivity1)\n",
    "print('Specificity :', specificity1)"
   ]
  },
  {
   "cell_type": "code",
   "execution_count": 72,
   "metadata": {},
   "outputs": [],
   "source": [
    "decisiontree = DecisionTreeClassifier(random_state=123)\n",
    "decisiontree.fit(train_X, train_y)\n",
    "dtpred = decisiontree.predict(test_X)"
   ]
  },
  {
   "cell_type": "code",
   "execution_count": 73,
   "metadata": {},
   "outputs": [
    {
     "name": "stdout",
     "output_type": "stream",
     "text": [
      "Confusion Matrix : \n",
      " [[1716  336]\n",
      " [ 292  981]]\n",
      "Accuracy : 0.8111278195488721\n",
      "Sensitivity : 0.7706205813040062\n",
      "Specificity : 0.8362573099415205\n"
     ]
    }
   ],
   "source": [
    "cm1 = confusion_matrix(test_y, dtpred)\n",
    "\n",
    "total1 = sum(sum(cm1))\n",
    "accuracy1   = (cm1[0,0] + cm1[1,1]) / total1\n",
    "sensitivity1 = cm1[1,1] / (cm1[1,0] + cm1[1,1])\n",
    "specificity1 = cm1[0,0] / (cm1[0,0] + cm1[0,1])\n",
    "\n",
    "print('Confusion Matrix : \\n', cm1)\n",
    "print('Accuracy :',accuracy1)\n",
    "print('Sensitivity :', sensitivity1)\n",
    "print('Specificity :', specificity1)"
   ]
  },
  {
   "cell_type": "code",
   "execution_count": 90,
   "metadata": {},
   "outputs": [],
   "source": [
    "decisiontree = DecisionTreeClassifier(random_state=123,min_samples_split=3000, min_samples_leaf=100)\n",
    "decisiontree.fit(train_X, train_y)\n",
    "dtpred = decisiontree.predict(train_X)"
   ]
  },
  {
   "cell_type": "code",
   "execution_count": 91,
   "metadata": {},
   "outputs": [
    {
     "name": "stdout",
     "output_type": "stream",
     "text": [
      "Confusion Matrix : \n",
      " [[6276 1661]\n",
      " [1249 4114]]\n",
      "Accuracy : 0.781203007518797\n",
      "Sensitivity : 0.7671079619615887\n",
      "Specificity : 0.7907269749275545\n"
     ]
    }
   ],
   "source": [
    "cm1 = confusion_matrix(train_y, dtpred)\n",
    "\n",
    "total1 = sum(sum(cm1))\n",
    "accuracy1   = (cm1[0,0] + cm1[1,1]) / total1\n",
    "sensitivity1 = cm1[1,1] / (cm1[1,0] + cm1[1,1])\n",
    "specificity1 = cm1[0,0] / (cm1[0,0] + cm1[0,1])\n",
    "\n",
    "print('Confusion Matrix : \\n', cm1)\n",
    "print('Accuracy :',accuracy1)\n",
    "print('Sensitivity :', sensitivity1)\n",
    "print('Specificity :', specificity1)"
   ]
  },
  {
   "cell_type": "code",
   "execution_count": 92,
   "metadata": {},
   "outputs": [],
   "source": [
    "decisiontree = DecisionTreeClassifier(random_state=123,min_samples_split=3000, min_samples_leaf=100)\n",
    "decisiontree.fit(train_X, train_y)\n",
    "dtpred = decisiontree.predict(test_X)"
   ]
  },
  {
   "cell_type": "code",
   "execution_count": 93,
   "metadata": {},
   "outputs": [
    {
     "name": "stdout",
     "output_type": "stream",
     "text": [
      "Confusion Matrix : \n",
      " [[1615  437]\n",
      " [ 326  947]]\n",
      "Accuracy : 0.7705263157894737\n",
      "Sensitivity : 0.7439120188531029\n",
      "Specificity : 0.7870370370370371\n"
     ]
    }
   ],
   "source": [
    "cm1 = confusion_matrix(test_y, dtpred)\n",
    "\n",
    "total1 = sum(sum(cm1))\n",
    "accuracy1   = (cm1[0,0] + cm1[1,1]) / total1\n",
    "sensitivity1 = cm1[1,1] / (cm1[1,0] + cm1[1,1])\n",
    "specificity1 = cm1[0,0] / (cm1[0,0] + cm1[0,1])\n",
    "\n",
    "print('Confusion Matrix : \\n', cm1)\n",
    "print('Accuracy :',accuracy1)\n",
    "print('Sensitivity :', sensitivity1)\n",
    "print('Specificity :', specificity1)"
   ]
  },
  {
   "cell_type": "markdown",
   "metadata": {},
   "source": [
    "### IMPLEMENTATION\n",
    "#### One Hot Encoder"
   ]
  },
  {
   "cell_type": "code",
   "execution_count": 96,
   "metadata": {},
   "outputs": [],
   "source": [
    "kredittesting = pd.get_dummies(credittesting, columns=['MARRIAGE','EDUCATION','SEX'],drop_first=True)"
   ]
  },
  {
   "cell_type": "markdown",
   "metadata": {},
   "source": [
    "#### Decision Tree Modeling"
   ]
  },
  {
   "cell_type": "code",
   "execution_count": 97,
   "metadata": {},
   "outputs": [],
   "source": [
    "Xtesting = kredittesting.drop('ID',1)"
   ]
  },
  {
   "cell_type": "code",
   "execution_count": 111,
   "metadata": {},
   "outputs": [
    {
     "data": {
      "text/html": [
       "<div>\n",
       "<style scoped>\n",
       "    .dataframe tbody tr th:only-of-type {\n",
       "        vertical-align: middle;\n",
       "    }\n",
       "\n",
       "    .dataframe tbody tr th {\n",
       "        vertical-align: top;\n",
       "    }\n",
       "\n",
       "    .dataframe thead th {\n",
       "        text-align: right;\n",
       "    }\n",
       "</style>\n",
       "<table border=\"1\" class=\"dataframe\">\n",
       "  <thead>\n",
       "    <tr style=\"text-align: right;\">\n",
       "      <th></th>\n",
       "      <th>Prob0</th>\n",
       "      <th>Prob1</th>\n",
       "    </tr>\n",
       "  </thead>\n",
       "  <tbody>\n",
       "    <tr>\n",
       "      <th>0</th>\n",
       "      <td>0.919283</td>\n",
       "      <td>0.080717</td>\n",
       "    </tr>\n",
       "    <tr>\n",
       "      <th>1</th>\n",
       "      <td>0.919283</td>\n",
       "      <td>0.080717</td>\n",
       "    </tr>\n",
       "    <tr>\n",
       "      <th>2</th>\n",
       "      <td>0.919283</td>\n",
       "      <td>0.080717</td>\n",
       "    </tr>\n",
       "    <tr>\n",
       "      <th>3</th>\n",
       "      <td>0.919283</td>\n",
       "      <td>0.080717</td>\n",
       "    </tr>\n",
       "    <tr>\n",
       "      <th>4</th>\n",
       "      <td>0.996967</td>\n",
       "      <td>0.003033</td>\n",
       "    </tr>\n",
       "  </tbody>\n",
       "</table>\n",
       "</div>"
      ],
      "text/plain": [
       "      Prob0     Prob1\n",
       "0  0.919283  0.080717\n",
       "1  0.919283  0.080717\n",
       "2  0.919283  0.080717\n",
       "3  0.919283  0.080717\n",
       "4  0.996967  0.003033"
      ]
     },
     "execution_count": 111,
     "metadata": {},
     "output_type": "execute_result"
    }
   ],
   "source": [
    "dtpred = decisiontree.predict_proba(Xtesting)\n",
    "dtpred = pd.DataFrame(dtpred)\n",
    "dtpred.columns=['Prob0','Prob1']\n",
    "dtpred.head(5)\n",
    "# probability terjadinya y=0, \n",
    "# karena prob0 > prob1, hasil kelas=0"
   ]
  },
  {
   "cell_type": "markdown",
   "metadata": {},
   "source": [
    "peluang 0 lebih besar dari prob 1, maka diperoleh class bernilai 0"
   ]
  },
  {
   "cell_type": "markdown",
   "metadata": {},
   "source": [
    "#### Data Prediction"
   ]
  },
  {
   "cell_type": "code",
   "execution_count": 113,
   "metadata": {},
   "outputs": [
    {
     "data": {
      "text/html": [
       "<div>\n",
       "<style scoped>\n",
       "    .dataframe tbody tr th:only-of-type {\n",
       "        vertical-align: middle;\n",
       "    }\n",
       "\n",
       "    .dataframe tbody tr th {\n",
       "        vertical-align: top;\n",
       "    }\n",
       "\n",
       "    .dataframe thead th {\n",
       "        text-align: right;\n",
       "    }\n",
       "</style>\n",
       "<table border=\"1\" class=\"dataframe\">\n",
       "  <thead>\n",
       "    <tr style=\"text-align: right;\">\n",
       "      <th></th>\n",
       "      <th>Class</th>\n",
       "    </tr>\n",
       "  </thead>\n",
       "  <tbody>\n",
       "    <tr>\n",
       "      <th>0</th>\n",
       "      <td>0</td>\n",
       "    </tr>\n",
       "    <tr>\n",
       "      <th>1</th>\n",
       "      <td>0</td>\n",
       "    </tr>\n",
       "    <tr>\n",
       "      <th>2</th>\n",
       "      <td>0</td>\n",
       "    </tr>\n",
       "    <tr>\n",
       "      <th>3</th>\n",
       "      <td>0</td>\n",
       "    </tr>\n",
       "    <tr>\n",
       "      <th>4</th>\n",
       "      <td>0</td>\n",
       "    </tr>\n",
       "  </tbody>\n",
       "</table>\n",
       "</div>"
      ],
      "text/plain": [
       "   Class\n",
       "0      0\n",
       "1      0\n",
       "2      0\n",
       "3      0\n",
       "4      0"
      ]
     },
     "execution_count": 113,
     "metadata": {},
     "output_type": "execute_result"
    }
   ],
   "source": [
    "dtpred1 = decisiontree.predict(Xtesting)\n",
    "dtpred1 = pd.DataFrame(dtpred1)\n",
    "dtpred1.columns=['Class']\n",
    "dtpred1.head()"
   ]
  },
  {
   "cell_type": "markdown",
   "metadata": {},
   "source": [
    "### Data Outlook"
   ]
  },
  {
   "cell_type": "code",
   "execution_count": 107,
   "metadata": {},
   "outputs": [
    {
     "data": {
      "text/html": [
       "<div>\n",
       "<style scoped>\n",
       "    .dataframe tbody tr th:only-of-type {\n",
       "        vertical-align: middle;\n",
       "    }\n",
       "\n",
       "    .dataframe tbody tr th {\n",
       "        vertical-align: top;\n",
       "    }\n",
       "\n",
       "    .dataframe thead th {\n",
       "        text-align: right;\n",
       "    }\n",
       "</style>\n",
       "<table border=\"1\" class=\"dataframe\">\n",
       "  <thead>\n",
       "    <tr style=\"text-align: right;\">\n",
       "      <th></th>\n",
       "      <th>ID</th>\n",
       "      <th>LIMIT_BAL</th>\n",
       "      <th>MARRIAGE</th>\n",
       "      <th>EDUCATION</th>\n",
       "      <th>SEX</th>\n",
       "      <th>AGE</th>\n",
       "      <th>BILL_AMT1</th>\n",
       "      <th>BILL_AMT2</th>\n",
       "      <th>BILL_AMT3</th>\n",
       "      <th>Prob0</th>\n",
       "      <th>Prob1</th>\n",
       "      <th>Class</th>\n",
       "    </tr>\n",
       "  </thead>\n",
       "  <tbody>\n",
       "    <tr>\n",
       "      <th>0</th>\n",
       "      <td>1</td>\n",
       "      <td>30000.0</td>\n",
       "      <td>1</td>\n",
       "      <td>1</td>\n",
       "      <td>2</td>\n",
       "      <td>40</td>\n",
       "      <td>24430.0</td>\n",
       "      <td>23881.0</td>\n",
       "      <td>24234.0</td>\n",
       "      <td>0.919283</td>\n",
       "      <td>0.080717</td>\n",
       "      <td>0</td>\n",
       "    </tr>\n",
       "    <tr>\n",
       "      <th>1</th>\n",
       "      <td>2</td>\n",
       "      <td>20000.0</td>\n",
       "      <td>1</td>\n",
       "      <td>1</td>\n",
       "      <td>2</td>\n",
       "      <td>41</td>\n",
       "      <td>16474.0</td>\n",
       "      <td>17203.0</td>\n",
       "      <td>18411.0</td>\n",
       "      <td>0.919283</td>\n",
       "      <td>0.080717</td>\n",
       "      <td>0</td>\n",
       "    </tr>\n",
       "    <tr>\n",
       "      <th>2</th>\n",
       "      <td>3</td>\n",
       "      <td>20000.0</td>\n",
       "      <td>1</td>\n",
       "      <td>1</td>\n",
       "      <td>2</td>\n",
       "      <td>36</td>\n",
       "      <td>18600.0</td>\n",
       "      <td>17947.0</td>\n",
       "      <td>18758.0</td>\n",
       "      <td>0.919283</td>\n",
       "      <td>0.080717</td>\n",
       "      <td>0</td>\n",
       "    </tr>\n",
       "    <tr>\n",
       "      <th>3</th>\n",
       "      <td>4</td>\n",
       "      <td>20000.0</td>\n",
       "      <td>1</td>\n",
       "      <td>1</td>\n",
       "      <td>2</td>\n",
       "      <td>35</td>\n",
       "      <td>2948.0</td>\n",
       "      <td>3372.0</td>\n",
       "      <td>0.0</td>\n",
       "      <td>0.919283</td>\n",
       "      <td>0.080717</td>\n",
       "      <td>0</td>\n",
       "    </tr>\n",
       "    <tr>\n",
       "      <th>4</th>\n",
       "      <td>5</td>\n",
       "      <td>170000.0</td>\n",
       "      <td>1</td>\n",
       "      <td>1</td>\n",
       "      <td>2</td>\n",
       "      <td>38</td>\n",
       "      <td>145196.0</td>\n",
       "      <td>110163.0</td>\n",
       "      <td>112157.0</td>\n",
       "      <td>0.996967</td>\n",
       "      <td>0.003033</td>\n",
       "      <td>0</td>\n",
       "    </tr>\n",
       "  </tbody>\n",
       "</table>\n",
       "</div>"
      ],
      "text/plain": [
       "   ID  LIMIT_BAL  MARRIAGE  EDUCATION  SEX  AGE  BILL_AMT1  BILL_AMT2  \\\n",
       "0   1    30000.0         1          1    2   40    24430.0    23881.0   \n",
       "1   2    20000.0         1          1    2   41    16474.0    17203.0   \n",
       "2   3    20000.0         1          1    2   36    18600.0    17947.0   \n",
       "3   4    20000.0         1          1    2   35     2948.0     3372.0   \n",
       "4   5   170000.0         1          1    2   38   145196.0   110163.0   \n",
       "\n",
       "   BILL_AMT3     Prob0     Prob1  Class  \n",
       "0    24234.0  0.919283  0.080717      0  \n",
       "1    18411.0  0.919283  0.080717      0  \n",
       "2    18758.0  0.919283  0.080717      0  \n",
       "3        0.0  0.919283  0.080717      0  \n",
       "4   112157.0  0.996967  0.003033      0  "
      ]
     },
     "execution_count": 107,
     "metadata": {},
     "output_type": "execute_result"
    }
   ],
   "source": [
    "myprediction = pd.concat([credittesting,dtpred,dtpred1],axis=1)\n",
    "myprediction.head(5)"
   ]
  },
  {
   "cell_type": "markdown",
   "metadata": {},
   "source": [
    "#### Save to CSV"
   ]
  },
  {
   "cell_type": "code",
   "execution_count": 109,
   "metadata": {},
   "outputs": [],
   "source": [
    "myprediction.to_csv('D:/myprediction.csv',index=False,header=True)"
   ]
  },
  {
   "cell_type": "code",
   "execution_count": null,
   "metadata": {},
   "outputs": [],
   "source": []
  }
 ],
 "metadata": {
  "kernelspec": {
   "display_name": "Python 3",
   "language": "python",
   "name": "python3"
  },
  "language_info": {
   "codemirror_mode": {
    "name": "ipython",
    "version": 3
   },
   "file_extension": ".py",
   "mimetype": "text/x-python",
   "name": "python",
   "nbconvert_exporter": "python",
   "pygments_lexer": "ipython3",
   "version": "3.6.4"
  }
 },
 "nbformat": 4,
 "nbformat_minor": 2
}
