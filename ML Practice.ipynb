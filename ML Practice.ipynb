{
 "cells": [
  {
   "cell_type": "code",
   "execution_count": 5,
   "metadata": {},
   "outputs": [
    {
     "data": {
      "text/markdown": [
       "## Standard Scaler"
      ],
      "text/plain": [
       "<IPython.core.display.Markdown object>"
      ]
     },
     "metadata": {},
     "output_type": "display_data"
    }
   ],
   "source": [
    "%%markdown\n",
    "## Standard Scaler"
   ]
  },
  {
   "cell_type": "code",
   "execution_count": 1,
   "metadata": {},
   "outputs": [],
   "source": [
    "from sklearn.preprocessing import StandardScaler\n",
    "\n",
    "data = [[0],[1],[2],[3],[4],[5],[6],[7],[8],[9],[10]]\n",
    "scaler = StandardScaler()\n",
    "# mencari rata-rata dan bilangannya sama dengan menggunakan .fit\n",
    "# ketika dimasukkan fit, scaler tau nilai tengahnya berapa"
   ]
  },
  {
   "cell_type": "code",
   "execution_count": 2,
   "metadata": {},
   "outputs": [
    {
     "name": "stdout",
     "output_type": "stream",
     "text": [
      "StandardScaler(copy=True, with_mean=True, with_std=True)\n",
      "StandardScaler(copy=True, with_mean=True, with_std=True)\n",
      "[5.]\n",
      "[[-1.58113883]\n",
      " [-1.26491106]\n",
      " [-0.9486833 ]\n",
      " [-0.63245553]\n",
      " [-0.31622777]\n",
      " [ 0.        ]\n",
      " [ 0.31622777]\n",
      " [ 0.63245553]\n",
      " [ 0.9486833 ]\n",
      " [ 1.26491106]\n",
      " [ 1.58113883]]\n"
     ]
    }
   ],
   "source": [
    "print(StandardScaler())\n",
    "\n",
    "print(scaler.fit(data))\n",
    "\n",
    "\n",
    "print(scaler.mean_)\n",
    "\n",
    "\n",
    "print(scaler.transform(data))"
   ]
  },
  {
   "cell_type": "code",
   "execution_count": 3,
   "metadata": {},
   "outputs": [
    {
     "data": {
      "text/markdown": [
       "## Imputer"
      ],
      "text/plain": [
       "<IPython.core.display.Markdown object>"
      ]
     },
     "metadata": {},
     "output_type": "display_data"
    }
   ],
   "source": [
    "%%markdown\n",
    "## Imputer"
   ]
  },
  {
   "cell_type": "code",
   "execution_count": 6,
   "metadata": {},
   "outputs": [],
   "source": [
    "from sklearn.preprocessing import Imputer\n",
    "import pandas as pd\n",
    "import numpy as np"
   ]
  },
  {
   "cell_type": "code",
   "execution_count": 7,
   "metadata": {},
   "outputs": [],
   "source": [
    "df = pd.DataFrame(\n",
    "    [[800000,20],\n",
    "     [np.nan,20],\n",
    "     [100000,40]])\n",
    "df.columns = [\"price\",\"target_age\"]"
   ]
  },
  {
   "cell_type": "code",
   "execution_count": 8,
   "metadata": {},
   "outputs": [],
   "source": [
    "imp = Imputer(missing_values=\"NaN\",strategy=\"most_frequent\", axis=0)\n",
    "new_df = pd.DataFrame(imp.fit_transform(df), index=df.index,columns=df.columns)"
   ]
  },
  {
   "cell_type": "markdown",
   "metadata": {},
   "source": [
    "## Pipeline"
   ]
  },
  {
   "cell_type": "code",
   "execution_count": 13,
   "metadata": {},
   "outputs": [],
   "source": [
    "from sklearn.pipeline import Pipeline\n",
    "from sklearn import linear_model"
   ]
  },
  {
   "cell_type": "code",
   "execution_count": 15,
   "metadata": {},
   "outputs": [],
   "source": [
    "scaler = StandardScaler()\n",
    "imp = Imputer(missing_values=\"NaN\", strategy=\"most_frequent\", axis=0) #specify axis\n",
    "\n",
    "regr = linear_model.LinearRegression()\n",
    "\n",
    "steps = [('imputation',imp),('scalar',StandardScaler()), ('model', regr)]\n",
    "pipeline = Pipeline(steps)"
   ]
  },
  {
   "cell_type": "code",
   "execution_count": 16,
   "metadata": {},
   "outputs": [],
   "source": [
    "features_data = df.drop(['target_age'],axis=1)"
   ]
  },
  {
   "cell_type": "code",
   "execution_count": null,
   "metadata": {},
   "outputs": [],
   "source": []
  }
 ],
 "metadata": {
  "kernelspec": {
   "display_name": "Python 3",
   "language": "python",
   "name": "python3"
  },
  "language_info": {
   "codemirror_mode": {
    "name": "ipython",
    "version": 3
   },
   "file_extension": ".py",
   "mimetype": "text/x-python",
   "name": "python",
   "nbconvert_exporter": "python",
   "pygments_lexer": "ipython3",
   "version": "3.6.4"
  }
 },
 "nbformat": 4,
 "nbformat_minor": 2
}
