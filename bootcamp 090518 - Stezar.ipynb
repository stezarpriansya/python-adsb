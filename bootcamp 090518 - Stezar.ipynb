{
 "cells": [
  {
   "cell_type": "markdown",
   "metadata": {},
   "source": [
    "# Created by Stezar Priansya  09/05/2018"
   ]
  },
  {
   "cell_type": "code",
   "execution_count": 1,
   "metadata": {},
   "outputs": [],
   "source": [
    "# Created By Stezar Priansya\n",
    "import pandas as pd\n",
    "import numpy as np"
   ]
  },
  {
   "cell_type": "code",
   "execution_count": 2,
   "metadata": {},
   "outputs": [],
   "source": [
    "owner = pd.read_csv(\"Pet/Owners.csv\")\n",
    "pet = pd.read_csv(\"Pet/Pets.csv\")\n",
    "detail = pd.read_csv(\"Pet/ProceduresDetails.csv\")\n",
    "history = pd.read_csv(\"Pet/ProceduresHistory-1.csv\")"
   ]
  },
  {
   "cell_type": "markdown",
   "metadata": {},
   "source": [
    "## Nomor 1 : Join 4 Tabel"
   ]
  },
  {
   "cell_type": "code",
   "execution_count": 3,
   "metadata": {},
   "outputs": [],
   "source": [
    "# Nomor 1 : Join 4 tabel\n",
    "df = pd.merge(history, pet, how='inner', on='PetID')\n",
    "df = pd.merge(df, owner, how='inner',on='OwnerID')\n",
    "df = pd.merge(df, detail, how='inner', on=['ProcedureType', 'ProcedureSubCode'])"
   ]
  },
  {
   "cell_type": "code",
   "execution_count": 4,
   "metadata": {},
   "outputs": [
    {
     "data": {
      "text/plain": [
       "(41, 18)"
      ]
     },
     "execution_count": 4,
     "metadata": {},
     "output_type": "execute_result"
    }
   ],
   "source": [
    "# untuk mencari dimensi\n",
    "df.shape"
   ]
  },
  {
   "cell_type": "markdown",
   "metadata": {},
   "source": [
    "## Nomor 2 : Procedure type terbanyak"
   ]
  },
  {
   "cell_type": "code",
   "execution_count": 5,
   "metadata": {},
   "outputs": [
    {
     "data": {
      "text/plain": [
       "ProcedureType\n",
       "VACCINATIONS    29\n",
       "Name: PetID, dtype: int64"
      ]
     },
     "execution_count": 5,
     "metadata": {},
     "output_type": "execute_result"
    }
   ],
   "source": [
    "# Nomor 2 : prosedur terbanyak\n",
    "prosedur_banyak = df.groupby('ProcedureType').count()\n",
    "prosedur_banyak[prosedur_banyak.PetID == max(prosedur_banyak.PetID)]['PetID']"
   ]
  },
  {
   "cell_type": "markdown",
   "metadata": {},
   "source": [
    "Dari cara diatas didapat bahwa prosedur terbanyak adalah vaksinasi sebanyak 29 kali"
   ]
  },
  {
   "cell_type": "markdown",
   "metadata": {},
   "source": [
    "## Nomor 3 : pasien yang datang ke dokter lebih dari 3 kali"
   ]
  },
  {
   "cell_type": "code",
   "execution_count": 6,
   "metadata": {},
   "outputs": [
    {
     "name": "stdout",
     "output_type": "stream",
     "text": [
      "Yang datang ke dokter lebih dari 3 kali adalah Lee McKenzie\n"
     ]
    }
   ],
   "source": [
    "# Nomor 3 : pasien yang datang ke dokter lebih dari 3 kali\n",
    "dokter = df.groupby('OwnerID').count()\n",
    "person = owner[owner.OwnerID == dokter[dokter.PetID > 3].index[0]]\n",
    "print('Yang datang ke dokter lebih dari 3 kali adalah '+owner.iloc[person.index[0]].Name+' '+owner.iloc[person.index[0]].Surname)"
   ]
  },
  {
   "cell_type": "code",
   "execution_count": 7,
   "metadata": {},
   "outputs": [],
   "source": [
    "# convert to datetime\n",
    "df['Date'] = pd.to_datetime(df['Date'])\n",
    "df['day_of_week'] = df['Date'].dt.weekday_name"
   ]
  },
  {
   "cell_type": "code",
   "execution_count": 8,
   "metadata": {},
   "outputs": [],
   "source": [
    "df['day_type'] = np.where((df['day_of_week'] == \"Sunday\") | (df['day_of_week'] == \"Saturday\"), \"Weekend\", \"Weekday\")"
   ]
  },
  {
   "cell_type": "markdown",
   "metadata": {},
   "source": [
    "## Nomor 4 : Nama yang paling banyak berkunjung ke dokter"
   ]
  },
  {
   "cell_type": "code",
   "execution_count": 9,
   "metadata": {},
   "outputs": [
    {
     "name": "stdout",
     "output_type": "stream",
     "text": [
      "Yang datang paling banyak ke dokter Lee McKenzie\n"
     ]
    }
   ],
   "source": [
    "# Nomor 4 : yang paling banyak berkunjung ke dokter\n",
    "orang_terbanyak = owner[owner.OwnerID == df[df.day_type == 'Weekday'].groupby('OwnerID').count().sort_values(by=['day_type'], ascending=False).head(1).index[0]]\n",
    "print('Yang datang paling banyak ke dokter '+owner.iloc[orang_terbanyak.index[0]].Name+' '+owner.iloc[orang_terbanyak.index[0]].Surname)\n",
    "# print(orang_terbanyak['Name']+' '+orang_terbanyak['Surname'])"
   ]
  },
  {
   "cell_type": "markdown",
   "metadata": {},
   "source": [
    "## Nomor 5 : Total spending Jerry dan Jessica"
   ]
  },
  {
   "cell_type": "code",
   "execution_count": 10,
   "metadata": {},
   "outputs": [
    {
     "data": {
      "text/plain": [
       "OwnerID  Name_y \n",
       "1070     Jessica     25\n",
       "5806     Jerry      400\n",
       "Name: Price, dtype: int64"
      ]
     },
     "execution_count": 10,
     "metadata": {},
     "output_type": "execute_result"
    }
   ],
   "source": [
    "# Nomor 5: total spending jerry dan jessica\n",
    "df[(df.Name_y == 'Jerry') | (df.Name_y == 'Jessica')].groupby(['OwnerID', 'Name_y']).sum()['Price']"
   ]
  },
  {
   "cell_type": "markdown",
   "metadata": {},
   "source": [
    "Dari cara diatas didapat bahwa biaya dari Jessica adalah 25 dan Jerri adalah 400"
   ]
  },
  {
   "cell_type": "markdown",
   "metadata": {},
   "source": [
    "## Nomor 6 : Nama Hewan yang paling sering di vaksinasi"
   ]
  },
  {
   "cell_type": "code",
   "execution_count": 11,
   "metadata": {},
   "outputs": [
    {
     "data": {
      "text/plain": [
       "57    Bonaparte\n",
       "Name: Name, dtype: object"
      ]
     },
     "execution_count": 11,
     "metadata": {},
     "output_type": "execute_result"
    }
   ],
   "source": [
    "# Nomor 6: Nama Hewan yang paling sering di vaksinasi\n",
    "# df.groupby('PetID').count().sort_values(by='Name_x', ascending=False).head(1).index[0]\n",
    "# pet[pet.PetID == df.groupby('PetID').count().sort_values(by='Name_x', ascending=False).head(1).index[0]]\n",
    "row_pet = pet[pet.PetID == df[df.ProcedureType == 'VACCINATIONS'].groupby('PetID').count().sort_values(by=['day_type'], ascending=False).head(1).index[0]]\n",
    "row_pet['Name']"
   ]
  },
  {
   "cell_type": "markdown",
   "metadata": {},
   "source": [
    "Dari data diatas dapat dilihat bahwa yang paling banyak di vaksinasi adalah Bonaparte"
   ]
  },
  {
   "cell_type": "code",
   "execution_count": 12,
   "metadata": {},
   "outputs": [],
   "source": [
    "# mencari rata2 umur\n",
    "rata_umur = df.groupby(['Kind']).mean()['Age']"
   ]
  },
  {
   "cell_type": "markdown",
   "metadata": {},
   "source": [
    "## Nomor 7 : 5 anjing terbanyak dengan simpangan umur terjauh"
   ]
  },
  {
   "cell_type": "code",
   "execution_count": 13,
   "metadata": {},
   "outputs": [
    {
     "data": {
      "text/html": [
       "<div>\n",
       "<style scoped>\n",
       "    .dataframe tbody tr th:only-of-type {\n",
       "        vertical-align: middle;\n",
       "    }\n",
       "\n",
       "    .dataframe tbody tr th {\n",
       "        vertical-align: top;\n",
       "    }\n",
       "\n",
       "    .dataframe thead th {\n",
       "        text-align: right;\n",
       "    }\n",
       "</style>\n",
       "<table border=\"1\" class=\"dataframe\">\n",
       "  <thead>\n",
       "    <tr style=\"text-align: right;\">\n",
       "      <th></th>\n",
       "      <th></th>\n",
       "      <th>Age</th>\n",
       "      <th>selisih_umur</th>\n",
       "    </tr>\n",
       "    <tr>\n",
       "      <th>PetID</th>\n",
       "      <th>Name_x</th>\n",
       "      <th></th>\n",
       "      <th></th>\n",
       "    </tr>\n",
       "  </thead>\n",
       "  <tbody>\n",
       "    <tr>\n",
       "      <th>P9-3625</th>\n",
       "      <th>Cuddles</th>\n",
       "      <td>14.0</td>\n",
       "      <td>7.043478</td>\n",
       "    </tr>\n",
       "    <tr>\n",
       "      <th>Q9-1565</th>\n",
       "      <th>Scout</th>\n",
       "      <td>14.0</td>\n",
       "      <td>7.043478</td>\n",
       "    </tr>\n",
       "    <tr>\n",
       "      <th>P0-1725</th>\n",
       "      <th>Lily</th>\n",
       "      <td>0.0</td>\n",
       "      <td>6.956522</td>\n",
       "    </tr>\n",
       "    <tr>\n",
       "      <th>L4-6292</th>\n",
       "      <th>Bright</th>\n",
       "      <td>13.0</td>\n",
       "      <td>6.043478</td>\n",
       "    </tr>\n",
       "    <tr>\n",
       "      <th>P2-7342</th>\n",
       "      <th>Cuddles</th>\n",
       "      <td>13.0</td>\n",
       "      <td>6.043478</td>\n",
       "    </tr>\n",
       "  </tbody>\n",
       "</table>\n",
       "</div>"
      ],
      "text/plain": [
       "                  Age  selisih_umur\n",
       "PetID   Name_x                     \n",
       "P9-3625 Cuddles  14.0      7.043478\n",
       "Q9-1565 Scout    14.0      7.043478\n",
       "P0-1725 Lily      0.0      6.956522\n",
       "L4-6292 Bright   13.0      6.043478\n",
       "P2-7342 Cuddles  13.0      6.043478"
      ]
     },
     "execution_count": 13,
     "metadata": {},
     "output_type": "execute_result"
    }
   ],
   "source": [
    "# Nomor 7 : 5 anjing terbanyak dengan simpangan umur terjauh\n",
    "anjing = df[df.Kind == 'Dog'].copy()\n",
    "anjing = anjing.groupby(['PetID', 'Name_x']).mean()\n",
    "anjing['selisih_umur'] = abs(anjing['Age']-rata_umur['Dog'])\n",
    "# df.loc[df['Kind'] == 'Dog', 'selisih_umur'] = abs(anjing['Age']-rata_umur['Dog'])\n",
    "anjing.sort_values(by=['selisih_umur'], ascending=False).head(5)[['Age', 'selisih_umur']]\n",
    "# pet[pet['PetID'].isin(anjing.index)]"
   ]
  },
  {
   "cell_type": "markdown",
   "metadata": {},
   "source": [
    "Yang paling banyak adalah Cuddles, Scout, Lily, Bright, Cuddles"
   ]
  },
  {
   "cell_type": "markdown",
   "metadata": {},
   "source": [
    "## Nomor 8: Hewan terbanyak datang ke dokter waktu weekend"
   ]
  },
  {
   "cell_type": "code",
   "execution_count": 14,
   "metadata": {},
   "outputs": [
    {
     "data": {
      "text/html": [
       "<div>\n",
       "<style scoped>\n",
       "    .dataframe tbody tr th:only-of-type {\n",
       "        vertical-align: middle;\n",
       "    }\n",
       "\n",
       "    .dataframe tbody tr th {\n",
       "        vertical-align: top;\n",
       "    }\n",
       "\n",
       "    .dataframe thead th {\n",
       "        text-align: right;\n",
       "    }\n",
       "</style>\n",
       "<table border=\"1\" class=\"dataframe\">\n",
       "  <thead>\n",
       "    <tr style=\"text-align: right;\">\n",
       "      <th></th>\n",
       "      <th>PetID</th>\n",
       "      <th>Date</th>\n",
       "      <th>ProcedureType</th>\n",
       "      <th>ProcedureSubCode</th>\n",
       "      <th>Name_x</th>\n",
       "      <th>Gender</th>\n",
       "      <th>Age</th>\n",
       "      <th>OwnerID</th>\n",
       "      <th>Name_y</th>\n",
       "      <th>Surname</th>\n",
       "      <th>StreetAddress</th>\n",
       "      <th>City</th>\n",
       "      <th>State</th>\n",
       "      <th>StateFull</th>\n",
       "      <th>ZipCode</th>\n",
       "      <th>Description</th>\n",
       "      <th>Price</th>\n",
       "      <th>day_of_week</th>\n",
       "      <th>day_type</th>\n",
       "    </tr>\n",
       "    <tr>\n",
       "      <th>Kind</th>\n",
       "      <th></th>\n",
       "      <th></th>\n",
       "      <th></th>\n",
       "      <th></th>\n",
       "      <th></th>\n",
       "      <th></th>\n",
       "      <th></th>\n",
       "      <th></th>\n",
       "      <th></th>\n",
       "      <th></th>\n",
       "      <th></th>\n",
       "      <th></th>\n",
       "      <th></th>\n",
       "      <th></th>\n",
       "      <th></th>\n",
       "      <th></th>\n",
       "      <th></th>\n",
       "      <th></th>\n",
       "      <th></th>\n",
       "    </tr>\n",
       "  </thead>\n",
       "  <tbody>\n",
       "    <tr>\n",
       "      <th>Dog</th>\n",
       "      <td>12</td>\n",
       "      <td>12</td>\n",
       "      <td>12</td>\n",
       "      <td>12</td>\n",
       "      <td>12</td>\n",
       "      <td>12</td>\n",
       "      <td>12</td>\n",
       "      <td>12</td>\n",
       "      <td>12</td>\n",
       "      <td>12</td>\n",
       "      <td>12</td>\n",
       "      <td>12</td>\n",
       "      <td>12</td>\n",
       "      <td>12</td>\n",
       "      <td>12</td>\n",
       "      <td>12</td>\n",
       "      <td>12</td>\n",
       "      <td>12</td>\n",
       "      <td>12</td>\n",
       "    </tr>\n",
       "  </tbody>\n",
       "</table>\n",
       "</div>"
      ],
      "text/plain": [
       "      PetID  Date  ProcedureType  ProcedureSubCode  Name_x  Gender  Age  \\\n",
       "Kind                                                                      \n",
       "Dog      12    12             12                12      12      12   12   \n",
       "\n",
       "      OwnerID  Name_y  Surname  StreetAddress  City  State  StateFull  \\\n",
       "Kind                                                                    \n",
       "Dog        12      12       12             12    12     12         12   \n",
       "\n",
       "      ZipCode  Description  Price  day_of_week  day_type  \n",
       "Kind                                                      \n",
       "Dog        12           12     12           12        12  "
      ]
     },
     "execution_count": 14,
     "metadata": {},
     "output_type": "execute_result"
    }
   ],
   "source": [
    "# Nomor 8: Hewan terbanyak datang ke dokter waktu weekend\n",
    "df[df.day_type == 'Weekend'].groupby('Kind').count().sort_values(by=['day_type'], ascending=False).head(1)\n",
    "# ini nama hewannya\n",
    "# pet[pet.PetID == df[df.day_type == 'Weekend'].groupby('PetID').count().sort_values(by=['day_type'], ascending=False).head(1).index[0]]"
   ]
  },
  {
   "cell_type": "markdown",
   "metadata": {},
   "source": [
    "Yang paling banyak berkunjung datang ke dokter waktu weekend adalah hewan Anjing"
   ]
  },
  {
   "cell_type": "markdown",
   "metadata": {},
   "source": [
    "## Hewan 9 : Nama Hewan yang paling sering di vaksinasi"
   ]
  },
  {
   "cell_type": "code",
   "execution_count": 15,
   "metadata": {},
   "outputs": [
    {
     "data": {
      "text/html": [
       "<div>\n",
       "<style scoped>\n",
       "    .dataframe tbody tr th:only-of-type {\n",
       "        vertical-align: middle;\n",
       "    }\n",
       "\n",
       "    .dataframe tbody tr th {\n",
       "        vertical-align: top;\n",
       "    }\n",
       "\n",
       "    .dataframe thead th {\n",
       "        text-align: right;\n",
       "    }\n",
       "</style>\n",
       "<table border=\"1\" class=\"dataframe\">\n",
       "  <thead>\n",
       "    <tr style=\"text-align: right;\">\n",
       "      <th></th>\n",
       "      <th>PetID</th>\n",
       "      <th>Name</th>\n",
       "      <th>Kind</th>\n",
       "      <th>Gender</th>\n",
       "      <th>Age</th>\n",
       "      <th>OwnerID</th>\n",
       "    </tr>\n",
       "  </thead>\n",
       "  <tbody>\n",
       "    <tr>\n",
       "      <th>57</th>\n",
       "      <td>J8-7429</td>\n",
       "      <td>Bonaparte</td>\n",
       "      <td>Dog</td>\n",
       "      <td>male</td>\n",
       "      <td>4</td>\n",
       "      <td>8215</td>\n",
       "    </tr>\n",
       "  </tbody>\n",
       "</table>\n",
       "</div>"
      ],
      "text/plain": [
       "      PetID       Name Kind Gender  Age  OwnerID\n",
       "57  J8-7429  Bonaparte  Dog   male    4     8215"
      ]
     },
     "execution_count": 15,
     "metadata": {},
     "output_type": "execute_result"
    }
   ],
   "source": [
    "# Hewan 9 : Nama Hewan yang paling sering di vaksinasi\n",
    "pet[pet.PetID == df[df.ProcedureType == 'VACCINATIONS'].groupby('PetID').count().sort_values(by=['day_type'], ascending=False).head(1).index[0]]"
   ]
  },
  {
   "cell_type": "markdown",
   "metadata": {},
   "source": [
    "Dari data diatas dapat dilihat bahwa yang paling banyak di vaksinasi adalah Bonaparte"
   ]
  },
  {
   "cell_type": "markdown",
   "metadata": {},
   "source": [
    "## Hewan 10 : rata2 harga paling mahal dari procedure"
   ]
  },
  {
   "cell_type": "code",
   "execution_count": 16,
   "metadata": {},
   "outputs": [
    {
     "data": {
      "text/plain": [
       "ProcedureType\n",
       "ORTHOPEDIC    267.5\n",
       "Name: Price, dtype: float64"
      ]
     },
     "execution_count": 16,
     "metadata": {},
     "output_type": "execute_result"
    }
   ],
   "source": [
    "# Hewan 10 : rata2 harga paling mahal dari procedure\n",
    "mean_proc = df.groupby(['ProcedureType']).mean()\n",
    "mean_proc.sort_values(by='Price', ascending=False).head(1)['Price']"
   ]
  },
  {
   "cell_type": "markdown",
   "metadata": {},
   "source": [
    "Jadi rata-rata paling mahal dari procedure adalah Orthopedic dengan rata-rata harga 267.5"
   ]
  }
 ],
 "metadata": {
  "kernelspec": {
   "display_name": "Python 3",
   "language": "python",
   "name": "python3"
  },
  "language_info": {
   "codemirror_mode": {
    "name": "ipython",
    "version": 3
   },
   "file_extension": ".py",
   "mimetype": "text/x-python",
   "name": "python",
   "nbconvert_exporter": "python",
   "pygments_lexer": "ipython3",
   "version": "3.6.4"
  }
 },
 "nbformat": 4,
 "nbformat_minor": 2
}
