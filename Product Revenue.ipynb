{
 "cells": [
  {
   "cell_type": "code",
   "execution_count": 2,
   "metadata": {},
   "outputs": [],
   "source": [
    "import pandas as pd\n",
    "import numpy as np\n",
    "import matplotlib.pyplot as plt\n",
    "from sklearn.linear_model import LinearRegression\n",
    "import seaborn as sns\n",
    "import statsmodels.formula.api as smf\n",
    "import statsmodels.api as sm"
   ]
  },
  {
   "cell_type": "code",
   "execution_count": 3,
   "metadata": {},
   "outputs": [],
   "source": [
    "prod = pd.read_csv('product_revenue.csv')"
   ]
  },
  {
   "cell_type": "code",
   "execution_count": 4,
   "metadata": {},
   "outputs": [
    {
     "data": {
      "text/html": [
       "<div>\n",
       "<style scoped>\n",
       "    .dataframe tbody tr th:only-of-type {\n",
       "        vertical-align: middle;\n",
       "    }\n",
       "\n",
       "    .dataframe tbody tr th {\n",
       "        vertical-align: top;\n",
       "    }\n",
       "\n",
       "    .dataframe thead th {\n",
       "        text-align: right;\n",
       "    }\n",
       "</style>\n",
       "<table border=\"1\" class=\"dataframe\">\n",
       "  <thead>\n",
       "    <tr style=\"text-align: right;\">\n",
       "      <th></th>\n",
       "      <th>yitemrevenue</th>\n",
       "      <th>xcartadd</th>\n",
       "      <th>xcartuniqadd</th>\n",
       "      <th>xcartaddtotalrs</th>\n",
       "      <th>xcartremove</th>\n",
       "      <th>xcardtremovetotal</th>\n",
       "      <th>xcardtremovetotalrs</th>\n",
       "      <th>xproductviews</th>\n",
       "      <th>xuniqprodview</th>\n",
       "      <th>xprodviewinrs</th>\n",
       "    </tr>\n",
       "  </thead>\n",
       "  <tbody>\n",
       "    <tr>\n",
       "      <th>0</th>\n",
       "      <td>39215.93</td>\n",
       "      <td>614</td>\n",
       "      <td>503</td>\n",
       "      <td>752186</td>\n",
       "      <td>10</td>\n",
       "      <td>10</td>\n",
       "      <td>11990</td>\n",
       "      <td>24306</td>\n",
       "      <td>20498</td>\n",
       "      <td>299</td>\n",
       "    </tr>\n",
       "    <tr>\n",
       "      <th>1</th>\n",
       "      <td>23819.47</td>\n",
       "      <td>833</td>\n",
       "      <td>622</td>\n",
       "      <td>425667</td>\n",
       "      <td>8</td>\n",
       "      <td>5</td>\n",
       "      <td>3992</td>\n",
       "      <td>11171</td>\n",
       "      <td>8718</td>\n",
       "      <td>571</td>\n",
       "    </tr>\n",
       "    <tr>\n",
       "      <th>2</th>\n",
       "      <td>4415.45</td>\n",
       "      <td>122</td>\n",
       "      <td>101</td>\n",
       "      <td>121878</td>\n",
       "      <td>2</td>\n",
       "      <td>2</td>\n",
       "      <td>1998</td>\n",
       "      <td>6926</td>\n",
       "      <td>6017</td>\n",
       "      <td>6919074</td>\n",
       "    </tr>\n",
       "    <tr>\n",
       "      <th>3</th>\n",
       "      <td>57435.56</td>\n",
       "      <td>239</td>\n",
       "      <td>196</td>\n",
       "      <td>609761</td>\n",
       "      <td>2</td>\n",
       "      <td>2</td>\n",
       "      <td>4998</td>\n",
       "      <td>11250</td>\n",
       "      <td>9733</td>\n",
       "      <td>2834</td>\n",
       "    </tr>\n",
       "    <tr>\n",
       "      <th>4</th>\n",
       "      <td>0.00</td>\n",
       "      <td>32</td>\n",
       "      <td>22</td>\n",
       "      <td>58488</td>\n",
       "      <td>0</td>\n",
       "      <td>0</td>\n",
       "      <td>0</td>\n",
       "      <td>872</td>\n",
       "      <td>764</td>\n",
       "      <td>1745628</td>\n",
       "    </tr>\n",
       "  </tbody>\n",
       "</table>\n",
       "</div>"
      ],
      "text/plain": [
       "   yitemrevenue  xcartadd  xcartuniqadd  xcartaddtotalrs  xcartremove  \\\n",
       "0      39215.93       614           503           752186           10   \n",
       "1      23819.47       833           622           425667            8   \n",
       "2       4415.45       122           101           121878            2   \n",
       "3      57435.56       239           196           609761            2   \n",
       "4          0.00        32            22            58488            0   \n",
       "\n",
       "   xcardtremovetotal  xcardtremovetotalrs  xproductviews  xuniqprodview  \\\n",
       "0                 10                11990          24306          20498   \n",
       "1                  5                 3992          11171           8718   \n",
       "2                  2                 1998           6926           6017   \n",
       "3                  2                 4998          11250           9733   \n",
       "4                  0                    0            872            764   \n",
       "\n",
       "   xprodviewinrs  \n",
       "0            299  \n",
       "1            571  \n",
       "2        6919074  \n",
       "3           2834  \n",
       "4        1745628  "
      ]
     },
     "execution_count": 4,
     "metadata": {},
     "output_type": "execute_result"
    }
   ],
   "source": [
    "prod.head()"
   ]
  },
  {
   "cell_type": "code",
   "execution_count": 5,
   "metadata": {},
   "outputs": [
    {
     "data": {
      "text/html": [
       "<div>\n",
       "<style scoped>\n",
       "    .dataframe tbody tr th:only-of-type {\n",
       "        vertical-align: middle;\n",
       "    }\n",
       "\n",
       "    .dataframe tbody tr th {\n",
       "        vertical-align: top;\n",
       "    }\n",
       "\n",
       "    .dataframe thead th {\n",
       "        text-align: right;\n",
       "    }\n",
       "</style>\n",
       "<table border=\"1\" class=\"dataframe\">\n",
       "  <thead>\n",
       "    <tr style=\"text-align: right;\">\n",
       "      <th></th>\n",
       "      <th>yitemrevenue</th>\n",
       "      <th>xcartadd</th>\n",
       "      <th>xcartuniqadd</th>\n",
       "      <th>xcartaddtotalrs</th>\n",
       "      <th>xcartremove</th>\n",
       "      <th>xcardtremovetotal</th>\n",
       "      <th>xcardtremovetotalrs</th>\n",
       "      <th>xproductviews</th>\n",
       "      <th>xuniqprodview</th>\n",
       "      <th>xprodviewinrs</th>\n",
       "    </tr>\n",
       "  </thead>\n",
       "  <tbody>\n",
       "    <tr>\n",
       "      <th>count</th>\n",
       "      <td>92.000000</td>\n",
       "      <td>92.000000</td>\n",
       "      <td>92.000000</td>\n",
       "      <td>92.000000</td>\n",
       "      <td>92.000000</td>\n",
       "      <td>92.000000</td>\n",
       "      <td>92.000000</td>\n",
       "      <td>92.000000</td>\n",
       "      <td>92.000000</td>\n",
       "      <td>9.200000e+01</td>\n",
       "    </tr>\n",
       "    <tr>\n",
       "      <th>mean</th>\n",
       "      <td>3679.082174</td>\n",
       "      <td>39.500000</td>\n",
       "      <td>30.347826</td>\n",
       "      <td>48131.826087</td>\n",
       "      <td>1.423913</td>\n",
       "      <td>0.880435</td>\n",
       "      <td>1962.402174</td>\n",
       "      <td>1331.576087</td>\n",
       "      <td>1084.891304</td>\n",
       "      <td>1.380471e+06</td>\n",
       "    </tr>\n",
       "    <tr>\n",
       "      <th>std</th>\n",
       "      <td>8120.313959</td>\n",
       "      <td>108.548819</td>\n",
       "      <td>84.138352</td>\n",
       "      <td>107360.991406</td>\n",
       "      <td>2.219958</td>\n",
       "      <td>1.546655</td>\n",
       "      <td>3526.679144</td>\n",
       "      <td>2951.472183</td>\n",
       "      <td>2483.228479</td>\n",
       "      <td>1.026994e+06</td>\n",
       "    </tr>\n",
       "    <tr>\n",
       "      <th>min</th>\n",
       "      <td>0.000000</td>\n",
       "      <td>0.000000</td>\n",
       "      <td>0.000000</td>\n",
       "      <td>0.000000</td>\n",
       "      <td>0.000000</td>\n",
       "      <td>0.000000</td>\n",
       "      <td>0.000000</td>\n",
       "      <td>334.000000</td>\n",
       "      <td>225.000000</td>\n",
       "      <td>2.990000e+02</td>\n",
       "    </tr>\n",
       "    <tr>\n",
       "      <th>25%</th>\n",
       "      <td>0.000000</td>\n",
       "      <td>7.750000</td>\n",
       "      <td>6.000000</td>\n",
       "      <td>11947.500000</td>\n",
       "      <td>0.000000</td>\n",
       "      <td>0.000000</td>\n",
       "      <td>0.000000</td>\n",
       "      <td>601.000000</td>\n",
       "      <td>472.250000</td>\n",
       "      <td>6.868305e+05</td>\n",
       "    </tr>\n",
       "    <tr>\n",
       "      <th>50%</th>\n",
       "      <td>1166.320000</td>\n",
       "      <td>15.000000</td>\n",
       "      <td>12.000000</td>\n",
       "      <td>22673.000000</td>\n",
       "      <td>0.000000</td>\n",
       "      <td>0.000000</td>\n",
       "      <td>0.000000</td>\n",
       "      <td>766.000000</td>\n",
       "      <td>614.500000</td>\n",
       "      <td>1.224656e+06</td>\n",
       "    </tr>\n",
       "    <tr>\n",
       "      <th>75%</th>\n",
       "      <td>3639.675000</td>\n",
       "      <td>29.000000</td>\n",
       "      <td>22.250000</td>\n",
       "      <td>46529.500000</td>\n",
       "      <td>2.000000</td>\n",
       "      <td>1.250000</td>\n",
       "      <td>2153.500000</td>\n",
       "      <td>905.000000</td>\n",
       "      <td>746.750000</td>\n",
       "      <td>1.746880e+06</td>\n",
       "    </tr>\n",
       "    <tr>\n",
       "      <th>max</th>\n",
       "      <td>57435.560000</td>\n",
       "      <td>833.000000</td>\n",
       "      <td>622.000000</td>\n",
       "      <td>752186.000000</td>\n",
       "      <td>10.000000</td>\n",
       "      <td>10.000000</td>\n",
       "      <td>15960.000000</td>\n",
       "      <td>24306.000000</td>\n",
       "      <td>20498.000000</td>\n",
       "      <td>6.919074e+06</td>\n",
       "    </tr>\n",
       "  </tbody>\n",
       "</table>\n",
       "</div>"
      ],
      "text/plain": [
       "       yitemrevenue    xcartadd  xcartuniqadd  xcartaddtotalrs  xcartremove  \\\n",
       "count     92.000000   92.000000     92.000000        92.000000    92.000000   \n",
       "mean    3679.082174   39.500000     30.347826     48131.826087     1.423913   \n",
       "std     8120.313959  108.548819     84.138352    107360.991406     2.219958   \n",
       "min        0.000000    0.000000      0.000000         0.000000     0.000000   \n",
       "25%        0.000000    7.750000      6.000000     11947.500000     0.000000   \n",
       "50%     1166.320000   15.000000     12.000000     22673.000000     0.000000   \n",
       "75%     3639.675000   29.000000     22.250000     46529.500000     2.000000   \n",
       "max    57435.560000  833.000000    622.000000    752186.000000    10.000000   \n",
       "\n",
       "       xcardtremovetotal  xcardtremovetotalrs  xproductviews  xuniqprodview  \\\n",
       "count          92.000000            92.000000      92.000000      92.000000   \n",
       "mean            0.880435          1962.402174    1331.576087    1084.891304   \n",
       "std             1.546655          3526.679144    2951.472183    2483.228479   \n",
       "min             0.000000             0.000000     334.000000     225.000000   \n",
       "25%             0.000000             0.000000     601.000000     472.250000   \n",
       "50%             0.000000             0.000000     766.000000     614.500000   \n",
       "75%             1.250000          2153.500000     905.000000     746.750000   \n",
       "max            10.000000         15960.000000   24306.000000   20498.000000   \n",
       "\n",
       "       xprodviewinrs  \n",
       "count   9.200000e+01  \n",
       "mean    1.380471e+06  \n",
       "std     1.026994e+06  \n",
       "min     2.990000e+02  \n",
       "25%     6.868305e+05  \n",
       "50%     1.224656e+06  \n",
       "75%     1.746880e+06  \n",
       "max     6.919074e+06  "
      ]
     },
     "execution_count": 5,
     "metadata": {},
     "output_type": "execute_result"
    }
   ],
   "source": [
    "prod.describe()"
   ]
  },
  {
   "cell_type": "code",
   "execution_count": 6,
   "metadata": {},
   "outputs": [
    {
     "data": {
      "text/plain": [
       "<matplotlib.axes._subplots.AxesSubplot at 0x222c6f96208>"
      ]
     },
     "execution_count": 6,
     "metadata": {},
     "output_type": "execute_result"
    },
    {
     "data": {
      "image/png": "[encoded data removed]",
      "text/plain": [
       "<matplotlib.figure.Figure at 0x222c1f204e0>"
      ]
     },
     "metadata": {},
     "output_type": "display_data"
    }
   ],
   "source": [
    "prod.yitemrevenue.hist(bins=100)"
   ]
  },
  {
   "cell_type": "code",
   "execution_count": 7,
   "metadata": {},
   "outputs": [],
   "source": [
    "new_prod = prod[prod.yitemrevenue < 10000]"
   ]
  },
  {
   "cell_type": "code",
   "execution_count": 8,
   "metadata": {},
   "outputs": [
    {
     "data": {
      "text/plain": [
       "<matplotlib.axes._subplots.AxesSubplot at 0x222c70b1128>"
      ]
     },
     "execution_count": 8,
     "metadata": {},
     "output_type": "execute_result"
    },
    {
     "data": {
      "image/png": "[encoded data removed]",
      "text/plain": [
       "<matplotlib.figure.Figure at 0x222c6f96160>"
      ]
     },
     "metadata": {},
     "output_type": "display_data"
    }
   ],
   "source": [
    "new_prod.yitemrevenue.hist(bins=100)"
   ]
  },
  {
   "cell_type": "code",
   "execution_count": 9,
   "metadata": {},
   "outputs": [
    {
     "data": {
      "text/plain": [
       "<matplotlib.axes._subplots.AxesSubplot at 0x222c745a780>"
      ]
     },
     "execution_count": 9,
     "metadata": {},
     "output_type": "execute_result"
    },
    {
     "data": {
      "image/png": "[encoded data removed]",
      "text/plain": [
       "<matplotlib.figure.Figure at 0x222c7419080>"
      ]
     },
     "metadata": {},
     "output_type": "display_data"
    }
   ],
   "source": [
    "sns.distplot(new_prod.yitemrevenue)"
   ]
  },
  {
   "cell_type": "code",
   "execution_count": 10,
   "metadata": {},
   "outputs": [
    {
     "data": {
      "text/plain": [
       "<matplotlib.axes._subplots.AxesSubplot at 0x222c73a99b0>"
      ]
     },
     "execution_count": 10,
     "metadata": {},
     "output_type": "execute_result"
    },
    {
     "data": {
      "image/png": "[encoded data removed]",
      "text/plain": [
       "<matplotlib.figure.Figure at 0x222c7541eb8>"
      ]
     },
     "metadata": {},
     "output_type": "display_data"
    }
   ],
   "source": [
    "sns.boxplot(new_prod.yitemrevenue)"
   ]
  },
  {
   "cell_type": "code",
   "execution_count": 11,
   "metadata": {},
   "outputs": [
    {
     "data": {
      "text/html": [
       "<div>\n",
       "<style scoped>\n",
       "    .dataframe tbody tr th:only-of-type {\n",
       "        vertical-align: middle;\n",
       "    }\n",
       "\n",
       "    .dataframe tbody tr th {\n",
       "        vertical-align: top;\n",
       "    }\n",
       "\n",
       "    .dataframe thead th {\n",
       "        text-align: right;\n",
       "    }\n",
       "</style>\n",
       "<table border=\"1\" class=\"dataframe\">\n",
       "  <thead>\n",
       "    <tr style=\"text-align: right;\">\n",
       "      <th></th>\n",
       "      <th>yitemrevenue</th>\n",
       "      <th>xcartadd</th>\n",
       "      <th>xcartuniqadd</th>\n",
       "      <th>xcartaddtotalrs</th>\n",
       "      <th>xcartremove</th>\n",
       "      <th>xcardtremovetotal</th>\n",
       "      <th>xcardtremovetotalrs</th>\n",
       "      <th>xproductviews</th>\n",
       "      <th>xuniqprodview</th>\n",
       "      <th>xprodviewinrs</th>\n",
       "    </tr>\n",
       "  </thead>\n",
       "  <tbody>\n",
       "    <tr>\n",
       "      <th>count</th>\n",
       "      <td>85.000000</td>\n",
       "      <td>85.000000</td>\n",
       "      <td>85.000000</td>\n",
       "      <td>85.000000</td>\n",
       "      <td>85.000000</td>\n",
       "      <td>85.000000</td>\n",
       "      <td>85.000000</td>\n",
       "      <td>85.000000</td>\n",
       "      <td>85.000000</td>\n",
       "      <td>8.500000e+01</td>\n",
       "    </tr>\n",
       "    <tr>\n",
       "      <th>mean</th>\n",
       "      <td>1819.286118</td>\n",
       "      <td>21.635294</td>\n",
       "      <td>16.270588</td>\n",
       "      <td>28908.035294</td>\n",
       "      <td>1.305882</td>\n",
       "      <td>0.752941</td>\n",
       "      <td>1877.188235</td>\n",
       "      <td>846.058824</td>\n",
       "      <td>680.094118</td>\n",
       "      <td>1.377072e+06</td>\n",
       "    </tr>\n",
       "    <tr>\n",
       "      <th>std</th>\n",
       "      <td>2439.612891</td>\n",
       "      <td>22.095489</td>\n",
       "      <td>16.612093</td>\n",
       "      <td>26021.014913</td>\n",
       "      <td>1.958033</td>\n",
       "      <td>1.153730</td>\n",
       "      <td>3453.606185</td>\n",
       "      <td>763.823268</td>\n",
       "      <td>661.986668</td>\n",
       "      <td>9.955587e+05</td>\n",
       "    </tr>\n",
       "    <tr>\n",
       "      <th>min</th>\n",
       "      <td>0.000000</td>\n",
       "      <td>0.000000</td>\n",
       "      <td>0.000000</td>\n",
       "      <td>0.000000</td>\n",
       "      <td>0.000000</td>\n",
       "      <td>0.000000</td>\n",
       "      <td>0.000000</td>\n",
       "      <td>334.000000</td>\n",
       "      <td>225.000000</td>\n",
       "      <td>7.303500e+04</td>\n",
       "    </tr>\n",
       "    <tr>\n",
       "      <th>25%</th>\n",
       "      <td>0.000000</td>\n",
       "      <td>8.000000</td>\n",
       "      <td>6.000000</td>\n",
       "      <td>11970.000000</td>\n",
       "      <td>0.000000</td>\n",
       "      <td>0.000000</td>\n",
       "      <td>0.000000</td>\n",
       "      <td>589.000000</td>\n",
       "      <td>465.000000</td>\n",
       "      <td>7.764970e+05</td>\n",
       "    </tr>\n",
       "    <tr>\n",
       "      <th>50%</th>\n",
       "      <td>587.850000</td>\n",
       "      <td>15.000000</td>\n",
       "      <td>12.000000</td>\n",
       "      <td>22185.000000</td>\n",
       "      <td>0.000000</td>\n",
       "      <td>0.000000</td>\n",
       "      <td>0.000000</td>\n",
       "      <td>747.000000</td>\n",
       "      <td>588.000000</td>\n",
       "      <td>1.224479e+06</td>\n",
       "    </tr>\n",
       "    <tr>\n",
       "      <th>75%</th>\n",
       "      <td>2907.670000</td>\n",
       "      <td>25.000000</td>\n",
       "      <td>22.000000</td>\n",
       "      <td>41985.000000</td>\n",
       "      <td>2.000000</td>\n",
       "      <td>1.000000</td>\n",
       "      <td>1998.000000</td>\n",
       "      <td>876.000000</td>\n",
       "      <td>729.000000</td>\n",
       "      <td>1.703796e+06</td>\n",
       "    </tr>\n",
       "    <tr>\n",
       "      <th>max</th>\n",
       "      <td>9545.370000</td>\n",
       "      <td>122.000000</td>\n",
       "      <td>101.000000</td>\n",
       "      <td>121878.000000</td>\n",
       "      <td>8.000000</td>\n",
       "      <td>5.000000</td>\n",
       "      <td>15960.000000</td>\n",
       "      <td>6926.000000</td>\n",
       "      <td>6017.000000</td>\n",
       "      <td>6.919074e+06</td>\n",
       "    </tr>\n",
       "  </tbody>\n",
       "</table>\n",
       "</div>"
      ],
      "text/plain": [
       "       yitemrevenue    xcartadd  xcartuniqadd  xcartaddtotalrs  xcartremove  \\\n",
       "count     85.000000   85.000000     85.000000        85.000000    85.000000   \n",
       "mean    1819.286118   21.635294     16.270588     28908.035294     1.305882   \n",
       "std     2439.612891   22.095489     16.612093     26021.014913     1.958033   \n",
       "min        0.000000    0.000000      0.000000         0.000000     0.000000   \n",
       "25%        0.000000    8.000000      6.000000     11970.000000     0.000000   \n",
       "50%      587.850000   15.000000     12.000000     22185.000000     0.000000   \n",
       "75%     2907.670000   25.000000     22.000000     41985.000000     2.000000   \n",
       "max     9545.370000  122.000000    101.000000    121878.000000     8.000000   \n",
       "\n",
       "       xcardtremovetotal  xcardtremovetotalrs  xproductviews  xuniqprodview  \\\n",
       "count          85.000000            85.000000      85.000000      85.000000   \n",
       "mean            0.752941          1877.188235     846.058824     680.094118   \n",
       "std             1.153730          3453.606185     763.823268     661.986668   \n",
       "min             0.000000             0.000000     334.000000     225.000000   \n",
       "25%             0.000000             0.000000     589.000000     465.000000   \n",
       "50%             0.000000             0.000000     747.000000     588.000000   \n",
       "75%             1.000000          1998.000000     876.000000     729.000000   \n",
       "max             5.000000         15960.000000    6926.000000    6017.000000   \n",
       "\n",
       "       xprodviewinrs  \n",
       "count   8.500000e+01  \n",
       "mean    1.377072e+06  \n",
       "std     9.955587e+05  \n",
       "min     7.303500e+04  \n",
       "25%     7.764970e+05  \n",
       "50%     1.224479e+06  \n",
       "75%     1.703796e+06  \n",
       "max     6.919074e+06  "
      ]
     },
     "execution_count": 11,
     "metadata": {},
     "output_type": "execute_result"
    }
   ],
   "source": [
    "new_prod.describe()"
   ]
  },
  {
   "cell_type": "markdown",
   "metadata": {},
   "source": [
    "## Setelah dibuang Outlier"
   ]
  },
  {
   "cell_type": "code",
   "execution_count": 12,
   "metadata": {},
   "outputs": [],
   "source": [
    "lm = LinearRegression()"
   ]
  },
  {
   "cell_type": "code",
   "execution_count": 13,
   "metadata": {},
   "outputs": [
    {
     "data": {
      "text/plain": [
       "LinearRegression(copy_X=True, fit_intercept=True, n_jobs=1, normalize=False)"
      ]
     },
     "execution_count": 13,
     "metadata": {},
     "output_type": "execute_result"
    }
   ],
   "source": [
    "X = new_prod.drop(['yitemrevenue'], axis=1)\n",
    "Y = new_prod['yitemrevenue']\n",
    "lm.fit(X,Y)"
   ]
  },
  {
   "cell_type": "code",
   "execution_count": 14,
   "metadata": {},
   "outputs": [
    {
     "data": {
      "text/plain": [
       "0.3488230247449374"
      ]
     },
     "execution_count": 14,
     "metadata": {},
     "output_type": "execute_result"
    }
   ],
   "source": [
    "lm.score(X,Y)"
   ]
  },
  {
   "cell_type": "code",
   "execution_count": 15,
   "metadata": {},
   "outputs": [],
   "source": [
    "lm1 = smf.ols(formula='yitemrevenue~xcartadd+xcartuniqadd+xcartaddtotalrs+xcartremove+xcardtremovetotal+xcardtremovetotalrs+xproductviews+xuniqprodview+xprodviewinrs', data=new_prod).fit()"
   ]
  },
  {
   "cell_type": "code",
   "execution_count": 16,
   "metadata": {},
   "outputs": [
    {
     "data": {
      "text/html": [
       "<table class=\"simpletable\">\n",
       "<caption>OLS Regression Results</caption>\n",
       "<tr>\n",
       "  <th>Dep. Variable:</th>      <td>yitemrevenue</td>   <th>  R-squared:         </th> <td>   0.349</td>\n",
       "</tr>\n",
       "<tr>\n",
       "  <th>Model:</th>                   <td>OLS</td>       <th>  Adj. R-squared:    </th> <td>   0.271</td>\n",
       "</tr>\n",
       "<tr>\n",
       "  <th>Method:</th>             <td>Least Squares</td>  <th>  F-statistic:       </th> <td>   4.464</td>\n",
       "</tr>\n",
       "<tr>\n",
       "  <th>Date:</th>             <td>Mon, 11 Jun 2018</td> <th>  Prob (F-statistic):</th> <td>0.000105</td>\n",
       "</tr>\n",
       "<tr>\n",
       "  <th>Time:</th>                 <td>14:12:16</td>     <th>  Log-Likelihood:    </th> <td> -764.84</td>\n",
       "</tr>\n",
       "<tr>\n",
       "  <th>No. Observations:</th>      <td>    85</td>      <th>  AIC:               </th> <td>   1550.</td>\n",
       "</tr>\n",
       "<tr>\n",
       "  <th>Df Residuals:</th>          <td>    75</td>      <th>  BIC:               </th> <td>   1574.</td>\n",
       "</tr>\n",
       "<tr>\n",
       "  <th>Df Model:</th>              <td>     9</td>      <th>                     </th>     <td> </td>   \n",
       "</tr>\n",
       "<tr>\n",
       "  <th>Covariance Type:</th>      <td>nonrobust</td>    <th>                     </th>     <td> </td>   \n",
       "</tr>\n",
       "</table>\n",
       "<table class=\"simpletable\">\n",
       "<tr>\n",
       "           <td></td>              <th>coef</th>     <th>std err</th>      <th>t</th>      <th>P>|t|</th>  <th>[0.025</th>    <th>0.975]</th>  \n",
       "</tr>\n",
       "<tr>\n",
       "  <th>Intercept</th>           <td> -753.6595</td> <td>  517.191</td> <td>   -1.457</td> <td> 0.149</td> <td>-1783.957</td> <td>  276.638</td>\n",
       "</tr>\n",
       "<tr>\n",
       "  <th>xcartadd</th>            <td>   28.9504</td> <td>   76.830</td> <td>    0.377</td> <td> 0.707</td> <td> -124.103</td> <td>  182.004</td>\n",
       "</tr>\n",
       "<tr>\n",
       "  <th>xcartuniqadd</th>        <td>  -24.0469</td> <td>   97.013</td> <td>   -0.248</td> <td> 0.805</td> <td> -217.307</td> <td>  169.213</td>\n",
       "</tr>\n",
       "<tr>\n",
       "  <th>xcartaddtotalrs</th>     <td>    0.0001</td> <td>    0.018</td> <td>    0.006</td> <td> 0.995</td> <td>   -0.036</td> <td>    0.036</td>\n",
       "</tr>\n",
       "<tr>\n",
       "  <th>xcartremove</th>         <td> -116.5904</td> <td>  318.481</td> <td>   -0.366</td> <td> 0.715</td> <td> -751.038</td> <td>  517.857</td>\n",
       "</tr>\n",
       "<tr>\n",
       "  <th>xcardtremovetotal</th>   <td> -112.0325</td> <td>  425.892</td> <td>   -0.263</td> <td> 0.793</td> <td> -960.453</td> <td>  736.388</td>\n",
       "</tr>\n",
       "<tr>\n",
       "  <th>xcardtremovetotalrs</th> <td>   -0.0074</td> <td>    0.163</td> <td>   -0.046</td> <td> 0.964</td> <td>   -0.332</td> <td>    0.317</td>\n",
       "</tr>\n",
       "<tr>\n",
       "  <th>xproductviews</th>       <td>   21.8723</td> <td>    6.259</td> <td>    3.495</td> <td> 0.001</td> <td>    9.404</td> <td>   34.341</td>\n",
       "</tr>\n",
       "<tr>\n",
       "  <th>xuniqprodview</th>       <td>  -25.3633</td> <td>    7.004</td> <td>   -3.621</td> <td> 0.001</td> <td>  -39.315</td> <td>  -11.411</td>\n",
       "</tr>\n",
       "<tr>\n",
       "  <th>xprodviewinrs</th>       <td>    0.0010</td> <td>    0.001</td> <td>    1.774</td> <td> 0.080</td> <td>   -0.000</td> <td>    0.002</td>\n",
       "</tr>\n",
       "</table>\n",
       "<table class=\"simpletable\">\n",
       "<tr>\n",
       "  <th>Omnibus:</th>       <td> 5.752</td> <th>  Durbin-Watson:     </th> <td>   1.836</td>\n",
       "</tr>\n",
       "<tr>\n",
       "  <th>Prob(Omnibus):</th> <td> 0.056</td> <th>  Jarque-Bera (JB):  </th> <td>   5.798</td>\n",
       "</tr>\n",
       "<tr>\n",
       "  <th>Skew:</th>          <td> 0.635</td> <th>  Prob(JB):          </th> <td>  0.0551</td>\n",
       "</tr>\n",
       "<tr>\n",
       "  <th>Kurtosis:</th>      <td> 2.844</td> <th>  Cond. No.          </th> <td>3.95e+06</td>\n",
       "</tr>\n",
       "</table>"
      ],
      "text/plain": [
       "<class 'statsmodels.iolib.summary.Summary'>\n",
       "\"\"\"\n",
       "                            OLS Regression Results                            \n",
       "==============================================================================\n",
       "Dep. Variable:           yitemrevenue   R-squared:                       0.349\n",
       "Model:                            OLS   Adj. R-squared:                  0.271\n",
       "Method:                 Least Squares   F-statistic:                     4.464\n",
       "Date:                Mon, 11 Jun 2018   Prob (F-statistic):           0.000105\n",
       "Time:                        14:12:16   Log-Likelihood:                -764.84\n",
       "No. Observations:                  85   AIC:                             1550.\n",
       "Df Residuals:                      75   BIC:                             1574.\n",
       "Df Model:                           9                                         \n",
       "Covariance Type:            nonrobust                                         \n",
       "=======================================================================================\n",
       "                          coef    std err          t      P>|t|      [0.025      0.975]\n",
       "---------------------------------------------------------------------------------------\n",
       "Intercept            -753.6595    517.191     -1.457      0.149   -1783.957     276.638\n",
       "xcartadd               28.9504     76.830      0.377      0.707    -124.103     182.004\n",
       "xcartuniqadd          -24.0469     97.013     -0.248      0.805    -217.307     169.213\n",
       "xcartaddtotalrs         0.0001      0.018      0.006      0.995      -0.036       0.036\n",
       "xcartremove          -116.5904    318.481     -0.366      0.715    -751.038     517.857\n",
       "xcardtremovetotal    -112.0325    425.892     -0.263      0.793    -960.453     736.388\n",
       "xcardtremovetotalrs    -0.0074      0.163     -0.046      0.964      -0.332       0.317\n",
       "xproductviews          21.8723      6.259      3.495      0.001       9.404      34.341\n",
       "xuniqprodview         -25.3633      7.004     -3.621      0.001     -39.315     -11.411\n",
       "xprodviewinrs           0.0010      0.001      1.774      0.080      -0.000       0.002\n",
       "==============================================================================\n",
       "Omnibus:                        5.752   Durbin-Watson:                   1.836\n",
       "Prob(Omnibus):                  0.056   Jarque-Bera (JB):                5.798\n",
       "Skew:                           0.635   Prob(JB):                       0.0551\n",
       "Kurtosis:                       2.844   Cond. No.                     3.95e+06\n",
       "==============================================================================\n",
       "\n",
       "Warnings:\n",
       "[1] Standard Errors assume that the covariance matrix of the errors is correctly specified.\n",
       "[2] The condition number is large, 3.95e+06. This might indicate that there are\n",
       "strong multicollinearity or other numerical problems.\n",
       "\"\"\""
      ]
     },
     "execution_count": 16,
     "metadata": {},
     "output_type": "execute_result"
    }
   ],
   "source": [
    "lm1.summary()"
   ]
  },
  {
   "cell_type": "markdown",
   "metadata": {},
   "source": [
    "## Sebelum Dibuang Outlier"
   ]
  },
  {
   "cell_type": "code",
   "execution_count": 17,
   "metadata": {},
   "outputs": [
    {
     "data": {
      "text/plain": [
       "0.7746966458177061"
      ]
     },
     "execution_count": 17,
     "metadata": {},
     "output_type": "execute_result"
    }
   ],
   "source": [
    "X_prev = prod.drop(['yitemrevenue'], axis=1)\n",
    "Y_prev = prod['yitemrevenue']\n",
    "lm.fit(X_prev,Y_prev)\n",
    "lm.score(X_prev,Y_prev)"
   ]
  },
  {
   "cell_type": "code",
   "execution_count": 18,
   "metadata": {},
   "outputs": [],
   "source": [
    "lm1 = smf.ols(formula='yitemrevenue~xcartadd+xcartuniqadd+xcartaddtotalrs+xcartremove+xcardtremovetotal+xcardtremovetotalrs+xproductviews+xuniqprodview+xprodviewinrs', data=prod).fit()"
   ]
  },
  {
   "cell_type": "code",
   "execution_count": 19,
   "metadata": {},
   "outputs": [
    {
     "data": {
      "text/html": [
       "<table class=\"simpletable\">\n",
       "<caption>OLS Regression Results</caption>\n",
       "<tr>\n",
       "  <th>Dep. Variable:</th>      <td>yitemrevenue</td>   <th>  R-squared:         </th> <td>   0.775</td>\n",
       "</tr>\n",
       "<tr>\n",
       "  <th>Model:</th>                   <td>OLS</td>       <th>  Adj. R-squared:    </th> <td>   0.750</td>\n",
       "</tr>\n",
       "<tr>\n",
       "  <th>Method:</th>             <td>Least Squares</td>  <th>  F-statistic:       </th> <td>   31.33</td>\n",
       "</tr>\n",
       "<tr>\n",
       "  <th>Date:</th>             <td>Mon, 11 Jun 2018</td> <th>  Prob (F-statistic):</th> <td>5.57e-23</td>\n",
       "</tr>\n",
       "<tr>\n",
       "  <th>Time:</th>                 <td>14:12:16</td>     <th>  Log-Likelihood:    </th> <td> -889.68</td>\n",
       "</tr>\n",
       "<tr>\n",
       "  <th>No. Observations:</th>      <td>    92</td>      <th>  AIC:               </th> <td>   1799.</td>\n",
       "</tr>\n",
       "<tr>\n",
       "  <th>Df Residuals:</th>          <td>    82</td>      <th>  BIC:               </th> <td>   1825.</td>\n",
       "</tr>\n",
       "<tr>\n",
       "  <th>Df Model:</th>              <td>     9</td>      <th>                     </th>     <td> </td>   \n",
       "</tr>\n",
       "<tr>\n",
       "  <th>Covariance Type:</th>      <td>nonrobust</td>    <th>                     </th>     <td> </td>   \n",
       "</tr>\n",
       "</table>\n",
       "<table class=\"simpletable\">\n",
       "<tr>\n",
       "           <td></td>              <th>coef</th>     <th>std err</th>      <th>t</th>      <th>P>|t|</th>  <th>[0.025</th>    <th>0.975]</th>  \n",
       "</tr>\n",
       "<tr>\n",
       "  <th>Intercept</th>           <td> -355.5869</td> <td>  946.178</td> <td>   -0.376</td> <td> 0.708</td> <td>-2237.836</td> <td> 1526.662</td>\n",
       "</tr>\n",
       "<tr>\n",
       "  <th>xcartadd</th>            <td>   89.5503</td> <td>  115.743</td> <td>    0.774</td> <td> 0.441</td> <td> -140.700</td> <td>  319.801</td>\n",
       "</tr>\n",
       "<tr>\n",
       "  <th>xcartuniqadd</th>        <td> -161.1280</td> <td>  158.434</td> <td>   -1.017</td> <td> 0.312</td> <td> -476.303</td> <td>  154.047</td>\n",
       "</tr>\n",
       "<tr>\n",
       "  <th>xcartaddtotalrs</th>     <td>    0.1013</td> <td>    0.013</td> <td>    7.549</td> <td> 0.000</td> <td>    0.075</td> <td>    0.128</td>\n",
       "</tr>\n",
       "<tr>\n",
       "  <th>xcartremove</th>         <td>  597.7659</td> <td>  528.214</td> <td>    1.132</td> <td> 0.261</td> <td> -453.021</td> <td> 1648.553</td>\n",
       "</tr>\n",
       "<tr>\n",
       "  <th>xcardtremovetotal</th>   <td>-1096.0898</td> <td>  796.820</td> <td>   -1.376</td> <td> 0.173</td> <td>-2681.219</td> <td>  489.039</td>\n",
       "</tr>\n",
       "<tr>\n",
       "  <th>xcardtremovetotalrs</th> <td>   -0.2914</td> <td>    0.267</td> <td>   -1.090</td> <td> 0.279</td> <td>   -0.823</td> <td>    0.240</td>\n",
       "</tr>\n",
       "<tr>\n",
       "  <th>xproductviews</th>       <td>    6.7968</td> <td>   10.047</td> <td>    0.676</td> <td> 0.501</td> <td>  -13.190</td> <td>   26.784</td>\n",
       "</tr>\n",
       "<tr>\n",
       "  <th>xuniqprodview</th>       <td>   -7.9396</td> <td>   11.417</td> <td>   -0.695</td> <td> 0.489</td> <td>  -30.651</td> <td>   14.772</td>\n",
       "</tr>\n",
       "<tr>\n",
       "  <th>xprodviewinrs</th>       <td>    0.0005</td> <td>    0.000</td> <td>    1.159</td> <td> 0.250</td> <td>   -0.000</td> <td>    0.001</td>\n",
       "</tr>\n",
       "</table>\n",
       "<table class=\"simpletable\">\n",
       "<tr>\n",
       "  <th>Omnibus:</th>       <td>53.835</td> <th>  Durbin-Watson:     </th> <td>   1.862</td>\n",
       "</tr>\n",
       "<tr>\n",
       "  <th>Prob(Omnibus):</th> <td> 0.000</td> <th>  Jarque-Bera (JB):  </th> <td> 313.068</td>\n",
       "</tr>\n",
       "<tr>\n",
       "  <th>Skew:</th>          <td> 1.714</td> <th>  Prob(JB):          </th> <td>1.04e-68</td>\n",
       "</tr>\n",
       "<tr>\n",
       "  <th>Kurtosis:</th>      <td>11.362</td> <th>  Cond. No.          </th> <td>4.04e+06</td>\n",
       "</tr>\n",
       "</table>"
      ],
      "text/plain": [
       "<class 'statsmodels.iolib.summary.Summary'>\n",
       "\"\"\"\n",
       "                            OLS Regression Results                            \n",
       "==============================================================================\n",
       "Dep. Variable:           yitemrevenue   R-squared:                       0.775\n",
       "Model:                            OLS   Adj. R-squared:                  0.750\n",
       "Method:                 Least Squares   F-statistic:                     31.33\n",
       "Date:                Mon, 11 Jun 2018   Prob (F-statistic):           5.57e-23\n",
       "Time:                        14:12:16   Log-Likelihood:                -889.68\n",
       "No. Observations:                  92   AIC:                             1799.\n",
       "Df Residuals:                      82   BIC:                             1825.\n",
       "Df Model:                           9                                         \n",
       "Covariance Type:            nonrobust                                         \n",
       "=======================================================================================\n",
       "                          coef    std err          t      P>|t|      [0.025      0.975]\n",
       "---------------------------------------------------------------------------------------\n",
       "Intercept            -355.5869    946.178     -0.376      0.708   -2237.836    1526.662\n",
       "xcartadd               89.5503    115.743      0.774      0.441    -140.700     319.801\n",
       "xcartuniqadd         -161.1280    158.434     -1.017      0.312    -476.303     154.047\n",
       "xcartaddtotalrs         0.1013      0.013      7.549      0.000       0.075       0.128\n",
       "xcartremove           597.7659    528.214      1.132      0.261    -453.021    1648.553\n",
       "xcardtremovetotal   -1096.0898    796.820     -1.376      0.173   -2681.219     489.039\n",
       "xcardtremovetotalrs    -0.2914      0.267     -1.090      0.279      -0.823       0.240\n",
       "xproductviews           6.7968     10.047      0.676      0.501     -13.190      26.784\n",
       "xuniqprodview          -7.9396     11.417     -0.695      0.489     -30.651      14.772\n",
       "xprodviewinrs           0.0005      0.000      1.159      0.250      -0.000       0.001\n",
       "==============================================================================\n",
       "Omnibus:                       53.835   Durbin-Watson:                   1.862\n",
       "Prob(Omnibus):                  0.000   Jarque-Bera (JB):              313.068\n",
       "Skew:                           1.714   Prob(JB):                     1.04e-68\n",
       "Kurtosis:                      11.362   Cond. No.                     4.04e+06\n",
       "==============================================================================\n",
       "\n",
       "Warnings:\n",
       "[1] Standard Errors assume that the covariance matrix of the errors is correctly specified.\n",
       "[2] The condition number is large, 4.04e+06. This might indicate that there are\n",
       "strong multicollinearity or other numerical problems.\n",
       "\"\"\""
      ]
     },
     "execution_count": 19,
     "metadata": {},
     "output_type": "execute_result"
    }
   ],
   "source": [
    "lm1.summary()"
   ]
  },
  {
   "cell_type": "markdown",
   "metadata": {},
   "source": [
    "## Check Multico"
   ]
  },
  {
   "cell_type": "code",
   "execution_count": 20,
   "metadata": {},
   "outputs": [],
   "source": [
    "corr_df = X_prev.corr(method='pearson')"
   ]
  },
  {
   "cell_type": "code",
   "execution_count": 21,
   "metadata": {},
   "outputs": [
    {
     "data": {
      "image/png": "[encoded data removed]",
      "text/plain": [
       "<matplotlib.figure.Figure at 0x222c7e93898>"
      ]
     },
     "metadata": {},
     "output_type": "display_data"
    }
   ],
   "source": [
    "sns.heatmap(corr_df, cmap = 'Greens', vmax=1.0, vmin = -1.0, linewidth = 3, annot=True)\n",
    "plt.show()"
   ]
  },
  {
   "cell_type": "code",
   "execution_count": 22,
   "metadata": {},
   "outputs": [],
   "source": [
    "import scipy as sc"
   ]
  },
  {
   "cell_type": "code",
   "execution_count": 23,
   "metadata": {},
   "outputs": [
    {
     "data": {
      "text/plain": [
       "array([[ 1.        ,  0.99828687,  0.82866926,  0.53940931,  0.63618597,\n",
       "         0.24606523,  0.84502014,  0.82748429, -0.18735216],\n",
       "       [ 0.99828687,  1.        ,  0.84890946,  0.54011112,  0.64446559,\n",
       "         0.25526684,  0.86936077,  0.85318104, -0.18049376],\n",
       "       [ 0.82866926,  0.84890946,  1.        ,  0.44757631,  0.62409939,\n",
       "         0.33602016,  0.93975197,  0.93819036, -0.10296339],\n",
       "       [ 0.53940931,  0.54011112,  0.44757631,  1.        ,  0.87906453,\n",
       "         0.79391862,  0.49114958,  0.48152124, -0.12365768],\n",
       "       [ 0.63618597,  0.64446559,  0.62409939,  0.87906453,  1.        ,\n",
       "         0.74145401,  0.6810636 ,  0.67433336, -0.09113361],\n",
       "       [ 0.24606523,  0.25526684,  0.33602016,  0.79391862,  0.74145401,\n",
       "         1.        ,  0.32279882,  0.32220304,  0.12490845],\n",
       "       [ 0.84502014,  0.86936077,  0.93975197,  0.49114958,  0.6810636 ,\n",
       "         0.32279882,  1.        ,  0.9993684 , -0.05506033],\n",
       "       [ 0.82748429,  0.85318104,  0.93819036,  0.48152124,  0.67433336,\n",
       "         0.32220304,  0.9993684 ,  1.        , -0.04720115],\n",
       "       [-0.18735216, -0.18049376, -0.10296339, -0.12365768, -0.09113361,\n",
       "         0.12490845, -0.05506033, -0.04720115,  1.        ]])"
      ]
     },
     "execution_count": 23,
     "metadata": {},
     "output_type": "execute_result"
    }
   ],
   "source": [
    "coef = sc.corrcoef(X_prev, rowvar = 0)\n",
    "coef"
   ]
  },
  {
   "cell_type": "code",
   "execution_count": 24,
   "metadata": {},
   "outputs": [],
   "source": [
    "from statsmodels.stats.outliers_influence import variance_inflation_factor"
   ]
  },
  {
   "cell_type": "code",
   "execution_count": 25,
   "metadata": {},
   "outputs": [],
   "source": [
    "vif = [variance_inflation_factor(X_prev.values,j) for j in range(X_prev.shape[1])]"
   ]
  },
  {
   "cell_type": "markdown",
   "metadata": {},
   "source": [
    "## Check Normalitas Residu"
   ]
  },
  {
   "cell_type": "code",
   "execution_count": 26,
   "metadata": {},
   "outputs": [],
   "source": [
    "from scipy import stats"
   ]
  },
  {
   "cell_type": "code",
   "execution_count": 27,
   "metadata": {},
   "outputs": [
    {
     "data": {
      "text/plain": [
       "(0.861441969871521, 8.54630997082495e-08)"
      ]
     },
     "execution_count": 27,
     "metadata": {},
     "output_type": "execute_result"
    }
   ],
   "source": [
    "stats.shapiro(lm1.resid)"
   ]
  },
  {
   "cell_type": "code",
   "execution_count": 28,
   "metadata": {},
   "outputs": [
    {
     "data": {
      "image/png": "[encoded data removed]",
      "text/plain": [
       "<matplotlib.figure.Figure at 0x222c7fa51d0>"
      ]
     },
     "execution_count": 28,
     "metadata": {},
     "output_type": "execute_result"
    },
    {
     "data": {
      "image/png": "[encoded data removed]",
      "text/plain": [
       "<matplotlib.figure.Figure at 0x222c7fa51d0>"
      ]
     },
     "metadata": {},
     "output_type": "display_data"
    }
   ],
   "source": [
    "sm.qqplot(lm1.resid)"
   ]
  },
  {
   "cell_type": "markdown",
   "metadata": {},
   "source": [
    "## Check Heterocesdacity"
   ]
  },
  {
   "cell_type": "code",
   "execution_count": 29,
   "metadata": {},
   "outputs": [],
   "source": [
    "import statsmodels.stats.api as sma\n",
    "# from statsmodels.compat import lzip"
   ]
  },
  {
   "cell_type": "code",
   "execution_count": 30,
   "metadata": {},
   "outputs": [
    {
     "data": {
      "text/plain": [
       "(0.2916943373907659, 0.9998175289182352, 'increasing')"
      ]
     },
     "execution_count": 30,
     "metadata": {},
     "output_type": "execute_result"
    }
   ],
   "source": [
    "test = sma.het_goldfeldquandt(lm1.resid, lm1.model.exog)\n",
    "test"
   ]
  },
  {
   "cell_type": "markdown",
   "metadata": {},
   "source": [
    "## Learning Again"
   ]
  },
  {
   "cell_type": "markdown",
   "metadata": {},
   "source": [
    "Pilih berdasarkan VIF with 5 var"
   ]
  },
  {
   "cell_type": "code",
   "execution_count": 31,
   "metadata": {},
   "outputs": [],
   "source": [
    "index_col = [0]"
   ]
  },
  {
   "cell_type": "code",
   "execution_count": 32,
   "metadata": {},
   "outputs": [],
   "source": [
    "for idx,val in enumerate(vif):\n",
    "    if val < 20:\n",
    "        index_col.append(idx)"
   ]
  },
  {
   "cell_type": "code",
   "execution_count": 33,
   "metadata": {},
   "outputs": [
    {
     "data": {
      "text/plain": [
       "[0, 2, 3, 4, 5, 8]"
      ]
     },
     "execution_count": 33,
     "metadata": {},
     "output_type": "execute_result"
    }
   ],
   "source": [
    "index_col"
   ]
  },
  {
   "cell_type": "code",
   "execution_count": 34,
   "metadata": {},
   "outputs": [
    {
     "data": {
      "text/html": [
       "<div>\n",
       "<style scoped>\n",
       "    .dataframe tbody tr th:only-of-type {\n",
       "        vertical-align: middle;\n",
       "    }\n",
       "\n",
       "    .dataframe tbody tr th {\n",
       "        vertical-align: top;\n",
       "    }\n",
       "\n",
       "    .dataframe thead th {\n",
       "        text-align: right;\n",
       "    }\n",
       "</style>\n",
       "<table border=\"1\" class=\"dataframe\">\n",
       "  <thead>\n",
       "    <tr style=\"text-align: right;\">\n",
       "      <th></th>\n",
       "      <th>yitemrevenue</th>\n",
       "      <th>xcartuniqadd</th>\n",
       "      <th>xcartaddtotalrs</th>\n",
       "      <th>xcartremove</th>\n",
       "      <th>xcardtremovetotal</th>\n",
       "      <th>xuniqprodview</th>\n",
       "    </tr>\n",
       "  </thead>\n",
       "  <tbody>\n",
       "    <tr>\n",
       "      <th>0</th>\n",
       "      <td>39215.93</td>\n",
       "      <td>503</td>\n",
       "      <td>752186</td>\n",
       "      <td>10</td>\n",
       "      <td>10</td>\n",
       "      <td>20498</td>\n",
       "    </tr>\n",
       "    <tr>\n",
       "      <th>1</th>\n",
       "      <td>23819.47</td>\n",
       "      <td>622</td>\n",
       "      <td>425667</td>\n",
       "      <td>8</td>\n",
       "      <td>5</td>\n",
       "      <td>8718</td>\n",
       "    </tr>\n",
       "    <tr>\n",
       "      <th>2</th>\n",
       "      <td>4415.45</td>\n",
       "      <td>101</td>\n",
       "      <td>121878</td>\n",
       "      <td>2</td>\n",
       "      <td>2</td>\n",
       "      <td>6017</td>\n",
       "    </tr>\n",
       "    <tr>\n",
       "      <th>3</th>\n",
       "      <td>57435.56</td>\n",
       "      <td>196</td>\n",
       "      <td>609761</td>\n",
       "      <td>2</td>\n",
       "      <td>2</td>\n",
       "      <td>9733</td>\n",
       "    </tr>\n",
       "    <tr>\n",
       "      <th>4</th>\n",
       "      <td>0.00</td>\n",
       "      <td>22</td>\n",
       "      <td>58488</td>\n",
       "      <td>0</td>\n",
       "      <td>0</td>\n",
       "      <td>764</td>\n",
       "    </tr>\n",
       "  </tbody>\n",
       "</table>\n",
       "</div>"
      ],
      "text/plain": [
       "   yitemrevenue  xcartuniqadd  xcartaddtotalrs  xcartremove  \\\n",
       "0      39215.93           503           752186           10   \n",
       "1      23819.47           622           425667            8   \n",
       "2       4415.45           101           121878            2   \n",
       "3      57435.56           196           609761            2   \n",
       "4          0.00            22            58488            0   \n",
       "\n",
       "   xcardtremovetotal  xuniqprodview  \n",
       "0                 10          20498  \n",
       "1                  5           8718  \n",
       "2                  2           6017  \n",
       "3                  2           9733  \n",
       "4                  0            764  "
      ]
     },
     "execution_count": 34,
     "metadata": {},
     "output_type": "execute_result"
    }
   ],
   "source": [
    "data_train = prod.iloc[:, index_col]\n",
    "data_train.head()"
   ]
  },
  {
   "cell_type": "code",
   "execution_count": 35,
   "metadata": {},
   "outputs": [],
   "source": [
    "lm3 = smf.ols(formula='yitemrevenue~xcartuniqadd+xcartaddtotalrs+xcartremove+xcardtremovetotal+xuniqprodview', data=data_train).fit()"
   ]
  },
  {
   "cell_type": "code",
   "execution_count": 36,
   "metadata": {},
   "outputs": [
    {
     "data": {
      "text/html": [
       "<table class=\"simpletable\">\n",
       "<caption>OLS Regression Results</caption>\n",
       "<tr>\n",
       "  <th>Dep. Variable:</th>      <td>yitemrevenue</td>   <th>  R-squared:         </th> <td>   0.765</td>\n",
       "</tr>\n",
       "<tr>\n",
       "  <th>Model:</th>                   <td>OLS</td>       <th>  Adj. R-squared:    </th> <td>   0.751</td>\n",
       "</tr>\n",
       "<tr>\n",
       "  <th>Method:</th>             <td>Least Squares</td>  <th>  F-statistic:       </th> <td>   55.92</td>\n",
       "</tr>\n",
       "<tr>\n",
       "  <th>Date:</th>             <td>Mon, 11 Jun 2018</td> <th>  Prob (F-statistic):</th> <td>1.41e-25</td>\n",
       "</tr>\n",
       "<tr>\n",
       "  <th>Time:</th>                 <td>14:12:17</td>     <th>  Log-Likelihood:    </th> <td> -891.66</td>\n",
       "</tr>\n",
       "<tr>\n",
       "  <th>No. Observations:</th>      <td>    92</td>      <th>  AIC:               </th> <td>   1795.</td>\n",
       "</tr>\n",
       "<tr>\n",
       "  <th>Df Residuals:</th>          <td>    86</td>      <th>  BIC:               </th> <td>   1810.</td>\n",
       "</tr>\n",
       "<tr>\n",
       "  <th>Df Model:</th>              <td>     5</td>      <th>                     </th>     <td> </td>   \n",
       "</tr>\n",
       "<tr>\n",
       "  <th>Covariance Type:</th>      <td>nonrobust</td>    <th>                     </th>     <td> </td>   \n",
       "</tr>\n",
       "</table>\n",
       "<table class=\"simpletable\">\n",
       "<tr>\n",
       "          <td></td>             <th>coef</th>     <th>std err</th>      <th>t</th>      <th>P>|t|</th>  <th>[0.025</th>    <th>0.975]</th>  \n",
       "</tr>\n",
       "<tr>\n",
       "  <th>Intercept</th>         <td>  876.4698</td> <td>  519.100</td> <td>    1.688</td> <td> 0.095</td> <td> -155.466</td> <td> 1908.406</td>\n",
       "</tr>\n",
       "<tr>\n",
       "  <th>xcartuniqadd</th>      <td>  -17.9222</td> <td>   10.598</td> <td>   -1.691</td> <td> 0.094</td> <td>  -38.990</td> <td>    3.146</td>\n",
       "</tr>\n",
       "<tr>\n",
       "  <th>xcartaddtotalrs</th>   <td>    0.0933</td> <td>    0.012</td> <td>    7.825</td> <td> 0.000</td> <td>    0.070</td> <td>    0.117</td>\n",
       "</tr>\n",
       "<tr>\n",
       "  <th>xcartremove</th>       <td>  184.0735</td> <td>  437.807</td> <td>    0.420</td> <td> 0.675</td> <td> -686.257</td> <td> 1054.404</td>\n",
       "</tr>\n",
       "<tr>\n",
       "  <th>xcardtremovetotal</th> <td>-1095.9739</td> <td>  726.470</td> <td>   -1.509</td> <td> 0.135</td> <td>-2540.149</td> <td>  348.202</td>\n",
       "</tr>\n",
       "<tr>\n",
       "  <th>xuniqprodview</th>     <td>   -0.4061</td> <td>    0.554</td> <td>   -0.733</td> <td> 0.466</td> <td>   -1.508</td> <td>    0.695</td>\n",
       "</tr>\n",
       "</table>\n",
       "<table class=\"simpletable\">\n",
       "<tr>\n",
       "  <th>Omnibus:</th>       <td>63.013</td> <th>  Durbin-Watson:     </th> <td>   1.837</td>\n",
       "</tr>\n",
       "<tr>\n",
       "  <th>Prob(Omnibus):</th> <td> 0.000</td> <th>  Jarque-Bera (JB):  </th> <td> 425.969</td>\n",
       "</tr>\n",
       "<tr>\n",
       "  <th>Skew:</th>          <td> 2.040</td> <th>  Prob(JB):          </th> <td>3.18e-93</td>\n",
       "</tr>\n",
       "<tr>\n",
       "  <th>Kurtosis:</th>      <td>12.720</td> <th>  Cond. No.          </th> <td>2.30e+05</td>\n",
       "</tr>\n",
       "</table>"
      ],
      "text/plain": [
       "<class 'statsmodels.iolib.summary.Summary'>\n",
       "\"\"\"\n",
       "                            OLS Regression Results                            \n",
       "==============================================================================\n",
       "Dep. Variable:           yitemrevenue   R-squared:                       0.765\n",
       "Model:                            OLS   Adj. R-squared:                  0.751\n",
       "Method:                 Least Squares   F-statistic:                     55.92\n",
       "Date:                Mon, 11 Jun 2018   Prob (F-statistic):           1.41e-25\n",
       "Time:                        14:12:17   Log-Likelihood:                -891.66\n",
       "No. Observations:                  92   AIC:                             1795.\n",
       "Df Residuals:                      86   BIC:                             1810.\n",
       "Df Model:                           5                                         \n",
       "Covariance Type:            nonrobust                                         \n",
       "=====================================================================================\n",
       "                        coef    std err          t      P>|t|      [0.025      0.975]\n",
       "-------------------------------------------------------------------------------------\n",
       "Intercept           876.4698    519.100      1.688      0.095    -155.466    1908.406\n",
       "xcartuniqadd        -17.9222     10.598     -1.691      0.094     -38.990       3.146\n",
       "xcartaddtotalrs       0.0933      0.012      7.825      0.000       0.070       0.117\n",
       "xcartremove         184.0735    437.807      0.420      0.675    -686.257    1054.404\n",
       "xcardtremovetotal -1095.9739    726.470     -1.509      0.135   -2540.149     348.202\n",
       "xuniqprodview        -0.4061      0.554     -0.733      0.466      -1.508       0.695\n",
       "==============================================================================\n",
       "Omnibus:                       63.013   Durbin-Watson:                   1.837\n",
       "Prob(Omnibus):                  0.000   Jarque-Bera (JB):              425.969\n",
       "Skew:                           2.040   Prob(JB):                     3.18e-93\n",
       "Kurtosis:                      12.720   Cond. No.                     2.30e+05\n",
       "==============================================================================\n",
       "\n",
       "Warnings:\n",
       "[1] Standard Errors assume that the covariance matrix of the errors is correctly specified.\n",
       "[2] The condition number is large, 2.3e+05. This might indicate that there are\n",
       "strong multicollinearity or other numerical problems.\n",
       "\"\"\""
      ]
     },
     "execution_count": 36,
     "metadata": {},
     "output_type": "execute_result"
    }
   ],
   "source": [
    "lm3.summary()"
   ]
  },
  {
   "cell_type": "markdown",
   "metadata": {},
   "source": [
    "## Uji Normalitas Residu"
   ]
  },
  {
   "cell_type": "code",
   "execution_count": 37,
   "metadata": {},
   "outputs": [
    {
     "data": {
      "text/plain": [
       "(0.838249683380127, 1.2721103281876367e-08)"
      ]
     },
     "execution_count": 37,
     "metadata": {},
     "output_type": "execute_result"
    }
   ],
   "source": [
    "stats.shapiro(lm3.resid)"
   ]
  },
  {
   "cell_type": "code",
   "execution_count": 38,
   "metadata": {},
   "outputs": [
    {
     "data": {
      "image/png": "[encoded data removed]",
      "text/plain": [
       "<matplotlib.figure.Figure at 0x222c80cda58>"
      ]
     },
     "execution_count": 38,
     "metadata": {},
     "output_type": "execute_result"
    },
    {
     "data": {
      "image/png": "[encoded data removed]",
      "text/plain": [
       "<matplotlib.figure.Figure at 0x222c80cda58>"
      ]
     },
     "metadata": {},
     "output_type": "display_data"
    }
   ],
   "source": [
    "sm.qqplot(lm3.resid)"
   ]
  },
  {
   "cell_type": "markdown",
   "metadata": {},
   "source": [
    "## Check Hetero"
   ]
  },
  {
   "cell_type": "code",
   "execution_count": 39,
   "metadata": {},
   "outputs": [
    {
     "data": {
      "text/plain": [
       "(0.31421452242405257, 0.9998030394371837, 'increasing')"
      ]
     },
     "execution_count": 39,
     "metadata": {},
     "output_type": "execute_result"
    }
   ],
   "source": [
    "test = sma.het_goldfeldquandt(lm3.resid, lm3.model.exog)\n",
    "test"
   ]
  },
  {
   "cell_type": "markdown",
   "metadata": {},
   "source": [
    "# Learning With Normalization"
   ]
  },
  {
   "cell_type": "code",
   "execution_count": 40,
   "metadata": {},
   "outputs": [],
   "source": [
    "from sklearn.preprocessing import StandardScaler"
   ]
  },
  {
   "cell_type": "code",
   "execution_count": 41,
   "metadata": {},
   "outputs": [],
   "source": [
    "scaler = StandardScaler()"
   ]
  },
  {
   "cell_type": "code",
   "execution_count": 42,
   "metadata": {},
   "outputs": [],
   "source": [
    "new_x = pd.DataFrame(scaler.fit_transform(data_train.iloc[:, [1,2,3,4,5]]), columns=[\"xcartuniqadd\",\"xcartaddtotalrs\",\"xcartremove\",\"xcardtremovetotal\",\"xuniqprodview\"])"
   ]
  },
  {
   "cell_type": "code",
   "execution_count": 43,
   "metadata": {},
   "outputs": [],
   "source": [
    "data_train2 = pd.concat([data_train[[\"yitemrevenue\"]], new_x], axis=1)"
   ]
  },
  {
   "cell_type": "code",
   "execution_count": 44,
   "metadata": {},
   "outputs": [
    {
     "data": {
      "text/html": [
       "<div>\n",
       "<style scoped>\n",
       "    .dataframe tbody tr th:only-of-type {\n",
       "        vertical-align: middle;\n",
       "    }\n",
       "\n",
       "    .dataframe tbody tr th {\n",
       "        vertical-align: top;\n",
       "    }\n",
       "\n",
       "    .dataframe thead th {\n",
       "        text-align: right;\n",
       "    }\n",
       "</style>\n",
       "<table border=\"1\" class=\"dataframe\">\n",
       "  <thead>\n",
       "    <tr style=\"text-align: right;\">\n",
       "      <th></th>\n",
       "      <th>yitemrevenue</th>\n",
       "      <th>xcartuniqadd</th>\n",
       "      <th>xcartaddtotalrs</th>\n",
       "      <th>xcartremove</th>\n",
       "      <th>xcardtremovetotal</th>\n",
       "      <th>xuniqprodview</th>\n",
       "    </tr>\n",
       "  </thead>\n",
       "  <tbody>\n",
       "    <tr>\n",
       "      <th>0</th>\n",
       "      <td>39215.93</td>\n",
       "      <td>5.648341</td>\n",
       "      <td>6.593755</td>\n",
       "      <td>3.884344</td>\n",
       "      <td>5.928625</td>\n",
       "      <td>7.860526</td>\n",
       "    </tr>\n",
       "    <tr>\n",
       "      <th>1</th>\n",
       "      <td>23819.47</td>\n",
       "      <td>7.070428</td>\n",
       "      <td>3.535771</td>\n",
       "      <td>2.978489</td>\n",
       "      <td>2.678128</td>\n",
       "      <td>3.090708</td>\n",
       "    </tr>\n",
       "    <tr>\n",
       "      <th>2</th>\n",
       "      <td>4415.45</td>\n",
       "      <td>0.844315</td>\n",
       "      <td>0.690663</td>\n",
       "      <td>0.260925</td>\n",
       "      <td>0.727829</td>\n",
       "      <td>1.997051</td>\n",
       "    </tr>\n",
       "    <tr>\n",
       "      <th>3</th>\n",
       "      <td>57435.56</td>\n",
       "      <td>1.979595</td>\n",
       "      <td>5.259886</td>\n",
       "      <td>0.260925</td>\n",
       "      <td>0.727829</td>\n",
       "      <td>3.501690</td>\n",
       "    </tr>\n",
       "    <tr>\n",
       "      <th>4</th>\n",
       "      <td>0.00</td>\n",
       "      <td>-0.099759</td>\n",
       "      <td>0.096990</td>\n",
       "      <td>-0.644929</td>\n",
       "      <td>-0.572370</td>\n",
       "      <td>-0.129932</td>\n",
       "    </tr>\n",
       "  </tbody>\n",
       "</table>\n",
       "</div>"
      ],
      "text/plain": [
       "   yitemrevenue  xcartuniqadd  xcartaddtotalrs  xcartremove  \\\n",
       "0      39215.93      5.648341         6.593755     3.884344   \n",
       "1      23819.47      7.070428         3.535771     2.978489   \n",
       "2       4415.45      0.844315         0.690663     0.260925   \n",
       "3      57435.56      1.979595         5.259886     0.260925   \n",
       "4          0.00     -0.099759         0.096990    -0.644929   \n",
       "\n",
       "   xcardtremovetotal  xuniqprodview  \n",
       "0           5.928625       7.860526  \n",
       "1           2.678128       3.090708  \n",
       "2           0.727829       1.997051  \n",
       "3           0.727829       3.501690  \n",
       "4          -0.572370      -0.129932  "
      ]
     },
     "execution_count": 44,
     "metadata": {},
     "output_type": "execute_result"
    }
   ],
   "source": [
    "data_train2.head()"
   ]
  },
  {
   "cell_type": "code",
   "execution_count": 45,
   "metadata": {},
   "outputs": [],
   "source": [
    "lm4 = smf.ols(formula='yitemrevenue~xcartuniqadd+xcartaddtotalrs+xcartremove+xcardtremovetotal+xuniqprodview', data=data_train2).fit()"
   ]
  },
  {
   "cell_type": "code",
   "execution_count": 46,
   "metadata": {},
   "outputs": [
    {
     "data": {
      "text/html": [
       "<table class=\"simpletable\">\n",
       "<caption>OLS Regression Results</caption>\n",
       "<tr>\n",
       "  <th>Dep. Variable:</th>      <td>yitemrevenue</td>   <th>  R-squared:         </th> <td>   0.765</td>\n",
       "</tr>\n",
       "<tr>\n",
       "  <th>Model:</th>                   <td>OLS</td>       <th>  Adj. R-squared:    </th> <td>   0.751</td>\n",
       "</tr>\n",
       "<tr>\n",
       "  <th>Method:</th>             <td>Least Squares</td>  <th>  F-statistic:       </th> <td>   55.92</td>\n",
       "</tr>\n",
       "<tr>\n",
       "  <th>Date:</th>             <td>Mon, 11 Jun 2018</td> <th>  Prob (F-statistic):</th> <td>1.41e-25</td>\n",
       "</tr>\n",
       "<tr>\n",
       "  <th>Time:</th>                 <td>14:12:17</td>     <th>  Log-Likelihood:    </th> <td> -891.66</td>\n",
       "</tr>\n",
       "<tr>\n",
       "  <th>No. Observations:</th>      <td>    92</td>      <th>  AIC:               </th> <td>   1795.</td>\n",
       "</tr>\n",
       "<tr>\n",
       "  <th>Df Residuals:</th>          <td>    86</td>      <th>  BIC:               </th> <td>   1810.</td>\n",
       "</tr>\n",
       "<tr>\n",
       "  <th>Df Model:</th>              <td>     5</td>      <th>                     </th>     <td> </td>   \n",
       "</tr>\n",
       "<tr>\n",
       "  <th>Covariance Type:</th>      <td>nonrobust</td>    <th>                     </th>     <td> </td>   \n",
       "</tr>\n",
       "</table>\n",
       "<table class=\"simpletable\">\n",
       "<tr>\n",
       "          <td></td>             <th>coef</th>     <th>std err</th>      <th>t</th>      <th>P>|t|</th>  <th>[0.025</th>    <th>0.975]</th>  \n",
       "</tr>\n",
       "<tr>\n",
       "  <th>Intercept</th>         <td> 3679.0822</td> <td>  422.369</td> <td>    8.711</td> <td> 0.000</td> <td> 2839.440</td> <td> 4518.724</td>\n",
       "</tr>\n",
       "<tr>\n",
       "  <th>xcartuniqadd</th>      <td>-1499.7237</td> <td>  886.831</td> <td>   -1.691</td> <td> 0.094</td> <td>-3262.684</td> <td>  263.237</td>\n",
       "</tr>\n",
       "<tr>\n",
       "  <th>xcartaddtotalrs</th>   <td> 9960.4941</td> <td> 1272.829</td> <td>    7.825</td> <td> 0.000</td> <td> 7430.195</td> <td> 1.25e+04</td>\n",
       "</tr>\n",
       "<tr>\n",
       "  <th>xcartremove</th>       <td>  406.4085</td> <td>  966.616</td> <td>    0.420</td> <td> 0.675</td> <td>-1515.160</td> <td> 2327.977</td>\n",
       "</tr>\n",
       "<tr>\n",
       "  <th>xcardtremovetotal</th> <td>-1685.8555</td> <td> 1117.476</td> <td>   -1.509</td> <td> 0.135</td> <td>-3907.324</td> <td>  535.613</td>\n",
       "</tr>\n",
       "<tr>\n",
       "  <th>xuniqprodview</th>     <td>-1002.9874</td> <td> 1368.539</td> <td>   -0.733</td> <td> 0.466</td> <td>-3723.552</td> <td> 1717.577</td>\n",
       "</tr>\n",
       "</table>\n",
       "<table class=\"simpletable\">\n",
       "<tr>\n",
       "  <th>Omnibus:</th>       <td>63.013</td> <th>  Durbin-Watson:     </th> <td>   1.837</td>\n",
       "</tr>\n",
       "<tr>\n",
       "  <th>Prob(Omnibus):</th> <td> 0.000</td> <th>  Jarque-Bera (JB):  </th> <td> 425.969</td>\n",
       "</tr>\n",
       "<tr>\n",
       "  <th>Skew:</th>          <td> 2.040</td> <th>  Prob(JB):          </th> <td>3.18e-93</td>\n",
       "</tr>\n",
       "<tr>\n",
       "  <th>Kurtosis:</th>      <td>12.720</td> <th>  Cond. No.          </th> <td>    8.25</td>\n",
       "</tr>\n",
       "</table>"
      ],
      "text/plain": [
       "<class 'statsmodels.iolib.summary.Summary'>\n",
       "\"\"\"\n",
       "                            OLS Regression Results                            \n",
       "==============================================================================\n",
       "Dep. Variable:           yitemrevenue   R-squared:                       0.765\n",
       "Model:                            OLS   Adj. R-squared:                  0.751\n",
       "Method:                 Least Squares   F-statistic:                     55.92\n",
       "Date:                Mon, 11 Jun 2018   Prob (F-statistic):           1.41e-25\n",
       "Time:                        14:12:17   Log-Likelihood:                -891.66\n",
       "No. Observations:                  92   AIC:                             1795.\n",
       "Df Residuals:                      86   BIC:                             1810.\n",
       "Df Model:                           5                                         \n",
       "Covariance Type:            nonrobust                                         \n",
       "=====================================================================================\n",
       "                        coef    std err          t      P>|t|      [0.025      0.975]\n",
       "-------------------------------------------------------------------------------------\n",
       "Intercept          3679.0822    422.369      8.711      0.000    2839.440    4518.724\n",
       "xcartuniqadd      -1499.7237    886.831     -1.691      0.094   -3262.684     263.237\n",
       "xcartaddtotalrs    9960.4941   1272.829      7.825      0.000    7430.195    1.25e+04\n",
       "xcartremove         406.4085    966.616      0.420      0.675   -1515.160    2327.977\n",
       "xcardtremovetotal -1685.8555   1117.476     -1.509      0.135   -3907.324     535.613\n",
       "xuniqprodview     -1002.9874   1368.539     -0.733      0.466   -3723.552    1717.577\n",
       "==============================================================================\n",
       "Omnibus:                       63.013   Durbin-Watson:                   1.837\n",
       "Prob(Omnibus):                  0.000   Jarque-Bera (JB):              425.969\n",
       "Skew:                           2.040   Prob(JB):                     3.18e-93\n",
       "Kurtosis:                      12.720   Cond. No.                         8.25\n",
       "==============================================================================\n",
       "\n",
       "Warnings:\n",
       "[1] Standard Errors assume that the covariance matrix of the errors is correctly specified.\n",
       "\"\"\""
      ]
     },
     "execution_count": 46,
     "metadata": {},
     "output_type": "execute_result"
    }
   ],
   "source": [
    "lm4.summary()"
   ]
  },
  {
   "cell_type": "code",
   "execution_count": 47,
   "metadata": {
    "scrolled": true
   },
   "outputs": [
    {
     "data": {
      "image/png": "[encoded data removed]",
      "text/plain": [
       "<matplotlib.figure.Figure at 0x222c81576a0>"
      ]
     },
     "execution_count": 47,
     "metadata": {},
     "output_type": "execute_result"
    },
    {
     "data": {
      "image/png": "[encoded data removed]",
      "text/plain": [
       "<matplotlib.figure.Figure at 0x222c81576a0>"
      ]
     },
     "metadata": {},
     "output_type": "display_data"
    }
   ],
   "source": [
    "sm.qqplot(lm4.resid)"
   ]
  },
  {
   "cell_type": "code",
   "execution_count": 48,
   "metadata": {},
   "outputs": [
    {
     "data": {
      "text/plain": [
       "(0.3142145224240525, 0.9998030394371837, 'increasing')"
      ]
     },
     "execution_count": 48,
     "metadata": {},
     "output_type": "execute_result"
    }
   ],
   "source": [
    "test = sma.het_goldfeldquandt(lm4.resid, lm4.model.exog)\n",
    "test"
   ]
  },
  {
   "cell_type": "markdown",
   "metadata": {},
   "source": [
    "# Earth Model"
   ]
  },
  {
   "cell_type": "code",
   "execution_count": 51,
   "metadata": {},
   "outputs": [],
   "source": [
    "from pyearth import Earth"
   ]
  },
  {
   "cell_type": "code",
   "execution_count": 52,
   "metadata": {},
   "outputs": [],
   "source": [
    "#fit an earth model \n",
    "x = prod.drop(['yitemrevenue'], 1)\n",
    "y = prod['yitemrevenue']"
   ]
  },
  {
   "cell_type": "code",
   "execution_count": 54,
   "metadata": {},
   "outputs": [
    {
     "name": "stderr",
     "output_type": "stream",
     "text": [
      "C:\\Users\\stezar059244\\AppData\\Local\\Continuum\\anaconda3\\lib\\site-packages\\pyearth\\earth.py:802: FutureWarning: `rcond` parameter will change to the default of machine precision times ``max(M, N)`` where M and N are the input matrix dimensions.\n",
      "To use the future default and silence this warning we advise to pass `rcond=None`, to keep using the old, explicitly pass `rcond=-1`.\n",
      "  pruning_passer.run()\n",
      "C:\\Users\\stezar059244\\AppData\\Local\\Continuum\\anaconda3\\lib\\site-packages\\pyearth\\earth.py:1055: FutureWarning: `rcond` parameter will change to the default of machine precision times ``max(M, N)`` where M and N are the input matrix dimensions.\n",
      "To use the future default and silence this warning we advise to pass `rcond=None`, to keep using the old, explicitly pass `rcond=-1`.\n",
      "  coef, resid = np.linalg.lstsq(B, weighted_y[:, i])[0:2]\n"
     ]
    },
    {
     "data": {
      "text/plain": [
       "Earth(allow_linear=None, allow_missing=False, check_every=None,\n",
       "   enable_pruning=True, endspan=None, endspan_alpha=None, fast_K=None,\n",
       "   fast_h=None, feature_importance_type=None, max_degree=None,\n",
       "   max_terms=None, min_search_points=None, minspan=None,\n",
       "   minspan_alpha=None, penalty=None, smooth=None, thresh=None,\n",
       "   use_fast=None, verbose=0, zero_tol=None)"
      ]
     },
     "execution_count": 54,
     "metadata": {},
     "output_type": "execute_result"
    }
   ],
   "source": [
    "#Fit an Earth model\n",
    "model = Earth()\n",
    "model.fit(x,y)"
   ]
  },
  {
   "cell_type": "code",
   "execution_count": 55,
   "metadata": {},
   "outputs": [
    {
     "name": "stdout",
     "output_type": "stream",
     "text": [
      "Earth Model\n",
      "--------------------------------------------------\n",
      "Basis Function               Pruned  Coefficient  \n",
      "--------------------------------------------------\n",
      "(Intercept)                  No      -1670.14     \n",
      "xcartaddtotalrs              Yes     None         \n",
      "h(xcardtremovetotal-3)       Yes     None         \n",
      "h(3-xcardtremovetotal)       Yes     None         \n",
      "h(xcartaddtotalrs-46987)     Yes     None         \n",
      "h(46987-xcartaddtotalrs)     Yes     None         \n",
      "h(xproductviews-1115)        No      -12.1955     \n",
      "h(1115-xproductviews)        Yes     None         \n",
      "xprodviewinrs                Yes     None         \n",
      "xcardtremovetotalrs          Yes     None         \n",
      "xproductviews                Yes     None         \n",
      "h(xcartaddtotalrs-70676)     No      0.160767     \n",
      "h(70676-xcartaddtotalrs)     Yes     None         \n",
      "xuniqprodview                Yes     None         \n",
      "h(xcardtremovetotalrs-4598)  Yes     None         \n",
      "h(4598-xcardtremovetotalrs)  No      0.563219     \n",
      "h(xprodviewinrs-1.1494E+06)  No      0.00225323   \n",
      "h(1.1494E+06-xprodviewinrs)  Yes     None         \n",
      "h(xcartaddtotalrs-3497)      Yes     None         \n",
      "h(3497-xcartaddtotalrs)      Yes     None         \n",
      "h(xuniqprodview-795)         Yes     None         \n",
      "h(795-xuniqprodview)         Yes     None         \n",
      "h(xuniqprodview-657)         Yes     None         \n",
      "h(657-xuniqprodview)         Yes     None         \n",
      "h(xproductviews-691)         No      9.00113      \n",
      "h(691-xproductviews)         Yes     None         \n",
      "h(xproductviews-636)         Yes     None         \n",
      "h(636-xproductviews)         Yes     None         \n",
      "--------------------------------------------------\n",
      "MSE: 9702132.4801, GCV: 13326114.5380, RSQ: 0.8512, GRSQ: 0.8001\n"
     ]
    }
   ],
   "source": [
    "print(model.summary())"
   ]
  },
  {
   "cell_type": "code",
   "execution_count": 56,
   "metadata": {},
   "outputs": [
    {
     "data": {
      "image/png": "[encoded data removed]",
      "text/plain": [
       "<matplotlib.figure.Figure at 0x222c84eecc0>"
      ]
     },
     "metadata": {},
     "output_type": "display_data"
    }
   ],
   "source": [
    "#\"xcartadd\",\"xcartuniqadd\",\"xcartaddtotalrs\",\"xcartremove\",\"xcardtremovetotal\",\n",
    "#          \"xcardtremovetotalrs\",\"xproductviews\",\"xuniqprodview\",\"xprodviewinrs\"\n",
    "    \n",
    "y_hat = model.predict(x)\n",
    "plt.figure()\n",
    "plt.plot(x[\"xcartadd\"],y,'r.')\n",
    "plt.plot(x[\"xcartadd\"],y_hat,'b.')\n",
    "plt.xlabel('x_6')\n",
    "plt.ylabel('y')\n",
    "plt.title('Simple Earth Example')\n",
    "plt.show()"
   ]
  }
 ],
 "metadata": {
  "kernelspec": {
   "display_name": "Python 3",
   "language": "python",
   "name": "python3"
  },
  "language_info": {
   "codemirror_mode": {
    "name": "ipython",
    "version": 3
   },
   "file_extension": ".py",
   "mimetype": "text/x-python",
   "name": "python",
   "nbconvert_exporter": "python",
   "pygments_lexer": "ipython3",
   "version": "3.6.4"
  }
 },
 "nbformat": 4,
 "nbformat_minor": 2
}
