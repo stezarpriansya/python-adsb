{
 "cells": [
  {
   "cell_type": "code",
   "execution_count": 2,
   "metadata": {},
   "outputs": [],
   "source": [
    "import pandas as pd\n",
    "import numpy as np"
   ]
  },
  {
   "cell_type": "code",
   "execution_count": 3,
   "metadata": {},
   "outputs": [],
   "source": [
    "sales = pd.read_excel(\"data Training.xlsx\", sheet_name=\"Sales4w\")\n",
    "service = pd.read_excel(\"data Training.xlsx\", sheet_name=\"Service4w\")"
   ]
  },
  {
   "cell_type": "code",
   "execution_count": 4,
   "metadata": {},
   "outputs": [
    {
     "name": "stdout",
     "output_type": "stream",
     "text": [
      "(1000, 21)\n",
      "AstraId                        0\n",
      "InvoiceDate                    0\n",
      "InvoicePrice                   0\n",
      "PaymentType                    0\n",
      "TenorInDays                    0\n",
      "LeasingDue                     0\n",
      "LeasingCompany                 6\n",
      "BusinessAreaCode               0\n",
      "BusinessAreaDescription        0\n",
      "BusinessAreaRegion             0\n",
      "VIN                            0\n",
      "ProductCode                    0\n",
      "PoliceRegNo                   56\n",
      "Brand                          0\n",
      "Model                          0\n",
      "ProductYear                    0\n",
      "Color                          0\n",
      "STNKDate                     403\n",
      "SalesOperationCode             0\n",
      "SalesOperationDescription      0\n",
      "SalesmanName                   0\n",
      "dtype: int64\n"
     ]
    }
   ],
   "source": [
    "print(sales.shape)\n",
    "print(sales.isnull().sum())"
   ]
  },
  {
   "cell_type": "code",
   "execution_count": 5,
   "metadata": {},
   "outputs": [
    {
     "name": "stdout",
     "output_type": "stream",
     "text": [
      "(1000, 16)\n",
      "Astra_Id                0\n",
      "VIN                     0\n",
      "PlatNumber              0\n",
      "ServiceBranch           0\n",
      "Mileage                 0\n",
      "SalesBranch           137\n",
      "Billingdate           137\n",
      "ProductCode             0\n",
      "Brand                   0\n",
      "ModelType               8\n",
      "ProductYear             0\n",
      "PKBNo                   0\n",
      "PKBDate                 0\n",
      "PKBTypeDescription      1\n",
      "PMCategory             69\n",
      "AmountTotal            22\n",
      "dtype: int64\n"
     ]
    }
   ],
   "source": [
    "print(service.shape)\n",
    "print(service.isnull().sum())"
   ]
  },
  {
   "cell_type": "code",
   "execution_count": 6,
   "metadata": {},
   "outputs": [
    {
     "data": {
      "text/html": [
       "<div>\n",
       "<style scoped>\n",
       "    .dataframe tbody tr th:only-of-type {\n",
       "        vertical-align: middle;\n",
       "    }\n",
       "\n",
       "    .dataframe tbody tr th {\n",
       "        vertical-align: top;\n",
       "    }\n",
       "\n",
       "    .dataframe thead th {\n",
       "        text-align: right;\n",
       "    }\n",
       "</style>\n",
       "<table border=\"1\" class=\"dataframe\">\n",
       "  <thead>\n",
       "    <tr style=\"text-align: right;\">\n",
       "      <th></th>\n",
       "      <th>AstraId</th>\n",
       "      <th>InvoiceDate</th>\n",
       "      <th>InvoicePrice</th>\n",
       "      <th>PaymentType</th>\n",
       "      <th>TenorInDays</th>\n",
       "      <th>LeasingDue</th>\n",
       "      <th>LeasingCompany</th>\n",
       "      <th>BusinessAreaCode</th>\n",
       "      <th>BusinessAreaDescription</th>\n",
       "      <th>BusinessAreaRegion</th>\n",
       "      <th>...</th>\n",
       "      <th>ProductCode</th>\n",
       "      <th>PoliceRegNo</th>\n",
       "      <th>Brand</th>\n",
       "      <th>Model</th>\n",
       "      <th>ProductYear</th>\n",
       "      <th>Color</th>\n",
       "      <th>STNKDate</th>\n",
       "      <th>SalesOperationCode</th>\n",
       "      <th>SalesOperationDescription</th>\n",
       "      <th>SalesmanName</th>\n",
       "    </tr>\n",
       "  </thead>\n",
       "  <tbody>\n",
       "    <tr>\n",
       "      <th>0</th>\n",
       "      <td>1000000029287317</td>\n",
       "      <td>2014-03-29 00:00:00.0000000</td>\n",
       "      <td>163243145.0</td>\n",
       "      <td>MR3</td>\n",
       "      <td>1095</td>\n",
       "      <td>2017-03-28 00:00:00.0000000</td>\n",
       "      <td>PT. ASTRA SEDAYA FINANCE</td>\n",
       "      <td>D640</td>\n",
       "      <td>DSO- Batam</td>\n",
       "      <td>Sumatera</td>\n",
       "      <td>...</td>\n",
       "      <td>F651RV-GQDFJS-AB</td>\n",
       "      <td>BP1825GC</td>\n",
       "      <td>Daihatsu</td>\n",
       "      <td>XENIA</td>\n",
       "      <td>2014-01-01 00:00:00.0000000</td>\n",
       "      <td>WHITE</td>\n",
       "      <td>2014-04-11 00:00:00.0000000</td>\n",
       "      <td>3</td>\n",
       "      <td>Daihatsu Sales Operation</td>\n",
       "      <td>HOLIAN HERAWATI</td>\n",
       "    </tr>\n",
       "    <tr>\n",
       "      <th>1</th>\n",
       "      <td>1000000101705798</td>\n",
       "      <td>2005-03-30 00:00:00.0000000</td>\n",
       "      <td>71789318.0</td>\n",
       "      <td>CSH</td>\n",
       "      <td>0</td>\n",
       "      <td>2005-03-30 00:00:00.0000000</td>\n",
       "      <td>undefined</td>\n",
       "      <td>D760</td>\n",
       "      <td>DSO- Ujung Pandang</td>\n",
       "      <td>Indonesia Bagian Timur</td>\n",
       "      <td>...</td>\n",
       "      <td>F600RVDXNFAMILYM</td>\n",
       "      <td>DD396OD</td>\n",
       "      <td>Daihatsu</td>\n",
       "      <td>XENIA</td>\n",
       "      <td>1900-01-01 00:00:00.0000000</td>\n",
       "      <td>MIDNIGHT BLACK</td>\n",
       "      <td>NaN</td>\n",
       "      <td>3</td>\n",
       "      <td>Daihatsu Sales Operation</td>\n",
       "      <td>YAN CHRISTIAN GUNAWAN</td>\n",
       "    </tr>\n",
       "    <tr>\n",
       "      <th>2</th>\n",
       "      <td>1000000050834424</td>\n",
       "      <td>2016-06-24 00:00:00.0000000</td>\n",
       "      <td>359605954.0</td>\n",
       "      <td>TCH</td>\n",
       "      <td>0</td>\n",
       "      <td>2016-06-24 00:00:00.0000000</td>\n",
       "      <td>undefined</td>\n",
       "      <td>T050</td>\n",
       "      <td>TSO-Bumi Serpong Damai</td>\n",
       "      <td>DKI2</td>\n",
       "      <td>...</td>\n",
       "      <td>GUN65VRZA/T</td>\n",
       "      <td>B1241NJE</td>\n",
       "      <td>Toyota</td>\n",
       "      <td>NFORT4X2D</td>\n",
       "      <td>2016-01-01 00:00:00.0000000</td>\n",
       "      <td>ATTITUDE BLACK MICA</td>\n",
       "      <td>2016-07-15 20:57:46.0000000</td>\n",
       "      <td>2</td>\n",
       "      <td>Toyota Sales Operation</td>\n",
       "      <td>ASEP MAKSUM SATWATULLOH</td>\n",
       "    </tr>\n",
       "    <tr>\n",
       "      <th>3</th>\n",
       "      <td>1000000091010784</td>\n",
       "      <td>2016-03-31 00:00:00.0000000</td>\n",
       "      <td>79649091.0</td>\n",
       "      <td>MR5</td>\n",
       "      <td>1825</td>\n",
       "      <td>2021-03-30 00:00:00.0000000</td>\n",
       "      <td>ACC KALI MALANG</td>\n",
       "      <td>D103</td>\n",
       "      <td>DSO-Narogong</td>\n",
       "      <td>DKI II</td>\n",
       "      <td>...</td>\n",
       "      <td>AYLA-GMLFJ-PT</td>\n",
       "      <td>B1291FRQ</td>\n",
       "      <td>Daihatsu</td>\n",
       "      <td>AYLA</td>\n",
       "      <td>2016-01-01 00:00:00.0000000</td>\n",
       "      <td>CLASSIC SILVER</td>\n",
       "      <td>2016-04-16 00:00:00.0000000</td>\n",
       "      <td>3</td>\n",
       "      <td>Daihatsu Sales Operation</td>\n",
       "      <td>NURRAMADIA HERLAMBANG</td>\n",
       "    </tr>\n",
       "    <tr>\n",
       "      <th>4</th>\n",
       "      <td>1000000002073392</td>\n",
       "      <td>2016-12-30 00:00:00.0000000</td>\n",
       "      <td>639000000.0</td>\n",
       "      <td>CR3</td>\n",
       "      <td>1095</td>\n",
       "      <td>2019-12-30 00:00:00.0000000</td>\n",
       "      <td>KKB BCA</td>\n",
       "      <td>B207</td>\n",
       "      <td>BSO - Cilandak</td>\n",
       "      <td>DKI Jakarta</td>\n",
       "      <td>...</td>\n",
       "      <td>X1SD18ISPORTDM</td>\n",
       "      <td>NaN</td>\n",
       "      <td>BMW</td>\n",
       "      <td>BMW X1</td>\n",
       "      <td>2016-01-01 00:00:00.0000000</td>\n",
       "      <td>ATLANTIC GREY/BLACK RED HIGHLI</td>\n",
       "      <td>2017-02-06 00:00:00.0000000</td>\n",
       "      <td>173</td>\n",
       "      <td>BMW Sales Operation</td>\n",
       "      <td>SONY EKO PRABOWO</td>\n",
       "    </tr>\n",
       "  </tbody>\n",
       "</table>\n",
       "<p>5 rows × 21 columns</p>\n",
       "</div>"
      ],
      "text/plain": [
       "            AstraId                  InvoiceDate  InvoicePrice PaymentType  \\\n",
       "0  1000000029287317  2014-03-29 00:00:00.0000000   163243145.0         MR3   \n",
       "1  1000000101705798  2005-03-30 00:00:00.0000000    71789318.0         CSH   \n",
       "2  1000000050834424  2016-06-24 00:00:00.0000000   359605954.0         TCH   \n",
       "3  1000000091010784  2016-03-31 00:00:00.0000000    79649091.0         MR5   \n",
       "4  1000000002073392  2016-12-30 00:00:00.0000000   639000000.0         CR3   \n",
       "\n",
       "   TenorInDays                   LeasingDue            LeasingCompany  \\\n",
       "0         1095  2017-03-28 00:00:00.0000000  PT. ASTRA SEDAYA FINANCE   \n",
       "1            0  2005-03-30 00:00:00.0000000                 undefined   \n",
       "2            0  2016-06-24 00:00:00.0000000                 undefined   \n",
       "3         1825  2021-03-30 00:00:00.0000000           ACC KALI MALANG   \n",
       "4         1095  2019-12-30 00:00:00.0000000                   KKB BCA   \n",
       "\n",
       "  BusinessAreaCode BusinessAreaDescription      BusinessAreaRegion  \\\n",
       "0             D640              DSO- Batam                Sumatera   \n",
       "1             D760      DSO- Ujung Pandang  Indonesia Bagian Timur   \n",
       "2             T050  TSO-Bumi Serpong Damai                    DKI2   \n",
       "3             D103            DSO-Narogong                  DKI II   \n",
       "4             B207          BSO - Cilandak             DKI Jakarta   \n",
       "\n",
       "            ...                  ProductCode PoliceRegNo     Brand      Model  \\\n",
       "0           ...             F651RV-GQDFJS-AB    BP1825GC  Daihatsu      XENIA   \n",
       "1           ...             F600RVDXNFAMILYM     DD396OD  Daihatsu      XENIA   \n",
       "2           ...                  GUN65VRZA/T    B1241NJE    Toyota  NFORT4X2D   \n",
       "3           ...                AYLA-GMLFJ-PT    B1291FRQ  Daihatsu       AYLA   \n",
       "4           ...               X1SD18ISPORTDM         NaN       BMW     BMW X1   \n",
       "\n",
       "                   ProductYear                           Color  \\\n",
       "0  2014-01-01 00:00:00.0000000                           WHITE   \n",
       "1  1900-01-01 00:00:00.0000000                  MIDNIGHT BLACK   \n",
       "2  2016-01-01 00:00:00.0000000             ATTITUDE BLACK MICA   \n",
       "3  2016-01-01 00:00:00.0000000                  CLASSIC SILVER   \n",
       "4  2016-01-01 00:00:00.0000000  ATLANTIC GREY/BLACK RED HIGHLI   \n",
       "\n",
       "                      STNKDate SalesOperationCode  SalesOperationDescription  \\\n",
       "0  2014-04-11 00:00:00.0000000                  3   Daihatsu Sales Operation   \n",
       "1                          NaN                  3   Daihatsu Sales Operation   \n",
       "2  2016-07-15 20:57:46.0000000                  2     Toyota Sales Operation   \n",
       "3  2016-04-16 00:00:00.0000000                  3   Daihatsu Sales Operation   \n",
       "4  2017-02-06 00:00:00.0000000                173        BMW Sales Operation   \n",
       "\n",
       "              SalesmanName  \n",
       "0          HOLIAN HERAWATI  \n",
       "1    YAN CHRISTIAN GUNAWAN  \n",
       "2  ASEP MAKSUM SATWATULLOH  \n",
       "3    NURRAMADIA HERLAMBANG  \n",
       "4         SONY EKO PRABOWO  \n",
       "\n",
       "[5 rows x 21 columns]"
      ]
     },
     "execution_count": 6,
     "metadata": {},
     "output_type": "execute_result"
    }
   ],
   "source": [
    "sales.head()"
   ]
  },
  {
   "cell_type": "code",
   "execution_count": 7,
   "metadata": {},
   "outputs": [
    {
     "data": {
      "text/plain": [
       "AstraId                        int64\n",
       "InvoiceDate                   object\n",
       "InvoicePrice                 float64\n",
       "PaymentType                   object\n",
       "TenorInDays                    int64\n",
       "LeasingDue                    object\n",
       "LeasingCompany                object\n",
       "BusinessAreaCode              object\n",
       "BusinessAreaDescription       object\n",
       "BusinessAreaRegion            object\n",
       "VIN                           object\n",
       "ProductCode                   object\n",
       "PoliceRegNo                   object\n",
       "Brand                         object\n",
       "Model                         object\n",
       "ProductYear                   object\n",
       "Color                         object\n",
       "STNKDate                      object\n",
       "SalesOperationCode             int64\n",
       "SalesOperationDescription     object\n",
       "SalesmanName                  object\n",
       "dtype: object"
      ]
     },
     "execution_count": 7,
     "metadata": {},
     "output_type": "execute_result"
    }
   ],
   "source": [
    "sales.dtypes"
   ]
  },
  {
   "cell_type": "code",
   "execution_count": 8,
   "metadata": {},
   "outputs": [
    {
     "data": {
      "text/plain": [
       "Astra_Id                int64\n",
       "VIN                    object\n",
       "PlatNumber             object\n",
       "ServiceBranch          object\n",
       "Mileage               float64\n",
       "SalesBranch            object\n",
       "Billingdate            object\n",
       "ProductCode            object\n",
       "Brand                  object\n",
       "ModelType              object\n",
       "ProductYear            object\n",
       "PKBNo                  object\n",
       "PKBDate                object\n",
       "PKBTypeDescription     object\n",
       "PMCategory             object\n",
       "AmountTotal           float64\n",
       "dtype: object"
      ]
     },
     "execution_count": 8,
     "metadata": {},
     "output_type": "execute_result"
    }
   ],
   "source": [
    "service.dtypes"
   ]
  },
  {
   "cell_type": "code",
   "execution_count": 9,
   "metadata": {},
   "outputs": [
    {
     "data": {
      "text/html": [
       "<div>\n",
       "<style scoped>\n",
       "    .dataframe tbody tr th:only-of-type {\n",
       "        vertical-align: middle;\n",
       "    }\n",
       "\n",
       "    .dataframe tbody tr th {\n",
       "        vertical-align: top;\n",
       "    }\n",
       "\n",
       "    .dataframe thead th {\n",
       "        text-align: right;\n",
       "    }\n",
       "</style>\n",
       "<table border=\"1\" class=\"dataframe\">\n",
       "  <thead>\n",
       "    <tr style=\"text-align: right;\">\n",
       "      <th></th>\n",
       "      <th>Astra_Id</th>\n",
       "      <th>VIN</th>\n",
       "      <th>PlatNumber</th>\n",
       "      <th>ServiceBranch</th>\n",
       "      <th>Mileage</th>\n",
       "      <th>SalesBranch</th>\n",
       "      <th>Billingdate</th>\n",
       "      <th>ProductCode</th>\n",
       "      <th>Brand</th>\n",
       "      <th>ModelType</th>\n",
       "      <th>ProductYear</th>\n",
       "      <th>PKBNo</th>\n",
       "      <th>PKBDate</th>\n",
       "      <th>PKBTypeDescription</th>\n",
       "      <th>PMCategory</th>\n",
       "      <th>AmountTotal</th>\n",
       "    </tr>\n",
       "  </thead>\n",
       "  <tbody>\n",
       "    <tr>\n",
       "      <th>0</th>\n",
       "      <td>1000000029245531</td>\n",
       "      <td>MHFXS43G9E4012080</td>\n",
       "      <td>AG800PK</td>\n",
       "      <td>T470</td>\n",
       "      <td>41168.0</td>\n",
       "      <td>T470</td>\n",
       "      <td>2015-08-31 00:00:00.000</td>\n",
       "      <td>KU40VM/T40M</td>\n",
       "      <td>Toyota</td>\n",
       "      <td>INNOVA DIESEL</td>\n",
       "      <td>2014-01-01 00:00:00.0000000</td>\n",
       "      <td>T470SPA18004619</td>\n",
       "      <td>2018-04-06 00:00:00.0000000</td>\n",
       "      <td>Booking</td>\n",
       "      <td>50000KM</td>\n",
       "      <td>714971.0</td>\n",
       "    </tr>\n",
       "    <tr>\n",
       "      <th>1</th>\n",
       "      <td>1000000036604917</td>\n",
       "      <td>MHFXW42G882129476</td>\n",
       "      <td>B8623CW</td>\n",
       "      <td>T058</td>\n",
       "      <td>30322.0</td>\n",
       "      <td>T058</td>\n",
       "      <td>15.11.2008</td>\n",
       "      <td>TG40GA/T21M</td>\n",
       "      <td>Toyota</td>\n",
       "      <td>IMV</td>\n",
       "      <td>2008-01-01 00:00:00.0000000</td>\n",
       "      <td>100580253772</td>\n",
       "      <td>2011-02-09 00:00:00.0000000</td>\n",
       "      <td>Booking</td>\n",
       "      <td>30000KM</td>\n",
       "      <td>0.0</td>\n",
       "    </tr>\n",
       "    <tr>\n",
       "      <th>2</th>\n",
       "      <td>1000000089206392</td>\n",
       "      <td>MHF11KF8000060561</td>\n",
       "      <td>B8586DT</td>\n",
       "      <td>T262</td>\n",
       "      <td>266319.0</td>\n",
       "      <td>NaN</td>\n",
       "      <td>NaN</td>\n",
       "      <td>KF80LXNS</td>\n",
       "      <td>Toyota</td>\n",
       "      <td>KIJANG</td>\n",
       "      <td>2000-01-01 00:00:00.0000000</td>\n",
       "      <td>102620396688</td>\n",
       "      <td>2008-06-26 00:00:00.0000000</td>\n",
       "      <td>Walk In</td>\n",
       "      <td>PERIOD1</td>\n",
       "      <td>0.0</td>\n",
       "    </tr>\n",
       "    <tr>\n",
       "      <th>3</th>\n",
       "      <td>1000000097691492</td>\n",
       "      <td>MHKV1AA2J7K020859</td>\n",
       "      <td>B1033FY</td>\n",
       "      <td>D100</td>\n",
       "      <td>39993.0</td>\n",
       "      <td>D001</td>\n",
       "      <td>20.09.2007</td>\n",
       "      <td>F600RVGMDFJJM</td>\n",
       "      <td>Daihatsu</td>\n",
       "      <td>XENIA1.0</td>\n",
       "      <td>2007-01-01 00:00:00.0000000</td>\n",
       "      <td>D100SPA14006390</td>\n",
       "      <td>2014-05-14 00:00:00.0000000</td>\n",
       "      <td>Walk In</td>\n",
       "      <td>GR</td>\n",
       "      <td>823087.0</td>\n",
       "    </tr>\n",
       "    <tr>\n",
       "      <th>4</th>\n",
       "      <td>1000000092143466</td>\n",
       "      <td>MHKP3CA1JDK040963</td>\n",
       "      <td>E8197KN</td>\n",
       "      <td>D261</td>\n",
       "      <td>3590.0</td>\n",
       "      <td>D261</td>\n",
       "      <td>29.05.2013</td>\n",
       "      <td>S402RP-PMRFJJ-KG</td>\n",
       "      <td>Daihatsu</td>\n",
       "      <td>GMAXPU15</td>\n",
       "      <td>2013-01-01 00:00:00.0000000</td>\n",
       "      <td>D261SPA13008584</td>\n",
       "      <td>2013-08-16 00:00:00.0000000</td>\n",
       "      <td>Walk In</td>\n",
       "      <td>NaN</td>\n",
       "      <td>41800.0</td>\n",
       "    </tr>\n",
       "  </tbody>\n",
       "</table>\n",
       "</div>"
      ],
      "text/plain": [
       "           Astra_Id                VIN PlatNumber ServiceBranch   Mileage  \\\n",
       "0  1000000029245531  MHFXS43G9E4012080    AG800PK          T470   41168.0   \n",
       "1  1000000036604917  MHFXW42G882129476    B8623CW          T058   30322.0   \n",
       "2  1000000089206392  MHF11KF8000060561    B8586DT          T262  266319.0   \n",
       "3  1000000097691492  MHKV1AA2J7K020859    B1033FY          D100   39993.0   \n",
       "4  1000000092143466  MHKP3CA1JDK040963    E8197KN          D261    3590.0   \n",
       "\n",
       "  SalesBranch              Billingdate       ProductCode     Brand  \\\n",
       "0        T470  2015-08-31 00:00:00.000       KU40VM/T40M    Toyota   \n",
       "1        T058               15.11.2008       TG40GA/T21M    Toyota   \n",
       "2         NaN                      NaN          KF80LXNS    Toyota   \n",
       "3        D001               20.09.2007     F600RVGMDFJJM  Daihatsu   \n",
       "4        D261               29.05.2013  S402RP-PMRFJJ-KG  Daihatsu   \n",
       "\n",
       "       ModelType                  ProductYear            PKBNo  \\\n",
       "0  INNOVA DIESEL  2014-01-01 00:00:00.0000000  T470SPA18004619   \n",
       "1            IMV  2008-01-01 00:00:00.0000000     100580253772   \n",
       "2         KIJANG  2000-01-01 00:00:00.0000000     102620396688   \n",
       "3       XENIA1.0  2007-01-01 00:00:00.0000000  D100SPA14006390   \n",
       "4       GMAXPU15  2013-01-01 00:00:00.0000000  D261SPA13008584   \n",
       "\n",
       "                       PKBDate PKBTypeDescription PMCategory  AmountTotal  \n",
       "0  2018-04-06 00:00:00.0000000            Booking    50000KM     714971.0  \n",
       "1  2011-02-09 00:00:00.0000000            Booking    30000KM          0.0  \n",
       "2  2008-06-26 00:00:00.0000000            Walk In    PERIOD1          0.0  \n",
       "3  2014-05-14 00:00:00.0000000            Walk In         GR     823087.0  \n",
       "4  2013-08-16 00:00:00.0000000            Walk In        NaN      41800.0  "
      ]
     },
     "execution_count": 9,
     "metadata": {},
     "output_type": "execute_result"
    }
   ],
   "source": [
    "service.head()"
   ]
  },
  {
   "cell_type": "code",
   "execution_count": 10,
   "metadata": {},
   "outputs": [
    {
     "data": {
      "text/plain": [
       "Index(['Astra_Id', 'VIN', 'PlatNumber', 'ServiceBranch', 'Mileage',\n",
       "       'SalesBranch', 'Billingdate', 'ProductCode', 'Brand', 'ModelType',\n",
       "       'ProductYear', 'PKBNo', 'PKBDate', 'PKBTypeDescription', 'PMCategory',\n",
       "       'AmountTotal'],\n",
       "      dtype='object')"
      ]
     },
     "execution_count": 10,
     "metadata": {},
     "output_type": "execute_result"
    }
   ],
   "source": [
    "service.columns"
   ]
  },
  {
   "cell_type": "code",
   "execution_count": 11,
   "metadata": {},
   "outputs": [],
   "source": [
    "service = service.replace('Nan',np.nan)"
   ]
  },
  {
   "cell_type": "code",
   "execution_count": 12,
   "metadata": {},
   "outputs": [
    {
     "data": {
      "text/plain": [
       "Astra_Id                0\n",
       "VIN                     0\n",
       "PlatNumber              0\n",
       "ServiceBranch           0\n",
       "Mileage                 0\n",
       "SalesBranch           137\n",
       "Billingdate           137\n",
       "ProductCode             0\n",
       "Brand                   0\n",
       "ModelType               8\n",
       "ProductYear             0\n",
       "PKBNo                   0\n",
       "PKBDate                 0\n",
       "PKBTypeDescription      1\n",
       "PMCategory             69\n",
       "AmountTotal            22\n",
       "dtype: int64"
      ]
     },
     "execution_count": 12,
     "metadata": {},
     "output_type": "execute_result"
    }
   ],
   "source": [
    "service.isnull().sum()"
   ]
  },
  {
   "cell_type": "code",
   "execution_count": 13,
   "metadata": {},
   "outputs": [],
   "source": [
    "sales = sales.replace('Nan',np.nan)"
   ]
  },
  {
   "cell_type": "code",
   "execution_count": 14,
   "metadata": {},
   "outputs": [
    {
     "data": {
      "text/plain": [
       "AstraId                        0\n",
       "InvoiceDate                    0\n",
       "InvoicePrice                   0\n",
       "PaymentType                    0\n",
       "TenorInDays                    0\n",
       "LeasingDue                     0\n",
       "LeasingCompany                 6\n",
       "BusinessAreaCode               0\n",
       "BusinessAreaDescription        0\n",
       "BusinessAreaRegion             0\n",
       "VIN                            0\n",
       "ProductCode                    0\n",
       "PoliceRegNo                   56\n",
       "Brand                          0\n",
       "Model                          0\n",
       "ProductYear                    0\n",
       "Color                          0\n",
       "STNKDate                     403\n",
       "SalesOperationCode             0\n",
       "SalesOperationDescription      0\n",
       "SalesmanName                   0\n",
       "dtype: int64"
      ]
     },
     "execution_count": 14,
     "metadata": {},
     "output_type": "execute_result"
    }
   ],
   "source": [
    "sales.isnull().sum()"
   ]
  },
  {
   "cell_type": "code",
   "execution_count": 15,
   "metadata": {},
   "outputs": [],
   "source": [
    "# service.loc[service['PKBTypeDescription'].isnull(),'PKBTypeDescription']='Walk In'\n",
    "# service.loc[service['ModelType'].isnull(),'ModelType']='XENIA'"
   ]
  },
  {
   "cell_type": "code",
   "execution_count": 16,
   "metadata": {},
   "outputs": [],
   "source": [
    "service = service[(service.Billingdate.notnull()) & (service.AmountTotal.notnull()) & (service.ModelType.notnull())]"
   ]
  },
  {
   "cell_type": "code",
   "execution_count": 17,
   "metadata": {},
   "outputs": [
    {
     "data": {
      "text/plain": [
       "Astra_Id               0\n",
       "VIN                    0\n",
       "PlatNumber             0\n",
       "ServiceBranch          0\n",
       "Mileage                0\n",
       "SalesBranch            0\n",
       "Billingdate            0\n",
       "ProductCode            0\n",
       "Brand                  0\n",
       "ModelType              0\n",
       "ProductYear            0\n",
       "PKBNo                  0\n",
       "PKBDate                0\n",
       "PKBTypeDescription     1\n",
       "PMCategory            57\n",
       "AmountTotal            0\n",
       "dtype: int64"
      ]
     },
     "execution_count": 17,
     "metadata": {},
     "output_type": "execute_result"
    }
   ],
   "source": [
    "service.isnull().sum()"
   ]
  },
  {
   "cell_type": "code",
   "execution_count": 18,
   "metadata": {},
   "outputs": [
    {
     "data": {
      "text/plain": [
       "array(['50000KM', '30000KM', 'GR', nan, 'PERIOD3', 'BP', 'GO', 'PERIOD',\n",
       "       '1000KM', '70000KM', '40000KM', '10000KM', '20000KM', '60000KM',\n",
       "       '80000KM', 'PERIOD1', '90000KM', '100000KM', 'PERIOD2', 'PERIOD4',\n",
       "       '15000KM'], dtype=object)"
      ]
     },
     "execution_count": 18,
     "metadata": {},
     "output_type": "execute_result"
    }
   ],
   "source": [
    "service.PMCategory.unique()"
   ]
  },
  {
   "cell_type": "code",
   "execution_count": 19,
   "metadata": {},
   "outputs": [],
   "source": [
    "#convert date\n",
    "service['Billing_Date'] = pd.to_datetime(service['Billingdate'])\n",
    "service['Billing_Day'] = service['Billing_Date'].dt.weekday_name\n",
    "service['Billing_Week'] = np.where((service['Billing_Day']=='Saturday') | (service['Billing_Day']=='Sunday'), \n",
    "                                   'Weekend', 'Weekday' )\n",
    "\n",
    "service['ProductYear_Date'] = pd.to_datetime(service['ProductYear'])\n",
    "service['ProductYear_Day'] = service['ProductYear_Date'].dt.weekday_name\n",
    "service['ProductYear_Week'] = np.where((service['ProductYear_Day']=='Saturday') | (service['ProductYear_Day']=='Sunday'), \n",
    "                                   'Weekend', 'Weekday' )\n",
    "\n",
    "service['PKB_Date'] = pd.to_datetime(service['PKBDate'])\n",
    "service['PKB_Day'] = service['PKB_Date'].dt.weekday_name\n",
    "service['PKB_Week'] = np.where((service['PKB_Day']=='Saturday') | (service['PKB_Day']=='Sunday'), \n",
    "                                   'Weekend', 'Weekday' )\n",
    "\n",
    "service = service.drop(['Billingdate','ProductYear','PKBDate'], axis=1)"
   ]
  },
  {
   "cell_type": "code",
   "execution_count": 20,
   "metadata": {},
   "outputs": [
    {
     "data": {
      "text/html": [
       "<div>\n",
       "<style scoped>\n",
       "    .dataframe tbody tr th:only-of-type {\n",
       "        vertical-align: middle;\n",
       "    }\n",
       "\n",
       "    .dataframe tbody tr th {\n",
       "        vertical-align: top;\n",
       "    }\n",
       "\n",
       "    .dataframe thead th {\n",
       "        text-align: right;\n",
       "    }\n",
       "</style>\n",
       "<table border=\"1\" class=\"dataframe\">\n",
       "  <thead>\n",
       "    <tr style=\"text-align: right;\">\n",
       "      <th></th>\n",
       "      <th>Astra_Id</th>\n",
       "      <th>VIN</th>\n",
       "      <th>PlatNumber</th>\n",
       "      <th>ServiceBranch</th>\n",
       "      <th>Mileage</th>\n",
       "      <th>SalesBranch</th>\n",
       "      <th>ProductCode</th>\n",
       "      <th>Brand</th>\n",
       "      <th>ModelType</th>\n",
       "      <th>PKBNo</th>\n",
       "      <th>...</th>\n",
       "      <th>AmountTotal</th>\n",
       "      <th>Billing_Date</th>\n",
       "      <th>Billing_Day</th>\n",
       "      <th>Billing_Week</th>\n",
       "      <th>ProductYear_Date</th>\n",
       "      <th>ProductYear_Day</th>\n",
       "      <th>ProductYear_Week</th>\n",
       "      <th>PKB_Date</th>\n",
       "      <th>PKB_Day</th>\n",
       "      <th>PKB_Week</th>\n",
       "    </tr>\n",
       "  </thead>\n",
       "  <tbody>\n",
       "    <tr>\n",
       "      <th>0</th>\n",
       "      <td>1000000029245531</td>\n",
       "      <td>MHFXS43G9E4012080</td>\n",
       "      <td>AG800PK</td>\n",
       "      <td>T470</td>\n",
       "      <td>41168.0</td>\n",
       "      <td>T470</td>\n",
       "      <td>KU40VM/T40M</td>\n",
       "      <td>Toyota</td>\n",
       "      <td>INNOVA DIESEL</td>\n",
       "      <td>T470SPA18004619</td>\n",
       "      <td>...</td>\n",
       "      <td>714971.0</td>\n",
       "      <td>2015-08-31</td>\n",
       "      <td>Monday</td>\n",
       "      <td>Weekday</td>\n",
       "      <td>2014-01-01</td>\n",
       "      <td>Wednesday</td>\n",
       "      <td>Weekday</td>\n",
       "      <td>2018-04-06</td>\n",
       "      <td>Friday</td>\n",
       "      <td>Weekday</td>\n",
       "    </tr>\n",
       "    <tr>\n",
       "      <th>1</th>\n",
       "      <td>1000000036604917</td>\n",
       "      <td>MHFXW42G882129476</td>\n",
       "      <td>B8623CW</td>\n",
       "      <td>T058</td>\n",
       "      <td>30322.0</td>\n",
       "      <td>T058</td>\n",
       "      <td>TG40GA/T21M</td>\n",
       "      <td>Toyota</td>\n",
       "      <td>IMV</td>\n",
       "      <td>100580253772</td>\n",
       "      <td>...</td>\n",
       "      <td>0.0</td>\n",
       "      <td>2008-11-15</td>\n",
       "      <td>Saturday</td>\n",
       "      <td>Weekend</td>\n",
       "      <td>2008-01-01</td>\n",
       "      <td>Tuesday</td>\n",
       "      <td>Weekday</td>\n",
       "      <td>2011-02-09</td>\n",
       "      <td>Wednesday</td>\n",
       "      <td>Weekday</td>\n",
       "    </tr>\n",
       "    <tr>\n",
       "      <th>3</th>\n",
       "      <td>1000000097691492</td>\n",
       "      <td>MHKV1AA2J7K020859</td>\n",
       "      <td>B1033FY</td>\n",
       "      <td>D100</td>\n",
       "      <td>39993.0</td>\n",
       "      <td>D001</td>\n",
       "      <td>F600RVGMDFJJM</td>\n",
       "      <td>Daihatsu</td>\n",
       "      <td>XENIA1.0</td>\n",
       "      <td>D100SPA14006390</td>\n",
       "      <td>...</td>\n",
       "      <td>823087.0</td>\n",
       "      <td>2007-09-20</td>\n",
       "      <td>Thursday</td>\n",
       "      <td>Weekday</td>\n",
       "      <td>2007-01-01</td>\n",
       "      <td>Monday</td>\n",
       "      <td>Weekday</td>\n",
       "      <td>2014-05-14</td>\n",
       "      <td>Wednesday</td>\n",
       "      <td>Weekday</td>\n",
       "    </tr>\n",
       "    <tr>\n",
       "      <th>4</th>\n",
       "      <td>1000000092143466</td>\n",
       "      <td>MHKP3CA1JDK040963</td>\n",
       "      <td>E8197KN</td>\n",
       "      <td>D261</td>\n",
       "      <td>3590.0</td>\n",
       "      <td>D261</td>\n",
       "      <td>S402RP-PMRFJJ-KG</td>\n",
       "      <td>Daihatsu</td>\n",
       "      <td>GMAXPU15</td>\n",
       "      <td>D261SPA13008584</td>\n",
       "      <td>...</td>\n",
       "      <td>41800.0</td>\n",
       "      <td>2013-05-29</td>\n",
       "      <td>Wednesday</td>\n",
       "      <td>Weekday</td>\n",
       "      <td>2013-01-01</td>\n",
       "      <td>Tuesday</td>\n",
       "      <td>Weekday</td>\n",
       "      <td>2013-08-16</td>\n",
       "      <td>Friday</td>\n",
       "      <td>Weekday</td>\n",
       "    </tr>\n",
       "    <tr>\n",
       "      <th>5</th>\n",
       "      <td>1000000002598963</td>\n",
       "      <td>MHFZX69G987008501</td>\n",
       "      <td>B2018S</td>\n",
       "      <td>T110</td>\n",
       "      <td>209531.0</td>\n",
       "      <td>T209</td>\n",
       "      <td>TG61GA/T11M</td>\n",
       "      <td>Toyota</td>\n",
       "      <td>IMV4</td>\n",
       "      <td>T110SPA15010516</td>\n",
       "      <td>...</td>\n",
       "      <td>5637914.0</td>\n",
       "      <td>2008-05-31</td>\n",
       "      <td>Saturday</td>\n",
       "      <td>Weekend</td>\n",
       "      <td>2008-01-01</td>\n",
       "      <td>Tuesday</td>\n",
       "      <td>Weekday</td>\n",
       "      <td>2015-06-06</td>\n",
       "      <td>Saturday</td>\n",
       "      <td>Weekend</td>\n",
       "    </tr>\n",
       "  </tbody>\n",
       "</table>\n",
       "<p>5 rows × 22 columns</p>\n",
       "</div>"
      ],
      "text/plain": [
       "           Astra_Id                VIN PlatNumber ServiceBranch   Mileage  \\\n",
       "0  1000000029245531  MHFXS43G9E4012080    AG800PK          T470   41168.0   \n",
       "1  1000000036604917  MHFXW42G882129476    B8623CW          T058   30322.0   \n",
       "3  1000000097691492  MHKV1AA2J7K020859    B1033FY          D100   39993.0   \n",
       "4  1000000092143466  MHKP3CA1JDK040963    E8197KN          D261    3590.0   \n",
       "5  1000000002598963  MHFZX69G987008501     B2018S          T110  209531.0   \n",
       "\n",
       "  SalesBranch       ProductCode     Brand      ModelType            PKBNo  \\\n",
       "0        T470       KU40VM/T40M    Toyota  INNOVA DIESEL  T470SPA18004619   \n",
       "1        T058       TG40GA/T21M    Toyota            IMV     100580253772   \n",
       "3        D001     F600RVGMDFJJM  Daihatsu       XENIA1.0  D100SPA14006390   \n",
       "4        D261  S402RP-PMRFJJ-KG  Daihatsu       GMAXPU15  D261SPA13008584   \n",
       "5        T209       TG61GA/T11M    Toyota           IMV4  T110SPA15010516   \n",
       "\n",
       "    ...    AmountTotal Billing_Date  Billing_Day Billing_Week  \\\n",
       "0   ...       714971.0   2015-08-31       Monday      Weekday   \n",
       "1   ...            0.0   2008-11-15     Saturday      Weekend   \n",
       "3   ...       823087.0   2007-09-20     Thursday      Weekday   \n",
       "4   ...        41800.0   2013-05-29    Wednesday      Weekday   \n",
       "5   ...      5637914.0   2008-05-31     Saturday      Weekend   \n",
       "\n",
       "  ProductYear_Date ProductYear_Day ProductYear_Week   PKB_Date    PKB_Day  \\\n",
       "0       2014-01-01       Wednesday          Weekday 2018-04-06     Friday   \n",
       "1       2008-01-01         Tuesday          Weekday 2011-02-09  Wednesday   \n",
       "3       2007-01-01          Monday          Weekday 2014-05-14  Wednesday   \n",
       "4       2013-01-01         Tuesday          Weekday 2013-08-16     Friday   \n",
       "5       2008-01-01         Tuesday          Weekday 2015-06-06   Saturday   \n",
       "\n",
       "  PKB_Week  \n",
       "0  Weekday  \n",
       "1  Weekday  \n",
       "3  Weekday  \n",
       "4  Weekday  \n",
       "5  Weekend  \n",
       "\n",
       "[5 rows x 22 columns]"
      ]
     },
     "execution_count": 20,
     "metadata": {},
     "output_type": "execute_result"
    }
   ],
   "source": [
    "service.head()"
   ]
  },
  {
   "cell_type": "code",
   "execution_count": 21,
   "metadata": {},
   "outputs": [],
   "source": [
    "sales = sales.drop(['PoliceRegNo', 'STNKDate'], axis=1)"
   ]
  },
  {
   "cell_type": "code",
   "execution_count": 22,
   "metadata": {},
   "outputs": [
    {
     "data": {
      "text/plain": [
       "AstraId                      0\n",
       "InvoiceDate                  0\n",
       "InvoicePrice                 0\n",
       "PaymentType                  0\n",
       "TenorInDays                  0\n",
       "LeasingDue                   0\n",
       "LeasingCompany               6\n",
       "BusinessAreaCode             0\n",
       "BusinessAreaDescription      0\n",
       "BusinessAreaRegion           0\n",
       "VIN                          0\n",
       "ProductCode                  0\n",
       "Brand                        0\n",
       "Model                        0\n",
       "ProductYear                  0\n",
       "Color                        0\n",
       "SalesOperationCode           0\n",
       "SalesOperationDescription    0\n",
       "SalesmanName                 0\n",
       "dtype: int64"
      ]
     },
     "execution_count": 22,
     "metadata": {},
     "output_type": "execute_result"
    }
   ],
   "source": [
    "sales.isnull().sum()"
   ]
  },
  {
   "cell_type": "code",
   "execution_count": 23,
   "metadata": {},
   "outputs": [],
   "source": [
    "#convert date\n",
    "sales['Invoice_Date'] = pd.to_datetime(sales['InvoiceDate'])\n",
    "sales['Invoice_Day'] = sales['Invoice_Date'].dt.weekday_name\n",
    "sales['Invoice_Week'] = np.where((sales['Invoice_Day']=='Saturday') | (sales['Invoice_Day']=='Sunday'), \n",
    "                                   'Weekend', 'Weekday' )\n",
    "\n",
    "sales = sales.drop(['InvoiceDate'], axis=1)"
   ]
  },
  {
   "cell_type": "code",
   "execution_count": 24,
   "metadata": {},
   "outputs": [
    {
     "data": {
      "text/html": [
       "<div>\n",
       "<style scoped>\n",
       "    .dataframe tbody tr th:only-of-type {\n",
       "        vertical-align: middle;\n",
       "    }\n",
       "\n",
       "    .dataframe tbody tr th {\n",
       "        vertical-align: top;\n",
       "    }\n",
       "\n",
       "    .dataframe thead th {\n",
       "        text-align: right;\n",
       "    }\n",
       "</style>\n",
       "<table border=\"1\" class=\"dataframe\">\n",
       "  <thead>\n",
       "    <tr style=\"text-align: right;\">\n",
       "      <th></th>\n",
       "      <th>AstraId</th>\n",
       "      <th>InvoicePrice</th>\n",
       "      <th>PaymentType</th>\n",
       "      <th>TenorInDays</th>\n",
       "      <th>LeasingDue</th>\n",
       "      <th>LeasingCompany</th>\n",
       "      <th>BusinessAreaCode</th>\n",
       "      <th>BusinessAreaDescription</th>\n",
       "      <th>BusinessAreaRegion</th>\n",
       "      <th>VIN</th>\n",
       "      <th>...</th>\n",
       "      <th>Brand</th>\n",
       "      <th>Model</th>\n",
       "      <th>ProductYear</th>\n",
       "      <th>Color</th>\n",
       "      <th>SalesOperationCode</th>\n",
       "      <th>SalesOperationDescription</th>\n",
       "      <th>SalesmanName</th>\n",
       "      <th>Invoice_Date</th>\n",
       "      <th>Invoice_Day</th>\n",
       "      <th>Invoice_Week</th>\n",
       "    </tr>\n",
       "  </thead>\n",
       "  <tbody>\n",
       "    <tr>\n",
       "      <th>0</th>\n",
       "      <td>1000000029287317</td>\n",
       "      <td>163243145.0</td>\n",
       "      <td>MR3</td>\n",
       "      <td>1095</td>\n",
       "      <td>2017-03-28 00:00:00.0000000</td>\n",
       "      <td>PT. ASTRA SEDAYA FINANCE</td>\n",
       "      <td>D640</td>\n",
       "      <td>DSO- Batam</td>\n",
       "      <td>Sumatera</td>\n",
       "      <td>MHKV1BB2JEK009092</td>\n",
       "      <td>...</td>\n",
       "      <td>Daihatsu</td>\n",
       "      <td>XENIA</td>\n",
       "      <td>2014-01-01 00:00:00.0000000</td>\n",
       "      <td>WHITE</td>\n",
       "      <td>3</td>\n",
       "      <td>Daihatsu Sales Operation</td>\n",
       "      <td>HOLIAN HERAWATI</td>\n",
       "      <td>2014-03-29</td>\n",
       "      <td>Saturday</td>\n",
       "      <td>Weekend</td>\n",
       "    </tr>\n",
       "    <tr>\n",
       "      <th>1</th>\n",
       "      <td>1000000101705798</td>\n",
       "      <td>71789318.0</td>\n",
       "      <td>CSH</td>\n",
       "      <td>0</td>\n",
       "      <td>2005-03-30 00:00:00.0000000</td>\n",
       "      <td>undefined</td>\n",
       "      <td>D760</td>\n",
       "      <td>DSO- Ujung Pandang</td>\n",
       "      <td>Indonesia Bagian Timur</td>\n",
       "      <td>MHKFMREEJ5K015643</td>\n",
       "      <td>...</td>\n",
       "      <td>Daihatsu</td>\n",
       "      <td>XENIA</td>\n",
       "      <td>1900-01-01 00:00:00.0000000</td>\n",
       "      <td>MIDNIGHT BLACK</td>\n",
       "      <td>3</td>\n",
       "      <td>Daihatsu Sales Operation</td>\n",
       "      <td>YAN CHRISTIAN GUNAWAN</td>\n",
       "      <td>2005-03-30</td>\n",
       "      <td>Wednesday</td>\n",
       "      <td>Weekday</td>\n",
       "    </tr>\n",
       "    <tr>\n",
       "      <th>2</th>\n",
       "      <td>1000000050834424</td>\n",
       "      <td>359605954.0</td>\n",
       "      <td>TCH</td>\n",
       "      <td>0</td>\n",
       "      <td>2016-06-24 00:00:00.0000000</td>\n",
       "      <td>undefined</td>\n",
       "      <td>T050</td>\n",
       "      <td>TSO-Bumi Serpong Damai</td>\n",
       "      <td>DKI2</td>\n",
       "      <td>MHFGB8GS7G0814241</td>\n",
       "      <td>...</td>\n",
       "      <td>Toyota</td>\n",
       "      <td>NFORT4X2D</td>\n",
       "      <td>2016-01-01 00:00:00.0000000</td>\n",
       "      <td>ATTITUDE BLACK MICA</td>\n",
       "      <td>2</td>\n",
       "      <td>Toyota Sales Operation</td>\n",
       "      <td>ASEP MAKSUM SATWATULLOH</td>\n",
       "      <td>2016-06-24</td>\n",
       "      <td>Friday</td>\n",
       "      <td>Weekday</td>\n",
       "    </tr>\n",
       "    <tr>\n",
       "      <th>3</th>\n",
       "      <td>1000000091010784</td>\n",
       "      <td>79649091.0</td>\n",
       "      <td>MR5</td>\n",
       "      <td>1825</td>\n",
       "      <td>2021-03-30 00:00:00.0000000</td>\n",
       "      <td>ACC KALI MALANG</td>\n",
       "      <td>D103</td>\n",
       "      <td>DSO-Narogong</td>\n",
       "      <td>DKI II</td>\n",
       "      <td>MHKS4DA1JGJ008277</td>\n",
       "      <td>...</td>\n",
       "      <td>Daihatsu</td>\n",
       "      <td>AYLA</td>\n",
       "      <td>2016-01-01 00:00:00.0000000</td>\n",
       "      <td>CLASSIC SILVER</td>\n",
       "      <td>3</td>\n",
       "      <td>Daihatsu Sales Operation</td>\n",
       "      <td>NURRAMADIA HERLAMBANG</td>\n",
       "      <td>2016-03-31</td>\n",
       "      <td>Thursday</td>\n",
       "      <td>Weekday</td>\n",
       "    </tr>\n",
       "    <tr>\n",
       "      <th>4</th>\n",
       "      <td>1000000002073392</td>\n",
       "      <td>639000000.0</td>\n",
       "      <td>CR3</td>\n",
       "      <td>1095</td>\n",
       "      <td>2019-12-30 00:00:00.0000000</td>\n",
       "      <td>KKB BCA</td>\n",
       "      <td>B207</td>\n",
       "      <td>BSO - Cilandak</td>\n",
       "      <td>DKI Jakarta</td>\n",
       "      <td>MHHHS1605GK958863</td>\n",
       "      <td>...</td>\n",
       "      <td>BMW</td>\n",
       "      <td>BMW X1</td>\n",
       "      <td>2016-01-01 00:00:00.0000000</td>\n",
       "      <td>ATLANTIC GREY/BLACK RED HIGHLI</td>\n",
       "      <td>173</td>\n",
       "      <td>BMW Sales Operation</td>\n",
       "      <td>SONY EKO PRABOWO</td>\n",
       "      <td>2016-12-30</td>\n",
       "      <td>Friday</td>\n",
       "      <td>Weekday</td>\n",
       "    </tr>\n",
       "  </tbody>\n",
       "</table>\n",
       "<p>5 rows × 21 columns</p>\n",
       "</div>"
      ],
      "text/plain": [
       "            AstraId  InvoicePrice PaymentType  TenorInDays  \\\n",
       "0  1000000029287317   163243145.0         MR3         1095   \n",
       "1  1000000101705798    71789318.0         CSH            0   \n",
       "2  1000000050834424   359605954.0         TCH            0   \n",
       "3  1000000091010784    79649091.0         MR5         1825   \n",
       "4  1000000002073392   639000000.0         CR3         1095   \n",
       "\n",
       "                    LeasingDue            LeasingCompany BusinessAreaCode  \\\n",
       "0  2017-03-28 00:00:00.0000000  PT. ASTRA SEDAYA FINANCE             D640   \n",
       "1  2005-03-30 00:00:00.0000000                 undefined             D760   \n",
       "2  2016-06-24 00:00:00.0000000                 undefined             T050   \n",
       "3  2021-03-30 00:00:00.0000000           ACC KALI MALANG             D103   \n",
       "4  2019-12-30 00:00:00.0000000                   KKB BCA             B207   \n",
       "\n",
       "  BusinessAreaDescription      BusinessAreaRegion                VIN  \\\n",
       "0              DSO- Batam                Sumatera  MHKV1BB2JEK009092   \n",
       "1      DSO- Ujung Pandang  Indonesia Bagian Timur  MHKFMREEJ5K015643   \n",
       "2  TSO-Bumi Serpong Damai                    DKI2  MHFGB8GS7G0814241   \n",
       "3            DSO-Narogong                  DKI II  MHKS4DA1JGJ008277   \n",
       "4          BSO - Cilandak             DKI Jakarta  MHHHS1605GK958863   \n",
       "\n",
       "      ...          Brand      Model                  ProductYear  \\\n",
       "0     ...       Daihatsu      XENIA  2014-01-01 00:00:00.0000000   \n",
       "1     ...       Daihatsu      XENIA  1900-01-01 00:00:00.0000000   \n",
       "2     ...         Toyota  NFORT4X2D  2016-01-01 00:00:00.0000000   \n",
       "3     ...       Daihatsu       AYLA  2016-01-01 00:00:00.0000000   \n",
       "4     ...            BMW     BMW X1  2016-01-01 00:00:00.0000000   \n",
       "\n",
       "                            Color SalesOperationCode  \\\n",
       "0                           WHITE                  3   \n",
       "1                  MIDNIGHT BLACK                  3   \n",
       "2             ATTITUDE BLACK MICA                  2   \n",
       "3                  CLASSIC SILVER                  3   \n",
       "4  ATLANTIC GREY/BLACK RED HIGHLI                173   \n",
       "\n",
       "   SalesOperationDescription             SalesmanName Invoice_Date  \\\n",
       "0   Daihatsu Sales Operation          HOLIAN HERAWATI   2014-03-29   \n",
       "1   Daihatsu Sales Operation    YAN CHRISTIAN GUNAWAN   2005-03-30   \n",
       "2     Toyota Sales Operation  ASEP MAKSUM SATWATULLOH   2016-06-24   \n",
       "3   Daihatsu Sales Operation    NURRAMADIA HERLAMBANG   2016-03-31   \n",
       "4        BMW Sales Operation         SONY EKO PRABOWO   2016-12-30   \n",
       "\n",
       "  Invoice_Day Invoice_Week  \n",
       "0    Saturday      Weekend  \n",
       "1   Wednesday      Weekday  \n",
       "2      Friday      Weekday  \n",
       "3    Thursday      Weekday  \n",
       "4      Friday      Weekday  \n",
       "\n",
       "[5 rows x 21 columns]"
      ]
     },
     "execution_count": 24,
     "metadata": {},
     "output_type": "execute_result"
    }
   ],
   "source": [
    "sales.head()"
   ]
  },
  {
   "cell_type": "code",
   "execution_count": 25,
   "metadata": {},
   "outputs": [],
   "source": [
    "sales = sales.replace('undefined', np.nan)"
   ]
  },
  {
   "cell_type": "code",
   "execution_count": 26,
   "metadata": {},
   "outputs": [],
   "source": [
    "sales['LeasingCompany']=sales.LeasingCompany.fillna('Lain-Lain')"
   ]
  },
  {
   "cell_type": "code",
   "execution_count": 27,
   "metadata": {},
   "outputs": [],
   "source": [
    "sales['SalesmanName'] = sales.SalesmanName.fillna('Lain-lain')"
   ]
  },
  {
   "cell_type": "code",
   "execution_count": 28,
   "metadata": {},
   "outputs": [],
   "source": [
    "sales = sales[(sales.Model.notnull()) & (sales.InvoicePrice > 0) ]"
   ]
  },
  {
   "cell_type": "code",
   "execution_count": 29,
   "metadata": {},
   "outputs": [],
   "source": [
    "import matplotlib.pyplot as plt\n",
    "import seaborn as sns"
   ]
  },
  {
   "cell_type": "code",
   "execution_count": 30,
   "metadata": {},
   "outputs": [
    {
     "data": {
      "text/plain": [
       "<matplotlib.axes._subplots.AxesSubplot at 0x1e521eae358>"
      ]
     },
     "execution_count": 30,
     "metadata": {},
     "output_type": "execute_result"
    },
    {
     "data": {
      "image/png": "[encoded data removed]",
      "text/plain": [
       "<matplotlib.figure.Figure at 0x1e521e76cf8>"
      ]
     },
     "metadata": {},
     "output_type": "display_data"
    }
   ],
   "source": [
    "plt.title('Distribusi dari Harga Servis')\n",
    "plt.ylabel('Frekuensi')\n",
    "sns.distplot(service.AmountTotal, kde=False, color='g')"
   ]
  },
  {
   "cell_type": "code",
   "execution_count": 31,
   "metadata": {},
   "outputs": [
    {
     "ename": "AttributeError",
     "evalue": "'DataFrame' object has no attribute 'Pulau'",
     "output_type": "error",
     "traceback": [
      "\u001b[1;31m---------------------------------------------------------------------------\u001b[0m",
      "\u001b[1;31mAttributeError\u001b[0m                            Traceback (most recent call last)",
      "\u001b[1;32m<ipython-input-31-983381f13d34>\u001b[0m in \u001b[0;36m<module>\u001b[1;34m()\u001b[0m\n\u001b[1;32m----> 1\u001b[1;33m \u001b[0msales\u001b[0m\u001b[1;33m.\u001b[0m\u001b[0mPulau\u001b[0m\u001b[1;33m.\u001b[0m\u001b[0munique\u001b[0m\u001b[1;33m(\u001b[0m\u001b[1;33m)\u001b[0m\u001b[1;33m\u001b[0m\u001b[0m\n\u001b[0m",
      "\u001b[1;32m~\\AppData\\Local\\Continuum\\anaconda3\\lib\\site-packages\\pandas\\core\\generic.py\u001b[0m in \u001b[0;36m__getattr__\u001b[1;34m(self, name)\u001b[0m\n\u001b[0;32m   3612\u001b[0m             \u001b[1;32mif\u001b[0m \u001b[0mname\u001b[0m \u001b[1;32min\u001b[0m \u001b[0mself\u001b[0m\u001b[1;33m.\u001b[0m\u001b[0m_info_axis\u001b[0m\u001b[1;33m:\u001b[0m\u001b[1;33m\u001b[0m\u001b[0m\n\u001b[0;32m   3613\u001b[0m                 \u001b[1;32mreturn\u001b[0m \u001b[0mself\u001b[0m\u001b[1;33m[\u001b[0m\u001b[0mname\u001b[0m\u001b[1;33m]\u001b[0m\u001b[1;33m\u001b[0m\u001b[0m\n\u001b[1;32m-> 3614\u001b[1;33m             \u001b[1;32mreturn\u001b[0m \u001b[0mobject\u001b[0m\u001b[1;33m.\u001b[0m\u001b[0m__getattribute__\u001b[0m\u001b[1;33m(\u001b[0m\u001b[0mself\u001b[0m\u001b[1;33m,\u001b[0m \u001b[0mname\u001b[0m\u001b[1;33m)\u001b[0m\u001b[1;33m\u001b[0m\u001b[0m\n\u001b[0m\u001b[0;32m   3615\u001b[0m \u001b[1;33m\u001b[0m\u001b[0m\n\u001b[0;32m   3616\u001b[0m     \u001b[1;32mdef\u001b[0m \u001b[0m__setattr__\u001b[0m\u001b[1;33m(\u001b[0m\u001b[0mself\u001b[0m\u001b[1;33m,\u001b[0m \u001b[0mname\u001b[0m\u001b[1;33m,\u001b[0m \u001b[0mvalue\u001b[0m\u001b[1;33m)\u001b[0m\u001b[1;33m:\u001b[0m\u001b[1;33m\u001b[0m\u001b[0m\n",
      "\u001b[1;31mAttributeError\u001b[0m: 'DataFrame' object has no attribute 'Pulau'"
     ]
    }
   ],
   "source": [
    "sales.Pulau.unique()"
   ]
  },
  {
   "cell_type": "code",
   "execution_count": 32,
   "metadata": {},
   "outputs": [],
   "source": [
    "# sales[sales.BusinessAreaRegion == 'KAL']\n",
    "sales.loc[:,'Pulau']= sales.BusinessAreaRegion"
   ]
  },
  {
   "cell_type": "code",
   "execution_count": 33,
   "metadata": {},
   "outputs": [],
   "source": [
    "sales.loc[sales.BusinessAreaRegion == 'KAL', 'Pulau'] = 'Kalimantan'\n",
    "sales.loc[sales.BusinessAreaRegion == 'SMT', 'Pulau'] = 'Sumatera'\n",
    "sales.loc[sales.BusinessAreaRegion == 'SUMATERA', 'Pulau'] = 'Sumatera'\n",
    "sales.loc[(sales.BusinessAreaRegion == 'DKI2') | (sales.BusinessAreaRegion == 'DKI II') \n",
    "      | (sales.BusinessAreaRegion == 'DKI I') | (sales.BusinessAreaRegion == 'DKI1') | (sales.BusinessAreaRegion == 'DKI Jakarta'), 'Pulau'] = 'Jawa'\n",
    "sales.loc[(sales.BusinessAreaRegion == 'JABAR') | (sales.BusinessAreaRegion == 'Jawa Barat') , 'Pulau'] = 'Jawa'\n",
    "sales.loc[(sales.BusinessAreaRegion == 'JATIM') | (sales.BusinessAreaRegion == 'Jawa Timur') , 'Pulau'] = 'Jawa'\n",
    "sales.loc[(sales.BusinessAreaRegion == 'Jawa Tengah') , 'Pulau'] = 'Jawa'\n",
    "sales.loc[(sales.BusinessAreaRegion == 'KALPLUS'), 'Pulau'] = 'Kalimantan'\n",
    "sales.loc[(sales.BusinessAreaRegion == 'KALPLUS') \n",
    "          & ((sales.BusinessAreaDescription.str.contains('Denpasar', regex=False, case=False))\n",
    "          | (sales.BusinessAreaDescription.str.contains('Bali', regex=False, case=False))), 'Pulau'] = 'Bali'\n",
    "sales.loc[(sales.BusinessAreaRegion == 'GSO&PK') \n",
    "          | (sales.BusinessAreaRegion == 'UNACTIVE')\n",
    "          | (sales.BusinessAreaRegion == 'FLEET'), 'Pulau'] = 'Lain-lain'"
   ]
  },
  {
   "cell_type": "markdown",
   "metadata": {},
   "source": [
    "# SALES VISUALIZATION"
   ]
  },
  {
   "cell_type": "code",
   "execution_count": 34,
   "metadata": {},
   "outputs": [
    {
     "data": {
      "text/plain": [
       "<matplotlib.axes._subplots.AxesSubplot at 0x1e51e626be0>"
      ]
     },
     "execution_count": 34,
     "metadata": {},
     "output_type": "execute_result"
    },
    {
     "data": {
      "image/png": "[encoded data removed]",
      "text/plain": [
       "<matplotlib.figure.Figure at 0x1e52228f860>"
      ]
     },
     "metadata": {},
     "output_type": "display_data"
    }
   ],
   "source": [
    "plt.figure(figsize=(20,6))\n",
    "sns.countplot(x='Pulau', data=sales, order = sales['Pulau'].value_counts().index)"
   ]
  },
  {
   "cell_type": "code",
   "execution_count": 35,
   "metadata": {},
   "outputs": [
    {
     "data": {
      "text/plain": [
       "Pulau\n",
       "Bali                       33\n",
       "Indonesia Bagian Timur     24\n",
       "Jawa                      688\n",
       "Kalimantan                 30\n",
       "Lain-lain                  21\n",
       "Sulawesi                    1\n",
       "Sumatera                  191\n",
       "Name: AstraId, dtype: int64"
      ]
     },
     "execution_count": 35,
     "metadata": {},
     "output_type": "execute_result"
    }
   ],
   "source": [
    "sales.groupby('Pulau').count()['AstraId']"
   ]
  },
  {
   "cell_type": "code",
   "execution_count": 44,
   "metadata": {},
   "outputs": [],
   "source": [
    "sales['Invoice_Year'] = sales['Invoice_Date'].dt.year\n",
    "sales_time = sales.groupby('Invoice_Year').sum()[['InvoicePrice']]\n",
    "sales_time['UnitSold'] = sales.groupby('Invoice_Year').count()[['InvoicePrice']]"
   ]
  },
  {
   "cell_type": "code",
   "execution_count": 101,
   "metadata": {},
   "outputs": [
    {
     "data": {
      "text/html": [
       "<div>\n",
       "<style scoped>\n",
       "    .dataframe tbody tr th:only-of-type {\n",
       "        vertical-align: middle;\n",
       "    }\n",
       "\n",
       "    .dataframe tbody tr th {\n",
       "        vertical-align: top;\n",
       "    }\n",
       "\n",
       "    .dataframe thead th {\n",
       "        text-align: right;\n",
       "    }\n",
       "</style>\n",
       "<table border=\"1\" class=\"dataframe\">\n",
       "  <thead>\n",
       "    <tr style=\"text-align: right;\">\n",
       "      <th></th>\n",
       "      <th>InvoicePrice</th>\n",
       "      <th>UnitSold</th>\n",
       "    </tr>\n",
       "    <tr>\n",
       "      <th>Invoice_Year</th>\n",
       "      <th></th>\n",
       "      <th></th>\n",
       "    </tr>\n",
       "  </thead>\n",
       "  <tbody>\n",
       "    <tr>\n",
       "      <th>2001</th>\n",
       "      <td>2.499223e+08</td>\n",
       "      <td>2</td>\n",
       "    </tr>\n",
       "    <tr>\n",
       "      <th>2002</th>\n",
       "      <td>1.271515e+08</td>\n",
       "      <td>1</td>\n",
       "    </tr>\n",
       "    <tr>\n",
       "      <th>2003</th>\n",
       "      <td>3.158641e+09</td>\n",
       "      <td>27</td>\n",
       "    </tr>\n",
       "    <tr>\n",
       "      <th>2004</th>\n",
       "      <td>2.709190e+09</td>\n",
       "      <td>33</td>\n",
       "    </tr>\n",
       "    <tr>\n",
       "      <th>2005</th>\n",
       "      <td>4.931669e+09</td>\n",
       "      <td>43</td>\n",
       "    </tr>\n",
       "    <tr>\n",
       "      <th>2006</th>\n",
       "      <td>3.308186e+09</td>\n",
       "      <td>28</td>\n",
       "    </tr>\n",
       "    <tr>\n",
       "      <th>2007</th>\n",
       "      <td>3.913133e+09</td>\n",
       "      <td>37</td>\n",
       "    </tr>\n",
       "    <tr>\n",
       "      <th>2008</th>\n",
       "      <td>6.767066e+09</td>\n",
       "      <td>53</td>\n",
       "    </tr>\n",
       "    <tr>\n",
       "      <th>2009</th>\n",
       "      <td>4.408496e+09</td>\n",
       "      <td>34</td>\n",
       "    </tr>\n",
       "    <tr>\n",
       "      <th>2010</th>\n",
       "      <td>1.009789e+10</td>\n",
       "      <td>67</td>\n",
       "    </tr>\n",
       "    <tr>\n",
       "      <th>2011</th>\n",
       "      <td>9.567254e+09</td>\n",
       "      <td>68</td>\n",
       "    </tr>\n",
       "    <tr>\n",
       "      <th>2012</th>\n",
       "      <td>1.378184e+10</td>\n",
       "      <td>92</td>\n",
       "    </tr>\n",
       "    <tr>\n",
       "      <th>2013</th>\n",
       "      <td>1.188377e+10</td>\n",
       "      <td>88</td>\n",
       "    </tr>\n",
       "    <tr>\n",
       "      <th>2014</th>\n",
       "      <td>1.539753e+10</td>\n",
       "      <td>107</td>\n",
       "    </tr>\n",
       "    <tr>\n",
       "      <th>2015</th>\n",
       "      <td>1.289567e+10</td>\n",
       "      <td>87</td>\n",
       "    </tr>\n",
       "    <tr>\n",
       "      <th>2016</th>\n",
       "      <td>1.902869e+10</td>\n",
       "      <td>116</td>\n",
       "    </tr>\n",
       "    <tr>\n",
       "      <th>2017</th>\n",
       "      <td>1.633032e+10</td>\n",
       "      <td>87</td>\n",
       "    </tr>\n",
       "    <tr>\n",
       "      <th>2018</th>\n",
       "      <td>4.645503e+09</td>\n",
       "      <td>18</td>\n",
       "    </tr>\n",
       "  </tbody>\n",
       "</table>\n",
       "</div>"
      ],
      "text/plain": [
       "              InvoicePrice  UnitSold\n",
       "Invoice_Year                        \n",
       "2001          2.499223e+08         2\n",
       "2002          1.271515e+08         1\n",
       "2003          3.158641e+09        27\n",
       "2004          2.709190e+09        33\n",
       "2005          4.931669e+09        43\n",
       "2006          3.308186e+09        28\n",
       "2007          3.913133e+09        37\n",
       "2008          6.767066e+09        53\n",
       "2009          4.408496e+09        34\n",
       "2010          1.009789e+10        67\n",
       "2011          9.567254e+09        68\n",
       "2012          1.378184e+10        92\n",
       "2013          1.188377e+10        88\n",
       "2014          1.539753e+10       107\n",
       "2015          1.289567e+10        87\n",
       "2016          1.902869e+10       116\n",
       "2017          1.633032e+10        87\n",
       "2018          4.645503e+09        18"
      ]
     },
     "execution_count": 101,
     "metadata": {},
     "output_type": "execute_result"
    }
   ],
   "source": [
    "sales_time"
   ]
  },
  {
   "cell_type": "code",
   "execution_count": 73,
   "metadata": {},
   "outputs": [
    {
     "data": {
      "text/plain": [
       "Text(0.5,0,'Year')"
      ]
     },
     "execution_count": 73,
     "metadata": {},
     "output_type": "execute_result"
    },
    {
     "data": {
      "image/png": "[encoded data removed]",
      "text/plain": [
       "<matplotlib.figure.Figure at 0x1e5225cbb38>"
      ]
     },
     "metadata": {},
     "output_type": "display_data"
    }
   ],
   "source": [
    "ax = sales_time.InvoicePrice.plot(title='Sales Tren', figsize=(20,7))\n",
    "ax.set_xticks(sales_time.index)\n",
    "plt.ylabel('Unit Sold')\n",
    "plt.xlabel('Year')\n",
    "# ax.set_xticklabels(sales_time.index, rotation=90)"
   ]
  },
  {
   "cell_type": "code",
   "execution_count": 346,
   "metadata": {},
   "outputs": [],
   "source": [
    "sales_brand = sales.groupby(['Brand']).sum()[['InvoicePrice']]"
   ]
  },
  {
   "cell_type": "code",
   "execution_count": 347,
   "metadata": {},
   "outputs": [
    {
     "data": {
      "text/html": [
       "<div>\n",
       "<style scoped>\n",
       "    .dataframe tbody tr th:only-of-type {\n",
       "        vertical-align: middle;\n",
       "    }\n",
       "\n",
       "    .dataframe tbody tr th {\n",
       "        vertical-align: top;\n",
       "    }\n",
       "\n",
       "    .dataframe thead th {\n",
       "        text-align: right;\n",
       "    }\n",
       "</style>\n",
       "<table border=\"1\" class=\"dataframe\">\n",
       "  <thead>\n",
       "    <tr style=\"text-align: right;\">\n",
       "      <th></th>\n",
       "      <th>InvoicePrice</th>\n",
       "    </tr>\n",
       "    <tr>\n",
       "      <th>Brand</th>\n",
       "      <th></th>\n",
       "    </tr>\n",
       "  </thead>\n",
       "  <tbody>\n",
       "    <tr>\n",
       "      <th>BMW</th>\n",
       "      <td>6.390000e+08</td>\n",
       "    </tr>\n",
       "    <tr>\n",
       "      <th>Daihatsu</th>\n",
       "      <td>4.147731e+10</td>\n",
       "    </tr>\n",
       "    <tr>\n",
       "      <th>Isuzu</th>\n",
       "      <td>5.541906e+09</td>\n",
       "    </tr>\n",
       "    <tr>\n",
       "      <th>Toyota</th>\n",
       "      <td>9.554370e+10</td>\n",
       "    </tr>\n",
       "  </tbody>\n",
       "</table>\n",
       "</div>"
      ],
      "text/plain": [
       "          InvoicePrice\n",
       "Brand                 \n",
       "BMW       6.390000e+08\n",
       "Daihatsu  4.147731e+10\n",
       "Isuzu     5.541906e+09\n",
       "Toyota    9.554370e+10"
      ]
     },
     "execution_count": 347,
     "metadata": {},
     "output_type": "execute_result"
    }
   ],
   "source": [
    "sales_brand"
   ]
  },
  {
   "cell_type": "code",
   "execution_count": 74,
   "metadata": {},
   "outputs": [],
   "source": [
    "sales_time_brand = sales.groupby(['Invoice_Year', 'Brand']).sum()[['InvoicePrice']]\n",
    "# sales_time_brand['UnitSold'] = sales.groupby(['Invoice_Year', 'Brand']).count()[['InvoicePrice']]"
   ]
  },
  {
   "cell_type": "code",
   "execution_count": 75,
   "metadata": {},
   "outputs": [],
   "source": [
    "sales_time_brand = sales_time_brand.unstack()"
   ]
  },
  {
   "cell_type": "code",
   "execution_count": 76,
   "metadata": {},
   "outputs": [],
   "source": [
    "sales_time_brand = sales_time_brand['InvoicePrice']"
   ]
  },
  {
   "cell_type": "code",
   "execution_count": 77,
   "metadata": {},
   "outputs": [],
   "source": [
    "sales_time_brand = sales_time_brand.fillna(0)"
   ]
  },
  {
   "cell_type": "code",
   "execution_count": 78,
   "metadata": {},
   "outputs": [
    {
     "data": {
      "text/plain": [
       "[<matplotlib.axis.XTick at 0x1e522c35f28>,\n",
       " <matplotlib.axis.XTick at 0x1e52364cdd8>,\n",
       " <matplotlib.axis.XTick at 0x1e522fc4fd0>,\n",
       " <matplotlib.axis.XTick at 0x1e522fd1208>,\n",
       " <matplotlib.axis.XTick at 0x1e522fd1860>,\n",
       " <matplotlib.axis.XTick at 0x1e522fd1eb8>,\n",
       " <matplotlib.axis.XTick at 0x1e522fdd550>,\n",
       " <matplotlib.axis.XTick at 0x1e522fddba8>,\n",
       " <matplotlib.axis.XTick at 0x1e522fe5240>,\n",
       " <matplotlib.axis.XTick at 0x1e522a11898>,\n",
       " <matplotlib.axis.XTick at 0x1e522c3f8d0>,\n",
       " <matplotlib.axis.XTick at 0x1e523000400>,\n",
       " <matplotlib.axis.XTick at 0x1e522fe55f8>,\n",
       " <matplotlib.axis.XTick at 0x1e5230005f8>,\n",
       " <matplotlib.axis.XTick at 0x1e523000c50>,\n",
       " <matplotlib.axis.XTick at 0x1e5230082e8>,\n",
       " <matplotlib.axis.XTick at 0x1e523008940>,\n",
       " <matplotlib.axis.XTick at 0x1e523008f98>]"
      ]
     },
     "execution_count": 78,
     "metadata": {},
     "output_type": "execute_result"
    },
    {
     "data": {
      "image/png": "[encoded data removed]",
      "text/plain": [
       "<matplotlib.figure.Figure at 0x1e522eeb240>"
      ]
     },
     "metadata": {},
     "output_type": "display_data"
    }
   ],
   "source": [
    "ax = sales_time_brand[['BMW','Daihatsu', 'Isuzu', 'Toyota']].plot(title='Tren Penjualan per Brand', figsize=(20,7))\n",
    "ax.set_xticks(sales_time.index)"
   ]
  },
  {
   "cell_type": "code",
   "execution_count": 79,
   "metadata": {},
   "outputs": [],
   "source": [
    "sales_model_toyota = sales[(sales.Brand == 'Toyota') & (sales.Invoice_Year == 2017)].groupby(['Invoice_Year', 'Model']).sum()[['InvoicePrice']]\n",
    "sales_model_toyota['UnitSold'] = sales[(sales.Brand == 'Toyota') & (sales.Invoice_Year == 2017)].groupby(['Invoice_Year', 'Model']).count()[['InvoicePrice']]"
   ]
  },
  {
   "cell_type": "code",
   "execution_count": 80,
   "metadata": {},
   "outputs": [
    {
     "data": {
      "text/html": [
       "<div>\n",
       "<style scoped>\n",
       "    .dataframe tbody tr th:only-of-type {\n",
       "        vertical-align: middle;\n",
       "    }\n",
       "\n",
       "    .dataframe tbody tr th {\n",
       "        vertical-align: top;\n",
       "    }\n",
       "\n",
       "    .dataframe thead th {\n",
       "        text-align: right;\n",
       "    }\n",
       "</style>\n",
       "<table border=\"1\" class=\"dataframe\">\n",
       "  <thead>\n",
       "    <tr style=\"text-align: right;\">\n",
       "      <th></th>\n",
       "      <th></th>\n",
       "      <th>InvoicePrice</th>\n",
       "      <th>UnitSold</th>\n",
       "    </tr>\n",
       "    <tr>\n",
       "      <th>Invoice_Year</th>\n",
       "      <th>Model</th>\n",
       "      <th></th>\n",
       "      <th></th>\n",
       "    </tr>\n",
       "  </thead>\n",
       "  <tbody>\n",
       "    <tr>\n",
       "      <th rowspan=\"10\" valign=\"top\">2017</th>\n",
       "      <th>AGYA</th>\n",
       "      <td>7.611682e+08</td>\n",
       "      <td>6</td>\n",
       "    </tr>\n",
       "    <tr>\n",
       "      <th>ALPHARD</th>\n",
       "      <td>1.018700e+09</td>\n",
       "      <td>1</td>\n",
       "    </tr>\n",
       "    <tr>\n",
       "      <th>AVANZA</th>\n",
       "      <td>3.537055e+09</td>\n",
       "      <td>20</td>\n",
       "    </tr>\n",
       "    <tr>\n",
       "      <th>CALYA</th>\n",
       "      <td>5.083639e+08</td>\n",
       "      <td>4</td>\n",
       "    </tr>\n",
       "    <tr>\n",
       "      <th>HILUXSCD</th>\n",
       "      <td>2.074740e+08</td>\n",
       "      <td>1</td>\n",
       "    </tr>\n",
       "    <tr>\n",
       "      <th>INNOVA BENSIN</th>\n",
       "      <td>1.275466e+09</td>\n",
       "      <td>4</td>\n",
       "    </tr>\n",
       "    <tr>\n",
       "      <th>INNOVA DIESEL</th>\n",
       "      <td>1.290076e+09</td>\n",
       "      <td>4</td>\n",
       "    </tr>\n",
       "    <tr>\n",
       "      <th>NFORT4X2B</th>\n",
       "      <td>5.049000e+08</td>\n",
       "      <td>1</td>\n",
       "    </tr>\n",
       "    <tr>\n",
       "      <th>SIENTA</th>\n",
       "      <td>8.910124e+08</td>\n",
       "      <td>4</td>\n",
       "    </tr>\n",
       "    <tr>\n",
       "      <th>YARIS</th>\n",
       "      <td>2.149304e+08</td>\n",
       "      <td>1</td>\n",
       "    </tr>\n",
       "  </tbody>\n",
       "</table>\n",
       "</div>"
      ],
      "text/plain": [
       "                            InvoicePrice  UnitSold\n",
       "Invoice_Year Model                                \n",
       "2017         AGYA           7.611682e+08         6\n",
       "             ALPHARD        1.018700e+09         1\n",
       "             AVANZA         3.537055e+09        20\n",
       "             CALYA          5.083639e+08         4\n",
       "             HILUXSCD       2.074740e+08         1\n",
       "             INNOVA BENSIN  1.275466e+09         4\n",
       "             INNOVA DIESEL  1.290076e+09         4\n",
       "             NFORT4X2B      5.049000e+08         1\n",
       "             SIENTA         8.910124e+08         4\n",
       "             YARIS          2.149304e+08         1"
      ]
     },
     "execution_count": 80,
     "metadata": {},
     "output_type": "execute_result"
    }
   ],
   "source": [
    "sales_model_toyota"
   ]
  },
  {
   "cell_type": "code",
   "execution_count": 81,
   "metadata": {},
   "outputs": [],
   "source": [
    "sales_toyota = sales[(sales.Brand == 'Toyota') & (sales.Invoice_Year > 2014)]"
   ]
  },
  {
   "cell_type": "code",
   "execution_count": 82,
   "metadata": {},
   "outputs": [],
   "source": [
    "sales_daihatsu = sales[(sales.Brand == 'Daihatsu') & (sales.Invoice_Year > 2014)]"
   ]
  },
  {
   "cell_type": "code",
   "execution_count": 83,
   "metadata": {},
   "outputs": [
    {
     "data": {
      "text/plain": [
       "Text(0.5,1,'Top 10 Mobil Toyota Tahun 2015-2017')"
      ]
     },
     "execution_count": 83,
     "metadata": {},
     "output_type": "execute_result"
    },
    {
     "data": {
      "image/png": "[encoded data removed]",
      "text/plain": [
       "<matplotlib.figure.Figure at 0x1e523089860>"
      ]
     },
     "metadata": {},
     "output_type": "display_data"
    }
   ],
   "source": [
    "plt.figure(figsize=(20,6))\n",
    "sns.countplot(x='Model', data=sales_toyota,  order=sales_toyota.Model.value_counts().iloc[:10].index).set_title(\"Top 10 Mobil Toyota Tahun 2015-2017\")"
   ]
  },
  {
   "cell_type": "code",
   "execution_count": 57,
   "metadata": {},
   "outputs": [
    {
     "data": {
      "text/plain": [
       "Text(0.5,1,'Top 10 Mobil Daihatsu Tahun 2015-2017')"
      ]
     },
     "execution_count": 57,
     "metadata": {},
     "output_type": "execute_result"
    },
    {
     "data": {
      "image/png": "[encoded data removed]",
      "text/plain": [
       "<matplotlib.figure.Figure at 0x1e522eebfd0>"
      ]
     },
     "metadata": {},
     "output_type": "display_data"
    }
   ],
   "source": [
    "plt.figure(figsize=(20,6))\n",
    "sns.countplot(x='Model', data=sales_daihatsu, order=sales_daihatsu.Model.value_counts().iloc[:10].index).set_title(\"Top 10 Mobil Daihatsu Tahun 2015-2017\")"
   ]
  },
  {
   "cell_type": "code",
   "execution_count": 84,
   "metadata": {},
   "outputs": [],
   "source": [
    "sales_toyota_5 = sales_toyota[sales_toyota.Model.isin(['AVANZA', 'AGYA', 'INNOVA DIESEL', 'RUSH', 'INNOVA BENSIN', 'CALYA'])]"
   ]
  },
  {
   "cell_type": "code",
   "execution_count": 85,
   "metadata": {},
   "outputs": [],
   "source": [
    "sales_daihatsu_5 = sales_daihatsu[sales_daihatsu.Model.isin(['XENIA', 'GM PU', 'AYLA', 'TERIOS', 'SIGRA', 'GM BV'])]"
   ]
  },
  {
   "cell_type": "code",
   "execution_count": 86,
   "metadata": {},
   "outputs": [],
   "source": [
    "sales_toyota_5_time = sales_toyota_5[sales_toyota_5.Invoice_Year > 2014].groupby(['Invoice_Year', 'Model']).sum()[['InvoicePrice']]"
   ]
  },
  {
   "cell_type": "code",
   "execution_count": 87,
   "metadata": {},
   "outputs": [],
   "source": [
    "sales_toyota_5_time = sales_toyota_5_time.unstack()\n",
    "sales_toyota_5_time = sales_toyota_5_time['InvoicePrice']"
   ]
  },
  {
   "cell_type": "code",
   "execution_count": 88,
   "metadata": {},
   "outputs": [],
   "source": [
    "sales_toyota_5_time = sales_toyota_5_time.fillna(0)"
   ]
  },
  {
   "cell_type": "code",
   "execution_count": 89,
   "metadata": {},
   "outputs": [
    {
     "data": {
      "text/plain": [
       "[<matplotlib.axis.XTick at 0x1e52307bf60>,\n",
       " <matplotlib.axis.XTick at 0x1e523703198>,\n",
       " <matplotlib.axis.XTick at 0x1e52304eef0>,\n",
       " <matplotlib.axis.XTick at 0x1e52304ea90>]"
      ]
     },
     "execution_count": 89,
     "metadata": {},
     "output_type": "execute_result"
    },
    {
     "data": {
      "image/png": "[encoded data removed]",
      "text/plain": [
       "<matplotlib.figure.Figure at 0x1e523073390>"
      ]
     },
     "metadata": {},
     "output_type": "display_data"
    }
   ],
   "source": [
    "ax = sales_toyota_5_time[['AVANZA', 'AGYA', 'INNOVA DIESEL', 'RUSH', 'INNOVA BENSIN', 'CALYA']].plot(title='Tren Penjualan Toyota per Model tahun 2015-2018', figsize=(20,7))\n",
    "ax.set_xticks(sales_toyota_5_time.index)"
   ]
  },
  {
   "cell_type": "code",
   "execution_count": 90,
   "metadata": {},
   "outputs": [],
   "source": [
    "sales_daihatsu_5_time = sales_daihatsu_5[sales_daihatsu_5.Invoice_Year > 2014].groupby(['Invoice_Year', 'Model']).sum()[['InvoicePrice']]"
   ]
  },
  {
   "cell_type": "code",
   "execution_count": 91,
   "metadata": {},
   "outputs": [],
   "source": [
    "sales_daihatsu_5_time = sales_daihatsu_5_time.unstack()\n",
    "sales_daihatsu_5_time = sales_daihatsu_5_time['InvoicePrice']\n",
    "sales_daihatsu_5_time = sales_daihatsu_5_time.fillna(0)"
   ]
  },
  {
   "cell_type": "code",
   "execution_count": 92,
   "metadata": {},
   "outputs": [
    {
     "data": {
      "text/html": [
       "<div>\n",
       "<style scoped>\n",
       "    .dataframe tbody tr th:only-of-type {\n",
       "        vertical-align: middle;\n",
       "    }\n",
       "\n",
       "    .dataframe tbody tr th {\n",
       "        vertical-align: top;\n",
       "    }\n",
       "\n",
       "    .dataframe thead th {\n",
       "        text-align: right;\n",
       "    }\n",
       "</style>\n",
       "<table border=\"1\" class=\"dataframe\">\n",
       "  <thead>\n",
       "    <tr style=\"text-align: right;\">\n",
       "      <th>Model</th>\n",
       "      <th>AYLA</th>\n",
       "      <th>GM BV</th>\n",
       "      <th>GM PU</th>\n",
       "      <th>SIGRA</th>\n",
       "      <th>TERIOS</th>\n",
       "      <th>XENIA</th>\n",
       "    </tr>\n",
       "    <tr>\n",
       "      <th>Invoice_Year</th>\n",
       "      <th></th>\n",
       "      <th></th>\n",
       "      <th></th>\n",
       "      <th></th>\n",
       "      <th></th>\n",
       "      <th></th>\n",
       "    </tr>\n",
       "  </thead>\n",
       "  <tbody>\n",
       "    <tr>\n",
       "      <th>2015</th>\n",
       "      <td>9.587073e+08</td>\n",
       "      <td>92564545.0</td>\n",
       "      <td>1.282868e+09</td>\n",
       "      <td>0.000000e+00</td>\n",
       "      <td>290911810.0</td>\n",
       "      <td>1.720182e+09</td>\n",
       "    </tr>\n",
       "    <tr>\n",
       "      <th>2016</th>\n",
       "      <td>1.384438e+09</td>\n",
       "      <td>245175000.0</td>\n",
       "      <td>1.060891e+09</td>\n",
       "      <td>8.142077e+08</td>\n",
       "      <td>717235672.0</td>\n",
       "      <td>1.369401e+09</td>\n",
       "    </tr>\n",
       "    <tr>\n",
       "      <th>2017</th>\n",
       "      <td>2.254900e+08</td>\n",
       "      <td>214017273.0</td>\n",
       "      <td>9.753818e+08</td>\n",
       "      <td>1.738905e+09</td>\n",
       "      <td>419985336.0</td>\n",
       "      <td>1.404785e+09</td>\n",
       "    </tr>\n",
       "    <tr>\n",
       "      <th>2018</th>\n",
       "      <td>1.337500e+08</td>\n",
       "      <td>0.0</td>\n",
       "      <td>2.680000e+08</td>\n",
       "      <td>2.499500e+08</td>\n",
       "      <td>684900000.0</td>\n",
       "      <td>3.666500e+08</td>\n",
       "    </tr>\n",
       "  </tbody>\n",
       "</table>\n",
       "</div>"
      ],
      "text/plain": [
       "Model                 AYLA        GM BV         GM PU         SIGRA  \\\n",
       "Invoice_Year                                                          \n",
       "2015          9.587073e+08   92564545.0  1.282868e+09  0.000000e+00   \n",
       "2016          1.384438e+09  245175000.0  1.060891e+09  8.142077e+08   \n",
       "2017          2.254900e+08  214017273.0  9.753818e+08  1.738905e+09   \n",
       "2018          1.337500e+08          0.0  2.680000e+08  2.499500e+08   \n",
       "\n",
       "Model              TERIOS         XENIA  \n",
       "Invoice_Year                             \n",
       "2015          290911810.0  1.720182e+09  \n",
       "2016          717235672.0  1.369401e+09  \n",
       "2017          419985336.0  1.404785e+09  \n",
       "2018          684900000.0  3.666500e+08  "
      ]
     },
     "execution_count": 92,
     "metadata": {},
     "output_type": "execute_result"
    }
   ],
   "source": [
    "sales_daihatsu_5_time"
   ]
  },
  {
   "cell_type": "code",
   "execution_count": 93,
   "metadata": {},
   "outputs": [
    {
     "data": {
      "text/plain": [
       "[<matplotlib.axis.XTick at 0x1e522a5ce80>,\n",
       " <matplotlib.axis.XTick at 0x1e523703160>,\n",
       " <matplotlib.axis.XTick at 0x1e522e38eb8>,\n",
       " <matplotlib.axis.XTick at 0x1e522e496a0>]"
      ]
     },
     "execution_count": 93,
     "metadata": {},
     "output_type": "execute_result"
    },
    {
     "data": {
      "image/png": "[encoded data removed]",
      "text/plain": [
       "<matplotlib.figure.Figure at 0x1e5238bd320>"
      ]
     },
     "metadata": {},
     "output_type": "display_data"
    }
   ],
   "source": [
    "ax = sales_daihatsu_5_time[['XENIA', 'GM PU', 'AYLA', 'TERIOS', 'SIGRA', 'GM BV']].plot(title='Tren Penjualan Mobil Daihatsu per Model tahun 2015-2018', figsize=(20,7))\n",
    "ax.set_xticks(sales_daihatsu_5_time.index)"
   ]
  },
  {
   "cell_type": "code",
   "execution_count": 68,
   "metadata": {},
   "outputs": [
    {
     "data": {
      "text/plain": [
       "Text(0.5,1,'Banyak Pembelian Mobil Daihatsu per Pulau')"
      ]
     },
     "execution_count": 68,
     "metadata": {},
     "output_type": "execute_result"
    },
    {
     "data": {
      "image/png": "[encoded data removed]",
      "text/plain": [
       "<matplotlib.figure.Figure at 0x1e5234ee828>"
      ]
     },
     "metadata": {},
     "output_type": "display_data"
    }
   ],
   "source": [
    "plt.figure(figsize=(20,6))\n",
    "sns.countplot(x='Pulau', data=sales_daihatsu_5, order=sales_daihatsu_5.Pulau.value_counts().index, hue='Model').set_title('Banyak Pembelian Mobil Daihatsu per Pulau')"
   ]
  },
  {
   "cell_type": "code",
   "execution_count": 69,
   "metadata": {},
   "outputs": [
    {
     "data": {
      "text/plain": [
       "Text(0.5,1,'Banyak Pembelian Mobil Toyota per Pulau')"
      ]
     },
     "execution_count": 69,
     "metadata": {},
     "output_type": "execute_result"
    },
    {
     "data": {
      "image/png": "[encoded data removed]",
      "text/plain": [
       "<matplotlib.figure.Figure at 0x1e523458198>"
      ]
     },
     "metadata": {},
     "output_type": "display_data"
    }
   ],
   "source": [
    "plt.figure(figsize=(20,6))\n",
    "sns.countplot(x='Pulau', data=sales_toyota_5, order=sales_toyota_5.Pulau.value_counts().index, hue='Model').set_title('Banyak Pembelian Mobil Toyota per Pulau')"
   ]
  },
  {
   "cell_type": "code",
   "execution_count": null,
   "metadata": {},
   "outputs": [],
   "source": []
  }
 ],
 "metadata": {
  "kernelspec": {
   "display_name": "Python 3",
   "language": "python",
   "name": "python3"
  },
  "language_info": {
   "codemirror_mode": {
    "name": "ipython",
    "version": 3
   },
   "file_extension": ".py",
   "mimetype": "text/x-python",
   "name": "python",
   "nbconvert_exporter": "python",
   "pygments_lexer": "ipython3",
   "version": "3.6.6"
  }
 },
 "nbformat": 4,
 "nbformat_minor": 2
}
