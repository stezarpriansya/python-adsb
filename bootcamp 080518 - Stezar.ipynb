{
 "cells": [
  {
   "cell_type": "code",
   "execution_count": 22,
   "metadata": {},
   "outputs": [],
   "source": [
    "list1 = list(range(10))"
   ]
  },
  {
   "cell_type": "code",
   "execution_count": 111,
   "metadata": {},
   "outputs": [
    {
     "name": "stdout",
     "output_type": "stream",
     "text": [
      "Nomor 1\n"
     ]
    },
    {
     "data": {
      "text/plain": [
       "[5, 6, 7, 8, 9]"
      ]
     },
     "execution_count": 111,
     "metadata": {},
     "output_type": "execute_result"
    }
   ],
   "source": [
    "# Nomor 1 : Slice the list to contains 5th to 10th element\n",
    "print('Nomor 1')\n",
    "list1[5:10]"
   ]
  },
  {
   "cell_type": "code",
   "execution_count": 112,
   "metadata": {},
   "outputs": [
    {
     "name": "stdout",
     "output_type": "stream",
     "text": [
      "Nomor 2\n",
      "[['Anne', 'Tim'], ['Jimmy', 'Sarah'], ['Bella', 'Alain'], ['Sam', 'Neveen']]\n",
      "Nomor 3\n",
      "[2017, 2015, 2010, 2007]\n"
     ]
    }
   ],
   "source": [
    "list2=[[\"Anne\",\"Tim\",2017],[\"Jimmy\",\"Sarah\",2015],[\"Bella\",\"Alain\",2010],[\"Sam\",\"Neveen\", 2007]]\n",
    "# Nomor 2 :\n",
    "print('Nomor 2')\n",
    "list_couple = [[row[0], row[1]] for row in list2]\n",
    "print(list_couple)\n",
    "# Nomor 3 :\n",
    "print('Nomor 3')\n",
    "list_tahun = [row[2] for row in list2]\n",
    "print(list_tahun)"
   ]
  },
  {
   "cell_type": "code",
   "execution_count": 113,
   "metadata": {},
   "outputs": [
    {
     "name": "stdout",
     "output_type": "stream",
     "text": [
      "Nomor 4\n",
      "[326650.0, 834000.0, 347500.0, 382250.0, 417000.0]\n"
     ]
    }
   ],
   "source": [
    "# Nomor 4\n",
    "print('Nomor 4')\n",
    "price_usd=[23.5, 60.0, 25.0, 27.5, 30.0] \n",
    "rate = 13900\n",
    "print(list(map(lambda x: x * rate, price_usd)))"
   ]
  },
  {
   "cell_type": "code",
   "execution_count": 114,
   "metadata": {},
   "outputs": [
    {
     "name": "stdout",
     "output_type": "stream",
     "text": [
      "Nomor 5\n"
     ]
    }
   ],
   "source": [
    "# Nomor 5\n",
    "print('Nomor 5')\n",
    "def grade(score):\n",
    "    if score <= 40:\n",
    "        return 'Fail'\n",
    "    elif score > 60:\n",
    "        return 'Pass'\n",
    "    elif score > 40 & score <= 60:\n",
    "        return 'Remedi'\n",
    "    else:\n",
    "        return 'Other'"
   ]
  },
  {
   "cell_type": "code",
   "execution_count": 115,
   "metadata": {},
   "outputs": [
    {
     "name": "stdout",
     "output_type": "stream",
     "text": [
      "Nomor 6\n",
      "['Remedi', 'Pass', 'Remedi', 'Pass', 'Pass', 'Pass', 'Remedi', 'Pass', 'Remedi', 'Pass']\n"
     ]
    }
   ],
   "source": [
    "#Nomor 6\n",
    "print('Nomor 6')\n",
    "Score=[55,68,44,89,90,78,46,70,45,75]\n",
    "print(list(map(grade, Score)))"
   ]
  },
  {
   "cell_type": "code",
   "execution_count": 121,
   "metadata": {},
   "outputs": [
    {
     "name": "stdout",
     "output_type": "stream",
     "text": [
      "Nomor 8\n",
      "          W         X\n",
      "A  2.706850  0.628133\n",
      "B  0.651118 -0.319318\n",
      "Nomor 9\n",
      "          Z\n",
      "A  0.503826\n",
      "B  0.605965\n",
      "D  0.955057\n",
      "E  0.683509\n",
      "Nomor 10\n",
      "Empty DataFrame\n",
      "Columns: [X, Y]\n",
      "Index: []\n",
      "Nomor 11\n",
      "W    0.343858\n",
      "X    0.453764\n",
      "Y    0.452287\n",
      "Z    0.431871\n",
      "dtype: float64\n",
      "Nomor 12\n",
      "              Y         Z\n",
      "count  5.000000  5.000000\n",
      "mean   0.452287  0.431871\n",
      "std    1.454516  0.594708\n",
      "min   -0.933237 -0.589001\n",
      "25%   -0.848077  0.503826\n",
      "50%    0.528813  0.605965\n",
      "75%    0.907969  0.683509\n",
      "max    2.605967  0.955057\n",
      "Nomor 13\n",
      "          W         X         Y\n",
      "A  2.706850  0.628133  0.907969\n",
      "B  0.651118 -0.319318 -0.848077\n",
      "C -2.018168  0.740122  0.528813\n",
      "D  0.188695 -0.758872 -0.933237\n",
      "E  0.190794  1.978757  2.605967\n",
      "Nomor 14\n",
      "          W         X         Y\n",
      "A  2.706850  0.628133  0.907969\n",
      "B  0.651118 -0.319318 -0.848077\n",
      "C -2.018168  0.740122  0.528813\n",
      "D  0.188695 -0.758872 -0.933237\n",
      "Nomor 15\n",
      "          W         X         Y         V\n",
      "A  2.706850  0.628133  0.907969  3.334983\n",
      "B  0.651118 -0.319318 -0.848077  0.331800\n",
      "C -2.018168  0.740122  0.528813 -1.278046\n",
      "D  0.188695 -0.758872 -0.933237 -0.570177\n"
     ]
    }
   ],
   "source": [
    "import pandas as pd\n",
    "import numpy as np\n",
    "from numpy.random import randn\n",
    "np.random.seed(101)\n",
    "df = pd.DataFrame(randn(5,4), index='A B C D E'.split(), columns='W X Y Z'.split())\n",
    "# Nomor 8\n",
    "print('Nomor 8')\n",
    "print(df.loc[['A', 'B'], ['W', 'X']])\n",
    "# Nomor 9\n",
    "print('Nomor 9')\n",
    "print(df[df.W > 0][['Z']])\n",
    "# Nomor 10\n",
    "print('Nomor 10')\n",
    "dfB = df.loc[['B']]\n",
    "dfB = dfB[['X', 'Y']]\n",
    "print(dfB[dfB.Y > 0]) # Hasilnya kosong\n",
    "# Nomor 11\n",
    "print('Nomor 11')\n",
    "print(df.mean())\n",
    "# Nomor 12\n",
    "print('Nomor 12')\n",
    "print(df[['Y', 'Z']].describe())\n",
    "# Nomor 13\n",
    "print('Nomor 13')\n",
    "df = df.drop('Z', axis=1)\n",
    "print(df)\n",
    "# Nomor 14\n",
    "print('Nomor 14')\n",
    "df = df.drop(['E'])\n",
    "print(df)\n",
    "# Nomor 15\n",
    "print('Nomor 15')\n",
    "df['V'] = df['W'] + df['X']\n",
    "print(df)"
   ]
  }
 ],
 "metadata": {
  "kernelspec": {
   "display_name": "Python 3",
   "language": "python",
   "name": "python3"
  },
  "language_info": {
   "codemirror_mode": {
    "name": "ipython",
    "version": 3
   },
   "file_extension": ".py",
   "mimetype": "text/x-python",
   "name": "python",
   "nbconvert_exporter": "python",
   "pygments_lexer": "ipython3",
   "version": "3.6.4"
  }
 },
 "nbformat": 4,
 "nbformat_minor": 2
}
